{
 "cells": [
  {
   "cell_type": "code",
   "execution_count": 52,
   "id": "1454afb3-7318-4a2e-8a9d-68df4c6faa20",
   "metadata": {},
   "outputs": [],
   "source": [
    "import pandas as pd"
   ]
  },
  {
   "cell_type": "code",
   "execution_count": null,
   "id": "3341335b-4fd9-4814-9788-a6db7072ef10",
   "metadata": {},
   "outputs": [],
   "source": []
  },
  {
   "cell_type": "code",
   "execution_count": 53,
   "id": "8f2ede93-e51e-45f8-b8ee-96179977f6fe",
   "metadata": {},
   "outputs": [],
   "source": [
    "df=pd.read_csv(\"data.csv\")"
   ]
  },
  {
   "cell_type": "code",
   "execution_count": 54,
   "id": "c2da54e0-24aa-48aa-b23b-439a8ec899b6",
   "metadata": {},
   "outputs": [
    {
     "data": {
      "text/html": [
       "<div>\n",
       "<style scoped>\n",
       "    .dataframe tbody tr th:only-of-type {\n",
       "        vertical-align: middle;\n",
       "    }\n",
       "\n",
       "    .dataframe tbody tr th {\n",
       "        vertical-align: top;\n",
       "    }\n",
       "\n",
       "    .dataframe thead th {\n",
       "        text-align: right;\n",
       "    }\n",
       "</style>\n",
       "<table border=\"1\" class=\"dataframe\">\n",
       "  <thead>\n",
       "    <tr style=\"text-align: right;\">\n",
       "      <th></th>\n",
       "      <th>Reviewer Name</th>\n",
       "      <th>Review Title</th>\n",
       "      <th>Place of Review</th>\n",
       "      <th>Up Votes</th>\n",
       "      <th>Down Votes</th>\n",
       "      <th>Month</th>\n",
       "      <th>Review text</th>\n",
       "      <th>Ratings</th>\n",
       "    </tr>\n",
       "  </thead>\n",
       "  <tbody>\n",
       "    <tr>\n",
       "      <th>0</th>\n",
       "      <td>Kamal Suresh</td>\n",
       "      <td>Nice product</td>\n",
       "      <td>Certified Buyer, Chirakkal</td>\n",
       "      <td>889.0</td>\n",
       "      <td>64.0</td>\n",
       "      <td>Feb 2021</td>\n",
       "      <td>Nice product, good quality, but price is now r...</td>\n",
       "      <td>4</td>\n",
       "    </tr>\n",
       "    <tr>\n",
       "      <th>1</th>\n",
       "      <td>Flipkart Customer</td>\n",
       "      <td>Don't waste your money</td>\n",
       "      <td>Certified Buyer, Hyderabad</td>\n",
       "      <td>109.0</td>\n",
       "      <td>6.0</td>\n",
       "      <td>Feb 2021</td>\n",
       "      <td>They didn't supplied Yonex Mavis 350. Outside ...</td>\n",
       "      <td>1</td>\n",
       "    </tr>\n",
       "    <tr>\n",
       "      <th>2</th>\n",
       "      <td>A. S. Raja Srinivasan</td>\n",
       "      <td>Did not meet expectations</td>\n",
       "      <td>Certified Buyer, Dharmapuri</td>\n",
       "      <td>42.0</td>\n",
       "      <td>3.0</td>\n",
       "      <td>Apr 2021</td>\n",
       "      <td>Worst product. Damaged shuttlecocks packed in ...</td>\n",
       "      <td>1</td>\n",
       "    </tr>\n",
       "    <tr>\n",
       "      <th>3</th>\n",
       "      <td>Suresh Narayanasamy</td>\n",
       "      <td>Fair</td>\n",
       "      <td>Certified Buyer, Chennai</td>\n",
       "      <td>25.0</td>\n",
       "      <td>1.0</td>\n",
       "      <td>NaN</td>\n",
       "      <td>Quite O. K. , but nowadays  the quality of the...</td>\n",
       "      <td>3</td>\n",
       "    </tr>\n",
       "    <tr>\n",
       "      <th>4</th>\n",
       "      <td>ASHIK P A</td>\n",
       "      <td>Over priced</td>\n",
       "      <td>NaN</td>\n",
       "      <td>147.0</td>\n",
       "      <td>24.0</td>\n",
       "      <td>Apr 2016</td>\n",
       "      <td>Over pricedJust â?¹620 ..from retailer.I didn'...</td>\n",
       "      <td>1</td>\n",
       "    </tr>\n",
       "    <tr>\n",
       "      <th>...</th>\n",
       "      <td>...</td>\n",
       "      <td>...</td>\n",
       "      <td>...</td>\n",
       "      <td>...</td>\n",
       "      <td>...</td>\n",
       "      <td>...</td>\n",
       "      <td>...</td>\n",
       "      <td>...</td>\n",
       "    </tr>\n",
       "    <tr>\n",
       "      <th>8513</th>\n",
       "      <td>NaN</td>\n",
       "      <td>NaN</td>\n",
       "      <td>NaN</td>\n",
       "      <td>NaN</td>\n",
       "      <td>NaN</td>\n",
       "      <td>NaN</td>\n",
       "      <td>NaN</td>\n",
       "      <td>5</td>\n",
       "    </tr>\n",
       "    <tr>\n",
       "      <th>8514</th>\n",
       "      <td>NaN</td>\n",
       "      <td>NaN</td>\n",
       "      <td>NaN</td>\n",
       "      <td>NaN</td>\n",
       "      <td>NaN</td>\n",
       "      <td>NaN</td>\n",
       "      <td>NaN</td>\n",
       "      <td>2</td>\n",
       "    </tr>\n",
       "    <tr>\n",
       "      <th>8515</th>\n",
       "      <td>NaN</td>\n",
       "      <td>NaN</td>\n",
       "      <td>NaN</td>\n",
       "      <td>NaN</td>\n",
       "      <td>NaN</td>\n",
       "      <td>NaN</td>\n",
       "      <td>NaN</td>\n",
       "      <td>4</td>\n",
       "    </tr>\n",
       "    <tr>\n",
       "      <th>8516</th>\n",
       "      <td>NaN</td>\n",
       "      <td>NaN</td>\n",
       "      <td>NaN</td>\n",
       "      <td>NaN</td>\n",
       "      <td>NaN</td>\n",
       "      <td>NaN</td>\n",
       "      <td>NaN</td>\n",
       "      <td>1</td>\n",
       "    </tr>\n",
       "    <tr>\n",
       "      <th>8517</th>\n",
       "      <td>NaN</td>\n",
       "      <td>NaN</td>\n",
       "      <td>NaN</td>\n",
       "      <td>NaN</td>\n",
       "      <td>NaN</td>\n",
       "      <td>NaN</td>\n",
       "      <td>NaN</td>\n",
       "      <td>4</td>\n",
       "    </tr>\n",
       "  </tbody>\n",
       "</table>\n",
       "<p>8518 rows × 8 columns</p>\n",
       "</div>"
      ],
      "text/plain": [
       "               Reviewer Name               Review Title  \\\n",
       "0               Kamal Suresh               Nice product   \n",
       "1          Flipkart Customer     Don't waste your money   \n",
       "2     A. S. Raja Srinivasan   Did not meet expectations   \n",
       "3        Suresh Narayanasamy                       Fair   \n",
       "4                  ASHIK P A                Over priced   \n",
       "...                      ...                        ...   \n",
       "8513                     NaN                        NaN   \n",
       "8514                     NaN                        NaN   \n",
       "8515                     NaN                        NaN   \n",
       "8516                     NaN                        NaN   \n",
       "8517                     NaN                        NaN   \n",
       "\n",
       "                  Place of Review  Up Votes  Down Votes     Month  \\\n",
       "0      Certified Buyer, Chirakkal     889.0        64.0  Feb 2021   \n",
       "1      Certified Buyer, Hyderabad     109.0         6.0  Feb 2021   \n",
       "2     Certified Buyer, Dharmapuri      42.0         3.0  Apr 2021   \n",
       "3        Certified Buyer, Chennai      25.0         1.0       NaN   \n",
       "4                             NaN     147.0        24.0  Apr 2016   \n",
       "...                           ...       ...         ...       ...   \n",
       "8513                          NaN       NaN         NaN       NaN   \n",
       "8514                          NaN       NaN         NaN       NaN   \n",
       "8515                          NaN       NaN         NaN       NaN   \n",
       "8516                          NaN       NaN         NaN       NaN   \n",
       "8517                          NaN       NaN         NaN       NaN   \n",
       "\n",
       "                                            Review text  Ratings  \n",
       "0     Nice product, good quality, but price is now r...        4  \n",
       "1     They didn't supplied Yonex Mavis 350. Outside ...        1  \n",
       "2     Worst product. Damaged shuttlecocks packed in ...        1  \n",
       "3     Quite O. K. , but nowadays  the quality of the...        3  \n",
       "4     Over pricedJust â?¹620 ..from retailer.I didn'...        1  \n",
       "...                                                 ...      ...  \n",
       "8513                                                NaN        5  \n",
       "8514                                                NaN        2  \n",
       "8515                                                NaN        4  \n",
       "8516                                                NaN        1  \n",
       "8517                                                NaN        4  \n",
       "\n",
       "[8518 rows x 8 columns]"
      ]
     },
     "execution_count": 54,
     "metadata": {},
     "output_type": "execute_result"
    }
   ],
   "source": [
    "df"
   ]
  },
  {
   "cell_type": "code",
   "execution_count": 55,
   "id": "d2ac9fd0-99a9-4007-b2d0-81d551da4e98",
   "metadata": {},
   "outputs": [],
   "source": [
    "import mlflow"
   ]
  },
  {
   "cell_type": "code",
   "execution_count": null,
   "id": "afccfc7c-5bd3-4093-8bb8-eb9e6322382a",
   "metadata": {},
   "outputs": [],
   "source": []
  },
  {
   "cell_type": "code",
   "execution_count": 56,
   "id": "404555a6-5d62-446d-b189-5f25e029b8ce",
   "metadata": {},
   "outputs": [],
   "source": [
    "import mlflow"
   ]
  },
  {
   "cell_type": "code",
   "execution_count": 57,
   "id": "8a0dba9a-bc4c-49f1-9e35-3126e7a4774b",
   "metadata": {},
   "outputs": [
    {
     "data": {
      "text/plain": [
       "<Experiment: artifact_location='file:///C:/Users/sspon/Desktop/newmlops/mlruns/347661538141149473', creation_time=1711556496597, experiment_id='347661538141149473', last_update_time=1711556496597, lifecycle_stage='active', name='sentiment analysis', tags={}>"
      ]
     },
     "execution_count": 57,
     "metadata": {},
     "output_type": "execute_result"
    }
   ],
   "source": [
    "mlflow.set_experiment(\"sentiment analysis\")"
   ]
  },
  {
   "cell_type": "code",
   "execution_count": null,
   "id": "0e763825-298d-49e7-a484-6720c7cd4401",
   "metadata": {},
   "outputs": [],
   "source": []
  },
  {
   "cell_type": "code",
   "execution_count": null,
   "id": "ec4f2be3-3a4a-447d-8064-60c66d51232b",
   "metadata": {},
   "outputs": [],
   "source": []
  },
  {
   "cell_type": "code",
   "execution_count": null,
   "id": "0a4a7bb0-6591-42ba-82d2-bc004f3bb7d4",
   "metadata": {},
   "outputs": [],
   "source": []
  },
  {
   "cell_type": "code",
   "execution_count": null,
   "id": "0b0e9dff-f6cc-4fbe-beda-b1d3b7b8a851",
   "metadata": {},
   "outputs": [],
   "source": []
  },
  {
   "cell_type": "code",
   "execution_count": 58,
   "id": "7e7f7490-8ce0-4fc5-872a-124ea76807ad",
   "metadata": {},
   "outputs": [
    {
     "data": {
      "text/plain": [
       "Reviewer Name       10\n",
       "Review Title        10\n",
       "Place of Review     50\n",
       "Up Votes            10\n",
       "Down Votes          10\n",
       "Month              465\n",
       "Review text          8\n",
       "Ratings              0\n",
       "dtype: int64"
      ]
     },
     "execution_count": 58,
     "metadata": {},
     "output_type": "execute_result"
    }
   ],
   "source": [
    "df.isnull().sum()"
   ]
  },
  {
   "cell_type": "code",
   "execution_count": 59,
   "id": "38799871-6fe1-4044-8868-7ef75546273d",
   "metadata": {},
   "outputs": [
    {
     "data": {
      "text/html": [
       "<div>\n",
       "<style scoped>\n",
       "    .dataframe tbody tr th:only-of-type {\n",
       "        vertical-align: middle;\n",
       "    }\n",
       "\n",
       "    .dataframe tbody tr th {\n",
       "        vertical-align: top;\n",
       "    }\n",
       "\n",
       "    .dataframe thead th {\n",
       "        text-align: right;\n",
       "    }\n",
       "</style>\n",
       "<table border=\"1\" class=\"dataframe\">\n",
       "  <thead>\n",
       "    <tr style=\"text-align: right;\">\n",
       "      <th></th>\n",
       "      <th>Reviewer Name</th>\n",
       "      <th>Review Title</th>\n",
       "      <th>Place of Review</th>\n",
       "      <th>Up Votes</th>\n",
       "      <th>Down Votes</th>\n",
       "      <th>Month</th>\n",
       "      <th>Review text</th>\n",
       "      <th>Ratings</th>\n",
       "    </tr>\n",
       "  </thead>\n",
       "  <tbody>\n",
       "    <tr>\n",
       "      <th>0</th>\n",
       "      <td>Kamal Suresh</td>\n",
       "      <td>Nice product</td>\n",
       "      <td>Certified Buyer, Chirakkal</td>\n",
       "      <td>889.0</td>\n",
       "      <td>64.0</td>\n",
       "      <td>Feb 2021</td>\n",
       "      <td>Nice product, good quality, but price is now r...</td>\n",
       "      <td>4</td>\n",
       "    </tr>\n",
       "    <tr>\n",
       "      <th>1</th>\n",
       "      <td>Flipkart Customer</td>\n",
       "      <td>Don't waste your money</td>\n",
       "      <td>Certified Buyer, Hyderabad</td>\n",
       "      <td>109.0</td>\n",
       "      <td>6.0</td>\n",
       "      <td>Feb 2021</td>\n",
       "      <td>They didn't supplied Yonex Mavis 350. Outside ...</td>\n",
       "      <td>1</td>\n",
       "    </tr>\n",
       "    <tr>\n",
       "      <th>2</th>\n",
       "      <td>A. S. Raja Srinivasan</td>\n",
       "      <td>Did not meet expectations</td>\n",
       "      <td>Certified Buyer, Dharmapuri</td>\n",
       "      <td>42.0</td>\n",
       "      <td>3.0</td>\n",
       "      <td>Apr 2021</td>\n",
       "      <td>Worst product. Damaged shuttlecocks packed in ...</td>\n",
       "      <td>1</td>\n",
       "    </tr>\n",
       "    <tr>\n",
       "      <th>3</th>\n",
       "      <td>Suresh Narayanasamy</td>\n",
       "      <td>Fair</td>\n",
       "      <td>Certified Buyer, Chennai</td>\n",
       "      <td>25.0</td>\n",
       "      <td>1.0</td>\n",
       "      <td>NaN</td>\n",
       "      <td>Quite O. K. , but nowadays  the quality of the...</td>\n",
       "      <td>3</td>\n",
       "    </tr>\n",
       "    <tr>\n",
       "      <th>4</th>\n",
       "      <td>ASHIK P A</td>\n",
       "      <td>Over priced</td>\n",
       "      <td>NaN</td>\n",
       "      <td>147.0</td>\n",
       "      <td>24.0</td>\n",
       "      <td>Apr 2016</td>\n",
       "      <td>Over pricedJust â?¹620 ..from retailer.I didn'...</td>\n",
       "      <td>1</td>\n",
       "    </tr>\n",
       "  </tbody>\n",
       "</table>\n",
       "</div>"
      ],
      "text/plain": [
       "            Reviewer Name               Review Title  \\\n",
       "0            Kamal Suresh               Nice product   \n",
       "1       Flipkart Customer     Don't waste your money   \n",
       "2  A. S. Raja Srinivasan   Did not meet expectations   \n",
       "3     Suresh Narayanasamy                       Fair   \n",
       "4               ASHIK P A                Over priced   \n",
       "\n",
       "               Place of Review  Up Votes  Down Votes     Month  \\\n",
       "0   Certified Buyer, Chirakkal     889.0        64.0  Feb 2021   \n",
       "1   Certified Buyer, Hyderabad     109.0         6.0  Feb 2021   \n",
       "2  Certified Buyer, Dharmapuri      42.0         3.0  Apr 2021   \n",
       "3     Certified Buyer, Chennai      25.0         1.0       NaN   \n",
       "4                          NaN     147.0        24.0  Apr 2016   \n",
       "\n",
       "                                         Review text  Ratings  \n",
       "0  Nice product, good quality, but price is now r...        4  \n",
       "1  They didn't supplied Yonex Mavis 350. Outside ...        1  \n",
       "2  Worst product. Damaged shuttlecocks packed in ...        1  \n",
       "3  Quite O. K. , but nowadays  the quality of the...        3  \n",
       "4  Over pricedJust â?¹620 ..from retailer.I didn'...        1  "
      ]
     },
     "execution_count": 59,
     "metadata": {},
     "output_type": "execute_result"
    }
   ],
   "source": [
    "df.head()"
   ]
  },
  {
   "cell_type": "code",
   "execution_count": 60,
   "id": "4a6cc85b-a961-4763-a3a4-9341a18f688a",
   "metadata": {},
   "outputs": [
    {
     "name": "stdout",
     "output_type": "stream",
     "text": [
      "<class 'pandas.core.frame.DataFrame'>\n",
      "RangeIndex: 8518 entries, 0 to 8517\n",
      "Data columns (total 8 columns):\n",
      " #   Column           Non-Null Count  Dtype  \n",
      "---  ------           --------------  -----  \n",
      " 0   Reviewer Name    8508 non-null   object \n",
      " 1   Review Title     8508 non-null   object \n",
      " 2   Place of Review  8468 non-null   object \n",
      " 3   Up Votes         8508 non-null   float64\n",
      " 4   Down Votes       8508 non-null   float64\n",
      " 5   Month            8053 non-null   object \n",
      " 6   Review text      8510 non-null   object \n",
      " 7   Ratings          8518 non-null   int64  \n",
      "dtypes: float64(2), int64(1), object(5)\n",
      "memory usage: 532.5+ KB\n"
     ]
    }
   ],
   "source": [
    "df.info()"
   ]
  },
  {
   "cell_type": "code",
   "execution_count": 61,
   "id": "b37bfa5f-06d6-4720-bca6-024f684873b6",
   "metadata": {},
   "outputs": [
    {
     "data": {
      "text/html": [
       "<div>\n",
       "<style scoped>\n",
       "    .dataframe tbody tr th:only-of-type {\n",
       "        vertical-align: middle;\n",
       "    }\n",
       "\n",
       "    .dataframe tbody tr th {\n",
       "        vertical-align: top;\n",
       "    }\n",
       "\n",
       "    .dataframe thead th {\n",
       "        text-align: right;\n",
       "    }\n",
       "</style>\n",
       "<table border=\"1\" class=\"dataframe\">\n",
       "  <thead>\n",
       "    <tr style=\"text-align: right;\">\n",
       "      <th></th>\n",
       "      <th>Up Votes</th>\n",
       "      <th>Down Votes</th>\n",
       "      <th>Ratings</th>\n",
       "    </tr>\n",
       "  </thead>\n",
       "  <tbody>\n",
       "    <tr>\n",
       "      <th>count</th>\n",
       "      <td>8508.000000</td>\n",
       "      <td>8508.000000</td>\n",
       "      <td>8518.000000</td>\n",
       "    </tr>\n",
       "    <tr>\n",
       "      <th>mean</th>\n",
       "      <td>0.391396</td>\n",
       "      <td>0.121768</td>\n",
       "      <td>4.181028</td>\n",
       "    </tr>\n",
       "    <tr>\n",
       "      <th>std</th>\n",
       "      <td>11.613909</td>\n",
       "      <td>3.248022</td>\n",
       "      <td>1.262200</td>\n",
       "    </tr>\n",
       "    <tr>\n",
       "      <th>min</th>\n",
       "      <td>0.000000</td>\n",
       "      <td>0.000000</td>\n",
       "      <td>1.000000</td>\n",
       "    </tr>\n",
       "    <tr>\n",
       "      <th>25%</th>\n",
       "      <td>0.000000</td>\n",
       "      <td>0.000000</td>\n",
       "      <td>4.000000</td>\n",
       "    </tr>\n",
       "    <tr>\n",
       "      <th>50%</th>\n",
       "      <td>0.000000</td>\n",
       "      <td>0.000000</td>\n",
       "      <td>5.000000</td>\n",
       "    </tr>\n",
       "    <tr>\n",
       "      <th>75%</th>\n",
       "      <td>0.000000</td>\n",
       "      <td>0.000000</td>\n",
       "      <td>5.000000</td>\n",
       "    </tr>\n",
       "    <tr>\n",
       "      <th>max</th>\n",
       "      <td>889.000000</td>\n",
       "      <td>219.000000</td>\n",
       "      <td>5.000000</td>\n",
       "    </tr>\n",
       "  </tbody>\n",
       "</table>\n",
       "</div>"
      ],
      "text/plain": [
       "          Up Votes   Down Votes      Ratings\n",
       "count  8508.000000  8508.000000  8518.000000\n",
       "mean      0.391396     0.121768     4.181028\n",
       "std      11.613909     3.248022     1.262200\n",
       "min       0.000000     0.000000     1.000000\n",
       "25%       0.000000     0.000000     4.000000\n",
       "50%       0.000000     0.000000     5.000000\n",
       "75%       0.000000     0.000000     5.000000\n",
       "max     889.000000   219.000000     5.000000"
      ]
     },
     "execution_count": 61,
     "metadata": {},
     "output_type": "execute_result"
    }
   ],
   "source": [
    "df.describe()"
   ]
  },
  {
   "cell_type": "code",
   "execution_count": 62,
   "id": "e3cdbc7e-ff2b-4d4f-ae37-434850bcd44f",
   "metadata": {},
   "outputs": [],
   "source": [
    "df.dropna(inplace=True)"
   ]
  },
  {
   "cell_type": "code",
   "execution_count": 63,
   "id": "8246a9b5-86bb-4b9b-86a2-01a76e754192",
   "metadata": {},
   "outputs": [
    {
     "data": {
      "text/html": [
       "<div>\n",
       "<style scoped>\n",
       "    .dataframe tbody tr th:only-of-type {\n",
       "        vertical-align: middle;\n",
       "    }\n",
       "\n",
       "    .dataframe tbody tr th {\n",
       "        vertical-align: top;\n",
       "    }\n",
       "\n",
       "    .dataframe thead th {\n",
       "        text-align: right;\n",
       "    }\n",
       "</style>\n",
       "<table border=\"1\" class=\"dataframe\">\n",
       "  <thead>\n",
       "    <tr style=\"text-align: right;\">\n",
       "      <th></th>\n",
       "      <th>Reviewer Name</th>\n",
       "      <th>Review Title</th>\n",
       "      <th>Place of Review</th>\n",
       "      <th>Up Votes</th>\n",
       "      <th>Down Votes</th>\n",
       "      <th>Month</th>\n",
       "      <th>Review text</th>\n",
       "      <th>Ratings</th>\n",
       "    </tr>\n",
       "  </thead>\n",
       "  <tbody>\n",
       "    <tr>\n",
       "      <th>0</th>\n",
       "      <td>Kamal Suresh</td>\n",
       "      <td>Nice product</td>\n",
       "      <td>Certified Buyer, Chirakkal</td>\n",
       "      <td>889.0</td>\n",
       "      <td>64.0</td>\n",
       "      <td>Feb 2021</td>\n",
       "      <td>Nice product, good quality, but price is now r...</td>\n",
       "      <td>4</td>\n",
       "    </tr>\n",
       "    <tr>\n",
       "      <th>1</th>\n",
       "      <td>Flipkart Customer</td>\n",
       "      <td>Don't waste your money</td>\n",
       "      <td>Certified Buyer, Hyderabad</td>\n",
       "      <td>109.0</td>\n",
       "      <td>6.0</td>\n",
       "      <td>Feb 2021</td>\n",
       "      <td>They didn't supplied Yonex Mavis 350. Outside ...</td>\n",
       "      <td>1</td>\n",
       "    </tr>\n",
       "    <tr>\n",
       "      <th>2</th>\n",
       "      <td>A. S. Raja Srinivasan</td>\n",
       "      <td>Did not meet expectations</td>\n",
       "      <td>Certified Buyer, Dharmapuri</td>\n",
       "      <td>42.0</td>\n",
       "      <td>3.0</td>\n",
       "      <td>Apr 2021</td>\n",
       "      <td>Worst product. Damaged shuttlecocks packed in ...</td>\n",
       "      <td>1</td>\n",
       "    </tr>\n",
       "    <tr>\n",
       "      <th>5</th>\n",
       "      <td>Baji Sankar</td>\n",
       "      <td>Mind-blowing purchase</td>\n",
       "      <td>Certified Buyer, Hyderabad</td>\n",
       "      <td>173.0</td>\n",
       "      <td>45.0</td>\n",
       "      <td>Oct 2018</td>\n",
       "      <td>Good quality product. Delivered on time.READ MORE</td>\n",
       "      <td>5</td>\n",
       "    </tr>\n",
       "    <tr>\n",
       "      <th>6</th>\n",
       "      <td>Flipkart Customer</td>\n",
       "      <td>Must buy!</td>\n",
       "      <td>Certified Buyer, Doom Dooma</td>\n",
       "      <td>403.0</td>\n",
       "      <td>121.0</td>\n",
       "      <td>Jan 2020</td>\n",
       "      <td>BEST PURCHASE It is a good quality and is more...</td>\n",
       "      <td>5</td>\n",
       "    </tr>\n",
       "    <tr>\n",
       "      <th>...</th>\n",
       "      <td>...</td>\n",
       "      <td>...</td>\n",
       "      <td>...</td>\n",
       "      <td>...</td>\n",
       "      <td>...</td>\n",
       "      <td>...</td>\n",
       "      <td>...</td>\n",
       "      <td>...</td>\n",
       "    </tr>\n",
       "    <tr>\n",
       "      <th>8495</th>\n",
       "      <td>vishal kumar ashish</td>\n",
       "      <td>Nice</td>\n",
       "      <td>Certified Buyer, Haridwar</td>\n",
       "      <td>0.0</td>\n",
       "      <td>0.0</td>\n",
       "      <td>Oct 2016</td>\n",
       "      <td>Thanks to the delivery boy ... Service is alwa...</td>\n",
       "      <td>5</td>\n",
       "    </tr>\n",
       "    <tr>\n",
       "      <th>8496</th>\n",
       "      <td>Nitya Nand  Rai</td>\n",
       "      <td>Good choice</td>\n",
       "      <td>Certified Buyer, Raebareli</td>\n",
       "      <td>0.0</td>\n",
       "      <td>0.0</td>\n",
       "      <td>Oct 2016</td>\n",
       "      <td>Over priced even after 50% discount price is m...</td>\n",
       "      <td>1</td>\n",
       "    </tr>\n",
       "    <tr>\n",
       "      <th>8497</th>\n",
       "      <td>Tarun Reddy</td>\n",
       "      <td>Awesome</td>\n",
       "      <td>Certified Buyer</td>\n",
       "      <td>0.0</td>\n",
       "      <td>0.0</td>\n",
       "      <td>Oct 2016</td>\n",
       "      <td>Too much priced. It was getting me for Rs. 640...</td>\n",
       "      <td>1</td>\n",
       "    </tr>\n",
       "    <tr>\n",
       "      <th>8499</th>\n",
       "      <td>Jayachandra</td>\n",
       "      <td>High cost</td>\n",
       "      <td>Certified Buyer, Mangalore</td>\n",
       "      <td>0.0</td>\n",
       "      <td>0.0</td>\n",
       "      <td>Dec 2015</td>\n",
       "      <td>Hii flipkart customers care..why your delivery...</td>\n",
       "      <td>5</td>\n",
       "    </tr>\n",
       "    <tr>\n",
       "      <th>8507</th>\n",
       "      <td>vishnu varma</td>\n",
       "      <td>Really Nice</td>\n",
       "      <td>Certified Buyer, Agartala</td>\n",
       "      <td>0.0</td>\n",
       "      <td>1.0</td>\n",
       "      <td>Sep 2016</td>\n",
       "      <td>Nice delivery speedREAD MORE</td>\n",
       "      <td>5</td>\n",
       "    </tr>\n",
       "  </tbody>\n",
       "</table>\n",
       "<p>8013 rows × 8 columns</p>\n",
       "</div>"
      ],
      "text/plain": [
       "               Reviewer Name               Review Title  \\\n",
       "0               Kamal Suresh               Nice product   \n",
       "1          Flipkart Customer     Don't waste your money   \n",
       "2     A. S. Raja Srinivasan   Did not meet expectations   \n",
       "5                Baji Sankar      Mind-blowing purchase   \n",
       "6          Flipkart Customer                  Must buy!   \n",
       "...                      ...                        ...   \n",
       "8495     vishal kumar ashish                       Nice   \n",
       "8496         Nitya Nand  Rai                Good choice   \n",
       "8497             Tarun Reddy                    Awesome   \n",
       "8499             Jayachandra                  High cost   \n",
       "8507            vishnu varma                Really Nice   \n",
       "\n",
       "                  Place of Review  Up Votes  Down Votes     Month  \\\n",
       "0      Certified Buyer, Chirakkal     889.0        64.0  Feb 2021   \n",
       "1      Certified Buyer, Hyderabad     109.0         6.0  Feb 2021   \n",
       "2     Certified Buyer, Dharmapuri      42.0         3.0  Apr 2021   \n",
       "5      Certified Buyer, Hyderabad     173.0        45.0  Oct 2018   \n",
       "6     Certified Buyer, Doom Dooma     403.0       121.0  Jan 2020   \n",
       "...                           ...       ...         ...       ...   \n",
       "8495    Certified Buyer, Haridwar       0.0         0.0  Oct 2016   \n",
       "8496   Certified Buyer, Raebareli       0.0         0.0  Oct 2016   \n",
       "8497              Certified Buyer       0.0         0.0  Oct 2016   \n",
       "8499   Certified Buyer, Mangalore       0.0         0.0  Dec 2015   \n",
       "8507    Certified Buyer, Agartala       0.0         1.0  Sep 2016   \n",
       "\n",
       "                                            Review text  Ratings  \n",
       "0     Nice product, good quality, but price is now r...        4  \n",
       "1     They didn't supplied Yonex Mavis 350. Outside ...        1  \n",
       "2     Worst product. Damaged shuttlecocks packed in ...        1  \n",
       "5     Good quality product. Delivered on time.READ MORE        5  \n",
       "6     BEST PURCHASE It is a good quality and is more...        5  \n",
       "...                                                 ...      ...  \n",
       "8495  Thanks to the delivery boy ... Service is alwa...        5  \n",
       "8496  Over priced even after 50% discount price is m...        1  \n",
       "8497  Too much priced. It was getting me for Rs. 640...        1  \n",
       "8499  Hii flipkart customers care..why your delivery...        5  \n",
       "8507                       Nice delivery speedREAD MORE        5  \n",
       "\n",
       "[8013 rows x 8 columns]"
      ]
     },
     "execution_count": 63,
     "metadata": {},
     "output_type": "execute_result"
    }
   ],
   "source": [
    "df"
   ]
  },
  {
   "cell_type": "code",
   "execution_count": 64,
   "id": "dab4637a-82a1-41dc-8a23-17efe25eb976",
   "metadata": {},
   "outputs": [
    {
     "data": {
      "text/plain": [
       "Reviewer Name      0\n",
       "Review Title       0\n",
       "Place of Review    0\n",
       "Up Votes           0\n",
       "Down Votes         0\n",
       "Month              0\n",
       "Review text        0\n",
       "Ratings            0\n",
       "dtype: int64"
      ]
     },
     "execution_count": 64,
     "metadata": {},
     "output_type": "execute_result"
    }
   ],
   "source": [
    "df.isnull().sum()"
   ]
  },
  {
   "cell_type": "code",
   "execution_count": 65,
   "id": "5569917e-fb6a-401b-965e-09d8ec0f810b",
   "metadata": {},
   "outputs": [
    {
     "data": {
      "text/html": [
       "<div>\n",
       "<style scoped>\n",
       "    .dataframe tbody tr th:only-of-type {\n",
       "        vertical-align: middle;\n",
       "    }\n",
       "\n",
       "    .dataframe tbody tr th {\n",
       "        vertical-align: top;\n",
       "    }\n",
       "\n",
       "    .dataframe thead th {\n",
       "        text-align: right;\n",
       "    }\n",
       "</style>\n",
       "<table border=\"1\" class=\"dataframe\">\n",
       "  <thead>\n",
       "    <tr style=\"text-align: right;\">\n",
       "      <th></th>\n",
       "      <th>Reviewer Name</th>\n",
       "      <th>Review Title</th>\n",
       "      <th>Place of Review</th>\n",
       "      <th>Up Votes</th>\n",
       "      <th>Down Votes</th>\n",
       "      <th>Month</th>\n",
       "      <th>Review text</th>\n",
       "      <th>Ratings</th>\n",
       "    </tr>\n",
       "  </thead>\n",
       "  <tbody>\n",
       "    <tr>\n",
       "      <th>0</th>\n",
       "      <td>Kamal Suresh</td>\n",
       "      <td>Nice product</td>\n",
       "      <td>Certified Buyer, Chirakkal</td>\n",
       "      <td>889.0</td>\n",
       "      <td>64.0</td>\n",
       "      <td>Feb 2021</td>\n",
       "      <td>Nice product, good quality, but price is now r...</td>\n",
       "      <td>4</td>\n",
       "    </tr>\n",
       "    <tr>\n",
       "      <th>1</th>\n",
       "      <td>Flipkart Customer</td>\n",
       "      <td>Don't waste your money</td>\n",
       "      <td>Certified Buyer, Hyderabad</td>\n",
       "      <td>109.0</td>\n",
       "      <td>6.0</td>\n",
       "      <td>Feb 2021</td>\n",
       "      <td>They didn't supplied Yonex Mavis 350. Outside ...</td>\n",
       "      <td>1</td>\n",
       "    </tr>\n",
       "    <tr>\n",
       "      <th>2</th>\n",
       "      <td>A. S. Raja Srinivasan</td>\n",
       "      <td>Did not meet expectations</td>\n",
       "      <td>Certified Buyer, Dharmapuri</td>\n",
       "      <td>42.0</td>\n",
       "      <td>3.0</td>\n",
       "      <td>Apr 2021</td>\n",
       "      <td>Worst product. Damaged shuttlecocks packed in ...</td>\n",
       "      <td>1</td>\n",
       "    </tr>\n",
       "    <tr>\n",
       "      <th>5</th>\n",
       "      <td>Baji Sankar</td>\n",
       "      <td>Mind-blowing purchase</td>\n",
       "      <td>Certified Buyer, Hyderabad</td>\n",
       "      <td>173.0</td>\n",
       "      <td>45.0</td>\n",
       "      <td>Oct 2018</td>\n",
       "      <td>Good quality product. Delivered on time.READ MORE</td>\n",
       "      <td>5</td>\n",
       "    </tr>\n",
       "    <tr>\n",
       "      <th>6</th>\n",
       "      <td>Flipkart Customer</td>\n",
       "      <td>Must buy!</td>\n",
       "      <td>Certified Buyer, Doom Dooma</td>\n",
       "      <td>403.0</td>\n",
       "      <td>121.0</td>\n",
       "      <td>Jan 2020</td>\n",
       "      <td>BEST PURCHASE It is a good quality and is more...</td>\n",
       "      <td>5</td>\n",
       "    </tr>\n",
       "    <tr>\n",
       "      <th>...</th>\n",
       "      <td>...</td>\n",
       "      <td>...</td>\n",
       "      <td>...</td>\n",
       "      <td>...</td>\n",
       "      <td>...</td>\n",
       "      <td>...</td>\n",
       "      <td>...</td>\n",
       "      <td>...</td>\n",
       "    </tr>\n",
       "    <tr>\n",
       "      <th>8495</th>\n",
       "      <td>vishal kumar ashish</td>\n",
       "      <td>Nice</td>\n",
       "      <td>Certified Buyer, Haridwar</td>\n",
       "      <td>0.0</td>\n",
       "      <td>0.0</td>\n",
       "      <td>Oct 2016</td>\n",
       "      <td>Thanks to the delivery boy ... Service is alwa...</td>\n",
       "      <td>5</td>\n",
       "    </tr>\n",
       "    <tr>\n",
       "      <th>8496</th>\n",
       "      <td>Nitya Nand  Rai</td>\n",
       "      <td>Good choice</td>\n",
       "      <td>Certified Buyer, Raebareli</td>\n",
       "      <td>0.0</td>\n",
       "      <td>0.0</td>\n",
       "      <td>Oct 2016</td>\n",
       "      <td>Over priced even after 50% discount price is m...</td>\n",
       "      <td>1</td>\n",
       "    </tr>\n",
       "    <tr>\n",
       "      <th>8497</th>\n",
       "      <td>Tarun Reddy</td>\n",
       "      <td>Awesome</td>\n",
       "      <td>Certified Buyer</td>\n",
       "      <td>0.0</td>\n",
       "      <td>0.0</td>\n",
       "      <td>Oct 2016</td>\n",
       "      <td>Too much priced. It was getting me for Rs. 640...</td>\n",
       "      <td>1</td>\n",
       "    </tr>\n",
       "    <tr>\n",
       "      <th>8499</th>\n",
       "      <td>Jayachandra</td>\n",
       "      <td>High cost</td>\n",
       "      <td>Certified Buyer, Mangalore</td>\n",
       "      <td>0.0</td>\n",
       "      <td>0.0</td>\n",
       "      <td>Dec 2015</td>\n",
       "      <td>Hii flipkart customers care..why your delivery...</td>\n",
       "      <td>5</td>\n",
       "    </tr>\n",
       "    <tr>\n",
       "      <th>8507</th>\n",
       "      <td>vishnu varma</td>\n",
       "      <td>Really Nice</td>\n",
       "      <td>Certified Buyer, Agartala</td>\n",
       "      <td>0.0</td>\n",
       "      <td>1.0</td>\n",
       "      <td>Sep 2016</td>\n",
       "      <td>Nice delivery speedREAD MORE</td>\n",
       "      <td>5</td>\n",
       "    </tr>\n",
       "  </tbody>\n",
       "</table>\n",
       "<p>8013 rows × 8 columns</p>\n",
       "</div>"
      ],
      "text/plain": [
       "               Reviewer Name               Review Title  \\\n",
       "0               Kamal Suresh               Nice product   \n",
       "1          Flipkart Customer     Don't waste your money   \n",
       "2     A. S. Raja Srinivasan   Did not meet expectations   \n",
       "5                Baji Sankar      Mind-blowing purchase   \n",
       "6          Flipkart Customer                  Must buy!   \n",
       "...                      ...                        ...   \n",
       "8495     vishal kumar ashish                       Nice   \n",
       "8496         Nitya Nand  Rai                Good choice   \n",
       "8497             Tarun Reddy                    Awesome   \n",
       "8499             Jayachandra                  High cost   \n",
       "8507            vishnu varma                Really Nice   \n",
       "\n",
       "                  Place of Review  Up Votes  Down Votes     Month  \\\n",
       "0      Certified Buyer, Chirakkal     889.0        64.0  Feb 2021   \n",
       "1      Certified Buyer, Hyderabad     109.0         6.0  Feb 2021   \n",
       "2     Certified Buyer, Dharmapuri      42.0         3.0  Apr 2021   \n",
       "5      Certified Buyer, Hyderabad     173.0        45.0  Oct 2018   \n",
       "6     Certified Buyer, Doom Dooma     403.0       121.0  Jan 2020   \n",
       "...                           ...       ...         ...       ...   \n",
       "8495    Certified Buyer, Haridwar       0.0         0.0  Oct 2016   \n",
       "8496   Certified Buyer, Raebareli       0.0         0.0  Oct 2016   \n",
       "8497              Certified Buyer       0.0         0.0  Oct 2016   \n",
       "8499   Certified Buyer, Mangalore       0.0         0.0  Dec 2015   \n",
       "8507    Certified Buyer, Agartala       0.0         1.0  Sep 2016   \n",
       "\n",
       "                                            Review text  Ratings  \n",
       "0     Nice product, good quality, but price is now r...        4  \n",
       "1     They didn't supplied Yonex Mavis 350. Outside ...        1  \n",
       "2     Worst product. Damaged shuttlecocks packed in ...        1  \n",
       "5     Good quality product. Delivered on time.READ MORE        5  \n",
       "6     BEST PURCHASE It is a good quality and is more...        5  \n",
       "...                                                 ...      ...  \n",
       "8495  Thanks to the delivery boy ... Service is alwa...        5  \n",
       "8496  Over priced even after 50% discount price is m...        1  \n",
       "8497  Too much priced. It was getting me for Rs. 640...        1  \n",
       "8499  Hii flipkart customers care..why your delivery...        5  \n",
       "8507                       Nice delivery speedREAD MORE        5  \n",
       "\n",
       "[8013 rows x 8 columns]"
      ]
     },
     "execution_count": 65,
     "metadata": {},
     "output_type": "execute_result"
    }
   ],
   "source": [
    "df"
   ]
  },
  {
   "cell_type": "code",
   "execution_count": 66,
   "id": "cd6f4407-0c2b-43f0-a491-dd59f16b03d8",
   "metadata": {},
   "outputs": [
    {
     "data": {
      "text/plain": [
       "array(['Nice product', \"Don't waste your money\",\n",
       "       'Did not meet expectations', 'Mind-blowing purchase', 'Must buy!',\n",
       "       'Classy product', 'Great product', 'Just wow!',\n",
       "       'Terrific purchase', 'Worth every penny', 'Brilliant',\n",
       "       'I think it is duplicate', 'Slightly disappointed', 'Super!',\n",
       "       'Awesome', 'Highly recommended', 'Unsatisfactory', 'Fabulous!',\n",
       "       'Not good', 'Good choice', 'Best in the market!', 'Very Good',\n",
       "       'Absolute rubbish!', 'Worst experience ever!', 'Decent product',\n",
       "       'Really Nice', 'Utterly Disappointed', 'Horrible', 'Very poor',\n",
       "       'Worthless', 'Waste of money!', 'Not recommended at all',\n",
       "       'Terrible product', 'Good quality product', 'Just okay',\n",
       "       'Perfect product!', 'Duplicate product sold by RetailNet.',\n",
       "       'Delightful', 'Good for starters but not the best.', 'Wonderful',\n",
       "       'Simply awesome', 'Brand new and Genuine', 'Hated it!',\n",
       "       'Excellent', 'MAVIS 350', 'Excellent shuttlecocks', 'Terrific',\n",
       "       'Moderate', 'Could be way better', 'Useless product',\n",
       "       'Expected a better product', 'Does the job', 'Nice', 'Good',\n",
       "       'Pretty good', 'Fair', 'Bad quality', 'good', 'Value-for-money',\n",
       "       'very good', 'quality not same', 'Above-average product',\n",
       "       'Worth the money', 'Awesome Product',\n",
       "       'Faulty shuttle in book, is it genuine product?',\n",
       "       'Very good quality shuttles', 'Mind-blowing Delivery',\n",
       "       'Excellent... As Promised', 'Worth every penny (Excellent)',\n",
       "       'Nice!', 'Quality is lacking, suspect the genuinity', 'Best ',\n",
       "       'STURDY', 'good , but see which speed you are buying',\n",
       "       'Good product', 'Excellent ',\n",
       "       'Authenticated product by Sunrise barcode validation',\n",
       "       'Super Like Delivery Mechanism',\n",
       "       'Using in out door badminton game', 'Mmmm', 'its yonex',\n",
       "       'Packing was not good.', 'Nice one ', 'Worth', 'Prompt delivery',\n",
       "       'First time User', 'Not BAD', 'Genuine & Lowest price!', 'super ',\n",
       "       'Mr', 'Worst experience with Flipkart.', 'awesome shuttle',\n",
       "       'Better game play experience',\n",
       "       'Great shuttle but wised if it’s more durable', 'Happy.',\n",
       "       'playing with this since very long', '4', 'Good reliable shuttle!',\n",
       "       'Good one', 'Superb!', 'Yonex', 'Pretty nice', 'nice product',\n",
       "       'Super', 'Quality', 'Great quality and genuine price!!', 'Hi',\n",
       "       'Best For Practice',\n",
       "       'A Very Decent Choice with a reasonable price.', 'Best delivery',\n",
       "       'Good deal', 'Genuine product',\n",
       "       'Best shuttle for daily badminton practice',\n",
       "       'Shuttles are duplicate not a yonex',\n",
       "       'All shuttle is not good he is mixing', 'Disappointed. Duplicate.',\n",
       "       'Duplicate shuttles', 'Thank', 'Super.....', 'Worth it',\n",
       "       'Best shuttle to play', 'Genuine Product', 'Best Price..',\n",
       "       'Nice product with great delivery',\n",
       "       'Good product at reasonable prices.', 'Original', 'Best in class',\n",
       "       'Simply awesome and too good compared to price', 'Yones mavis 350',\n",
       "       'Lasting', 'Best Buy', 'Very nice shuttle', 'Nic', 'Its ok',\n",
       "       'Yonex rocks', 'Only for professionals', 'Yonex Mavis 350',\n",
       "       'shuttle awesome', 'A+', 'Nila Asangbam',\n",
       "       'Good 1 for intermediate players', 'Best quality', 'Nice shuttle',\n",
       "       'Low quality product', 'Superb',\n",
       "       'Great product at reasonable price', 'Superb!!!', 'Great shuttles',\n",
       "       'late delivery', 'Four Stars', 'Three Stars', 'One Star',\n",
       "       'Great for professional playing.', 'original product', 'Superior',\n",
       "       'Nice one', 'Shuttle yonex', 'NICE', 'Satisfied', 'osm',\n",
       "       'Very Nice', 'not that good',\n",
       "       'Fast delivery... Product is as expected', 'Sorry',\n",
       "       'Durable product', 'Buy it', 'Thanks', 'Vj', 'Average',\n",
       "       'good and the best one for daily use',\n",
       "       'Finally an original version',\n",
       "       'Nice product and even better service by FK', 'Nice and sober',\n",
       "       'Average Quality', 'Product Order Get Cancelled', 'Quick Delivery',\n",
       "       'Counterfeit Product, Not recommended at all.',\n",
       "       'Genuine and sealed pack.', 'Five Stars', 'OVERPRICED..',\n",
       "       'Best delivery system', 'duplicate shuttle from the seller',\n",
       "       'Delivery @ LIGHTENING SPEED', 'Very poor service.', 'High cost'],\n",
       "      dtype=object)"
      ]
     },
     "execution_count": 66,
     "metadata": {},
     "output_type": "execute_result"
    }
   ],
   "source": [
    "df['Review Title'].unique()"
   ]
  },
  {
   "cell_type": "code",
   "execution_count": 67,
   "id": "b3aaaa8d-2b60-4c33-b54a-f9cc3963ccd8",
   "metadata": {},
   "outputs": [
    {
     "data": {
      "text/plain": [
       "array([4, 1, 5, 2, 3], dtype=int64)"
      ]
     },
     "execution_count": 67,
     "metadata": {},
     "output_type": "execute_result"
    }
   ],
   "source": [
    "df['Ratings'].unique()"
   ]
  },
  {
   "cell_type": "code",
   "execution_count": 68,
   "id": "566d73ff-f1bf-402f-beae-0e818ac99b3c",
   "metadata": {},
   "outputs": [
    {
     "data": {
      "text/plain": [
       "True"
      ]
     },
     "execution_count": 68,
     "metadata": {},
     "output_type": "execute_result"
    }
   ],
   "source": [
    "df['Ratings'][0]>3"
   ]
  },
  {
   "cell_type": "code",
   "execution_count": 69,
   "id": "0edd5fda-f6cd-4421-b4a8-a49154e63513",
   "metadata": {
    "scrolled": true
   },
   "outputs": [
    {
     "data": {
      "text/plain": [
       "4"
      ]
     },
     "execution_count": 69,
     "metadata": {},
     "output_type": "execute_result"
    }
   ],
   "source": [
    "df['Ratings'][0]"
   ]
  },
  {
   "cell_type": "code",
   "execution_count": 70,
   "id": "1e1adbd4-a29e-428a-a8f7-61c814a9efde",
   "metadata": {},
   "outputs": [],
   "source": [
    "mid=3"
   ]
  },
  {
   "cell_type": "code",
   "execution_count": 71,
   "id": "56c3023a-bace-4301-8939-9ab78556d98a",
   "metadata": {},
   "outputs": [],
   "source": [
    "review=[]"
   ]
  },
  {
   "cell_type": "code",
   "execution_count": 72,
   "id": "34781d66-8a17-4a1a-8a37-1d27c45d5105",
   "metadata": {},
   "outputs": [
    {
     "data": {
      "text/plain": [
       "0       4\n",
       "1       1\n",
       "2       1\n",
       "5       5\n",
       "6       5\n",
       "       ..\n",
       "8495    5\n",
       "8496    1\n",
       "8497    1\n",
       "8499    5\n",
       "8507    5\n",
       "Name: Ratings, Length: 8013, dtype: int64"
      ]
     },
     "execution_count": 72,
     "metadata": {},
     "output_type": "execute_result"
    }
   ],
   "source": [
    "df.Ratings"
   ]
  },
  {
   "cell_type": "code",
   "execution_count": null,
   "id": "c34c735b-9bf7-49de-9ebd-cebc60bbaf14",
   "metadata": {
    "scrolled": true
   },
   "outputs": [],
   "source": []
  },
  {
   "cell_type": "code",
   "execution_count": 73,
   "id": "c2e97be9-1049-41ab-8e48-7800743aba3a",
   "metadata": {},
   "outputs": [],
   "source": [
    "l=[]"
   ]
  },
  {
   "cell_type": "code",
   "execution_count": 74,
   "id": "2afde6ac-0523-4a2f-8b22-3c62d312df54",
   "metadata": {},
   "outputs": [],
   "source": [
    "for i in range(len(df['Ratings'])):\n",
    "    if int(df['Ratings'].iloc[i]) >= 4:\n",
    "        l.append('positive')\n",
    "    else:\n",
    "        l.append('negative')"
   ]
  },
  {
   "cell_type": "code",
   "execution_count": 75,
   "id": "e243697e-01e3-4630-9f20-d20b4a3f217f",
   "metadata": {},
   "outputs": [
    {
     "data": {
      "text/plain": [
       "8013"
      ]
     },
     "execution_count": 75,
     "metadata": {},
     "output_type": "execute_result"
    }
   ],
   "source": [
    "len(l)"
   ]
  },
  {
   "cell_type": "code",
   "execution_count": 76,
   "id": "3a0f2284-f1ad-4553-a001-e4e5486e68be",
   "metadata": {},
   "outputs": [],
   "source": [
    "df['re']=l"
   ]
  },
  {
   "cell_type": "code",
   "execution_count": 77,
   "id": "3cf5a62a-7d17-40ec-9fe4-a14c5dc1b22c",
   "metadata": {},
   "outputs": [
    {
     "data": {
      "text/plain": [
       "0       positive\n",
       "1       negative\n",
       "2       negative\n",
       "5       positive\n",
       "6       positive\n",
       "          ...   \n",
       "8495    positive\n",
       "8496    negative\n",
       "8497    negative\n",
       "8499    positive\n",
       "8507    positive\n",
       "Name: re, Length: 8013, dtype: object"
      ]
     },
     "execution_count": 77,
     "metadata": {},
     "output_type": "execute_result"
    }
   ],
   "source": [
    "df['re']"
   ]
  },
  {
   "cell_type": "code",
   "execution_count": 78,
   "id": "0f246e28-d7ef-46d9-a033-a2d3e52d59cf",
   "metadata": {},
   "outputs": [
    {
     "data": {
      "text/plain": [
       "Reviewer Name      0\n",
       "Review Title       0\n",
       "Place of Review    0\n",
       "Up Votes           0\n",
       "Down Votes         0\n",
       "Month              0\n",
       "Review text        0\n",
       "Ratings            0\n",
       "re                 0\n",
       "dtype: int64"
      ]
     },
     "execution_count": 78,
     "metadata": {},
     "output_type": "execute_result"
    }
   ],
   "source": [
    "df.isnull().sum()"
   ]
  },
  {
   "cell_type": "code",
   "execution_count": 79,
   "id": "640bb4d9-b2c3-4e2d-bded-c35ea2bce3d8",
   "metadata": {},
   "outputs": [
    {
     "ename": "ModuleNotFoundError",
     "evalue": "No module named 'wordcloud'",
     "output_type": "error",
     "traceback": [
      "\u001b[1;31m---------------------------------------------------------------------------\u001b[0m",
      "\u001b[1;31mModuleNotFoundError\u001b[0m                       Traceback (most recent call last)",
      "Cell \u001b[1;32mIn[79], line 1\u001b[0m\n\u001b[1;32m----> 1\u001b[0m \u001b[38;5;28;01mfrom\u001b[39;00m \u001b[38;5;21;01mwordcloud\u001b[39;00m \u001b[38;5;28;01mimport\u001b[39;00m WordCloud\n\u001b[0;32m      2\u001b[0m \u001b[38;5;28;01mimport\u001b[39;00m \u001b[38;5;21;01mmatplotlib\u001b[39;00m\u001b[38;5;21;01m.\u001b[39;00m\u001b[38;5;21;01mpyplot\u001b[39;00m \u001b[38;5;28;01mas\u001b[39;00m \u001b[38;5;21;01mplt\u001b[39;00m\n\u001b[0;32m      4\u001b[0m \u001b[38;5;28;01mdef\u001b[39;00m \u001b[38;5;21mcreate_wordcloud\u001b[39m(text):\n",
      "\u001b[1;31mModuleNotFoundError\u001b[0m: No module named 'wordcloud'"
     ]
    }
   ],
   "source": [
    "from wordcloud import WordCloud\n",
    "import matplotlib.pyplot as plt\n",
    "\n",
    "def create_wordcloud(text):\n",
    "    wordcloud = WordCloud(width=800, height=400, background_color='black').generate(text)\n",
    "    plt.figure(figsize=(10, 5))\n",
    "    plt.imshow(wordcloud, interpolation='bilinear')\n",
    "    plt.axis('off')\n",
    "    plt.show()\n",
    "\n",
    "\n"
   ]
  },
  {
   "cell_type": "code",
   "execution_count": null,
   "id": "c8365e3c-7a42-4f5a-8bc7-699dfb4482ae",
   "metadata": {},
   "outputs": [],
   "source": [
    "combined_text = ' '.join(df['Review text'])\n",
    "print(combined_text)\n",
    "create_wordcloud(combined_text)"
   ]
  },
  {
   "cell_type": "code",
   "execution_count": null,
   "id": "5ad25141-4def-4a66-9841-e795a8933f5b",
   "metadata": {},
   "outputs": [
    {
     "data": {
      "text/plain": [
       "'Nice product, good quality, but price is now rising which is a bad sign. 800-850 was an affordable price, especially when we play everyday. So kindly help us out in terms of the price. Thank You.READ MORE They didn\\'t supplied Yonex Mavis 350. Outside cover was Yonex Ad inside was a cheapest....  Sad to hear this.READ MORE Worst product. Damaged shuttlecocks packed in new box. It\\'s not a original yonex product. Don\\'t buy.flipkart platform is chosen to fraud the buyers.READ MORE Good quality product. Delivered on time.READ MORE BEST PURCHASE It is a good quality and is more durable than any average shuttle. And shipping was goodREAD MORE Good quality original shuttles.READ MORE AwesomeREAD MORE nice original productsREAD MORE This GREEN CAP SHUTTLECOCK is really AWESOME. Quality is BEST and GOOD PACKING.This GREEN CAP SHUTTLECOCK is played at WARM CONDITIONS.Worth for MONEY. Simply LOVED it.....READ MORE Best in class....READ MORE it\\'s genuine and price is less than our near by shopREAD MORE This is the second time i am getting an opened bundle of Yonex mavis 350 shuttle. I really believe this is not an original product, or someone may have switched the shuttle inside the bundle. Don\\'t buy from flipkart. I am gonna return this product.READ MORE really satisfied with the quality and the prompt delivery.....happy customer of Flipkart 👍READ MORE NycREAD MORE I usually buy them the same model but this did not last even for a dayREAD MORE Poor quality, not originalREAD MORE Delivered on expected timeREAD MORE nice and original productREAD MORE Very nice and Good price compare then local sports.READ MORE It\\'s perfect. Go for it. Yonex will never disappoint you. Pros - 1. The feather might look little cheap at first glance but it ain\\'t like that. The quality it best.2. The bottom cork is so amazing. We play in an open court and it perfectly glides around. Balanced base. 3. The durability seems to go fine. No issues on that. We (intermediate players) have been using one shuttle since 2 days now. Cons - 1. Slightly on a higher range. 2. If you use 30lbs + BG 65 or 98 racquet then it\\'s p...READ MORE superbREAD MORE Looked like defective once, without balance, had to throw 4 out of 6.READ MORE Genuine product at very reasonable price....got for Rs 630/-READ MORE Good sealed Original Yonex ShuttlesREAD MORE They are not as expected...the head  portion break very soon...defective pieces..READ MORE I am giving 4 star only for its price hike. Please anyone suggest any other shuttle cork for same performance with lower price.READ MORE quality is pooverREAD MORE good productREAD MORE Good product.....READ MORE Received in good condition...am really satisfied with the product.But I am not satisfied with those delivery boys who always does not have coins in return...it means that we are paying extra money for our item. They also know this opportunity so they never have coins to return...I really dont like this kind of selfishness!READ MORE shuttle is over rotatingREAD MORE Very bad quality.READ MORE Worst quality after 2 or 3 shots the ball started to rotate.READ MORE Not expecting this kind of products from flipkart.READ MORE No one better shuttles in the market.good quality and reasonable price.READ MORE low qualityREAD MORE Superb quality... And best price.. Thanks to flipkart..!READ MORE second quality shuttles .. don\\'t buy it... all are almost torn and shaped out... worst experience... go and buy in shop which costs around 750-800READ MORE I don\\'t think it is genuine cos I had it checked on the official website of yonex with the hologram number. Yet product is not bad and it does the job well. I will definitely be comparing this one with an original one from a shop near by and let others know the difference if any.READ MORE I\\'ve Received 6 duplicate n cheapest balls ,kept inside a broken box, which it was done deleberately. Worst experience, I\\'ve ever had with Flipkart. Can buy anything, except badminton yonex mavis 350.READ MORE Quality is not good, rejected qualityREAD MORE This green cap shuttle is very good for indoor as well as outdoor play. Though it has a slow speed and is durable. Thanks for a great dealREAD MORE Really Nice productQuick delivery Thanks filpkartREAD MORE Very nice shuttleREAD MORE Horrible product....each shuttle didn\\'t last even I single day....Extremely poor quality..PatheticREAD MORE Quality very low. Not orginalREAD MORE WorstREAD MORE Their is difference in online quality and market quality. local market products is far better than online productsREAD MORE Dont but it.... worst productREAD MORE Low quality very bad quality 😡READ MORE The Product is not original, the cork used to come out within 2 days of its use. Please don\\'t buy these shuttles it\\'s not original. Rather buy from the shop itself, the shop rates are the same.READ MORE Quality was not good as earlier also the manufactur date also very long back. Earlier shuttlecocks I received with max past month manufacturer. But now that also too back.READ MORE Not genuine productREAD MORE Waste productREAD MORE I have used same shuttle before. This item is not the same quality. It\\'s to slow. Disappointed that time.READ MORE Very High PriceREAD MORE Bad bad , compare to ah year back coming mavis 350READ MORE The yonex Mavis 350 is the best among all the yonex shuttlecocks. I am playing with it for more than one year. But the price is increasing unnecessarily, it was Rs. 729 in the last year.READ MORE Very bad product quality i have used 3shuttle in only 3days Totally wastage of money Copied productREAD MORE All shuttle\\'s were heavier than the specifications. It felt like we were playing with a cheap rip off of the original MAVIS 350READ MORE 3rd class quality  I want Returns but time is overREAD MORE Worst shuttle ever. The shuttles started spinning after few shots and did not even come for a game.READ MORE Certain corks are damaged. Certain corks are not even came for 2 matchesREAD MORE Very bad quality 👎READ MORE Not expected qualityREAD MORE Bad quality.... couldn\\'t play 1hr  by an shuttleREAD MORE not durable. very poor qualityREAD MORE but price is littel bit highREAD MORE GoodREAD MORE NiceREAD MORE not the required one.READ MORE This product is not original.please avoid online purchase.READ MORE One shuttle was damaged and vobling..let me know what to doREAD MORE Good quality productREAD MORE Good shuttle and  classic productREAD MORE got defective piecesREAD MORE bad packing, unsatisfiedREAD MORE Pros1. Quality product by yonex.It is original.2. Shuttle runs very long.3. Prompt delivery by flipkart.4. Shuttle is durable.Cons1.NoneREAD MORE good quality..  nice product..  thanks fpr fast deliveryREAD MORE Nice cockeREAD MORE Good qualityREAD MORE Scratch code mentioned in the barrel was verified in Yonex - Sunrise website. It mentioned that the product was duplicate.READ MORE it\\'s awsm 😎READ MORE reasonable priceREAD MORE Excellent Product , Its 100% original product which i have received , Fast Delivery , No second tough go for it.....READ MORE One of the best offer given by My flipkart. best shuttle for tournaments and training. Always use this type of shuttles for play. No.1- yonex 350mavis Green. thanks to flipkart for best deal . always put these type of deal . i have booked for 599 only.......READ MORE good . no question about it . lasting for 15-20 matches . but you can purchase yonex mavis 350 blue one . little bit fast but good for smash , lasting same like green capREAD MORE Mavis 350 is quite durable and and really good for starters. But I recommend Mavis 500 for best practice sessions.READ MORE Received product before committed time. Thanks flipkart... This mavis 350 is really awesome product. It doesn\\'t matter whether you are beginners, intermediate or advanced level of player this mavis 350 is definitely perfectly works for all. I am playing with this from last 2 years.READ MORE Good ,very nicely packed and everyshuttle was very nice insude with perfect flight.READ MORE got this product earlier than expected at Rs689 on 7 th april 2018  on sale. box was properly sealed with Feb2018 packing/import date i m not sure but Mrp was 1040. so, for me it was way cheaper than market price here (Rs 750 per box). I also checked popular websites but no one was close to Flipkart at that point. I always use Mavis 350 green cap for its stability, durability and speed in open court. Thanks Flipkart, hoping cheaper deal again.READ MORE This is the best choice for people who wants to practice both indoor and outdoor badminton and not get into financial obligations of feather shuttle. Mavis 300 is hard to find at times, so 350 is a savior as it\\'s always available. Yellow ones are a bit better for outdoor and white is fine indoors because of their respective colours against the given backdrop. Flipkart has offered best price in almost all season so far. Longevity of the shuttles are starkly less when played with at outdoor due...READ MORE After a long time, got an entire box of genuine shuttles. Dynamic pricing strategy is a big no. Everyday prices can\\'t go up and down. Otherwise we would be more than happy to buy.READ MORE very good product n durable but not good enough speed slows down little in mid airREAD MORE The shuttles were imported in February 2018 (bought March last) and the serial number revealed after scratching the sticker shows that the item is genuine. Did not start to play yet. But the items look good and sturdy. Got it for 708 and i think it is worth for the price. Also happy to get the items delivered quickly.READ MORE Best shuttlecocks... It\\'s life is far better than li ning or any other shuttle in this price range... I purchased it from rs654  during sale... It\\'s flight is also better than other shuttlecocksREAD MORE Good n Nice balanced shuttles... Thanks retailnet n flipkart.. Hope we\\'l get more convincing rates of lowered one...READ MORE This shuttle is the best one, it is excellent 👍 price doesn\\'t matter ❤️READ MORE Quality  very bad,per day one cork finished,may be it look like duplicate  mavis 350 corks.I purchased  many cork boxes  from all sellers.that all cork  boxes  comes  15 days  for playing, but this box stays only 6 days ,so you understand  how delicate this cork box  isREAD MORE Cost is too high I hate the productREAD MORE Very poor quality...inconsistent speed...poor flightREAD MORE Yonex is always best in quality....READ MORE worst shuttle... these doesn\\'t last even for a day... very poor quality... not sure if it is due to stock issue or is that a copy product... I would never buy this through flipkart...READ MORE i have used this product. good for economic use. Durable and good balance. long lasting, even sustains wrong shots. Quiet economic when compared with Feather Shuttles.READ MORE I\\'m very happy with this product and its quality. It arrived before its actual delivery date given. Thanks Flipkart for your quick delivery.  I recommended it to everyone who would like to enjoy a longer and satisfied games.READ MORE Amazing shuttlecockDurable and of best qualityGo for it.READ MORE checked at Sunrisetnt.com . found genuineREAD MORE Horrible!!! In my 1st order I received Mavis 200i which was not sealed and the bill was of Mavis 350 I thought it was mistake then i asked for replacement in replacement I received box of Mavis 350 which was again not sealed and inside were cheap shuttles of local quality. Do not buy from Flipkart.READ MORE AverageREAD MORE Excellent synthetic shuttles from Yonex. I have used 350s, 500s as well as 2000s. I prefer these yellow ones for the visibility. In general the 350s are quite durable and long lasting (one shuttle can easily last half a dozen to a dozen intense games before the flight becomes unacceptable), and i found them to travel shorter distances than the 2000s and therefore prefer them.READ MORE Best shuttle available in the market. I have not used any other shuttles till now. So not aware of a better shuttle.The price I got it from Flipkart is really the best price. I have researched checking other online stores and sports shops. This is definitely the best price I could find.READ MORE Bad quality, i have pirchase 4 boxes but all are very fast.READ MORE Best shuttle available online no more discription needed.READ MORE long lasting product.....nice product....READ MORE best shuttleREAD MORE 🏸Good Quality... 🏸READ MORE Fabulous itemREAD MORE Nice quality.Very good product.I am very much thankful to Flipkart and the Courier company for delivering me so quickly.I am very happy.And I will definitely tell to my friends to order this product.READ MORE It\\'s is good product and the service was very goodREAD MORE 2nd qualityREAD MORE Local productREAD MORE Very old stock.. not lasts to even 5 gamesREAD MORE All shuttles are not good in view of balance.READ MORE OkREAD MORE Nice product all suttles are good 🥰🥰READ MORE Nice productREAD MORE Old one onlyREAD MORE Super ballREAD MORE According to cost it\\'s average lifeREAD MORE So worstREAD MORE 👎👎👎👎👎👎👎👎👎👎👎👎👎👎👎👎👎👎👎👎👎👎👎👎👎👎👎👎👎👎👎👎👎👎👎👎👎👎👎👎👎👎👎👎👎👎👎👎👎👎👎👎👎👎👎👎👎👎👎👎👎👎👎👎👎👎👎👎👎👎👎👎👎👎👎👎👎👎👎👎👎👎👎👎👎👎👎👎👎👎👎👎👎👎👎👎👎👎👎👎👎👎👎👎👎Poor quality 👎👎👎👎👎👎👎👎👎👎👎👎👎👎👎👎READ MORE Quality not good              It was broken after 2 matchREAD MORE Nice product but damage in 1 daysREAD MORE Not good at all this is the worst product I have bought at flipkartREAD MORE Low quality. Not durabalityREAD MORE BadlyREAD MORE Very bad qualityREAD MORE Very bad product a word to describe I write duplicate productREAD MORE This time quality very very worstREAD MORE Poor quality ☹️READ MORE Very  low bad quality product Flipkart is fooling everyoneREAD MORE This shuttles were duplicates, these were not up to the mark.READ MORE Very bad product I ever receivedREAD MORE Bad copy quality riceveREAD MORE Waste of moneyREAD MORE Quality is very bad and very very tired class shuttecockREAD MORE WorstREAD MORE So poor qualityREAD MORE Reate is wery to muchREAD MORE The worst shuttle ever I used so far. Don\\'t buy this product. It is low in qualityREAD MORE not upto mark cork getting cracksREAD MORE Very poor quality Is not lasting for one set. Base is breakinf and the top is wornREAD MORE Bad quality, not good at all I dont like to prefer, beacuse delivery it\\'s too late and as they comfortable they will change as theirs elf near me product is there also they will not deliver, if any emergency things don\\'t order from flipcart better go some other apps ,....really too bad service.. product quality also too badREAD MORE Very goodREAD MORE Good quality of shuttlesREAD MORE I\\'m writing this review only because before i have rated only 3 star because i received a duplicate product,,,now I\\'m rating 5 star as i have received the original yonex mavis 350 shuttle,,thank you and in future i hope i will only receive the original productsREAD MORE Bad productedREAD MORE Good productREAD MORE Received counterfeit product.READ MORE If u play with this for about 3 to 4 hours daily then 1 shuttle would last for maximum 2 days..READ MORE Good productREAD MORE One day 1cap gaanREAD MORE GoodREAD MORE Superb. But why price is higher day by day. Between two weeks price is gained 170rsREAD MORE Good qualityREAD MORE Very costly now during lockdown phase previously it os 650 now sometimes 750 sometimes 850READ MORE BestREAD MORE I play every day with this and we play really hard in Courts. This has always been a best choice.READ MORE This item is so good you can buy it it is originalREAD MORE Excellent for Indoor courtREAD MORE Genuine product. Nice packing.READ MORE Good quality..😍🖤READ MORE Nice thanks  FlipkartREAD MORE Nice productREAD MORE Gradual decrease in quality, less longevity.READ MORE Nice productREAD MORE wow productREAD MORE 1 box out of 4  boxes has very bad shuttle. All shuttles of that box was not playable.READ MORE Product is not same as shown in the picture.READ MORE just Average.... not 100% goodREAD MORE I realized that not to buy  shuttles from online ever. cheap and duplicate product.  no refund of your amount, only replacement of the product. plz don\\'t waste your money.READ MORE Shuttle is just okayish.It\\'s movement in the air is a bit different from other Mavis 350s.READ MORE I found that some of the shuttle are differentREAD MORE shuttle was not of genuine conectarte qualityREAD MORE poor qualityREAD MORE 2 balls are waste. they are rotate. unable to play.READ MORE very poor quality.... 1 shuttle in not standing more than 2 daysREAD MORE original productREAD MORE Shuttle not goodREAD MORE good as expectedREAD MORE goodREAD MORE Yonex Mavis 350 is not a pure item. shuttle\\'s are so oldREAD MORE Nice product 👌👌👌👌👌👌👌😎.I suggest you,plz buy this product .This is original product.Made in Japan 😀READ MORE Good👍READ MORE very niceREAD MORE niceREAD MORE nice shuttle for outdoorREAD MORE good productREAD MORE amazing cost and amazing oneREAD MORE The packing made by flipkart is absolutely perfect and the mavis 350 are pretty good But I think this is very cost for this out side we can get it for just rs600 we can play very hard with these shuttlesREAD MORE good dilevary and very good productREAD MORE it\\'s worthREAD MORE GoodREAD MORE Looks like these are fake shuttles & not sold by yonex.READ MORE worst product not to buy low qualityREAD MORE shuttles were shapeless as they may have been mishandelrd while in transportationREAD MORE product is not goodREAD MORE 5 days for a delivery, it\\'s something really very frustrating, even till now I didn\\'t get the product.. please work on service.READ MORE bad qualityREAD MORE Very good productREAD MORE best quality shuttlesREAD MORE good quality. value the moneyREAD MORE very goodREAD MORE Very worstREAD MORE NOT BAD....READ MORE shuttle is very good for me I am playing for last 8 days and the shuttle is still good.Value for money.Thank u Flipkart.READ MORE Bad Quality,,,,,,READ MORE Quality is not good. Little bit fast.READ MORE Excellent it\\'s original as I buy in local sports storesREAD MORE Poor quality, shuttle become broke within 3-4 hour playing .ie within 1 dayREAD MORE The shuttles worn off really quickly. More quickly than a regular mavis 350 does. So I tried to verify the authenticity of the product by entering the code on it onto the website and lo it was a genuine product.I\\'ve attached the pictures for reference. It developed a hairline crack so quickly after just half a match. All other shuttles had the same quality.READ MORE Nice product best price superREAD MORE If you are a professional player and played in Mavis 350 green colour then don\\'t go for this product as this is lighter and slower than the green one. If you are a new buyer then you can go ahead and buy it as it doesn\\'t matter. The speed is slower than the green Mavis 350READ MORE Optimum weight and speed.. Easy to control the shots and easy court cover.  Good for learners and even beginners.. Base is not that of thermocol type material like its there in other yonex shurttles.. its a cork base so doesn\\'t  get ruptured easily..  Worth buying👍READ MORE It\\'s not suitable for outdoorREAD MORE It seems it is not original. Lighter and not lasting for more than an hour of play.READ MORE Horrible shuttle I ever playREAD MORE Finally got orginal yonex mavis 350.Genuine piece.There are so many fakes avilable in market.so serious players buy from here, you wont regret.READ MORE One shuttle lasts hardly 5 days which is very less. So I would suggest to the makers to keep in mind this thing before manufacturing. Price is also very high. Make it either durable or cheap for user friendly.READ MORE Item received in excellent condition, that too within one day. Thanks to the team. However one suggestion, please don\\'t send the item in such a big cardboard box. Its actually a wastage of resources.READ MORE Used both the boxes... People who say they are fake have either never played with mavis 350 or may have received a damaged box that might have disturbed the flight of the shuttle.... For me who plays with mavis 350 day in and day out... It is absolutely original and being speed 75...it plays well in Delhi heat above 35 degrees.... Will order moreREAD MORE Product is good as like as bought in the open market. Price also is equal to open market. It would be good in on line, if price is less.READ MORE nice itemsREAD MORE Thank you flipkart for providing such a great product with good quality and great deal.READ MORE shutte is durable(lasts long) with good flight time ...much better than what I purchased at local store. also with offer it is cheaperREAD MORE I love it.....It is really very guudAs well as it has a fantastic delivery It\\'s so early alsoREAD MORE it\\'s really good shuttle.  if you  want to improve your game it\\'s best and also durable . it\\'s flight is good and weight balance is superb.  it\\'s best for amateur  levelREAD MORE Not convinced with the quality of product.READ MORE There is no option to put images in the review section , the shuttles delivered were all used ones and not even Mavis 350 , The seller must be totally  unprofessional  , a basic check of a seal should be taken care by Flipkart atleastREAD MORE okREAD MORE Value for MoneyREAD MORE Excellent product but cost is higherREAD MORE one Shuttle just broken in 4 days by a smashREAD MORE Shuttle is very poor,Guys dont purchase,flipkhart check with supplier,other very big impact other sales alsoREAD MORE nice shuttle , The Flight is correct, and good durability.READ MORE Ball best but local rate are highREAD MORE Good, slow type cork, we r using it for daily game, one cork lasts for 3 daysREAD MORE Best shuttlecock ever.... we play everyday for abt 4 hours continusly.... and we still use 1 shuttlecock for about 8 to 10 days... it\\'s very durable.. and has got really good flight... Yonex rocks.... 👍READ MORE Very worst rateREAD MORE shuttle has long life and light.READ MORE Worst product.Dont go for it.It will not stand for an hour playREAD MORE Better for beginnersREAD MORE shuttle not Good ,even  1 match it will come,think twice before purchaseREAD MORE Its okkREAD MORE 1st time order quantity is good but next time quality is very poor . Shuttle not looking same also .READ MORE Nice product for practiceREAD MORE ExcellentREAD MORE Good oneREAD MORE NiceREAD MORE GoodREAD MORE It is good .READ MORE Original product with great discountREAD MORE Good productREAD MORE Absolutely good quality shuttles,and great packing by the team.READ MORE Dear Retailnet, this is the second order, second order  was ifferent to first one. this one the packing look different and the quality was nice.thanks happy with the second orderREAD MORE Poor product...READ MORE Poor qualityREAD MORE Value for moneyREAD MORE Not badREAD MORE It\\'s really awesomeREAD MORE SuperREAD MORE GoodREAD MORE Good productREAD MORE The shuttle is working perfectlyREAD MORE NiceREAD MORE GudREAD MORE Super goodREAD MORE Better to intermediate nd biggnerREAD MORE goodREAD MORE Good product,READ MORE FineREAD MORE Super exalent iam very happy thank youREAD MORE Not as we expected in qualityREAD MORE Very bad qualityREAD MORE NiceREAD MORE Waste product.High speed shuttles, not useful to intermediate or advanced players.Looting money with sub-standard Products😡READ MORE GoodREAD MORE Fabulous shuttlecock is good for all medium playersREAD MORE WorstREAD MORE GoodREAD MORE When I order Yonex MAVIS 350 Slow Speed ball but he send some low quality ball, not puy tha product really worst quality don\\'t buy this product pleaseREAD MORE It wa goodREAD MORE SuperREAD MORE GoodREAD MORE Awsome product and one shuttle wears out in 8 gamesREAD MORE Very good quality productREAD MORE Good quality.READ MORE Nice shuttlecocksREAD MORE GoodREAD MORE old productREAD MORE GoodREAD MORE Good ProductREAD MORE Very bad 😤😤😤😤😤😤😤READ MORE Orginal quality productREAD MORE Good but high price...READ MORE Best shuttlecocks in indoor and outdoor badmintonREAD MORE GoodREAD MORE Worst qualityREAD MORE Excellent productREAD MORE ExlentREAD MORE GoodREAD MORE SuperREAD MORE PerfectREAD MORE Good but very costlyREAD MORE Good product👍READ MORE GoodREAD MORE Very goodREAD MORE Very good quality, happy with the purchaseREAD MORE It\\'s original and it\\'s the best.Go for it without hesitation.READ MORE Good product. great experienceREAD MORE Shuttle is very good 🙂READ MORE Tq flippy it\\'s original barrelREAD MORE Real Yonex..satisfiedREAD MORE SuperREAD MORE Best shuttle of Mavis company. And thanks to flipcart service .READ MORE SuperREAD MORE To goodREAD MORE BestREAD MORE awesomeREAD MORE Awesome quality.READ MORE GoodREAD MORE GoodREAD MORE Nice 👍READ MORE Awesome product indeed. The closest to feather shuttleREAD MORE PerfectREAD MORE Nice product with best quality, if you are beginner  just go for it.Really worth for the money you spent.READ MORE Perfectly geniune product....Thank you seller....READ MORE Very good productREAD MORE Best in classREAD MORE SuperREAD MORE GreatREAD MORE GoodREAD MORE NiceREAD MORE GoodREAD MORE GoodREAD MORE GoodREAD MORE Worst qualityREAD MORE Superb ..nodoubtREAD MORE In terms of flight, stability and durability only 350  is better and can be consider nearly similar to feather Shuttles (AS 2 or rsl no. 5) otherwise all other mavis shuttles (300, 2000, 600 etc.) are not so goodREAD MORE Best shuttle in this price. Quality is so good and good to play.READ MORE Gud quality superREAD MORE Yonex 350 is always best for practice, and it does the job nicelyREAD MORE Good productREAD MORE A best quality 😍READ MORE Nice qualityREAD MORE Very bad quality.... Not even stable for one game ...READ MORE Shuttle is Used . Very bedREAD MORE GoodREAD MORE Best price.best shuttle.Please offer the same price again.so that i can buy 3 barrels once again.READ MORE GoodREAD MORE The quality of this box was not goodREAD MORE Seller sent duplicate productREAD MORE Very good quality and genuine productREAD MORE Nice best productREAD MORE Quality is goodREAD MORE GoodREAD MORE Nice productREAD MORE Good product , reasonable priceREAD MORE AverageREAD MORE Quality is not goodREAD MORE Best one for beginners and intermediate players.READ MORE Amazing!READ MORE Worst quality.READ MORE Go for it!READ MORE GoodREAD MORE Good.. Same as previews...READ MORE It awesomeREAD MORE Good quality...love itREAD MORE Bad qualityREAD MORE Not bad it\\'s goodREAD MORE SuperREAD MORE All time favourite for badminton...READ MORE Good 😊READ MORE Not goodREAD MORE Nice productREAD MORE Better shuttle for beginners and for humid areas...READ MORE NiceREAD MORE Best for regular player.durable shuttle best for daily uses.READ MORE Good one but price is highREAD MORE Not have the quality I expectedREAD MORE GoodREAD MORE Ok goodREAD MORE Very nice. I like it. Tnq so much Flipkart.READ MORE Its is very nice shuttle pro as well as badminton playing beginners soo i recommend this only to buy because other all are just no. But this shuttle is worthy Means value of money we can say .......READ MORE Good qualityREAD MORE GoodREAD MORE GoogREAD MORE Good for indoor courtsREAD MORE Compared to the ones which are bought from shops, this seems relatively a bit slowREAD MORE Good for hard play... Its not durable when playing in raining 😅, other then it is the best 🤩.READ MORE Nice happyREAD MORE Very bad experienceREAD MORE Very goodREAD MORE Good shuttleREAD MORE GoodREAD MORE Very Nice shuttleREAD MORE Good quality shuttles, worth it.READ MORE Good.. Oky..READ MORE GoodREAD MORE Great buy for me, original shuttle delivered. However the box was a bit deformed when received. I didn\\'t return because took Rick to open packaging and found original Yonex M350 shuttles.READ MORE Excellent shuttle go for it guyzREAD MORE Product is good but delivery was too lateREAD MORE Product quality was very bad..broken 1 shuttle  within 1 match ..READ MORE Superb packing... Keep it upREAD MORE Very good productREAD MORE GoodREAD MORE Very worst productREAD MORE Best product available in market today, but its costlyREAD MORE Very bad experienceREAD MORE Super oneREAD MORE After 3 day use, shuttle is being uselessI dought on qualityREAD MORE Good experience with original shuttles.. delivery within 2 daysREAD MORE Best product must buyREAD MORE NiceREAD MORE GoodREAD MORE Original shuttles delivered. Value for money. Go for itREAD MORE Nice superREAD MORE Good product thanks flipkartREAD MORE Bad and not a real productREAD MORE Good quality productREAD MORE Very nice productREAD MORE Very bad quality.READ MORE SuperREAD MORE SuperREAD MORE Not badREAD MORE Not badREAD MORE Thank youREAD MORE niceREAD MORE Durability isn\\'t that good for 350READ MORE Unbelievable best shuttle....READ MORE Good qualityREAD MORE Not original products too worstREAD MORE GoodREAD MORE DisappointedREAD MORE niceREAD MORE GoodREAD MORE Go for this shuttle only if you are professionalREAD MORE Mast qualityREAD MORE Original product.It was awesome.READ MORE NiceREAD MORE Fabulous products.READ MORE GoodREAD MORE Good productREAD MORE Nice product thanx flipkartREAD MORE Product is not up to the markREAD MORE Nice picREAD MORE GoodREAD MORE OriginalREAD MORE OkREAD MORE Good QualityREAD MORE GoodREAD MORE NiceREAD MORE Waste productREAD MORE TqREAD MORE Very very worst quality i ever receivedREAD MORE GoodREAD MORE Good productREAD MORE Quality is very poorREAD MORE Worst product, worst appREAD MORE Good productREAD MORE GoodREAD MORE Value for moneyREAD MORE SuperREAD MORE SatisfiedREAD MORE Amazing 😊READ MORE Good productREAD MORE GoodREAD MORE FineREAD MORE Very nice shuttle love it 👌READ MORE Very nice productREAD MORE Poor quality and westage of money shuttle broken in two  three gamesREAD MORE Very niceREAD MORE Waste products not good quickly damageREAD MORE NiceREAD MORE GoodREAD MORE It\\'s good productREAD MORE SuperREAD MORE Bad produtVery badREAD MORE GoodREAD MORE Durability is goodREAD MORE Very beautiful and attractiveREAD MORE okREAD MORE NiceREAD MORE Good itemREAD MORE Good product 👌🏼READ MORE NiceREAD MORE Fake Product, not lasting even a day.READ MORE Very nice shuttleREAD MORE This product is very good qualityREAD MORE Very good shuttle. Everyone is playing with this shuttle.READ MORE Good product SupperREAD MORE Super productREAD MORE Excellent qualityREAD MORE bestREAD MORE Very bad haaREAD MORE Excellent product and deliveryREAD MORE Very goodREAD MORE Long lasting then any otherREAD MORE Poor quality 2 shuttle dameged very soon. I think that was old stock.READ MORE NiceREAD MORE Good oneREAD MORE goodREAD MORE GoogREAD MORE NiceREAD MORE GoodREAD MORE Damaged product.READ MORE GoodREAD MORE SuperbREAD MORE Good but should more of in qualityREAD MORE SuperbREAD MORE Nice product 👍READ MORE Good product value for moneyREAD MORE Good qualityREAD MORE Bad quality shuttles gone in a week.READ MORE Perfect for everyoneREAD MORE Superb quality with nice packingREAD MORE GoodREAD MORE One of the best shuttle for outdoor playREAD MORE Thank you. Super goodREAD MORE GoodREAD MORE GoodREAD MORE Worst Product... All shuttles are damaged... Old material...READ MORE Very bad product returnedREAD MORE Bad brotactREAD MORE Good productREAD MORE D grade product. 🤮READ MORE Quality was not goodREAD MORE Very badREAD MORE GoodREAD MORE NiceREAD MORE GoodREAD MORE Very very badREAD MORE Nice Packing and fast deliveryREAD MORE Nice but quit expensiveREAD MORE very bad qualityREAD MORE Not in normal quality and very Speed while playingREAD MORE GoodREAD MORE Just perfect for bed.......@@@ ItanagarREAD MORE Good 👍READ MORE Nowadays it\\'s coming Hardy 2-3 hrs playing onlyQuality is going down, rate is going upNeed to search for alternativeREAD MORE ExcellentREAD MORE GoodREAD MORE Good oneREAD MORE Second quality 👎READ MORE Very good. Shuttle.READ MORE Super quality ❤❤❤READ MORE Trusted....and satisfiedREAD MORE Worst experience with filpkartREAD MORE Good productREAD MORE GoodREAD MORE Best for every badminton playerREAD MORE GoodREAD MORE SuperREAD MORE Flower damagedREAD MORE GoodREAD MORE Loved it. Ekdum original qualityREAD MORE GoodREAD MORE Thanks FlipkartREAD MORE Nice productREAD MORE Good productREAD MORE GoodREAD MORE Products damageREAD MORE GoodREAD MORE FabulousREAD MORE It okayREAD MORE Quality is to badREAD MORE SuperbREAD MORE Very low quality cork, i do not expect 4 or 5 games  to go but in the very first game the cork has come out where the feather part stays brqnd new. Such a cheap quality is not expectes from Yonex.READ MORE GoodREAD MORE Good qualityREAD MORE GoodREAD MORE NiceREAD MORE Very niceREAD MORE Most of shuttle are flying fast and getting damaged after 3 or 4 gamesREAD MORE Good quality shuttle.. even Playing on outdoor...READ MORE Its goodREAD MORE Good 👍READ MORE Good product.READ MORE GoodREAD MORE GoodREAD MORE Very niceREAD MORE Very good shuttlecock in outdoor and indoor i love this shuttleREAD MORE GoodREAD MORE OkREAD MORE Item damagedREAD MORE This item is very very poor qualityREAD MORE Quality is good 🙂🙂READ MORE Yonex 350 good👍READ MORE GoodREAD MORE Good qualityREAD MORE Awesome projection but very low life compared to lining.READ MORE Good qualityREAD MORE Very bad quality this time. All the shuttle balls are broken in single match without hitting shots. Usually each ball lasts for 4 days with 8 heavy matches per day. Totally disappointed. Waste of my money.READ MORE GoodREAD MORE Quality is not expected, play of 1st day cork has brokenREAD MORE GoodREAD MORE The whole box of 6 shuttle lasted only 1 week... Nowadays 350.manufacturing is heavily affected due to covid resource crunch...they are increasing the price but quality is degrading drastically..READ MORE Thanks for quality product sendingREAD MORE GoodREAD MORE Good 👍🏻READ MORE I received mavis 350 shuttle boox but i have not satisfied due to very fast speed an head side is a havy wight.. After two three game after flye will be not a good....READ MORE GoodREAD MORE Good product 👍READ MORE A reliable professional shuttleREAD MORE Its not orginalREAD MORE SupabREAD MORE Excellent shuttle just love itREAD MORE Good for outdoor. Cork weight is balanced. Pretty good life.READ MORE Just Wao. It was original one. 👌READ MORE OkREAD MORE Good QualityREAD MORE It\\'s goodREAD MORE Best in classREAD MORE Nice product tq FlipkartREAD MORE HorribleREAD MORE The product was 2021 model and not good for play..READ MORE This time cork was goodREAD MORE SuperREAD MORE Quality was too bad. Cork are spinning while Playing.READ MORE Good products thank u flipkartREAD MORE Great playingREAD MORE Nice productREAD MORE ExcellentREAD MORE Quality of product is poorREAD MORE BestREAD MORE Very nice 👍READ MORE Good product Fast deliveryREAD MORE This is a very good shuttleREAD MORE Good to useREAD MORE Love ❣️ osm qualityREAD MORE Loved it ☺️☺️☺️READ MORE Nice product. But price is getting too high. And duration is getting reduce.READ MORE Excellent durabilityREAD MORE Quality nowadays is very badREAD MORE Very goodREAD MORE Good  payREAD MORE Good productREAD MORE Ok not badREAD MORE Nice and high servicesREAD MORE Ok good for itREAD MORE Too expensiveREAD MORE SuperbREAD MORE GoodREAD MORE Go for the bestREAD MORE Good qualityREAD MORE Very bad productREAD MORE GoodREAD MORE Very worst shuttlesREAD MORE Perfect one to play with orginal product.READ MORE There are not last long enough poor qualityREAD MORE SuperREAD MORE one of the best shuttles i’ve has playedREAD MORE Fantastic...READ MORE GoodREAD MORE Good one.READ MORE BestREAD MORE Good....READ MORE NiceREAD MORE GoodREAD MORE AverageREAD MORE Very bad quality, this ball box worst,READ MORE Nice productREAD MORE Super, not compare with any other products. That quality is awesome.READ MORE Good qualityREAD MORE NiceREAD MORE ExcellentREAD MORE I\\'m order product in original is received so happy thanksREAD MORE Very niceREAD MORE NiceREAD MORE NiceREAD MORE GoodREAD MORE Original product long lastingREAD MORE Super quality product... TQ FLIPKARTREAD MORE SuperREAD MORE Good goodREAD MORE good quality and long lifeREAD MORE GoodREAD MORE Not happyREAD MORE GoodREAD MORE It\\'s good to playREAD MORE GoodREAD MORE GoodREAD MORE Best for allREAD MORE NiceREAD MORE GenuineREAD MORE GoodREAD MORE Nice qualityREAD MORE Very goodREAD MORE GoodREAD MORE goodREAD MORE SuperREAD MORE Shuttle cork has been separated with in 1 hoursREAD MORE Best I loved itREAD MORE Good productREAD MORE OriginalREAD MORE Excellent.... It\\'s the Original product...!! Superb & DurableREAD MORE Good pricingREAD MORE Perfect quality, perfect paking and perfect delivery time as we have expected.READ MORE Best for beginnersREAD MORE Very worst quality.READ MORE Quality was not good at all. Did not last long like the ones we bought locally of the same brand and modelREAD MORE This is  vary nice productREAD MORE Good shuttleREAD MORE Nice product 🌹🤩🥰🌹READ MORE Regular customer. Perfect as alwaysREAD MORE Good qualityREAD MORE Not badREAD MORE Nice oneREAD MORE really original,,READ MORE Product not goodREAD MORE Very bad itemREAD MORE Not good am not impressedREAD MORE GoodREAD MORE Not good quality this time , not durableREAD MORE Awesome ❤❤READ MORE Best product worth for moneyREAD MORE ExcellentREAD MORE Nice productREAD MORE Very niceREAD MORE Bad life.. tore easilyREAD MORE Not goodREAD MORE SuperREAD MORE Good productREAD MORE Mavis is masivREAD MORE Nice 👍👌READ MORE SuperbREAD MORE GoodREAD MORE Worth every penny...READ MORE Very goodREAD MORE Price is toooo high..READ MORE Original product, I\\'ve been playing for more than 5 yrs. No defects found yet.READ MORE GoodREAD MORE NiceREAD MORE Original product...Worth for the moneyREAD MORE Bad productREAD MORE nice product and delivered on time....READ MORE NiceREAD MORE Very bad shuttle..Broken very fastREAD MORE Nice helpful for my delay practice 👍👍👍👍READ MORE Nice oneREAD MORE Good for itREAD MORE Good Enough.READ MORE NiceREAD MORE Very good product and the seller cooperation is wonderful 😊.READ MORE GoodREAD MORE Doesn\\'t stays slow after 1 day of a game. Writes slow, doesn\\'t stand a chanceREAD MORE Bad product, bottom side quality is too bad,fake product , didn\\'t expect from Yonex and FlipkartREAD MORE Excellent productREAD MORE Original and good quality...READ MORE SuperbREAD MORE Nice ProductREAD MORE SuperREAD MORE Yonex std quality alwaysREAD MORE Very good nice quality 👍☺️👍☺️👍👍☺️☺️READ MORE ExcellentREAD MORE Very nice productREAD MORE Outstanding shuttle osmm experience while playingREAD MORE Worst product. All shuttle break from cork.READ MORE This is even better than 2000. It\\'s Cork is stronger and hence more durable. But in 2000, shuttle is better but it detaches itself easily from Cork and less durable.READ MORE In time keep it upREAD MORE ExcellentREAD MORE GoodREAD MORE NiceREAD MORE Thanks Lot for Quick delivery. Nice experience.READ MORE NiceREAD MORE Really niceREAD MORE Out of 6 box one of the box is not good Its base is coming out in one game only just 15 mins game.It has happens for 4 shuttle of the se box.READ MORE GoodREAD MORE AwesomeREAD MORE Quality and rates are very good, what else is required after thatREAD MORE Awesome products.....but only problem is priceREAD MORE Good product but it\\'s price was so high...READ MORE FineREAD MORE This time quality is best 🔥🔥READ MORE PerfectREAD MORE GoodREAD MORE Product Is Vey Much Bad ....And the price Dosn\\'t Match With The quality ..very Bad productREAD MORE Good product but i was using mavis 350 so there is no compare but the shuttle is very weak.playing arround 30 mins the upper material got damagedREAD MORE Very good shuttleREAD MORE Quality was not good....READ MORE Super hitREAD MORE I got the bad quality one 😢READ MORE GreatREAD MORE good productREAD MORE NiceREAD MORE NycREAD MORE 4 to 6 games only it will be new shuttle.. after that shuttle swinging irregularlyREAD MORE Worst quality... Shuttles are shaking while playing... Bad quality.READ MORE Best in market, but durability is less.READ MORE Worst on recent times.We played new Ball today.Two balls bottom tape were gone within 2 hours.I attach with image.The last two delivery was only worst.We are intermediate players and playing doubles.A single ball can stand atleast two day but last two delivery whole 6 balls were damaged within 3 days.READ MORE Good QualityREAD MORE Quality of product is very good but speed is very high.READ MORE NiceREAD MORE Good productREAD MORE All the shuttle bottom got broken, waste of money..READ MORE NiceREAD MORE good product value of moneyREAD MORE Not as good as per it\\'s priceREAD MORE NiceREAD MORE Good and long lastingREAD MORE Worst product.it lasts only two days (each cork)READ MORE Not badREAD MORE Got few defective but then got replaced. Now these are very good to play.READ MORE Poor quality not byingREAD MORE GoodREAD MORE Best 👍👍👍👍READ MORE Worst qualityREAD MORE Nice shuttle for beginners to intermediate players. Very very good for practice.READ MORE Product not good...READ MORE Good QualityREAD MORE BestREAD MORE The quality was bad and it didn\\'t lasted for even a month.READ MORE Nice productREAD MORE Quality is very poor...READ MORE Good productREAD MORE Bad productREAD MORE Much costlier in winter season.READ MORE Amazing shuttlesREAD MORE GoodREAD MORE NiceREAD MORE Awesome but price is very HighREAD MORE Too costly.Hardly lasts for a day.READ MORE ExcellentREAD MORE Very BadShuttle broke after 1 gameREAD MORE GoodREAD MORE Good shuttlecockREAD MORE You did wonderful jobREAD MORE Good productREAD MORE Very good productREAD MORE Good 👍👍👍READ MORE Don\\'t buy this , it was a worst purchase ever. Can\\'t play more than one game with this shuttleREAD MORE 👍🏸🏸 shuttlecock with nice and long durability .its value for money🤑🤑🏸🏸🏸READ MORE GoodREAD MORE Best shuttles for indoor gamesREAD MORE quality poorREAD MORE GoodREAD MORE Very good product without any confusionREAD MORE It\\'s the s good qualityREAD MORE Quality of the product was too badREAD MORE Bad qualityREAD MORE Wonderful product 👍👍READ MORE GoodREAD MORE Good productREAD MORE Nice product. fast deliveryREAD MORE Very bad quality shuttle Torn the mesh only within 3gamesREAD MORE It was originalREAD MORE Genuine product performed as expectedREAD MORE full mostiREAD MORE Nice oneREAD MORE SuperREAD MORE Received the original product and it’s awesome.READ MORE GoodREAD MORE GoodREAD MORE OriginalREAD MORE Base of shuttle is very low quality.READ MORE Quality not goodREAD MORE Bad colourREAD MORE Good qualityREAD MORE Not expected that yonex sales such default shuttlesREAD MORE Orginal item goodREAD MORE Very good product One shuttle you have to play minimum ten gsmesREAD MORE BestREAD MORE Really bad experience,,  some of them is very poor quality..  Don\\'t go for itREAD MORE Super shuttleREAD MORE It\\'s awesomeREAD MORE SupportREAD MORE Best shuttleREAD MORE Very bad quality and very high price not acceptable this range .READ MORE PerfectREAD MORE Nice productREAD MORE Very good product.READ MORE All shuttles were too bad. They are breaking easily after 3-4 gamesREAD MORE Quality of this  product purchased online is poor as compared to offline stores.👎🏼READ MORE Cork is slowREAD MORE Not DurableREAD MORE Long lasts than other nylon shuttleREAD MORE GoodREAD MORE Good 👍READ MORE ExcellentREAD MORE Genuine product and no used ones luckilyREAD MORE GoodREAD MORE Good jobREAD MORE Very bad qualityREAD MORE NiceREAD MORE GoodREAD MORE Thanks for delivery in timeREAD MORE GoodREAD MORE GoodREAD MORE It\\'s niceREAD MORE NiceREAD MORE Great stuff♥️READ MORE Nice tqREAD MORE Long lastingREAD MORE Good product but his price is very high...READ MORE ExcellentREAD MORE NiceREAD MORE GoodREAD MORE NiceREAD MORE NiceREAD MORE An original yonex shuttle. Decent price as compared to the market. Durability is not that much. It would hardly last 6-7 matches at max. But the flight path is very predictable and is a very good option and more durable in comparison to the feather shuttle.READ MORE Mind blowingREAD MORE Didn\\'t last long. Normaly one shuttle is good for 3 day but this one work for 1 day only. And every time shuttle got destroyed it always got broke from from part only.READ MORE Very good.READ MORE Good one I like itREAD MORE Very nice productsREAD MORE Got original productREAD MORE Little slow than normal shuttle.READ MORE Well brandREAD MORE Nice productREAD MORE This is my fourth order ...🥲🥲🥲 recieved 10 rupees shuttlesREAD MORE GoodREAD MORE Good qualityREAD MORE Good productREAD MORE Good productREAD MORE All got broken so soon.READ MORE Good quality 👍READ MORE Good quality. Delivered on time .READ MORE Good productREAD MORE Unlike my earlier purchases this is not even lasting for  2 days .READ MORE Low quality... don\\'t buy online😖READ MORE Looks genuine with great qualityREAD MORE Good productREAD MORE Quality is very poor..READ MORE No goodREAD MORE SuperbREAD MORE GoodREAD MORE Good Product but Delivery is too late...READ MORE This is the original product. Buy with no hesitationREAD MORE Very nice and good quality service.....thanks flipkart and team.READ MORE Super ❤️READ MORE GoodREAD MORE FineREAD MORE Too goodREAD MORE Bad product..... Waste of money😡Don\\'t buy this productREAD MORE Very nice product.. Delivered in only 1 day.. Super super super 👍👍👍READ MORE SuperREAD MORE Its good but slow moveREAD MORE SuperREAD MORE Good boyREAD MORE niceREAD MORE Very good qualityREAD MORE Original product.  Liked itREAD MORE Durability is very poor in compare with before...READ MORE GoodREAD MORE This easy to playREAD MORE NiceREAD MORE Good product. Original Yonex.READ MORE GoodREAD MORE As usual it\\'s a good one. Its YonexREAD MORE BestREAD MORE nice shuttle for reasonable price. the flight doesnt alter much even after 6 or 7 games. far better than those purchased from local storesREAD MORE ExcellentREAD MORE Best shuttle for practiceREAD MORE Marvellous product.READ MORE Good oneREAD MORE Quality not goodREAD MORE SuperREAD MORE GoodREAD MORE GoodREAD MORE Awesome product 👍🏻READ MORE NiceREAD MORE poor QualityREAD MORE Product quantity to badREAD MORE GoodREAD MORE Nice productREAD MORE GoodREAD MORE NiceREAD MORE BestREAD MORE not goodREAD MORE Not that good ququalityREAD MORE SuperREAD MORE genuine product thank you flipkartREAD MORE I\\'m an intermediate player. The shuttle easily lasts for 10-15 games without any problem. Can be used for casual outdoor games.READ MORE Best!READ MORE Not badREAD MORE GREAT SELLER REPLACEMENT DELIVERY IN 2 daysREAD MORE Good QualityREAD MORE Nice qualityREAD MORE GoodREAD MORE Instead of Mavis 350,I got Mavis 2000i.That product is also duplicate. I am quite frustrated. Please don\\'t buy this product.READ MORE AverageREAD MORE Best qualityREAD MORE NiceREAD MORE Amazing priceREAD MORE The product and pacaging is very good 👌, thank you flipkartREAD MORE AwesomeREAD MORE Very goodREAD MORE Not badREAD MORE ExcellentREAD MORE Must buy , value for moneyREAD MORE ValuableREAD MORE SuperREAD MORE Iam order this cockes are quality is not good and speed is slow bad productREAD MORE Good oneREAD MORE Not good and bottom of corck damage early when we ply not sticky we believe Yonex but this was not  good productREAD MORE Very good goodREAD MORE Very good qualityREAD MORE WorthyREAD MORE Product is good.READ MORE Good productREAD MORE Nice packing  good qualityREAD MORE OkREAD MORE Nice productREAD MORE GoodREAD MORE Best badminton shuttle nothing is better than this product Just a little expensive but is the best !READ MORE The price of this product is highREAD MORE SuperbREAD MORE GoodREAD MORE Speed of the shuttle is not not as per standard Yonex Mavis 350?READ MORE Good qualityREAD MORE GoodREAD MORE Good you such definetely go for it 👍👍🤞READ MORE GoodREAD MORE Good ProductAwesome Delivery Nice Durability Highly Recommended 🥰🥰READ MORE Some shuttles are worst.READ MORE ExcellentREAD MORE BestREAD MORE Not badREAD MORE GoodREAD MORE GoodREAD MORE Very niceREAD MORE GodREAD MORE excellentREAD MORE This is perfectREAD MORE goodREAD MORE I don\\'t think it is Mavis 350, quality is badREAD MORE Very good qualityREAD MORE Excellent productREAD MORE Quality is not goodREAD MORE GoodREAD MORE Worst Quality.....READ MORE ok okREAD MORE Good one... Little more quality requiredREAD MORE GoodREAD MORE Perfect to playREAD MORE Tq okREAD MORE Genuine product.READ MORE Excellent balanceREAD MORE Too expensiveREAD MORE NiceREAD MORE Gud to playREAD MORE Value for money 💵 buy it again ☺️READ MORE Very..good product.. i really... impressedREAD MORE Superb corckREAD MORE GoodREAD MORE GoodREAD MORE We play 2 hours daily and none of this lasted a whole day. Poor quality .READ MORE SuperREAD MORE We use always this.super.READ MORE Nice 🙂READ MORE Not so bad and not so good.Average product .READ MORE niceREAD MORE Gods productREAD MORE Quality of the product is very good and it\\'s quite genuine productREAD MORE Very good...Durable...READ MORE There is no one better than yonex MavisREAD MORE I m using mavis 350 since 5 years.. I would have given 5 stars but -1 star for condition of barrel received. However shuttles are in good condition as it is nylon.Delivery was good received the item within three days.READ MORE Bad packings shuttle complicatedREAD MORE GoodREAD MORE Original made in japanREAD MORE This is best for beginners and professionalREAD MORE Nice Product.READ MORE Super productREAD MORE MassiveREAD MORE NiceREAD MORE SuperREAD MORE Go for it without any second thoughtsREAD MORE This is not original Yonex Mavis 350. It is a useless cork with the look and branding of Yonex Mavis 350. It won’t last for more than 2 gamesREAD MORE goodREAD MORE excellentREAD MORE No need mention anything it\\'s always the bestREAD MORE Excellent qualityREAD MORE Super Quality mind blowingREAD MORE Good shuttlesREAD MORE All the shuttle are so niceREAD MORE ExcellentREAD MORE Awesome must buyREAD MORE G9odREAD MORE Good quality ☺️READ MORE GoodREAD MORE The best productREAD MORE GoodREAD MORE This is my 2nd purchase for same product Good shuttle as compared to othersI don\\'t know but the mavis350 I bought from Flipkart is very very sturdy, nylon skirt gets ripped but cork doesn\\'t get loose or came out of single shuttle and it\\'s good for me We use those ripped shuttle for warm up👍READ MORE Good productREAD MORE High durability, long lasting,READ MORE Long life and good qualityREAD MORE Good quality. Genuine product.READ MORE SuparREAD MORE SupperREAD MORE Nic oneREAD MORE GoodREAD MORE Product is good and worth of every penny.READ MORE goodREAD MORE For a player it\\'s goodREAD MORE Super qulittREAD MORE NiceREAD MORE GoodREAD MORE NiceREAD MORE Good has company brandREAD MORE Value for moneyREAD MORE Shuttle is very good perfect for badminton playersREAD MORE Nice itemREAD MORE Good for playing shuttleREAD MORE GoodREAD MORE Superb for outdoor. Nice QualityREAD MORE NiceREAD MORE Value for money💯💯READ MORE Very nice shuttle and speedREAD MORE Good and durability is also goodREAD MORE GoodREAD MORE Good,READ MORE Excellent shuttle for outdoor use. And can last for 2-3 daysREAD MORE GoodREAD MORE It is so goodREAD MORE GoodREAD MORE Good productREAD MORE Good productREAD MORE Original . Awesome. Love to FlipkartREAD MORE GudREAD MORE Very good , but expensive . Try it.READ MORE NiceREAD MORE First time damage product and next time give the good product.READ MORE Great product😇READ MORE Awesome 👌READ MORE Worth for money good oneREAD MORE VEERY GOOD PRDUCTREAD MORE Perfect for indoor games..READ MORE Very Good Quality Provided By Flipkart!READ MORE Good product...READ MORE Good productREAD MORE Very goodREAD MORE ExcellentREAD MORE Shuttlecock quality is much more betterREAD MORE The shuttles areREAD MORE Perfect for intermediate level of playingREAD MORE Good product for yonex and good service for FlipkartREAD MORE It\\'s good I really appreciateREAD MORE Excellent shuttle.....READ MORE Nice oneREAD MORE WorthyREAD MORE I am happyREAD MORE Kollam superREAD MORE Genuine product...thanks flipkartREAD MORE Very good productREAD MORE This time not good soREAD MORE Not worth for even single star.READ MORE Fine oneREAD MORE GoodREAD MORE Very poor QualityREAD MORE Quality was not good after playing one or two games the bottom came off the shuttle.READ MORE Very goodREAD MORE Quality not goodREAD MORE Good & original productREAD MORE Good qualityREAD MORE Excellent.READ MORE Very goodREAD MORE Bad product 🥴READ MORE NiceREAD MORE No one is like YonexREAD MORE Good build qualityREAD MORE GoodREAD MORE NiceREAD MORE Not the original one which is made by Yonex company..look is completely same with the original product. it\\'s very difficult to differentiate with original product.but when you play with this,you can feel the difference with original one.not lasting like original.good for beginners..READ MORE Gd productREAD MORE NiceREAD MORE Nice productREAD MORE SupebREAD MORE Very good 😊😊😊😊😊READ MORE ExcellentREAD MORE SuperREAD MORE Very cheap quality... Didn\\'t least fir one gameREAD MORE This product is a very bad and totally changed.READ MORE NiceREAD MORE Good itemREAD MORE superREAD MORE Nice product u can go for it.. Packing was good overall genuine product worth for money.READ MORE Old productREAD MORE Worth of costREAD MORE GoodREAD MORE Best in mid range for daily useREAD MORE GoodREAD MORE Very nice product.READ MORE Nice product.READ MORE See getting mavis 350 in market is quite confused one with originality and it\\'s transportation charge exceeds than our budget but flipkart made us so comfortable by providing highly original product with good packing and timy delivery.READ MORE ExcellentREAD MORE GoodREAD MORE Better qualityREAD MORE Good quality shuttles. Delivery is also fastREAD MORE Original shuttle ❤️🔥READ MORE Very goodREAD MORE Poor responsed from FlipkartREAD MORE Fantastic….READ MORE Very very disappoinment Flipkart...I ordered 2set of mavis 350 shuttle but 12 shuttles are very very poor quality... 1shuttle only for 2 gameVer very disappoinmentREAD MORE Nuber one qualittyREAD MORE SuperREAD MORE GoodREAD MORE Value for moneyREAD MORE Original product love it..READ MORE Good to see that what is described by Brand and seller are spot on..Ideal for beginners to Amateur players.READ MORE Good oneREAD MORE Super,strongREAD MORE Price is too much,But can\\'t compare with otherREAD MORE GdREAD MORE Good productREAD MORE Quality is not goodREAD MORE GoodREAD MORE Worth to buyREAD MORE GoodREAD MORE Superb quality . Thanks alot to deliver guyREAD MORE Ok okREAD MORE Genuine and Original product by seller. Mavis 350 is slow and suited for Indian atmospheric conditions as per personal opinion.READ MORE Very good service. Fast deliveryREAD MORE SuperREAD MORE NiceREAD MORE Very niceREAD MORE GoodREAD MORE NiceREAD MORE ExcellentREAD MORE Good qualityREAD MORE Nice itemREAD MORE GoodREAD MORE The product was good and good for smashes but not good for drop.READ MORE Great product. Highly recommended for practice.READ MORE Price is higher than it\\'s qualityREAD MORE GoodREAD MORE Nice oneREAD MORE Good qualityREAD MORE Good qualityREAD MORE GoodREAD MORE Nice Product.READ MORE Good productREAD MORE GoodREAD MORE Very goodREAD MORE Good to playREAD MORE Genuine best qualityREAD MORE SuperREAD MORE Good itemsREAD MORE GoodREAD MORE Waste of moneyREAD MORE Overall product is good except durability... It lasts only 3-4 days of heavy match...In this price range it\\'s durability should be increased according to my opinion...READ MORE SuperREAD MORE Nice productREAD MORE GoodREAD MORE I am playing badminton from 2 years and I never use other shuttle than this and this shuttle is fabulous vREAD MORE GoodREAD MORE The Shuttles are genuine, you can easily go for it.READ MORE Best haiREAD MORE Fantastic 👌👌👌READ MORE NiceREAD MORE OkREAD MORE SuperREAD MORE Cheapest and originalREAD MORE Two pieces got damaged in single match#totally waste of money #READ MORE OkayREAD MORE Very Good and long lasting. The flight of the shuttlecock I\\'d goodREAD MORE Poor qualityREAD MORE Nice FlowerREAD MORE GOODREAD MORE Quick delivery and genuine productREAD MORE Ball was not quite good. So don’t buy from them . I have bought more than 3 boxes . All three were not goodREAD MORE WastREAD MORE Nice productREAD MORE Loved itREAD MORE GoodREAD MORE Enjoyed playing with it.READ MORE Good productREAD MORE Yonex mavis 350 nylon shuttle best Quality 😍😍READ MORE ExcellentREAD MORE Best product at this price , one cork last for upto 20 to 25 matches if u play prpoerly.READ MORE Superb nice productsREAD MORE Original productREAD MORE GoodREAD MORE Nice MAVIS350READ MORE Its goodREAD MORE Super productREAD MORE GoodREAD MORE GreatREAD MORE Good quality and long life. Hard to get a simalar shuttleREAD MORE Quickly gone ,had to use new shuttle everyday (roughfly 6,7 games)READ MORE Good productREAD MORE The best in the market. Durable+ good path.READ MORE Very nice and long lasting shuttle. Recommended.READ MORE Classy game feel the strung sound wile hitting those corkzzz that\\'s really awesomeREAD MORE The Settle Mavis 350 given by you was very good and we got it more quickly according to it, thank you very much.READ MORE Very goodREAD MORE Genuine product and fk delivery super fastREAD MORE GoodREAD MORE NiceREAD MORE GoodREAD MORE Good oneREAD MORE Thank you❤❤❤❤❤READ MORE Thank you so much sir. For solving my problemREAD MORE SuperREAD MORE Last two time delivered cork original quality but this time very low quality , i am very disappointedREAD MORE GoodREAD MORE Nice 👍👍READ MORE NormalREAD MORE GoodREAD MORE Need 10 tubes moreREAD MORE Recieved very bad quality product. Usually each shuttle last for some days but the entire box lasted for less than a week 😂. It\\'s better to buy from shops.READ MORE So far good. Will update review after a monthREAD MORE must buy.READ MORE Nice shuttle for long run games… good for out door as wellREAD MORE The best shuttle.Using this shuttle for the past 2 years. So I recommend it. After trying many shuttle found out that is is the best one. Long lasting. durable.READ MORE GoodREAD MORE Excellent flight, perfect for daily practiceREAD MORE GoodREAD MORE It is good productREAD MORE Ok goodREAD MORE ExcellentREAD MORE Good shuttle and fast delivery by Flipkart.READ MORE Shuttle was of poor quality, getting damaged to soon..I doubt it\\'s duplicateREAD MORE Superb shuttle....❤️READ MORE NiceREAD MORE everything is fine with this shuttlecock except its durabilityREAD MORE Wow...fantastic....thanks flipkart.READ MORE Vvvv goodREAD MORE Super quality..READ MORE Didn\\'t expected this quality of product . The quality of each shuttle is similar to a 5rupees shuttle. Even didn\\'t refunded the money. Wastage of money.READ MORE Quality and durability is very low(not even 5 matches it withstood) when compared for this, i guess they have provided old stock for me!! Here there is a problem which is new stock and whch are old stockREAD MORE Nice shuttleREAD MORE GoodREAD MORE Item as described..READ MORE Not goodREAD MORE Satisfied.READ MORE Good productREAD MORE Very good qualityREAD MORE AwesomeREAD MORE GoodREAD MORE Good 👍🏻READ MORE It\\'s okREAD MORE Best shuttle go for it 🤗READ MORE Nice productREAD MORE Awesome purchase..👍👍👍👍💥💥💥READ MORE Nice product totally slowREAD MORE Good productREAD MORE NiceREAD MORE GoodREAD MORE Few shuttles are way faster within few knocks, but overall seems better. Not sure if authenticity of the shuttles. Price could have been little lesserREAD MORE FantastickREAD MORE SupperREAD MORE Got real item in 2 chance , after replacement.READ MORE Price too highREAD MORE Corck need be better it has lot of small holesREAD MORE GoodREAD MORE Good qualityREAD MORE Wery good productREAD MORE Super Item...READ MORE Good product quality 👍READ MORE It\\'s Durable. One Shuttle lasts for more than 2 weeks. Since I\\'m at Intermediate. It\\'s lasts long than usual.READ MORE Very good and durable shuttle!READ MORE Super good qulityREAD MORE goodREAD MORE Absolutely amazing product... Great for beginners One shuttle almost last for 2 daysREAD MORE Nice productsREAD MORE superb product from flipkartREAD MORE SuperREAD MORE WaoooooVery NiceReally I like it\\'s 👌👌👍READ MORE OkayREAD MORE Nice as expectedREAD MORE Good qualityREAD MORE Terrible experience the shuttle have not even lasted for 6 straight gamesREAD MORE Worth for money. Buy it from online only because outside it may be costly .READ MORE NiceREAD MORE Worst quality i have ever buy  .....it Dancing while flying....Very disappointedREAD MORE Nice productREAD MORE The price is terribly highREAD MORE Superb very nice oneValue for moneyREAD MORE Nothing to say about it...bt we have  doubts is it original yonex bcz coke life is shortREAD MORE Nice this productREAD MORE GOODREAD MORE Very good productREAD MORE Nice shuttle for advance players... Thanks FlipkartREAD MORE Low quality.READ MORE very nice and expected productREAD MORE GoodREAD MORE Geniuen product to buy Thanks to Flipkart and YonexREAD MORE GoodREAD MORE Thanku flipkart👍👍👍👍READ MORE NiceREAD MORE Good qualityREAD MORE SuperREAD MORE Good oneREAD MORE Go for it😏😏READ MORE Trustworthy seller.READ MORE ExcellentREAD MORE Good  qualityREAD MORE Thank you flipkart.READ MORE GoodREAD MORE The product was as aspected , it was greatREAD MORE Mavis 350 beat options all shuttle level playersREAD MORE Good product....READ MORE Awesome,must buyREAD MORE Good productREAD MORE ExcellentREAD MORE Good product at discounted price I got it at 850READ MORE Simply awesomeREAD MORE GudREAD MORE Good Product.READ MORE Nice product 🤩🤩but price is too high😞READ MORE Very nice.READ MORE PerfectREAD MORE ExcellentREAD MORE SuperREAD MORE amazing cocREAD MORE Nice workREAD MORE NiceREAD MORE Very niceREAD MORE Good Product, Same as bought from shopsREAD MORE GoodREAD MORE Nice product and delivered ontime.READ MORE On time , good deliveryREAD MORE Price so highREAD MORE Nice oneREAD MORE Por qualityREAD MORE Good quality shuttle , , good for begineer and intermediate players.... one shuttle will last more than 3 days no matter how extreme you play with net or without net in local style..READ MORE Useless Shuttle cant play one single game with one shuttle. I recommend all of you not to waste your money in this westeless shuttle. Never buy this. Price is high and Quality is very low.READ MORE Copy productREAD MORE Good productREAD MORE GoodREAD MORE NiceREAD MORE Brand is good but i do not know how this packet not good Worse quality has givenREAD MORE Price too highREAD MORE Price too highREAD MORE GreatREAD MORE Not Good 😭😭READ MORE Super 👍👍READ MORE Really niceREAD MORE Good ProductREAD MORE Very niceREAD MORE Original qualityREAD MORE It\\'s  awesomeREAD MORE This product is very goodREAD MORE Best for bigineersREAD MORE Very nice 👍👍READ MORE Longlasting unlike other shuttleREAD MORE Nice productREAD MORE Shuttle broken within one day worst productREAD MORE ExcellentREAD MORE Mavis 350 is the best shuttle I\\'ve ever played withREAD MORE Fabulous product everREAD MORE Very nice product 👍👍READ MORE Nice product💯💯👍👍READ MORE Not good qualityREAD MORE Kudos on the delivery, quick and well packaged. Product is great.READ MORE GoodREAD MORE Good product.READ MORE Nice productREAD MORE Perfect for PlayREAD MORE Excellent shuttles as alwaysREAD MORE Very nice original and genuine products supplied by flipkartREAD MORE bad qualityREAD MORE Good shuttleREAD MORE Value for moneyREAD MORE A good and orginal product. Thanks FlipKart.READ MORE Quality is nice but not that great.READ MORE Satisfactory only...READ MORE Very goodREAD MORE Nice shuttle our team played well by using this and the negative point is in outdoors some what the shuttle lose stabilityREAD MORE Good and fast delivery superREAD MORE Good ARN link retailers product is googREAD MORE Worth for moneyREAD MORE Best shuttlesREAD MORE Perfect shuttles for Indoor. Lasts long, good in quality.READ MORE Very nice productREAD MORE NiceREAD MORE No goodREAD MORE Nice shuttlesREAD MORE Original good qualityREAD MORE Nice productREAD MORE superBREAD MORE DelightedREAD MORE Very fast delivery...And very good quality of shuttles....READ MORE Nice productREAD MORE NiceREAD MORE GoodREAD MORE Nice product, good quality but price is little highREAD MORE Shuttle was okREAD MORE Disappointed , only one shuttle was proper rest all are swinging..READ MORE OkREAD MORE Good quality shuttes👍👍READ MORE Very badREAD MORE Same originalREAD MORE NiceREAD MORE Nice superREAD MORE Best quality product thanks for FlipkartREAD MORE GoodREAD MORE OriginalREAD MORE Lasting in our smash 😄😄💪💪READ MORE NiceREAD MORE very poor productREAD MORE Very high price compare to other products.  Better to buy similar product on li-ning for lower priceREAD MORE Very good qualityREAD MORE Genuine productREAD MORE Awesome 👍👍👍👍👍😎READ MORE it\\'s fast devery  thanks to flipkartREAD MORE SupperREAD MORE Very goodREAD MORE Quality is very good , price is too high .. Excellent quality and reliable tooREAD MORE GoodREAD MORE NiceREAD MORE WowREAD MORE Nice and real shuttle of yonexREAD MORE GoodREAD MORE rely tq flpcartREAD MORE OriginalREAD MORE Got original and cheaper than in local marketREAD MORE Super quality productREAD MORE Its Ok good productREAD MORE GoodREAD MORE ExcellentREAD MORE SooperREAD MORE Amazing offer for genuine productsREAD MORE Better than all other brands in this segment.READ MORE Very good quality thanks flipkartREAD MORE super product I love itREAD MORE Good itemsREAD MORE Excellent...maREAD MORE Fastest ever delivery ever recieved.. ordered yesterday and received today. Thanks to Flipkart.. genuine product..READ MORE This shuttle give nice control.READ MORE Nice productREAD MORE GoodREAD MORE Nice....READ MORE GoodREAD MORE Actually this previous shuttles good,but this time bottom is damaged fast.READ MORE Value for moneyREAD MORE Awesome productREAD MORE Very good🔥READ MORE SuperREAD MORE Good product and reasonable priceREAD MORE SuperREAD MORE Cork is very bad qualityREAD MORE Was an excellent purchase.. does its job perfectly.. the only problem we felt was the flying speed was little less compared with  Mavis 350 shuttle we purchased from out side.. ilREAD MORE It\\'s looking second qualityREAD MORE Nice shuttlesREAD MORE Good quality satisfied for what I paidREAD MORE Using this product Racquet broken fastREAD MORE GoodREAD MORE Nice productREAD MORE reached on time goodREAD MORE AverageREAD MORE GoodREAD MORE Worth for money nice productREAD MORE NiceREAD MORE SatisfiedREAD MORE Good productREAD MORE product is lower quality for compare to previous lock down  productREAD MORE Awesome product....best quality...🤩🤩🤩READ MORE Delivered very fast and the product was very high qualityREAD MORE Good one recievedREAD MORE Good product but now price is highREAD MORE Worth of priceREAD MORE Nice product.READ MORE Super super niceREAD MORE The product is a bit costly. But, it\\'s not a regular shuttle. Being new to this sport, I didn\\'t have a clear idea whether it\\'ll last longer or not. I had to experiment and as of now I can assure you that it\\'s the best quality you can get at this price point. Go for it. The whole box will last you more than a month if you are a regular player.READ MORE Nice and very durableREAD MORE Original product.I love it.READ MORE GoodREAD MORE Just okREAD MORE OkayREAD MORE FantasticREAD MORE goodREAD MORE Some shttles are not good quality. Doesn\\'t look authentic as local markets shuttles are much better and durable.READ MORE GoodREAD MORE Original product if you are intermediate then it is good for youREAD MORE Super it\\'s good for playingREAD MORE Excellent,original quality,fast delivery even in this situation,tq fkmlipcartREAD MORE Worth............READ MORE Good ProductREAD MORE Nice durableREAD MORE Good qualityREAD MORE GoodREAD MORE Very gud shuttle 👍🏻READ MORE Good qualityREAD MORE In such pandemic time this product yonex MAVIS 350 is not easy to find in sports stores , and they demand more than 200+ for single piece so please buy this product i got it for 900 price and quality are good go for itREAD MORE Great product 👌READ MORE Thanks flipcartREAD MORE GoodREAD MORE Value for moneyREAD MORE good qualtyREAD MORE GoodREAD MORE goodREAD MORE just awesomeREAD MORE Original product from yonexREAD MORE GoodREAD MORE Nice quality brilliant good conditionREAD MORE GoodREAD MORE Good productREAD MORE Nice productREAD MORE WowREAD MORE Good delivery service and product also awesomeREAD MORE NiceREAD MORE best!READ MORE Very good productREAD MORE Only 4 shuttles are good.. two are waste of money..READ MORE Yah, not bad.... better for shuttle players who r in beginners not for extraordinary players...READ MORE Checked code with Yonex sunrise India...found the product to be genuine.... Quick & decent delivery serviceREAD MORE Nice shuttles..... Mavis 350 are very good shuttles. But Little costly.... But no problem . Can be better than mavis 10......worthy.READ MORE GoodREAD MORE GoodREAD MORE The product is good and price worthy.READ MORE Good professional productREAD MORE GoodREAD MORE NiceREAD MORE Super shuttle..READ MORE Good quality like purchased in sports centerREAD MORE Jst AwesomeREAD MORE SupperREAD MORE Super productREAD MORE Nice productREAD MORE Super and durable for our shotsREAD MORE Good productREAD MORE Good productREAD MORE Soon brokenREAD MORE Get in time.READ MORE fast delivery during corona pandemic is something unbelievable.READ MORE GoodREAD MORE The product is too goodREAD MORE Very good👍👍READ MORE Good and original Yonex shuttle..READ MORE GoodREAD MORE Nice product and fast deliveryREAD MORE NicREAD MORE Good onesREAD MORE SuperREAD MORE NiceREAD MORE Best nylon shuttle for outdoor and indoor..READ MORE Normal items not for QualityREAD MORE Good productREAD MORE Perfect 3day usage of each one.Worth purchase 👌👍😊READ MORE GoodREAD MORE Very nice and durableREAD MORE Very worth it product and value for moneyREAD MORE The quality is too goodREAD MORE It\\'s perfectly pure on qualityREAD MORE Go for itREAD MORE Nice pack... Go for it... Value for money...  Thnks flipkart..READ MORE Fast delivery best qualityREAD MORE thank you flipkart for a quality product and standard delivery...READ MORE Quality doesn\\'t missed anywhereREAD MORE Good productREAD MORE thisbis very good product but price is to much price will be 800READ MORE classic chumma chiseledREAD MORE Excellent productREAD MORE Good productREAD MORE NiceREAD MORE Quality goodREAD MORE GoodREAD MORE Product was too bad and quality not good as expected.. Earlier we bought same product and used each shuttle for a week.. This product not sure why it got damaged with in a day.. please check and do the needful ASAPREAD MORE GoodREAD MORE Quality of product is not good, cork broken only within one hours.READ MORE goodREAD MORE Very goodREAD MORE NiceREAD MORE NiceREAD MORE No shuttlecocks can compete this one, in terms of flight, durability, exactness, well balanced!READ MORE very good productREAD MORE Firstly  Yonex is best company  for badminton and this shuttle is better than Yonex 250READ MORE GoodREAD MORE Very good product,thank you flipkartREAD MORE UnbeatableREAD MORE Timed delivery. SatisfyingREAD MORE This is very niceREAD MORE If Price would be around 850, then it\\'s betterREAD MORE Not niceREAD MORE SatisfiedREAD MORE Ok fineREAD MORE Not so good in terms of durabilityREAD MORE Very good qualityREAD MORE Nice shuttles. Played 9 games so far without baby damage to the shuttles. It will last another 8-9 gamesREAD MORE Nice productREAD MORE I am well satisfied.I am very greatful to flipkart.Hope that in future order also you will deliver me the right goods.ThankuREAD MORE Good qualityREAD MORE GoodREAD MORE Its original product. You are not going to waste your money. Feel free to buy 😄.READ MORE SuperREAD MORE Best in seeREAD MORE 2 shuttles missingREAD MORE Nice productsREAD MORE Good productREAD MORE Quality - excellentREAD MORE PerfectREAD MORE Nyc productREAD MORE Nothing much to tellAlways best product for badminton ,READ MORE GoodREAD MORE Products are good qualityREAD MORE Nice productREAD MORE The quality of the shuttle wasn\\'t upto the mark and also it started deteriorating after 3-4 matches onlyREAD MORE Awesome!READ MORE GoodREAD MORE ORGREAD MORE NiceREAD MORE I was so happy 😁😁.It is very good product in Yonex Mavis 350 nylon shuttle.READ MORE CoolREAD MORE GreatREAD MORE Satisfied....READ MORE NiceREAD MORE Good shuttle for defensive play Better for intermediate playersBeginner is mavis 10 bestREAD MORE NiceREAD MORE Although genuine product but durability is very lessREAD MORE nice product and durableREAD MORE Nice product but delivery is very delayREAD MORE Genuine product 👍READ MORE It is a waste product and I suggest the people to not bay from FlipkartREAD MORE Used productsREAD MORE Durability is not good as expected. It usually last for 4-5daysREAD MORE Good and best productREAD MORE GoodREAD MORE Worst experience with this purchaseREAD MORE GoodREAD MORE Long lastingREAD MORE Super...READ MORE Good qualityREAD MORE SupperREAD MORE Very nice product....READ MORE AwesomeREAD MORE Good product But price is on higher sideREAD MORE GoodREAD MORE Good one... On problem for  20 to 30 days..READ MORE Nice qualityREAD MORE SuperREAD MORE Best durability little slow but similar flight as feather shuttle tournament grade.READ MORE As usual . Awesome and best among all the shuttles brands.READ MORE SUPPERBREAD MORE Excellent productREAD MORE NiceREAD MORE AwsmREAD MORE NiceREAD MORE Great QualityREAD MORE GoodREAD MORE Nice productSafe deliveryREAD MORE Excellent productREAD MORE Very goodREAD MORE GoodREAD MORE OkREAD MORE Nice oneREAD MORE This quality goodREAD MORE Original product I got, happy with deliveryREAD MORE So good 👍 service also nice 👌READ MORE Generally it\\'s base broke in some of the shuttleREAD MORE GoodREAD MORE Original shuttle. Great experienceREAD MORE Some of the items not good qualityREAD MORE Very goodREAD MORE Good oneREAD MORE Nice 👍READ MORE GoodREAD MORE Very fineREAD MORE ExcellentREAD MORE ExcellentREAD MORE Original product.. very good qualityREAD MORE The shuttle are good.... If u play normally it can last for more than week.... But since I mostly smash and have usually serious play.... So lasting for 3-4 days........... Would say go for itREAD MORE Nice service and very fast delivery and appropriate item not like other on line storesREAD MORE Good 👍READ MORE Inside the shuttle was of local brand and was abysmal in quality.READ MORE GoodREAD MORE Must buyREAD MORE Thanks🙏 nice👍READ MORE SuperREAD MORE Best shuttlecock for playing indoor as well as you can use for outdoor gaming.READ MORE It is good productREAD MORE GoodREAD MORE Good productREAD MORE Best qualityREAD MORE Great dealREAD MORE Got the genuine yonex productREAD MORE Good quality as expected.READ MORE goodREAD MORE Nice product advance deliveryREAD MORE SuperREAD MORE SuperREAD MORE Good qualityREAD MORE Super shuttle......very strong and slowREAD MORE GoodREAD MORE LovedREAD MORE NiceREAD MORE Grt . ButPrice is increasing day by day .READ MORE Excellent product, worth for moneyREAD MORE Go for it. Very good quality.READ MORE Good quality 👌READ MORE Good qualityREAD MORE Good.... Bt the price was somewhat more than that of market priceREAD MORE NiceREAD MORE very good 😍😍READ MORE Nice oneREAD MORE Super product.. Plastic seal brokenREAD MORE Good quality product but price has been increased a little bitREAD MORE Great qualityREAD MORE Yonex 350 coack is very good for badmintonREAD MORE GoodREAD MORE Mavis 350  good productREAD MORE NiceREAD MORE A lil bit costly but DurableREAD MORE GoodREAD MORE 2 shuttles are damaged otherwise it\\'s okay...READ MORE PowerREAD MORE Best for shuttleREAD MORE AvarageREAD MORE Best product..READ MORE Nice oneREAD MORE superbbbbbREAD MORE GoodREAD MORE Soo badREAD MORE GoodREAD MORE Original and awesomeREAD MORE Nice productREAD MORE GoodREAD MORE Very best..best quality...READ MORE good qualityREAD MORE Good productREAD MORE It is very good quality but the rate is little higher.READ MORE Not durableREAD MORE Nice productREAD MORE Too much costREAD MORE Good product best qualityREAD MORE Always best.READ MORE Good quality shuttles for indoor play. Go for it.READ MORE It\\'s good must buy it .....READ MORE product is very niceREAD MORE GoodREAD MORE Must buyREAD MORE Shuttles box was crushed.. very badREAD MORE Good product  love it.READ MORE Good one..!!READ MORE Super qualityREAD MORE GoodREAD MORE All good but price should be lowerREAD MORE Very niceREAD MORE Very nice shuttle And good balancing shuttleREAD MORE Best product for beginners playing outside.READ MORE GenuineREAD MORE Very slow worstREAD MORE GOODREAD MORE Very good productREAD MORE Products was good but the cap wasn\\'t good and it\\'s not a long lasting shuttleREAD MORE FireREAD MORE Super Fast Delivery Un ExpectedREAD MORE SuperREAD MORE Excellent to play..READ MORE Ultimate shuttleREAD MORE SuperREAD MORE It\\'s a genuine and good productREAD MORE Nice oneREAD MORE Good product nd good pack thank flipkartREAD MORE Super productREAD MORE Very less durable... Each piece gone in three daysREAD MORE Very bad product all the corcks are ccracked one\\'sREAD MORE Original shuttle very  niceREAD MORE NiceREAD MORE Good qualityREAD MORE Quality is very poooooorREAD MORE Overall good product. However, out of 6, found one shuttle is not up to the mark and is revolving like a bullet. A waste of money. Not sure if the vendor is selling genuine products at all.READ MORE Nice but 77 gm very niceREAD MORE GoodREAD MORE Very super productREAD MORE Very nice.. 10/10 marks for quality and  durability..READ MORE GoodREAD MORE GooodREAD MORE Nice shuttleREAD MORE Best and most consistent shuttle cork for regular players. Original product delivered. This shuttle is used in most of the junior tournaments across the world.READ MORE SuperREAD MORE Genuine purchaseREAD MORE The shuttles (green) are very fast. Not enjoying the game just little push or lift shuttles going out.READ MORE Absolutely originalREAD MORE VeryREAD MORE Genuine productREAD MORE Good quality, original.READ MORE Good qualityREAD MORE Really good quality shuttles...READ MORE GoodREAD MORE SUPEBREAD MORE very bad productREAD MORE Good productREAD MORE OutstandingREAD MORE GoodREAD MORE Very good qualityREAD MORE Indies best plastic shuttle, every player like it , in lockdown price very highREAD MORE GoodREAD MORE SuperREAD MORE Don\\'t buy it, they are putting adrenex shuttles inside and there is no return policyREAD MORE Base of the shuttle is not good it was damaged.READ MORE SuperREAD MORE 2of 6 are just damagedREAD MORE NceREAD MORE excellent productREAD MORE Worst experienceREAD MORE Quality is not goodREAD MORE Am happy after use...But give same discountREAD MORE Average quality productREAD MORE Good shuttleREAD MORE 100%%%%% original product thanksREAD MORE This time around, the quality is so low that, 3 of the 6 pack didn\\'t last an hour. Probably, 2nd quality... Nobody pays market price for 2nd QualityREAD MORE Service is good ...but so lateREAD MORE Good prREAD MORE Quality Much difference when we buy in shop and in FlipkartREAD MORE Product quality is very good but price is a bit high.READ MORE It\\'s overall good but there is some small holes in cork which may be caused by some insectsREAD MORE Waste product. Don\\'t buy this product. Every cork was not properly fixed.READ MORE Good original shuttleREAD MORE Good its okREAD MORE Good qualityREAD MORE SuperREAD MORE Fantastic original  with Yonex hologram package fantasticREAD MORE Too costly not original shuttle rotating badlyREAD MORE OriginalREAD MORE Nice shuttleREAD MORE Good one.Got it on time.Thanks FlipkartREAD MORE It is niceREAD MORE Product is good but price is......READ MORE Excellent condition of shuttlecocks. Timely delivery of a genuine product. Quality is assured in FLIPCART.READ MORE Durable.READ MORE Good productREAD MORE GoodREAD MORE NiceREAD MORE Worst . Recieved damaged product. Waste of money.READ MORE Not suitable for indoor badminton or standard players. I hated it.. Iam not interest to buy this product againREAD MORE Good product but doubt in originalREAD MORE GOOD PRODUCTREAD MORE received a genuine Yonex Mavis 350 , verified the scratch codeREAD MORE Here it is, the perfect shuttle!READ MORE Looks good but durability is worstREAD MORE All the shuttles in the box are quite good and long lasting.READ MORE GoodREAD MORE I checked each piece, got the originals. Thank you seller.READ MORE Got defected piecesREAD MORE OkREAD MORE Good oneREAD MORE Nice product 👍READ MORE Good qualityREAD MORE GoodREAD MORE Good but costlyREAD MORE Not good one don\\'t bayREAD MORE Good as always but getting expensive on every purchase .READ MORE I have received package with good condition but 3shuttles is not goodREAD MORE Flipkart assured is really good.READ MORE Average ratingREAD MORE Gud qualityREAD MORE Wonderful shuttles. We can play in indoor and outdoor also.READ MORE Good qualytiREAD MORE To much costlyREAD MORE Cheaf quality..READ MORE SuperbREAD MORE Good prdt got at 793READ MORE NiceREAD MORE As expectedREAD MORE I used to order it many times but this time the quality is not good..READ MORE Rate is very highREAD MORE A very nice product. Everybody can buy.READ MORE Good productREAD MORE SuperbREAD MORE Good qualityREAD MORE It was good for the game..READ MORE GoodREAD MORE Not goodREAD MORE GoodREAD MORE GoodREAD MORE Good product , genuine 100%READ MORE LooseREAD MORE NiceREAD MORE NiceREAD MORE The shuttle is really good, I and my friends are playing by hitting it very hard smashes everyday, so the shuttle life for me is 3 to 4 weeks. Buy it.READ MORE Product quality was nice but delivery delay was absolutely disgusting🤢🤢🤢🤢READ MORE GoodREAD MORE Nice Flipkart 🥰READ MORE Totally waste of money. Poor quality shuttle. Very slow moving. We can\\'t even play single game with one shuttleREAD MORE Best product...👍👍READ MORE GoodREAD MORE Same as storeREAD MORE Worth the money, good qualityREAD MORE Durability is superREAD MORE Good original speed and qualityREAD MORE GoodREAD MORE Very good quality, reasonable price and fast delivery.READ MORE GoodREAD MORE Liked it very muchREAD MORE Super but rate is very highREAD MORE Nice product.READ MORE Good and sooper.READ MORE Great productREAD MORE Nice product.READ MORE Bad qualityREAD MORE Worth of Money.. We are always flipkart family...thank uREAD MORE Not badREAD MORE OkREAD MORE Original Quality. One shuttle last for atleast 9 sets if you are of an Intermediate level.READ MORE Very bad qualityShuttle life is very badREAD MORE Bad qualityREAD MORE Best for beginnersREAD MORE I\\'ve been delivered with original and sealed,they are awesomeREAD MORE One out of six is so speed. Others are very suit to indoor.READ MORE Very good qualityREAD MORE Poor qualityREAD MORE Good qwalityREAD MORE Good quality  👍Genuine product from yonex 👍READ MORE It is very good it has came with excellent packagingREAD MORE GoodREAD MORE Good productREAD MORE Very goodREAD MORE Nice productREAD MORE Nice product but slow deliveredREAD MORE NiceREAD MORE Great shuttle for practice...... Lasting for 5 to 6 sets (heavy play)READ MORE Good 🏸READ MORE Good oneREAD MORE Original shuttle.. timely deliveryREAD MORE SuperbREAD MORE Best king of king ShuttlecockREAD MORE Bad quality. Suggested to low level playersREAD MORE Products delivered are good and within the time.Thank you FlipcartREAD MORE I felt it authenticREAD MORE Brand remain same. But awesome Delivery scheduleREAD MORE Poor quality shuttle head comes out easily.hopeless product very disappointingREAD MORE Amazing genuine product at best price...go ahead without any further thought.READ MORE GoodREAD MORE Nice product ND nce deliveryREAD MORE NycREAD MORE While playing, going like a rocket speed to out of the  ground... speed of the cork is too high....READ MORE 200 is almost same.READ MORE GoodREAD MORE Good quality, value for moneyREAD MORE SuperREAD MORE NiceREAD MORE GoodREAD MORE GoodREAD MORE SuperREAD MORE GoodREAD MORE Shuttles are not in good condition. Even after one game shuttle start to wobble and it doesn’t feel like mavis 350. Feels like a cheap knockoff of the yonexREAD MORE Good qualityREAD MORE Quality  was  very bad thos time .shuttle became  useless with in an hour.very bad  all shuttles separated.  Never expected  from flipkartREAD MORE Excellent quality shuttleREAD MORE GoodREAD MORE Product packing was goodREAD MORE Some shuttle having unbalanced flightRest goodREAD MORE Shuttles are good but easily gets worn out after 5 games.READ MORE GoodREAD MORE Good and original ones....can understand the higher price due to the current demand. But, the price is still less compared to retail outlets in the cityREAD MORE Worst shuttles.. Started wobbling in first game itself..  DO NOT BUYREAD MORE AwesomeREAD MORE Amazing product❤ Fully satisfied! I love you flipkart marry me🙆🏻\\u200d♂️READ MORE Slow shuttle ,old material Only for kidsREAD MORE Good shuttle for outdoor long lastingREAD MORE Very goodREAD MORE Super qualityREAD MORE NiceREAD MORE Superb fresh article.READ MORE Really good product. Yes really 350 nylon shuttleREAD MORE It\\'s original oneREAD MORE GoodREAD MORE Fast Delivery ThankQ..READ MORE Received good quality productREAD MORE NiceREAD MORE Not goodREAD MORE GoodREAD MORE Good productREAD MORE NiceREAD MORE Good qualityREAD MORE Good productREAD MORE Great experience with this product , WorthyREAD MORE SuperREAD MORE Good productREAD MORE NiceREAD MORE Very nice it withstands so long compared to Mavis 10 or mavis 200i. Anyone can choose this one for long durability.READ MORE NiceREAD MORE Good..READ MORE All the shuttle were defectiveREAD MORE Delivery boy good workREAD MORE Original for sure!!READ MORE Its not good qualityREAD MORE Good Shuttle!!READ MORE ExcellentREAD MORE Good packing and quick delivery from flipkart. Drawbacks are price is high.READ MORE GoodREAD MORE GoodREAD MORE Original Mavis 350 shuttle with nice packing and quick delivery.READ MORE Nice ... completely genuine 👍👌🙂READ MORE Superb quality. super fast deliveryREAD MORE Prompt delivery. Product is good.READ MORE Nice productREAD MORE good qltyREAD MORE Bad Shuttle and bad quality....it is for kids onlyREAD MORE Good one reached in timeREAD MORE Thank you for Timely delivered. Item was in good conditions.READ MORE I like this seller he given best priceREAD MORE good and fast serviceREAD MORE Excellent Product!READ MORE Good productREAD MORE Vry nice product... Lov itREAD MORE So badREAD MORE GoodREAD MORE GoodREAD MORE Super 360 is great👍👍👍👍READ MORE Nice productREAD MORE GoodREAD MORE GoodREAD MORE Shuttles are very slowREAD MORE Very nice and durable shuttle I have come acrossREAD MORE 👍good oneREAD MORE NiceREAD MORE The product is original and packing was good. But yonex shuttle have become expensiveREAD MORE Worst product i received...damaged in one game and received horrible oneREAD MORE Nice but slowREAD MORE Its value for money and most importantly it\\'s originalREAD MORE AwwssmmREAD MORE Very bad quality.it is not look like as brandedREAD MORE goodREAD MORE Good Quality of shuttles and quick delivery by Flipkart delivery boy.READ MORE Good qualityREAD MORE Bad quality productREAD MORE This is the second box I have received, they are not long lasting if you are getting this in 900 rs range.just check the mfg date before purchasing.not sure about the quality.Durability of the original ones are better than what I have received.READ MORE Local brand, shuttle got damaged in two days all 6 piecesREAD MORE Bad qualityREAD MORE Good productREAD MORE Delivered in time. Good packing.READ MORE Very fast explosion 💥READ MORE Amazing product by flipkart 👍😊😊READ MORE Few shuttles have stain in shuttle head..READ MORE SupwrREAD MORE Nice shuttleREAD MORE SuperREAD MORE Excellent performanceREAD MORE Good qualityREAD MORE Low quality...READ MORE NiceREAD MORE Good Mavis 350READ MORE AverageREAD MORE Simply SuperREAD MORE GoodREAD MORE Good products original shuttleREAD MORE worstREAD MORE Its the original produt im getting at good prices compared to offline storesREAD MORE SuperbREAD MORE OkREAD MORE ExcellentREAD MORE GoodREAD MORE GoodREAD MORE SuperREAD MORE GoodREAD MORE Best shuttle for outdoor badmintonREAD MORE GoodREAD MORE GoodREAD MORE Recieved  Original product...READ MORE Nice productREAD MORE Deliever fast.READ MORE Go and buy from nearest store, it is good but are breaking quickly with bad flight patternREAD MORE It\\'s goodREAD MORE Excellent productsREAD MORE This product is very attractive and amazingREAD MORE GoodREAD MORE SuperREAD MORE Nice oneREAD MORE NiceREAD MORE Nice productREAD MORE It\\'s amazing 😍READ MORE Shuttle is very slow compared to white mavis 350READ MORE Very goodREAD MORE Bad qualityREAD MORE OkREAD MORE Best shuttlecock at best priceREAD MORE NiceREAD MORE OkREAD MORE Original product . We want many more so please maintain the qualityREAD MORE Gd.productREAD MORE nice workREAD MORE GoodREAD MORE very goodREAD MORE ExcellentREAD MORE Very goodREAD MORE NiceREAD MORE SuperREAD MORE Product was delivered in good conditionREAD MORE Not good,READ MORE Awesome product ❤️READ MORE GenuineREAD MORE AssumeREAD MORE GreatREAD MORE SuperREAD MORE Very niceREAD MORE GoodREAD MORE Thanks flipkartREAD MORE See the quality is good but the price has become too high so i gave 1 starREAD MORE OkREAD MORE Super productREAD MORE HappyREAD MORE 4 damage pieceREAD MORE Not get right boxREAD MORE GoodREAD MORE NiceREAD MORE Quality is perfect as mentionedREAD MORE It’s a original productREAD MORE GoodREAD MORE NiceREAD MORE Good💖READ MORE Superb👌👌READ MORE Very Good product.READ MORE ExcellentREAD MORE Best qualityREAD MORE Nice shuttles...READ MORE Good product 👍READ MORE GoodREAD MORE Really good. ThanksREAD MORE Good & fresh shuttleREAD MORE Price is toooo highREAD MORE It\\'s goodREAD MORE Didn\\'t last as expected. The cork was of not good quality and came out from the nylon feather.READ MORE Very good productREAD MORE Very durble shuttle...READ MORE Better to buy from a reliable sports shop .READ MORE Good qualityREAD MORE SuperREAD MORE I love the shuttles... it was really good and durable...READ MORE It\\'s been very goodREAD MORE GoodREAD MORE Very nice plz maintain 899 price thankyouREAD MORE Very good item are received Happy for thatREAD MORE ThanksREAD MORE Good QualityREAD MORE Best shuttle under 900READ MORE Very niceREAD MORE Shuttle quality is good but packing is not goodREAD MORE Very goodREAD MORE Very badREAD MORE HappyREAD MORE Thanks for quick deliveryOriginal productREAD MORE Good purchase. Genuine product. Fast delivery. Thank youREAD MORE Not durable,broken easily and not cost effectiveREAD MORE Very niceREAD MORE Not durable, 1 shuttle lost every 8 matches.Edge gets cut. Base is also cutting 🥺🥺READ MORE The quality of the shettle were not good as exceptedREAD MORE Genuine productREAD MORE Good and original productREAD MORE Long lastingREAD MORE Delivered on time and delivery executive is so Pro active. He delivered to security when he sensed am in the meeting .. thanks to such guysREAD MORE Box damagedREAD MORE Don’t buy the product is very bad got bent after few days of using itREAD MORE BedREAD MORE Excellent product must buyValue for money Long lastingREAD MORE Good products and i played with itI prefer to buy this OnlyREAD MORE UsefulREAD MORE NiceREAD MORE AwesomeREAD MORE goodREAD MORE Totally disappointed local plasticPlease don\\'t buyREAD MORE Nice original productREAD MORE Product was not goodREAD MORE Quality not goodREAD MORE SuperREAD MORE GoodREAD MORE GdREAD MORE Good ProductREAD MORE Good may god bless you my childREAD MORE Its really goodREAD MORE Super.mavis.350.thankyou.flipcartREAD MORE Nice productsREAD MORE GoodREAD MORE Nice , comfortable for playing, compare to 200i, this is the bestREAD MORE Long lasting good qualityREAD MORE GoodREAD MORE Poor quality..READ MORE Good productREAD MORE Absolutely genuine shuttles. They last very long and are strong. I loved it... Very worthy for your money.READ MORE Nicely sealed box and looks genuineREAD MORE Not as real mevis 350READ MORE Low quality product, one shuttle starts tearing up after 7-8 games.READ MORE GoodREAD MORE OkREAD MORE Nice n original productREAD MORE super go for itREAD MORE Awesome 👍😎READ MORE Worast quality..very badREAD MORE Quality product. Value for moneyREAD MORE Good productREAD MORE Gud one..Thxx FlipkartREAD MORE Good performanceREAD MORE Best👌READ MORE Very GoodREAD MORE Best shuttle 👍READ MORE Very niceREAD MORE GoodREAD MORE Good shuttleREAD MORE Ok original product...READ MORE worth to moneyREAD MORE GoodREAD MORE SuperREAD MORE As usualREAD MORE Perfect qualityREAD MORE Thanks seller I got replace orignal product as required.READ MORE Best productREAD MORE Good quality..durability is also more..READ MORE Liked itREAD MORE Shuttle is very slowREAD MORE GoodREAD MORE It is worth the money we spend to buy it .....good quality 👍READ MORE Good product 👍READ MORE ExpensiveREAD MORE NiceREAD MORE I love itREAD MORE GoodREAD MORE Price is too high and low durability Got Damaged after 1 dayREAD MORE Nice Product very good for playing and it can survive up to 3 days in normal playing condition.READ MORE Low quality product send . The shatels are broken when I played 2 games onlyREAD MORE Good productREAD MORE Not as expected but ok.READ MORE GoodREAD MORE BrilliantREAD MORE Awesome Product & Delivery is SuperbREAD MORE Even it\\'s green cap, the shuttles are toooooooo slowREAD MORE GoodREAD MORE GoodREAD MORE Good qualityREAD MORE Quality concern,very poor poor quality i ll not recommend to buyREAD MORE NiceREAD MORE As expected it is Mavis-350. I liked this oneREAD MORE Thank you so muchREAD MORE It\\'s good but it\\'s not durable yonex Mavis 10 is an all rounder at the price of 1 yonex mavis 350 v get 2yonex Mavis 10 plus is durable too it all has some disadvantages but it won\\'t matter if u have not played with 350yet If and only if the prise of 350 gets low will suggest it it not value for money at the momentREAD MORE Average praductREAD MORE Some of the shuttles are very fast no drift at all worst purchaseREAD MORE GoodREAD MORE i was really surprised with the speed of delivery...got the product in less than 12 hours...full 5 starsREAD MORE AverageREAD MORE Super... thanks FlipkartREAD MORE Cork is not worthy. Quality is too poor.READ MORE Not badREAD MORE Original ptoduct.I m happy with that.ty flipcart.today I have just received the item and it seems superb.after playing with the shuttle I will post more review whether it is genuine or not.READ MORE SuperREAD MORE Good job. Reached my purchase. 3 Before the delivery date. Keep it upREAD MORE shuttle are have very speedREAD MORE GoodREAD MORE Damage  product givenREAD MORE good qualityREAD MORE GoodREAD MORE Price to highREAD MORE NiceREAD MORE Not badREAD MORE Good shuttleREAD MORE Good quality productREAD MORE GoodREAD MORE Item was not upto the markShuttle demaged only in 2 days i think stock was not new manufactured 2 or 3 yearsbackREAD MORE Smart buy at only 809..READ MORE This is not mavis350 slow.. the feathers are rough.. and shettle flies outside the court easily. Can\\'t play the proper game..READ MORE Thank you flipkart for arranging the replacement. I am upgrading the stars. But please ensure that such incidents doesn\\'t happen again.READ MORE Good qualityREAD MORE Go fast product not gud,rate too high iam not satisfiedREAD MORE Always better this shuttleREAD MORE It\\'s a good Shuttle for Outdoor.We are always playing with Mavis 350Great Shuttle but \" white is better than green \" 👍READ MORE Genuine Yonex shuttle. Verified the code on sunrise website.READ MORE GoodREAD MORE Super quality and good durabilityREAD MORE excellentREAD MORE Itna kash nai. But nimit okayREAD MORE Very good and thanksREAD MORE It is goodREAD MORE ExcellentREAD MORE GoodREAD MORE The shuttle speed was lower than anticipates as compared to the normal ones brought from the store. Complete waste of money.READ MORE PerfectREAD MORE ExcellentREAD MORE Very good qualityREAD MORE Damaged products..READ MORE Poor quality don\\'t buy thisREAD MORE Nice product and timely delivery.READ MORE Damaged very quickly.Played hardly for 02 matches per shuttle.READ MORE This product is goodREAD MORE Orginal product👍👍READ MORE Value for moneyREAD MORE Go for it...READ MORE GoodREAD MORE Not goodREAD MORE 𝙊𝙪𝙩𝙨𝙩𝙖𝙣𝙙𝙞𝙣𝙜READ MORE Favorite for everREAD MORE NiceREAD MORE GoodREAD MORE good and durable for smashingREAD MORE Awesome productREAD MORE Waste of moneyREAD MORE NYC productsREAD MORE GoodREAD MORE Price to highREAD MORE Good productREAD MORE OkREAD MORE Best qualityREAD MORE NiceREAD MORE Its  tooo bad   quality .its  just running  2  to  3  days onlyREAD MORE Yar suttle is very good but the price is to high for normal studentREAD MORE Not up to the markREAD MORE Very good excellentREAD MORE OkREAD MORE Mmm....okREAD MORE It\\'s a very good productREAD MORE Got genuine product. Even the import stamp says December 2020. Even when there\\'s a shortage of these shuttles import.READ MORE Good quality delivered within 72hREAD MORE Nice n genuine productREAD MORE NYC productREAD MORE Good, compared with other shuttleREAD MORE Waste for moneyREAD MORE Excellent flight and carry. Good for practice.READ MORE goodREAD MORE Good morningREAD MORE Not good product.... Old product.... Faced lots of problemsNot expected such type of problemsREAD MORE One shuttle was not goodREAD MORE Very good quality productREAD MORE Good quality 👌READ MORE No problem its looking like goodREAD MORE Gud product, all shuttles are brand newREAD MORE Great!!READ MORE As expected product.READ MORE Definitely a original product as we got fooled by our localsREAD MORE One of them is broken.READ MORE Good but very costlyREAD MORE 100% originalREAD MORE GoodREAD MORE goodREAD MORE Always best as usualREAD MORE Very niceREAD MORE Bad product. I got two days durabilityREAD MORE Perfect Shuttle for beginners and intermediate players.READ MORE Stick only 2days# Shuttle.READ MORE Slow in speed but very niceREAD MORE It was ok..but little bit slowREAD MORE Good quality 👌READ MORE Always awesome product 😎 👌 😘❤READ MORE Awesome ProductREAD MORE Not durableREAD MORE Great value for money.READ MORE Very nice product superrrrrrrREAD MORE Not badREAD MORE Quality good..READ MORE very old product, very bad quality, broken just in one match, the one I bought from market was good but brought from flipkart is very bad.Never ever buy these shuttle from flipkart.READ MORE osamaREAD MORE Wow . Super super superREAD MORE delivered on time...value for money....go 4 it.READ MORE SprREAD MORE GoodREAD MORE SupremeREAD MORE Each one 150 costly gameREAD MORE Damaged itemREAD MORE goodREAD MORE Very good itemREAD MORE good qualityREAD MORE Good....No choiceREAD MORE Good one, Orginal product.READ MORE WonderfulREAD MORE It\\'s very good quality product...READ MORE GreatREAD MORE GoodREAD MORE SuperREAD MORE The quality of this shuttlecock is not good. After 5 to 6 games, the skirt damage and it become unbalanced and unplayable.READ MORE K betterREAD MORE Very good shuttles...👌READ MORE Item  is  note  same  qualityREAD MORE SuperREAD MORE Good, as expected.READ MORE Bad...products..READ MORE the shuttles failed miserably...one miss hit to the shuttle skirt and it broke from bottom core…READ MORE Very badREAD MORE In some one there is a small small hole in shuttleREAD MORE Not goodREAD MORE GoodREAD MORE AcceptedREAD MORE Very good....READ MORE Not niceREAD MORE Original Good qualityREAD MORE Good productREAD MORE Atom is missingREAD MORE good productREAD MORE Nothing is better than this....READ MORE Quality is going down day by dayREAD MORE GoodREAD MORE Loved itREAD MORE Nice productREAD MORE GreatREAD MORE Very costlyREAD MORE Very nice productREAD MORE GoodREAD MORE Original product. Got it fully packed with yonex hologram. The quality of the product is relly nice.READ MORE Good. But a bit costly this year.READ MORE GoodREAD MORE GoodREAD MORE AwesomeREAD MORE Great purchaseREAD MORE in this roll only  5 games it will  tear, all the way, pls provided  original quality.READ MORE Best productREAD MORE BadREAD MORE GoodREAD MORE Nice shuttle and base is too goodREAD MORE Good QualityREAD MORE Excellent shuttle for outdoor play.READ MORE Fine qualityREAD MORE Good productREAD MORE GoodREAD MORE Very poor quality.READ MORE Genuine product receivedREAD MORE According to the price Quality is goodREAD MORE Original, quick deliver. Satisfactory buyREAD MORE Good productREAD MORE Good productREAD MORE GoodREAD MORE Super 👌READ MORE Really good, Durability is good compared to buy in Amazon. Really I don\\'t know what is the difference.But good.. Thank you flipkartREAD MORE Quality not goodREAD MORE Very Nice ProductREAD MORE The delivery was quick and absolutely the packing was nice and quality was excellent.READ MORE Quality very poor duplicate productREAD MORE Gud productREAD MORE Not bad but . there\\'s holes in the wooden part it course fast damag.. wooden part damaged so fastREAD MORE 3 out of six shuttles are not goodREAD MORE Worrest productREAD MORE GoodREAD MORE Once upon a time these were unbreakable for about a month\\'s usage. But these new one last for about 1-2 weeks tops; with moderate to heavy use. P.S.- Talking about 1 shuttlecock, not the whole pack.READ MORE Superb productREAD MORE The best for badminton preparationREAD MORE GoodREAD MORE Overall good.READ MORE GoodREAD MORE GoodREAD MORE Just goodREAD MORE Good productREAD MORE NiceREAD MORE Nice 👍👍👍👍READ MORE AwesomeREAD MORE Best quality original awesome 💓READ MORE I felt 2-3(total 6) shuttles are not genuine ! .READ MORE NiceREAD MORE Nice product and it\\'s originalREAD MORE Seems like the shuttles were in store from quite long time. Cork became so hard that 3/6 shuttles survived only 1-2 games only. Totally dissatisfied.READ MORE GoodREAD MORE GoodREAD MORE Worst Shuttles received,pls check once you received whether those are new stock or old.READ MORE Good product,  on time deliveryREAD MORE Nice ProductREAD MORE Poor quality of shuttleREAD MORE Good quality. 1 shuttle last upto 3-4 days as we play for 1.5-2 hours daily.READ MORE Super qualityREAD MORE My mom liked it very much ❤️♥️♥️READ MORE Out Of 6 ..4 corks are goodREAD MORE PerfectREAD MORE GoodREAD MORE NiceREAD MORE Quality is not goodREAD MORE Good for outdoor gameREAD MORE This product is good but return and replacement policy is badREAD MORE Speed is fast. So waste my cashREAD MORE Nice one and on time delivery happy ☺️READ MORE niceREAD MORE Nice productREAD MORE good productREAD MORE Worst shuttleREAD MORE Some coke are never use for long runREAD MORE Feather Quickly damage ( maximum 4-5 days )READ MORE Very good productREAD MORE Its better for professionalsREAD MORE Received original m 350 shuttle cork..thanksREAD MORE BadREAD MORE Bad experience. Mentioned slow shuttle, but actually it\\'s very fast. Not at all good for the gameREAD MORE GoodREAD MORE Its real worth and goodREAD MORE This yr 350\\'s durability is so bad. I am disappointed,,😌READ MORE GoodREAD MORE I was using cheaper shuttles before, which barely lasted a week. Then I thought, it\\'s enough, I\\'ll make an investment this time around and buy the good ones for once. I almost play every evening with my brother for more or less, 45 min .......The first one has lasted me for 2 months and is still holding up well. You can go for it. Iam vouching for its longevity and quality.READ MORE Bad qualityREAD MORE VERY NICE PRODUCTREAD MORE Super ProductREAD MORE Good quality as expectedREAD MORE GoodREAD MORE Good quality, thanksREAD MORE SuperREAD MORE Worst product base of every shuttle came within 3-4 games of playingREAD MORE GoodREAD MORE Very niceREAD MORE Best productsREAD MORE V. GoodREAD MORE Very bad low quality productREAD MORE SuperREAD MORE We used to break 1 feather shuttle everyday, this shuttle took one week. We used to play with RSL #4, dint find much difference between these 2 shuttles while playing.We\\'d also played with Mavis350 green cap shuttle, it used to feel little bit heavy and felt jerk while playing shots.READ MORE It\\'s my all time favoriteREAD MORE Good product supperREAD MORE Cost is increasing day by day like gold rate......READ MORE NiceREAD MORE Quality of the shuttle is very good and durable.READ MORE The shuttles delivered are of decent quality.READ MORE GoodREAD MORE Not satisfied, its not like originalREAD MORE This product is excellent 👍👍READ MORE GoodREAD MORE Life time of the shuttle is less but u can play a good gameREAD MORE Very goodREAD MORE GoodREAD MORE WorstREAD MORE Good productREAD MORE Flight is good but it doesn\\'t lasts long.Durability is very poorREAD MORE Very great productREAD MORE the quality of product was  very bad  .this is nt yonex mavis 350.you guys are cheating us .plsss dont buy this product .READ MORE Superb Product. Received as expected and on time.READ MORE Don\\'t buy, shuttles are very slow.Not worth moneyREAD MORE Durable. Economic and very good.READ MORE AwesomeREAD MORE GoodREAD MORE Best. BallREAD MORE GoodREAD MORE GoodREAD MORE AwesomeREAD MORE GoodREAD MORE Excellent product it\\'s better than what I\\'m accepted 😊READ MORE Awesome productREAD MORE Original productREAD MORE GoodREAD MORE NiceREAD MORE Good productREAD MORE Delivery was fast and awesomeREAD MORE Good quality.   Valuable priceREAD MORE Super productREAD MORE Great product for beginners/intermediate players. Good quality. Really satisfied.READ MORE Good quality and durabilityIs lasts upto 10-15 games while playing in doublesREAD MORE NiceREAD MORE NiceREAD MORE nicely packed and welly delivered loved it....all shuttles are in good conditions.READ MORE That shuttle was not so much bad not so much good it was ok okREAD MORE GoodREAD MORE Good QualityREAD MORE It\\'s good original productREAD MORE SatisfyREAD MORE GoodREAD MORE Bad qualityREAD MORE Very poor not even 1 set i can play with 1 shuttle. Too much worse productREAD MORE 2 shuttle damage in time playREAD MORE Good quality....READ MORE GoodREAD MORE AmazingREAD MORE Good product and quality alsoREAD MORE It\\'s really disappointing 😞 . 1 shuttle lasts only for 4 to 6 hard practice matches instead of 10 to 15 practice matches. Very poor.READ MORE Very good product. Durability is goodREAD MORE Nice productREAD MORE It is slow good for playing outside in open courtREAD MORE BetterREAD MORE GoodREAD MORE GoodREAD MORE SuperbREAD MORE Nice productREAD MORE Good qualityREAD MORE Super producyREAD MORE GoodREAD MORE Superb...READ MORE Very niceREAD MORE Awesome product by Yonex.READ MORE Awesome productGenuineREAD MORE very bad very fast poorREAD MORE Nice and light to playREAD MORE It\\'s very bad product. All Shuttle are very low qualityREAD MORE Good for all interest playersREAD MORE NiceREAD MORE Super product , I bought and use this product green 75  slow ...... Good product for out door playing.....READ MORE good quality pruduct good to playREAD MORE Good ProductREAD MORE Super productREAD MORE Good product thanks to flipkartREAD MORE Must buyREAD MORE Very good product , good platform for shopping and good quality .Thank you very much.READ MORE Very niceREAD MORE Best qualityREAD MORE 2 shuttle Were already damaged before even playing , Bottom side of the shuttle was cracked.So  Buy it from. Shops where you can Check the shuttle before purchasing.READ MORE Dont buy.  I got used shuttlesREAD MORE Very goodREAD MORE Love youREAD MORE GdREAD MORE Go for itREAD MORE Nice productREAD MORE Genuine product, verified positively on sunrise tnt. Best shuttle for regular play and cost effective due to its durability.Also, the life of shuttle depends on how less it is mishit, so if shots are better the shuttle will last longerREAD MORE Great product as usualREAD MORE Long lasting and best shuttles,Much more better than expected,Thanks Flipkart..READ MORE Best deal##READ MORE Good for health....try it....READ MORE Waste product. This very fast shuttle. Vendor cheatedREAD MORE Average 👍READ MORE SuperbREAD MORE NiceREAD MORE Quality is good and the product is same how i expected. If we play properly then each shuttle will come for a week. Depends on how we play the duration may change.READ MORE Perfect 👌READ MORE Good one and timely delivered.READ MORE Good productREAD MORE Excellent qualREAD MORE Nice one must buyDont play in wet placesREAD MORE Nice product. Great for playREAD MORE Great and original product with fastest delivery within 2 daysREAD MORE Very goodREAD MORE Product old one Back side of it gets out from corkNot such goodREAD MORE Very good productsREAD MORE Cost is increasing its very bad for this productREAD MORE Very good product and quality is perfectREAD MORE Perfect 👌👌👌.Plzz buy this product ☺️READ MORE GoodREAD MORE expensiveREAD MORE Good qualityREAD MORE Very poor qualityREAD MORE NiceREAD MORE Genuine productREAD MORE SuperREAD MORE GoodREAD MORE Poor quality...READ MORE GoodREAD MORE Always goodREAD MORE Some of these has been broken quickly sometimesREAD MORE NiceREAD MORE Total disappointment.. only 2 match came and then it\\'s tearREAD MORE Good QualityREAD MORE Its quality is very cheap and it is not a value for money productREAD MORE WonderfulREAD MORE Awesome purchase.  Mind blowingREAD MORE Super quality is goodREAD MORE Good productREAD MORE Good product.READ MORE It is not durable. I just hate this productREAD MORE GoodREAD MORE GoodREAD MORE NiceREAD MORE Good one it can be used outside for playing meet the price.READ MORE GoodREAD MORE Very bad qualityREAD MORE Nice productREAD MORE First 2 shuttles didn\\'t even last 15mins. One had defective cork.READ MORE Very fast delivery within a 2 daysREAD MORE Old stock delivered.. 🤐READ MORE I feel cheated, this time Shuttle doesn’t seem to rotate easily.READ MORE Nice product but dilevery slowREAD MORE The quality was not good it got broked in just 5 days so in my opinion it was not worth it.READ MORE Good productREAD MORE Good productREAD MORE really goodREAD MORE Good productREAD MORE Perfect shuttleREAD MORE Out of 6 shuttle 4 of them are low quality. Not getting good shuttle.READ MORE Good oneREAD MORE GoodREAD MORE It\\'s Very bad productREAD MORE UsefulREAD MORE Was little heavy...or fastREAD MORE I received the product as per descriptionGood sellerREAD MORE OkREAD MORE Excellent productREAD MORE Don\\'t Hesitate.. Superb Quality for Junior Professional 100 star..READ MORE Good qualityREAD MORE Good oneREAD MORE Super good one.READ MORE ThanksREAD MORE WellREAD MORE NiceREAD MORE Very bad productREAD MORE Awesome productREAD MORE Light weight and not durableREAD MORE NiceREAD MORE It\\'s my choice....if you want best shuttle then go for it,long lasting ND it\\'s only for professional Smashers...READ MORE The shuttle was too goodREAD MORE NiceREAD MORE GoodREAD MORE This product was cheap and copy productREAD MORE Bad qualityREAD MORE Nice productREAD MORE Very bad the quality is very poorREAD MORE Original product. Verified on site.READ MORE Product quality is not up to the markREAD MORE out of 6 shuttles, 1 was broken.READ MORE As expected from Yonex Mavis 350...Thanx FlipkartREAD MORE Great for outdoor alsoREAD MORE ExcellentREAD MORE Original productREAD MORE Superb..👍👍READ MORE Nic shuttle corkREAD MORE SuperREAD MORE Local totally burstREAD MORE Good quality product.READ MORE I got this for 656 but seemed a fake product as the shuttle was not sturdy compared to other people who were using the same Mavis 350 green cap, disappointed with the purchase.READ MORE BadREAD MORE Good productREAD MORE GoodREAD MORE Travels perfect height and distance but the issue is its not long lasting like the one\\'s we buy from open stores... These kind of last only 5-6 matchesREAD MORE Good qualityREAD MORE Flight is good... using regularly... perfect in indoor...no issue..best in marketREAD MORE GoodREAD MORE v goodREAD MORE Thanks flipcart. I got the original productREAD MORE As usual nothing to say about the quality of this product. I buys one pack in every month. Highly recommended for intermediate players.READ MORE cant play more than 1 days...READ MORE Very nice Shuttle 😄🙂READ MORE GreatREAD MORE Good productREAD MORE SupperREAD MORE Nyc product... thank you so much FlipkartREAD MORE very good quality productREAD MORE goodREAD MORE Its a good quality product.. must tryREAD MORE Its normal and coolREAD MORE One of the Best But some shuttles are bad they are not properly attachedREAD MORE NiceREAD MORE Shuttle good and price is to good compare. To marketREAD MORE Nice productREAD MORE Flipkart proudak is very Good quality...!!  I Like it...READ MORE Very goodREAD MORE Good qualityREAD MORE Good product 😃READ MORE Bad shuttleREAD MORE Now a days mavis 350 have low quality..brocken the crok after two matches..most of the cork in the box are useless.. bad product.. please improve the quality as the old..READ MORE NiceREAD MORE Not that good.Flight is very low.  Only suitable for beginnersREAD MORE Nice product , Thanks to flipkartREAD MORE nice productREAD MORE Excellent product recived by seller and gret dilivery by flipkartREAD MORE NYCREAD MORE Superb productREAD MORE Good product. Correct speedREAD MORE SuperREAD MORE Most professional shuttleREAD MORE Coke is not as per original...cannt play more than 5 days ... quality is not good ...READ MORE GoodREAD MORE Got as described.READ MORE Value for moneyREAD MORE Good enough. Nothing more. Nothing less.READ MORE Super productREAD MORE Very niceREAD MORE Best Quality productsREAD MORE Supr qualityREAD MORE Very good..READ MORE Good product 👌READ MORE GoodREAD MORE Good qualityREAD MORE Good one.READ MORE Quality  is not goodREAD MORE good productREAD MORE Blindly we can go for it for indoor and outdoorREAD MORE Really nice product for meREAD MORE Just 😎awesome👍👏👍👏😊READ MORE GoodREAD MORE Superb qualityREAD MORE The bottom sole is very hard.READ MORE I don\\'t get perfectREAD MORE Not badREAD MORE Better than Yonex Mavis 200iREAD MORE Good productREAD MORE BestREAD MORE Good shuttle forever.....READ MORE Good, got below market price.READ MORE Excellent quality!READ MORE Original productREAD MORE Yonex is Yonex , no comparison , good service and timely deliveredREAD MORE Good quality productREAD MORE Just okREAD MORE More gap between fork and featherREAD MORE One of the six shuttle was damaged.Bottom part of the shuttle got separated.READ MORE SuperREAD MORE I ordered two boxes one is good but in other box 4 shuttle didnt spin well , so go its not good experience to purchase boxes onlineREAD MORE Good qulit better emporve to qulatieyREAD MORE Delivery was good and product is excellent.READ MORE Very nice productREAD MORE Very goodREAD MORE Great and perfect with no defectREAD MORE NiceeeREAD MORE OkREAD MORE Good ProductREAD MORE It was not the same shuttles ordered before. Tags are fine but weight and quality are worse. Wasted two weeks using thoseREAD MORE Original product received before time.READ MORE Its is fabulous 🙂🙂🙂 go for it....READ MORE Always great fun to play with 350sREAD MORE Perfect and orginal product deliveryREAD MORE Unexpected price .. thanks flipkart..??READ MORE RecommendedREAD MORE Weight is little light then expectedREAD MORE GoodREAD MORE Very niceREAD MORE GoodREAD MORE BestttREAD MORE NiceREAD MORE Simply superREAD MORE Best for the priceREAD MORE Good productREAD MORE Good ProductREAD MORE Very bad product.i think it\\'s local made.quality of wood is very poorREAD MORE worthREAD MORE Pretty good. Been using it for a month now, it\\'s really durable.READ MORE Nice ., long lastingREAD MORE Super productREAD MORE GoodREAD MORE I give three star because my product is damage be carefulREAD MORE AwesomeREAD MORE I bought it for 419 in flipkart I totally bought  7 with that priceREAD MORE GoodREAD MORE NiceREAD MORE Great i need this long durableREAD MORE Thank youREAD MORE Nice productREAD MORE Good qualityREAD MORE As per my expectationsREAD MORE Excellent....READ MORE Nice product.READ MORE Up to the markREAD MORE Excellent got it for 420 during bbd.READ MORE 100% Original productThanks Flipkart 🔥READ MORE GoodREAD MORE Good qualityREAD MORE NiceREAD MORE #Very bad all shuttle damaged in 2 gameREAD MORE Awesome productREAD MORE Excellent packing and on time deliveeyREAD MORE Nice product...READ MORE AmazingREAD MORE Just it is  runable, not  lastingREAD MORE Good oneREAD MORE Slightly seepREAD MORE NiceREAD MORE Nice,with better strength.u can pay or practice what ever u wantREAD MORE nice oneREAD MORE NiceREAD MORE Mast qualityREAD MORE Bad productREAD MORE AwesomeREAD MORE Nice packaging , quality product.READ MORE Bottom BUD was not plastic better buy another modelREAD MORE Light weightREAD MORE Verynice productREAD MORE It is super product 👍👍READ MORE Always damagedREAD MORE Good productREAD MORE This shuttles are really good for the intermediate players, have good durability and strength.READ MORE Worst .. I have never used such waste Mavis 350 .. all 6 corks are rotating.. We trust you so please sell decent ones ..READ MORE Nice qualityREAD MORE The Mavis 350 Shuttle and pricing is the best. Packaging was minimal and for the first time in many orders it was damaged at one end and one side was open with lid smashed . So don\\'t know about the authenticity and durability this time. Only will know after using all shuttles.READ MORE Good qualityREAD MORE SuperREAD MORE excellent productREAD MORE It\\'s good,original genuine yonex Mavis 350 slow product,..READ MORE dadly bad productREAD MORE I happyREAD MORE Good quality...READ MORE Already used it.READ MORE 3rd class quality of shuttle.Not upto expectations.Shuttle breaks in less than 2 days.READ MORE Not so much satisfied but good quality.READ MORE Very goodREAD MORE Original qualityREAD MORE I am playing at outdoor all six balls are not a original very less weight just 6 to 8 games ball fully damageREAD MORE Not upto the mark it\\'s not capable for playing in the indoorREAD MORE GoodREAD MORE Nice oneREAD MORE SuperREAD MORE Valuable product. Worth for the money. Good quality shuttles. My personal opinion is go for it..each penny is valuable.READ MORE OkREAD MORE SuperREAD MORE Bad qualityREAD MORE as expected. Durable for 10 or more gamesREAD MORE Excellent product and very good qualityREAD MORE Yeah genuine product for sureREAD MORE Perfect and highly recommendREAD MORE Good productREAD MORE Good for the bug\\'sREAD MORE Very good shuttle.READ MORE They really are durable , I tried a lot of shuttles from Li ning , Cosco and even from yonex but this one is most durable of all but a little costly. Go for it if they are in your budget.I forgot to add , I got it for around 700 so it was nice for that priceREAD MORE GoodREAD MORE SuperREAD MORE Yonex always a great one and own our heartsREAD MORE Worst packing all shuttles are damagedREAD MORE very good but please limit the price to 600READ MORE NiceREAD MORE Waste of moneyREAD MORE GoodREAD MORE Very goodREAD MORE product was okREAD MORE Product is good and genuine.READ MORE SuperREAD MORE GoodREAD MORE goodREAD MORE Price  very goodREAD MORE NicrREAD MORE Good product recommended for purchaseREAD MORE Good value for moneyREAD MORE This is best , 100% paisa wasul.READ MORE Not goodREAD MORE GoodREAD MORE Too much costly looking for alternativeREAD MORE OkREAD MORE Not a good quality shuttle unable to verify the product in given websiteREAD MORE GoodREAD MORE Now bedREAD MORE Good productREAD MORE Nice productREAD MORE Super💞💞😍READ MORE NiceREAD MORE NiceREAD MORE SupperREAD MORE It wont last in outdoor courtI prefer mavis 10👍READ MORE BEST PREFERENCE Original yonex and best quality.READ MORE Very bad product waste moneyREAD MORE 🖤loveditREAD MORE GoodREAD MORE Nice 👌 worth the moneyREAD MORE Good productREAD MORE OkREAD MORE Value for money shuttleREAD MORE Rally is goodREAD MORE They are good . The market price is 840 but I got it at 650 . Nice buyREAD MORE Nice productREAD MORE Medium quality..READ MORE I got used product in this purchase.....READ MORE OkREAD MORE The product is very good . And the delivery was on the time .It only take 2 daysREAD MORE Awesome productsREAD MORE Very goodREAD MORE The product is original . Recieved one day before estimmelivery time . Delivery boys\\' behaviour was very good .I have purchased it for 689READ MORE First look   and first taken corck is good...  balance shuttle on the way....  better shuttle.....READ MORE Well Packed and very quickly delivered. Quality of the product is too good as expected.READ MORE 2 corks r slightly damaged but others r okayWorth to buyREAD MORE Good oneREAD MORE Delivery is fast and good.price is too muchREAD MORE Perfect and originalREAD MORE Great product  and deliveryREAD MORE It seems ok by looks. I would rewrite after using whole 2 tube of shuttle.READ MORE NiceREAD MORE The very first use the Cork become loose from the skirtREAD MORE Very well shuttleREAD MORE Good Quality  I am satisfied this productREAD MORE Nice product. Original product.READ MORE ExcellentREAD MORE This Mavis 350 is indoor purpose good and outdoor players also uses when no air is there in playing time Ok good  product 👍READ MORE SupebREAD MORE Green capREAD MORE NiceREAD MORE Nice productREAD MORE goodREAD MORE A good quality product, all the 6 shuttle are looking perfect without any defects. Using it from past 7 days and still even after many smashes and so many hours of play shuttle is holding its shape properly.READ MORE Good for indoor and outdoor as wellREAD MORE Good but price is to much highREAD MORE Just love itREAD MORE Its tragectory of flying is ultra smooth, but comprising little durability its cork only survive for 1 hr daily play of 5 dayREAD MORE Genuine productREAD MORE Good productREAD MORE SuperREAD MORE Very niceREAD MORE GoodREAD MORE NiceREAD MORE Dont buy local shattle second qualityFlipkart cheat meREAD MORE Good original product...at low prices.. thank youREAD MORE Thank you very much for timely deliveredREAD MORE AmazingREAD MORE SuperbREAD MORE Product is good . But I\\'m disappointed with flipcart because the delivery man is taking extra charges during cash on deliveryREAD MORE NiceREAD MORE this product is very good for practice, but don\\'t compare to feather cork.READ MORE Quality is goodREAD MORE This product is good but more lite requared.READ MORE SuperREAD MORE Nice product and good serviceREAD MORE Good qualityREAD MORE Good qualityREAD MORE Not so goodREAD MORE superREAD MORE SuperREAD MORE Not badREAD MORE God quality and good response.READ MORE Best PriseREAD MORE BetterREAD MORE Super. Produced..READ MORE Taken 2 weeks time to deliver the product. Product is not upto the mark. Don\\'t buyREAD MORE Best Balanced Shuttle...READ MORE Its good ...READ MORE The bestREAD MORE GoodREAD MORE Very good productREAD MORE Nice shuttleREAD MORE BetterREAD MORE Good..READ MORE Nice one....READ MORE Excellent product .. fast deliveryREAD MORE NiceREAD MORE Nice 👍READ MORE GoodREAD MORE SuperbREAD MORE Go for itREAD MORE Better quality than any otherREAD MORE All good, lightREAD MORE Good Quality.READ MORE Nice productREAD MORE Shuttle are really slow and better for playing at indoorsREAD MORE product is originalREAD MORE Nice productREAD MORE Very good productREAD MORE GoodREAD MORE GoodREAD MORE GoodREAD MORE goodREAD MORE Good quality product worth of moneyREAD MORE HUMBLY THANKS FOR THIS COOL PRODUCTREAD MORE Best In RangeREAD MORE This shuttle is break very fast It is not better then  Mavis 200iREAD MORE Tnq for fast delivery and exact productREAD MORE ExcellentREAD MORE Ordered for slow, but all the shuttles are too fast, disappointed this time. Moving forward will see alternative.READ MORE Good durability and fast recoveryREAD MORE GoodREAD MORE 2-3 shuttles inside the barrel were not good...they were like if you try to play it will be rotating.READ MORE worst qualityREAD MORE Good product in quality and for practice. Each shuttle will work for min 10-15 days if you are playing intensively.READ MORE Good shuttlesREAD MORE Super QualityREAD MORE Good.READ MORE Nice productREAD MORE Good productREAD MORE good prodactREAD MORE Good enoughREAD MORE Good itemREAD MORE NiceREAD MORE Very pooor quality. It\\'s already finished a box in 2 days.READ MORE Nice shettles,maintained quality till 15 matches,i think it can maintain its quality up to 30 and contineous,totally a good product,thanks to flipkart and the seller.....READ MORE Nice shuttleREAD MORE very good productREAD MORE Original itemsREAD MORE As per expectations... I was lil hesitant buying online but great experiance... genuine product..READ MORE 1 Number ProductREAD MORE Yonex is always my first choice.READ MORE Good qualityREAD MORE The best quality product from Yonex...READ MORE Bad qualityREAD MORE Very bad product...Got damaged within a return period!!!And also not played heavily!!! worst from FlipkartREAD MORE Very worst productREAD MORE Very bad quality, playing only 3-4 days damaged.READ MORE Average quality. You can palay 5 to 10 game roughly.READ MORE Good oneREAD MORE NiceREAD MORE Good choiceREAD MORE Worth the amount invested. Great quality productREAD MORE Superb collectionREAD MORE Too good to playREAD MORE Good shapeREAD MORE Good productREAD MORE It is good qualityREAD MORE Great productREAD MORE SuperREAD MORE Nice....READ MORE Original product, graet , felling very ,Happy.READ MORE AwesomeREAD MORE Good product from yonexREAD MORE GoodREAD MORE Excellent product and worth the priceREAD MORE Amazing for outdoor gameREAD MORE Yellow Nylon Shuttle are much more reliable than whiteREAD MORE Genuine product at a subsidised price. Thank you FlipkartREAD MORE GoodREAD MORE GoodREAD MORE good qualityREAD MORE SuperREAD MORE Really nice shuttles. Almost one and a half months have passed and we are still playing with the first shuttle we took out of the box, with light hitting of around 1 hour daily.READ MORE NiceREAD MORE Good productREAD MORE I need more slowREAD MORE Nice one 👍READ MORE Good  productREAD MORE GoodREAD MORE V goodREAD MORE Good quality shuttle at a good price...READ MORE NiceREAD MORE Go for it ... highly durable ....quality is good ...READ MORE Very nice productREAD MORE The best available in market.READ MORE SlowREAD MORE Nice one. good packagingREAD MORE SuperREAD MORE ExcellentREAD MORE Good quality productsREAD MORE It can last long only by the kids. We college students have finished all the shuttles within a month.READ MORE Very goodREAD MORE Go awayREAD MORE Best in the business. One shuttle lasts for at least 40-50 hard smashing matches . Even after that the shuttle remains in one piece and you actually change it for rectifying some balancing issues.READ MORE NiceREAD MORE Really amazingREAD MORE Super and very nice 👌READ MORE Fabulous slow shuttle best in this categoryREAD MORE ExcellentREAD MORE Superhit product& superfast delivery by flipkart👌👌 100/100 for very nice experienceREAD MORE SuperREAD MORE GoodREAD MORE The quality is very good and i recommend itREAD MORE GoodREAD MORE Just got within days of order.  Quality is very nice.  Blindly buy itREAD MORE SuperREAD MORE Super goodREAD MORE The product is very good and the shuttle is same as Mavis 350 of green color. Awesome product and I loved it very much. One negative is that it sometimes gets disappear in white LED light while playing but it is of the same kind of green one.READ MORE NiceREAD MORE GoodREAD MORE SuperREAD MORE ExcellentREAD MORE Very nice product n delivery  is very fastREAD MORE Good productREAD MORE Good shuttles, excellent for indoor and windfree outdoor badminton games.READ MORE AwesomeREAD MORE Shuttles are genuine. You can follow steps to check whether it is genuine or not.READ MORE Good qualityREAD MORE Good product ?READ MORE To good quality thanks flipkartREAD MORE SuperbREAD MORE NiceREAD MORE NiceREAD MORE Gr8 productREAD MORE Good product,, Better quality .... 4/5READ MORE Hyper delivery  with good quality packaging and quality nylon shatilaREAD MORE Good one for us. We play outdoor everyday. Constant play for 2 hours. The shuttle lasted for three weeks. We don\\'t play professional but we do play hard. And few of us are not really good so we hit the shuttle with the rod as well. But still the shuttle is good. The one point I removed is for the plastic which starts to get ruptured and the price should be within middle class range. It is a little higher.READ MORE GoodREAD MORE Looks nice,new packing,very fast delivery only 2 daysREAD MORE FantasticREAD MORE Awsome.. precision is 👌👌👌READ MORE not badREAD MORE GoodREAD MORE Wen I purchase 3rd time quality was very bad... not even stand for just 1 game😭READ MORE GoodREAD MORE Good quality .. delivered in 2 days .. less than shop priceREAD MORE Product delivered before the expected delivery within 48 hours, received genuine product as expected.Thanks flipkartREAD MORE Good qualityREAD MORE WonderfulREAD MORE Superb product at good quality and with reasonable price.READ MORE goodREAD MORE Good productREAD MORE Those balls r not in good qualityREAD MORE AwesomeREAD MORE Suitable for indoor,, highly recommendedREAD MORE Original product.... Thanks for sending original products....READ MORE BestREAD MORE Good productREAD MORE GoodREAD MORE Great product and reasonable price , too cheaper than offline purchase and good delivery service as wellGo grab itIt\\'s a great deay ❤️❤️READ MORE Not badREAD MORE Nice ...👍🏻READ MORE FineREAD MORE OkREAD MORE Very goodREAD MORE Not goodREAD MORE GoodREAD MORE Ist time i purchased, got original product. But after 4 month 2nd time i purchased, got duplicate product.READ MORE nice shuttle... You can buyREAD MORE ExcellentREAD MORE Very good.product.. genuine..READ MORE SuperREAD MORE Excellent shuttles. I have been using them since years. Best quality.READ MORE SatisfactionREAD MORE Nice shuttles and reasonable price. excellent qualityREAD MORE In a box 1 or 2 pieces lightly damagedREAD MORE GoodREAD MORE More damages.READ MORE Super cockes white nis projectREAD MORE awesome shuttleREAD MORE NiceREAD MORE Worth of moneyREAD MORE GoodREAD MORE Now a days duplicate is comingAfter one game it become a rocket....READ MORE Pro levelREAD MORE Genuine quality with super fast delivery.READ MORE It\\'s good to use..... Very nice productREAD MORE GoodREAD MORE SuperREAD MORE Superb and high quality productsREAD MORE niceREAD MORE GoodREAD MORE Clean and neat. I received it. Exact as advertisedREAD MORE Super and best qualityREAD MORE Best productREAD MORE Good qualityREAD MORE Orginal same oneREAD MORE Nice productREAD MORE GoodREAD MORE Good qualityREAD MORE GoodREAD MORE GoodREAD MORE Awesome....READ MORE Nice product, Must BuyREAD MORE Quality product!READ MORE PerfectREAD MORE GoodREAD MORE Thank you Vishnu nice delivered the productREAD MORE GoodREAD MORE Superb qualityREAD MORE Tx product but price costlyREAD MORE Nice productREAD MORE GoodREAD MORE Are durable & quality is satisfying..READ MORE Excellent workREAD MORE Satisfied with the productREAD MORE Nice product but price is quite high than marketREAD MORE Shuttles are 100% genuine...pls go head of any one want to buy..READ MORE GoodREAD MORE Must buyREAD MORE Good qualityREAD MORE good qualityREAD MORE Every time we r fecing problem order not teking why ru doing  like this ur doing bussiness we r orders perfect payment why don\\'t u take ordersREAD MORE GreatREAD MORE Good ....READ MORE SuperREAD MORE NiceREAD MORE Beautiful productREAD MORE Overall product is good but Price is a bit highREAD MORE BetterREAD MORE old stock. It was medium speed but practically very fastREAD MORE goodREAD MORE Good qualityREAD MORE Good to play.Very durable and long lasting.READ MORE GoodREAD MORE Cheap and best product ever we can find with this rate in other shopping sites thank you flipkartREAD MORE GoodREAD MORE REALLY GOOD PRODUCT 👌READ MORE NiceREAD MORE Nice oneREAD MORE Good original productREAD MORE NICREAD MORE Yonexxx is yonexxx don\\'t compare it with others.READ MORE Yonox is yonox Great qualityREAD MORE Value for money nice cork worth itREAD MORE Long lastingREAD MORE NiceREAD MORE Good quality lasted for more than 30 matches a single cork .READ MORE Few are medium speed eventhough they are green capNo consistencyREAD MORE Super originalREAD MORE Good one, I feel speed different between green vs whiteREAD MORE Best quality superREAD MORE GoodREAD MORE I love your products 😍❤️💖♥️♥️♥️♥️♥️♥️READ MORE Best buyREAD MORE GoodREAD MORE As good as expected 👍READ MORE Quality cheating worst of moneyREAD MORE Quality is very good and the delivery is very quick.READ MORE Very good product and delivery before due date. If you are planning to purchase Mavis10/ Movies 200i please don\\'t waste and go for 350.READ MORE Very slow shuttle , I feel dulicateREAD MORE Very nice productREAD MORE Shuttle is Nice and well packed   Thanks FlipkartREAD MORE Good ! Go for itREAD MORE Best choiceREAD MORE Super but it is slowREAD MORE It\\'s awesome..READ MORE It\\'s not suitable in open ground practice, it feels heavy weightREAD MORE NicREAD MORE Original productREAD MORE It is a good product at affordable price @729rupeesREAD MORE GoodREAD MORE Good qualityREAD MORE best for Open groundREAD MORE ExcellentREAD MORE Good Quality I play 2 hours vigoursly daily each shuttle last for 2 days if played vigoursly(smashes) otherwise 3-4 days each shuttle. This is my 7th shuttle box ordered under Retail.Net. But lot of price up/downs, I think due to huge demand.READ MORE Good & genuine shuttleREAD MORE It\\'s not original one.Failed sunrise test. I was unable to scratch the hologram to get the code.READ MORE gud qualityREAD MORE BetterREAD MORE SuperREAD MORE Excellent...READ MORE GoodREAD MORE The product i reseaved was bad.READ MORE NiceREAD MORE GoodREAD MORE Perfect 👌 original,fast deliveryREAD MORE Nice shuttleREAD MORE Green should b slow... but it was fastREAD MORE Very good qualityREAD MORE Nice product.READ MORE Very niceREAD MORE Nice..READ MORE NiceREAD MORE Good qualityREAD MORE NiceREAD MORE BadREAD MORE Very bad Every day one gets damagedREAD MORE Very good long lifeREAD MORE Good oneREAD MORE Good one...!!READ MORE Original but price is too muchREAD MORE GoodREAD MORE Good productREAD MORE It\\'s niceREAD MORE Good productREAD MORE In the absence of Mavis 500 this is the best product.READ MORE The first shuttle i use is bit fast.. but now the 2nd and third is good to play with.. Appropriate Speed and good to use.. Go on if u r not a national player... 😎😛READ MORE 2 shuttle out of 6 was partially Manufacturing defected. product was looking original. Seller should pay attention that customer is paying amount for 6 shuttle.READ MORE Good turst itREAD MORE Worst product I think Mavis 350 was more durable than average shuttle but thought of mine was a clear blunder as it doesn\\'t lasts for at least 1day. The cork was broken after 6-7 set play. If you plays in indoor then you can go with this otherwise you will donated money to FlipkartREAD MORE OkREAD MORE Genuine product😀READ MORE GoodREAD MORE Suitable for play and reasonable price.READ MORE Have been purchasing the shuttles from Flipkart for a very long time now. But the quality of the shuttles has been lacking recently. May not buy anymore due to lack of Quality.READ MORE Very fast delivery thank you flipkartREAD MORE Good productREAD MORE GoodREAD MORE nice oneREAD MORE FineREAD MORE GoodREAD MORE WorthREAD MORE Important month and delivery month, 😀same.... Totally new®️®️®️®️®️®️🙏READ MORE The product is too good I like it very much Flipkart is the brand app I think so but the think always good and perfect 😘😘👌👌👌keep it up👍👍👍READ MORE Good qualityREAD MORE It doesn\\'t felt to be a good one, the cork speed was different for each cork.READ MORE Check them if they are original or fakeMine are originalREAD MORE SuperREAD MORE This white one is very bad, worthless, Better to go for YellowREAD MORE Good product at good price. Quality is also very good. It\\'s perfect for playing..READ MORE It\\'s very goodREAD MORE Nice productREAD MORE Outdoor coats that shettel is very badREAD MORE Very good qualiyt.READ MORE GoodREAD MORE goodREAD MORE Good product...READ MORE This shuttle is vey durables even if u play rigorously,it lasts 4 to 5 days.So light n good to play.READ MORE Genuine and good. Goes a long way.READ MORE Playing is good but very short life.... may be old stock . I use 350 from very long time it lasts for 5 to 7 days easily but this time each shuttle stands for hardly 3 days . All shuttles goes in same way cork breaksREAD MORE niceREAD MORE Quality product....READ MORE Just okREAD MORE Good package and good productREAD MORE Thanks for yonex and these are best for both indoor and outdoor any one can go through this product blindlyREAD MORE NiceREAD MORE goodREAD MORE good one but delivery was tooo late.READ MORE NYC productREAD MORE good oneREAD MORE NiceREAD MORE SuperrrrbREAD MORE GoodREAD MORE ExcellentREAD MORE Good productREAD MORE Good QualityREAD MORE GoodREAD MORE Nice product .READ MORE Gud 1READ MORE GoodREAD MORE RecommendedREAD MORE value for moneyREAD MORE Nice and good shuttlecock Very fast delivery I love it Thank u flipkart deliveryREAD MORE SuperREAD MORE Good value for money and speed delivery.READ MORE Best qualityREAD MORE FlexibleREAD MORE Superb 👌READ MORE Good oneREAD MORE Nice qualityREAD MORE Simply Perfect 👌READ MORE Nice and durable Specifically... very effective for beginnersREAD MORE FantasticREAD MORE It get damaged at fast.READ MORE The rubber is not qualifyREAD MORE SuperREAD MORE Good quality & faster deliveryREAD MORE Waste.....waste....waste...loss of money..!Don\\'t buy guysREAD MORE As always. It\\'s the best buy. And Flipkart is the right place for thisREAD MORE Excellent product!!READ MORE Gud 1READ MORE Shuttle is very good in quality.And the rubber part is also very smooth for paly.READ MORE Awesome must buyREAD MORE very worstREAD MORE Great for that priceREAD MORE Loved it...READ MORE Package was good and they sent latest mfg part.READ MORE SupperREAD MORE GoodREAD MORE Packing is very worstREAD MORE Nice shuttleREAD MORE Super dealREAD MORE GoodREAD MORE Excellent productREAD MORE Highly durable! Will buy moreREAD MORE I feel better now when I am playingREAD MORE Good product...original and good price than marketREAD MORE Order to Delivery completed in 35 hours. Great Flipkart...READ MORE Best qualityREAD MORE Still goodREAD MORE Nice. Very fast delivery by flipkart. Delivered next day in small city banswara,Rajasthan. Superb. 5 star for delivery.READ MORE Good quality.READ MORE Best product flipkart,4 players continues play per day 4 hour 8 day one cork.READ MORE Good oneREAD MORE GoodREAD MORE osm product....READ MORE Good jobREAD MORE Good oneREAD MORE Value for moneyREAD MORE Good productREAD MORE Good productREAD MORE It\\'s good in slow.... I\\'ll pref fast one.. Overall its goodREAD MORE Best one...., ⭐⭐⭐⭐⭐READ MORE good productREAD MORE Quality productWonderful deliveryDelivered on timeGood packagingREAD MORE GdREAD MORE NiceREAD MORE GoodREAD MORE This Product is perfect for regular badminton players, in Indoor atmosphere.READ MORE Simply awesomeREAD MORE The product i received was not good.READ MORE Mainde  blowingREAD MORE Gud productREAD MORE NiceREAD MORE Excellent productREAD MORE Genuine product by yonex. Durable shuttles.READ MORE Bottom part use to come out white smashREAD MORE Nice specifyREAD MORE It\\'s highly durable and of great quality...I just loved it 🥰READ MORE BestREAD MORE Poor qualityREAD MORE Using it for few weeks... So far performance is okay...have good shot strength... easily recommendable.... durability have to be checked..READ MORE It is strictly made to meet the Indoor Conditions. Don\\'t buy this if U are playing in Outdoor Conditions.READ MORE GoodREAD MORE NiceREAD MORE Delivery service simply superbREAD MORE Delivery boy is very helpful.READ MORE It\\'s not a bad product. but quality is not good  that\\'s it..READ MORE Nice oneREAD MORE It\\'s looking cute and also it\\'s playing greatREAD MORE good product .READ MORE Good👌🏻READ MORE Good, no one is damaged all  shuttles are goodREAD MORE Really Good... Recommended... I will bought it againREAD MORE Good jobREAD MORE Super. Must buy. Thanks to flipcart for good service and their super fast service is \"never before\".READ MORE evergreenREAD MORE ExcellentREAD MORE Box same but shuttlecocks changeREAD MORE Mavis is massive shuttleREAD MORE Nice productREAD MORE Excellent slow moving durable productREAD MORE Very niceREAD MORE Quality vevy very very very bad....whyREAD MORE Good product must buy.......READ MORE very good productREAD MORE Very goodREAD MORE Very good quality and very durable product.READ MORE Should be economic, higher cost causes less people will attract to bedmintonREAD MORE Awesome product 👌👌👌👌READ MORE best qualityREAD MORE good productREAD MORE Good product 👍 so thank you flipkart and sellerREAD MORE SuperREAD MORE WellREAD MORE Slow shuttle nice productREAD MORE Powerful shuttleREAD MORE GoodREAD MORE Timely delivery. Satisfactory under paying conditions.READ MORE Received in sealed pack.Thanks flippcart and its seller.READ MORE Got this product in 2 days heavenly awesomeREAD MORE Nice productREAD MORE SatisfiedREAD MORE Rightly priced... Good Quality..worth the buy..Daily usage and durable too..READ MORE Superb. Very durableREAD MORE Nice productREAD MORE Absolutely fantastic!READ MORE Very fantastic product but their plastic is so light weightREAD MORE GoodREAD MORE GoodREAD MORE too much exepensiveREAD MORE Good one, best choice, super qualityREAD MORE Nice product tq flipkartREAD MORE Best shuttlesREAD MORE Wonder fullREAD MORE Not so good as expected....READ MORE Gud oneREAD MORE ones more time | booked this item From rallinet they cheat me send a dummy Product in the box of YonexREAD MORE Good purchase..READ MORE Good qualityREAD MORE NiceREAD MORE Excellent product.I love the delivery of flipkartREAD MORE Its very poorREAD MORE SuperREAD MORE Ok ok, yellow colour is best compared to thisREAD MORE Good  productREAD MORE Very NiceREAD MORE Good product worth buying...READ MORE a GOOD productREAD MORE Very good product and good priceREAD MORE Best buy and its the original productREAD MORE Good than expectedREAD MORE Super long lifeREAD MORE Not good & lasting.....READ MORE GoodREAD MORE Awesome experience.READ MORE Very badREAD MORE Good qualityREAD MORE GoodREAD MORE Mind blowing super fantasticREAD MORE GoodREAD MORE Good productGood coveringREAD MORE Good Product.READ MORE Best qualityREAD MORE Best qualityREAD MORE Thanks to Flipkart, fast delivery. One day before. Thanks to  Ekart corrier alsoREAD MORE GoodREAD MORE Nice quality....awesome yonex is yonex ....baap is baap 😍😍😍READ MORE GoodREAD MORE ExcellentREAD MORE Good productREAD MORE Very slowREAD MORE Good product. Packing was little damaged but internal product found safe.READ MORE Not badREAD MORE Gud but need a liitle bit imporovementREAD MORE Nice product.READ MORE GoodREAD MORE Good quality stuffREAD MORE Very good shuttle for intermediate users 🍁READ MORE GudREAD MORE Nice.and yonex 350 is better than 2000.first I confused very much.at last by some other frnds I ordered this product and was very nice no doubtREAD MORE Brand no more wordsREAD MORE Must buyREAD MORE Good but bit expensiveREAD MORE Value for moneyREAD MORE Excellent ,After buying this product ,again I ordered another packREAD MORE Very good quality.READ MORE Genuine productREAD MORE Second time deliverd orginal product thanks flipkartREAD MORE good qualityREAD MORE Very goodREAD MORE One day late delivery but okREAD MORE Very NiceREAD MORE Got original product checked in sunrise.com..go for itREAD MORE Good quality productREAD MORE GoodREAD MORE Don\\'t buy this item product missing.READ MORE Right product send by sellerREAD MORE ExcellentREAD MORE GoodREAD MORE GoodREAD MORE Superb shuttlesREAD MORE NiceREAD MORE NiceREAD MORE Good enough to playREAD MORE OkREAD MORE Nice productsREAD MORE NYC oneREAD MORE GoodREAD MORE Yonex 350 we r using this since 6 7 yrs. It is of good quality.. Better price than open market shops..better to select slow if you are playing outdoor shuttle..READ MORE NiceREAD MORE Super Cheap rateREAD MORE Know for its durability..no need to mention it go for itREAD MORE Happy because I got it for reasonable price. Hope I will get the same product again with the same priceREAD MORE NiceREAD MORE Very good, timely delivered, thanks to  flipkartREAD MORE AwesomeREAD MORE SuperREAD MORE goodREAD MORE goidREAD MORE Genuine product. Thank you FlipkartREAD MORE NiceREAD MORE NycREAD MORE Best quality but high price.READ MORE GoodREAD MORE GoodREAD MORE SuperREAD MORE Best shuttle toREAD MORE Good productREAD MORE Maximum 10 daysREAD MORE NiceREAD MORE Nice product I m using it from 5 yearsREAD MORE Best qualityREAD MORE Great product which is both durable and light weight.READ MORE Quality shuttles and speedy delivery by flipkartREAD MORE Delivery done super fast but it\\'s price keeps increasing regularly. WorrisomeREAD MORE Nice product but feather top is mostly damagedREAD MORE good for only beginners or time pass players ,because it flies very slow , if you want to play fast game pick faster one .  quality is really good 1 will come for 100 hours play. i bought them for 750 bit high for slow version.READ MORE NiceREAD MORE NiceREAD MORE VniceREAD MORE NiceREAD MORE Super........READ MORE Really Fantastic 👍READ MORE every purchase rate increased and product quqlity not goodREAD MORE Product quality not goodREAD MORE goodREAD MORE Waste shuttles too old and wet shuttles don\\'t sell this type of old and useless products sorry to say this next time you sell good productsREAD MORE Good product but very costly...READ MORE Some shuttlecocks were faster on indoor court.READ MORE Its a premium shuttle.  LonglastingREAD MORE GoodREAD MORE Quality was not goodREAD MORE Good qualityREAD MORE GoodREAD MORE Product not goodREAD MORE SuperREAD MORE GoodREAD MORE Best shuttle in market.. No one near to yonex..READ MORE the rate is costly compare to regular price.it is helpful if u reduce price.READ MORE Awesome productREAD MORE good productREAD MORE Once again fabulous work flipkart.Great product and great packing.Lot of appreciation for you flipkart.READ MORE SuperREAD MORE NiceREAD MORE Thank you Flipkart and saler super quality on low priceREAD MORE WonderfulREAD MORE SuperREAD MORE Excellent purchase...READ MORE NiceREAD MORE Good quality shuttles  best for indoor in nylon shuttlesREAD MORE NiceREAD MORE GoodREAD MORE GreatREAD MORE Good one for outdoor play also In indoor play very good shuttle to play But confused in 75 & 77..?what is the difference..?READ MORE Good quality.READ MORE GoodREAD MORE Best shuttles that i used in my lifeREAD MORE superREAD MORE GoodREAD MORE Good in qualityREAD MORE Ty flipkart got genuine productREAD MORE Not badREAD MORE It\\'s not original.dummy item , don\\'t purchase.READ MORE best...for begginer to middle class player....packing was good....i am shocked about....delievery...flipkart deleiver it within 17 hours....amazing very quick service by flipkart.....for delievery 10/10READ MORE GoodREAD MORE NiceREAD MORE SuperREAD MORE GoodREAD MORE Delivery on time but quality not match with YONEX.  Not trustworthy with originalREAD MORE Best of this price excellent qualityREAD MORE Nice one! Buy it before thinking even twice.READ MORE Only for indoorREAD MORE Long lasting, good trajectory and well balanced shuttles must buy productREAD MORE NiceREAD MORE Super QualityREAD MORE Value for money ⭐⭐⭐⭐⭐ 5 starsREAD MORE Good productREAD MORE very niceREAD MORE Not goodREAD MORE Good product reasonable pricedREAD MORE SuperbREAD MORE Nice productREAD MORE Good productREAD MORE Best qualityREAD MORE Great for our outdoor playingREAD MORE GoodREAD MORE PerfectREAD MORE Perfect for allREAD MORE Best in the budget.READ MORE Nice product I am happy with this product 👌😊😊😊👍READ MORE Good qualityREAD MORE GoodREAD MORE superREAD MORE Bad paking.. very bad.READ MORE Good shuttle but after some time upper and lower parts get  differREAD MORE Quality issueREAD MORE Very best for money and weight is like holding a pen and the delivery is very fastREAD MORE GoodREAD MORE AWESOMEREAD MORE Good productREAD MORE GoodREAD MORE Value for money.READ MORE Old stokeREAD MORE GoodREAD MORE Just okREAD MORE Good.READ MORE SuperREAD MORE Awesome product..as expected.great shuttle speed and durability.must buy...READ MORE Best in all levels of playersREAD MORE goodREAD MORE Very good productREAD MORE Great.. I like itREAD MORE Nic productREAD MORE Good one..READ MORE Xcellent productREAD MORE Beginners and intermediate player\\'s can use effectively it\\'s good to play at any conditionsREAD MORE Best product h. Maja aa gyaREAD MORE Good qualityREAD MORE Best in marketREAD MORE I am HappyREAD MORE Nice oneREAD MORE Worst  item and old stockREAD MORE GoodREAD MORE Nice productREAD MORE NiceREAD MORE This cork is waste don\\'t buy this....I bought 2 times this cork but this very worst....broked in just 2matchesREAD MORE nice oneREAD MORE ExcellentREAD MORE AvgREAD MORE Nice shuttleREAD MORE BestREAD MORE Good quality shuttleREAD MORE Poor qualityREAD MORE Satisfied with the qualityREAD MORE Nice productREAD MORE Its difficult to find genuine shuttles these days. I have been ordering shuttles from this seller from past a year and almost all d shuttles received till date are good and having same speed. A badminton lover may feel how annoying it can be if shuttles in d box is having different speeds..Happy smashing..READ MORE Super ,READ MORE GoodREAD MORE NiceREAD MORE These are good for beginners although we should play with feather. These is good not fast enough.READ MORE Very old stock. Shuttles got damaged easilyREAD MORE super qualityREAD MORE BestREAD MORE Awesome and guinine product.READ MORE GoodREAD MORE No words to say...always bestREAD MORE Quality is MediumREAD MORE NiceREAD MORE ExcellantREAD MORE Very useful to practiceREAD MORE Fabulous product .READ MORE very much long lastinga must buy productfull PAISA VASOOL productREAD MORE Awesome , as usualREAD MORE Best in yonexREAD MORE Very good product.. genuineREAD MORE Quality is not goodREAD MORE NiceREAD MORE Something wrong with this each shuttle shape changes with one or two set plays don\\'t buy itREAD MORE Best in classREAD MORE original productREAD MORE Good product.READ MORE SuperREAD MORE Delivered on time and nice productREAD MORE It is a very good.Using from one week.READ MORE Genuine product. Verified using the scratch code and shows as original. Quality is also as expected.READ MORE Delivery was quick.agent behaviour was good as wellREAD MORE SuperbREAD MORE Cheaper than market and they are originalREAD MORE nice productREAD MORE Vvvvvv goodREAD MORE Very goodREAD MORE Very good productREAD MORE Excellent purchaseREAD MORE GoodREAD MORE Nice QualityREAD MORE Very nice and durable.. Must go for itREAD MORE good quality...superv lifeREAD MORE Good product.. worth it...READ MORE PerfectREAD MORE Varry goodREAD MORE GoodREAD MORE Its goodREAD MORE AwesomeREAD MORE FineREAD MORE Good product.READ MORE GoodREAD MORE very very good productREAD MORE Good durable productREAD MORE Good productREAD MORE GoodREAD MORE Best for outdoor playing.... very good 😁👍READ MORE GoodREAD MORE Osm productREAD MORE Nice product .......well experience with flipkart thank you flipkartREAD MORE GoodREAD MORE Good delivery serviceREAD MORE Nice product loved itREAD MORE Good and on timeREAD MORE Very nice according to the price moneyREAD MORE Very good👍READ MORE Very good, durableREAD MORE Excellent productREAD MORE NiceREAD MORE Delivered on time. Happy with delivery serviceREAD MORE Good product but if the time of the stability increased it becomes perfect product.READ MORE AuthenticREAD MORE Value for moneyREAD MORE GOODREAD MORE Good productREAD MORE fineREAD MORE AwesomeREAD MORE NiceREAD MORE Great product ...durable ...quality is also good when compared to the local marketsREAD MORE Quality is not uptoREAD MORE BadREAD MORE AwesomeREAD MORE goodREAD MORE Best productREAD MORE At last I got it. Although very late due to lock down. Delivery man Mr. JP is a good and soft behave person. Thanks JP...READ MORE Better shuttles from another shuttlesREAD MORE It is superREAD MORE GreatREAD MORE Awesome product. Trust me it\\'s worth every penny you spend on it. It\\'s durable, heavy enough and retains it\\'s form even after a long day\\'s play.READ MORE Good productREAD MORE Good products and good price than outside market..mainly during this lockdownREAD MORE NiceREAD MORE OkREAD MORE Good productREAD MORE Not original2nd qualityREAD MORE ya goodREAD MORE OkayREAD MORE WorstREAD MORE Exceptional shuttles with good outdoor performance i.e with natural wind outside it has good aerodynamics anfd flight.trust yonex 350 and rough and toughREAD MORE Awesome shuttle. Durable tooREAD MORE It\\'s so niceREAD MORE GoodREAD MORE GoodREAD MORE Quick delivery with a good delivery person . Nice quality you can just go for it .READ MORE As usualREAD MORE GoodREAD MORE Not felt like originalREAD MORE Best shuttle good product best quality and fastest delivery in 1 day delivered next dayREAD MORE Good Quality shuttle. One shuttle goes more than a weekREAD MORE good produvtREAD MORE Good but online product pictures clarification must be necessaryREAD MORE Genuine productREAD MORE Fabulous , go with this.READ MORE Just  awesomeREAD MORE Nice productREAD MORE Perfect for indoorsREAD MORE Owsome product best in this range.READ MORE excellent productREAD MORE Better life using it with perfect playREAD MORE It\\'s awesomeREAD MORE One shuttle was of medium quality. But the other four shuttles are great. I searched for the scratch code in sunrisetnt website and found it to be genuinene.READ MORE NiceREAD MORE Delivery very fast and original productREAD MORE Very niceREAD MORE These are superb and original. Before ordering, I had a doubt whether I would get right product. While opening itself, I have understood that they are original and after playing, highly satisfied. Thank you.READ MORE GoodREAD MORE Good productREAD MORE Original productREAD MORE NiceREAD MORE Good...READ MORE Very nice 👌READ MORE Very niceREAD MORE Superb, original quality.READ MORE Worth for moneyREAD MORE Worth and price is lessREAD MORE NiceREAD MORE ExcellentREAD MORE excellentREAD MORE Nice productREAD MORE Best experienceREAD MORE Very bad because I repeated order but he send cheap quality shattelsREAD MORE Excellent.....READ MORE GoodREAD MORE Good qualityREAD MORE BadREAD MORE Cheapest rate ever for the best outdoor cork.READ MORE Nice Product ..... Specially good choice for SmashesREAD MORE SuperREAD MORE Quality was ok but cost of this product is too highREAD MORE it\\'s a best shuttle for playing outside .READ MORE NiceREAD MORE not badREAD MORE Good productREAD MORE NiceREAD MORE Not a good qualityREAD MORE Not goodREAD MORE I am regularly playing with mavis 350, it is durable and good, cost effective, it lasts for 8 to 10 gamesREAD MORE Weight is quite hight,though it\\'s written slow.Its quite fast ..But good...READ MORE Perfect thank you productREAD MORE GoodREAD MORE this is best for smashREAD MORE SuperREAD MORE very nice product 👍READ MORE NiceREAD MORE Quality is not good, this is not like original one.READ MORE Nice product for the bigginerREAD MORE Very Good PoductREAD MORE GoodREAD MORE AwesomeREAD MORE very  goodREAD MORE Original & nice productREAD MORE Good productREAD MORE NiceREAD MORE A little slow, overall goodREAD MORE Very niceREAD MORE good product but delivery too lateREAD MORE The shuttles are very good...READ MORE Original product thanks to flip cardsREAD MORE Excellent work by flipkartREAD MORE GoodREAD MORE Not moving quick. I have better experience with MAVIS 200iREAD MORE OkREAD MORE FineREAD MORE Good Product by flipkart. Thanks for faster deliveryREAD MORE Nice qualityREAD MORE GoodREAD MORE GoodREAD MORE Good productREAD MORE GoodREAD MORE Nice 👌👌👌👌READ MORE ExcellentREAD MORE Awesome product and highly durableREAD MORE very nice product 👌👌 at a better priceREAD MORE Nice product good performanceREAD MORE GoodREAD MORE Good oneREAD MORE Good productREAD MORE Too goodREAD MORE NiceeeREAD MORE good shuttleREAD MORE Good one.READ MORE NiceREAD MORE From the beginning i like these shuttles.I am happy to buy it again.READ MORE SuperREAD MORE I think most of people know about this product who play badminton so no need to tell about this productREAD MORE GoodREAD MORE Good quality and reasonable priceREAD MORE Great One!READ MORE GoodREAD MORE Good quality original shuttleREAD MORE Great product..READ MORE NiceREAD MORE Original brandREAD MORE Awesome.READ MORE Nice one..READ MORE Best playing experience with this shuttle cork..............It\\'s amazing productREAD MORE Need moreREAD MORE It is soo nice .l like to play with it in indoorREAD MORE GoodREAD MORE OkREAD MORE Delivery at time and all the safety precautions has been followed by the delivery manREAD MORE ExcellentREAD MORE Could\\'ve been a bit heavier.READ MORE Excellent product from FlipkartREAD MORE Nice shuttle . Must buy . It is better than the other brandsREAD MORE NiceREAD MORE Nic product...READ MORE GoodREAD MORE SuperREAD MORE GoodREAD MORE GoodREAD MORE nice productREAD MORE Nice productREAD MORE Very valuable for this price in lockdown timeREAD MORE AverageREAD MORE One shuttle for 3-4 days onlyREAD MORE Superb product.READ MORE GoodREAD MORE avgREAD MORE NiceREAD MORE very goodREAD MORE GoodREAD MORE Must buyyyREAD MORE Good product.READ MORE Good productREAD MORE Nice productREAD MORE Super fast delivery thanku pruthvi delivery boyREAD MORE Not Good It is so HardREAD MORE Super it\\'s really amazingREAD MORE Good product. We play daily for 2 hrs. Each shuttle comes for a week atleastREAD MORE Very nice, used mavis 10 before, but this is on another level. U can feel the difference only after using it.READ MORE Best in businessREAD MORE Good shuttles. Felt like bit expensive than sports shop.READ MORE Nice, perfect shot & quality product...READ MORE goodREAD MORE It\\'s not long lasting I\\'m playing only 1 days and this product Was damaged I\\'m very disappointed for this productREAD MORE Value for moneyREAD MORE AverageREAD MORE awsomeREAD MORE Not up to the markREAD MORE GoodREAD MORE GoodREAD MORE product quality is not goodREAD MORE Break in just 2-3 SetsREAD MORE Best of outderREAD MORE Very badREAD MORE Nic productREAD MORE Good product service is goodREAD MORE Good ProductREAD MORE Bad quality and doesn\\'t lasts for more than 5 games. Both base and shuttle are separated automatically while playing. I was hear fully disappointed with the quality of the product.READ MORE Nice one.READ MORE Very niceREAD MORE What a fast delivery...superbREAD MORE Better than mavis 10 and 1000READ MORE good product 👍excellentREAD MORE Good quality.READ MORE Quality is better than yellowREAD MORE Finally got original productREAD MORE ExcellentREAD MORE GoodREAD MORE Good shuttleREAD MORE Orginal shuttle. Best buy while comparing same product from shops, shop one\\'s don\\'t last more and goes like bullet. This one is really fun to play with. Feel is excellent.READ MORE Good product.READ MORE Poor quality, very old stock provided.READ MORE Very good shuttle Superp durability compared to other.Original Very reliableIn budget item.READ MORE Super product it lasts for 3 to 4 yearsREAD MORE Good qualityREAD MORE Very happy with the quality and deliveryREAD MORE Good productREAD MORE Good quality productREAD MORE best shuttle in less price nice 😊😊😊😊😊READ MORE Good productREAD MORE SuperbREAD MORE BestREAD MORE Very bad 😧👎 quality this packREAD MORE Good product fast delivery flipkart.READ MORE GoodREAD MORE Well fine and good Got the product in timeREAD MORE Good for beginnersREAD MORE my experience was quite good with this product till date.READ MORE Very niceREAD MORE GoodREAD MORE GoodREAD MORE Genuine product!READ MORE Shuttles at there bestREAD MORE OkREAD MORE GoodREAD MORE Good qualityREAD MORE Good cap very  very game so better......READ MORE good bestREAD MORE Very goodREAD MORE Product is nice and delivered in time..READ MORE goodREAD MORE ExcellentREAD MORE Original shuttle very fine for play outside too.READ MORE Nice productREAD MORE Very good shuttleREAD MORE Awesome product..READ MORE ImpressedREAD MORE NiceREAD MORE Good productREAD MORE Long lastingREAD MORE product is not good2 shuttles got broken in only 3 matches It\\'s my advice don\\'t buy itREAD MORE Good product...thnx flipcartREAD MORE Yonex Mavis 350 Nice quality.....and delivery also on time thank u flipkart....READ MORE Nice qualityREAD MORE Good productREAD MORE NiceREAD MORE Value for moneyREAD MORE No words about this.... awesome productREAD MORE I felling Very good when I play.READ MORE Nice product.READ MORE greatREAD MORE After playing one match the... Cap is rotating..  poor quality..... Second quality..... 3 times i got second quality....yonex Cheating us......READ MORE Super Durable ShuttelsREAD MORE Poor qualityREAD MORE niceREAD MORE SuperREAD MORE Nice productsREAD MORE Good product good delivery serviceREAD MORE The quality of the shuttle is very bad. The product received is defective. The cork is getting damaged only for one gameREAD MORE Awesome purchaseREAD MORE Good serveceREAD MORE Very nice and best priceREAD MORE GoodREAD MORE Life time is less.READ MORE good product..READ MORE Very disappointed. The ones I bought on January was bad and did not last even a month. This is even worse. I ordered \"SLOW\" but God alone knows how- the shuttles are mostly SUPER FAST.. Sounds heavy the moment it touches the racket strings.?READ MORE Recomended for medium range players.READ MORE Some are at yellow part getting dammage quickly other than that okREAD MORE Average .READ MORE Best in The MarketREAD MORE Good shuttleREAD MORE Good product and delivery  thanks to flipcartREAD MORE Best in class followed by durabilityREAD MORE SuperREAD MORE NO BADREAD MORE Good productREAD MORE The product is not genuine.U can identify by seeing the plastic cap of the boxREAD MORE Good productREAD MORE Super perfect flyREAD MORE poor quality.....READ MORE Good shuttleREAD MORE Price is goodQuality is goodAnd also fast deliveryREAD MORE What a shuttle like yonex branding best shuttles everREAD MORE Better for both indoor and outdoorREAD MORE NiceREAD MORE goodREAD MORE Best quality 👌READ MORE good stuff....READ MORE GoodREAD MORE Good productREAD MORE nice shuttleREAD MORE Very bice productREAD MORE BestREAD MORE Good qualityREAD MORE Good one , timely deliveredREAD MORE Aswm product i am happy with itREAD MORE SuperREAD MORE Nice one. Very durable.READ MORE Its quality is similar as i wanted....i satisfiedREAD MORE Good Product and Excellent ServiceREAD MORE Good qualityREAD MORE superbREAD MORE Some shuttle have flight problemREAD MORE Good qualityREAD MORE AwsmREAD MORE Got original ones .READ MORE GoodREAD MORE Good choiceREAD MORE Good service and good productREAD MORE ThankuREAD MORE Not badREAD MORE Poor qualityREAD MORE bestREAD MORE goodREAD MORE Very goodREAD MORE GoodREAD MORE Reliable..READ MORE NiceREAD MORE NiceREAD MORE NiceREAD MORE Good we can buyREAD MORE Good product and timely deliveredREAD MORE Not goodREAD MORE GudREAD MORE bestREAD MORE Damage product...READ MORE GoodREAD MORE Very very bad qualtyREAD MORE great lovebitREAD MORE As regular 😇READ MORE OkREAD MORE Not For pro players, it wl hardly last 2daysFeather like quality bt low temperREAD MORE Good and lasting, it is normal, i think it is the bestREAD MORE nice landing safely nice shuttlesssssREAD MORE GoodREAD MORE Good quality of the productREAD MORE good quality of shuttles.....READ MORE GoodREAD MORE Got with proper Yonex authenticationREAD MORE thank you....READ MORE Excellent condition/performance...READ MORE goodREAD MORE ExcellentREAD MORE GoodREAD MORE GoodREAD MORE Awesome look & materialREAD MORE I love this productREAD MORE Items quality are too badREAD MORE MiceREAD MORE OkREAD MORE Only for 2-4 game ...Very bad quality..not as original productREAD MORE niceREAD MORE Quality slightly decrease compared with oldREAD MORE BestREAD MORE GoodREAD MORE Good shuttleREAD MORE Kk good not badREAD MORE wast of money cheap qualityREAD MORE AwsomeREAD MORE good productREAD MORE superREAD MORE good gualityREAD MORE Genuine product low cost👍READ MORE very good product. speed of the shuttle in the air is good.READ MORE Very goodREAD MORE Good qualityREAD MORE kwality is best ..READ MORE bad quality .. don\\'t waste your money ...READ MORE goodREAD MORE Wonderful product delivered timely by Flipkart. Thank you filipkart.READ MORE Quality is excellentREAD MORE niceREAD MORE Best choice for Indian conditions. Lasts longer for beginners and intermediate players. Always receiving original product from Flipkart.READ MORE Nice product.......... durable alsoREAD MORE Not likedREAD MORE lasting....READ MORE GoodREAD MORE GoodREAD MORE niceREAD MORE In 6 Shuttles only 2 are original shuttles....READ MORE Super QualityREAD MORE good just like feather shuttleREAD MORE Quality good.... cheaper than shops...speed ok...READ MORE okREAD MORE Best in Value. Used it.READ MORE Original productREAD MORE good qualityREAD MORE Bit costlyREAD MORE Excellent service, got in one day even at remote location like GangtokREAD MORE Best product and lowest price 664READ MORE bestREAD MORE Nice shuttle you can order itREAD MORE Very good correct flight and reliableREAD MORE Useless  productREAD MORE Good product fast deliveryREAD MORE Original item with much lower price than the local market.READ MORE Money worthyREAD MORE Very good.. thanks fkartREAD MORE Not of good quality plesae don\\'t purchaseREAD MORE Nice shuttleREAD MORE Got the product as expectedREAD MORE Good,  but light wet heREAD MORE goodREAD MORE Good itemREAD MORE good oneREAD MORE Shuttles are not long lasting...READ MORE GoodREAD MORE thanks flipcartREAD MORE SuperREAD MORE goodREAD MORE I\\'m a regular buyer but this time I got very bad quality shuttlesREAD MORE Very bad product given faults in the shuttlesREAD MORE Each shuttle lasted for 2-3 days onlyREAD MORE orginal productREAD MORE not badREAD MORE very osom productREAD MORE Great for playREAD MORE Good productREAD MORE GoodREAD MORE Such a good product ? for shuttle loversREAD MORE goodREAD MORE superREAD MORE Still GoodREAD MORE superb shuttlesREAD MORE original yonex shuttlecocksREAD MORE strong n durableREAD MORE NiceREAD MORE this is not original shuttle , fulll money wasteREAD MORE goodREAD MORE Nice productREAD MORE goodREAD MORE It\\'s a good purchase.READ MORE one day for one shuttle worst quality by flipkartREAD MORE niceREAD MORE NiceREAD MORE goodREAD MORE GoodREAD MORE nice productREAD MORE good oneREAD MORE good productREAD MORE good productsREAD MORE Good productREAD MORE 1 shuttle max can be played 2 times considering 1.5 hrs hard play time.  But good thing is seller sends the genuine product as Sunrise authentication passed. Ordered second one.READ MORE niceREAD MORE Always the best,satisfaction guaranteed.never disappoints me. only issue, the bottom cork might crack if gets hard hit by the metal frame of the racquet. easily lasts to 1 week per shuttle even after harsh gameplay.always the best, MAVIS 350😍💗💖READ MORE very nice shuttle I fall in love with this shuttle got It be very cheap from flipkart thanks flipkart for saving my moneyREAD MORE This time quality not good, please care about it brotherREAD MORE original and yes the best shuttle in the market ryt now.READ MORE excellent product.. good quality..  🥰 loved it...  and last longREAD MORE Bad qualityREAD MORE great but seems fast than naturalREAD MORE These are low quality shuttles which do not sustain even for a 2 hour game. Please do not buy from here.READ MORE It\\'s awesome ...READ MORE goodREAD MORE niceREAD MORE Nice productREAD MORE goodREAD MORE good product fullfill my expectation thank you flipkartREAD MORE BestREAD MORE Not goodREAD MORE worst productREAD MORE Original one, very nice to play.. bought this @ 699...READ MORE GoodREAD MORE GoodREAD MORE Good oneREAD MORE I am happy with this productREAD MORE niceREAD MORE BestREAD MORE original from yonex, great value for moneyREAD MORE Lasting only for 3 gamesREAD MORE good productREAD MORE goodREAD MORE goodREAD MORE good qualityREAD MORE not badREAD MORE WorstREAD MORE superb productREAD MORE good productREAD MORE good product and Long time certificationREAD MORE Bad qualityREAD MORE niceREAD MORE goodREAD MORE niceREAD MORE SatisfiedREAD MORE very niceREAD MORE GoodREAD MORE Nice delivery of the product and very punctual according to the timingREAD MORE get damaged very soonREAD MORE original productREAD MORE Best purchaseREAD MORE great productthanks FlipkartREAD MORE quality is very poor.READ MORE Nice ProductREAD MORE worth for moneyREAD MORE Osm very niceREAD MORE worst. two pieces were damaged tooREAD MORE some shuttle are too good and some are not that muchREAD MORE Very good productREAD MORE nyc productREAD MORE Quality not good giving damage goods .READ MORE the product is very damagedREAD MORE SuperREAD MORE wasteREAD MORE nice productREAD MORE Meterial is low qualityREAD MORE nice productREAD MORE very nice shuttleREAD MORE It\\'s very attractive and smart...READ MORE not good for wintersREAD MORE Nice shuttleREAD MORE Thanks flipkart for delivering in just 12hrs.READ MORE I am satisfied with the productREAD MORE Not a good product  shuttle damages for only for 3 matchesREAD MORE excellentREAD MORE work goodREAD MORE super productREAD MORE very good perfomingREAD MORE Good quality  genuine productREAD MORE very badREAD MORE normal qualityREAD MORE wasteREAD MORE Very badd quality, and do not last.READ MORE best quality productREAD MORE I like itREAD MORE It\\'s look very hard.. For playing not a original quality....READ MORE not goodREAD MORE goodREAD MORE Simply superbREAD MORE goodREAD MORE damaged so early.READ MORE nice productREAD MORE goodREAD MORE not satisfied with the quality of productREAD MORE 💯% Genuine ProductREAD MORE Very good product at a reasonable price.READ MORE It\\'s goodREAD MORE Good as usualREAD MORE good and genuineREAD MORE NiceREAD MORE some shuttle were very poor qualityREAD MORE ExcellentREAD MORE Shuttle is not durable.READ MORE very patheticREAD MORE good service and nice productREAD MORE Very good product .. we hv been playing with this product from two years..READ MORE Ready to play..☺️ Best price..READ MORE Its niceREAD MORE product is very good..but it takes 6 days to deliver😮😮😮READ MORE great quality product , deserve the price @699.READ MORE GoodREAD MORE very slow shuttleREAD MORE varry good productREAD MORE nice productREAD MORE The first shuttle was authentic but the rest of the shuttles can compete with SpaceX rockets in terms of speed. Highly disappointed!READ MORE superREAD MORE superbREAD MORE packing was very bad. All shuttles damaged.READ MORE good onewe are playing outdoor and indoorREAD MORE the shuttles are not genuine.READ MORE goodREAD MORE as expected, recommendREAD MORE Nice shuttle quality.READ MORE niceREAD MORE awesomeREAD MORE Nice but seems it is not original.READ MORE nice shuttle, full control over palyREAD MORE just okREAD MORE good qualityREAD MORE awesomeREAD MORE excellentREAD MORE Bad productsREAD MORE ok okREAD MORE satisfiedREAD MORE worthREAD MORE AswamREAD MORE goodREAD MORE Very goodREAD MORE Very powerfulREAD MORE niceREAD MORE very goodREAD MORE just suprrbbREAD MORE some shuttles are durable and some are not. Becomes fast after few shots. Now we prefer mavis 300.READ MORE GoodREAD MORE Long lasting..READ MORE very good product and value of moneyREAD MORE Very good productREAD MORE Good product.READ MORE genuine products!READ MORE always good...READ MORE Just Superb..READ MORE goodREAD MORE very niceREAD MORE good quality nowREAD MORE goodREAD MORE very good shuttleREAD MORE superREAD MORE goodREAD MORE original productREAD MORE bad productREAD MORE very good  quality  this  item\\'sREAD MORE old stockREAD MORE shuttles were faster than usual..wasted moneyREAD MORE its okREAD MORE This shuttle is goodREAD MORE East Or West FlipKart Is the best..... Became a FlipKart fan by delivering within a day. .READ MORE poor quality item got this time..READ MORE seems like not original product disappointed, 50% shuttles wobbling and remaining last for just 1 or 2 matches..READ MORE quality is Soo good ,but delivery date is Soo late it shows 14 Dec but I received 17 Dec so don\\'t waste ur time order it in another appREAD MORE goodREAD MORE old stock are sold not a single peace was goodREAD MORE don\\'t buy anyone this shuttle on Flipkart site....  worst quality productREAD MORE excellent productREAD MORE nice productREAD MORE Good facilityREAD MORE Exlent product...READ MORE Good one, I have read lot of negative review for Mavis 350.when purchase online, but this time I will say it\\'s a better products, good quality...READ MORE loved it.... original product delivered on time....READ MORE very goodREAD MORE goodREAD MORE delevired in just less than a day ,oh my god.thanks flipkartREAD MORE received a genuine product...very good and original qualityREAD MORE Amazing productREAD MORE not value for moneyREAD MORE good and light weightREAD MORE light weight and long life!!!READ MORE awesome goodREAD MORE Nice product satisfiedREAD MORE very nice & best qualityREAD MORE old stock I gotREAD MORE 1st 3 corks got damaged very fast. and rest 3 were goodREAD MORE Good product for this price..READ MORE goodREAD MORE goodREAD MORE nice item... u must buyREAD MORE very niceREAD MORE Happy with FlipkartREAD MORE bad productsREAD MORE nice ProductREAD MORE bad qualityREAD MORE Yonex Mavis 350 Is Not Pure Shuttle  Dummy Not A Genuine Bad Quality And  So Old Pak. Date On Box Jan 2019 ....READ MORE Good But Price a little bit highREAD MORE Best in classREAD MORE cork quality issues. cracking soon.READ MORE superREAD MORE goodREAD MORE goodREAD MORE good price range,thanq flipkart.READ MORE orginal productREAD MORE genuine product.....go for itREAD MORE NiceREAD MORE superrREAD MORE not goodREAD MORE very slow.. and barely lasts 2days. very disappointingREAD MORE worth productREAD MORE somthing best for youREAD MORE nice . premium productREAD MORE very niceREAD MORE goodREAD MORE worst quality fraud materialsREAD MORE not so good 6 shuttle and only 9 days we playREAD MORE goodREAD MORE nice productREAD MORE niceREAD MORE no difference..... orginal product.READ MORE Nice Product.READ MORE product was bad.READ MORE good worth priceREAD MORE durability of the cork is very bad and it  is not enough for even one dayREAD MORE Few shuttle corks look like they may break down within few minutes of play. Otherwise all okay!READ MORE ValuableREAD MORE Very nice shuttlesREAD MORE old stock. manufactured a year back(12 months)READ MORE very bad product ☹️ wast of moneyREAD MORE TqREAD MORE niceREAD MORE good productREAD MORE Plz go for it. Really worth for every cork. our friends are really happy with the reliability of this pack.READ MORE goodREAD MORE nice Best in outdoor game 👌READ MORE Very nice product i love itREAD MORE nice productREAD MORE goodREAD MORE Good qualityREAD MORE goodREAD MORE Always best and fineREAD MORE Nice product. Best for outdoor.READ MORE niceREAD MORE goodREAD MORE NiceREAD MORE nice productREAD MORE Good Product....READ MORE very Good crockREAD MORE awesome product Mavis 350 is superREAD MORE good qualityREAD MORE nice prudectREAD MORE great productREAD MORE GoodREAD MORE one shuttle out six on the box was wabbling from the very first moment of useREAD MORE okREAD MORE worst product...don\\'t even last 2 matchesREAD MORE Worst qualityREAD MORE Very good productREAD MORE goodREAD MORE good quality and genuine product..READ MORE goodREAD MORE niceREAD MORE lovely productREAD MORE Must buy.. exlent productREAD MORE reasonable cost...READ MORE GoodREAD MORE goodREAD MORE GreatREAD MORE Very Good ProductREAD MORE Excellent product thanks flipkartREAD MORE Nice oneREAD MORE not so goodREAD MORE good shuttle ... very good to flyREAD MORE niceREAD MORE best but price is very hight on FlipkartREAD MORE very niceREAD MORE its really goodREAD MORE nice product in cheap costREAD MORE very good productREAD MORE absolute treasureREAD MORE goodREAD MORE quality is not feel so upto the mark. shredded during play with shuttle in a weekREAD MORE real feelREAD MORE very very good productREAD MORE Nice. Good for practice sessions. Good quality.READ MORE Worth your moneyREAD MORE nice compared priceREAD MORE goodREAD MORE Good Shuttle.READ MORE Nice shuttleREAD MORE goodREAD MORE excellent just love it thanks flipkartREAD MORE goodREAD MORE superbREAD MORE goodREAD MORE super product.READ MORE Very good productREAD MORE BestREAD MORE ExcellentREAD MORE GoodREAD MORE bought it for 670 fast delivered quality is goodREAD MORE nycREAD MORE superREAD MORE product is good and delivery is too fast.. thanks for sharing best product in this price....READ MORE superREAD MORE very goodREAD MORE Nice productREAD MORE good productREAD MORE value for moneyREAD MORE good but but improve qualityREAD MORE super shuttle very niceeREAD MORE one shuttle was not in good condition due to lack of packingREAD MORE superREAD MORE goodREAD MORE Good packing i think seller is too bad becase i got bad product this time less quality and its broken fast pure china local productREAD MORE MarvelousREAD MORE the original quality product. Good packing. swift delivery Makes Happy CustomerREAD MORE original shuttleREAD MORE not as expected!READ MORE Damaged rapidly.READ MORE niceREAD MORE Original qualityREAD MORE goodREAD MORE NiceREAD MORE Good grip for all sideREAD MORE Item looks duplicate.  it doesn\\'t look original shuttle. After player one yr, shuttle becomes useless. Earlier we use to play 3-4 hr with one shuttle.READ MORE goodREAD MORE best shuttle for outdoorREAD MORE LovelyREAD MORE original product. played yesterday and all is wellREAD MORE goodREAD MORE Good for playREAD MORE superREAD MORE GoodREAD MORE Shuttles are good but the box seems to be not that good qualityREAD MORE Guys lots of shuttles inside the box are damaged and doesn\\'t have correct weight for indoor playThe shuttles inside the box are all wobbling.. Plz don\\'t buy from flipkart we have other sites where u will find genuine sellersPlz beware of this productREAD MORE Good productREAD MORE GoodREAD MORE goodREAD MORE very good product long lasting for indoor gameREAD MORE very nice qualityREAD MORE Poor qualityREAD MORE good product. Suggest to buy.READ MORE goodREAD MORE thanks flipcart...very niceREAD MORE GoodREAD MORE bad product ,poor quality , really disappointedREAD MORE goodREAD MORE Behtareen.. i keep on ordering this monthly.. good for intermediate players like me..READ MORE superREAD MORE slow 75 is not slow as lining. only wastage of moneyREAD MORE goodREAD MORE niceREAD MORE high rate, quality poor early brokenREAD MORE ExpectingREAD MORE Product is good but manufacturers date is in August.READ MORE great product in reasonable priceREAD MORE good qualityREAD MORE Good qualityREAD MORE goodREAD MORE nice productREAD MORE out of 6 ... 3 will be fast and 3 will be slow... after returning the they sends the same with packing it fresh ... it\\'s by YonexREAD MORE awesomeREAD MORE ORIGINAL PRODUCTREAD MORE evergreenREAD MORE nicc niceREAD MORE good delivery n originalREAD MORE nice oneREAD MORE ok bettarREAD MORE good for beginnersREAD MORE good for outdoorsREAD MORE Nice oneREAD MORE This is the first time i have received bad quality of product. shuttles are of bad qualities and very slow. Really disappointed.READ MORE shuttle always good.  timely delivered 👍READ MORE fine qualityREAD MORE very good product Fkipkart very quickly devilry the item thanks to FkipkartREAD MORE nice productREAD MORE good for regular practice. and nice quality.READ MORE Delivery time given is 10 days and also took a day extra. Did not meet the promised delivery date.Product is good.READ MORE superREAD MORE Worthy product.  Very durable in outdoor practice.  Nice productREAD MORE good👍READ MORE very bad, slowREAD MORE Good for indoor, grab this if you like super slow shuttlesREAD MORE niceREAD MORE greatREAD MORE goodREAD MORE goodREAD MORE GoodREAD MORE goodREAD MORE wonderfulREAD MORE product delivered on time 👍, I checked all shuttles are were fine no wobbling or damage piece. for me its 100%geniuneREAD MORE good..READ MORE original productsREAD MORE Very niceREAD MORE Good quality shuttleREAD MORE Good I love itREAD MORE original product delivered with lightening  speedREAD MORE good productREAD MORE good oneREAD MORE good for practiceREAD MORE It is very goodREAD MORE goodREAD MORE goodREAD MORE very worst shuttle is looking like 30 RS per pieceREAD MORE Good productREAD MORE good product and best shuttlecock.READ MORE perfect...!READ MORE Excellent Item and delivery service provided by FlipkartREAD MORE it\\'s okREAD MORE niceREAD MORE go for it oldREAD MORE Good poductREAD MORE goodREAD MORE so naisREAD MORE Good....!!READ MORE niceREAD MORE nice productREAD MORE original product received . Thank you for speedy delivery.READ MORE good nice 👍READ MORE goodREAD MORE Nice shuttleREAD MORE Got the original product, thanks to flipkart and the vendor supplierREAD MORE Just awesomeREAD MORE always awesome 👍READ MORE Very nice Product 👌😊READ MORE superREAD MORE shuttles are good and durable lasted for 6 rapid games.READ MORE Badminton shuttle is too goodREAD MORE very badREAD MORE Superb productREAD MORE goodREAD MORE yesterday received that product but it is damaged,i am very disappointed and i lost my moneyREAD MORE good quality shuttlecocksREAD MORE goodREAD MORE Love the product..READ MORE goodREAD MORE good productREAD MORE goodREAD MORE goodREAD MORE quality and packing is super awesome...READ MORE Very good quality shuttlesREAD MORE AswmREAD MORE Thanks for it😀😀😀😀READ MORE go for it.... perfect for matches of intermediate to professional levelREAD MORE best qualityREAD MORE Super as expectedREAD MORE Best to playREAD MORE very nice product,good qualityREAD MORE Received an original and sealed product at a better price than the local sports stores.READ MORE goodREAD MORE Not evonomicalREAD MORE got used shuttleREAD MORE good product and profit useable thanks FlipkartREAD MORE best shuttles for all & long lifeREAD MORE good qualityREAD MORE Original product and as we know it is best in its segment.READ MORE After completion  one game shuttle will be too fastREAD MORE superbREAD MORE This is not original ... It\\'s light weighted. But it\\'s ok ok . You can play. But durability is another issue. These shuttles are not long lastingREAD MORE got the product on time.product is genuine.READ MORE it\\'s not good qualityREAD MORE excellentREAD MORE good and nice speeds of shuttlesREAD MORE goodREAD MORE goodREAD MORE good product . happy with the shuttle .READ MORE okREAD MORE GudREAD MORE shuttles are good.and comparatively lasted.READ MORE finest shuttle for practice. The durability of shuttle is awesome.I bet you won\\'t regret after playing.READ MORE nice quality shuttlesREAD MORE best delivery manREAD MORE fine and good dilevaryREAD MORE GoodREAD MORE good quality and good costREAD MORE Quality good...READ MORE Nice qualityREAD MORE good qualityREAD MORE good productREAD MORE It\\'s is good for intermediate players not best but better then otherREAD MORE strong build for any rough game nice movement and speed.READ MORE niceREAD MORE very good.READ MORE this is the best plastic shuttleREAD MORE nice productREAD MORE ExcellentREAD MORE Awesome got with 699READ MORE goodREAD MORE awesome, Nice productREAD MORE GoodREAD MORE Not Satisfactory. Shuttles are a little fast. The quality seem to have degraded.READ MORE on first attempt flipkart send local product when I replace order then  I received yonex mavis 350 thanks flipkartREAD MORE niceREAD MORE working well in out door gameREAD MORE marvellous product good for beginnerREAD MORE greatREAD MORE old stockREAD MORE Product seemed original. Fine quality. Although it breaks like a ice cream cone if explodes to even a little moisture.READ MORE waste it is slow. any one want to purchase go retail storesREAD MORE OkayREAD MORE Asked for slow shuttle and they have provided me medium or fast. When I checked return period was over.READ MORE goodREAD MORE very niceREAD MORE Genuine productREAD MORE goodREAD MORE GoodREAD MORE Good one as expected,.READ MORE go for it, its amazingREAD MORE Original product in intact form, delivered. Nothing to comment on a branded product, like Yonex. Thanks !!!READ MORE superREAD MORE goodREAD MORE NiceREAD MORE Good in quality.  probably the best nylon shuttle. just go for it.READ MORE superREAD MORE goodREAD MORE all the shuttles are fast...not good...wont buy againREAD MORE SuperbREAD MORE best shuttlecocksREAD MORE goodREAD MORE Nice flight, good control & perfect on bat!! Writing after playing 2 times!READ MORE NiceREAD MORE good performance but not very goodREAD MORE flipkart is the best online site.READ MORE Havebeen ordering shuttles over a year now , 100% orignal products, and if incase at times shuttles are damaged flipkart is quick n hastle free to replace them, thankyou for fair price n great services...READ MORE Good shuttle for all playersREAD MORE okREAD MORE goodREAD MORE shuttle is very good for average to beginners.READ MORE nice one good quality for priceREAD MORE Best among nylon shuttlesREAD MORE goodREAD MORE I brought yonex green cap for SLOW, but some of the shuttle in the same box is fast, i think they mix original and duplicate, and making us fool...READ MORE Excellent product (genuine one).READ MORE good qualityREAD MORE Its very very bad productREAD MORE Got on time,  but old stock,  need to check the flight condition while playingREAD MORE Best QualityREAD MORE excellentREAD MORE worth of moneyREAD MORE okREAD MORE I received original productREAD MORE Go for it good quality genuine shuttlesREAD MORE goodREAD MORE OriginalREAD MORE it\\'s too good😊😊😊READ MORE Nice product for indoors, not suitable for outdoors.READ MORE not up to mark. quality is not goodREAD MORE Good and nice.READ MORE It is good suttalREAD MORE very nice productREAD MORE GoodREAD MORE the product delivered was original but the packet was flattened due to which the shuttles have lost their shape.defective shuttles receivedREAD MORE grt product at grt priceREAD MORE FairREAD MORE very much Satisfied...Good Quality....Quick Delivery...👍👍👍READ MORE Awesome ...READ MORE I have been ordering these since a long time, shuttles used to be good and long lasting for rigorous games and used to last 90mins at least.But this time, I am really disappointed with the quality. the shuttles are starting to rotate just over couple of sets. Never expected, this quality for a bulk order of 3 tubes.READ MORE Not genuine product and all the shuttles were shaped out. Don\\'t buy these products online.READ MORE N8ceREAD MORE Nice productREAD MORE its originalREAD MORE good oneREAD MORE ozm product but not delivered@ selected place 😒😒😒😒READ MORE NiceREAD MORE good for daily practiceREAD MORE it v good for coart but not good for homeREAD MORE excellent and authentic productexcellent packagingfaster deliveryREAD MORE Great Product and perfect delivery time.READ MORE Super productREAD MORE okay okay shuttlesREAD MORE excellentREAD MORE fantastic.....READ MORE original Product correct delveryREAD MORE OKREAD MORE Nice productREAD MORE Awesome product 100% original & DurabilityREAD MORE poor quality shuttle they have sent.  may be it is a old stock. one shuttle broke within 1 day. only 7 games i have played with this shuttle.READ MORE super but rate is very highREAD MORE Nice oneREAD MORE goodREAD MORE nice oneREAD MORE value for moneyREAD MORE Nice original product just love playing badminton nowREAD MORE I doubt this may not be a genuine product...READ MORE superREAD MORE goodREAD MORE GoodREAD MORE Original yonex product.. visit yonex sunrise website for originality.. scratch code an led type code in that website..READ MORE not badREAD MORE GoodREAD MORE As expected. Excellent one.READ MORE Good packing....READ MORE goodREAD MORE look ok...READ MORE it\\'s good.. osm price really impressed with the product.READ MORE good one, no doubt go for itREAD MORE amazing.. 👌👌👌READ MORE classyREAD MORE superbREAD MORE very very niceREAD MORE NICE SHUTTLE,BALANCE TOO GOODREAD MORE best of best...  1 got @ 629... must buyREAD MORE niceREAD MORE Quality it not good as expected.Product life time is only 2 daysREAD MORE good product.READ MORE super productsREAD MORE looks good rest comment after 2 day play minimumREAD MORE okREAD MORE GoodREAD MORE AwesomeREAD MORE worth for moneyREAD MORE awesomeREAD MORE I like the shuttle qualitiesREAD MORE good jobREAD MORE excellent qualityREAD MORE awesome best the comments that say it\\'s fake. are also fakeREAD MORE niceREAD MORE goodREAD MORE got from latest one not from old stock...packaging was too goodREAD MORE BestREAD MORE My favourite shuttle, Fast delivery by FlipkartREAD MORE packing of this product is very poor. always receive with press positionREAD MORE very goodREAD MORE WorthyREAD MORE shuttle is fastREAD MORE excellent appREAD MORE best quality shuttle 🖤READ MORE superb qualityREAD MORE niceREAD MORE Nice productREAD MORE nothing recetREAD MORE multiple small small holes in the cork. Doesn\\'t look like it will last long.READ MORE good productREAD MORE GoodREAD MORE goodREAD MORE Super qualityREAD MORE good qualityREAD MORE goodREAD MORE good materialREAD MORE Excellent deal, value worthREAD MORE happy with my order I m alwaysREAD MORE Good shuttles with a decent price.READ MORE God product at an attractive priceREAD MORE Great Shuttle , flight of the shuttle is very good , no regrets with the rate because in the market it was costing me around 840 rupees and here from flipkart I got it for 699 INRREAD MORE Original qualityREAD MORE WorthyREAD MORE fastest delivery..nd products quality is ... adorableREAD MORE good productREAD MORE Good one. Perfect 👌READ MORE superbREAD MORE better thank local marketREAD MORE Shuttle Cork was good and genuine.I verified with Yonex website. 👍READ MORE suparREAD MORE looking gud but not lasting .READ MORE Packing is not so good. The plastic cover is damaged.READ MORE goodREAD MORE very goodREAD MORE goodREAD MORE I would give full star to this product.... great quality.... unfortunately the next box I bought had one shuttle damagedREAD MORE Good product. Nice build qualityREAD MORE niceREAD MORE It\\'s not a good product..READ MORE Quality is goodREAD MORE goodREAD MORE Nice productREAD MORE goodREAD MORE goodREAD MORE very good .nice quality .READ MORE got a damage shuttle in the pack.  rest are good.READ MORE quality not seems good. breaks after one day playREAD MORE superbREAD MORE Nice item....get the same item as exceptedREAD MORE best green cupREAD MORE goodREAD MORE very slow shuttles not good as per market.READ MORE Good BoyREAD MORE Thanks to Flipkart. The poor shuttles pack is replaced.READ MORE rotine gameREAD MORE goodREAD MORE Very goodREAD MORE Good productREAD MORE good productREAD MORE amazing quality.worth every penny 🔥🔥READ MORE excellent flight. slow as mentioned. recommended for beginners.READ MORE superb qualityREAD MORE Long lasting.READ MORE superb!READ MORE GOOD PRODUCTREAD MORE good productREAD MORE Its good productREAD MORE Nice productREAD MORE nice as usualREAD MORE very niceREAD MORE Its really good lasts longer than i expectedREAD MORE worst product. got all the squeezed boxes of shuttles. after replacement too got the same damaged product.READ MORE niceREAD MORE Quality of the shuttle seems to be very bad. Some of them didn’t even last few games. Had to change two shuttles in an hours play.READ MORE Good price only too muchREAD MORE good quality nice productREAD MORE Satisfied with the product qualityREAD MORE poor qualityREAD MORE Best for intermediate playersREAD MORE NiceREAD MORE superREAD MORE Overall niceREAD MORE shuttles are very old. they damaged in one day only. bad quality shuttle.READ MORE 3 shuttle damage,Dec 07 new pack 1 shuttle damagedREAD MORE good productREAD MORE Very good.READ MORE very slowlyREAD MORE goodREAD MORE Very good quality shuttleREAD MORE Best packingREAD MORE AwesomeREAD MORE its same as the retailer shop .. we need not to go to shop & buy itREAD MORE Best for daily play👌READ MORE very good productREAD MORE excellent design and lifespanREAD MORE GoodREAD MORE GoodREAD MORE good as always...READ MORE goodREAD MORE u can buy its a good productREAD MORE Excellent productREAD MORE quality item&very good packingREAD MORE good qualityREAD MORE nice product.quick delivery.READ MORE Average quality, in 6 shuttles only 3 are goodREAD MORE While the shuttles are good, pricing has been made exorbitant. From 600 per pack to 900 per pack - an increase of 50% within one year. Already trying alternatives.READ MORE NiceREAD MORE NiceREAD MORE Pathetic qualityREAD MORE It\\'s an original product from Yonex . I\\'m able to authenticate it over sunrise portal.Best shuttle for Indian condition.Streamed travel, correct balance and durable.For beginners and for intermediate level you should start with this one.READ MORE GoodREAD MORE good delivery boyREAD MORE ExcellentREAD MORE Excellent. First We ordered one Box and tried whether fake or genuine product. I selected slow 75. We found its genuine product with long lasting. Then we are playing with the same shuttle till now. I suggested it to other courts in our town. They are playing with same shuttle and buying from Flipkart. So go without any hesitation.READ MORE Packing is goodREAD MORE Yonex is greatREAD MORE The packing of the product was not done properly & not up to the mark. Request the team to take care of the same in future to avoid damaging the product.READ MORE Giving Review after 2 weeks of use.. Don\\'t buy this product. It seems they are selling second grade defective product. All shuttle start to rotate after some time  it\\'s very difficult to play.... Patethic product.READ MORE ExcellentREAD MORE worst .......READ MORE Good  Product... 🙂🙂🙂READ MORE nice...READ MORE niceREAD MORE very ecobomicalREAD MORE Damaged packREAD MORE awesomeREAD MORE good qualityREAD MORE goodREAD MORE Original product. Very happyREAD MORE NiceREAD MORE these shuttles have better quality than I bought from local shop.. no much difference in price..READ MORE minREAD MORE okREAD MORE Good product .. quick delivery .. impressive service..READ MORE badREAD MORE Shuttle are very goodREAD MORE Its just goodREAD MORE Good quality.. Original productREAD MORE Good product,. 👍READ MORE excellentREAD MORE poor qualityREAD MORE Price too high.compare to our local shop.quality is not good.READ MORE Expected more good quality, it\\'s good only one shuttle has spinning issue.READ MORE It looks good but after use I will update about quality..READ MORE all the shuttle we\\'re damaged.READ MORE best shuttlecockREAD MORE nice shulterREAD MORE goodREAD MORE very nice productREAD MORE GoodREAD MORE Gud qualityREAD MORE GreatREAD MORE superREAD MORE GoodREAD MORE nice and rate reasonable....READ MORE superbREAD MORE The product was as per the expectation.READ MORE very goodREAD MORE quality is very poorREAD MORE very goodREAD MORE very good productREAD MORE thanksREAD MORE good productREAD MORE really niceREAD MORE very good productREAD MORE packing is damaged..  and few shuttle are also damaged...  poor quality of packing..READ MORE good qualityREAD MORE I have received all the genuine shuttle box. Flight And Pace level of shuttlecock are very good. But I am little disappointed with the packaging from both seller and Flipkart side. Boxex are little damaged although I am very grateful that my shuttlecock are not damaged. Again I will purchase from the same seller. Thanks 😊READ MORE Genuine productREAD MORE I am using Mavis 350 Above past 2 Year The Best Shuttlecock in y MarketNew Stock delivered by Seller We play in doubles & Daily 5 SetsDurability is awesome (3-4Days)Smash Drop Toss Everything is PerfectSome of our team Members Complaint that shuttle is very Heavy & Goes away when they toss but i think this is not Shuttlecock\\'s problemGood Job YonexREAD MORE NiceREAD MORE niceREAD MORE niceREAD MORE Flipkart is cheating the customers by sending very very old shuttle boxes...booked 4 box of shuttle on 12th December 2019 and  received 2018  manufactured shuttles, which are bad in condition.. going forward decides to not buy shuttles from Flipkart ..READ MORE good productREAD MORE Cost should be little lessREAD MORE it is not that much goodREAD MORE worth for moneyREAD MORE value for moneyREAD MORE ferfect delivered..good productsREAD MORE very good shuttle for outdoor court. 1 shuttle lasts for 1 week even if you play smashes daily. good one to purchase.READ MORE superREAD MORE good oneREAD MORE niceREAD MORE DurableREAD MORE very very good product,, I bought 2 or 3 barrels every month.... one of the trustworthy online shopping, flifkart....READ MORE Good packing and delivery.  but the flight and speed of the shuttles were much faster than the usual Mavis 350. I doubt the genuinity.This time also the packing was perfect.  But the very first shuttle taken was wobbling and is not good for play. Very disappointing..READ MORE goodREAD MORE SuperREAD MORE Good.its original product.READ MORE goodREAD MORE It\\'s middleREAD MORE Its ok for beginnersREAD MORE it\\'s niceREAD MORE gud product in price range,gud for indoor gameREAD MORE fast delivery with good quality productREAD MORE good oneREAD MORE NiceREAD MORE Very good shuttle for you, any stage you are in. simply go for it.READ MORE Nice product. looks very genuine.READ MORE Fast sarvisREAD MORE nice shuttle durable still these are working properlyREAD MORE NiceREAD MORE Good productREAD MORE better productREAD MORE superb and guaranteed .READ MORE badREAD MORE Two shuttles are damagedREAD MORE goodREAD MORE goodREAD MORE best for outdoor and practice timeREAD MORE excellent qualityREAD MORE plz not buy this shuttle.READ MORE Very fantasticREAD MORE goodREAD MORE Good shuttleREAD MORE Nice product. Delivered on time.READ MORE best productREAD MORE excellentREAD MORE goodREAD MORE good product ...READ MORE It\\'s always the best budget shuttlecocks mrp is rs 1040 but i got it in just rs 685READ MORE Good productREAD MORE original product.thanks FlipkartREAD MORE SuperREAD MORE Perfect product!!A great shuttle to practice badminton on a regular basis.READ MORE nice productREAD MORE OkREAD MORE Nice ProductREAD MORE Better price than outlets. Good product.READ MORE goodREAD MORE Good and genuine product.READ MORE Good but costyREAD MORE Good svuttlesREAD MORE best shuttles with which one can \\'play\\'READ MORE Quality product go for it!!READ MORE Superb qualityREAD MORE Best oneREAD MORE Value for money 👍READ MORE Good qualityREAD MORE BadREAD MORE very nice shuttle from the seller and prompt delivery from flipkartREAD MORE shuttles are of good quality and durableREAD MORE Good productREAD MORE awesome and original product..however the box i got is of low quality. Hope to not get that complaint again.READ MORE Value for moneyREAD MORE very useful and beneficial alsoREAD MORE best product everREAD MORE Very good product to delivered by flipcartREAD MORE Super excellent deliveryREAD MORE Good for practice.READ MORE goodREAD MORE goodREAD MORE Receiving used and defective product shuttle is shaking.READ MORE it\\'s original and reliableREAD MORE Shullte are worst quality....all shuttle are spin so accuracy in very bad....READ MORE very niceREAD MORE Good qualityREAD MORE Genuine product!READ MORE Last order was great. This shuttle speed varies with temperature. Moves fast in hot summer day. Otherwise speed is good.READ MORE pathetic packing ...box crushed...shuttles not in playing conditionREAD MORE goodREAD MORE Great product & great service by FlipkartREAD MORE One word (Osm)READ MORE long durableREAD MORE goodREAD MORE ok comfortREAD MORE Delivery date is too long. m. rest okREAD MORE yonex the brandREAD MORE good productREAD MORE GoodREAD MORE Durable for regular practiceREAD MORE absolutely original productREAD MORE good qualityREAD MORE valuable price.....nice....READ MORE price with valueREAD MORE very niceREAD MORE GoodREAD MORE its worth product on this price...READ MORE bad qualityREAD MORE goodREAD MORE Nice shuttle for night game..READ MORE Good to meREAD MORE OkayREAD MORE Good product from flipkartREAD MORE good and lastingREAD MORE The best u cant getREAD MORE awesome shuttles , I love itREAD MORE On time delivery and very nice product. I am a national level player and I used these shuttles just for practice and I found the quality very nice and they are really the original Yonex Mavis 350, If you are thinking to buy them then you should not wait for it just go for it.READ MORE Good productREAD MORE original. no more comments.READ MORE EXCELLENTREAD MORE Nice product. worth for money....READ MORE I think it\\'s not the original. More flight for the Cork which I have not seen beforeREAD MORE Very good shuttleREAD MORE GoodREAD MORE OriginalREAD MORE go for it!READ MORE Original product, fast delivery.READ MORE To Good😊👍👍READ MORE fast delivery from flipkart.nice product.READ MORE goodREAD MORE good product, on time deliveryREAD MORE goodREAD MORE not up to the mark.... but durableREAD MORE good & long lastingREAD MORE WorstREAD MORE nice citalREAD MORE Nicely packedREAD MORE good productREAD MORE goodREAD MORE 2 corks were not to that perfect. Yes can go for this price. But the plastic quality to improve a lot - I mean the plasticity of plasticREAD MORE fineREAD MORE awsome product...READ MORE Original product and at best price you can get here. Must buy.READ MORE niceREAD MORE nice oneREAD MORE Wel finishedREAD MORE nice productsREAD MORE excellentREAD MORE goodREAD MORE superb quality product received thanks flipkartREAD MORE best oneREAD MORE I played only for two days with on shuttle it started brokingREAD MORE genuine shuttle. I bought it  Rs.685.READ MORE Great qualityREAD MORE very niceREAD MORE very genuine and affordable productREAD MORE Best shuttle for practice..READ MORE fast delivery flipkart thank uREAD MORE Good productREAD MORE Good QualityREAD MORE Very Worst.READ MORE Good for practice..READ MORE goodREAD MORE I am not sure whether the product original or counterfeit... it looks like original but the quality is not good, I purchased  similar box from offline shop and that had best quality.. this is first time I received such product from flipkart..delivery and packaging as always..best from flipkart.thanks.READ MORE NiceREAD MORE very good productREAD MORE cheap qualityREAD MORE nice product.READ MORE good product and delivered fast goodREAD MORE genuine product and at a good priceREAD MORE niceREAD MORE goodREAD MORE Very durable.READ MORE it\\'s good and durabilityREAD MORE I asked for 350 green cap.But came blue capREAD MORE genuine & orginal productREAD MORE quality of shuttle was lowREAD MORE Original product with great price.Thanks flipkart.READ MORE good productREAD MORE Product is good but quality of shuttle is not goodREAD MORE Nice product....READ MORE good productREAD MORE Good productREAD MORE worst qualityREAD MORE nice productsREAD MORE Nice shuttleREAD MORE good productREAD MORE goodREAD MORE Don\\'t worry it\\'s a good productREAD MORE Order got delivered within 24 hrs ...amazing delivery ..!! Loved it..READ MORE niceREAD MORE Nice quality and originalREAD MORE Teriffic productREAD MORE Quality is not goodREAD MORE GudREAD MORE niceREAD MORE NiceREAD MORE not badREAD MORE Awesome product price very goodREAD MORE goodREAD MORE good originalREAD MORE goodREAD MORE fantasti shuttleREAD MORE very good productREAD MORE super goodREAD MORE goodREAD MORE NiceREAD MORE The quality of the shuttle is not goodREAD MORE Good Better BestREAD MORE BadREAD MORE Nice product go for itREAD MORE Good quality productREAD MORE Good quality shuttleREAD MORE very niceREAD MORE good as of nowREAD MORE greatREAD MORE orginal productREAD MORE GoodREAD MORE Good product and more durable then Mavis 2000. Price could have been little lower than 450/- range.READ MORE nice oneREAD MORE goodREAD MORE It\\'s feel like feather shuttle and durable also.READ MORE good qualityREAD MORE Genuine product.very satisfied with the performance.very slow and last long in indoor court.READ MORE Awesome!!!READ MORE goodREAD MORE GoodREAD MORE Very good productREAD MORE good product satisfied but some shuttles are defective.READ MORE I enjoyed playing with it. I received the latest design.READ MORE SuperiorREAD MORE thanksREAD MORE good productREAD MORE best.....READ MORE Good qualityREAD MORE good..READ MORE Nice shuttlesREAD MORE nice qualityREAD MORE Worth buying it. Thanks Flipkart!!!READ MORE not to heavy useREAD MORE very niceREAD MORE not wort.average quality.the bottom part doesnt meet the expectations from yonexREAD MORE this item is very fantasticREAD MORE Perfect shuttle to play a fantastic game. SuperREAD MORE Good QualityREAD MORE Good qualityREAD MORE nice product....long lastingREAD MORE very bad quality,READ MORE Its goodREAD MORE nice productREAD MORE Original as expectedREAD MORE goodREAD MORE Good qualityREAD MORE Very slow shuttle. Feels like cheated on qualityREAD MORE Nice productREAD MORE goodREAD MORE normalREAD MORE as regularREAD MORE These are the best ones..with right amount of bounce and weightREAD MORE thank you very good shuttlesREAD MORE thanks for replacementREAD MORE Very poor quality, it is not original.READ MORE goodREAD MORE NiceREAD MORE awsome!!must buy..READ MORE niceREAD MORE evarageREAD MORE superREAD MORE Nice...READ MORE GoodREAD MORE Good packing..Not yet usedREAD MORE Unbelievable at this price  :)READ MORE BestREAD MORE niceREAD MORE Nice ProductREAD MORE IT IS SUPERREAD MORE Quick delivery and very genuine product and best price.READ MORE very good quality and genuine product.READ MORE Perfect cost effectiveREAD MORE very good flip kart is best for online shoppingREAD MORE GoodREAD MORE Quality as expected ,it’s the same as Wht u would buy from any sports shopREAD MORE very good product I like itREAD MORE nice n goodREAD MORE niceREAD MORE Recommended..READ MORE original productREAD MORE genuineREAD MORE very niceREAD MORE sach a nice productREAD MORE Good one. I recommend this shuttlecock for the beginner.READ MORE superREAD MORE good product. speed delivery.READ MORE excellentREAD MORE PerfectREAD MORE Original Product👍Packing is also good.READ MORE ExcellentREAD MORE Worst product ever,  5 shuttles waste in 2 boxREAD MORE Product is really good at cheap rate..delivery was good tooREAD MORE not badREAD MORE nice product .READ MORE the quality was not up to the earlier one, please ensure quality is up to the markREAD MORE Original ProductREAD MORE Best for gamrREAD MORE Super shuttle i like very much thnx flipkartREAD MORE think before buyREAD MORE good one..READ MORE Excelent quality.READ MORE goodREAD MORE AwesomeREAD MORE Nice shuttle....READ MORE not badREAD MORE up to the expectation.READ MORE Not badREAD MORE last time I bought it..3 pieces were defective..it was damaged after playing for 15 min..READ MORE niceREAD MORE original yonexREAD MORE niceREAD MORE awesomeREAD MORE awsome qualityREAD MORE superREAD MORE A genuine product....nice and clean play experience like 95% featherREAD MORE I am happyREAD MORE thanksREAD MORE Average, couple of shuttles in the box are not goodREAD MORE GoodREAD MORE Few are good but few last for a day/6matches ,we play outdoor .READ MORE Nice product.READ MORE Packing damaged resulting damages to shuttle.READ MORE original and cheaperREAD MORE berry nice picREAD MORE good .....looks original......READ MORE Okay Okay QualityREAD MORE Amazing delivery time.READ MORE superREAD MORE Genuine product with very cheap priceAnd the best thing is one day delivery Thanks Flipkart teamREAD MORE good qualityREAD MORE goodREAD MORE After using will revert. ThanksREAD MORE Nice shuttlesREAD MORE shuttles goodREAD MORE it\\'s top&bottom cabs are very light weight!why?it\\'s  original?READ MORE good delivery . delivery on time.but delivery date is too longREAD MORE Not coming longREAD MORE goodREAD MORE The shuttle is much better than the 2000 series. The additional weight keeps the shots in court.READ MORE the quality is quite OK, even though the date of manufacture is 9 months back.  suggestion is that date of manufacture should also be included in the product details.READ MORE NiceREAD MORE Excellent qualityREAD MORE Very much appreciated .READ MORE good one in reasonable priceREAD MORE GoodREAD MORE it\\'s okREAD MORE goodREAD MORE Very low qualityREAD MORE Original product! Thats a very important thing to know . We are regular players and knew original quality.Go get it, you will enjoy it.READ MORE everything is good.READ MORE packing of the parcel is good but all 6(six) shuttle are broken and damage inside the pack. this time I feel like cheated.READ MORE okREAD MORE Super .... better than 200iREAD MORE I was not so good in quality. The shuttles broke within 3-4 days of regular usage. Usually the other mavis 350 lasts around 1-1.5 week of regular usage.READ MORE am Happy in day deliveryREAD MORE Good worthyREAD MORE Nice productREAD MORE The worst product delivered please check  the product before thoroughly I have got a yonex cork its cover is like a original yonex cork but its a completely forged product inside it is a cheap cork brand know as rocker\\'sREAD MORE goodREAD MORE out of six shuttles only 4 was good 2 are looks like broken......READ MORE Always get the best deal in Flipkart, brilliant quality product and service.READ MORE nice g o o dREAD MORE Simply amazing!READ MORE good productREAD MORE just superb🤩READ MORE NiceREAD MORE awesomeREAD MORE yoREAD MORE original product... i think it was older stockREAD MORE satisfied with shuttels Moving with expectations go up team flip 👏🏻🙌🏻👏🏻🙌🏻👏🏻🙌🏻READ MORE quality productREAD MORE osmREAD MORE Nice productREAD MORE Best cork i have ever usedREAD MORE Original material tq flipkartREAD MORE some shuttle are defaultREAD MORE good not excellentREAD MORE genuine product, received it in 2 daysREAD MORE A smart boy delivered the item in time after proper intimationREAD MORE Super qualityREAD MORE very good quality!!!!!......READ MORE nice productREAD MORE Chauchak Shuttle 😄😄😎😎READ MORE very good quality of received box..thanksREAD MORE it had a rubber on the top and its not the plastic one.its good.But if you play very hardly with it ,it could  break in 3 to 4 weeks  or less.Depends upon your play .READ MORE not bad... very slow in speedREAD MORE yes, it is original.READ MORE goodREAD MORE not good...after playing 1 game...shuttle is getting speed...may be not good quality.READ MORE One day delivery by Flipkart without any issuesREAD MORE Good qualityREAD MORE very niceREAD MORE This time it\\'s good quality... i like it..READ MORE very low quality birdies. 3 out of the 6 birdies were gone in a day. They were wobbling from the very first hit. I bought 2 packs. need to see whether the second one is also like this or whether it was just one defective pack. I don\\'t want to return it because I already used 3 of it in a day and it didn\\'t seem good on me to return.READ MORE flipkart is not customer centricREAD MORE Very nice to play with this cook.color - yellowspeed - slow 75yonex mavis 350 cap - green colorpack only 6 …      …   these are the qualities which is very best choice to play for everyone....READ MORE Good oneREAD MORE Very bad quality product.and don\\'t try to purchaseREAD MORE nice oneREAD MORE doesn\\'t last more than 3-4 gamesREAD MORE The quality of the shuttles is not good as before.READ MORE Nice Quality and Fast Shipment. 1 shuttle last for at least 10 matches, so it\\'s a great dealREAD MORE good..READ MORE Nice shuttleREAD MORE SuprrBREAD MORE goodREAD MORE Amazingly fast delivery....i ordered it the day before yesterday evening and got it yesterday morning....Would recommend seller...and also shuttles are as expected.  Very much satisfied.READ MORE poor quality shuttle..READ MORE Nice shuttles....worth itREAD MORE ExcellentREAD MORE very good itemREAD MORE superREAD MORE not goodREAD MORE goodREAD MORE good.looks genuineREAD MORE nice oneREAD MORE Good !!READ MORE niceREAD MORE worthREAD MORE niceREAD MORE Good deliveryREAD MORE Nice Product.....READ MORE niceREAD MORE very good productREAD MORE It seems to be original one... I use it n found perfect one... And got delivered in one day...READ MORE Really Horrible,All of them I hv received are used ones.Please dont buy this product.READ MORE a good product at a great price.i suggest for itgo for ita very good choice for badminton practiceREAD MORE very goodREAD MORE perfect shuttle for outdoor playREAD MORE superREAD MORE This time it is not lasting as last time it was... I don\\'t why it has happen... is they have do something wrong... I am not sure but I am bit dissatisfiedREAD MORE okREAD MORE Yonex always provide good quality!READ MORE good quality n good service from FlipcartREAD MORE Not original shuttles of Yonex.READ MORE good product and best delivery of FlipkartREAD MORE All Good. Cheapest price.READ MORE Good productREAD MORE shuttle is durable but has dugREAD MORE no long lasting.READ MORE Product is very poor quality, Shuttle damage only in 3 to 4 game.  Earlier it was good.READ MORE Not betterREAD MORE excellent shuttleREAD MORE It is not playable in indoor as it is heavy in weight.READ MORE good oneREAD MORE GoodREAD MORE quality is goodREAD MORE goodREAD MORE Best in availableREAD MORE using since very long.....very nice productREAD MORE okREAD MORE good qualityREAD MORE Good oneREAD MORE genuine and good product.READ MORE Got a genuine product. I scratched the hologram for the code and checked it online on sunrise site and it is genuine.Thanks for a great price on this product.READ MORE good.READ MORE delivered on time..genuine productREAD MORE GoodREAD MORE Best product in best price....Thanks flipkart....READ MORE goodREAD MORE Nothing to say, absolutely fantastic product..best delivery..READ MORE Good behavior and prompt deliveryREAD MORE very goodREAD MORE Worth for moneyREAD MORE bestREAD MORE Good qualityREAD MORE Nice productREAD MORE cost is much less than local msrketREAD MORE niceREAD MORE too goodREAD MORE Damaged product send.READ MORE useful productREAD MORE Good product in this priceREAD MORE goodREAD MORE must itemREAD MORE Good qualityREAD MORE Good productREAD MORE Product is good;but I got the same price in near sports item soap ☺READ MORE waste of money.. The first pack I got was of very poor quality.. I requested for replacement.. The replacement I received was of same quality.. From local market I bought same product of good quality...READ MORE goodREAD MORE very bad quality shuttle , breaking on only a few shots .... all the shuttles are same. pls don\\'t buy.READ MORE product is v niceREAD MORE good qualityREAD MORE all is wellREAD MORE I have got what i had expectedVery nice product Go for itThan FlipcartREAD MORE good qualityREAD MORE rough suttles....READ MORE goodREAD MORE GoodREAD MORE vry niceREAD MORE Very goodREAD MORE Nice productREAD MORE This time we got substandard ones...READ MORE Very goodREAD MORE product looks too old ..very poorREAD MORE it is a good product for outdoor player..READ MORE the shuttles are faulty.  it can\\'t go straight,  it dislodge from its position when it fliesREAD MORE goodREAD MORE Genuine product!READ MORE goodREAD MORE FabulousREAD MORE This is not Original ....the shuttle lasts for one hour play...the area above the cork gets cut hence changing the flight n speed...not happyREAD MORE Bad quality.READ MORE good productREAD MORE good qualityREAD MORE Good for beginnersREAD MORE excellent product... niceREAD MORE not good as f quality. mixed green & black corks were found.READ MORE nice oneREAD MORE took a lot of time in deliveryREAD MORE it\\'s old stock...READ MORE good service flipcardREAD MORE quality was not as per expectationsREAD MORE goodREAD MORE It is very soft hardly go for to matchREAD MORE very fast deliveryREAD MORE good productREAD MORE it\\'s not a genuine product..READ MORE great product and good service by flipkartREAD MORE excellent service Flipkartdiscount price is very lessREAD MORE recommendedREAD MORE Very poor product old product deliveredREAD MORE bestREAD MORE its goodREAD MORE genuine product....READ MORE NiceREAD MORE Product quality is so bad It last for one dayREAD MORE GoodREAD MORE Good productREAD MORE cheapest than market and quality assuranceREAD MORE goodREAD MORE this was my second purchase and oddly enough shuttle was jumping a lot. this issue was there for entire lot in the box. wondering if it is original yonex 350.READ MORE good productREAD MORE Nice productREAD MORE 350 is not good as its. Its lasting only 2 days. U should improve its qualityREAD MORE Genuine  product highly recommendable.READ MORE good  qualityREAD MORE price is reasonable as compare to market but shuttle speed is more as compare to slow shuttleREAD MORE goodREAD MORE not goodREAD MORE goodREAD MORE its niceREAD MORE Not goodREAD MORE okREAD MORE goodREAD MORE very nice productREAD MORE online purchase is better than offline purchaseREAD MORE GoodREAD MORE good productREAD MORE Not original. Shuttles are wobbling from 1st game itself.READ MORE Excellent qualityREAD MORE plastic quality  not goodREAD MORE NiceREAD MORE Made in japan Wow!READ MORE very gooooodREAD MORE very good productREAD MORE niceREAD MORE Good productREAD MORE superREAD MORE awsomeREAD MORE flip cart services cell is ultimateREAD MORE one shuttle lasts for 4 days...good but mavis 220i is better as it lasts 3 days and is half the price of mavis350READ MORE flipkart sells old product.READ MORE Original product. Received in time and was packed well.READ MORE very GoodREAD MORE gd quality very nycREAD MORE GoodREAD MORE goodREAD MORE It\\'s a original product.READ MORE nice productREAD MORE nice productsREAD MORE SuperbREAD MORE Very good productREAD MORE Good QualityREAD MORE very bad quality got broken in just 2 days don\\'t buy it at allREAD MORE nice qualityREAD MORE SatisfiedREAD MORE Guinine productREAD MORE Best shuttle to play withREAD MORE it\\'s very niceREAD MORE best shuttle..Mavis 350 I like that..READ MORE GoodREAD MORE AverageREAD MORE I am using this shuttle for my everyday practice.This shuttle is of better quality in comparison to Mavis 200 which costs less than this.Each shuttle lasts for 4-5 days as our daily practice consists of 10 games along with smash shots.So this shuttle suits our requirement for everyday practice.The yellow shuttle has a better visibility than the white one.The colour band at the base of shuttle represents the speed of the shuttle i.e green band is for slow speed,blue band is for medium speed an...READ MORE okREAD MORE Best price than shopREAD MORE niceREAD MORE goodREAD MORE one among 6 shuttle was found used. such cheat is not expected from flipkart.READ MORE go for itREAD MORE so goodREAD MORE Its the original yonex mavis 350. got product manufactured in August 2018READ MORE okREAD MORE Not badREAD MORE Very good productREAD MORE Durability is not as expected, 5 games later it worn outREAD MORE Broke 2 shuttle in just 30min of playing. I think we got a duplicate one, but on website of Yonex it shows that the product is genuine.READ MORE it is a good product and it is very lightREAD MORE very bedREAD MORE slow shuttlesREAD MORE awesomeREAD MORE Good quality..and nycREAD MORE goodREAD MORE Good qualityREAD MORE shuttles broke only after a short usage...READ MORE #Very Nice productREAD MORE Very badShuttle doesn\\'t lasts an hourREAD MORE goodREAD MORE super productREAD MORE very good productREAD MORE very goodREAD MORE the item is in good condition and the delivery was faster than they toldREAD MORE quality is very badREAD MORE very goodREAD MORE not a good product itREAD MORE best products and delivery time is also less consumedREAD MORE GoodREAD MORE Reasonable price and good quality.READ MORE Good for outdoor playing.Not for indoor courts.READ MORE nceREAD MORE adorble shuttleREAD MORE Good as usualREAD MORE RamREAD MORE opened box was deliveredREAD MORE Always i bought this.  Product is good.  No wastage in the pack.READ MORE very bad product cash returnREAD MORE Nice product superREAD MORE NiceREAD MORE good in qualityREAD MORE RecommendedREAD MORE niceREAD MORE authentic and long lasting shuttlesREAD MORE Good quality shuttle I recommended thisREAD MORE Genuine ProductREAD MORE timely delivered .Good serviceREAD MORE greatREAD MORE Good qualityREAD MORE genuine productREAD MORE good for playing in indoor stadiumsREAD MORE niceREAD MORE beautifulREAD MORE Could have been slightly better but at 650 it\\'s value for moneyREAD MORE GoodREAD MORE good but pin holes observed whole shuttlesREAD MORE Very satisfiedREAD MORE this time delivered products very poor condition one suttelcock only 3 match maximumREAD MORE goodREAD MORE Durable, well balanced, good for indor game. Thanks yonex and flipkart for timebeing delivary.....READ MORE bad material. shuttle don\\'t last for long. certainly its a fake yonex Mavis 350 which the Flipkart is selling. I suggest not to buy it, specially by this seller.READ MORE Good & acceptable product. Dilivery is also goodREAD MORE SuperREAD MORE AwesomeREAD MORE very nice shuttles with good flightREAD MORE best shuttle cork by yonex genuine productREAD MORE nice productREAD MORE very goodREAD MORE 1shuttle lasted for 5 days playing each hour a day it should have been more durable but better than the Mavis 200i which lasted for 2 days only .READ MORE goodREAD MORE Excellent quality........READ MORE Worst Shuttles.The shuttles doesn\\'t lasts long.READ MORE best qualityREAD MORE NiceREAD MORE nice quantityREAD MORE Less rating is only for the delivery. The box was crushed on delivery.luckily none of the shuttles were damaged.Shuttles are good with decent performance. We usually will play for 6 to 10 hrs with each shuttle before they tend to wear and tear.would rate them 4/5.READ MORE The most important thing is the packing and that was good .2nd all corks are in good condition.READ MORE best dealREAD MORE The shuttles were rotating not good.....might be I received faulty boxREAD MORE varry good productREAD MORE Good qualityREAD MORE Damm GoodREAD MORE great deal .  got it for 622 .. thanks FlipkartREAD MORE good qualityREAD MORE good product Mavis 350 ossm yonex MavisREAD MORE This product is very good.READ MORE super qualityREAD MORE the shuttle we\\'re original but they were very old and break very easilyREAD MORE genuineREAD MORE nice productREAD MORE GoodREAD MORE good productREAD MORE GoodLong lastingJust love it 👌READ MORE Best ever.READ MORE Delivery in time , Good quality shuttle..READ MORE Good.READ MORE worth to buyREAD MORE quality is bad. Got damaged after playing 2-3 matchesREAD MORE good itemREAD MORE NiceREAD MORE GoodREAD MORE gud oneREAD MORE good productREAD MORE original and best ..READ MORE Yes it\\'s good shuttle at such a lowest priceREAD MORE Reasonable price and best performance. Please reduce the price if possible.READ MORE super...READ MORE the parcel was good then before and it was quick as the time givenREAD MORE niceREAD MORE good n genuine productREAD MORE GoodREAD MORE nice product...... Thankyou.READ MORE niceREAD MORE superREAD MORE really good product....READ MORE it\\'s a genuine products.rest it\\'s Yonex..doesn\\'t need a reviewREAD MORE Little bit not lasting as expected.READ MORE good quality..... but green one is the slow one (singles), if u wanted a medium fast shuttle go for blue tappedREAD MORE excellentREAD MORE it is nice so muchREAD MORE Worst product. The shuttle doesnt work even for 10matchesREAD MORE Poor qualityREAD MORE awesome productREAD MORE goodREAD MORE goodREAD MORE Very bad corckREAD MORE Genuine productREAD MORE Not badREAD MORE Good, expecting at low price.READ MORE goodREAD MORE it\\'s goodREAD MORE goodREAD MORE excellentREAD MORE good qualityREAD MORE Excellent serviceREAD MORE nice. shuttleREAD MORE Great product. Love itREAD MORE not much qualityREAD MORE superREAD MORE it\\'s good...READ MORE Good productREAD MORE best shuttle for all beginer as well as for expertREAD MORE fast delivery niceREAD MORE superb qualityREAD MORE nice product.. i brought for ₹709 good one for this prizeREAD MORE stop scrolling. Buy the product. quality is good. Remember we are not international players to look 💯 results.READ MORE nice brandREAD MORE Nice ProductREAD MORE bad productREAD MORE Worst item doublecat send me pls avoid thisREAD MORE Best as alwaysREAD MORE product is not genuine....it\\'s slow compare to other Mavis 350.READ MORE Delivery is too much fast.. I lke it..READ MORE I paid full so deserve to get in time and sound conditions.. nothing to appreciate about it.. however Thanks.READ MORE Nice productREAD MORE product was properly packed & delivered.READ MORE Quality of shuttles are not goodREAD MORE Have received a genuine product; made in japan.READ MORE one shuttle used to last for 25 hours regular . double match. i would suggest i could be little cheaper.READ MORE Waste do not buyREAD MORE original and genuine product. thanks flipkartREAD MORE niceREAD MORE goodREAD MORE All shuttle are damagedREAD MORE Not workableREAD MORE good price,READ MORE Worst shuttle 200i z better dn diz 350iREAD MORE not played yet but seems goodREAD MORE good one.READ MORE its not quality item as compare other websites in same costREAD MORE bast..READ MORE I don\\'t thing the shuttle were genuine. Of the 6 shuttles, 4 of them did not last a single game. That\\'s unlikely if they were genuine Yonex shuttles. Very dissatisfied.READ MORE good oneREAD MORE this is not yonex original product.... compare with original one the weight is little bit high....READ MORE Value for money. Nice product.READ MORE NiceREAD MORE goodREAD MORE good shuttlesREAD MORE vry goodREAD MORE very good productREAD MORE Not very good as I acceptedREAD MORE Given 8 months back manufacturing date product. I have experienced that Flipkart services not good.READ MORE Poor QualityREAD MORE just noREAD MORE awesome thanks for the quick deliveryREAD MORE very good qualityREAD MORE SuperREAD MORE good and original product.READ MORE bestREAD MORE genuine  product and nice quality. good for the intermediatesREAD MORE it seemed it was old stock. shuttle wooden base was damaged (presence of piercing many holes on shuttle base). it is advised to check shuttles physically on nearest shop & then purchase, although it may cost few bucks more but u will b satiesfied 4 a gud purchase.READ MORE fastest dievery in 9 hoursREAD MORE very good packaging and super fast delivery. thanksREAD MORE perfect oneREAD MORE nice oneREAD MORE nice corkREAD MORE good niceREAD MORE very goodREAD MORE Not goodREAD MORE it is goodREAD MORE not that badREAD MORE this product is too uselessREAD MORE goodREAD MORE nice productREAD MORE awesome & delivered early too thanks for that... and ya the same product we bought from market is 170 per shuttle.... which is too high for the same product... I must say go for itREAD MORE good qualityREAD MORE goodREAD MORE Very Good Shuttle.READ MORE one one  shuttle is ok. and others are new but not playable because of viberent in air.READ MORE I am happyREAD MORE superREAD MORE Very bad product it is too light weight to play i think its not the actual yonex 350READ MORE Good OneREAD MORE good quality product.READ MORE on time delivery and fast alsoREAD MORE Sorry for negetv revw... this is a genuine oneREAD MORE Nice oneREAD MORE This shuttle is not good for professional or intermediate player\\'sREAD MORE saved minimum 150 rupees compared to least available price and product is original thank you FlipkartREAD MORE goodREAD MORE super good gualityREAD MORE nice shuttle.... long lastREAD MORE WonderfulREAD MORE These are very bad shuttles. I think they have given local product do not buy this product from flipkart I am not happyREAD MORE this time is better but the last time was not satisfied.READ MORE Quality is not upto the markREAD MORE it is very nice product❤❤❤READ MORE Nice products, beautiful...READ MORE The box almost lost its shape when it got delivered to me.READ MORE GoodREAD MORE On each barrel one of the shuttle is defect one.READ MORE very goodREAD MORE the shuttles are awesomeREAD MORE goodREAD MORE it\\'s  very reasonable priceREAD MORE Original products. Quality exalentREAD MORE good for good priceREAD MORE it is not much durableREAD MORE Nice productREAD MORE fast delivery.thanksREAD MORE it\\'s orignal and very good qualityREAD MORE corks container not in s good shapeREAD MORE Service is good.READ MORE nice productREAD MORE good product..... Box quality not good, And packing quality must need improvedREAD MORE good original product but it\\'s price doesn\\'t dip even on salesREAD MORE very goodREAD MORE High quality stuffREAD MORE excellentREAD MORE superREAD MORE Aswome performanceREAD MORE a super fast delivery,,, of course a good packingREAD MORE Very good product.. Thanks flipkart..READ MORE the product is excellentREAD MORE overall bestREAD MORE Shuttle box came in perfect condition and shuttles are good and wellREAD MORE qwality poorREAD MORE super goodREAD MORE goodREAD MORE niceREAD MORE Worth for your moneyREAD MORE goodREAD MORE Very good productREAD MORE packaging is poor, box one side has been crushed. shuttles are in good shape and qualityREAD MORE Nice product, and timely delivery. Good job.READ MORE poor quality deliveresREAD MORE worst shuttle ever receivedREAD MORE Good prodectREAD MORE superREAD MORE good productREAD MORE Very good productREAD MORE AwesomeREAD MORE Original product..READ MORE Good qualityREAD MORE shuttle has a very good balance but very costlyREAD MORE nice!  no damaged shuttle. very happy.READ MORE every time packing is very good but this time it\\'s very poor.except that everything is fine.READ MORE Perfect shuttle, having great flightREAD MORE it\\'s good but costlyREAD MORE Genuine yonex productREAD MORE not value for moneyREAD MORE GoodREAD MORE Very slowREAD MORE Good Responce & fast DeliveryREAD MORE old stockREAD MORE GoodREAD MORE good productREAD MORE niceREAD MORE This shuttle is a long lasting one. Authentic productREAD MORE This is worst product.Dont waste our moneyREAD MORE not at all lasted for 1 day.waste product.they just changed manufacturing sticker and sold it.reviewing after a week.The worstREAD MORE GoodREAD MORE best in class for indoor this is bestREAD MORE value for money...READ MORE It\\'s as good as expected.READ MORE Nice productREAD MORE Good oneREAD MORE it is not good as previous 1 damaged I gotREAD MORE v goodREAD MORE niceREAD MORE NiceREAD MORE writing this review after using a couple of shuttle\\'s.these are not original. yes I repeat they are not original. starting from the box, it\\'s cheap replica, you can tell that by looking at the plastic lid. Shuttle won\\'t last for more than 2 games. Flipkart/Vendor is cheating customers.READ MORE Im not at all satisfied with these product this is second quality product, slowly flipkart is lossing the assuranceREAD MORE it\\'s a very nice product..READ MORE GoodREAD MORE Perfect. Just go for it. Got in time. Thanks Flipkart.READ MORE Good productREAD MORE very poor qualityREAD MORE goodREAD MORE Best :)READ MORE One of the beat shuttle from yonex for outdorREAD MORE A pack of 6 quality well maintained shuttlesREAD MORE It is a very well product......no doubt...READ MORE Quality is not goodREAD MORE very durable and long lastingREAD MORE Good product at a great price .. purchased for 1215 r.s of two boxREAD MORE SuperREAD MORE Product genuine, good. Packaging inadequate. Shuttles bent due to no outer protection, soft cardboard box.READ MORE poor qualityREAD MORE bestREAD MORE 650 is a Marginal Price...READ MORE goodREAD MORE goodREAD MORE perfectREAD MORE quality of the shuttle is not very good.READ MORE there is duplicate in some of Flipkart products which I have heard couple of days back but now am facing the issue .. I have used this shuttle very first time from Flipkart and it actually tear off within 20-30 shots I have used 3 shuttles with a span of 40 min. game.  I suggest you kindly purchase from somewhere elseREAD MORE Low prices and very good articleREAD MORE very bad shuttle because hiii dammage with in a one gameREAD MORE goodREAD MORE Worth of money product only for rs 675 on sale really I loved this awesomeREAD MORE wonderful productREAD MORE excellent productREAD MORE found originalREAD MORE good one for indore gamesREAD MORE good qualityREAD MORE Good Packaging and good productREAD MORE waste prouctREAD MORE good shuttlesREAD MORE Good shuttle for outdoor advance player..After 2 days it slightly heavierREAD MORE Good service thankREAD MORE Super I\\'m very HappyREAD MORE nice good quality product.READ MORE quality is low but okeyREAD MORE very niceREAD MORE product is very good but worst packing by flipkart product got damage because of packing .READ MORE Great shuttle but wised if it’s more durableREAD MORE quality not good as expectedREAD MORE GoodREAD MORE awsmREAD MORE delivery on tym.... satisfy with productsREAD MORE very niceREAD MORE don\\'t to buy this product. totally duplicate.READ MORE awesome as usualREAD MORE original shuttle carkREAD MORE serve the purposeREAD MORE goodREAD MORE Received packed was crushed at flat cap  due to which one shuttle was pressed & uselessREAD MORE beat shuttleREAD MORE good product but lost 2 shuttles in 5 days not for professionalsREAD MORE Best suitable for indoor practice , durable and value for money.READ MORE goodREAD MORE delivered on time and good product, giving review after completely usedREAD MORE this is a bad productREAD MORE good oneREAD MORE Nice product tiemly provided....READ MORE niceREAD MORE good product valuableREAD MORE original....READ MORE good one and with cheaper pricrREAD MORE defective productREAD MORE Good quality shuttle...bad packing while delivery..tin was twisted due to the tight packing...hope better delivery next timeREAD MORE super productREAD MORE Good quality I suggest you.....READ MORE GoodREAD MORE flipkart assured always the best😁READ MORE There is no dpubt that mavis 350 is one of the best shuttlecocks in this price range... I always purchase this for playing match with friends...i am happy with flipkartREAD MORE it is better than previous ones. I have purchased it before also via flipkart but that was worst. but I like it. go for it ..READ MORE gud productREAD MORE felt it\\'s pretty slowREAD MORE Product is good but delaye deliveredREAD MORE Not Good Quality of product, not as per Yonex stander.after few games only, product gets damaged.READ MORE best of bestREAD MORE it\\'s very heavy.. my racquet string is gone due to heavy weight of the shuttlecorkREAD MORE nice product must buyREAD MORE 2 days a single shettle is being usedREAD MORE niceREAD MORE niceREAD MORE Product is good.. but the packaging wasn\\'t being taken care off properly. The box which I received was a bit squeezed from two sides damaging one shuttle inside the box.READ MORE very niceREAD MORE Buyed most time...READ MORE worest product don\\'t take anyoneREAD MORE These days Mavis 350 shuttlebox containing duplicate shuttles. Got 3 shuttles as lite weight which are not suitable to play. Other 3 shuttles are good. Purchased 2 shuttleboxes and both are same. Not sure if it is the problem with Flipkart seller or manufacturing problemREAD MORE goodREAD MORE quality is not goodREAD MORE Quality as expected (good) it\\'s made in Japan not Chinese product and got it at rs 578 only I enquired everywhere it\\'s not less than 750 rupees....I would say go for it.READ MORE the shuttle  damaging after few gamesREAD MORE goodREAD MORE goodREAD MORE niceREAD MORE very niceREAD MORE okREAD MORE go for.it original product 😍READ MORE Supar productREAD MORE Quality of the shuttle is not at all good after playing for 15-20 min got breakage in the middle of the shuttle and breakage in the cork made us dissatisfied with the product....READ MORE Good one. Received original product.  Thanks to FlipkartREAD MORE Good qualityREAD MORE greatREAD MORE goodREAD MORE worest product dont by itREAD MORE maximum shuttle are shape outREAD MORE qualitywise is not goodREAD MORE GoodREAD MORE good as alwayREAD MORE not goodREAD MORE awesome, original & fresh productREAD MORE superREAD MORE very nice thnks for flipkartREAD MORE delivery done in time.READ MORE Best value for price...... Better than any shutttleREAD MORE Very niceREAD MORE cheapest when compared to the market priceREAD MORE Packing is very bad.READ MORE Good.READ MORE nice shuttleREAD MORE NiceREAD MORE Good product....READ MORE GoodREAD MORE Satisfied with the productREAD MORE this is good shuttle but i found mavis 2000 more durable...READ MORE The box of shuttle was dented. seems like the delivery boy has kept lots of items on it and the box shape was distorted. shuttles are fine.READ MORE best qualityREAD MORE goodREAD MORE excellentREAD MORE nice...READ MORE Nceee one and useful for Intermediate ppl\\'sREAD MORE competitive price, fast deliveryREAD MORE good shuttleREAD MORE excellentREAD MORE Best Shuttle Ever For Basminton...READ MORE 4 used, 2good, 1ok, 1 Cork got deformed in just 1game.READ MORE goodREAD MORE superb quality ....i satisfied thanks to flip kart..READ MORE Wonderful shuttlesREAD MORE tnx to teamREAD MORE okREAD MORE Good quality...New stockREAD MORE online purchased yonex Mavis 350 is not Good quality.... don\\'t purchase ...READ MORE nice qualotyREAD MORE Authentic product... new stock... great price ... bought at 610 ...READ MORE NiceREAD MORE Item is good..but ekart service is very very bad..READ MORE Poor quality materialREAD MORE Excellant iobREAD MORE Packing was pathetic. Completely damaged..box was broken... Slightly damaged cork.. Never expected this from flipkartREAD MORE Don\\'t know why I am even writing a review. Everyone probably knows 350 is the best.READ MORE Good productREAD MORE replacement came bit late, perfect shuttle with perfect priceREAD MORE Prompt Delivery and Product is as expected.READ MORE Excellent for Badminton court.. And especially  beginnersREAD MORE good productREAD MORE goodREAD MORE superb niceREAD MORE niceREAD MORE delivery is too bad .,,...but product is goodREAD MORE niceREAD MORE goodREAD MORE originalREAD MORE low qualityREAD MORE greatREAD MORE The shuttles look genuine but are suuuperrrrr slow. Can\\'t play with them. Really disappointed.READ MORE Very bad quality shuttle.....and very very pathetic packing....READ MORE Delivery was super.Product is goodREAD MORE AmazingREAD MORE one or tow damageREAD MORE thanksREAD MORE Best buy. Good quality Shuttle. No cons.READ MORE very bad qualityREAD MORE Good quality..READ MORE very much delayed delivery. product is genuine.READ MORE nice shuttleREAD MORE PerfectREAD MORE All shuttles were in good condition.READ MORE GoodREAD MORE nice product and speedy deliveryREAD MORE niceREAD MORE The box had got crushed in the cardboard box. Please don\\'t pack in thin cardboard boxes. Instead pack it in plastic covers along with the bubble sheet wrapped around the box. This way the shuttles won\\'t get damaged. Slightly out of shape......the shuttlles will not perform at all... So next time I order shuttles I expect a proper delivery without damage or else I will return.READ MORE Out of 6 shuttle , 4 of them were good,  2 of them were bad.READ MORE Nice productsREAD MORE good qualityREAD MORE Nice product by FlipkartREAD MORE not goodREAD MORE it\\'s original. You can check it on Yonex website. and it is definitely at lower price than nearby shopsREAD MORE superb product and delivered before expected dateREAD MORE I am a regular user of this product. I am happy that i bought it on deal.READ MORE Very good, slow shuttle speed like pro shuttles. Balanced , durable.Go for it.READ MORE Very goodREAD MORE Quality is good.READ MORE bad qualityREAD MORE it\\'s genuine . correct flight for outdoor conditionREAD MORE nice shuttleREAD MORE awesome productREAD MORE Good productREAD MORE Genuine productREAD MORE Quality is not good enoughREAD MORE Best shuttle out there for every talent group.READ MORE I always preffered Mavis 350 Slow for My indoor Court. Best one 👌👌READ MORE goodREAD MORE As expected nice quality and quantity.READ MORE useable...goodREAD MORE Product is in good condition and received on timely also the behaviour of the sales is very politeREAD MORE Good and fast shuttle..lasts longREAD MORE GoodREAD MORE nice shuttles.... although it gets bit fast after few shotsREAD MORE On-time deliveryREAD MORE nice,READ MORE For daily practice the best shuttle you can have. Very SatisfiedREAD MORE Very nice shuttles compared to other shuttles it\\'s very goodREAD MORE great price 609 and good qualityREAD MORE good ... just used one but it lasted long... as little experienced find the slowing down of cork little awkwardREAD MORE flirty quality corckREAD MORE very worst quality after playing 2 to 3 games cork HOVERINGREAD MORE product is good, but worst customer service took them 2 weeks to deliver itREAD MORE counterfeit productREAD MORE poor qualityREAD MORE Long lasting,nice one,good smashe,good qualityREAD MORE Long durable  superb ShuttleREAD MORE Not badREAD MORE Slow is betterREAD MORE quality is not goodREAD MORE the shuttle box was tampered and shuttled tooREAD MORE I am be happyREAD MORE oldREAD MORE Worth to buy, lasting for two days for two hours of play.READ MORE good value for moneyREAD MORE Good product... long lastingREAD MORE Good.. Nice quality and useful priceREAD MORE Super Excellent product at best price.... It also original verified....READ MORE available cheaper in local sports ShopREAD MORE superREAD MORE niceREAD MORE nice productREAD MORE it\\'s worth of moneyREAD MORE very goodREAD MORE goodREAD MORE The product is awesome, got the delivery in 2 days.READ MORE good cualityREAD MORE GoodREAD MORE yonex 350 upto markREAD MORE The best shuttleREAD MORE Excellent productREAD MORE Quality is not so goodREAD MORE goodREAD MORE Good proddectREAD MORE really nice.....very durable and nice quality al well... perfect for practicing professional and for regular use tooREAD MORE goodREAD MORE GooodREAD MORE amazingREAD MORE not badREAD MORE Quality of product is very poor. Green cap is recommended for slow. But It was fast while playingREAD MORE superREAD MORE nice oneREAD MORE slow shuttle with good flight and superb accuracy.READ MORE goodREAD MORE very goodREAD MORE GoodREAD MORE Many a time when I buy shuttlecocks from elsewhere it starts wobbling after a match or so. But these shuttles were great. A single shuttle  easily last around 10 matches. Reliable I would say! And on time delivery by Flipkart.READ MORE Very nice quality and especially for indoor this colored ones helps for better Visibility.READ MORE nice productREAD MORE A couple of shuttles had more speed than expected. Overall good product.READ MORE NiceREAD MORE AmazingREAD MORE its a very good productREAD MORE always preferred choice this one...I like itREAD MORE good quality but on the slower side even for outdoor.READ MORE excellent product thanksREAD MORE Very nycREAD MORE product is as expected. but the one that I am very satisfied is with the delivery. ordered the night before and received the product in hand by 8AM next day. 5/5 to the seller for quick deliveryREAD MORE niceREAD MORE goodREAD MORE Excellent product with very fast delivery ...wonderful service Flip KartREAD MORE excellentREAD MORE goodREAD MORE supperREAD MORE highly durableREAD MORE superbREAD MORE better 👍READ MORE PRODUCT IS OF VERY GOOD QUALITY BUT PROPER ATTENTION SHOULD BE GIVEN TO DELICATE ITEMS DURING TRANSPORTATION.READ MORE good qualityREAD MORE Good product.Worth for priceREAD MORE wonderfulREAD MORE fineREAD MORE Very good product..READ MORE awesomeREAD MORE this is original yonex good shuttle lasts long and flight path is excellent for outdoorsREAD MORE Nice productREAD MORE fast delivery ....thanks fksuper original productsREAD MORE nice productREAD MORE goodREAD MORE packing of the box is not good one of the shuttle got tear due to worst packingREAD MORE nice productREAD MORE Good productREAD MORE no words... simply superbREAD MORE goodREAD MORE fast shuttles.READ MORE goodREAD MORE best shuttle thanku flippant ☺😊😇😇READ MORE Product is not goodREAD MORE I honestly had a bad experience with it. The shuttles looked fine but after 3-4 games, I would say intermediate level, it started tearing off.READ MORE Happy with this productREAD MORE exlent superREAD MORE Very goodREAD MORE RecommendREAD MORE GoodREAD MORE It is best product. I am using it from one month it is still goodREAD MORE Shuttles quality not up to markREAD MORE I am playing from 3 yrs and I got this the best shuttleREAD MORE It\\'s very fast shuttle But after playing 1 day its okREAD MORE overall good but some times shuttles are way fast to play i.e I used to order 4 pack a month and every 1 or 2 month 1 of the pack all the shuttles are having this issue may be duplicate..READ MORE nice corkREAD MORE good oneREAD MORE nicee product use fulREAD MORE Good shuttle for indoor use. We are a bunch of intermediate to advances shuttlers and the flight of these greencap shuttles is good. There can be some variation though from one box to another in the speed.The shuttle lasts a long time and that can be a problem because the flight pattern changes after say 12-15 games. So you may want to toss the shuttle once it reaches that stage.Overall a very good value for money plastic shuttle that plays somewhat similar to feather but lasts a lot lon...READ MORE supperREAD MORE found genuine and delivered well on time.READ MORE niceREAD MORE All Ball shakes....very Bad...READ MORE the shuttle was not good very slow and it broke in 1 day one shuttle . where was I purchased offline it was going for 3 daysREAD MORE GoodREAD MORE original one good qualityREAD MORE Long lasting. Good Quality. This shuttle is good for begineers.READ MORE Good productREAD MORE SuperREAD MORE the shuttlecock speed is fast compared to what my friend\\'s bought. I doubt the quality of the packREAD MORE Product Good... But delivery delay in Bangalore city inside itself...HmmREAD MORE genuine product but packaging is wrostREAD MORE product is too much good but packaging are not good. please improve your packaging sir/mam.....ThankuREAD MORE very bad, cheap quality, high cost, watage of money.READ MORE good ,it\\'s originalREAD MORE Durability of MAVIS 350 SHUTTLE CORKS is not to the expected level now the quality has decreased please check and revert backREAD MORE Buying yonex online will always benefit you cost wise. My only complaint is that the box was a bit squashed due to transportation.READ MORE very much durable for Rs.701  its awesome ...very durable ..READ MORE love itREAD MORE best shuttle in this price range .but this one was very bad whole box lasted only for 18 days .as I am regular buyer this box lasts for minimum of 40 days.but maybe the old stock was given this time . although the best product in this price tangeREAD MORE Good stuff.READ MORE awesomeREAD MORE goodREAD MORE Good product...READ MORE packing not Well, your packing not protect to productREAD MORE good oneREAD MORE shipping was not handled well and shuttles overturned by thatREAD MORE plastic cover was torn slightly, product goodREAD MORE good productREAD MORE yoo...got orignal product😊READ MORE Nice Shuttles.READ MORE i can\\'t rate it. its too High price than offline...READ MORE product is good but service is worstREAD MORE good shuttle close to feather speedREAD MORE Genuine product. Great delivery time. Totally Satisfied.READ MORE super qualityREAD MORE Recive original product thanksREAD MORE packing and parsal both are good qualityREAD MORE niceREAD MORE good qualityREAD MORE GreatREAD MORE orginal mavis 350...gd productREAD MORE not goodREAD MORE Good productREAD MORE Good, but looks like old stockREAD MORE I received the product safeREAD MORE good oneREAD MORE genuine product delivered...READ MORE some of bird heads are stained with little mud. I was worried whether these are used ones, but those are good in flight and quality.READ MORE Its original. Verified by its scratch code.READ MORE same good qualityREAD MORE nice app reliable and genuine products are delivered  thanksREAD MORE Shuttle is too slow not as what we get from the offline marketREAD MORE goodREAD MORE Great product. But charges was high in online purchases near by sports shopREAD MORE fantasticREAD MORE impressiveREAD MORE good productREAD MORE good qualityREAD MORE it\\'s good productREAD MORE Good and very fast deliveryREAD MORE good price 700/-READ MORE goodREAD MORE Fantastic Quality!READ MORE Don\\'t buy this product from flipkart. All the shuttle from the box are wobbling.READ MORE Total barrel was bad.READ MORE great and cheap as per marketREAD MORE As always a good PickREAD MORE nice product...u can go for itREAD MORE GoodREAD MORE Good productREAD MORE this is the best ever i have recieved everREAD MORE Gud shuttle... Worth the penny...READ MORE good in lessREAD MORE HappyREAD MORE excellent quality, strong shuttle for practice, very much durableREAD MORE very worst shuttle comeREAD MORE Good product. Genuine. Delivery on time.READ MORE ExcellentREAD MORE nice oneREAD MORE greatREAD MORE worst standard of packing and product. box was already crushed from one side, no fillers to protect the box. shuttle container lid is so cheap and thin that it\\'s almost see through type of lid. Flipkart and Yonex should check the authenticity of the product and sellerREAD MORE Good productREAD MORE Very poor quality shuttles. Not withstanding even one hour singles gameREAD MORE there are 2 damaged shuttles out of 6..not satisfiedREAD MORE GoodREAD MORE niceREAD MORE Awesome productREAD MORE badREAD MORE the price is high.. in local market RS 50 lessREAD MORE ok seems okREAD MORE genuine product...READ MORE good qualityREAD MORE These shuttles are different compared with what we buy from showroom.. Don\\'t know the exact reason. These shuttles look like cheaper quality. That\\'s why a three star...READ MORE good conditionREAD MORE GoodREAD MORE okREAD MORE OkREAD MORE 2 out of 6 shuttles were defective.READ MORE niceREAD MORE thank youREAD MORE quite wellREAD MORE suttles are good but packing is very poorREAD MORE very niceREAD MORE These are really nice shuttle under a good price range.READ MORE good qualityREAD MORE nice one...READ MORE good productREAD MORE nice and durable..slow speedREAD MORE Bad qualityREAD MORE I am playing badminton from last 6 month. Quality has been good so far but I believe they will make better Shuttle in coming soon.READ MORE niceREAD MORE good qualityREAD MORE it was good product niceREAD MORE good qualityREAD MORE nice product. Reached earlier than expectedREAD MORE good oneREAD MORE Good quality..READ MORE goodREAD MORE its a good productREAD MORE goodREAD MORE good product. Thanks for fast delivery.READ MORE superREAD MORE okREAD MORE It is goodREAD MORE good replacement Service as i first gets a defective productREAD MORE Nice good priceREAD MORE goodREAD MORE Very competitive price. Fast delivery.READ MORE 100 % originalREAD MORE Nice productREAD MORE NiceREAD MORE good shuttle , thanks to Flipkart for a speedy delivery, product is authentic n original.READ MORE Hope the price remains same.Mavis 350 Oginal product. 👍READ MORE TrustableREAD MORE bad qualityREAD MORE OK niceREAD MORE GoodREAD MORE great productREAD MORE bestREAD MORE recommended to friend ..genuine productREAD MORE best quality.READ MORE best for the intermediate playerREAD MORE good dealREAD MORE niceREAD MORE very good productREAD MORE it\\'s a nice product by YonexREAD MORE nice products and thanks flipcart... for deliveryREAD MORE Prompt delivery and good packaging ...last time wrong and damaged shipment made ..but this time took corrective action..Thank you.READ MORE superREAD MORE super shuttleREAD MORE Very happy with the product ☺️READ MORE GoodREAD MORE awesome nice productREAD MORE fast service.I received it in one dayREAD MORE delivery not done how to give ratingREAD MORE very nice productREAD MORE nice oneREAD MORE Genuine productREAD MORE Very good & nice productREAD MORE Good qualityREAD MORE product is nice...packing was worst..1 shuttle had broken inside for dat..delivered on assured day..still need to work on packaging aREAD MORE quality was goodREAD MORE fast delivery and nice productREAD MORE supetREAD MORE Ideal Good bestREAD MORE GoodREAD MORE Perfect oneREAD MORE Good productREAD MORE It is very good or u can say best also. I fell in water many time and its still working the bestREAD MORE Got original product from flip cartREAD MORE Thanks for speed dileviredREAD MORE niceREAD MORE goodREAD MORE goodREAD MORE excellentREAD MORE very goodREAD MORE got the best price...thanks FKREAD MORE product as describedREAD MORE niceREAD MORE superREAD MORE Excellent delivered productREAD MORE its originalREAD MORE Thank you flip card for the best product. Though it was my first shopping still then it was awesome.READ MORE best shuttle everREAD MORE fantastic original product, if you are having a doubt, just don\\'t worry, go for it .READ MORE greatREAD MORE Nice product.. Delivered on time.. Thank you flipkartREAD MORE good for practice...READ MORE no doubt universally the best.READ MORE Nice and original one.. Go. For itREAD MORE this product is amazing I love itREAD MORE good product ...READ MORE a good one ..nice durabilityREAD MORE Good, faster delivery... Thanks flipkart...READ MORE worth of moneyREAD MORE received packing looseREAD MORE goodREAD MORE it\\'s a genuine and of good quality. go for itREAD MORE many shuttles started having wobbly flight on second day of platingREAD MORE Not goodREAD MORE Good product with on time delivery. Loved it.READ MORE i was ordered 2 pillars one was damaged but shuttle is goodREAD MORE very goodREAD MORE niceREAD MORE nice productREAD MORE awesome product loved itREAD MORE Waste product, ball so worst pls next time with good quality. Pls change the next time seller l.READ MORE Great shuttles....Even better than the ones available in the shops right now..READ MORE Good quality shuttles were delivered and I am happy with the purchaseREAD MORE 👌👌👌READ MORE goodREAD MORE value for moneyREAD MORE shipped within 24 hours. thanks for the quick deliveryREAD MORE really worth paying..best suited for outdoor and indoor as wellREAD MORE Best one for this budget. Even though I am a badminton novices, I still could feel the difference between this shuttle and other products.This is has very similar characteristics to a feather shuttle but lasts much longer.READ MORE It\\'s goodREAD MORE superREAD MORE GoodREAD MORE very nice shuttleREAD MORE good productREAD MORE Good. User friendlyREAD MORE satisfiedREAD MORE durable and happy with this product.READ MORE good qualityREAD MORE nice productREAD MORE good qualityREAD MORE GoodREAD MORE GoodREAD MORE Nice shuttleREAD MORE goodREAD MORE good shuttlecock.... Can play 8-9 regerous games....READ MORE v goodREAD MORE good one.READ MORE Value for moneyREAD MORE Nice cpcks working goodREAD MORE thats goodREAD MORE It\\'s just what I wanted. Prompt delivery.READ MORE OutstandingREAD MORE good product at  low cost in comparision to marketREAD MORE goodREAD MORE genuine. good product and serviceREAD MORE Nice....READ MORE Very good for both professionals and for training alsoREAD MORE Thank you. Nice to have at that price.READ MORE good product in low priceREAD MORE excellent product.simply we get cheaper than market.READ MORE very good. rate relatively lessREAD MORE thanks to flipkartREAD MORE good productREAD MORE good productREAD MORE WowREAD MORE superREAD MORE GoodREAD MORE gud nice product better to play for training purposesREAD MORE Good for intermediate players. A shuttle lasts for 4 to 6 games.READ MORE Received Original productREAD MORE very gugREAD MORE Good Shuttle for BeginnersREAD MORE very..good productREAD MORE Best productREAD MORE good productREAD MORE Perfect for meREAD MORE Found with a Decent price at Flipkart and The Manufacturing date was only three months old. So I am very satisfied with this deal.READ MORE very goodREAD MORE superREAD MORE prfect product, perfect delivery.READ MORE Shuttles are goodREAD MORE Superb product and love the fast serive of flipkartREAD MORE Get Best priceREAD MORE Got it delivered very next day..good quality shuttle at this priceREAD MORE Timely complete service..READ MORE Nice product,READ MORE very niceREAD MORE best shuttleREAD MORE Good  for Daily practiceREAD MORE Excellent product.READ MORE niceREAD MORE goodREAD MORE good productREAD MORE I got what I have expected.....READ MORE nice productREAD MORE quality productREAD MORE On time delivery and 699/- is a good price.READ MORE Received product in excellent condition. Good packing and quick delivery. Keep it up Flipkart.READ MORE goodREAD MORE delivery is fast as expected... tq ekart logisticsREAD MORE GoodREAD MORE Great product at best price at Rs 699 in Flipkart. They new stock as well. The shuttle is slow which is good. Also, the advantage of using this shuttle is that most tournaments hosted here in India at intermediate plus level use Yonex Mavis 350.READ MORE perfectly suitable for outdoor, but there is not much diff with local storesREAD MORE Awesome product at this price and amazing services. Love you Flipkart.READ MORE bad productREAD MORE NiceREAD MORE ExcellentREAD MORE Marvelous goodREAD MORE product is OK, nicely packed.READ MORE This is duplicate product Shuttles are too fast like Red capPls dont buyREAD MORE packing was awesome,no destruction in shuttle,great service,READ MORE SuperREAD MORE nycREAD MORE We are playing with mavis 350 from last 5 years. I am buying mavis 350 from flipkart since last 3 years. Off late the quality of shuttles have degraded. The shuttles bought from flipkart are not slow as expected and are quite fast which makes them useless in hardly a game or two. The same when bought from store does not have such problem. This makes me doubt about the quality of shuttles.READ MORE good oneREAD MORE good qualityREAD MORE it is goodREAD MORE exellent productREAD MORE Simply the best oneREAD MORE Nice one long lastingREAD MORE nice no wobbling  fly is perfect its orginal and some one boxes quality is badREAD MORE Quality productREAD MORE on time delivery. The product is original. 100% genuine.READ MORE The seller is mixing good one with duplicates, 3 shuttle out of 6 was of fluctuation speed.  Means flight was not ok,  I almost bought 6 bundles, In kerala official rate 730, but he will give it for 699READ MORE Product quality is not goodREAD MORE First class...:)READ MORE NYC and original shuttle.READ MORE condition is good but is available in market on the same priceREAD MORE it\\'s goodREAD MORE Not badREAD MORE ratewise excellent.READ MORE Very disappointed with the shuttle quality. 3/6 shuttles wobble in the air. Zero starsREAD MORE I have bought it on Flipkart, I used the shuttle but 2 out of 6 shuttles were very bad and remaining 4 also lasted for half the time how the other original shuttles use to go.READ MORE good quality, durable and lasting..READ MORE goodREAD MORE good productREAD MORE ExcellentREAD MORE Very goodREAD MORE Excellent,  but price should be a little bit less.READ MORE good n genuine productREAD MORE very fast delivery,  thanks flipcartREAD MORE goodREAD MORE Third class product sent by flipkart. this time shuttle did not continue more than 2 days.READ MORE GoodREAD MORE NiceREAD MORE goodREAD MORE goodREAD MORE Good one in the pack one or two are not having the correct flightREAD MORE good one. neat packaing..fast deliveryREAD MORE Magnificent ProductsREAD MORE After buying with multiple buyers this time found genuine shuttle thanks a lot to flipkartREAD MORE gd product.. value for moneyREAD MORE price are less than delerREAD MORE good for regular usage in indoorREAD MORE goodREAD MORE nice oneREAD MORE very good productREAD MORE superREAD MORE product was not goodREAD MORE The quality is so good. We are professional but still it lasts for long time.READ MORE best quality in low priseREAD MORE thanks flipkartREAD MORE highly worthREAD MORE I used 5 out of 6shuttles ... I felt goodREAD MORE vry gud product n delivery superbREAD MORE its good productREAD MORE very goodREAD MORE good shuttleREAD MORE niceREAD MORE Bad productREAD MORE GoodREAD MORE worst shuttle waste of moneyREAD MORE ExcellentREAD MORE It really goodREAD MORE it\\'s okREAD MORE satisfiedREAD MORE Poor qualityREAD MORE goodREAD MORE I am sorry for returned product which you sent to me,without seeing inside,you already sent one box,please send the remaining 3 boxesREAD MORE ThanksREAD MORE Good but. Old stock productsREAD MORE GoodREAD MORE GoodREAD MORE good quality thank you FlipkartREAD MORE these shuttles are as good as feather shuttle in flight and life is good as wellREAD MORE very good product....READ MORE Express delivery,. good keep it upREAD MORE Good productlife is better and well balanced..speed is also good..shuttle is it is what I\\'m aspecting..READ MORE good qualityREAD MORE nice for people who paly regularly massive shots last long and goofREAD MORE Good qualityREAD MORE goodREAD MORE Not genuine but ok for intermediate playersREAD MORE thanksREAD MORE this product was very good . quality is very good .but delivery was too lateREAD MORE Good I  am going to try and get a few things in this cartREAD MORE good productREAD MORE goodqualityREAD MORE Good.READ MORE Good product and Fast delivery.I like FlipkartREAD MORE Nice productREAD MORE Good product to haveREAD MORE goodREAD MORE bestREAD MORE Don\\'t buyREAD MORE original product delivered by sallerREAD MORE Nice and goodREAD MORE yonex mavis 350 goodREAD MORE goodREAD MORE very good product and nice sellerREAD MORE quality not so gudREAD MORE Really good product..but all shuttles are not of same qualityREAD MORE great shuttle, durable & perfect balanced...READ MORE 350yonex bestREAD MORE Must buyREAD MORE Good product.. All good.READ MORE very gd productsREAD MORE Original ProductsREAD MORE Good one as expected.READ MORE NiceREAD MORE As usual Great. On-time delivery.READ MORE goodREAD MORE thank you .... Nice productREAD MORE Good quality...READ MORE Wonderful product!!READ MORE I was sent with a broken seal box and used shuttles.. very disappointed.READ MORE orginal. i am satisfiedREAD MORE Nice and original productREAD MORE GdREAD MORE Nice 350READ MORE Good priceREAD MORE good quality with reasonable priceREAD MORE I have received it in time. But doubtful if its original or notREAD MORE best shuttle for middle class people :DREAD MORE GoodREAD MORE Good Product , Value for money.READ MORE Awsm product. Shuttles are very strong love to play with it.READ MORE Good product , bought this product many times but sometimes I can clearly see the product to product variationREAD MORE good productREAD MORE goodREAD MORE very good and fresh stockREAD MORE genuine productREAD MORE Good packing and orginal yonex product..READ MORE good productREAD MORE perfect for outdoor tooREAD MORE Shuttle is fastREAD MORE Good product . but delay in delivery.READ MORE Nice ProductREAD MORE A better rate than in open market.READ MORE For outdoor it is best good for playing matches with friendsREAD MORE GoodREAD MORE very nice productsREAD MORE superb....READ MORE AwesomeREAD MORE Quick delivery Well doneREAD MORE Good genuine productREAD MORE Nice, good, fast delivery, low priceREAD MORE so niceREAD MORE GoodREAD MORE Excellent quality...as expected!READ MORE not up to the markREAD MORE produt is good but delivery is very very bad......shameREAD MORE Nice productREAD MORE good oneREAD MORE Good and best priceREAD MORE Very very goodREAD MORE well made shuttles. may last 2 months eachREAD MORE genuine product and quality is good. Thanks FlipkartREAD MORE Yonex Mavish 350 with Green Cap Nylon Shuttle is fit not only for a beginner but also for a good player of Badminton. Go for it, it will not disappoint you.READ MORE goodREAD MORE best quality. quality products, quick delivery, very happy.READ MORE Good oneREAD MORE price is highREAD MORE package was perfectly packed, but in transition got slight damage in outer box onlyREAD MORE Superb quality..got my money\\'s worth...thank you!READ MORE totally satisfied with the productREAD MORE it\\'s goodREAD MORE niceREAD MORE No worries.Good packing.Didnt face any issue with the product.READ MORE very bad shuttle and heavy weightREAD MORE Get open box.. shuttle .uumm.. ok..i know this 350 mavis is ausam..but when start game this shuttle is BUBBLING.. All shuttles BUBBLING.. MEAN TO SAY DIRECTIVE PCSREAD MORE Right choice for outdoor gameREAD MORE Very nice packed and fast delivery good filpkartREAD MORE niceREAD MORE good productREAD MORE excellent...READ MORE Quality is goodREAD MORE Cheked with sunrise, genuine product.READ MORE Delivered before time. Very good deal. Awaiting such more deals.READ MORE oxREAD MORE They r goodREAD MORE Very good qualityREAD MORE Genuine product.READ MORE Super Fast delivery and also best quality shuttlecocksREAD MORE midium  qualityREAD MORE goodREAD MORE It is a brilliant productREAD MORE the shuttles are not good and the quality is also not goodREAD MORE Good oneREAD MORE goodREAD MORE original qualityREAD MORE Long lasting. Better performanceREAD MORE This product are breakableREAD MORE goodREAD MORE Must say, these are the nicest shuttles for the price I paid. Long lasting.READ MORE GoodREAD MORE Good productREAD MORE awesome!!READ MORE These are Good For Who can\\'t afford FeathersREAD MORE Value for moneyREAD MORE GoodREAD MORE Worst product ever purchased till now.hard lower part of the shutttles (4) is not fixed properly. Only the ist shuttle in the box is of proper quality rest are very bad in quality.READ MORE It was Genuine Yonex I confirmed it on website The Plastic quality is soft and The Base Crock is less poursREAD MORE Great productREAD MORE excellent for practice...!READ MORE Nice product and durabilityREAD MORE Genuine product. Very fine quality.READ MORE good  as expectedREAD MORE value for moneyREAD MORE Awesome! and Excellent packaging for delicate item. Full marks to flipkart :)READ MORE Very cheap nd good shuttleREAD MORE good qualityREAD MORE Nice product..seems originalREAD MORE quality is not upto the markREAD MORE good shuttle....worth the moneyREAD MORE SuperREAD MORE Worst qualityREAD MORE Love Flipkart for wonderful offer and the delivery was great without damaging the delicate itemREAD MORE It\\'s goodREAD MORE good productREAD MORE Good quality...READ MORE Thanks to seller and Flipkart. Fast delivery. behaviour of delivery boy was good. thanksREAD MORE hoodREAD MORE good product superbREAD MORE good product and timly deliverREAD MORE super fast delivery by Flipkart. simply awesomeREAD MORE AwesomeREAD MORE good  productREAD MORE ExcellentREAD MORE goodREAD MORE quick delivery, and quality is goodREAD MORE Not nice brake very fastREAD MORE very goodREAD MORE GoodREAD MORE Nice product.READ MORE very niceREAD MORE awesomeREAD MORE Good ..Lasts couple of matchesREAD MORE Nice product in best priceREAD MORE no comments, now a days shuttle quality is less only they doing it for business purposesREAD MORE good but price increasedREAD MORE Useful Product...  Worth for MoneyREAD MORE Good product.The only issue with the shuttles is that the cork of the shuttle goes off while the upper part remains ok at that moment. We used a transparent tape around the green strip on the new shuttle to mitigate the issue.Thanks.READ MORE NiceREAD MORE Good qualityREAD MORE awesome product with discountREAD MORE Shuttles are fine like normal ones and delivered on timeREAD MORE amazing cashback from phonepe.READ MORE best qualityREAD MORE I ordered it for 709 and next day it was available for 669.READ MORE Having 6 shuttles in the box,but all are not having the same quality what i felt when i am using it.READ MORE Nice prodectREAD MORE Very good on dry weatherREAD MORE This product is pirated and now a days we are getting lot of pirated products from Flipkart so be aware of this...READ MORE awesome Flipkart gives always value money it is oneREAD MORE Best productREAD MORE Good not betterREAD MORE Nice 1READ MORE these are not  slow shuttles. It is medium or fast. slow and medium shuttles are mixed. Very Bad.READ MORE sublimate itemsREAD MORE awesomeREAD MORE goodREAD MORE nice dealREAD MORE Good product..  Nice quality....READ MORE NicREAD MORE Good product thanksREAD MORE NiceREAD MORE UselessREAD MORE It\\'s goodREAD MORE best productREAD MORE Shuttle base is very poor, Recent shuttles comes with porous wood which gets withered away in a few days.READ MORE very bad,don\\'t buy....READ MORE Quality is not goodREAD MORE Once qualityREAD MORE Good one .but not the same weight ..from the one we get from shop..but lasts.moreREAD MORE Good very lastingREAD MORE Good product. Long lasting.READ MORE supper productREAD MORE awesome productREAD MORE GoodREAD MORE Very good productREAD MORE The quality of the shuttles were really good and each one lasts a week. I am really happy that i got a original yonex product because fake shuttles have become very common todayREAD MORE Gd product...READ MORE nice productREAD MORE superREAD MORE Poor quality shuttle breaks in single dayREAD MORE goodREAD MORE good  qualityREAD MORE it\\'s not good qualityREAD MORE Nice product and speed delivered....READ MORE goodREAD MORE NiceREAD MORE Nice one!!!READ MORE good excellent performance.READ MORE Awesome productREAD MORE It\\'s goodREAD MORE Best shuttle for intermediate level..READ MORE Nice productREAD MORE Superb product in this price. Really all shuttles are good . Too good in this price.READ MORE Great product with very good priceREAD MORE Very poorREAD MORE Good product...lasts two days of powerful gamesREAD MORE Good quality but high rateREAD MORE Great value for money deal...on time delivery and cheapest in the marketREAD MORE Very niceREAD MORE Good productREAD MORE fineREAD MORE Checked the product on the official site. It is genuine. I am more pleased by the quick delivery, within 2 days. Excellent service.READ MORE Looks not genuineREAD MORE Good one👌READ MORE niceREAD MORE The head of the shuttle usually break after a few matches.READ MORE Worst shuttle by flipkart servicesREAD MORE EverythingREAD MORE GoodREAD MORE thanksREAD MORE Amazingly quick delivery, didn\\'t even take 12 hoursREAD MORE Good quality shuttle with a long lasting quality.READ MORE Excellent condition and productREAD MORE Original shuttles.READ MORE excellent shuttle.READ MORE Superb for regular practice. Good accuracy and appropriate weight.READ MORE Quality not acceptableREAD MORE Super productREAD MORE Excellent productREAD MORE In nylon shuttle s 350 or 300 are ok bestREAD MORE very good qualityREAD MORE This is durable shettleREAD MORE SuperREAD MORE The only reason I bought it online was beaucse if the price. Quality is good as any mavis 350 shuttles. If you find within 700 Rs, go for itREAD MORE Good one and lastingREAD MORE very nice product marvis 350.READ MORE DurableREAD MORE it\\'s awesomeREAD MORE NiceREAD MORE Gud product.. Thank you flipkart.. 👍READ MORE I use it everyday for 1 hour and it last for 1 weekREAD MORE NYC productREAD MORE good prdtREAD MORE Wrost itemREAD MORE It is a okay product. The cork at the bottom wears out soon and the top part gets torn too soon. Have doubts whether it is originalREAD MORE 100 percent original shuttles from flipkart at very good price.READ MORE FentasticREAD MORE UltimateREAD MORE FantasticREAD MORE Good qualityREAD MORE Good one and original.READ MORE Not good for good playersREAD MORE Good  quality .READ MORE Shuttle is good overall.READ MORE Hmmm.. GoodREAD MORE Not goodREAD MORE Great product... I\\'m extremely happy with the product... A great buy indeed...READ MORE GoodREAD MORE One of the best shuttle for intermediate players, slow and steady.READ MORE I have bought it twice and it is really cool. Worth buying online. Especially when there is offerREAD MORE Average quality of shuttlesREAD MORE FineREAD MORE Product not delivered ontimeREAD MORE i am happyREAD MORE GoodREAD MORE Flipkart service is good but the product quality is not good it is damaging at the bottomREAD MORE GoodREAD MORE It\\'s very goodREAD MORE Gud productFast deliveryBest price 710READ MORE Good productREAD MORE Good buy!!READ MORE I am all ways buying this shuttle from this seller only and I am all ways getting  good product but this time I got two defective shuttle in  which base was cracked and delivery time was also very much it had take near by one week(8days) to deliver .READ MORE Mavis 350 best for out door playIt is durable can play 40 gamesREAD MORE GoodREAD MORE its coolREAD MORE ExcellentREAD MORE Good shuttleREAD MORE NiceREAD MORE These are bestREAD MORE this is nonsense product . He cheated meREAD MORE very fastREAD MORE Nice productREAD MORE superREAD MORE Not of good quality..READ MORE Economic sir please very good very economic everybody go for it niceREAD MORE Good productREAD MORE Good oneREAD MORE Good one to buyREAD MORE BadREAD MORE ExcellentREAD MORE Nothing to comment on product. But the package was not that greatREAD MORE goodREAD MORE Awesome item for this price. We play on hard surface in our housing society.... We hit a lot of smashes.... We can play with 1 shuttlecock for 4 days maximum.READ MORE a good onewe played continuously 15 daysvalue of moneysatisfied with this productREAD MORE Suppar prodectREAD MORE GoodREAD MORE This one was not seems to be original, flight and speed variation was there compared to the original .READ MORE Good quality.... Good flight... Last for 4or 5 games with same flight and speed..READ MORE SuperrREAD MORE GoodREAD MORE Good quality but  the shuttlecock got destroyed in an weekREAD MORE Nice qualityREAD MORE GoodREAD MORE It sucks I\\'ve got 6/6 shuttles Worthless piece of junkREAD MORE Its very niceI book anythingREAD MORE It a nice one  No wastage of money , right utilization of moneyREAD MORE ExcellentREAD MORE The packing is very good and the rate is moderateREAD MORE GoodREAD MORE Original.READ MORE Ya goodREAD MORE Gud qualityREAD MORE Good to playREAD MORE Original product I recommend.READ MORE Some betterREAD MORE Good, original productREAD MORE GoodREAD MORE Good productREAD MORE Good productREAD MORE Supper duperREAD MORE Seem to genuine ones..READ MORE Good product and serviceREAD MORE Best Deal on proven product.READ MORE Thanks to flip cart for before expected deliveryREAD MORE Best one... worthy for moneyREAD MORE Good but in the add  you have given mavis 350 1/2 Doz +3. Where is+3?READ MORE Best product.....no need to confuse....just buy it....READ MORE Fast deliveryOriginal productReasonable priceREAD MORE he say first 620 , and amount take 700READ MORE Nice productREAD MORE GoodREAD MORE Good produtREAD MORE Its good in flipkart as its easy to order any thing.READ MORE Worst product, wrong item sendREAD MORE It was delivered before time thanksREAD MORE Good quality productsREAD MORE Nice product ....I am really happy thanku FlipkartREAD MORE Nice productREAD MORE Not looking genuineREAD MORE Nice productREAD MORE Very nice shuttleREAD MORE Best quality for tis rateREAD MORE Best quality 👍👍READ MORE Good product.READ MORE We play badminton on tar road. This shuttle is very durable and lasts a week on the road. Previously we used to use mavi2000i that used to spoil in 2 days.READ MORE SuperbREAD MORE Good shuttles and affordable priceREAD MORE Super quality good productREAD MORE Great quality!!READ MORE One of the best shuttlecock ever usedMust buy for everyoneREAD MORE It\\'s great experience to buying yonex 350 from flipkart .flipkart five awesome offersREAD MORE Good productREAD MORE Good productREAD MORE Good product ,I think it\\'s original brandREAD MORE Product is good but price lil high. Waiting for sale season.READ MORE Nice shuttle. Thanks Flipkart for good packing and timely delivery.READ MORE Best qualityREAD MORE It\\'s was totally original mavish 350 thanks a lotREAD MORE Good qualityREAD MORE Good  productREAD MORE GoodREAD MORE Best from FlipkartREAD MORE Received a completely different item of cheap quality.READ MORE AverageREAD MORE Best hai bro...READ MORE Best shuttle fr outdoor.   . I love itREAD MORE This is  an imitation of original mavis 350.I have been playing with mavis for 10 yrs now.READ MORE Good for indoors!READ MORE This product is good and dilevery boy also good.........READ MORE Product as expected and displayed.... ThankyouREAD MORE Best in Quality.READ MORE Quality is poor.  Few are not good at beginning.READ MORE Very disgusting product .READ MORE GoodREAD MORE Poor qualityREAD MORE Good productREAD MORE NicREAD MORE Very good productREAD MORE SolidREAD MORE GoodREAD MORE ee recived the orginal one nice..READ MORE GoodREAD MORE Good product by yonexREAD MORE Not badREAD MORE Nice productREAD MORE Good qualityREAD MORE Nice productREAD MORE Best shuttleREAD MORE Nice priceREAD MORE Great productREAD MORE Nice and genuine productREAD MORE Good product but rate is highREAD MORE SatisfiedREAD MORE Default product delivered by your companyREAD MORE GoodREAD MORE SuperREAD MORE Great..READ MORE ideal for beginner and intermediate level players. Lasts longer.READ MORE OkREAD MORE Bad qualityREAD MORE Nice Product...READ MORE Good qualityREAD MORE Good.READ MORE Gud productREAD MORE Not so good...very poor quality.READ MORE Good productBut doesn\\'t have life for long time 🤣🤣READ MORE very bad qualityREAD MORE Gud to playREAD MORE Using the 1st out of 6 shuttles. So far so goodREAD MORE Good productREAD MORE Few shuttles are not good.READ MORE It came very soon I really appreciateREAD MORE BestREAD MORE Nice durabilityREAD MORE Best shuttle in good priceREAD MORE The product was well packed n contained Mavis 350 shuttles only n were brand new. Delivered with 24 hours. Happy with the purchaseREAD MORE Nice very good productREAD MORE Good packing and delivery. Product original and Yonex 350 always better to buy  for senior playersREAD MORE Fast delivery, good packing and 100% originalREAD MORE Not badREAD MORE gvry gd productREAD MORE Mavis 350 good but Coriyar not good every time ask moneyREAD MORE Best badminton experience ever.READ MORE Its a proper professional shuttle and doesn\\'t deviate much in the open area with the wind pressureREAD MORE I loved itREAD MORE Nice productREAD MORE Shuttlecock quality is okay, lasts only for 2-3 games (doubles/21 point) after which it wobblesREAD MORE Thanks to Ekart boy.. good serviceREAD MORE Good product buy less than 650READ MORE good priceREAD MORE Nice product and the shuttles are superREAD MORE Nice one, go for it.READ MORE GoodREAD MORE SuperREAD MORE 90% okREAD MORE Delivered within one day . GoodREAD MORE The product is awesome and the delivery boy delivered the product on time and he was very nice person.READ MORE GoodREAD MORE Best price in all yonex suttleREAD MORE GoodREAD MORE suits our group...READ MORE NiceREAD MORE Not bad...READ MORE I felt difference in shuttle quality comparing with offline store..I doubt product authenticity..READ MORE NiceREAD MORE Genuine and good product, Best Service by FlipkartREAD MORE Mst awom productREAD MORE Thanks.READ MORE Nice one with affordable priceREAD MORE Good oneREAD MORE I am satisfied with ur serviceREAD MORE Best for professionalsREAD MORE GudREAD MORE AverageREAD MORE GoodREAD MORE Very good qualityREAD MORE It is good in qualityPerformance is goodBut life time is shortREAD MORE Great suttle by yonexREAD MORE Very bad productREAD MORE Good quality product thanks for yonexREAD MORE Its good for professionals.. for beginners it will have less life.. u can get it running only for 3 days..READ MORE As found as expectedREAD MORE Very good productREAD MORE GoodREAD MORE GoodREAD MORE This is worth buying trust me!.READ MORE GoodREAD MORE Most durable productREAD MORE Good and delivered as mentionedREAD MORE Timely delivery and product as expectedREAD MORE price is lower than other sellersbut it is slower than mavis 10 blue capREAD MORE GoodREAD MORE Good qualityREAD MORE nice productREAD MORE Product is original & genuine. Simply super b.Thanks to flip kart.READ MORE Worst product delivery from flipkart, flipkart is not bothering about customers, it\\'s simply delivering unsealed and used products.READ MORE GoodREAD MORE Nice product at lowest price..READ MORE Super productREAD MORE Good shuttles.READ MORE excellent product at low price...genuine... Loved it...READ MORE GudREAD MORE Fabulous productREAD MORE Best shuttles... Used for pro tournaments.... 1 shuttle can be used 2-3 days (rough use) intermediate playREAD MORE Very niceREAD MORE Satisfied with the quality. Good product.READ MORE nice and gud product no damage gudREAD MORE 5star for flipkart delivery. Order placed at 7.30pm, shipped at 8pm, delivered next morning at 10am. #bangalore Thumbs. Up to their logistics. Product is originalREAD MORE Very good quality was suppliedREAD MORE Excellent....READ MORE Nice one.. as quality concerns old dated manufacturingREAD MORE Good quality shuttle. OriginalREAD MORE Original product good quality 👍READ MORE packaging was very pathetic. the box containing the shuttle was deformed. proper packaging was required i guess.READ MORE Gud productREAD MORE SuperbREAD MORE Very nice to playREAD MORE Very good product..READ MORE Good one....READ MORE Good productREAD MORE Nice productREAD MORE The seller is good, the product was new. And delivery was also on time.READ MORE Good productREAD MORE NothingREAD MORE GoodREAD MORE Very goodREAD MORE Good quality product!!!!READ MORE WasteREAD MORE It\\'s GoodREAD MORE Good productREAD MORE FineREAD MORE Cork not goodREAD MORE GoodREAD MORE NiceREAD MORE NiceREAD MORE BetterREAD MORE Very niceREAD MORE Very good qualityREAD MORE It\\'s awesomeREAD MORE NiceREAD MORE Good productREAD MORE Top classREAD MORE It is not good so very loseREAD MORE Good productREAD MORE Good pankigREAD MORE Very goodREAD MORE Product is good. Improvement required in delivery time.READ MORE Thank you flipkart for my return and great shuttle to play in outdoorREAD MORE Very niceREAD MORE Shuttles speed is proper. Quality is not great. Two hours of play n the shuttle is totally in a devasted condition . Good but not great is the conclusion . Would I buy again is a question to think about.READ MORE Nice productREAD MORE good productREAD MORE GoodREAD MORE Original Yonex shuttle. It\\'s flight is good even after using for more than 10 games.READ MORE Too bad don\\'t buyREAD MORE NYCREAD MORE Good productREAD MORE Good to purchaseREAD MORE GoodREAD MORE Good enough for the priceREAD MORE GoodREAD MORE Nice qualityREAD MORE Best for playing...slightly faster than feather shuttles...but gr8 than other nylon shuttles ...READ MORE Product is not up to the mark..shuttlecocks get tarn in few days itselfREAD MORE AwesomeREAD MORE Product is very nice delivery is very badREAD MORE Best everREAD MORE Arrived on time, good productREAD MORE ExcellentREAD MORE I think, it is perfect shuttle 4 beginners n regular practice.READ MORE Very good productREAD MORE Nice productREAD MORE Poor qualityREAD MORE PerfectREAD MORE Original product. Great dealREAD MORE Stays long ..READ MORE Fast delevery. Item quality good.READ MORE NiceREAD MORE So badREAD MORE ExcellentREAD MORE Got it for <600Decent productREAD MORE Good ProductREAD MORE WorthREAD MORE Nice product...READ MORE WastedREAD MORE Love it...READ MORE Good productREAD MORE okREAD MORE Discounted items are really worst. All the shuttle got damaged from cork after 2-3 matches. This happened for all  4, who ordered in similar time. It must be priced around 500 /- for such a poor build quality. It must be recycled cork. Now a days retailer shops are also selling at same price 700/-, better to purchase from thereREAD MORE Super I buy this offer the price is good 640READ MORE Low quality productREAD MORE Thanku flipkartREAD MORE Mavis 350 shuttles are excellent but if these comes in contact with dewa(water), these don\\'t last for much time.READ MORE I am using from last 2 year for regular playing, best nylon shuttle..READ MORE Great one....!!!!!READ MORE Very good productREAD MORE AwesomeREAD MORE Good quality,delivered earlier than expected date...READ MORE Good product but late delivery...READ MORE Worst don\\'t buy.. all the corks are throttling..Delivering QA failed productsREAD MORE Thise product too oldREAD MORE Though it is mentioned as Yonex, quality is poor.READ MORE It was a horrible experience for me. First the seller sent a pack of white child playing shuttle of (may be ) ₹20 . That too this was packed in Mavis 350 cover. When contacted , Flipkart told dat, they had no idea why d seller did so despite d fact dat it was  \\'Flipkart ASSURED\\'. Anyway they promised to change& they changed it. RelievedREAD MORE Poor qualityREAD MORE Good quality.READ MORE Good Product!READ MORE GoodREAD MORE GreatREAD MORE very very poor qualityREAD MORE GoodREAD MORE Good product and it, s good for out door courts  must buyREAD MORE Nice product. Worth for money. Low price.READ MORE Awesome price.. Gud package and authentic productREAD MORE Nice productREAD MORE good  product  ...READ MORE SuperbREAD MORE Super quality....!READ MORE Product is goodREAD MORE Good productREAD MORE Very gud 1READ MORE Delivered in right timeREAD MORE Excellent priceREAD MORE 1 shuttle is almost going  for 10 doubles hard games.but little bit fast as compared to similar model from other vendors.READ MORE Product is good.Service is very fast. Within 2 days I got my item. Thanks Flipkart.READ MORE Such a low quality product. This one is not original Mavis 350 as each cork has not lasted for even a single match. This seller has to be blacklisted by Flipkart.READ MORE It is good and delivered on time but the shuttle doesn\\'t last for even 4 days ...the sticker inside it got out the first day..READ MORE Poor qualityREAD MORE awesome......READ MORE I was getting for 640 so i ordered 2. :)READ MORE NiceREAD MORE Very goodREAD MORE GoodREAD MORE FineREAD MORE Product is very good.READ MORE NiceREAD MORE Best shuttles for beginners and good practicing badminton i will always suggest \"MAVIS 350\" for outdoor and indoor as wellREAD MORE OkayREAD MORE Igood productREAD MORE Genuine Mavis 350 shuttle. Thanks Flipkart for such amazing price.READ MORE Nice productREAD MORE Very good productREAD MORE Good Product.READ MORE Nice product. 👍READ MORE V goodREAD MORE Very very goodREAD MORE ExcellentREAD MORE Good not badREAD MORE NiceREAD MORE Send the product with extra packing as it can not be used if it is pressed during transportationREAD MORE SatisfactoryREAD MORE Soo nice and it is the correct price to buyREAD MORE Nice productREAD MORE GoodREAD MORE GoodREAD MORE Very good product and reasonable priceREAD MORE Less price frm mrkt nice prdct but very delay to delivery thts nt gdREAD MORE 100%pure products that i receivedREAD MORE SuperbREAD MORE GoodREAD MORE Product was not goodREAD MORE Best of Yonex Mavis. Value price & super fast delivery in 1 dayREAD MORE Excellent product.... thanks Flipkart for fast delivery....READ MORE GoodREAD MORE NOT BAD ITS REALLY GOOD QUALITYREAD MORE Fully satisfied with these orderREAD MORE Awesome quality and best priceREAD MORE Very nice product...good quality.READ MORE delivery boy is very nice in behaviourREAD MORE Very nice productREAD MORE Very Good product like normal sports store! All 6 are nice condition.READ MORE Good quality shuttle....lasts upto one week per shuttle even after rough useREAD MORE NiceREAD MORE nice bt come to delayREAD MORE GoodREAD MORE NiceREAD MORE Good productREAD MORE Good purchaseREAD MORE GoodREAD MORE it\\'s good product....durability is well.READ MORE NiceREAD MORE Good servieceREAD MORE Excellent!READ MORE Product is good..READ MORE It was amazing Hello flipkart I wany you to tell somthing that my badminton tournament  is coming so please please  give free delivery on yonex voltric 100ld  please please  ok .READ MORE Nice productREAD MORE I m very happy to you are service. Keep it upREAD MORE GoodREAD MORE Very good.. superbREAD MORE I likeREAD MORE Satisfying product one can easily rely on flipkartREAD MORE Original and good productREAD MORE Cool product in less price !! Thanks for this flipkartREAD MORE Good productREAD MORE Superb shipping..fast delivery...good item at shown...Thanx flipcartREAD MORE Good oneREAD MORE Its nice and recommend to use it #made in japanVery good quality👍👍👍👍READ MORE It is good shuttle but costly.READ MORE GoodREAD MORE Perfect flipkstrREAD MORE Nice shuttle .....READ MORE WowREAD MORE I usually buy it from the market and it lasts 4-5 days easily. This time I bought it online and it didn\\'t even last one day. Also the shuttle is much slower than the same bought from market. I feel it is a fake product with exact copied packagingREAD MORE Good product...READ MORE GoodREAD MORE Just awasomeREAD MORE Really good product.....thnks FlipkartREAD MORE Nice product.READ MORE Best deal ..READ MORE GoodREAD MORE Nice product..4.5 starsREAD MORE GoodREAD MORE GoodREAD MORE SmartREAD MORE Within 48 hrs delivered good productREAD MORE Reasonable price comparativelyREAD MORE okREAD MORE Fast Delivery and Nice Shuttle for beginnersREAD MORE Cheap and product as described and expected.READ MORE Well in timeREAD MORE GoodREAD MORE SuperbREAD MORE Good quality at low pricesREAD MORE Got the genuine productREAD MORE Good productREAD MORE Very good productREAD MORE Perfect pack! Completely packed and sealed box! Very nice.READ MORE YoREAD MORE Good productREAD MORE AverageREAD MORE Very poor quality , This Time i totally wrong product...i really unhappy For seller.READ MORE For normal play onlyREAD MORE Good buyREAD MORE Quality is good okREAD MORE TopREAD MORE Excellent..product..READ MORE Genuine quality. Checked on their official Sunrise website. All shuttles brand new. Top notch. Box was a little squeezed. But shuttles were intact.READ MORE GoodREAD MORE SuperREAD MORE Very goodREAD MORE GoodREAD MORE Just greatREAD MORE Good product.READ MORE Best shuttles in less amount with offerREAD MORE GoodREAD MORE Medium Speed.. I bought it for ₹578 on flipkart. If you want more speed go for mavis 300iREAD MORE Nice productREAD MORE Very good shuttlesREAD MORE Very nice original product.READ MORE This shuttle is very nice and delivery is also very goodREAD MORE Good product but worst delivery serviceREAD MORE Good oneREAD MORE AwesomeREAD MORE OkREAD MORE Dear all,The reason I gave this product a single star is due to the following reasons. The product authenticity is in question as the box that i ordered lasted very less.max 3 set\\'s. After that it started disintegrating. And the cork came out. Further on comparison with the other  box of shuttle which i purchased from my sports shop gguy lasted for more than 7 games before disintegrating. The colour of both the shuttle on comparison the box from flipkart has a darker green yellowish tin...READ MORE Costly.. quality is okayREAD MORE GoodREAD MORE AvarageREAD MORE Worst product....Dont buy from flifkartREAD MORE Best option to purchase with least priceREAD MORE GoodREAD MORE Not so much good... ! Kamchalao ......READ MORE goodREAD MORE GoodREAD MORE Worst product Dont buyREAD MORE nice bt deadly slowREAD MORE GoodREAD MORE Except packing of Flipkart, everything is goodREAD MORE Full Bawkbass, waste of money, cant use after playing for 2 hours.READ MORE Too much time taken for delivery otherwise product is excellentREAD MORE Good quality product.Thanks to Ekart,Courier boy and Flipkart for giving this in time.READ MORE GoodREAD MORE Good qualityREAD MORE Very glamorous shuttles... Thanxx flipkartREAD MORE Awesome quality....READ MORE GoodREAD MORE GoodREAD MORE Not happy with the shuttle s and looks duplicte shuttleREAD MORE I  happy with these shuttlesREAD MORE Delivered promptly. Good qualityREAD MORE Orginal productREAD MORE Awesome product and right time deliveryREAD MORE Product was as expectedREAD MORE Old itemREAD MORE Original Yonex shuttles. excellent flight.READ MORE Super..READ MORE Got the Product On Time and it is of best quality. :)READ MORE ExcellentREAD MORE ThanksREAD MORE GoodREAD MORE Good and genuine .READ MORE Amazing at 536 rupeeREAD MORE Very nice productREAD MORE ExcellentREAD MORE Very good quality product...the shuttle just doesnt gives up howsomuch you beat it...sturdy enough.READ MORE quality not good..READ MORE GoodREAD MORE I must say ... delivery time is perfect in every aspect..u delivered two of my product that too and different states...u really deserve these starsREAD MORE Nice1READ MORE Am not sure if it was original shuttles, the green sticker that holds the cork skin was just getting cut in all. Never had seen such so far...READ MORE GoodREAD MORE GoodREAD MORE It is not original poor qualityREAD MORE GoodREAD MORE good quality appreciated thnksREAD MORE ExcellentREAD MORE Poor quality, no use for intermediate n advance d players.READ MORE Good productREAD MORE Great product at less price thank you flipkart ....READ MORE Price too high.READ MORE FineREAD MORE Packing was not goodREAD MORE Please rate very to mach.. products very goodREAD MORE Not balancedREAD MORE BestREAD MORE Good product.READ MORE It\\'s goodREAD MORE Best priceREAD MORE Good quality, good delivery service. Keep it up.READ MORE Best shuttle..READ MORE Authentic...go for it I have  got it for only 521...thanks flipkartREAD MORE Good shuttlesREAD MORE It\\'s a good productREAD MORE Good Prodict bt price is the same in retailshops alsoREAD MORE Very gpod shuttleREAD MORE NICEREAD MORE Good quality original from yonex. I was worried if it comes in white but hopefully they sent me nylon yellow. Thanks will purchase again for Rs.679/-READ MORE Very niceREAD MORE It\\'s a genuine product ......and delivery is very fast ...thnx to F cart ....READ MORE Quality is good but are very expensive.READ MORE Good experienceREAD MORE product is 100% original. delivered fastly than promised date and paking is in good condition for both i am so happy...READ MORE Perfect for professional playersREAD MORE Shuttle quality is not good.READ MORE GoodREAD MORE I was delivered Mavis 350 green cap just as the product page said. It\\'s a medium speed shuttle which I would recommend for beginners to intermediates.READ MORE Good qualityREAD MORE Nice productREAD MORE It\\'s worthy Excellent piece of cockspurThank to the FlipkartREAD MORE Stable shuttleREAD MORE SUPERREAD MORE Durability...very goodREAD MORE Awesome as always! Yonex rocks! 👍👍READ MORE Nice one ........Can getREAD MORE NiceREAD MORE Best in quality...good air time and light weight...also lasting well...loved it...READ MORE Very nice productREAD MORE Nice shuttle.speed is also fine ,you can also go fr it if are getting it below 700.READ MORE Good but in every packet there is always a defective piece.. perhaps company policyREAD MORE Nice quality and came before timeREAD MORE One of best shuttle...READ MORE Good oneREAD MORE GoodREAD MORE Dont buy products in flipkart, they are not gave any updates regarding product informationREAD MORE Good productREAD MORE Nice shuttle gud packingREAD MORE Best product. On time delivery. Original product.READ MORE FineREAD MORE Nice box nice priceREAD MORE Nice productREAD MORE Shuttle are nice thumps upREAD MORE best one in its class. Lucky to get itREAD MORE Nice flight of shuttleREAD MORE GoodREAD MORE Good productREAD MORE Long time period to delivery otherwise perfect itemREAD MORE Best shuttleREAD MORE Awesome it seems shuttle will last for everREAD MORE GreatREAD MORE GoodREAD MORE It\\'s come with good prize. Super quality.READ MORE Quality was good and product was genuineREAD MORE AwesomeREAD MORE Good product and fast service from FlipkartREAD MORE Good but no better qualityREAD MORE Good for indoor gameREAD MORE I recived my product Mavis350 shuttels early but prduct was damagedREAD MORE ExcellentREAD MORE Good buy. Can be 5 star but the tip of the shuttle doesn\\'t lasts long. Otherwise it\\'s greatREAD MORE Very good,, up to expectationsREAD MORE AmazingREAD MORE Reasonable priceREAD MORE Good productREAD MORE Good to play. Worthy productREAD MORE very bad qualityREAD MORE Good qualityREAD MORE Good oneREAD MORE Good quality and nice weight so buy without worry.READ MORE Good product. Better than Mavis 10.READ MORE Yonex mavisgood products badmintonREAD MORE GoodREAD MORE Packing was not up to mark.READ MORE Nice product it\\'s flight is really very nice. It\\'s delivery time was also very good it came before 1 day dayREAD MORE Awesome product and delivery services also goodREAD MORE Very gud product got very low price below Rs.650READ MORE A nice productREAD MORE Met the expectations 👌👌READ MORE good quality of shuttlesREAD MORE GoodREAD MORE Nice productREAD MORE Great stuff !!READ MORE Nice qualityREAD MORE Some of shuttle were broken within 2 days usageREAD MORE OkREAD MORE Nice productREAD MORE Best.........READ MORE Good oneREAD MORE Good quality productREAD MORE Well packed! Received in a good condition!READ MORE SuperREAD MORE Ok productREAD MORE NiceREAD MORE Good n betterREAD MORE Original product with best priceREAD MORE Good n genuine productREAD MORE Vry gud productREAD MORE Awesome product..and on time delivery adds valueREAD MORE Received as mentioned in good conditionREAD MORE Original very good product at this priceREAD MORE GreatREAD MORE Very good shuttlesREAD MORE This product is pretty good at reasonable price.READ MORE NiceREAD MORE Its genuine. Nothing more need to say.READ MORE niceREAD MORE NycREAD MORE Nice productREAD MORE Very good productREAD MORE Best qualityREAD MORE Good productREAD MORE Shuttle is goodREAD MORE Nice productREAD MORE Nice productREAD MORE Good.READ MORE Im very happy that. I got the yonex mavis 350 shuttles today only. Because i had ordered today and i got it today.READ MORE Not bad... delivered on timeREAD MORE Good qualityREAD MORE GoodREAD MORE Nice productREAD MORE GoodREAD MORE super quality and durable shuttle from yonex. Quick delivery by Flipkart what else i needREAD MORE Nice productREAD MORE It is a nice productREAD MORE Nice productREAD MORE Not extremely durable. But a good product nonetheless.READ MORE I am not happy that, product look like not genuine. The outside box is very low quality and they have cheated me that they have delivered only three boxes instead of four boxes. I am so unhappy about thidREAD MORE Delivered before time with nice packaging. Happy!READ MORE gud shuttle .........READ MORE Good shuttle boxREAD MORE NiceREAD MORE Awesome productREAD MORE Always goodREAD MORE Good qualityREAD MORE Nice ProductREAD MORE over priced shuttles coz of no competition  from other brands in terms of shuttle flight and quality .READ MORE The pack was a little crushed when the product was delivered. Otherwise the product was faring better.The product was delivered on the promised date, so I am happy on that regard.READ MORE Good quality and prompt deliveryREAD MORE Great productREAD MORE Nice product. Very good in quality.READ MORE NiceREAD MORE I give 4* only for its quick delivery. Its look like original but not sure of its quality. After when use it then ll be get about it. I think it\\'s cheap..READ MORE Good product as expected..!!READ MORE NiceREAD MORE The product was delivered on time and was original yonex. Happy with the quality of shuttles. I got what I orderedREAD MORE Super nice packREAD MORE Best buyREAD MORE goodREAD MORE Good one..READ MORE Good quality...👌READ MORE The product quality was very good.READ MORE Nice productREAD MORE Best quatity yonex m350. Very fast delivery. Ordered on Sunday got it on Monday.READ MORE Best price and quality of productREAD MORE Got the genuine product.READ MORE Good productREAD MORE Excellent productREAD MORE Nice go for itREAD MORE Nice productREAD MORE Good value for moneyREAD MORE Good productREAD MORE Thanks your seller ,who gave me packed box of shutte ....It\\'s really genioun productREAD MORE Its original and good to playREAD MORE Nice product..READ MORE SuperREAD MORE Good onesREAD MORE GoodREAD MORE Nice productREAD MORE Good quality, but got just delayed in shipping the productREAD MORE Not value for money ...better to buy in local sports storeREAD MORE very bad quality 👎👎👎👎👎👎👎👎👎👎READ MORE Flipkart do always best nice and geniune product 10 out of 10 flipkart thanks.....READ MORE TopnotchREAD MORE Good product by flipkartREAD MORE Thisproduct is veryhelpful in this servicesREAD MORE The product is good but the delivery was not good the box was completely flatten...READ MORE SuperbREAD MORE gudREAD MORE NiceREAD MORE not much durableREAD MORE Thanks flipkart for good quality productsREAD MORE Nice to buyREAD MORE No doubt Mavis 350 is good.  But the seller sent Mavis 10 instead and I had to return and replace it.  Not sure if it was intentional.READ MORE excellentREAD MORE Good productREAD MORE Good one..READ MORE It\\'s much good.READ MORE Good productREAD MORE quality is very good. thanks to seller for timely delivery.READ MORE Worthy productsREAD MORE Very Nice Shuttle Specially At This Price UltimateREAD MORE Delivered in time. The product is as excpected.Thanks to fkartREAD MORE ExcellentREAD MORE SuperbREAD MORE GoodREAD MORE Super product..I got Rs 620READ MORE Very goodREAD MORE Nice productI have received it on sunday and the product was in best condition the shuttlecock was very nice .READ MORE Good product at best price. Delivery by Flipkart is also good. Shuttle is of best quality as usual. Thanks Flipkart.READ MORE goodREAD MORE Nice product.. Perfect for intermediate players...READ MORE Not bad it\\'s avg.....READ MORE It was nice but 3 shuttles were cracked so they broked in 10 daysREAD MORE Value for money. Good delivery by FlipkartREAD MORE GoodREAD MORE Good productREAD MORE Good qualityREAD MORE Long time work ingREAD MORE NiceREAD MORE Very nice product. Super fast delivery.READ MORE Awesome job by flipcart........i m loving itREAD MORE Got it cheap but the shuttles are not lasting long. The green strip is coming off quickly and is causing the cork base to separate quickly.READ MORE Very good product nice...@READ MORE nice oneREAD MORE Good ProductREAD MORE Nice product, go for it.READ MORE Good for clubREAD MORE Very goodREAD MORE Amazing deal ... Thanks flipkart .. I bought it only in Rs 605/READ MORE Good paking so fast ilike so muchREAD MORE 3 balls are worst conditionsREAD MORE SuperREAD MORE Original and lessprice .. HappyREAD MORE One of the shuttle is not good ,the others are okayREAD MORE Excellent againREAD MORE GOOD FOR INTERMEDIATEREAD MORE This mavis 350 was not as good as the last one i used.READ MORE GoodREAD MORE Only 2 seemed to be original. Rest all r not upto the mark. Disappointed.READ MORE GoodREAD MORE Good quality and she\\'ll lifeREAD MORE Not so goodREAD MORE GoodREAD MORE Good ProductREAD MORE Baad qualityREAD MORE Packing not so good, product quality mediumREAD MORE NiceREAD MORE Received the package in appropriate time in a nice package, Original product best quality.READ MORE GoodREAD MORE mavis 350 is good for indoor play better go for itREAD MORE Very good qualityREAD MORE This badminton shuttle is very good . This quality is very nice.READ MORE Nice product... fully satisfied...speed of shuttle is good.READ MORE Bought it for INR 525 during the big 10 sales. These are one of the best shuttle corks available and one would normally last for atleast 10 days with 2 hours of play a day.READ MORE Good product..READ MORE It\\'s good shattleREAD MORE GoodREAD MORE Shuttle was light as compare to the shop purchase. May be some duplicate in itREAD MORE Good for indoor gameREAD MORE Good product,,READ MORE Quality is not goodREAD MORE Good productREAD MORE Really goodREAD MORE Awesome for training.READ MORE Best product for outdoor playREAD MORE I brought this product but it\\'s waste of money they have given used product pl don\\'t buy this productREAD MORE Packing can ve betterREAD MORE Light weight shuttles, great for professional playing.READ MORE Gud one...READ MORE Poor qualityREAD MORE GrtREAD MORE Nice stuttle..love itREAD MORE NICE DELivered  PRODUCT WAS HIGH QUALITY, WHICH SHOWN IN CORTREAD MORE Shuttles look genuine, but the packing is terrible. The box easily easily gets damaged and the shuttles inside get spoilt. They should opt for a better packing.READ MORE I got original Yonex malvis 350.thanks Flipkart but delivery slow.READ MORE GoodREAD MORE Best quality at best price👌READ MORE Good qualityREAD MORE Quality is goodREAD MORE Nice product and reached on timeREAD MORE Original product receivedREAD MORE A very nice product. It is very good for beginners.READ MORE Best ones for practice. Lasts long too.READ MORE GoodREAD MORE It\\'s more then expectedREAD MORE Top qualityFeel real playingREAD MORE Good productREAD MORE very cheap priceREAD MORE GoodREAD MORE Nice and orignal productREAD MORE It\\'s  goodREAD MORE Very goodREAD MORE Nice durability..... Superior in indoor court.READ MORE DurableREAD MORE Good shuttles for warm climatic conditions...READ MORE Very goodREAD MORE Very good packing and product. Liked itREAD MORE Though I got the product around rs 620 , it was not a good shuttle and broke off in a day\\'s play with intermediate level of play. So in all the box  lasted for 10 days  or so.READ MORE Last long, worth buyingREAD MORE best and cheap compared to other online site ...and quality is up to the mark....READ MORE Nice productREAD MORE OriginalREAD MORE Go for it if u r a beginner at badmintonREAD MORE Very good shuttle by yonexREAD MORE Shuttle is v Gud at v nice price. V durableREAD MORE Good productREAD MORE Good oneREAD MORE VERY GOOD QUALITYREAD MORE Good , genuineREAD MORE Nice oneAdipolyyayin bro..READ MORE GoodREAD MORE SuperREAD MORE Good oneREAD MORE GoodREAD MORE It is very good shuttle.long lasting, balancing..READ MORE Very good balance in the shuttle with less durable. But while playing it will give a great experienceREAD MORE good for smash shotREAD MORE Just awsm delivery and very good productREAD MORE SuperbREAD MORE Good quality shuttle.... Enjoy playing....READ MORE GoodBut price is high . I bought the same shuttle from this dealer in 685 rs. but price is surging.READ MORE Good product for indoorREAD MORE Lasts for long timeREAD MORE Mavis 350 are much in demand now. Best shuttles for intermediate to semi pro players.READ MORE Best productREAD MORE Perfect for intermediate playersREAD MORE These are not of very good qualityREAD MORE High quality product. Good for amateurs like me.READ MORE Two shuttles were defective stars for prompt deliveryREAD MORE GudREAD MORE Packaging was not properly done.READ MORE GoodREAD MORE Product is very goodREAD MORE Received the barrel with seal. Happy with the product.READ MORE Product is in not good enoughREAD MORE GoodREAD MORE worst product in online purchase please consider my review..READ MORE Best for indoor playing.READ MORE Very good one Nd v r hppy with this product Actly v r vry dbtfl with the online shoping nd allBt ma frnds all r hpy with this Tnk u filpkart .....READ MORE Hello Friends,I would like to tell you that I play the badminton on a regular basis with my friends and this shuttle is our first choice because, as we practised daily 1-2 hours this shuttle last 4-6 days. Also, Most of the time it damages from a crown / fur area rather than cork. A good product for beginners.READ MORE Good, find no issue,READ MORE There was a small delay in delivery, however product is good...READ MORE GoodREAD MORE Fully satisfied.....READ MORE Good product which I received Mavis 350 .READ MORE Very Good product but packing is not goodREAD MORE Nice projectREAD MORE Good productREAD MORE Poor qualityREAD MORE Best shuttle you can get for playing both outdoors and indoors.READ MORE very nice shuttleREAD MORE Good itemREAD MORE GoodREAD MORE Ya its v gudREAD MORE Superb quality as aspected... 👍READ MORE Value for moneyREAD MORE As I m a beginner it is excellent but will not do for professionals as it is slow for them. Otherwise a classy product for beginners like meREAD MORE BestREAD MORE Best product thanksREAD MORE Nice oneREAD MORE Very good productREAD MORE Good qualityREAD MORE Good and reasonable offersREAD MORE GoodREAD MORE Thanks for your team for timely deliveryREAD MORE Very niceREAD MORE Hi Everyone, I am using this shuttle and it is worth to buy if you play in indoor court then you can buy it.READ MORE Best BuyREAD MORE It was nice experienceREAD MORE Great product at this priceCan i get this offer againREAD MORE Price offer goodREAD MORE Get good corks as usual.thank u flipkart.lov it so much.\"READ MORE Nice product and worthble priceREAD MORE Very good product..READ MORE Third quality.READ MORE This is and amazing and outstanding offer dont miss itREAD MORE Bad item , no weight unsutable for outdooeREAD MORE very niceREAD MORE Really worth buying. Go ahead and buy. Game onREAD MORE BadREAD MORE Gud oneREAD MORE niceREAD MORE 100% original product, worth buyingREAD MORE Good shape and good qualityREAD MORE AwsomeREAD MORE I got nice piecesREAD MORE GoodREAD MORE Best productREAD MORE ExcellentREAD MORE Today i am totally hearted by delivery boy of his rudely behaviour:-(During delivery timeREAD MORE This is an average quality product.READ MORE Item seal already openedREAD MORE Very goodREAD MORE Nice product but delivery services very poorREAD MORE Nice shuttle. Good for outdoor games.READ MORE GoodREAD MORE Nice shuttleREAD MORE Not badREAD MORE Awesome productREAD MORE Good \\\\m/READ MORE Got the product package perfectly. The seal was not broken. played  for the day . Best in classREAD MORE ThnxREAD MORE NiceREAD MORE Best product ever seenREAD MORE super prductREAD MORE Good ProductREAD MORE Not goodREAD MORE In my location at direct sport showrooms i bought it for just Rs.630. Online business is too much trickyREAD MORE Product is okay  but its cheaper if you buy offlineREAD MORE Packing quality very...poor...but product is genuineREAD MORE Just okay Simply go for it.READ MORE The shuttle was brand new,the packing was very good,delhivery delivered on time,the shuutle was exelent for indoorREAD MORE I am very happy with your productsREAD MORE ThanksREAD MORE Nice shuttle from yonex and got it on a reasonable price. Thanks FlipkartREAD MORE Good & durableREAD MORE The product is good for players.READ MORE NiceREAD MORE Good for daily player..READ MORE good oneREAD MORE Very gud quality productREAD MORE Nice productREAD MORE I paid 700, it\\'s worth paying that money for it.READ MORE NiceREAD MORE Good quality.READ MORE Purchased it at rs.730 expected some more discount...But quality is good...Original product from Flipkart!!!READ MORE good productREAD MORE okREAD MORE Genuine product & perfect delivery time.READ MORE Supb, I am really happy to buy this shuttle. It\\'s very good quality product. Don\\'t think go ahead.READ MORE Very nice ExcellentREAD MORE One shuttle is not properly .READ MORE Received a very good set. Ideal flight.READ MORE Overall quality of the product & price is justified.READ MORE GoodREAD MORE Yonex mavis 350 is very strong Excellent shuttlesREAD MORE GoodREAD MORE Product is good and got the best price on FK.READ MORE Yonex Mac is 350 is a best quality productsREAD MORE Its really fabREAD MORE These are great for playing outside. They are durable and don\\'t break easy. Very good weight for ameture player\\'s.READ MORE Best practice shuttlesCork back ensures you the feel of shuttles and is durable(best for 4 long matches)READ MORE Not good product. Bad qualityREAD MORE Nice shuttle and quality.. Medium  pace shuttle.READ MORE GoodREAD MORE Good productREAD MORE Nice one.READ MORE Good product......READ MORE Good shuttleREAD MORE Shipping should be freeREAD MORE Product is very good in quality.READ MORE awesome deal at awesome price...love itREAD MORE Good product in right app......READ MORE goodREAD MORE Very good and original product.READ MORE Nice product yonex never let me down the best company according to meREAD MORE good oneREAD MORE Genuine product at a reasonable price which is good to see these daysREAD MORE Nice product I liked it a lot ........The price is worth....READ MORE Not original Quality shuttles, after playing for 1 match the shuttles are tearing off.READ MORE Price 100 rs high but ontime delivery and good to play in all conditionsREAD MORE Item is gud..bt over priced. retail price  just ₹620READ MORE I have booked Mavis 350 , qty 3, after sometime flipkart cancelled my offer due to \"high demand for the product\". So my money got deducted. I think flipkart does this thing often and have liquid cash to deposit the money and earn interest overnight OND (Over night Deposit). So flipkart is benefiting with our money by cancelling the product. Request everyone to go for COD!!!READ MORE Duplicate shuttlecock s in original containers , absolute cheating ..Fake shuttlecock signs1.bottom line is clearly square ( not so square in original )2.top line ..6 window\\'s (5 in original)Rest check in YouTube vds or Google itREAD MORE Thanks flipkartREAD MORE Flipkart is giving offer for purchasing 3 items and get 10% extra off but while ordering Order got cancelled stating the reason 1 item per user.READ MORE The item was not original...I had one box I purchased from here by store... The thickness of the one I bought online was like Mavis 10... Placed inside Mavis 350 ... Box....READ MORE 925 mRP hai all india..tum  1400 mrp rakh k 50% less de rahe ho...band karo ye loot...610 me milti hai aajao yahaREAD MORE Nice service from Flipkart as well as the dealer.READ MORE The product is no doubt too good, 3stars for that, but the price mentioned here is really misleading. It says here,original is 1699 & with discount 990, where as one can buy it for 750 on Amazon and sometimes at 650-700 at sports stores.READ MORE For the same rate i got this box. Nothing diffrence in that. Customers like me expects some discounts while buying online. But the rate is higher than the price in the local. And also i am wondering for the same product iam seeing different different rates, not understanding why?.READ MORE This is a duplicate product. Pls don\\'t buyREAD MORE The quality was very poor, seems the product was not original,  better to avoid these sellers...READ MORE I Would Have Given 5 Star Rating For The Service , But I Found 1 Shuttle In Each Box Does Not Seem To Be A New OneREAD MORE Spend someore bucks and buy good one.READ MORE Fake shuttles suppliedREAD MORE Product quality is good but first 200i was delivered in place of 350. Return was very fast. Very good service.READ MORE Good service...READ MORE What a quick delivery i loved so much delivered in one dayREAD MORE When i checked about the genunity of this product online it shows it is not originalREAD MORE Cancel  this  orderREAD MORE Returned the productREAD MORE What a condition?READ MORE I thought this pack never have blow hole corks.. The quality is as usual similar to the local pack and even  you can get this at low price from local shop.READ MORE Dilevary is lateREAD MORE Very good quality and genuine product. Sealed pack. No worries.READ MORE Don\\'t go for this product. Its definitely fake since it is missing the hologram at both the sides of the pack. Don\\'t ever go for it.READ MORE It is very. SmarterREAD MORE Good qualityREAD MORE The product is not original .READ MORE This is cheatingREAD MORE Lovable productREAD MORE Quick delivery with proper packingREAD MORE Product Delivery was very fast and hassle-freeREAD MORE PROMT DELIVERYREAD MORE Timely deliveryREAD MORE Shuttles were awsm as I played also the delivery was super fastREAD MORE It is an upto the mark product with good delivery time.READ MORE Order reached two days late, delivery person cannot be reached on phone and irresponsible behaviour of customer care    (my call holded for 15 minutes and cut)  and box came pressed, but luckily no damage inside.READ MORE Flipkart has the best delivery system among all e commerce companies. Please maintain this edge no one can beat you .READ MORE I ordered fast yonex shuttles but flipkart delivered me slow yonex shuttlesREAD MORE Thank flipcREAD MORE It was a nice product and getting for the best rate than marketREAD MORE Delivered in less than 2 daysREAD MORE Got the product in a damaged form. The packing was damn bad! On receiving the product was already crushed. Also, found that a shuttle out of six was a used one.READ MORE Why can\\'t I order 3 or 4 boxes together. When I order such order it automatically cancelled. Please fix this issueREAD MORE As the goodwill of yonex company is universal. so by delivering  its good product(not detected) by flipkart is  appreciable  to flipkart.READ MORE Fastest deliveryREAD MORE Please refund the amount as collecting return item.READ MORE Excellent quick deliveryREAD MORE Thanks to the delivery boy ... Service is always awesome...READ MORE Over priced even after 50% discount price is much higher than usual. Misleading description these are not medium speed shuttles.READ MORE Too much priced. It was getting me for Rs. 640 from my home town. So what is the advantage of purchasing this item from the flipkart. And i want to wait almost 5 days to get it.READ MORE Hii flipkart customers care..why your delivery boys not bring swipe machine with him.Plz tell delivery boys to keep swipe machine..Thank youREAD MORE Nice delivery speedREAD MORE'"
      ]
     },
     "execution_count": 28,
     "metadata": {},
     "output_type": "execute_result"
    }
   ],
   "source": [
    "combined_text"
   ]
  },
  {
   "cell_type": "code",
   "execution_count": null,
   "id": "df5a552a-7b80-4171-a8be-1b2ba0ee333a",
   "metadata": {},
   "outputs": [],
   "source": [
    "val=''.join(df['Review Title'] )"
   ]
  },
  {
   "cell_type": "code",
   "execution_count": null,
   "id": "18414806-f5d2-4063-8567-731ac5543bf0",
   "metadata": {},
   "outputs": [
    {
     "ename": "NameError",
     "evalue": "name 'create_wordcloud' is not defined",
     "output_type": "error",
     "traceback": [
      "\u001b[1;31m---------------------------------------------------------------------------\u001b[0m",
      "\u001b[1;31mNameError\u001b[0m                                 Traceback (most recent call last)",
      "Cell \u001b[1;32mIn[29], line 1\u001b[0m\n\u001b[1;32m----> 1\u001b[0m create_wordcloud(val)\n",
      "\u001b[1;31mNameError\u001b[0m: name 'create_wordcloud' is not defined"
     ]
    }
   ],
   "source": [
    "create_wordcloud(val)"
   ]
  },
  {
   "cell_type": "code",
   "execution_count": 80,
   "id": "aaefe433-16ed-4362-a6cd-95ff4e613c6b",
   "metadata": {},
   "outputs": [],
   "source": [
    "from sklearn.preprocessing import LabelEncoder"
   ]
  },
  {
   "cell_type": "code",
   "execution_count": 81,
   "id": "b762768b-f0eb-4aed-926c-cbf4f913a71c",
   "metadata": {},
   "outputs": [],
   "source": [
    "la=LabelEncoder()"
   ]
  },
  {
   "cell_type": "code",
   "execution_count": 82,
   "id": "85eab073-8897-47dd-a1f7-710d9107082c",
   "metadata": {},
   "outputs": [],
   "source": [
    "val=la.fit_transform(df['re'])"
   ]
  },
  {
   "cell_type": "code",
   "execution_count": null,
   "id": "f6e7f7ef-5e54-428e-94c8-afa60a281f2d",
   "metadata": {},
   "outputs": [
    {
     "data": {
      "text/plain": [
       "8013"
      ]
     },
     "execution_count": 31,
     "metadata": {},
     "output_type": "execute_result"
    }
   ],
   "source": [
    "len(val)"
   ]
  },
  {
   "cell_type": "code",
   "execution_count": 83,
   "id": "f1e44989-7630-4f52-8692-639c0d37e017",
   "metadata": {},
   "outputs": [],
   "source": [
    "from sklearn.model_selection import train_test_split"
   ]
  },
  {
   "cell_type": "code",
   "execution_count": null,
   "id": "2f09dab7-b7c9-4bae-9ff7-c29ccf2c748c",
   "metadata": {},
   "outputs": [],
   "source": [
    "X_train,x_test,y_train,y_test=train_test_split(df['Review text'],val,test_size=0.3)"
   ]
  },
  {
   "cell_type": "code",
   "execution_count": null,
   "id": "84c35641-5170-4153-ad83-2fa07395cd81",
   "metadata": {},
   "outputs": [
    {
     "data": {
      "text/plain": [
       "5609"
      ]
     },
     "execution_count": 35,
     "metadata": {},
     "output_type": "execute_result"
    }
   ],
   "source": [
    "len(X_train)"
   ]
  },
  {
   "cell_type": "code",
   "execution_count": null,
   "id": "ce152e83-9e07-4828-8ca5-968de075a5fd",
   "metadata": {},
   "outputs": [
    {
     "data": {
      "text/plain": [
       "2404"
      ]
     },
     "execution_count": 36,
     "metadata": {},
     "output_type": "execute_result"
    }
   ],
   "source": [
    "len(x_test)"
   ]
  },
  {
   "cell_type": "code",
   "execution_count": null,
   "id": "03fc094e-69d8-49ab-b93a-4c03829923e6",
   "metadata": {},
   "outputs": [
    {
     "name": "stderr",
     "output_type": "stream",
     "text": [
      "[nltk_data] Downloading package stopwords to\n",
      "[nltk_data]     C:\\Users\\sspon\\AppData\\Roaming\\nltk_data...\n",
      "[nltk_data]   Package stopwords is already up-to-date!\n"
     ]
    }
   ],
   "source": [
    "import pandas as pd\n",
    "import nltk\n",
    "from nltk.corpus import stopwords\n",
    "nltk.download('stopwords')\n",
    "import re\n",
    "# Function to remove stopwords"
   ]
  },
  {
   "cell_type": "code",
   "execution_count": null,
   "id": "c1efd91e-c135-453f-bb56-6877b5d94983",
   "metadata": {},
   "outputs": [],
   "source": [
    "def remove_stopwords(text):\n",
    "    text=text.lower()\n",
    "    text=re.sub(\"[^a-zA-Z]\",\" \",text)\n",
    "    clean_tokens = [t for t in text.split() if t not in stopwords.words(\"english\")]\n",
    "    return \" \".join(clean_tokens)\n",
    "\n",
    "# Remove stopwords from the 'text' column\n",
    "df['text_without_stopwords'] = df['Review text'].apply(remove_stopwords)\n"
   ]
  },
  {
   "cell_type": "code",
   "execution_count": null,
   "id": "743f7d19-d761-4f6f-bd7f-b4786c6829c8",
   "metadata": {},
   "outputs": [
    {
     "data": {
      "text/plain": [
       "'nice product good quality price rising bad sign affordable price especially play everyday kindly help us terms price thank readsupplied yonex mavis outside cover yonex ad inside cheapest sad hear readworst product damaged shuttlecocks packed new box original yonex product buy flipkart platform chosen fraud buyers readgood quality product delivered time readbest purchase good quality durable average shuttle shipping goodreadgood quality original shuttles readawesomereadnice original productsreadgreen cap shuttlecock really awesome quality best good packing green cap shuttlecock played warm conditions worth money simply loved readbest class readgenuine price less near shopreadsecond time getting opened bundle yonex mavis shuttle really believe original product someone may switched shuttle inside bundle buy flipkart gonna return product readreally satisfied quality prompt delivery happy customer flipkart readnycreadusually buy model last even dayreadpoor quality originalreaddelivered expected timereadnice original productreadnice good price compare local sports readperfect go yonex never disappoint pros feather might look little cheap first glance like quality best bottom cork amazing play open court perfectly glides around balanced base durability seems go fine issues intermediate players using one shuttle since days cons slightly higher range use lbs bg racquet p readsuperbreadlooked like defective without balance throw readgenuine product reasonable price got rs readgood sealed original yonex shuttlesreadexpected head portion break soon defective pieces readgiving star price hike please anyone suggest shuttle cork performance lower price readquality pooverreadgood productreadgood product readreceived good condition really satisfied product satisfied delivery boys always coins return means paying extra money item also know opportunity never coins return really dont like kind selfishness readshuttle rotatingreadbad quality readworst quality shots ball started rotate readexpecting kind products flipkart readone better shuttles market good quality reasonable price readlow qualityreadsuperb quality best price thanks flipkart readsecond quality shuttles buy almost torn shaped worst experience go buy shop costs around readthink genuine cos checked official website yonex hologram number yet product bad job well definitely comparing one original one shop near let others know difference readreceived duplicate n cheapest balls kept inside broken box done deleberately worst experience ever flipkart buy anything except badminton yonex mavis readquality good rejected qualityreadgreen cap shuttle good indoor well outdoor play though slow speed durable thanks great dealreadreally nice productquick delivery thanks filpkartreadnice shuttlereadhorrible product shuttle last even single day extremely poor quality patheticreadquality low orginalreadworstreaddifference online quality market quality local market products far better online productsreaddont worst productreadlow quality bad quality readproduct original cork used come within days use please buy shuttles original rather buy shop shop rates readquality good earlier also manufactur date also long back earlier shuttlecocks received max past month manufacturer also back readgenuine productreadwaste productreadused shuttle item quality slow disappointed time readhigh pricereadbad bad compare ah year back coming mavis readyonex mavis best among yonex shuttlecocks playing one year price increasing unnecessarily rs last year readbad product quality used shuttle days totally wastage money copied productreadshuttle heavier specifications felt like playing cheap rip original mavis readrd class quality want returns time overreadworst shuttle ever shuttles started spinning shots even come game readcertain corks damaged certain corks even came matchesreadbad quality readexpected qualityreadbad quality play hr shuttlereaddurable poor qualityreadprice littel bit highreadgoodreadnicereadrequired one readproduct original please avoid online purchase readone shuttle damaged vobling let know doreadgood quality productreadgood shuttle classic productreadgot defective piecesreadbad packing unsatisfiedreadpros quality product yonex original shuttle runs long prompt delivery flipkart shuttle durable cons nonereadgood quality nice product thanks fpr fast deliveryreadnice cockereadgood qualityreadscratch code mentioned barrel verified yonex sunrise website mentioned product duplicate readawsm readreasonable pricereadexcellent product original product received fast delivery second tough go readone best offer given flipkart best shuttle tournaments training always use type shuttles play yonex mavis green thanks flipkart best deal always put type deal booked readgood question lasting matches purchase yonex mavis blue one little bit fast good smash lasting like green capreadmavis quite durable really good starters recommend mavis best practice sessions readreceived product committed time thanks flipkart mavis really awesome product matter whether beginners intermediate advanced level player mavis definitely perfectly works playing last years readgood nicely packed everyshuttle nice insude perfect flight readgot product earlier expected rs th april sale box properly sealed feb packing import date sure mrp way cheaper market price rs per box also checked popular websites one close flipkart point always use mavis green cap stability durability speed open court thanks flipkart hoping cheaper deal readbest choice people wants practice indoor outdoor badminton get financial obligations feather shuttle mavis hard find times savior always available yellow ones bit better outdoor white fine indoors respective colours given backdrop flipkart offered best price almost season far longevity shuttles starkly less played outdoor due readlong time got entire box genuine shuttles dynamic pricing strategy big everyday prices go otherwise would happy buy readgood product n durable good enough speed slows little mid airreadshuttles imported february bought march last serial number revealed scratching sticker shows item genuine start play yet items look good sturdy got think worth price also happy get items delivered quickly readbest shuttlecocks life far better li ning shuttle price range purchased rs sale flight also better shuttlecocksreadgood n nice balanced shuttles thanks retailnet n flipkart hope l get convincing rates lowered one readshuttle best one excellent price matter readquality bad per day one cork finished may look like duplicate mavis corks purchased many cork boxes sellers cork boxes comes days playing box stays days understand delicate cork box isreadcost high hate productreadpoor quality inconsistent speed poor flightreadyonex always best quality readworst shuttle last even day poor quality sure due stock issue copy product would never buy flipkart readused product good economic use durable good balance long lasting even sustains wrong shots quiet economic compared feather shuttles readhappy product quality arrived actual delivery date given thanks flipkart quick delivery recommended everyone would like enjoy longer satisfied games readamazing shuttlecockdurable best qualitygo readchecked sunrisetnt com found genuinereadhorrible st order received mavis sealed bill mavis thought mistake asked replacement replacement received box mavis sealed inside cheap shuttles local quality buy flipkart readaveragereadexcellent synthetic shuttles yonex used well prefer yellow ones visibility general quite durable long lasting one shuttle easily last half dozen dozen intense games flight becomes unacceptable found travel shorter distances therefore prefer readbest shuttle available market used shuttles till aware better shuttle price got flipkart really best price researched checking online stores sports shops definitely best price could find readbad quality pirchase boxes fast readbest shuttle available online discription needed readlong lasting product nice product readbest shuttlereadgood quality readfabulous itemreadnice quality good product much thankful flipkart courier company delivering quickly happy definitely tell friends order product readgood product service goodreadnd qualityreadlocal productreadold stock lasts even gamesreadshuttles good view balance readokreadnice product suttles good readnice productreadold one onlyreadsuper ballreadaccording cost average lifereadworstreadpoor quality readquality good broken matchreadnice product damage daysreadgood worst product bought flipkartreadlow quality durabalityreadbadlyreadbad qualityreadbad product word describe write duplicate productreadtime quality worstreadpoor quality readlow bad quality product flipkart fooling everyonereadshuttles duplicates mark readbad product ever receivedreadbad copy quality ricevereadwaste moneyreadquality bad tired class shuttecockreadworstreadpoor qualityreadreate wery muchreadworst shuttle ever used far buy product low qualityreadupto mark cork getting cracksreadpoor quality lasting one set base breakinf top wornreadbad quality good dont like prefer beacuse delivery late comfortable change elf near product also deliver emergency things order flipcart better go apps really bad service product quality also badreadgoodreadgood quality shuttlesreadwriting review rated star received duplicate product rating star received original yonex mavis shuttle thank future hope receive original productsreadbad productedreadgood productreadreceived counterfeit product readu play hours daily shuttle would last maximum days readgood productreadone day cap gaanreadgoodreadsuperb price higher day day two weeks price gained rsreadgood qualityreadcostly lockdown phase previously os sometimes sometimes readbestreadplay every day play really hard courts always best choice readitem good buy originalreadexcellent indoor courtreadgenuine product nice packing readgood quality readnice thanks flipkartreadnice productreadgradual decrease quality less longevity readnice productreadwow productreadbox boxes bad shuttle shuttles box playable readproduct shown picture readaverage goodreadrealized buy shuttles online ever cheap duplicate product refund amount replacement product plz waste money readshuttle okayish movement air bit different mavis readfound shuttle differentreadshuttle genuine conectarte qualityreadpoor qualityreadballs waste rotate unable play readpoor quality shuttle standing daysreadoriginal productreadshuttle goodreadgood expectedreadgoodreadyonex mavis pure item shuttle oldreadnice product suggest plz buy product original product made japan readgood readnicereadnicereadnice shuttle outdoorreadgood productreadamazing cost amazing onereadpacking made flipkart absolutely perfect mavis pretty good think cost side get rs play hard shuttlesreadgood dilevary good productreadworthreadgoodreadlooks like fake shuttles sold yonex readworst product buy low qualityreadshuttles shapeless may mishandelrd transportationreadproduct goodreaddays delivery something really frustrating even till get product please work service readbad qualityreadgood productreadbest quality shuttlesreadgood quality value moneyreadgoodreadworstreadbad readshuttle good playing last days shuttle still good value money thank u flipkart readbad quality readquality good little bit fast readexcellent original buy local sports storesreadpoor quality shuttle become broke within hour playing ie within dayreadshuttles worn really quickly quickly regular mavis tried verify authenticity product entering code onto website lo genuine product attached pictures reference developed hairline crack quickly half match shuttles quality readnice product best price superreadprofessional player played mavis green colour go product lighter slower green one new buyer go ahead buy matter speed slower green mavis readoptimum weight speed easy control shots easy court cover good learners even beginners base thermocol type material like yonex shurttles cork base get ruptured easily worth buying readsuitable outdoorreadseems original lighter lasting hour play readhorrible shuttle ever playreadfinally got orginal yonex mavis genuine piece many fakes avilable market serious players buy wont regret readone shuttle lasts hardly days less would suggest makers keep mind thing manufacturing price also high make either durable cheap user friendly readitem received excellent condition within one day thanks team however one suggestion please send item big cardboard box actually wastage resources readused boxes people say fake either never played mavis may received damaged box might disturbed flight shuttle plays mavis day day absolutely original speed plays well delhi heat degrees order morereadproduct good like bought open market price also equal open market would good line price less readnice itemsreadthank flipkart providing great product good quality great deal readshutte durable lasts long good flight time much better purchased local store also offer cheaperreadlove really guudas well fantastic delivery early alsoreadreally good shuttle want improve game best also durable flight good weight balance superb best amateur levelreadconvinced quality product readoption put images review section shuttles delivered used ones even mavis seller must totally unprofessional basic check seal taken care flipkart atleastreadokreadvalue moneyreadexcellent product cost higherreadone shuttle broken days smashreadshuttle poor guys dont purchase flipkhart check supplier big impact sales alsoreadnice shuttle flight correct good durability readball best local rate highreadgood slow type cork r using daily game one cork lasts daysreadbest shuttlecock ever play everyday abt hours continusly still use shuttlecock days durable got really good flight yonex rocks readworst ratereadshuttle long life light readworst product dont go stand hour playreadbetter beginnersreadshuttle good even match come think twice purchasereadokkreadst time order quantity good next time quality poor shuttle looking also readnice product practicereadexcellentreadgood onereadnicereadgoodreadgood readoriginal product great discountreadgood productreadabsolutely good quality shuttles great packing team readdear retailnet second order second order ifferent first one one packing look different quality nice thanks happy second orderreadpoor product readpoor qualityreadvalue moneyreadbadreadreally awesomereadsuperreadgoodreadgood productreadshuttle working perfectlyreadnicereadgudreadsuper goodreadbetter intermediate nd biggnerreadgoodreadgood product readfinereadsuper exalent iam happy thank youreadexpected qualityreadbad qualityreadnicereadwaste product high speed shuttles useful intermediate advanced players looting money sub standard products readgoodreadfabulous shuttlecock good medium playersreadworstreadgoodreadorder yonex mavis slow speed ball send low quality ball puy tha product really worst quality buy product pleasereadwa goodreadsuperreadgoodreadawsome product one shuttle wears gamesreadgood quality productreadgood quality readnice shuttlecocksreadgoodreadold productreadgoodreadgood productreadbad readorginal quality productreadgood high price readbest shuttlecocks indoor outdoor badmintonreadgoodreadworst qualityreadexcellent productreadexlentreadgoodreadsuperreadperfectreadgood costlyreadgood product readgoodreadgoodreadgood quality happy purchasereadoriginal best go without hesitation readgood product great experiencereadshuttle good readtq flippy original barrelreadreal yonex satisfiedreadsuperreadbest shuttle mavis company thanks flipcart service readsuperreadgoodreadbestreadawesomereadawesome quality readgoodreadgoodreadnice readawesome product indeed closest feather shuttlereadperfectreadnice product best quality beginner go really worth money spent readperfectly geniune product thank seller readgood productreadbest classreadsuperreadgreatreadgoodreadnicereadgoodreadgoodreadgoodreadworst qualityreadsuperb nodoubtreadterms flight stability durability better consider nearly similar feather shuttles rsl otherwise mavis shuttles etc goodreadbest shuttle price quality good good play readgud quality superreadyonex always best practice job nicelyreadgood productreadbest quality readnice qualityreadbad quality even stable one game readshuttle used bedreadgoodreadbest price best shuttle please offer price buy barrels readgoodreadquality box goodreadseller sent duplicate productreadgood quality genuine productreadnice best productreadquality goodreadgoodreadnice productreadgood product reasonable pricereadaveragereadquality goodreadbest one beginners intermediate players readamazing readworst quality readgo readgoodreadgood previews readawesomereadgood quality love itreadbad qualityreadbad goodreadsuperreadtime favourite badminton readgood readgoodreadnice productreadbetter shuttle beginners humid areas readnicereadbest regular player durable shuttle best daily uses readgood one price highreadquality expectedreadgoodreadok goodreadnice like tnq much flipkart readnice shuttle pro well badminton playing beginners soo recommend buy shuttle worthy means value money say readgood qualityreadgoodreadgoogreadgood indoor courtsreadcompared ones bought shops seems relatively bit slowreadgood hard play durable playing raining best readnice happyreadbad experiencereadgoodreadgood shuttlereadgoodreadnice shuttlereadgood quality shuttles worth readgood oky readgoodreadgreat buy original shuttle delivered however box bit deformed received return took rick open packaging found original yonex shuttles readexcellent shuttle go guyzreadproduct good delivery latereadproduct quality bad broken shuttle within match readsuperb packing keep upreadgood productreadgoodreadworst productreadbest product available market today costlyreadbad experiencereadsuper onereadday use shuttle uselessi dought qualityreadgood experience original shuttles delivery within daysreadbest product must buyreadnicereadgoodreadoriginal shuttles delivered value money go itreadnice superreadgood product thanks flipkartreadbad real productreadgood quality productreadnice productreadbad quality readsuperreadsuperreadbadreadbadreadthank youreadnicereaddurability good readunbelievable best shuttle readgood qualityreadoriginal products worstreadgoodreaddisappointedreadnicereadgoodreadgo shuttle professionalreadmast qualityreadoriginal product awesome readnicereadfabulous products readgoodreadgood productreadnice product thanx flipkartreadproduct markreadnice picreadgoodreadoriginalreadokreadgood qualityreadgoodreadnicereadwaste productreadtqreadworst quality ever receivedreadgoodreadgood productreadquality poorreadworst product worst appreadgood productreadgoodreadvalue moneyreadsuperreadsatisfiedreadamazing readgood productreadgoodreadfinereadnice shuttle love readnice productreadpoor quality westage money shuttle broken two three gamesreadnicereadwaste products good quickly damagereadnicereadgoodreadgood productreadsuperreadbad produtvery badreadgoodreaddurability goodreadbeautiful attractivereadokreadnicereadgood itemreadgood product readnicereadfake product lasting even day readnice shuttlereadproduct good qualityreadgood shuttle everyone playing shuttle readgood product supperreadsuper productreadexcellent qualityreadbestreadbad haareadexcellent product deliveryreadgoodreadlong lasting otherreadpoor quality shuttle dameged soon think old stock readnicereadgood onereadgoodreadgoogreadnicereadgoodreaddamaged product readgoodreadsuperbreadgood qualityreadsuperbreadnice product readgood product value moneyreadgood qualityreadbad quality shuttles gone week readperfect everyonereadsuperb quality nice packingreadgoodreadone best shuttle outdoor playreadthank super goodreadgoodreadgoodreadworst product shuttles damaged old material readbad product returnedreadbad brotactreadgood productreadgrade product readquality goodreadbadreadgoodreadnicereadgoodreadbadreadnice packing fast deliveryreadnice quit expensivereadbad qualityreadnormal quality speed playingreadgoodreadperfect bed itanagarreadgood readnowadays coming hardy hrs playing onlyquality going rate going upneed search alternativereadexcellentreadgoodreadgood onereadsecond quality readgood shuttle readsuper quality readtrusted satisfiedreadworst experience filpkartreadgood productreadgoodreadbest every badminton playerreadgoodreadsuperreadflower damagedreadgoodreadloved ekdum original qualityreadgoodreadthanks flipkartreadnice productreadgood productreadgoodreadproducts damagereadgoodreadfabulousreadokayreadquality badreadsuperbreadlow quality cork expect games go first game cork come feather part stays brqnd new cheap quality expectes yonex readgoodreadgood qualityreadgoodreadnicereadnicereadshuttle flying fast getting damaged gamesreadgood quality shuttle even playing outdoor readgoodreadgood readgood product readgoodreadgoodreadnicereadgood shuttlecock outdoor indoor love shuttlereadgoodreadokreaditem damagedreaditem poor qualityreadquality good readyonex good readgoodreadgood qualityreadawesome projection low life compared lining readgood qualityreadbad quality time shuttle balls broken single match without hitting shots usually ball lasts days heavy matches per day totally disappointed waste money readgoodreadquality expected play st day cork brokenreadgoodreadwhole box shuttle lasted week nowadays manufacturing heavily affected due covid resource crunch increasing price quality degrading drastically readthanks quality product sendingreadgoodreadgood readreceived mavis shuttle boox satisfied due fast speed head side havy wight two three game flye good readgoodreadgood product readreliable professional shuttlereadorginalreadsupabreadexcellent shuttle love itreadgood outdoor cork weight balanced pretty good life readwao original one readokreadgood qualityreadgoodreadbest classreadnice product tq flipkartreadhorriblereadproduct model good play readtime cork goodreadsuperreadquality bad cork spinning playing readgood products thank u flipkartreadgreat playingreadnice productreadexcellentreadquality product poorreadbestreadnice readgood product fast deliveryreadgood shuttlereadgood usereadlove osm qualityreadloved readnice product price getting high duration getting reduce readexcellent durabilityreadquality nowadays badreadgoodreadgood payreadgood productreadok badreadnice high servicesreadok good itreadexpensivereadsuperbreadgoodreadgo bestreadgood qualityreadbad productreadgoodreadworst shuttlesreadperfect one play orginal product readlast long enough poor qualityreadsuperreadone best shuttles playedreadfantastic readgoodreadgood one readbestreadgood readnicereadgoodreadaveragereadbad quality ball box worst readnice productreadsuper compare products quality awesome readgood qualityreadnicereadexcellentreadorder product original received happy thanksreadnicereadnicereadnicereadgoodreadoriginal product long lastingreadsuper quality product tq flipkartreadsuperreadgood goodreadgood quality long lifereadgoodreadhappyreadgoodreadgood playreadgoodreadgoodreadbest allreadnicereadgenuinereadgoodreadnice qualityreadgoodreadgoodreadgoodreadsuperreadshuttle cork separated hoursreadbest loved itreadgood productreadoriginalreadexcellent original product superb durablereadgood pricingreadperfect quality perfect paking perfect delivery time expected readbest beginnersreadworst quality readquality good last long like ones bought locally brand modelreadvary nice productreadgood shuttlereadnice product readregular customer perfect alwaysreadgood qualityreadbadreadnice onereadreally original readproduct goodreadbad itemreadgood impressedreadgoodreadgood quality time durablereadawesome readbest product worth moneyreadexcellentreadnice productreadnicereadbad life tore easilyreadgoodreadsuperreadgood productreadmavis masivreadnice readsuperbreadgoodreadworth every penny readgoodreadprice toooo high readoriginal product playing yrs defects found yet readgoodreadnicereadoriginal product worth moneyreadbad productreadnice product delivered time readnicereadbad shuttle broken fastreadnice helpful delay practice readnice onereadgood itreadgood enough readnicereadgood product seller cooperation wonderful readgoodreadstays slow day game writes slow stand chancereadbad product bottom side quality bad fake product expect yonex flipkartreadexcellent productreadoriginal good quality readsuperbreadnice productreadsuperreadyonex std quality alwaysreadgood nice quality readexcellentreadnice productreadoutstanding shuttle osmm experience playingreadworst product shuttle break cork readeven better cork stronger hence durable shuttle better detaches easily cork less durable readtime keep upreadexcellentreadgoodreadnicereadthanks lot quick delivery nice experience readnicereadreally nicereadbox one box good base coming one game mins game happens shuttle se box readgoodreadawesomereadquality rates good else required thatreadawesome products problem pricereadgood product price high readfinereadtime quality best readperfectreadgoodreadproduct vey much bad price dosn match quality bad productreadgood product using mavis compare shuttle weak playing arround mins upper material got damagedreadgood shuttlereadquality good readsuper hitreadgot bad quality one readgreatreadgood productreadnicereadnycreadgames new shuttle shuttle swinging irregularlyreadworst quality shuttles shaking playing bad quality readbest market durability less readworst recent times played new ball today two balls bottom tape gone within hours attach image last two delivery worst intermediate players playing doubles single ball stand atleast two day last two delivery whole balls damaged within days readgood qualityreadquality product good speed high readnicereadgood productreadshuttle bottom got broken waste money readnicereadgood product value moneyreadgood per pricereadnicereadgood long lastingreadworst product lasts two days cork readbadreadgot defective got replaced good play readpoor quality byingreadgoodreadbest readworst qualityreadnice shuttle beginners intermediate players good practice readproduct good readgood qualityreadbestreadquality bad lasted even month readnice productreadquality poor readgood productreadbad productreadmuch costlier winter season readamazing shuttlesreadgoodreadnicereadawesome price highreadcostly hardly lasts day readexcellentreadbadshuttle broke gamereadgoodreadgood shuttlecockreadwonderful jobreadgood productreadgood productreadgood readbuy worst purchase ever play one game shuttlereadshuttlecock nice long durability value money readgoodreadbest shuttles indoor gamesreadquality poorreadgoodreadgood product without confusionreadgood qualityreadquality product badreadbad qualityreadwonderful product readgoodreadgood productreadnice product fast deliveryreadbad quality shuttle torn mesh within gamesreadoriginalreadgenuine product performed expectedreadfull mostireadnice onereadsuperreadreceived original product awesome readgoodreadgoodreadoriginalreadbase shuttle low quality readquality goodreadbad colourreadgood qualityreadexpected yonex sales default shuttlesreadorginal item goodreadgood product one shuttle play minimum ten gsmesreadbestreadreally bad experience poor quality go itreadsuper shuttlereadawesomereadsupportreadbest shuttlereadbad quality high price acceptable range readperfectreadnice productreadgood product readshuttles bad breaking easily gamesreadquality product purchased online poor compared offline stores readcork slowreaddurablereadlong lasts nylon shuttlereadgoodreadgood readexcellentreadgenuine product used ones luckilyreadgoodreadgood jobreadbad qualityreadnicereadgoodreadthanks delivery timereadgoodreadgoodreadnicereadnicereadgreat stuff readnice tqreadlong lastingreadgood product price high readexcellentreadnicereadgoodreadnicereadnicereadoriginal yonex shuttle decent price compared market durability much would hardly last matches max flight path predictable good option durable comparison feather shuttle readmind blowingreadlast long normaly one shuttle good day one work day every time shuttle got destroyed always got broke part readgood readgood one like itreadnice productsreadgot original productreadlittle slow normal shuttle readwell brandreadnice productreadfourth order recieved rupees shuttlesreadgoodreadgood qualityreadgood productreadgood productreadgot broken soon readgood quality readgood quality delivered time readgood productreadunlike earlier purchases even lasting days readlow quality buy online readlooks genuine great qualityreadgood productreadquality poor readgoodreadsuperbreadgoodreadgood product delivery late readoriginal product buy hesitationreadnice good quality service thanks flipkart team readsuper readgoodreadfinereadgoodreadbad product waste money buy productreadnice product delivered day super super super readsuperreadgood slow movereadsuperreadgood boyreadnicereadgood qualityreadoriginal product liked itreaddurability poor compare readgoodreadeasy playreadnicereadgood product original yonex readgoodreadusual good one yonexreadbestreadnice shuttle reasonable price flight doesnt alter much even games far better purchased local storesreadexcellentreadbest shuttle practicereadmarvellous product readgood onereadquality goodreadsuperreadgoodreadgoodreadawesome product readnicereadpoor qualityreadproduct quantity badreadgoodreadnice productreadgoodreadnicereadbestreadgoodreadgood ququalityreadsuperreadgenuine product thank flipkartreadintermediate player shuttle easily lasts games without problem used casual outdoor games readbest readbadreadgreat seller replacement delivery daysreadgood qualityreadnice qualityreadgoodreadinstead mavis got mavis product also duplicate quite frustrated please buy product readaveragereadbest qualityreadnicereadamazing pricereadproduct pacaging good thank flipkartreadawesomereadgoodreadbadreadexcellentreadmust buy value moneyreadvaluablereadsuperreadiam order cockes quality good speed slow bad productreadgood onereadgood bottom corck damage early ply sticky believe yonex good productreadgood goodreadgood qualityreadworthyreadproduct good readgood productreadnice packing good qualityreadokreadnice productreadgoodreadbest badminton shuttle nothing better product little expensive best readprice product highreadsuperbreadgoodreadspeed shuttle per standard yonex mavis readgood qualityreadgoodreadgood definetely go readgoodreadgood productawesome delivery nice durability highly recommended readshuttles worst readexcellentreadbestreadbadreadgoodreadgoodreadnicereadgodreadexcellentreadperfectreadgoodreadthink mavis quality badreadgood qualityreadexcellent productreadquality goodreadgoodreadworst quality readok okreadgood one little quality requiredreadgoodreadperfect playreadtq okreadgenuine product readexcellent balancereadexpensivereadnicereadgud playreadvalue money buy readgood product really impressedreadsuperb corckreadgoodreadgoodreadplay hours daily none lasted whole day poor quality readsuperreaduse always super readnice readbad good average product readnicereadgods productreadquality product good quite genuine productreadgood durable readone better yonex mavisreadusing mavis since years would given stars star condition barrel received however shuttles good condition nylon delivery good received item within three days readbad packings shuttle complicatedreadgoodreadoriginal made japanreadbest beginners professionalreadnice product readsuper productreadmassivereadnicereadsuperreadgo without second thoughtsreadoriginal yonex mavis useless cork look branding yonex mavis last gamesreadgoodreadexcellentreadneed mention anything always bestreadexcellent qualityreadsuper quality mind blowingreadgood shuttlesreadshuttle nicereadexcellentreadawesome must buyreadg odreadgood quality readgoodreadbest productreadgoodreadnd purchase product good shuttle compared othersi know mavis bought flipkart sturdy nylon skirt gets ripped cork get loose came single shuttle good use ripped shuttle warm readgood productreadhigh durability long lasting readlong life good qualityreadgood quality genuine product readsuparreadsupperreadnic onereadgoodreadproduct good worth every penny readgoodreadplayer goodreadsuper qulittreadnicereadgoodreadnicereadgood company brandreadvalue moneyreadshuttle good perfect badminton playersreadnice itemreadgood playing shuttlereadgoodreadsuperb outdoor nice qualityreadnicereadvalue money readnice shuttle speedreadgood durability also goodreadgoodreadgood readexcellent shuttle outdoor use last daysreadgoodreadgoodreadgoodreadgood productreadgood productreadoriginal awesome love flipkartreadgudreadgood expensive try readnicereadfirst time damage product next time give good product readgreat product readawesome readworth money good onereadveery good prductreadperfect indoor games readgood quality provided flipkart readgood product readgood productreadgoodreadexcellentreadshuttlecock quality much betterreadshuttles arereadperfect intermediate level playingreadgood product yonex good service flipkartreadgood really appreciatereadexcellent shuttle readnice onereadworthyreadhappyreadkollam superreadgenuine product thanks flipkartreadgood productreadtime good soreadworth even single star readfine onereadgoodreadpoor qualityreadquality good playing one two games bottom came shuttle readgoodreadquality goodreadgood original productreadgood qualityreadexcellent readgoodreadbad product readnicereadone like yonexreadgood build qualityreadgoodreadnicereadoriginal one made yonex company look completely original product difficult differentiate original product play feel difference original one lasting like original good beginners readgd productreadnicereadnice productreadsupebreadgood readexcellentreadsuperreadcheap quality least fir one gamereadproduct bad totally changed readnicereadgood itemreadsuperreadnice product u go packing good overall genuine product worth money readold productreadworth costreadgoodreadbest mid range daily usereadgoodreadnice product readnice product readsee getting mavis market quite confused one originality transportation charge exceeds budget flipkart made us comfortable providing highly original product good packing timy delivery readexcellentreadgoodreadbetter qualityreadgood quality shuttles delivery also fastreadoriginal shuttle readgoodreadpoor responsed flipkartreadfantastic readdisappoinment flipkart ordered set mavis shuttle shuttles poor quality shuttle gamever disappoinmentreadnuber one qualittyreadsuperreadgoodreadvalue moneyreadoriginal product love readgood see described brand seller spot ideal beginners amateur players readgood onereadsuper strongreadprice much compare otherreadgdreadgood productreadquality goodreadgoodreadworth buyreadgoodreadsuperb quality thanks alot deliver guyreadok okreadgenuine original product seller mavis slow suited indian atmospheric conditions per personal opinion readgood service fast deliveryreadsuperreadnicereadnicereadgoodreadnicereadexcellentreadgood qualityreadnice itemreadgoodreadproduct good good smashes good drop readgreat product highly recommended practice readprice higher qualityreadgoodreadnice onereadgood qualityreadgood qualityreadgoodreadnice product readgood productreadgoodreadgoodreadgood playreadgenuine best qualityreadsuperreadgood itemsreadgoodreadwaste moneyreadoverall product good except durability lasts days heavy match price range durability increased according opinion readsuperreadnice productreadgoodreadplaying badminton years never use shuttle shuttle fabulous vreadgoodreadshuttles genuine easily go readbest haireadfantastic readnicereadokreadsuperreadcheapest originalreadtwo pieces got damaged single match totally waste money readokayreadgood long lasting flight shuttlecock goodreadpoor qualityreadnice flowerreadgoodreadquick delivery genuine productreadball quite good buy bought boxes three goodreadwastreadnice productreadloved itreadgoodreadenjoyed playing readgood productreadyonex mavis nylon shuttle best quality readexcellentreadbest product price one cork last upto matches u play prpoerly readsuperb nice productsreadoriginal productreadgoodreadnice mavis readgoodreadsuper productreadgoodreadgreatreadgood quality long life hard get simalar shuttlereadquickly gone use new shuttle everyday roughfly games readgood productreadbest market durable good path readnice long lasting shuttle recommended readclassy game feel strung sound wile hitting corkzzz really awesomereadsettle mavis given good got quickly according thank much readgoodreadgenuine product fk delivery super fastreadgoodreadnicereadgoodreadgood onereadthank readthank much sir solving problemreadsuperreadlast two time delivered cork original quality time low quality disappointedreadgoodreadnice readnormalreadgoodreadneed tubes morereadrecieved bad quality product usually shuttle last days entire box lasted less week better buy shops readfar good update review monthreadmust buy readnice shuttle long run games good door wellreadbest shuttle using shuttle past years recommend trying many shuttle found best one long lasting durable readgoodreadexcellent flight perfect daily practicereadgoodreadgood productreadok goodreadexcellentreadgood shuttle fast delivery flipkart readshuttle poor quality getting damaged soon doubt duplicatereadsuperb shuttle readnicereadeverything fine shuttlecock except durabilityreadwow fantastic thanks flipkart readvvvv goodreadsuper quality readexpected quality product quality shuttle similar rupees shuttle even refunded money wastage money readquality durability low even matches withstood compared guess provided old stock problem new stock whch old stockreadnice shuttlereadgoodreaditem described readgoodreadsatisfied readgood productreadgood qualityreadawesomereadgoodreadgood readokreadbest shuttle go readnice productreadawesome purchase readnice product totally slowreadgood productreadnicereadgoodreadshuttles way faster within knocks overall seems better sure authenticity shuttles price could little lesserreadfantastickreadsupperreadgot real item chance replacement readprice highreadcorck need better lot small holesreadgoodreadgood qualityreadwery good productreadsuper item readgood product quality readdurable one shuttle lasts weeks since intermediate lasts long usual readgood durable shuttle readsuper good qulityreadgoodreadabsolutely amazing product great beginners one shuttle almost last daysreadnice productsreadsuperb product flipkartreadsuperreadwaooooovery nicereally like readokayreadnice expectedreadgood qualityreadterrible experience shuttle even lasted straight gamesreadworth money buy online outside may costly readnicereadworst quality ever buy dancing flying disappointedreadnice productreadprice terribly highreadsuperb nice onevalue moneyreadnothing say bt doubts original yonex bcz coke life shortreadnice productreadgoodreadgood productreadnice shuttle advance players thanks flipkartreadlow quality readnice expected productreadgoodreadgeniuen product buy thanks flipkart yonexreadgoodreadthanku flipkart readnicereadgood qualityreadsuperreadgood onereadgo readtrustworthy seller readexcellentreadgood qualityreadthank flipkart readgoodreadproduct aspected greatreadmavis beat options shuttle level playersreadgood product readawesome must buyreadgood productreadexcellentreadgood product discounted price got readsimply awesomereadgudreadgood product readnice product price high readnice readperfectreadexcellentreadsuperreadamazing cocreadnice workreadnicereadnicereadgood product bought shopsreadgoodreadnice product delivered ontime readtime good deliveryreadprice highreadnice onereadpor qualityreadgood quality shuttle good begineer intermediate players one shuttle last days matter extreme play net without net local style readuseless shuttle cant play one single game one shuttle recommend waste money westeless shuttle never buy price high quality low readcopy productreadgood productreadgoodreadnicereadbrand good know packet good worse quality givenreadprice highreadprice highreadgreatreadgood readsuper readreally nicereadgood productreadnicereadoriginal qualityreadawesomereadproduct goodreadbest bigineersreadnice readlonglasting unlike shuttlereadnice productreadshuttle broken within one day worst productreadexcellentreadmavis best shuttle ever played withreadfabulous product everreadnice product readnice product readgood qualityreadkudos delivery quick well packaged product great readgoodreadgood product readnice productreadperfect playreadexcellent shuttles alwaysreadnice original genuine products supplied flipkartreadbad qualityreadgood shuttlereadvalue moneyreadgood orginal product thanks flipkart readquality nice great readsatisfactory readgoodreadnice shuttle team played well using negative point outdoors shuttle lose stabilityreadgood fast delivery superreadgood arn link retailers product googreadworth moneyreadbest shuttlesreadperfect shuttles indoor lasts long good quality readnice productreadnicereadgoodreadnice shuttlesreadoriginal good qualityreadnice productreadsuperbreaddelightedreadfast delivery good quality shuttles readnice productreadnicereadgoodreadnice product good quality price little highreadshuttle okreaddisappointed one shuttle proper rest swinging readokreadgood quality shuttes readbadreadoriginalreadnicereadnice superreadbest quality product thanks flipkartreadgoodreadoriginalreadlasting smash readnicereadpoor productreadhigh price compare products better buy similar product li ning lower pricereadgood qualityreadgenuine productreadawesome readfast devery thanks flipkartreadsupperreadgoodreadquality good price high excellent quality reliable tooreadgoodreadnicereadwowreadnice real shuttle yonexreadgoodreadrely tq flpcartreadoriginalreadgot original cheaper local marketreadsuper quality productreadok good productreadgoodreadexcellentreadsooperreadamazing offer genuine productsreadbetter brands segment readgood quality thanks flipkartreadsuper product love itreadgood itemsreadexcellent mareadfastest ever delivery ever recieved ordered yesterday received today thanks flipkart genuine product readshuttle give nice control readnice productreadgoodreadnice readgoodreadactually previous shuttles good time bottom damaged fast readvalue moneyreadawesome productreadgood readsuperreadgood product reasonable pricereadsuperreadcork bad qualityreadexcellent purchase job perfectly problem felt flying speed little less compared mavis shuttle purchased side ilreadlooking second qualityreadnice shuttlesreadgood quality satisfied paidreadusing product racquet broken fastreadgoodreadnice productreadreached time goodreadaveragereadgoodreadworth money nice productreadnicereadsatisfiedreadgood productreadproduct lower quality compare previous lock productreadawesome product best quality readdelivered fast product high qualityreadgood one recievedreadgood product price highreadworth pricereadnice product readsuper super nicereadproduct bit costly regular shuttle new sport clear idea whether last longer experiment assure best quality get price point go whole box last month regular player readnice durablereadoriginal product love readgoodreadokreadokayreadfantasticreadgoodreadshttles good quality look authentic local markets shuttles much better durable readgoodreadoriginal product intermediate good youreadsuper good playingreadexcellent original quality fast delivery even situation tq fkmlipcartreadworth readgood productreadnice durablereadgood qualityreadgoodreadgud shuttle readgood qualityreadpandemic time product yonex mavis easy find sports stores demand single piece please buy product got price quality good go itreadgreat product readthanks flipcartreadgoodreadvalue moneyreadgood qualtyreadgoodreadgoodreadawesomereadoriginal product yonexreadgoodreadnice quality brilliant good conditionreadgoodreadgood productreadnice productreadwowreadgood delivery service product also awesomereadnicereadbest readgood productreadshuttles good two waste money readyah bad better shuttle players r beginners extraordinary players readchecked code yonex sunrise india found product genuine quick decent delivery servicereadnice shuttles mavis good shuttles little costly problem better mavis worthy readgoodreadgoodreadproduct good price worthy readgood professional productreadgoodreadnicereadsuper shuttle readgood quality like purchased sports centerreadjst awesomereadsupperreadsuper productreadnice productreadsuper durable shotsreadgood productreadgood productreadsoon brokenreadget time readfast delivery corona pandemic something unbelievable readgoodreadproduct goodreadgood readgood original yonex shuttle readgoodreadnice product fast deliveryreadnicreadgood onesreadsuperreadnicereadbest nylon shuttle outdoor indoor readnormal items qualityreadgood productreadperfect day usage one worth purchase readgoodreadnice durablereadworth product value moneyreadquality goodreadperfectly pure qualityreadgo itreadnice pack go value money thnks flipkart readfast delivery best qualityreadthank flipkart quality product standard delivery readquality missed anywherereadgood productreadthisbis good product price much price readclassic chumma chiseledreadexcellent productreadgood productreadnicereadquality goodreadgoodreadproduct bad quality good expected earlier bought product used shuttle week product sure got damaged day please check needful asapreadgoodreadquality product good cork broken within one hours readgoodreadgoodreadnicereadnicereadshuttlecocks compete one terms flight durability exactness well balanced readgood productreadfirstly yonex best company badminton shuttle better yonex readgoodreadgood product thank flipkartreadunbeatablereadtimed delivery satisfyingreadnicereadprice would around betterreadnicereadsatisfiedreadok finereadgood terms durabilityreadgood qualityreadnice shuttles played games far without baby damage shuttles last another gamesreadnice productreadwell satisfied greatful flipkart hope future order also deliver right goods thankureadgood qualityreadgoodreadoriginal product going waste money feel free buy readsuperreadbest seereadshuttles missingreadnice productsreadgood productreadquality excellentreadperfectreadnyc productreadnothing much tellalways best product badminton readgoodreadproducts good qualityreadnice productreadquality shuttle upto mark also started deteriorating matches onlyreadawesome readgoodreadorgreadnicereadhappy good product yonex mavis nylon shuttle readcoolreadgreatreadsatisfied readnicereadgood shuttle defensive play better intermediate playersbeginner mavis bestreadnicereadalthough genuine product durability lessreadnice product durablereadnice product delivery delayreadgenuine product readwaste product suggest people bay flipkartreadused productsreaddurability good expected usually last daysreadgood best productreadgoodreadworst experience purchasereadgoodreadlong lastingreadsuper readgood qualityreadsupperreadnice product readawesomereadgood product price higher sidereadgoodreadgood one problem days readnice qualityreadsuperreadbest durability little slow similar flight feather shuttle tournament grade readusual awesome best among shuttles brands readsupperbreadexcellent productreadnicereadawsmreadnicereadgreat qualityreadgoodreadnice productsafe deliveryreadexcellent productreadgoodreadgoodreadokreadnice onereadquality goodreadoriginal product got happy deliveryreadgood service also nice readgenerally base broke shuttlereadgoodreadoriginal shuttle great experiencereaditems good qualityreadgoodreadgood onereadnice readgoodreadfinereadexcellentreadexcellentreadoriginal product good qualityreadshuttle good u play normally last week since mostly smash usually serious play lasting days would say go itreadnice service fast delivery appropriate item like line storesreadgood readinside shuttle local brand abysmal quality readgoodreadmust buyreadthanks nice readsuperreadbest shuttlecock playing indoor well use outdoor gaming readgood productreadgoodreadgood productreadbest qualityreadgreat dealreadgot genuine yonex productreadgood quality expected readgoodreadnice product advance deliveryreadsuperreadsuperreadgood qualityreadsuper shuttle strong slowreadgoodreadlovedreadnicereadgrt butprice increasing day day readexcellent product worth moneyreadgo good quality readgood quality readgood qualityreadgood bt price somewhat market pricereadnicereadgood readnice onereadsuper product plastic seal brokenreadgood quality product price increased little bitreadgreat qualityreadyonex coack good badmintonreadgoodreadmavis good productreadnicereadlil bit costly durablereadgoodreadshuttles damaged otherwise okay readpowerreadbest shuttlereadavaragereadbest product readnice onereadsuperbbbbbreadgoodreadsoo badreadgoodreadoriginal awesomereadnice productreadgoodreadbest best quality readgood qualityreadgood productreadgood quality rate little higher readdurablereadnice productreadmuch costreadgood product best qualityreadalways best readgood quality shuttles indoor play go readgood must buy readproduct nicereadgoodreadmust buyreadshuttles box crushed badreadgood product love readgood one readsuper qualityreadgoodreadgood price lowerreadnicereadnice shuttle good balancing shuttlereadbest product beginners playing outside readgenuinereadslow worstreadgoodreadgood productreadproducts good cap good long lasting shuttlereadfirereadsuper fast delivery un expectedreadsuperreadexcellent play readultimate shuttlereadsuperreadgenuine good productreadnice onereadgood product nd good pack thank flipkartreadsuper productreadless durable piece gone three daysreadbad product corcks ccracked one sreadoriginal shuttle nicereadnicereadgood qualityreadquality poooooorreadoverall good product however found one shuttle mark revolving like bullet waste money sure vendor selling genuine products readnice gm nicereadgoodreadsuper productreadnice marks quality durability readgoodreadgooodreadnice shuttlereadbest consistent shuttle cork regular players original product delivered shuttle used junior tournaments across world readsuperreadgenuine purchasereadshuttles green fast enjoying game little push lift shuttles going readabsolutely originalreadveryreadgenuine productreadgood quality original readgood qualityreadreally good quality shuttles readgoodreadsupebreadbad productreadgood productreadoutstandingreadgoodreadgood qualityreadindies best plastic shuttle every player like lockdown price highreadgoodreadsuperreadbuy putting adrenex shuttles inside return policyreadbase shuttle good damaged readsuperreaddamagedreadncereadexcellent productreadworst experiencereadquality goodreadhappy use give discountreadaverage quality productreadgood shuttlereadoriginal product thanksreadtime around quality low pack last hour probably nd quality nobody pays market price nd qualityreadservice good latereadgood prreadquality much difference buy shop flipkartreadproduct quality good price bit high readoverall good small holes cork may caused insectsreadwaste product buy product every cork properly fixed readgood original shuttlereadgood okreadgood qualityreadsuperreadfantastic original yonex hologram package fantasticreadcostly original shuttle rotating badlyreadoriginalreadnice shuttlereadgood one got time thanks flipkartreadnicereadproduct good price readexcellent condition shuttlecocks timely delivery genuine product quality assured flipcart readdurable readgood productreadgoodreadnicereadworst recieved damaged product waste money readsuitable indoor badminton standard players hated iam interest buy product againreadgood product doubt originalreadgood productreadreceived genuine yonex mavis verified scratch codereadperfect shuttle readlooks good durability worstreadshuttles box quite good long lasting readgoodreadchecked piece got originals thank seller readgot defected piecesreadokreadgood onereadnice product readgood qualityreadgoodreadgood costlyreadgood one bayreadgood always getting expensive every purchase readreceived package good condition shuttles goodreadflipkart assured really good readaverage ratingreadgud qualityreadwonderful shuttles play indoor outdoor also readgood qualytireadmuch costlyreadcheaf quality readsuperbreadgood prdt got readnicereadexpectedreadused order many times time quality good readrate highreadnice product everybody buy readgood productreadsuperbreadgood qualityreadgood game readgoodreadgoodreadgoodreadgoodreadgood product genuine readloosereadnicereadnicereadshuttle really good friends playing hitting hard smashes everyday shuttle life weeks buy readproduct quality nice delivery delay absolutely disgusting readgoodreadnice flipkart readtotally waste money poor quality shuttle slow moving even play single game one shuttlereadbest product readgoodreadstorereadworth money good qualityreaddurability superreadgood original speed qualityreadgoodreadgood quality reasonable price fast delivery readgoodreadliked muchreadsuper rate highreadnice product readgood sooper readgreat productreadnice product readbad qualityreadworth money always flipkart family thank ureadbadreadokreadoriginal quality one shuttle last atleast sets intermediate level readbad qualityshuttle life badreadbad qualityreadbest beginnersreaddelivered original sealed awesomereadone six speed others suit indoor readgood qualityreadpoor qualityreadgood qwalityreadgood quality genuine product yonex readgood came excellent packagingreadgoodreadgood productreadgoodreadnice productreadnice product slow deliveredreadnicereadgreat shuttle practice lasting sets heavy play readgood readgood onereadoriginal shuttle timely deliveryreadsuperbreadbest king king shuttlecockreadbad quality suggested low level playersreadproducts delivered good within time thank flipcartreadfelt authenticreadbrand remain awesome delivery schedulereadpoor quality shuttle head comes easily hopeless product disappointingreadamazing genuine product best price go ahead without thought readgoodreadnice product nd nce deliveryreadnycreadplaying going like rocket speed ground speed cork high readalmost readgoodreadgood quality value moneyreadsuperreadnicereadgoodreadgoodreadsuperreadgoodreadshuttles good condition even one game shuttle start wobble feel like mavis feels like cheap knockoff yonexreadgood qualityreadquality bad thos time shuttle became useless hour bad shuttles separated never expected flipkartreadexcellent quality shuttlereadgoodreadproduct packing goodreadshuttle unbalanced flightrest goodreadshuttles good easily gets worn games readgoodreadgood original ones understand higher price due current demand price still less compared retail outlets cityreadworst shuttles started wobbling first game buyreadawesomereadamazing product fully satisfied love flipkart marry readslow shuttle old material kidsreadgood shuttle outdoor long lastingreadgoodreadsuper qualityreadnicereadsuperb fresh article readreally good product yes really nylon shuttlereadoriginal onereadgoodreadfast delivery thankq readreceived good quality productreadnicereadgoodreadgoodreadgood productreadnicereadgood qualityreadgood productreadgreat experience product worthyreadsuperreadgood productreadnicereadnice withstands long compared mavis mavis anyone choose one long durability readnicereadgood readshuttle defectivereaddelivery boy good workreadoriginal sure readgood qualityreadgood shuttle readexcellentreadgood packing quick delivery flipkart drawbacks price high readgoodreadgoodreadoriginal mavis shuttle nice packing quick delivery readnice completely genuine readsuperb quality super fast deliveryreadprompt delivery product good readnice productreadgood qltyreadbad shuttle bad quality kids onlyreadgood one reached timereadthank timely delivered item good conditions readlike seller given best pricereadgood fast servicereadexcellent product readgood productreadvry nice product lov itreadbadreadgoodreadgoodreadsuper great readnice productreadgoodreadgoodreadshuttles slowreadnice durable shuttle come acrossreadgood onereadnicereadproduct original packing good yonex shuttle become expensivereadworst product received damaged one game received horrible onereadnice slowreadvalue money importantly originalreadawwssmmreadbad quality look like brandedreadgoodreadgood quality shuttles quick delivery flipkart delivery boy readgood qualityreadbad quality productreadsecond box received long lasting getting rs range check mfg date purchasing sure quality durability original ones better received readlocal brand shuttle got damaged two days piecesreadbad qualityreadgood productreaddelivered time good packing readfast explosion readamazing product flipkart readshuttles stain shuttle head readsupwrreadnice shuttlereadsuperreadexcellent performancereadgood qualityreadlow quality readnicereadgood mavis readaveragereadsimply superreadgoodreadgood products original shuttlereadworstreadoriginal produt im getting good prices compared offline storesreadsuperbreadokreadexcellentreadgoodreadgoodreadsuperreadgoodreadbest shuttle outdoor badmintonreadgoodreadgoodreadrecieved original product readnice productreaddeliever fast readgo buy nearest store good breaking quickly bad flight patternreadgoodreadexcellent productsreadproduct attractive amazingreadgoodreadsuperreadnice onereadnicereadnice productreadamazing readshuttle slow compared white mavis readgoodreadbad qualityreadokreadbest shuttlecock best pricereadnicereadokreadoriginal product want many please maintain qualityreadgd productreadnice workreadgoodreadgoodreadexcellentreadgoodreadnicereadsuperreadproduct delivered good conditionreadgood readawesome product readgenuinereadassumereadgreatreadsuperreadnicereadgoodreadthanks flipkartreadsee quality good price become high gave starreadokreadsuper productreadhappyreaddamage piecereadget right boxreadgoodreadnicereadquality perfect mentionedreadoriginal productreadgoodreadnicereadgood readsuperb readgood product readexcellentreadbest qualityreadnice shuttles readgood product readgoodreadreally good thanksreadgood fresh shuttlereadprice toooo highreadgoodreadlast expected cork good quality came nylon feather readgood productreaddurble shuttle readbetter buy reliable sports shop readgood qualityreadsuperreadlove shuttles really good durable readgoodreadgoodreadnice plz maintain price thankyoureadgood item received happy thatreadthanksreadgood qualityreadbest shuttle readnicereadshuttle quality good packing goodreadgoodreadbadreadhappyreadthanks quick deliveryoriginal productreadgood purchase genuine product fast delivery thank youreaddurable broken easily cost effectivereadnicereaddurable shuttle lost every matches edge gets cut base also cutting readquality shettle good exceptedreadgenuine productreadgood original productreadlong lastingreaddelivered time delivery executive pro active delivered security sensed meeting thanks guysreadbox damagedreadbuy product bad got bent days using itreadbedreadexcellent product must buyvalue money long lastingreadgood products played iti prefer buy onlyreadusefulreadnicereadawesomereadgoodreadtotally disappointed local plasticplease buyreadnice original productreadproduct goodreadquality goodreadsuperreadgoodreadgdreadgood productreadgood may god bless childreadreally goodreadsuper mavis thankyou flipcartreadnice productsreadgoodreadnice comfortable playing compare bestreadlong lasting good qualityreadgoodreadpoor quality readgood productreadabsolutely genuine shuttles last long strong loved worthy money readnicely sealed box looks genuinereadreal mevis readlow quality product one shuttle starts tearing games readgoodreadokreadnice n original productreadsuper go itreadawesome readworast quality badreadquality product value moneyreadgood productreadgud one thxx flipkartreadgood performancereadbest readgoodreadbest shuttle readnicereadgoodreadgood shuttlereadok original product readworth moneyreadgoodreadsuperreadusualreadperfect qualityreadthanks seller got replace orignal product required readbest productreadgood quality durability also readliked itreadshuttle slowreadgoodreadworth money spend buy good quality readgood product readexpensivereadnicereadlove itreadgoodreadprice high low durability got damaged dayreadnice product good playing survive days normal playing condition readlow quality product send shatels broken played games onlyreadgood productreadexpected ok readgoodreadbrilliantreadawesome product delivery superbreadeven green cap shuttles toooooooo slowreadgoodreadgoodreadgood qualityreadquality concern poor poor quality recommend buyreadnicereadexpected mavis liked onereadthank muchreadgood durable yonex mavis rounder price yonex mavis v get yonex mavis plus durable disadvantages matter u played yet prise gets low suggest value money momentreadaverage praductreadshuttles fast drift worst purchasereadgoodreadreally surprised speed delivery got product less hours full starsreadaveragereadsuper thanks flipkartreadcork worthy quality poor readbadreadoriginal ptoduct happy ty flipcart today received item seems superb playing shuttle post review whether genuine readsuperreadgood job reached purchase delivery date keep upreadshuttle speedreadgoodreaddamage product givenreadgood qualityreadgoodreadprice highreadnicereadbadreadgood shuttlereadgood quality productreadgoodreaditem upto markshuttle demaged days think stock new manufactured yearsbackreadsmart buy readmavis slow feathers rough shettle flies outside court easily play proper game readthank flipkart arranging replacement upgrading stars please ensure incidents happen readgood qualityreadgo fast product gud rate high iam satisfiedreadalways better shuttlereadgood shuttle outdoor always playing mavis great shuttle white better green readgenuine yonex shuttle verified code sunrise website readgoodreadsuper quality good durabilityreadexcellentreaditna kash nai nimit okayreadgood thanksreadgoodreadexcellentreadgoodreadshuttle speed lower anticipates compared normal ones brought store complete waste money readperfectreadexcellentreadgood qualityreaddamaged products readpoor quality buy thisreadnice product timely delivery readdamaged quickly played hardly matches per shuttle readproduct goodreadorginal product readvalue moneyreadgo readgoodreadgoodreadreadfavorite everreadnicereadgoodreadgood durable smashingreadawesome productreadwaste moneyreadnyc productsreadgoodreadprice highreadgood productreadokreadbest qualityreadnicereadtooo bad quality running days onlyreadyar suttle good price high normal studentreadmarkreadgood excellentreadokreadmmm okreadgood productreadgot genuine product even import stamp says december even shortage shuttles import readgood quality delivered within hreadnice n genuine productreadnyc productreadgood compared shuttlereadwaste moneyreadexcellent flight carry good practice readgoodreadgood morningreadgood product old product faced lots problemsnot expected type problemsreadone shuttle goodreadgood quality productreadgood quality readproblem looking like goodreadgud product shuttles brand newreadgreat readexpected product readdefinitely original product got fooled localsreadone broken readgood costlyreadoriginalreadgoodreadgoodreadalways best usualreadnicereadbad product got two days durabilityreadperfect shuttle beginners intermediate players readstick days shuttle readslow speed nicereadok little bit slowreadgood quality readalways awesome product readawesome productreaddurablereadgreat value money readnice product superrrrrrrreadbadreadquality good readold product bad quality broken one match one bought market good brought flipkart bad never ever buy shuttle flipkart readosamareadwow super super superreaddelivered time value money go readsprreadgoodreadsupremereadone costly gamereaddamaged itemreadgoodreadgood itemreadgood qualityreadgood choicereadgood one orginal product readwonderfulreadgood quality product readgreatreadgoodreadsuperreadquality shuttlecock good games skirt damage become unbalanced unplayable readk betterreadgood shuttles readitem note qualityreadsuperreadgood expected readbad products readshuttles failed miserably one miss hit shuttle skirt broke bottom core readbadreadone small small hole shuttlereadgoodreadgoodreadacceptedreadgood readnicereadoriginal good qualityreadgood productreadatom missingreadgood productreadnothing better readquality going day dayreadgoodreadloved itreadnice productreadgreatreadcostlyreadnice productreadgoodreadoriginal product got fully packed yonex hologram quality product relly nice readgood bit costly year readgoodreadgoodreadawesomereadgreat purchasereadroll games tear way pls provided original quality readbest productreadbadreadgoodreadnice shuttle base goodreadgood qualityreadexcellent shuttle outdoor play readfine qualityreadgood productreadgoodreadpoor quality readgenuine product receivedreadaccording price quality goodreadoriginal quick deliver satisfactory buyreadgood productreadgood productreadgoodreadsuper readreally good durability good compared buy amazon really know difference good thank flipkartreadquality goodreadnice productreaddelivery quick absolutely packing nice quality excellent readquality poor duplicate productreadgud productreadbad holes wooden part course fast damag wooden part damaged fastreadsix shuttles goodreadworrest productreadgoodreadupon time unbreakable month usage new one last weeks tops moderate heavy use p talking shuttlecock whole pack readsuperb productreadbest badminton preparationreadgoodreadoverall good readgoodreadgoodreadgoodreadgood productreadnicereadnice readawesomereadbest quality original awesome readfelt total shuttles genuine readnicereadnice product originalreadseems like shuttles store quite long time cork became hard shuttles survived games totally dissatisfied readgoodreadgoodreadworst shuttles received pls check received whether new stock old readgood product time deliveryreadnice productreadpoor quality shuttlereadgood quality shuttle last upto days play hours daily readsuper qualityreadmom liked much readcorks goodreadperfectreadgoodreadnicereadquality goodreadgood outdoor gamereadproduct good return replacement policy badreadspeed fast waste cashreadnice one time delivery happy readnicereadnice productreadgood productreadworst shuttlereadcoke never use long runreadfeather quickly damage maximum days readgood productreadbetter professionalsreadreceived original shuttle cork thanksreadbadreadbad experience mentioned slow shuttle actually fast good gamereadgoodreadreal worth goodreadyr durability bad disappointed readgoodreadusing cheaper shuttles barely lasted week thought enough make investment time around buy good ones almost play every evening brother less min first one lasted months still holding well go iam vouching longevity quality readbad qualityreadnice productreadsuper productreadgood quality expectedreadgoodreadgood quality thanksreadsuperreadworst product base every shuttle came within games playingreadgoodreadnicereadbest productsreadv goodreadbad low quality productreadsuperreadused break feather shuttle everyday shuttle took one week used play rsl dint find much difference shuttles playing also played mavis green cap shuttle used feel little bit heavy felt jerk playing shots readtime favoritereadgood product supperreadcost increasing day day like gold rate readnicereadquality shuttle good durable readshuttles delivered decent quality readgoodreadsatisfied like originalreadproduct excellent readgoodreadlife time shuttle less u play good gamereadgoodreadgoodreadworstreadgood productreadflight good lasts long durability poorreadgreat productreadquality product bad nt yonex mavis guys cheating us plsss dont buy product readsuperb product received expected time readbuy shuttles slow worth moneyreaddurable economic good readawesomereadgoodreadbest ballreadgoodreadgoodreadawesomereadgoodreadexcellent product better accepted readawesome productreadoriginal productreadgoodreadnicereadgood productreaddelivery fast awesomereadgood quality valuable pricereadsuper productreadgreat product beginners intermediate players good quality really satisfied readgood quality durabilityis lasts upto games playing doublesreadnicereadnicereadnicely packed welly delivered loved shuttles good conditions readshuttle much bad much good ok okreadgoodreadgood qualityreadgood original productreadsatisfyreadgoodreadbad qualityreadpoor even set play shuttle much worse productreadshuttle damage time playreadgood quality readgoodreadamazingreadgood product quality alsoreadreally disappointing shuttle lasts hard practice matches instead practice matches poor readgood product durability goodreadnice productreadslow good playing outside open courtreadbetterreadgoodreadgoodreadsuperbreadnice productreadgood qualityreadsuper producyreadgoodreadsuperb readnicereadawesome product yonex readawesome productgenuinereadbad fast poorreadnice light playreadbad product shuttle low qualityreadgood interest playersreadnicereadsuper product bought use product green slow good product door playing readgood quality pruduct good playreadgood productreadsuper productreadgood product thanks flipkartreadmust buyreadgood product good platform shopping good quality thank much readnicereadbest qualityreadshuttle already damaged even playing bottom side shuttle cracked buy shops check shuttle purchasing readdont buy got used shuttlesreadgoodreadlove youreadgdreadgo itreadnice productreadgenuine product verified positively sunrise tnt best shuttle regular play cost effective due durability also life shuttle depends less mishit shots better shuttle last longerreadgreat product usualreadlong lasting best shuttles much better expected thanks flipkart readbest deal readgood health try readwaste product fast shuttle vendor cheatedreadaverage readsuperbreadnicereadquality good product expected play properly shuttle come week depends play duration may change readperfect readgood one timely delivered readgood productreadexcellent qualreadnice one must buydont play wet placesreadnice product great playreadgreat original product fastest delivery within daysreadgoodreadproduct old one back side gets corknot goodreadgood productsreadcost increasing bad productreadgood product quality perfectreadperfect plzz buy product readgoodreadexpensivereadgood qualityreadpoor qualityreadnicereadgenuine productreadsuperreadgoodreadpoor quality readgoodreadalways goodreadbroken quickly sometimesreadnicereadtotal disappointment match came tearreadgood qualityreadquality cheap value money productreadwonderfulreadawesome purchase mind blowingreadsuper quality goodreadgood productreadgood product readdurable hate productreadgoodreadgoodreadnicereadgood one used outside playing meet price readgoodreadbad qualityreadnice productreadfirst shuttles even last mins one defective cork readfast delivery within daysreadold stock delivered readfeel cheated time shuttle seem rotate easily readnice product dilevery slowreadquality good got broked days opinion worth readgood productreadgood productreadreally goodreadgood productreadperfect shuttlereadshuttle low quality getting good shuttle readgood onereadgoodreadbad productreadusefulreadlittle heavy fastreadreceived product per descriptiongood sellerreadokreadexcellent productreadhesitate superb quality junior professional star readgood qualityreadgood onereadsuper good one readthanksreadwellreadnicereadbad productreadawesome productreadlight weight durablereadnicereadchoice want best shuttle go long lasting nd professional smashers readshuttle goodreadnicereadgoodreadproduct cheap copy productreadbad qualityreadnice productreadbad quality poorreadoriginal product verified site readproduct quality markreadshuttles broken readexpected yonex mavis thanx flipkartreadgreat outdoor alsoreadexcellentreadoriginal productreadsuperb readnic shuttle corkreadsuperreadlocal totally burstreadgood quality product readgot seemed fake product shuttle sturdy compared people using mavis green cap disappointed purchase readbadreadgood productreadgoodreadtravels perfect height distance issue long lasting like one buy open stores kind last matchesreadgood qualityreadflight good using regularly perfect indoor issue best marketreadgoodreadv goodreadthanks flipcart got original productreadusual nothing say quality product buys one pack every month highly recommended intermediate players readcant play days readnice shuttle readgreatreadgood productreadsupperreadnyc product thank much flipkartreadgood quality productreadgoodreadgood quality product must tryreadnormal coolreadone best shuttles bad properly attachedreadnicereadshuttle good price good compare marketreadnice productreadflipkart proudak good quality like readgoodreadgood qualityreadgood product readbad shuttlereaddays mavis low quality brocken crok two matches cork box useless bad product please improve quality old readnicereadgood flight low suitable beginnersreadnice product thanks flipkartreadnice productreadexcellent product recived seller gret dilivery flipkartreadnycreadsuperb productreadgood product correct speedreadsuperreadprofessional shuttlereadcoke per original cannt play days quality good readgoodreadgot described readvalue moneyreadgood enough nothing nothing less readsuper productreadnicereadbest quality productsreadsupr qualityreadgood readgood product readgoodreadgood qualityreadgood one readquality goodreadgood productreadblindly go indoor outdoorreadreally nice product mereadawesome readgoodreadsuperb qualityreadbottom sole hard readget perfectreadbadreadbetter yonex mavis ireadgood productreadbestreadgood shuttle forever readgood got market price readexcellent quality readoriginal productreadyonex yonex comparison good service timely deliveredreadgood quality productreadokreadgap fork featherreadone six shuttle damaged bottom part shuttle got separated readsuperreadordered two boxes one good box shuttle didnt spin well go good experience purchase boxes onlinereadgood qulit better emporve qulatieyreaddelivery good product excellent readnice productreadgoodreadgreat perfect defectreadniceeereadokreadgood productreadshuttles ordered tags fine weight quality worse wasted two weeks using thosereadoriginal product received time readfabulous go readalways great fun play sreadperfect orginal product deliveryreadunexpected price thanks flipkart readrecommendedreadweight little light expectedreadgoodreadnicereadgoodreadbestttreadnicereadsimply superreadbest pricereadgood productreadgood productreadbad product think local made quality wood poorreadworthreadpretty good using month really durable readnice long lastingreadsuper productreadgoodreadgive three star product damage carefulreadawesomereadbought flipkart totally bought pricereadgoodreadnicereadgreat need long durablereadthank youreadnice productreadgood qualityreadper expectationsreadexcellent readnice product readmarkreadexcellent got bbd readoriginal productthanks flipkart readgoodreadgood qualityreadnicereadbad shuttle damaged gamereadawesome productreadexcellent packing time deliveeyreadnice product readamazingreadrunable lastingreadgood onereadslightly seepreadnicereadnice better strength u pay practice ever u wantreadnice onereadnicereadmast qualityreadbad productreadawesomereadnice packaging quality product readbottom bud plastic better buy another modelreadlight weightreadverynice productreadsuper product readalways damagedreadgood productreadshuttles really good intermediate players good durability strength readworst never used waste mavis corks rotating trust please sell decent ones readnice qualityreadmavis shuttle pricing best packaging minimal first time many orders damaged one end one side open lid smashed know authenticity durability time know using shuttles readgood qualityreadsuperreadexcellent productreadgood original genuine yonex mavis slow product readdadly bad productreadhappyreadgood quality readalready used readrd class quality shuttle upto expectations shuttle breaks less days readmuch satisfied good quality readgoodreadoriginal qualityreadplaying outdoor six balls original less weight games ball fully damagereadupto mark capable playing indoorreadgoodreadnice onereadsuperreadvaluable product worth money good quality shuttles personal opinion go penny valuable readokreadsuperreadbad qualityreadexpected durable gamesreadexcellent product good qualityreadyeah genuine product surereadperfect highly recommendreadgood productreadgood bug sreadgood shuttle readreally durable tried lot shuttles li ning cosco even yonex one durable little costly go budget forgot add got around nice pricereadgoodreadsuperreadyonex always great one heartsreadworst packing shuttles damagedreadgood please limit price readnicereadwaste moneyreadgoodreadgoodreadproduct okreadproduct good genuine readsuperreadgoodreadgoodreadprice goodreadnicrreadgood product recommended purchasereadgood value moneyreadbest paisa wasul readgoodreadgoodreadmuch costly looking alternativereadokreadgood quality shuttle unable verify product given websitereadgoodreadbedreadgood productreadnice productreadsuper readnicereadnicereadsupperreadwont last outdoor courti prefer mavis readbest preference original yonex best quality readbad product waste moneyreadloveditreadgoodreadnice worth moneyreadgood productreadokreadvalue money shuttlereadrally goodreadgood market price got nice buyreadnice productreadmedium quality readgot used product purchase readokreadproduct good delivery time take daysreadawesome productsreadgoodreadproduct original recieved one day estimmelivery time delivery boys behaviour good purchased readfirst look first taken corck good balance shuttle way better shuttle readwell packed quickly delivered quality product good expected readcorks r slightly damaged others r okayworth buyreadgood onereaddelivery fast good price muchreadperfect originalreadgreat product deliveryreadseems ok looks would rewrite using whole tube shuttle readnicereadfirst use cork become loose skirtreadwell shuttlereadgood quality satisfied productreadnice product original product readexcellentreadmavis indoor purpose good outdoor players also uses air playing time ok good product readsupebreadgreen capreadnicereadnice productreadgoodreadgood quality product shuttle looking perfect without defects using past days still even many smashes many hours play shuttle holding shape properly readgood indoor outdoor wellreadgood price much highreadlove itreadtragectory flying ultra smooth comprising little durability cork survive hr daily play dayreadgenuine productreadgood productreadsuperreadnicereadgoodreadnicereaddont buy local shattle second qualityflipkart cheat mereadgood original product low prices thank youreadthank much timely deliveredreadamazingreadsuperbreadproduct good disappointed flipcart delivery man taking extra charges cash deliveryreadnicereadproduct good practice compare feather cork readquality goodreadproduct good lite requared readsuperreadnice product good servicereadgood qualityreadgood qualityreadgoodreadsuperreadsuperreadbadreadgod quality good response readbest prisereadbetterreadsuper produced readtaken weeks time deliver product product upto mark buyreadbest balanced shuttle readgood readbestreadgoodreadgood productreadnice shuttlereadbetterreadgood readnice one readexcellent product fast deliveryreadnicereadnice readgoodreadsuperbreadgo itreadbetter quality otherreadgood lightreadgood quality readnice productreadshuttle really slow better playing indoorsreadproduct originalreadnice productreadgood productreadgoodreadgoodreadgoodreadgoodreadgood quality product worth moneyreadhumbly thanks cool productreadbest rangereadshuttle break fast better mavis ireadtnq fast delivery exact productreadexcellentreadordered slow shuttles fast disappointed time moving forward see alternative readgood durability fast recoveryreadgoodreadshuttles inside barrel good like try play rotating readworst qualityreadgood product quality practice shuttle work min days playing intensively readgood shuttlesreadsuper qualityreadgood readnice productreadgood productreadgood prodactreadgood enoughreadgood itemreadnicereadpooor quality already finished box days readnice shettles maintained quality till matches think maintain quality contineous totally good product thanks flipkart seller readnice shuttlereadgood productreadoriginal itemsreadper expectations lil hesitant buying online great experiance genuine product readnumber productreadyonex always first choice readgood qualityreadbest quality product yonex readbad qualityreadbad product got damaged within return period also played heavily worst flipkartreadworst productreadbad quality playing days damaged readaverage quality palay game roughly readgood onereadnicereadgood choicereadworth amount invested great quality productreadsuperb collectionreadgood playreadgood shapereadgood productreadgood qualityreadgreat productreadsuperreadnice readoriginal product graet felling happy readawesomereadgood product yonexreadgoodreadexcellent product worth pricereadamazing outdoor gamereadyellow nylon shuttle much reliable whitereadgenuine product subsidised price thank flipkartreadgoodreadgoodreadgood qualityreadsuperreadreally nice shuttles almost one half months passed still playing first shuttle took box light hitting around hour daily readnicereadgood productreadneed slowreadnice one readgood productreadgoodreadv goodreadgood quality shuttle good price readnicereadgo highly durable quality good readnice productreadbest available market readslowreadnice one good packagingreadsuperreadexcellentreadgood quality productsreadlast long kids college students finished shuttles within month readgoodreadgo awayreadbest business one shuttle lasts least hard smashing matches even shuttle remains one piece actually change rectifying balancing issues readnicereadreally amazingreadsuper nice readfabulous slow shuttle best categoryreadexcellentreadsuperhit product superfast delivery flipkart nice experiencereadsuperreadgoodreadquality good recommend itreadgoodreadgot within days order quality nice blindly buy itreadsuperreadsuper goodreadproduct good shuttle mavis green color awesome product loved much one negative sometimes gets disappear white led light playing kind green one readnicereadgoodreadsuperreadexcellentreadnice product n delivery fastreadgood productreadgood shuttles excellent indoor windfree outdoor badminton games readawesomereadshuttles genuine follow steps check whether genuine readgood qualityreadgood product readgood quality thanks flipkartreadsuperbreadnicereadnicereadgr productreadgood product better quality readhyper delivery good quality packaging quality nylon shatilareadgood one us play outdoor everyday constant play hours shuttle lasted three weeks play professional play hard us really good hit shuttle rod well still shuttle good one point removed plastic starts get ruptured price within middle class range little higher readgoodreadlooks nice new packing fast delivery daysreadfantasticreadawsome precision readbadreadgoodreadwen purchase rd time quality bad even stand game readgoodreadgood quality delivered days less shop pricereadproduct delivered expected delivery within hours received genuine product expected thanks flipkartreadgood qualityreadwonderfulreadsuperb product good quality reasonable price readgoodreadgood productreadballs r good qualityreadawesomereadsuitable indoor highly recommendedreadoriginal product thanks sending original products readbestreadgood productreadgoodreadgreat product reasonable price cheaper offline purchase good delivery service wellgo grab itit great deay readbadreadnice readfinereadokreadgoodreadgoodreadgoodreadist time purchased got original product month nd time purchased got duplicate product readnice shuttle buyreadexcellentreadgood product genuine readsuperreadexcellent shuttles using since years best quality readsatisfactionreadnice shuttles reasonable price excellent qualityreadbox pieces lightly damagedreadgoodreaddamages readsuper cockes white nis projectreadawesome shuttlereadnicereadworth moneyreadgoodreaddays duplicate comingafter one game become rocket readpro levelreadgenuine quality super fast delivery readgood use nice productreadgoodreadsuperreadsuperb high quality productsreadnicereadgoodreadclean neat received exact advertisedreadsuper best qualityreadbest productreadgood qualityreadorginal onereadnice productreadgoodreadgood qualityreadgoodreadgoodreadawesome readnice product must buyreadquality product readperfectreadgoodreadthank vishnu nice delivered productreadgoodreadsuperb qualityreadtx product price costlyreadnice productreadgoodreaddurable quality satisfying readexcellent workreadsatisfied productreadnice product price quite high marketreadshuttles genuine pls go head one want buy readgoodreadmust buyreadgood qualityreadgood qualityreadevery time r fecing problem order teking ru like ur bussiness r orders perfect payment u take ordersreadgreatreadgood readsuperreadnicereadbeautiful productreadoverall product good price bit highreadbetterreadold stock medium speed practically fastreadgoodreadgood qualityreadgood play durable long lasting readgoodreadcheap best product ever find rate shopping sites thank flipkartreadgoodreadreally good product readnicereadnice onereadgood original productreadnicreadyonexxx yonexxx compare others readyonox yonox great qualityreadvalue money nice cork worth itreadlong lastingreadnicereadgood quality lasted matches single cork readmedium speed eventhough green capno consistencyreadsuper originalreadgood one feel speed different green vs whitereadbest quality superreadgoodreadlove products readbest buyreadgoodreadgood expected readquality cheating worst moneyreadquality good delivery quick readgood product delivery due date planning purchase mavis movies please waste go readslow shuttle feel dulicatereadnice productreadshuttle nice well packed thanks flipkartreadgood go itreadbest choicereadsuper slowreadawesome readsuitable open ground practice feels heavy weightreadnicreadoriginal productreadgood product affordable price rupeesreadgoodreadgood qualityreadbest open groundreadexcellentreadgood quality play hours vigoursly daily shuttle last days played vigoursly smashes otherwise days shuttle th shuttle box ordered retail net lot price downs think due huge demand readgood genuine shuttlereadoriginal one failed sunrise test unable scratch hologram get code readgud qualityreadbetterreadsuperreadexcellent readgoodreadproduct reseaved bad readnicereadgoodreadperfect original fast deliveryreadnice shuttlereadgreen b slow fastreadgood qualityreadnice product readnicereadnice readnicereadgood qualityreadnicereadbadreadbad every day one gets damagedreadgood long lifereadgood onereadgood one readoriginal price muchreadgoodreadgood productreadnicereadgood productreadabsence mavis best product readfirst shuttle use bit fast nd third good play appropriate speed good use go u r national player readshuttle partially manufacturing defected product looking original seller pay attention customer paying amount shuttle readgood turst itreadworst product think mavis durable average shuttle thought mine clear blunder lasts least day cork broken set play plays indoor go otherwise donated money flipkartreadokreadgenuine product readgoodreadsuitable play reasonable price readpurchasing shuttles flipkart long time quality shuttles lacking recently may buy anymore due lack quality readfast delivery thank flipkartreadgood productreadgoodreadnice onereadfinereadgoodreadworthreadimportant month delivery month totally new readproduct good like much flipkart brand app think think always good perfect keep readgood qualityreadfelt good one cork speed different cork readcheck original fakemine originalreadsuperreadwhite one bad worthless better go yellowreadgood product good price quality also good perfect playing readgoodreadnice productreadoutdoor coats shettel badreadgood qualiyt readgoodreadgoodreadgood product readshuttle vey durables even u play rigorously lasts days light n good play readgenuine good goes long way readplaying good short life may old stock use long time lasts days easily time shuttle stands hardly days shuttles goes way cork breaksreadnicereadquality product readokreadgood package good productreadthanks yonex best indoor outdoor one go product blindlyreadnicereadgoodreadgood one delivery tooo late readnyc productreadgood onereadnicereadsuperrrrbreadgoodreadexcellentreadgood productreadgood qualityreadgoodreadnice product readgud readgoodreadrecommendedreadvalue moneyreadnice good shuttlecock fast delivery love thank u flipkart deliveryreadsuperreadgood value money speed delivery readbest qualityreadflexiblereadsuperb readgood onereadnice qualityreadsimply perfect readnice durable specifically effective beginnersreadfantasticreadget damaged fast readrubber qualifyreadsuperreadgood quality faster deliveryreadwaste waste waste loss money buy guysreadalways best buy flipkart right place thisreadexcellent product readgud readshuttle good quality rubber part also smooth paly readawesome must buyreadworstreadgreat pricereadloved readpackage good sent latest mfg part readsupperreadgoodreadpacking worstreadnice shuttlereadsuper dealreadgoodreadexcellent productreadhighly durable buy morereadfeel better playingreadgood product original good price marketreadorder delivery completed hours great flipkart readbest qualityreadstill goodreadnice fast delivery flipkart delivered next day small city banswara rajasthan superb star delivery readgood quality readbest product flipkart players continues play per day hour day one cork readgood onereadgoodreadosm product readgood jobreadgood onereadvalue moneyreadgood productreadgood productreadgood slow pref fast one overall goodreadbest one readgood productreadquality productwonderful deliverydelivered timegood packagingreadgdreadnicereadgoodreadproduct perfect regular badminton players indoor atmosphere readsimply awesomereadproduct received good readmainde blowingreadgud productreadnicereadexcellent productreadgenuine product yonex durable shuttles readbottom part use come white smashreadnice specifyreadhighly durable great quality loved readbestreadpoor qualityreadusing weeks far performance okay good shot strength easily recommendable durability checked readstrictly made meet indoor conditions buy u playing outdoor conditions readgoodreadnicereaddelivery service simply superbreaddelivery boy helpful readbad product quality good readnice onereadlooking cute also playing greatreadgood product readgood readgood one damaged shuttles goodreadreally good recommended bought againreadgood jobreadsuper must buy thanks flipcart good service super fast service never readevergreenreadexcellentreadbox shuttlecocks changereadmavis massive shuttlereadnice productreadexcellent slow moving durable productreadnicereadquality vevy bad whyreadgood product must buy readgood productreadgoodreadgood quality durable product readeconomic higher cost causes less people attract bedmintonreadawesome product readbest qualityreadgood productreadgood product thank flipkart sellerreadsuperreadwellreadslow shuttle nice productreadpowerful shuttlereadgoodreadtimely delivery satisfactory paying conditions readreceived sealed pack thanks flippcart seller readgot product days heavenly awesomereadnice productreadsatisfiedreadrightly priced good quality worth buy daily usage durable readsuperb durablereadnice productreadabsolutely fantastic readfantastic product plastic light weightreadgoodreadgoodreadmuch exepensivereadgood one best choice super qualityreadnice product tq flipkartreadbest shuttlesreadwonder fullreadgood expected readgud onereadones time booked item rallinet cheat send dummy product box yonexreadgood purchase readgood qualityreadnicereadexcellent product love delivery flipkartreadpoorreadsuperreadok ok yellow colour best compared thisreadgood productreadnicereadgood product worth buying readgood productreadgood product good pricereadbest buy original productreadgood expectedreadsuper long lifereadgood lasting readgoodreadawesome experience readbadreadgood qualityreadgoodreadmind blowing super fantasticreadgoodreadgood productgood coveringreadgood product readbest qualityreadbest qualityreadthanks flipkart fast delivery one day thanks ekart corrier alsoreadgoodreadnice quality awesome yonex yonex baap baap readgoodreadexcellentreadgood productreadslowreadgood product packing little damaged internal product found safe readbadreadgud need liitle bit imporovementreadnice product readgoodreadgood quality stuffreadgood shuttle intermediate users readgudreadnice yonex better first confused much last frnds ordered product nice doubtreadbrand wordsreadmust buyreadgood bit expensivereadvalue moneyreadexcellent buying product ordered another packreadgood quality readgenuine productreadsecond time deliverd orginal product thanks flipkartreadgood qualityreadgoodreadone day late delivery okreadnicereadgot original product checked sunrise com go itreadgood quality productreadgoodreadbuy item product missing readright product send sellerreadexcellentreadgoodreadgoodreadsuperb shuttlesreadnicereadnicereadgood enough playreadokreadnice productsreadnyc onereadgoodreadyonex r using since yrs good quality better price open market shops better select slow playing outdoor shuttle readnicereadsuper cheap ratereadknow durability need mention go itreadhappy got reasonable price hope get product pricereadnicereadgood timely delivered thanks flipkartreadawesomereadsuperreadgoodreadgoidreadgenuine product thank flipkartreadnicereadnycreadbest quality high price readgoodreadgoodreadsuperreadbest shuttle toreadgood productreadmaximum daysreadnicereadnice product using yearsreadbest qualityreadgreat product durable light weight readquality shuttles speedy delivery flipkartreaddelivery done super fast price keeps increasing regularly worrisomereadnice product feather top mostly damagedreadgood beginners time pass players flies slow want play fast game pick faster one quality really good come hours play bought bit high slow version readnicereadnicereadvnicereadnicereadsuper readreally fantastic readevery purchase rate increased product quqlity goodreadproduct quality goodreadgoodreadwaste shuttles old wet shuttles sell type old useless products sorry say next time sell good productsreadgood product costly readshuttlecocks faster indoor court readpremium shuttle longlastingreadgoodreadquality goodreadgood qualityreadgoodreadproduct goodreadsuperreadgoodreadbest shuttle market one near yonex readrate costly compare regular price helpful u reduce price readawesome productreadgood productreadfabulous work flipkart great product great packing lot appreciation flipkart readsuperreadnicereadthank flipkart saler super quality low pricereadwonderfulreadsuperreadexcellent purchase readnicereadgood quality shuttles best indoor nylon shuttlesreadnicereadgoodreadgreatreadgood one outdoor play also indoor play good shuttle play confused difference readgood quality readgoodreadbest shuttles used lifereadsuperreadgoodreadgood qualityreadty flipkart got genuine productreadbadreadoriginal dummy item purchase readbest begginer middle class player packing good shocked delievery flipkart deleiver within hours amazing quick service flipkart delievery readgoodreadnicereadsuperreadgoodreaddelivery time quality match yonex trustworthy originalreadbest price excellent qualityreadnice one buy thinking even twice readindoorreadlong lasting good trajectory well balanced shuttles must buy productreadnicereadsuper qualityreadvalue money starsreadgood productreadnicereadgoodreadgood product reasonable pricedreadsuperbreadnice productreadgood productreadbest qualityreadgreat outdoor playingreadgoodreadperfectreadperfect allreadbest budget readnice product happy product readgood qualityreadgoodreadsuperreadbad paking bad readgood shuttle time upper lower parts get differreadquality issuereadbest money weight like holding pen delivery fastreadgoodreadawesomereadgood productreadgoodreadvalue money readold stokereadgoodreadokreadgood readsuperreadawesome product expected great shuttle speed durability must buy readbest levels playersreadgoodreadgood productreadgreat like itreadnic productreadgood one readxcellent productreadbeginners intermediate player use effectively good play conditionsreadbest product h maja aa gyareadgood qualityreadbest marketreadhappyreadnice onereadworst item old stockreadgoodreadnice productreadnicereadcork waste buy bought times cork worst broked matchesreadnice onereadexcellentreadavgreadnice shuttlereadbestreadgood quality shuttlereadpoor qualityreadsatisfied qualityreadnice productreaddifficult find genuine shuttles days ordering shuttles seller past year almost shuttles received till date good speed badminton lover may feel annoying shuttles box different speeds happy smashing readsuper readgoodreadnicereadgood beginners although play feather good fast enough readold stock shuttles got damaged easilyreadsuper qualityreadbestreadawesome guinine product readgoodreadwords say always bestreadquality mediumreadnicereadexcellantreaduseful practicereadfabulous product readmuch long lastinga must buy productfull paisa vasool productreadawesome usualreadbest yonexreadgood product genuinereadquality goodreadnicereadsomething wrong shuttle shape changes one two set plays buy itreadbest classreadoriginal productreadgood product readsuperreaddelivered time nice productreadgood using one week readgenuine product verified using scratch code shows original quality also expected readdelivery quick agent behaviour good wellreadsuperbreadcheaper market originalreadnice productreadvvvvvv goodreadgoodreadgood productreadexcellent purchasereadgoodreadnice qualityreadnice durable must go itreadgood quality superv lifereadgood product worth readperfectreadvarry goodreadgoodreadgoodreadawesomereadfinereadgood product readgoodreadgood productreadgood durable productreadgood productreadgoodreadbest outdoor playing good readgoodreadosm productreadnice product well experience flipkart thank flipkartreadgoodreadgood delivery servicereadnice product loved itreadgood timereadnice according price moneyreadgood readgood durablereadexcellent productreadnicereaddelivered time happy delivery servicereadgood product time stability increased becomes perfect product readauthenticreadvalue moneyreadgoodreadgood productreadfinereadawesomereadnicereadgreat product durable quality also good compared local marketsreadquality uptoreadbadreadawesomereadgoodreadbest productreadlast got although late due lock delivery man mr jp good soft behave person thanks jp readbetter shuttles another shuttlesreadsuperreadgreatreadawesome product trust worth every penny spend durable heavy enough retains form even long day play readgood productreadgood products good price outside market mainly lockdownreadnicereadokreadgood productreadoriginal nd qualityreadya goodreadokayreadworstreadexceptional shuttles good outdoor performance e natural wind outside good aerodynamics anfd flight trust yonex rough toughreadawesome shuttle durable tooreadnicereadgoodreadgoodreadquick delivery good delivery person nice quality go readusualreadgoodreadfelt like originalreadbest shuttle good product best quality fastest delivery day delivered next dayreadgood quality shuttle one shuttle goes weekreadgood produvtreadgood online product pictures clarification must necessaryreadgenuine productreadfabulous go readawesomereadnice productreadperfect indoorsreadowsome product best range readexcellent productreadbetter life using perfect playreadawesomereadone shuttle medium quality four shuttles great searched scratch code sunrisetnt website found genuinene readnicereaddelivery fast original productreadnicereadsuperb original ordering doubt whether would get right product opening understood original playing highly satisfied thank readgoodreadgood productreadoriginal productreadnicereadgood readnice readnicereadsuperb original quality readworth moneyreadworth price lessreadnicereadexcellentreadexcellentreadnice productreadbest experiencereadbad repeated order send cheap quality shattelsreadexcellent readgoodreadgood qualityreadbadreadcheapest rate ever best outdoor cork readnice product specially good choice smashesreadsuperreadquality ok cost product highreadbest shuttle playing outside readnicereadbadreadgood productreadnicereadgood qualityreadgoodreadregularly playing mavis durable good cost effective lasts gamesreadweight quite hight though written slow quite fast good readperfect thank productreadgoodreadbest smashreadsuperreadnice product readnicereadquality good like original one readnice product bigginerreadgood poductreadgoodreadawesomereadgoodreadoriginal nice productreadgood productreadnicereadlittle slow overall goodreadnicereadgood product delivery latereadshuttles good readoriginal product thanks flip cardsreadexcellent work flipkartreadgoodreadmoving quick better experience mavis ireadokreadfinereadgood product flipkart thanks faster deliveryreadnice qualityreadgoodreadgoodreadgood productreadgoodreadnice readexcellentreadawesome product highly durablereadnice product better pricereadnice product good performancereadgoodreadgood onereadgood productreadgoodreadniceeereadgood shuttlereadgood one readnicereadbeginning like shuttles happy buy readsuperreadthink people know product play badminton need tell productreadgoodreadgood quality reasonable pricereadgreat one readgoodreadgood quality original shuttlereadgreat product readnicereadoriginal brandreadawesome readnice one readbest playing experience shuttle cork amazing productreadneed morereadsoo nice l like play indoorreadgoodreadokreaddelivery time safety precautions followed delivery manreadexcellentreadcould bit heavier readexcellent product flipkartreadnice shuttle must buy better brandsreadnicereadnic product readgoodreadsuperreadgoodreadgoodreadnice productreadnice productreadvaluable price lockdown timereadaveragereadone shuttle days onlyreadsuperb product readgoodreadavgreadnicereadgoodreadgoodreadmust buyyyreadgood product readgood productreadnice productreadsuper fast delivery thanku pruthvi delivery boyreadgood hardreadsuper really amazingreadgood product play daily hrs shuttle comes week atleastreadnice used mavis another level u feel difference using readbest businessreadgood shuttles felt like bit expensive sports shop readnice perfect shot quality product readgoodreadlong lasting playing days product damaged disappointed productreadvalue moneyreadaveragereadawsomereadmarkreadgoodreadgoodreadproduct quality goodreadbreak setsreadbest outderreadbadreadnic productreadgood product service goodreadgood productreadbad quality lasts games base shuttle separated automatically playing hear fully disappointed quality product readnice one readnicereadfast delivery superbreadbetter mavis readgood product excellentreadgood quality readquality better yellowreadfinally got original productreadexcellentreadgoodreadgood shuttlereadorginal shuttle best buy comparing product shops shop one last goes like bullet one really fun play feel excellent readgood product readpoor quality old stock provided readgood shuttle superp durability compared original reliablein budget item readsuper product lasts yearsreadgood qualityreadhappy quality deliveryreadgood productreadgood quality productreadbest shuttle less price nice readgood productreadsuperbreadbestreadbad quality packreadgood product fast delivery flipkart readgoodreadwell fine good got product timereadgood beginnersreadexperience quite good product till date readnicereadgoodreadgoodreadgenuine product readshuttles bestreadokreadgoodreadgood qualityreadgood cap game better readgood bestreadgoodreadproduct nice delivered time readgoodreadexcellentreadoriginal shuttle fine play outside readnice productreadgood shuttlereadawesome product readimpressedreadnicereadgood productreadlong lastingreadproduct good shuttles got broken matches advice buy itreadgood product thnx flipcartreadyonex mavis nice quality delivery also time thank u flipkart readnice qualityreadgood productreadnicereadvalue moneyreadwords awesome productreadfelling good play readnice product readgreatreadplaying one match cap rotating poor quality second quality times got second quality yonex cheating us readsuper durable shuttelsreadpoor qualityreadnicereadsuperreadnice productsreadgood product good delivery servicereadquality shuttle bad product received defective cork getting damaged one gamereadawesome purchasereadgood servecereadnice best pricereadgoodreadlife time less readgood product readdisappointed ones bought january bad last even month even worse ordered slow god alone knows shuttles mostly super fast sounds heavy moment touches racket strings readrecomended medium range players readyellow part getting dammage quickly okreadaverage readbest marketreadgood shuttlereadgood product delivery thanks flipcartreadbest class followed durabilityreadsuperreadbadreadgood productreadproduct genuine u identify seeing plastic cap boxreadgood productreadsuper perfect flyreadpoor quality readgood shuttlereadprice goodquality goodand also fast deliveryreadshuttle like yonex branding best shuttles everreadbetter indoor outdoorreadnicereadgoodreadbest quality readgood stuff readgoodreadgood productreadnice shuttlereadbice productreadbestreadgood qualityreadgood one timely deliveredreadaswm product happy itreadsuperreadnice one durable readquality similar wanted satisfiedreadgood product excellent servicereadgood qualityreadsuperbreadshuttle flight problemreadgood qualityreadawsmreadgot original ones readgoodreadgood choicereadgood service good productreadthankureadbadreadpoor qualityreadbestreadgoodreadgoodreadgoodreadreliable readnicereadnicereadnicereadgood buyreadgood product timely deliveredreadgoodreadgudreadbestreaddamage product readgoodreadbad qualtyreadgreat lovebitreadregular readokreadpro players wl hardly last daysfeather like quality bt low temperreadgood lasting normal think bestreadnice landing safely nice shuttlesssssreadgoodreadgood quality productreadgood quality shuttles readgoodreadgot proper yonex authenticationreadthank readexcellent condition performance readgoodreadexcellentreadgoodreadgoodreadawesome look materialreadlove productreaditems quality badreadmicereadokreadgame bad quality original productreadnicereadquality slightly decrease compared oldreadbestreadgoodreadgood shuttlereadkk good badreadwast money cheap qualityreadawsomereadgood productreadsuperreadgood gualityreadgenuine product low cost readgood product speed shuttle air good readgoodreadgood qualityreadkwality best readbad quality waste money readgoodreadwonderful product delivered timely flipkart thank filipkart readquality excellentreadnicereadbest choice indian conditions lasts longer beginners intermediate players always receiving original product flipkart readnice product durable alsoreadlikedreadlasting readgoodreadgoodreadnicereadshuttles original shuttles readsuper qualityreadgood like feather shuttlereadquality good cheaper shops speed ok readokreadbest value used readoriginal productreadgood qualityreadbit costlyreadexcellent service got one day even remote location like gangtokreadbest product lowest price readbestreadnice shuttle order itreadgood correct flight reliablereaduseless productreadgood product fast deliveryreadoriginal item much lower price local market readmoney worthyreadgood thanks fkartreadgood quality plesae purchasereadnice shuttlereadgot product expectedreadgood light wet hereadgoodreadgood itemreadgood onereadshuttles long lasting readgoodreadthanks flipcartreadsuperreadgoodreadregular buyer time got bad quality shuttlesreadbad product given faults shuttlesreadshuttle lasted days onlyreadorginal productreadbadreadosom productreadgreat playreadgood productreadgoodreadgood product shuttle loversreadgoodreadsuperreadstill goodreadsuperb shuttlesreadoriginal yonex shuttlecocksreadstrong n durablereadnicereadoriginal shuttle fulll money wastereadgoodreadnice productreadgoodreadgood purchase readone day one shuttle worst quality flipkartreadnicereadnicereadgoodreadgoodreadnice productreadgood onereadgood productreadgood productsreadgood productreadshuttle max played times considering hrs hard play time good thing seller sends genuine product sunrise authentication passed ordered second one readnicereadalways best satisfaction guaranteed never disappoints issue bottom cork might crack gets hard hit metal frame racquet easily lasts week per shuttle even harsh gameplay always best mavis readnice shuttle fall love shuttle got cheap flipkart thanks flipkart saving moneyreadtime quality good please care brotherreadoriginal yes best shuttle market ryt readexcellent product good quality loved last longreadbad qualityreadgreat seems fast naturalreadlow quality shuttles sustain even hour game please buy readawesome readgoodreadnicereadnice productreadgoodreadgood product fullfill expectation thank flipkartreadbestreadgoodreadworst productreadoriginal one nice play bought readgoodreadgoodreadgood onereadhappy productreadnicereadbestreadoriginal yonex great value moneyreadlasting gamesreadgood productreadgoodreadgoodreadgood qualityreadbadreadworstreadsuperb productreadgood productreadgood product long time certificationreadbad qualityreadnicereadgoodreadnicereadsatisfiedreadnicereadgoodreadnice delivery product punctual according timingreadget damaged soonreadoriginal productreadbest purchasereadgreat productthanks flipkartreadquality poor readnice productreadworth moneyreadosm nicereadworst two pieces damaged tooreadshuttle good muchreadgood productreadnyc productreadquality good giving damage goods readproduct damagedreadsuperreadwastereadnice productreadmeterial low qualityreadnice productreadnice shuttlereadattractive smart readgood wintersreadnice shuttlereadthanks flipkart delivering hrs readsatisfied productreadgood product shuttle damages matchesreadexcellentreadwork goodreadsuper productreadgood perfomingreadgood quality genuine productreadbadreadnormal qualityreadwastereadbadd quality last readbest quality productreadlike itreadlook hard playing original quality readgoodreadgoodreadsimply superbreadgoodreaddamaged early readnice productreadgoodreadsatisfied quality productreadgenuine productreadgood product reasonable price readgoodreadgood usualreadgood genuinereadnicereadshuttle poor qualityreadexcellentreadshuttle durable readpatheticreadgood service nice productreadgood product hv playing product two years readready play best price readnicereadproduct good takes days deliver readgreat quality product deserve price readgoodreadslow shuttlereadvarry good productreadnice productreadfirst shuttle authentic rest shuttles compete spacex rockets terms speed highly disappointed readsuperreadsuperbreadpacking bad shuttles damaged readgood onewe playing outdoor indoorreadshuttles genuine readgoodreadexpected recommendreadnice shuttle quality readnicereadawesomereadnice seems original readnice shuttle full control palyreadokreadgood qualityreadawesomereadexcellentreadbad productsreadok okreadsatisfiedreadworthreadaswamreadgoodreadgoodreadpowerfulreadnicereadgoodreadsuprrbbreadshuttles durable becomes fast shots prefer mavis readgoodreadlong lasting readgood product value moneyreadgood productreadgood product readgenuine products readalways good readsuperb readgoodreadnicereadgood quality nowreadgoodreadgood shuttlereadsuperreadgoodreadoriginal productreadbad productreadgood quality item sreadold stockreadshuttles faster usual wasted moneyreadokreadshuttle goodreadeast west flipkart best became flipkart fan delivering within day readpoor quality item got time readseems like original product disappointed shuttles wobbling remaining last matches readquality soo good delivery date soo late shows dec received dec waste ur time order another appreadgoodreadold stock sold single peace goodreadbuy anyone shuttle flipkart site worst quality productreadexcellent productreadnice productreadgood facilityreadexlent product readgood one read lot negative review mavis purchase online time say better products good quality readloved original product delivered time readgoodreadgoodreaddelevired less day oh god thanks flipkartreadreceived genuine product good original qualityreadamazing productreadvalue moneyreadgood light weightreadlight weight long life readawesome goodreadnice product satisfiedreadnice best qualityreadold stock gotreadst corks got damaged fast rest goodreadgood product price readgoodreadgoodreadnice item u must buyreadnicereadhappy flipkartreadbad productsreadnice productreadbad qualityreadyonex mavis pure shuttle dummy genuine bad quality old pak date box jan readgood price little bit highreadbest classreadcork quality issues cracking soon readsuperreadgoodreadgoodreadgood price range thanq flipkart readorginal productreadgenuine product go itreadnicereadsuperrreadgoodreadslow barely lasts days disappointingreadworth productreadsomthing best youreadnice premium productreadnicereadgoodreadworst quality fraud materialsreadgood shuttle days playreadgoodreadnice productreadnicereaddifference orginal product readnice product readproduct bad readgood worth pricereaddurability cork bad enough even one dayreadshuttle corks look like may break within minutes play otherwise okay readvaluablereadnice shuttlesreadold stock manufactured year back months readbad product wast moneyreadtqreadnicereadgood productreadplz go really worth every cork friends really happy reliability pack readgoodreadnice best outdoor game readnice product love itreadnice productreadgoodreadgood qualityreadgoodreadalways best finereadnice product best outdoor readnicereadgoodreadnicereadnice productreadgood product readgood crockreadawesome product mavis superreadgood qualityreadnice prudectreadgreat productreadgoodreadone shuttle six box wabbling first moment usereadokreadworst product even last matchesreadworst qualityreadgood productreadgoodreadgood quality genuine product readgoodreadnicereadlovely productreadmust buy exlent productreadreasonable cost readgoodreadgoodreadgreatreadgood productreadexcellent product thanks flipkartreadnice onereadgoodreadgood shuttle good flyreadnicereadbest price hight flipkartreadnicereadreally goodreadnice product cheap costreadgood productreadabsolute treasurereadgoodreadquality feel upto mark shredded play shuttle weekreadreal feelreadgood productreadnice good practice sessions good quality readworth moneyreadnice compared pricereadgoodreadgood shuttle readnice shuttlereadgoodreadexcellent love thanks flipkartreadgoodreadsuperbreadgoodreadsuper product readgood productreadbestreadexcellentreadgoodreadbought fast delivered quality goodreadnycreadsuperreadproduct good delivery fast thanks sharing best product price readsuperreadgoodreadnice productreadgood productreadvalue moneyreadgood improve qualityreadsuper shuttle niceereadone shuttle good condition due lack packingreadsuperreadgoodreadgood packing think seller bad becase got bad product time less quality broken fast pure china local productreadmarvelousreadoriginal quality product good packing swift delivery makes happy customerreadoriginal shuttlereadexpected readdamaged rapidly readnicereadoriginal qualityreadgoodreadnicereadgood grip sidereaditem looks duplicate look original shuttle player one yr shuttle becomes useless earlier use play hr one shuttle readgoodreadbest shuttle outdoorreadlovelyreadoriginal product played yesterday wellreadgoodreadgood playreadsuperreadgoodreadshuttles good box seems good qualityreadguys lots shuttles inside box damaged correct weight indoor playthe shuttles inside box wobbling plz buy flipkart sites u find genuine sellersplz beware productreadgood productreadgoodreadgoodreadgood product long lasting indoor gamereadnice qualityreadpoor qualityreadgood product suggest buy readgoodreadthanks flipcart nicereadgoodreadbad product poor quality really disappointedreadgoodreadbehtareen keep ordering monthly good intermediate players like readsuperreadslow slow lining wastage moneyreadgoodreadnicereadhigh rate quality poor early brokenreadexpectingreadproduct good manufacturers date august readgreat product reasonable pricereadgood qualityreadgood qualityreadgoodreadnice productreadfast slow returning sends packing fresh yonexreadawesomereadoriginal productreadevergreenreadnicc nicereadgood delivery n originalreadnice onereadok bettarreadgood beginnersreadgood outdoorsreadnice onereadfirst time received bad quality product shuttles bad qualities slow really disappointed readshuttle always good timely delivered readfine qualityreadgood product fkipkart quickly devilry item thanks fkipkartreadnice productreadgood regular practice nice quality readdelivery time given days also took day extra meet promised delivery date product good readsuperreadworthy product durable outdoor practice nice productreadgood readbad slowreadgood indoor grab like super slow shuttlesreadnicereadgreatreadgoodreadgoodreadgoodreadgoodreadwonderfulreadproduct delivered time checked shuttles fine wobbling damage piece geniunereadgood readoriginal productsreadnicereadgood quality shuttlereadgood love itreadoriginal product delivered lightening speedreadgood productreadgood onereadgood practicereadgoodreadgoodreadgoodreadworst shuttle looking like rs per piecereadgood productreadgood product best shuttlecock readperfect readexcellent item delivery service provided flipkartreadokreadnicereadgo oldreadgood poductreadgoodreadnaisreadgood readnicereadnice productreadoriginal product received thank speedy delivery readgood nice readgoodreadnice shuttlereadgot original product thanks flipkart vendor supplierreadawesomereadalways awesome readnice product readsuperreadshuttles good durable lasted rapid games readbadminton shuttle goodreadbadreadsuperb productreadgoodreadyesterday received product damaged disappointed lost moneyreadgood quality shuttlecocksreadgoodreadlove product readgoodreadgood productreadgoodreadgoodreadquality packing super awesome readgood quality shuttlesreadaswmreadthanks readgo perfect matches intermediate professional levelreadbest qualityreadsuper expectedreadbest playreadnice product good qualityreadreceived original sealed product better price local sports stores readgoodreadevonomicalreadgot used shuttlereadgood product profit useable thanks flipkartreadbest shuttles long lifereadgood qualityreadoriginal product know best segment readcompletion one game shuttle fastreadsuperbreadoriginal light weighted ok ok play durability another issue shuttles long lastingreadgot product time product genuine readgood qualityreadexcellentreadgood nice speeds shuttlesreadgoodreadgoodreadgood product happy shuttle readokreadgudreadshuttles good comparatively lasted readfinest shuttle practice durability shuttle awesome bet regret playing readnice quality shuttlesreadbest delivery manreadfine good dilevaryreadgoodreadgood quality good costreadquality good readnice qualityreadgood qualityreadgood productreadgood intermediate players best better otherreadstrong build rough game nice movement speed readnicereadgood readbest plastic shuttlereadnice productreadexcellentreadawesome got readgoodreadawesome nice productreadgoodreadsatisfactory shuttles little fast quality seem degraded readfirst attempt flipkart send local product replace order received yonex mavis thanks flipkartreadnicereadworking well door gamereadmarvellous product good beginnerreadgreatreadold stockreadproduct seemed original fine quality although breaks like ice cream cone explodes even little moisture readwaste slow one want purchase go retail storesreadokayreadasked slow shuttle provided medium fast checked return period readgoodreadnicereadgenuine productreadgoodreadgoodreadgood one expected readgo amazingreadoriginal product intact form delivered nothing comment branded product like yonex thanks readsuperreadgoodreadnicereadgood quality probably best nylon shuttle go readsuperreadgoodreadshuttles fast good wont buy againreadsuperbreadbest shuttlecocksreadgoodreadnice flight good control perfect bat writing playing times readnicereadgood performance goodreadflipkart best online site readhavebeen ordering shuttles year orignal products incase times shuttles damaged flipkart quick n hastle free replace thankyou fair price n great services readgood shuttle playersreadokreadgoodreadshuttle good average beginners readnice one good quality pricereadbest among nylon shuttlesreadgoodreadbrought yonex green cap slow shuttle box fast think mix original duplicate making us fool readexcellent product genuine one readgood qualityreadbad productreadgot time old stock need check flight condition playingreadbest qualityreadexcellentreadworth moneyreadokreadreceived original productreadgo good quality genuine shuttlesreadgoodreadoriginalreadgood readnice product indoors suitable outdoors readmark quality goodreadgood nice readgood suttalreadnice productreadgoodreadproduct delivered original packet flattened due shuttles lost shape defective shuttles receivedreadgrt product grt pricereadfairreadmuch satisfied good quality quick delivery readawesome readordering since long time shuttles used good long lasting rigorous games used last mins least time really disappointed quality shuttles starting rotate couple sets never expected quality bulk order tubes readgenuine product shuttles shaped buy products online readn cereadnice productreadoriginalreadgood onereadozm product delivered selected place readnicereadgood daily practicereadv good coart good homereadexcellent authentic productexcellent packagingfaster deliveryreadgreat product perfect delivery time readsuper productreadokay okay shuttlesreadexcellentreadfantastic readoriginal product correct delveryreadokreadnice productreadawesome product original durabilityreadpoor quality shuttle sent may old stock one shuttle broke within day games played shuttle readsuper rate highreadnice onereadgoodreadnice onereadvalue moneyreadnice original product love playing badminton nowreaddoubt may genuine product readsuperreadgoodreadgoodreadoriginal yonex product visit yonex sunrise website originality scratch code led type code website readbadreadgoodreadexpected excellent one readgood packing readgoodreadlook ok readgood osm price really impressed product readgood one doubt go itreadamazing readclassyreadsuperbreadnicereadnice shuttle balance goodreadbest best got must buyreadnicereadquality good expected product life time daysreadgood product readsuper productsreadlooks good rest comment day play minimumreadokreadgoodreadawesomereadworth moneyreadawesomereadlike shuttle qualitiesreadgood jobreadexcellent qualityreadawesome best comments say fake also fakereadnicereadgoodreadgot latest one old stock packaging goodreadbestreadfavourite shuttle fast delivery flipkartreadpacking product poor always receive press positionreadgoodreadworthyreadshuttle fastreadexcellent appreadbest quality shuttle readsuperb qualityreadnicereadnice productreadnothing recetreadmultiple small small holes cork look like last long readgood productreadgoodreadgoodreadsuper qualityreadgood qualityreadgoodreadgood materialreadexcellent deal value worthreadhappy order alwaysreadgood shuttles decent price readgod product attractive pricereadgreat shuttle flight shuttle good regrets rate market costing around rupees flipkart got inrreadoriginal qualityreadworthyreadfastest delivery nd products quality adorablereadgood productreadgood one perfect readsuperbreadbetter thank local marketreadshuttle cork good genuine verified yonex website readsuparreadlooking gud lasting readpacking good plastic cover damaged readgoodreadgoodreadgoodreadwould give full star product great quality unfortunately next box bought one shuttle damagedreadgood product nice build qualityreadnicereadgood product readquality goodreadgoodreadnice productreadgoodreadgoodreadgood nice quality readgot damage shuttle pack rest good readquality seems good breaks one day playreadsuperbreadnice item get item exceptedreadbest green cupreadgoodreadslow shuttles good per market readgood boyreadthanks flipkart poor shuttles pack replaced readrotine gamereadgoodreadgoodreadgood productreadgood productreadamazing quality worth every penny readexcellent flight slow mentioned recommended beginners readsuperb qualityreadlong lasting readsuperb readgood productreadgood productreadgood productreadnice productreadnice usualreadnicereadreally good lasts longer expectedreadworst product got squeezed boxes shuttles replacement got damaged product readnicereadquality shuttle seems bad even last games change two shuttles hours play readgood price muchreadgood quality nice productreadsatisfied product qualityreadpoor qualityreadbest intermediate playersreadnicereadsuperreadoverall nicereadshuttles old damaged one day bad quality shuttle readshuttle damage dec new pack shuttle damagedreadgood productreadgood readslowlyreadgoodreadgood quality shuttlereadbest packingreadawesomereadretailer shop need go shop buy itreadbest daily play readgood productreadexcellent design lifespanreadgoodreadgoodreadgood always readgoodreadu buy good productreadexcellent productreadquality item good packingreadgood qualityreadnice product quick delivery readaverage quality shuttles goodreadshuttles good pricing made exorbitant per pack per pack increase within one year already trying alternatives readnicereadnicereadpathetic qualityreadoriginal product yonex able authenticate sunrise portal best shuttle indian condition streamed travel correct balance durable beginners intermediate level start one readgoodreadgood delivery boyreadexcellentreadexcellent first ordered one box tried whether fake genuine product selected slow found genuine product long lasting playing shuttle till suggested courts town playing shuttle buying flipkart go without hesitation readpacking goodreadyonex greatreadpacking product done properly mark request team take care future avoid damaging product readgiving review weeks use buy product seems selling second grade defective product shuttle start rotate time difficult play patethic product readexcellentreadworst readgood product readnice readnicereadecobomicalreaddamaged packreadawesomereadgood qualityreadgoodreadoriginal product happyreadnicereadshuttles better quality bought local shop much difference price readminreadokreadgood product quick delivery impressive service readbadreadshuttle goodreadgoodreadgood quality original productreadgood product readexcellentreadpoor qualityreadprice high compare local shop quality good readexpected good quality good one shuttle spinning issue readlooks good use update quality readshuttle damaged readbest shuttlecockreadnice shulterreadgoodreadnice productreadgoodreadgud qualityreadgreatreadsuperreadgoodreadnice rate reasonable readsuperbreadproduct per expectation readgoodreadquality poorreadgoodreadgood productreadthanksreadgood productreadreally nicereadgood productreadpacking damaged shuttle also damaged poor quality packing readgood qualityreadreceived genuine shuttle box flight pace level shuttlecock good little disappointed packaging seller flipkart side boxex little damaged although grateful shuttlecock damaged purchase seller thanks readgenuine productreadusing mavis past year best shuttlecock marketnew stock delivered seller play doubles daily setsdurability awesome days smash drop toss everything perfectsome team members complaint shuttle heavy goes away toss think shuttlecock problemgood job yonexreadnicereadnicereadnicereadflipkart cheating customers sending old shuttle boxes booked box shuttle th december received manufactured shuttles bad condition going forward decides buy shuttles flipkart readgood productreadcost little lessreadmuch goodreadworth moneyreadvalue moneyreadferfect delivered good productsreadgood shuttle outdoor court shuttle lasts week even play smashes daily good one purchase readsuperreadgood onereadnicereaddurablereadgood product bought barrels every month one trustworthy online shopping flifkart readgood packing delivery flight speed shuttles much faster usual mavis doubt genuinity time also packing perfect first shuttle taken wobbling good play disappointing readgoodreadsuperreadgood original product readgoodreadmiddlereadok beginnersreadnicereadgud product price range gud indoor gamereadfast delivery good quality productreadgood onereadnicereadgood shuttle stage simply go readnice product looks genuine readfast sarvisreadnice shuttle durable still working properlyreadnicereadgood productreadbetter productreadsuperb guaranteed readbadreadtwo shuttles damagedreadgoodreadgoodreadbest outdoor practice timereadexcellent qualityreadplz buy shuttle readfantasticreadgoodreadgood shuttlereadnice product delivered time readbest productreadexcellentreadgoodreadgood product readalways best budget shuttlecocks mrp rs got rs readgood productreadoriginal product thanks flipkartreadsuperreadperfect product great shuttle practice badminton regular basis readnice productreadokreadnice productreadbetter price outlets good product readgoodreadgood genuine product readgood costyreadgood svuttlesreadbest shuttles one play readquality product go readsuperb qualityreadbest onereadvalue money readgood qualityreadbadreadnice shuttle seller prompt delivery flipkartreadshuttles good quality durablereadgood productreadawesome original product however box got low quality hope get complaint readvalue moneyreaduseful beneficial alsoreadbest product everreadgood product delivered flipcartreadsuper excellent deliveryreadgood practice readgoodreadgoodreadreceiving used defective product shuttle shaking readoriginal reliablereadshullte worst quality shuttle spin accuracy bad readnicereadgood qualityreadgenuine product readlast order great shuttle speed varies temperature moves fast hot summer day otherwise speed good readpathetic packing box crushed shuttles playing conditionreadgoodreadgreat product great service flipkartreadone word osm readlong durablereadgoodreadok comfortreaddelivery date long rest okreadyonex brandreadgood productreadgoodreaddurable regular practicereadabsolutely original productreadgood qualityreadvaluable price nice readprice valuereadnicereadgoodreadworth product price readbad qualityreadgoodreadnice shuttle night game readgood mereadokayreadgood product flipkartreadgood lastingreadbest u cant getreadawesome shuttles love itreadtime delivery nice product national level player used shuttles practice found quality nice really original yonex mavis thinking buy wait go readgood productreadoriginal comments readexcellentreadnice product worth money readthink original flight cork seen beforereadgood shuttlereadgoodreadoriginalreadgo readoriginal product fast delivery readgood readfast delivery flipkart nice product readgoodreadgood product time deliveryreadgoodreadmark durablereadgood long lastingreadworstreadnice citalreadnicely packedreadgood productreadgoodreadcorks perfect yes go price plastic quality improve lot mean plasticity plasticreadfinereadawsome product readoriginal product best price get must buy readnicereadnice onereadwel finishedreadnice productsreadexcellentreadgoodreadsuperb quality product received thanks flipkartreadbest onereadplayed two days shuttle started brokingreadgenuine shuttle bought rs readgreat qualityreadnicereadgenuine affordable productreadbest shuttle practice readfast delivery flipkart thank ureadgood productreadgood qualityreadworst readgood practice readgoodreadsure whether product original counterfeit looks like original quality good purchased similar box offline shop best quality first time received product flipkart delivery packaging always best flipkart thanks readnicereadgood productreadcheap qualityreadnice product readgood product delivered fast goodreadgenuine product good pricereadnicereadgoodreaddurable readgood durabilityreadasked green cap came blue capreadgenuine orginal productreadquality shuttle lowreadoriginal product great price thanks flipkart readgood productreadproduct good quality shuttle goodreadnice product readgood productreadgood productreadworst qualityreadnice productsreadnice shuttlereadgood productreadgoodreadworry good productreadorder got delivered within hrs amazing delivery loved readnicereadnice quality originalreadteriffic productreadquality goodreadgudreadnicereadnicereadbadreadawesome product price goodreadgoodreadgood originalreadgoodreadfantasti shuttlereadgood productreadsuper goodreadgoodreadnicereadquality shuttle goodreadgood better bestreadbadreadnice product go itreadgood quality productreadgood quality shuttlereadnicereadgood nowreadgreatreadorginal productreadgoodreadgood product durable mavis price could little lower range readnice onereadgoodreadfeel like feather shuttle durable also readgood qualityreadgenuine product satisfied performance slow last long indoor court readawesome readgoodreadgoodreadgood productreadgood product satisfied shuttles defective readenjoyed playing received latest design readsuperiorreadthanksreadgood productreadbest readgood qualityreadgood readnice shuttlesreadnice qualityreadworth buying thanks flipkart readheavy usereadnicereadwort average quality bottom part doesnt meet expectations yonexreaditem fantasticreadperfect shuttle play fantastic game superreadgood qualityreadgood qualityreadnice product long lastingreadbad quality readgoodreadnice productreadoriginal expectedreadgoodreadgood qualityreadslow shuttle feels like cheated qualityreadnice productreadgoodreadnormalreadregularreadbest ones right amount bounce weightreadthank good shuttlesreadthanks replacementreadpoor quality original readgoodreadnicereadawsome must buy readnicereadevaragereadsuperreadnice readgoodreadgood packing yet usedreadunbelievable price readbestreadnicereadnice productreadsuperreadquick delivery genuine product best price readgood quality genuine product readperfect cost effectivereadgood flip kart best online shoppingreadgoodreadquality expected wht u would buy sports shopreadgood product like itreadnice n goodreadnicereadrecommended readoriginal productreadgenuinereadnicereadsach nice productreadgood one recommend shuttlecock beginner readsuperreadgood product speed delivery readexcellentreadperfectreadoriginal product packing also good readexcellentreadworst product ever shuttles waste boxreadproduct really good cheap rate delivery good tooreadbadreadnice product readquality earlier one please ensure quality markreadoriginal productreadbest gamrreadsuper shuttle like much thnx flipkartreadthink buyreadgood one readexcelent quality readgoodreadawesomereadnice shuttle readbadreadexpectation readbadreadlast time bought pieces defective damaged playing min readnicereadoriginal yonexreadnicereadawesomereadawsome qualityreadsuperreadgenuine product nice clean play experience like featherreadhappyreadthanksreadaverage couple shuttles box goodreadgoodreadgood last day matches play outdoor readnice product readpacking damaged resulting damages shuttle readoriginal cheaperreadberry nice picreadgood looks original readokay okay qualityreadamazing delivery time readsuperreadgenuine product cheap priceand best thing one day delivery thanks flipkart teamreadgood qualityreadgoodreadusing revert thanksreadnice shuttlesreadshuttles goodreadtop bottom cabs light weight original readgood delivery delivery time delivery date longreadcoming longreadgoodreadshuttle much better series additional weight keeps shots court readquality quite ok even though date manufacture months back suggestion date manufacture also included product details readnicereadexcellent qualityreadmuch appreciated readgood one reasonable pricereadgoodreadokreadgoodreadlow qualityreadoriginal product thats important thing know regular players knew original quality go get enjoy readeverything good readpacking parcel good six shuttle broken damage inside pack time feel like cheated readokreadsuper better ireadgood quality shuttles broke within days regular usage usually mavis lasts around week regular usage readhappy day deliveryreadgood worthyreadnice productreadworst product delivered please check product thoroughly got yonex cork cover like original yonex cork completely forged product inside cheap cork brand know rocker sreadgoodreadsix shuttles good looks like broken readalways get best deal flipkart brilliant quality product service readnice g dreadsimply amazing readgood productreadsuperb readnicereadawesomereadyoreadoriginal product think older stockreadsatisfied shuttels moving expectations go team flip readquality productreadosmreadnice productreadbest cork ever usedreadoriginal material tq flipkartreadshuttle defaultreadgood excellentreadgenuine product received daysreadsmart boy delivered item time proper intimationreadsuper qualityreadgood quality readnice productreadchauchak shuttle readgood quality received box thanksreadrubber top plastic one good play hardly could break weeks less depends upon play readbad slow speedreadyes original readgoodreadgood playing game shuttle getting speed may good quality readone day delivery flipkart without issuesreadgood qualityreadnicereadtime good quality like readlow quality birdies birdies gone day wobbling first hit bought packs need see whether second one also like whether one defective pack want return already used day seem good return readflipkart customer centricreadnice play cook color yellowspeed slow yonex mavis cap green colorpack qualities best choice play everyone readgood onereadbad quality product try purchasereadnice onereadlast gamesreadquality shuttles good readnice quality fast shipment shuttle last least matches great dealreadgood readnice shuttlereadsuprrbreadgoodreadamazingly fast delivery ordered day yesterday evening got yesterday morning would recommend seller also shuttles expected much satisfied readpoor quality shuttle readnice shuttles worth itreadexcellentreadgood itemreadsuperreadgoodreadgoodreadgood looks genuinereadnice onereadgood readnicereadworthreadnicereadgood deliveryreadnice product readnicereadgood productreadseems original one use n found perfect one got delivered one day readreally horrible hv received used ones please dont buy product readgood product great price suggest itgo ita good choice badminton practicereadgoodreadperfect shuttle outdoor playreadsuperreadtime lasting last time happen something wrong sure bit dissatisfiedreadokreadyonex always provide good quality readgood quality n good service flipcartreadoriginal shuttles yonex readgood product best delivery flipkartreadgood cheapest price readgood productreadshuttle durable dugreadlong lasting readproduct poor quality shuttle damage game earlier good readbetterreadexcellent shuttlereadplayable indoor heavy weight readgood onereadgoodreadquality goodreadgoodreadbest availablereadusing since long nice productreadokreadgood qualityreadgood onereadgenuine good product readgot genuine product scratched hologram code checked online sunrise site genuine thanks great price product readgood readdelivered time genuine productreadgoodreadbest product best price thanks flipkart readgoodreadnothing say absolutely fantastic product best delivery readgood behavior prompt deliveryreadgoodreadworth moneyreadbestreadgood qualityreadnice productreadcost much less local msrketreadnicereadgoodreaddamaged product send readuseful productreadgood product pricereadgoodreadmust itemreadgood qualityreadgood productreadproduct good got price near sports item soap readwaste money first pack got poor quality requested replacement replacement received quality local market bought product good quality readgoodreadbad quality shuttle breaking shots shuttles pls buy readproduct v nicereadgood qualityreadwellreadgot expectedvery nice product go itthan flipcartreadgood qualityreadrough suttles readgoodreadgoodreadvry nicereadgoodreadnice productreadtime got substandard ones readgoodreadproduct looks old poorreadgood product outdoor player readshuttles faulty go straight dislodge position fliesreadgoodreadgenuine product readgoodreadfabulousreadoriginal shuttle lasts one hour play area cork gets cut hence changing flight n speed happyreadbad quality readgood productreadgood qualityreadgood beginnersreadexcellent product nicereadgood f quality mixed green black corks found readnice onereadtook lot time deliveryreadold stock readgood service flipcardreadquality per expectationsreadgoodreadsoft hardly go matchreadfast deliveryreadgood productreadgenuine product readgreat product good service flipkartreadexcellent service flipkartdiscount price lessreadrecommendedreadpoor product old product deliveredreadbestreadgoodreadgenuine product readnicereadproduct quality bad last one dayreadgoodreadgood productreadcheapest market quality assurancereadgoodreadsecond purchase oddly enough shuttle jumping lot issue entire lot box wondering original yonex readgood productreadnice productreadgood lasting days u improve qualityreadgenuine product highly recommendable readgood qualityreadprice reasonable compare market shuttle speed compare slow shuttlereadgoodreadgoodreadgoodreadnicereadgoodreadokreadgoodreadnice productreadonline purchase better offline purchasereadgoodreadgood productreadoriginal shuttles wobbling st game readexcellent qualityreadplastic quality goodreadnicereadmade japan wow readgooooodreadgood productreadnicereadgood productreadsuperreadawsomereadflip cart services cell ultimatereadone shuttle lasts days good mavis better lasts days half price mavis readflipkart sells old product readoriginal product received time packed well readgoodreadgd quality nycreadgoodreadgoodreadoriginal product readnice productreadnice productsreadsuperbreadgood productreadgood qualityreadbad quality got broken days buy allreadnice qualityreadsatisfiedreadguinine productreadbest shuttle play withreadnicereadbest shuttle mavis like readgoodreadaveragereadusing shuttle everyday practice shuttle better quality comparison mavis costs less shuttle lasts days daily practice consists games along smash shots shuttle suits requirement everyday practice yellow shuttle better visibility white one colour band base shuttle represents speed shuttle e green band slow speed blue band medium speed readokreadbest price shopreadnicereadgoodreadone among shuttle found used cheat expected flipkart readgo itreadgoodreadoriginal yonex mavis got product manufactured august readokreadbadreadgood productreaddurability expected games later worn outreadbroke shuttle min playing think got duplicate one website yonex shows product genuine readgood product lightreadbedreadslow shuttlesreadawesomereadgood quality nycreadgoodreadgood qualityreadshuttles broke short usage readnice productreadbadshuttle lasts hourreadgoodreadsuper productreadgood productreadgoodreaditem good condition delivery faster toldreadquality badreadgoodreadgood product itreadbest products delivery time also less consumedreadgoodreadreasonable price good quality readgood outdoor playing indoor courts readncereadadorble shuttlereadgood usualreadramreadopened box deliveredreadalways bought product good wastage pack readbad product cash returnreadnice product superreadnicereadgood qualityreadrecommendedreadnicereadauthentic long lasting shuttlesreadgood quality shuttle recommended thisreadgenuine productreadtimely delivered good servicereadgreatreadgood qualityreadgenuine productreadgood playing indoor stadiumsreadnicereadbeautifulreadcould slightly better value moneyreadgoodreadgood pin holes observed whole shuttlesreadsatisfiedreadtime delivered products poor condition one suttelcock match maximumreadgoodreaddurable well balanced good indor game thanks yonex flipkart timebeing delivary readbad material shuttle last long certainly fake yonex mavis flipkart selling suggest buy specially seller readgood acceptable product dilivery also goodreadsuperreadawesomereadnice shuttles good flightreadbest shuttle cork yonex genuine productreadnice productreadgoodreadshuttle lasted days playing hour day durable better mavis lasted days readgoodreadexcellent quality readworst shuttles shuttles lasts long readbest qualityreadnicereadnice quantityreadless rating delivery box crushed delivery luckily none shuttles damaged shuttles good decent performance usually play hrs shuttle tend wear tear would rate readimportant thing packing good nd corks good condition readbest dealreadshuttles rotating good might received faulty boxreadvarry good productreadgood qualityreaddamm goodreadgreat deal got thanks flipkartreadgood qualityreadgood product mavis ossm yonex mavisreadproduct good readsuper qualityreadshuttle original old break easilyreadgenuinereadnice productreadgoodreadgood productreadgoodlong lastingjust love readbest ever readdelivery time good quality shuttle readgood readworth buyreadquality bad got damaged playing matchesreadgood itemreadnicereadgoodreadgud onereadgood productreadoriginal best readyes good shuttle lowest pricereadreasonable price best performance please reduce price possible readsuper readparcel good quick time givenreadnicereadgood n genuine productreadgoodreadnice product thankyou readnicereadsuperreadreally good product readgenuine products rest yonex need reviewreadlittle bit lasting expected readgood quality green one slow one singles u wanted medium fast shuttle go blue tappedreadexcellentreadnice muchreadworst product shuttle doesnt work even matchesreadpoor qualityreadawesome productreadgoodreadgoodreadbad corckreadgenuine productreadbadreadgood expecting low price readgoodreadgoodreadgoodreadexcellentreadgood qualityreadexcellent servicereadnice shuttlereadgreat product love itreadmuch qualityreadsuperreadgood readgood productreadbest shuttle beginer well expertreadfast delivery nicereadsuperb qualityreadnice product brought good one prizereadstop scrolling buy product quality good remember international players look results readnice brandreadnice productreadbad productreadworst item doublecat send pls avoid thisreadbest alwaysreadproduct genuine slow compare mavis readdelivery much fast lke readpaid full deserve get time sound conditions nothing appreciate however thanks readnice productreadproduct properly packed delivered readquality shuttles goodreadreceived genuine product made japan readone shuttle used last hours regular double match would suggest could little cheaper readwaste buyreadoriginal genuine product thanks flipkartreadnicereadgoodreadshuttle damagedreadworkablereadgood price readworst shuttle z better dn diz ireadplayed yet seems goodreadgood one readquality item compare websites costreadbast readthing shuttle genuine shuttles last single game unlikely genuine yonex shuttles dissatisfied readgood onereadyonex original product compare original one weight little bit high readvalue money nice product readnicereadgoodreadgood shuttlesreadvry goodreadgood productreadgood acceptedreadgiven months back manufacturing date product experienced flipkart services good readpoor qualityreadnoreadawesome thanks quick deliveryreadgood qualityreadsuperreadgood original product readbestreadgenuine product nice quality good intermediatesreadseemed old stock shuttle wooden base damaged presence piercing many holes shuttle base advised check shuttles physically nearest shop purchase although may cost bucks u b satiesfied gud purchase readfastest dievery hoursreadgood packaging super fast delivery thanksreadperfect onereadnice onereadnice corkreadgood nicereadgoodreadgoodreadgoodreadbadreadproduct uselessreadgoodreadnice productreadawesome delivered early thanks ya product bought market per shuttle high product must say go itreadgood qualityreadgoodreadgood shuttle readone one shuttle ok others new playable viberent air readhappyreadsuperreadbad product light weight play think actual yonex readgood onereadgood quality product readtime delivery fast alsoreadsorry negetv revw genuine onereadnice onereadshuttle good professional intermediate player sreadsaved minimum rupees compared least available price product original thank flipkartreadgoodreadsuper good gualityreadnice shuttle long lastreadwonderfulreadbad shuttles think given local product buy product flipkart happyreadtime better last time satisfied readquality upto markreadnice product readnice products beautiful readbox almost lost shape got delivered readgoodreadbarrel one shuttle defect one readgoodreadshuttles awesomereadgoodreadreasonable pricereadoriginal products quality exalentreadgood good pricereadmuch durablereadnice productreadfast delivery thanksreadorignal good qualityreadcorks container good shapereadservice good readnice productreadgood product box quality good packing quality must need improvedreadgood original product price dip even salesreadgoodreadhigh quality stuffreadexcellentreadsuperreadaswome performancereadsuper fast delivery course good packingreadgood product thanks flipkart readproduct excellentreadoverall bestreadshuttle box came perfect condition shuttles good wellreadqwality poorreadsuper goodreadgoodreadnicereadworth moneyreadgoodreadgood productreadpackaging poor box one side crushed shuttles good shape qualityreadnice product timely delivery good job readpoor quality deliveresreadworst shuttle ever receivedreadgood prodectreadsuperreadgood productreadgood productreadawesomereadoriginal product readgood qualityreadshuttle good balance costlyreadnice damaged shuttle happy readevery time packing good time poor except everything fine readperfect shuttle great flightreadgood costlyreadgenuine yonex productreadvalue moneyreadgoodreadslowreadgood responce fast deliveryreadold stockreadgoodreadgood productreadnicereadshuttle long lasting one authentic productreadworst product dont waste moneyreadlasted day waste product changed manufacturing sticker sold reviewing week worstreadgoodreadbest class indoor bestreadvalue money readgood expected readnice productreadgood onereadgood previous damaged gotreadv goodreadnicereadnicereadwriting review using couple shuttle original yes repeat original starting box cheap replica tell looking plastic lid shuttle last games flipkart vendor cheating customers readim satisfied product second quality product slowly flipkart lossing assurancereadnice product readgoodreadperfect go got time thanks flipkart readgood productreadpoor qualityreadgoodreadbest readone beat shuttle yonex outdorreadpack quality well maintained shuttlesreadwell product doubt readquality goodreaddurable long lastingreadgood product great price purchased r two boxreadsuperreadproduct genuine good packaging inadequate shuttles bent due outer protection soft cardboard box readpoor qualityreadbestreadmarginal price readgoodreadgoodreadperfectreadquality shuttle good readduplicate flipkart products heard couple days back facing issue used shuttle first time flipkart actually tear within shots used shuttles span min game suggest kindly purchase somewhere elsereadlow prices good articlereadbad shuttle hiii dammage one gamereadgoodreadworth money product rs sale really loved awesomereadwonderful productreadexcellent productreadfound originalreadgood one indore gamesreadgood qualityreadgood packaging good productreadwaste prouctreadgood shuttlesreadgood shuttle outdoor advance player days slightly heavierreadgood service thankreadsuper happyreadnice good quality product readquality low okeyreadnicereadproduct good worst packing flipkart product got damage packing readgreat shuttle wised durablereadquality good expectedreadgoodreadawsmreaddelivery tym satisfy productsreadnicereadbuy product totally duplicate readawesome usualreadoriginal shuttle carkreadserve purposereadgoodreadreceived packed crushed flat cap due one shuttle pressed uselessreadbeat shuttlereadgood product lost shuttles days professionalsreadbest suitable indoor practice durable value money readgoodreaddelivered time good product giving review completely usedreadbad productreadgood onereadnice product tiemly provided readnicereadgood product valuablereadoriginal readgood one cheaper pricrreaddefective productreadgood quality shuttle bad packing delivery tin twisted due tight packing hope better delivery next timereadsuper productreadgood quality suggest readgoodreadflipkart assured always best readdpubt mavis one best shuttlecocks price range always purchase playing match friends happy flipkartreadbetter previous ones purchased also via flipkart worst like go readgud productreadfelt pretty slowreadproduct good delaye deliveredreadgood quality product per yonex stander games product gets damaged readbest bestreadheavy racquet string gone due heavy weight shuttlecorkreadnice product must buyreaddays single shettle usedreadnicereadnicereadproduct good packaging taken care properly box received bit squeezed two sides damaging one shuttle inside box readnicereadbuyed time readworest product take anyonereaddays mavis shuttlebox containing duplicate shuttles got shuttles lite weight suitable play shuttles good purchased shuttleboxes sure problem flipkart seller manufacturing problemreadgoodreadquality goodreadquality expected good made japan chinese product got rs enquired everywhere less rupees would say go readshuttle damaging gamesreadgoodreadgoodreadnicereadnicereadokreadgo original product readsupar productreadquality shuttle good playing min got breakage middle shuttle breakage cork made us dissatisfied product readgood one received original product thanks flipkartreadgood qualityreadgreatreadgoodreadworest product dont itreadmaximum shuttle shape outreadqualitywise goodreadgoodreadgood alwayreadgoodreadawesome original fresh productreadsuperreadnice thnks flipkartreaddelivery done time readbest value price better shutttlereadnicereadcheapest compared market pricereadpacking bad readgood readnice shuttlereadnicereadgood product readgoodreadsatisfied productreadgood shuttle found mavis durable readbox shuttle dented seems like delivery boy kept lots items box shape distorted shuttles fine readbest qualityreadgoodreadexcellentreadnice readnceee one useful intermediate ppl sreadcompetitive price fast deliveryreadgood shuttlereadexcellentreadbest shuttle ever basminton readused good ok cork got deformed game readgoodreadsuperb quality satisfied thanks flip kart readwonderful shuttlesreadtnx teamreadokreadgood quality new stockreadonline purchased yonex mavis good quality purchase readnice qualotyreadauthentic product new stock great price bought readnicereaditem good ekart service bad readpoor quality materialreadexcellant iobreadpacking pathetic completely damaged box broken slightly damaged cork never expected flipkartreadknow even writing review everyone probably knows best readgood productreadreplacement came bit late perfect shuttle perfect pricereadprompt delivery product expected readexcellent badminton court especially beginnersreadgood productreadgoodreadsuperb nicereadnicereaddelivery bad product goodreadnicereadgoodreadoriginalreadlow qualityreadgreatreadshuttles look genuine suuuperrrrr slow play really disappointed readbad quality shuttle pathetic packing readdelivery super product goodreadamazingreadone tow damagereadthanksreadbest buy good quality shuttle cons readbad qualityreadgood quality readmuch delayed delivery product genuine readnice shuttlereadperfectreadshuttles good condition readgoodreadnice product speedy deliveryreadnicereadbox got crushed cardboard box please pack thin cardboard boxes instead pack plastic covers along bubble sheet wrapped around box way shuttles get damaged slightly shape shuttlles perform next time order shuttles expect proper delivery without damage else return readshuttle good bad readnice productsreadgood qualityreadnice product flipkartreadgoodreadoriginal check yonex website definitely lower price nearby shopsreadsuperb product delivered expected datereadregular user product happy bought deal readgood slow shuttle speed like pro shuttles balanced durable go readgoodreadquality good readbad qualityreadgenuine correct flight outdoor conditionreadnice shuttlereadawesome productreadgood productreadgenuine productreadquality good enoughreadbest shuttle every talent group readalways preffered mavis slow indoor court best one readgoodreadexpected nice quality quantity readuseable goodreadproduct good condition received timely also behaviour sales politereadgood fast shuttle lasts longreadgoodreadnice shuttles although gets bit fast shotsreadtime deliveryreadnice readdaily practice best shuttle satisfiedreadnice shuttles compared shuttles goodreadgreat price good qualityreadgood used one lasted long little experienced find slowing cork little awkwardreadflirty quality corckreadworst quality playing games cork hoveringreadproduct good worst customer service took weeks deliver itreadcounterfeit productreadpoor qualityreadlong lasting nice one good smashe good qualityreadlong durable superb shuttlereadbadreadslow betterreadquality goodreadshuttle box tampered shuttled tooreadhappyreadoldreadworth buy lasting two days two hours play readgood value moneyreadgood product long lastingreadgood nice quality useful pricereadsuper excellent product best price also original verified readavailable cheaper local sports shopreadsuperreadnicereadnice productreadworth moneyreadgoodreadgoodreadproduct awesome got delivery days readgood cualityreadgoodreadyonex upto markreadbest shuttlereadexcellent productreadquality goodreadgoodreadgood proddectreadreally nice durable nice quality al well perfect practicing professional regular use tooreadgoodreadgooodreadamazingreadbadreadquality product poor green cap recommended slow fast playingreadsuperreadnice onereadslow shuttle good flight superb accuracy readgoodreadgoodreadgoodreadmany time buy shuttlecocks elsewhere starts wobbling match shuttles great single shuttle easily last around matches reliable would say time delivery flipkart readnice quality especially indoor colored ones helps better visibility readnice productreadcouple shuttles speed expected overall good product readnicereadamazingreadgood productreadalways preferred choice one like itreadgood quality slower side even outdoor readexcellent product thanksreadnycreadproduct expected one satisfied delivery ordered night received product hand next day seller quick deliveryreadnicereadgoodreadexcellent product fast delivery wonderful service flip kartreadexcellentreadgoodreadsupperreadhighly durablereadsuperbreadbetter readproduct good quality proper attention given delicate items transportation readgood qualityreadgood product worth pricereadwonderfulreadfinereadgood product readawesomereadoriginal yonex good shuttle lasts long flight path excellent outdoorsreadnice productreadfast delivery thanks fksuper original productsreadnice productreadgoodreadpacking box good one shuttle got tear due worst packingreadnice productreadgood productreadwords simply superbreadgoodreadfast shuttles readgoodreadbest shuttle thanku flippant readproduct goodreadhonestly bad experience shuttles looked fine games would say intermediate level started tearing readhappy productreadexlent superreadgoodreadrecommendreadgoodreadbest product using one month still goodreadshuttles quality markreadplaying yrs got best shuttlereadfast shuttle playing day okreadoverall good times shuttles way fast play e used order pack month every month pack shuttles issue may duplicate readnice corkreadgood onereadnicee product use fulreadgood shuttle indoor use bunch intermediate advances shuttlers flight greencap shuttles good variation though one box another speed shuttle lasts long time problem flight pattern changes say games may want toss shuttle reaches stage overall good value money plastic shuttle plays somewhat similar feather lasts lot lon readsupperreadfound genuine delivered well time readnicereadball shakes bad readshuttle good slow broke day one shuttle purchased offline going daysreadgoodreadoriginal one good qualityreadlong lasting good quality shuttle good begineers readgood productreadsuperreadshuttlecock speed fast compared friend bought doubt quality packreadproduct good delivery delay bangalore city inside hmmreadgenuine product packaging wrostreadproduct much good packaging good please improve packaging sir mam thankureadbad cheap quality high cost watage money readgood originalreaddurability mavis shuttle corks expected level quality decreased please check revert backreadbuying yonex online always benefit cost wise complaint box bit squashed due transportation readmuch durable rs awesome durable readlove itreadbest shuttle price range one bad whole box lasted days regular buyer box lasts minimum days maybe old stock given time although best product price tangereadgood stuff readawesomereadgoodreadgood product readpacking well packing protect productreadgood onereadshipping handled well shuttles overturned thatreadplastic cover torn slightly product goodreadgood productreadyoo got orignal product readnice shuttles readrate high price offline readproduct good service worstreadgood shuttle close feather speedreadgenuine product great delivery time totally satisfied readsuper qualityreadrecive original product thanksreadpacking parsal good qualityreadnicereadgood qualityreadgreatreadorginal mavis gd productreadgoodreadgood productreadgood looks like old stockreadreceived product safereadgood onereadgenuine product delivered readbird heads stained little mud worried whether used ones good flight quality readoriginal verified scratch code readgood qualityreadnice app reliable genuine products delivered thanksreadshuttle slow get offline marketreadgoodreadgreat product charges high online purchases near sports shopreadfantasticreadimpressivereadgood productreadgood qualityreadgood productreadgood fast deliveryreadgood price readgoodreadfantastic quality readbuy product flipkart shuttle box wobbling readtotal barrel bad readgreat cheap per marketreadalways good pickreadnice product u go itreadgoodreadgood productreadbest ever recieved everreadgud shuttle worth penny readgood lessreadhappyreadexcellent quality strong shuttle practice much durablereadworst shuttle comereadgood product genuine delivery time readexcellentreadnice onereadgreatreadworst standard packing product box already crushed one side fillers protect box shuttle container lid cheap thin almost see type lid flipkart yonex check authenticity product sellerreadgood productreadpoor quality shuttles withstanding even one hour singles gamereaddamaged shuttles satisfiedreadgoodreadnicereadawesome productreadbadreadprice high local market rs lessreadok seems okreadgenuine product readgood qualityreadshuttles different compared buy showroom know exact reason shuttles look like cheaper quality three star readgood conditionreadgoodreadokreadokreadshuttles defective readnicereadthank youreadquite wellreadsuttles good packing poorreadnicereadreally nice shuttle good price range readgood qualityreadnice one readgood productreadnice durable slow speedreadbad qualityreadplaying badminton last month quality good far believe make better shuttle coming soon readnicereadgood qualityreadgood product nicereadgood qualityreadnice product reached earlier expectedreadgood onereadgood quality readgoodreadgood productreadgoodreadgood product thanks fast delivery readsuperreadokreadgoodreadgood replacement service first gets defective productreadnice good pricereadgoodreadcompetitive price fast delivery readoriginalreadnice productreadnicereadgood shuttle thanks flipkart speedy delivery product authentic n original readhope price remains mavis oginal product readtrustablereadbad qualityreadok nicereadgoodreadgreat productreadbestreadrecommended friend genuine productreadbest quality readbest intermediate playerreadgood dealreadnicereadgood productreadnice product yonexreadnice products thanks flipcart deliveryreadprompt delivery good packaging last time wrong damaged shipment made time took corrective action thank readsuperreadsuper shuttlereadhappy product readgoodreadawesome nice productreadfast service received one dayreaddelivery done give ratingreadnice productreadnice onereadgenuine productreadgood nice productreadgood qualityreadproduct nice packing worst shuttle broken inside dat delivered assured day still need work packaging areadquality goodreadfast delivery nice productreadsupetreadideal good bestreadgoodreadperfect onereadgood productreadgood u say best also fell water many time still working bestreadgot original product flip cartreadthanks speed dileviredreadnicereadgoodreadgoodreadexcellentreadgoodreadgot best price thanks fkreadproduct describedreadnicereadsuperreadexcellent delivered productreadoriginalreadthank flip card best product though first shopping still awesome readbest shuttle everreadfantastic original product doubt worry go readgreatreadnice product delivered time thank flipkartreadgood practice readdoubt universally best readnice original one go itreadproduct amazing love itreadgood product readgood one nice durabilityreadgood faster delivery thanks flipkart readworth moneyreadreceived packing loosereadgoodreadgenuine good quality go itreadmany shuttles started wobbly flight second day platingreadgoodreadgood product time delivery loved readordered pillars one damaged shuttle goodreadgoodreadnicereadnice productreadawesome product loved itreadwaste product ball worst pls next time good quality pls change next time seller l readgreat shuttles even better ones available shops right readgood quality shuttles delivered happy purchasereadreadgoodreadvalue moneyreadshipped within hours thanks quick deliveryreadreally worth paying best suited outdoor indoor wellreadbest one budget even though badminton novices still could feel difference shuttle products similar characteristics feather shuttle lasts much longer readgoodreadsuperreadgoodreadnice shuttlereadgood productreadgood user friendlyreadsatisfiedreaddurable happy product readgood qualityreadnice productreadgood qualityreadgoodreadgoodreadnice shuttlereadgoodreadgood shuttlecock play regerous games readv goodreadgood one readvalue moneyreadnice cpcks working goodreadthats goodreadwanted prompt delivery readoutstandingreadgood product low cost comparision marketreadgoodreadgenuine good product servicereadnice readgood professionals training alsoreadthank nice price readgood product low pricereadexcellent product simply get cheaper market readgood rate relatively lessreadthanks flipkartreadgood productreadgood productreadwowreadsuperreadgoodreadgud nice product better play training purposesreadgood intermediate players shuttle lasts games readreceived original productreadgugreadgood shuttle beginnersreadgood productreadbest productreadgood productreadperfect mereadfound decent price flipkart manufacturing date three months old satisfied deal readgoodreadsuperreadprfect product perfect delivery readshuttles goodreadsuperb product love fast serive flipkartreadget best pricereadgot delivered next day good quality shuttle pricereadtimely complete service readnice product readnicereadbest shuttlereadgood daily practicereadexcellent product readnicereadgoodreadgood productreadgot expected readnice productreadquality productreadtime delivery good price readreceived product excellent condition good packing quick delivery keep flipkart readgoodreaddelivery fast expected tq ekart logisticsreadgoodreadgreat product best price rs flipkart new stock well shuttle slow good also advantage using shuttle tournaments hosted india intermediate plus level use yonex mavis readperfectly suitable outdoor much diff local storesreadawesome product price amazing services love flipkart readbad productreadnicereadexcellentreadmarvelous goodreadproduct ok nicely packed readduplicate product shuttles fast like red cappls dont buyreadpacking awesome destruction shuttle great service readsuperreadnycreadplaying mavis last years buying mavis flipkart since last years late quality shuttles degraded shuttles bought flipkart slow expected quite fast makes useless hardly game two bought store problem makes doubt quality shuttles readgood onereadgood qualityreadgoodreadexellent productreadsimply best onereadnice one long lastingreadnice wobbling fly perfect orginal one boxes quality badreadquality productreadtime delivery product original genuine readseller mixing good one duplicates shuttle fluctuation speed means flight ok almost bought bundles kerala official rate give readproduct quality goodreadfirst class readnyc original shuttle readcondition good available market pricereadgoodreadbadreadratewise excellent readdisappointed shuttle quality shuttles wobble air zero starsreadbought flipkart used shuttle shuttles bad remaining also lasted half time original shuttles use go readgood quality durable lasting readgoodreadgood productreadexcellentreadgoodreadexcellent price little bit less readgood n genuine productreadfast delivery thanks flipcartreadgoodreadthird class product sent flipkart time shuttle continue days readgoodreadnicereadgoodreadgoodreadgood one pack one two correct flightreadgood one neat packaing fast deliveryreadmagnificent productsreadbuying multiple buyers time found genuine shuttle thanks lot flipkartreadgd product value moneyreadprice less delerreadgood regular usage indoorreadgoodreadnice onereadgood productreadsuperreadproduct goodreadquality good professional still lasts long time readbest quality low prisereadthanks flipkartreadhighly worthreadused shuttles felt goodreadvry gud product n delivery superbreadgood productreadgoodreadgood shuttlereadnicereadbad productreadgoodreadworst shuttle waste moneyreadexcellentreadreally goodreadokreadsatisfiedreadpoor qualityreadgoodreadsorry returned product sent without seeing inside already sent one box please send remaining boxesreadthanksreadgood old stock productsreadgoodreadgoodreadgood quality thank flipkartreadshuttles good feather shuttle flight life good wellreadgood product readexpress delivery good keep upreadgood productlife better well balanced speed also good shuttle aspecting readgood qualityreadnice people paly regularly massive shots last long goofreadgood qualityreadgoodreadgenuine ok intermediate playersreadthanksreadproduct good quality good delivery latereadgood going try get things cartreadgood productreadgoodqualityreadgood readgood product fast delivery like flipkartreadnice productreadgood product havereadgoodreadbestreadbuyreadoriginal product delivered sallerreadnice goodreadyonex mavis goodreadgoodreadgood product nice sellerreadquality gudreadreally good product shuttles qualityreadgreat shuttle durable perfect balanced readyonex bestreadmust buyreadgood product good readgd productsreadoriginal productsreadgood one expected readnicereadusual great time delivery readgoodreadthank nice productreadgood quality readwonderful product readsent broken seal box used shuttles disappointed readorginal satisfiedreadnice original productreadgdreadnice readgood pricereadgood quality reasonable pricereadreceived time doubtful original notreadbest shuttle middle class people dreadgoodreadgood product value money readawsm product shuttles strong love play readgood product bought product many times sometimes clearly see product product variationreadgood productreadgoodreadgood fresh stockreadgenuine productreadgood packing orginal yonex product readgood productreadperfect outdoor tooreadshuttle fastreadgood product delay delivery readnice productreadbetter rate open market readoutdoor best good playing matches friendsreadgoodreadnice productsreadsuperb readawesomereadquick delivery well donereadgood genuine productreadnice good fast delivery low pricereadnicereadgoodreadexcellent quality expected readmarkreadprodut good delivery bad shamereadnice productreadgood onereadgood best pricereadgoodreadwell made shuttles may last months eachreadgenuine product quality good thanks flipkartreadyonex mavish green cap nylon shuttle fit beginner also good player badminton go disappoint readgoodreadbest quality quality products quick delivery happy readgood onereadprice highreadpackage perfectly packed transition got slight damage outer box onlyreadsuperb quality got money worth thank readtotally satisfied productreadgoodreadnicereadworries good packing didnt face issue product readbad shuttle heavy weightreadget open box shuttle uumm ok know mavis ausam start game shuttle bubbling shuttles bubbling mean say directive pcsreadright choice outdoor gamereadnice packed fast delivery good filpkartreadnicereadgood productreadexcellent readquality goodreadcheked sunrise genuine product readdelivered time good deal awaiting deals readoxreadr goodreadgood qualityreadgenuine product readsuper fast delivery also best quality shuttlecocksreadmidium qualityreadgoodreadbrilliant productreadshuttles good quality also goodreadgood onereadgoodreadoriginal qualityreadlong lasting better performancereadproduct breakablereadgoodreadmust say nicest shuttles price paid long lasting readgoodreadgood productreadawesome readgood afford feathersreadvalue moneyreadgoodreadworst product ever purchased till hard lower part shutttles fixed properly ist shuttle box proper quality rest bad quality readgenuine yonex confirmed website plastic quality soft base crock less poursreadgreat productreadexcellent practice readnice product durabilityreadgenuine product fine quality readgood expectedreadvalue moneyreadawesome excellent packaging delicate item full marks flipkart readcheap nd good shuttlereadgood qualityreadnice product seems originalreadquality upto markreadgood shuttle worth moneyreadsuperreadworst qualityreadlove flipkart wonderful offer delivery great without damaging delicate itemreadgoodreadgood productreadgood quality readthanks seller flipkart fast delivery behaviour delivery boy good thanksreadhoodreadgood product superbreadgood product timly deliverreadsuper fast delivery flipkart simply awesomereadawesomereadgood productreadexcellentreadgoodreadquick delivery quality goodreadnice brake fastreadgoodreadgoodreadnice product readnicereadawesomereadgood lasts couple matchesreadnice product best pricereadcomments days shuttle quality less business purposesreadgood price increasedreaduseful product worth moneyreadgood product issue shuttles cork shuttle goes upper part remains ok moment used transparent tape around green strip new shuttle mitigate issue thanks readnicereadgood qualityreadawesome product discountreadshuttles fine like normal ones delivered timereadamazing cashback phonepe readbest qualityreadordered next day available readshuttles box quality felt using readnice prodectreadgood dry weatherreadproduct pirated days getting lot pirated products flipkart aware readawesome flipkart gives always value money onereadbest productreadgood betterreadnice readslow shuttles medium fast slow medium shuttles mixed bad readsublimate itemsreadawesomereadgoodreadnice dealreadgood product nice quality readnicreadgood product thanksreadnicereaduselessreadgoodreadbest productreadshuttle base poor recent shuttles comes porous wood gets withered away days readbad buy readquality goodreadqualityreadgood one weight one get shop lasts morereadgood lastingreadgood product long lasting readsupper productreadawesome productreadgoodreadgood productreadquality shuttles really good one lasts week really happy got original yonex product fake shuttles become common todayreadgd product readnice productreadsuperreadpoor quality shuttle breaks single dayreadgoodreadgood qualityreadgood qualityreadnice product speed delivered readgoodreadnicereadnice one readgood excellent performance readawesome productreadgoodreadbest shuttle intermediate level readnice productreadsuperb product price really shuttles good good price readgreat product good pricereadpoorreadgood product lasts two days powerful gamesreadgood quality high ratereadgreat value money deal time delivery cheapest marketreadnicereadgood productreadfinereadchecked product official site genuine pleased quick delivery within days excellent service readlooks genuinereadgood one readnicereadhead shuttle usually break matches readworst shuttle flipkart servicesreadeverythingreadgoodreadthanksreadamazingly quick delivery even take hoursreadgood quality shuttle long lasting quality readexcellent condition productreadoriginal shuttles readexcellent shuttle readsuperb regular practice good accuracy appropriate weight readquality acceptablereadsuper productreadexcellent productreadnylon shuttle ok bestreadgood qualityreaddurable shettlereadsuperreadreason bought online beaucse price quality good mavis shuttles find within rs go itreadgood one lastingreadnice product marvis readdurablereadawesomereadnicereadgud product thank flipkart readuse everyday hour last weekreadnyc productreadgood prdtreadwrost itemreadokay product cork bottom wears soon top part gets torn soon doubts whether originalreadpercent original shuttles flipkart good price readfentasticreadultimatereadfantasticreadgood qualityreadgood one original readgood good playersreadgood quality readshuttle good overall readhmmm goodreadgoodreadgreat product extremely happy product great buy indeed readgoodreadone best shuttle intermediate players slow steady readbought twice really cool worth buying online especially offerreadaverage quality shuttlesreadfinereadproduct delivered ontimereadhappyreadgoodreadflipkart service good product quality good damaging bottomreadgoodreadgoodreadgud productfast deliverybest price readgood productreadgood buy readways buying shuttle seller ways getting good product time got two defective shuttle base cracked delivery time also much take near one week days deliver readmavis best door playit durable play gamesreadgoodreadcoolreadexcellentreadgood shuttlereadnicereadbestreadnonsense product cheated mereadfastreadnice productreadsuperreadgood quality readeconomic sir please good economic everybody go nicereadgood productreadgood onereadgood one buyreadbadreadexcellentreadnothing comment product package greatreadgoodreadawesome item price play hard surface housing society hit lot smashes play shuttlecock days maximum readgood onewe played continuously daysvalue moneysatisfied productreadsuppar prodectreadgoodreadone seems original flight speed variation compared original readgood quality good flight last games flight speed readsuperrreadgoodreadgood quality shuttlecock got destroyed weekreadnice qualityreadgoodreadsucks got shuttles worthless piece junkreadnicei book anythingreadnice one wastage money right utilization moneyreadexcellentreadpacking good rate moderatereadgoodreadoriginal readya goodreadgud qualityreadgood playreadoriginal product recommend readbetterreadgood original productreadgoodreadgood productreadgood productreadsupper duperreadseem genuine ones readgood product servicereadbest deal proven product readthanks flip cart expected deliveryreadbest one worthy moneyreadgood add given mavis doz readbest product need confuse buy readfast deliveryoriginal productreasonable pricereadsay first amount take readnice productreadgoodreadgood produtreadgood flipkart easy order thing readworst product wrong item sendreaddelivered time thanksreadgood quality productsreadnice product really happy thanku flipkartreadnice productreadlooking genuinereadnice productreadnice shuttlereadbest quality tis ratereadbest quality readgood product readplay badminton tar road shuttle durable lasts week road previously used use mavi used spoil days readsuperbreadgood shuttles affordable pricereadsuper quality good productreadgreat quality readone best shuttlecock ever usedmust buy everyonereadgreat experience buying yonex flipkart flipkart five awesome offersreadgood productreadgood productreadgood product think original brandreadproduct good price lil high waiting sale season readnice shuttle thanks flipkart good packing timely delivery readbest qualityreadtotally original mavish thanks lotreadgood qualityreadgood productreadgoodreadbest flipkartreadreceived completely different item cheap quality readaveragereadbest hai bro readbest shuttle fr outdoor love itreadimitation original mavis playing mavis yrs readgood indoors readproduct good dilevery boy also good readproduct expected displayed thankyoureadbest quality readquality poor good beginning readdisgusting product readgoodreadpoor qualityreadgood productreadnicreadgood productreadsolidreadgoodreadee recived orginal one nice readgoodreadgood product yonexreadbadreadnice productreadgood qualityreadnice productreadbest shuttlereadnice pricereadgreat productreadnice genuine productreadgood product rate highreadsatisfiedreaddefault product delivered companyreadgoodreadsuperreadgreat readideal beginner intermediate level players lasts longer readokreadbad qualityreadnice product readgood qualityreadgood readgud productreadgood poor quality readgood productbut life long time readbad qualityreadgud playreadusing st shuttles far goodreadgood productreadshuttles good readcame soon really appreciatereadbestreadnice durabilityreadbest shuttle good pricereadproduct well packed n contained mavis shuttles n brand new delivered hours happy purchasereadnice good productreadgood packing delivery product original yonex always better buy senior playersreadfast delivery good packing originalreadbadreadgvry gd productreadmavis good coriyar good every time ask moneyreadbest badminton experience ever readproper professional shuttle deviate much open area wind pressurereadloved itreadnice productreadshuttlecock quality okay lasts games doubles point wobblesreadthanks ekart boy good servicereadgood product buy less readgood pricereadnice product shuttles superreadnice one go readgoodreadsuperreadokreaddelivered within one day goodreadproduct awesome delivery boy delivered product time nice person readgoodreadbest price yonex suttlereadgoodreadsuits group readnicereadbad readfelt difference shuttle quality comparing offline store doubt product authenticity readnicereadgenuine good product best service flipkartreadmst awom productreadthanks readnice one affordable pricereadgood onereadsatisfied ur servicereadbest professionalsreadgudreadaveragereadgoodreadgood qualityreadgood qualityperformance goodbut life time shortreadgreat suttle yonexreadbad productreadgood quality product thanks yonexreadgood professionals beginners less life u get running days readfound expectedreadgood productreadgoodreadgoodreadworth buying trust readgoodreaddurable productreadgood delivered mentionedreadtimely delivery product expectedreadprice lower sellersbut slower mavis blue capreadgoodreadgood qualityreadnice productreadproduct original genuine simply super b thanks flip kart readworst product delivery flipkart flipkart bothering customers simply delivering unsealed used products readgoodreadnice product lowest price readsuper productreadgood shuttles readexcellent product low price genuine loved readgudreadfabulous productreadbest shuttles used pro tournaments shuttle used days rough use intermediate playreadnicereadsatisfied quality good product readnice gud product damage gudreadstar flipkart delivery order placed pm shipped pm delivered next morning bangalore thumbs logistics product originalreadgood quality suppliedreadexcellent readnice one quality concerns old dated manufacturingreadgood quality shuttle originalreadoriginal product good quality readpackaging pathetic box containing shuttle deformed proper packaging required guess readgud productreadsuperbreadnice playreadgood product readgood one readgood productreadnice productreadseller good product new delivery also time readgood productreadnothingreadgoodreadgoodreadgood quality product readwastereadgoodreadgood productreadfinereadcork goodreadgoodreadnicereadnicereadbetterreadnicereadgood qualityreadawesomereadnicereadgood productreadtop classreadgood losereadgood productreadgood pankigreadgoodreadproduct good improvement required delivery time readthank flipkart return great shuttle play outdoorreadnicereadshuttles speed proper quality great two hours play n shuttle totally devasted condition good great conclusion would buy question think readnice productreadgood productreadgoodreadoriginal yonex shuttle flight good even using games readbad buyreadnycreadgood productreadgood purchasereadgoodreadgood enough pricereadgoodreadnice qualityreadbest playing slightly faster feather shuttles gr nylon shuttles readproduct mark shuttlecocks get tarn days itselfreadawesomereadproduct nice delivery badreadbest everreadarrived time good productreadexcellentreadthink perfect shuttle beginners n regular practice readgood productreadnice productreadpoor qualityreadperfectreadoriginal product great dealreadstays long readfast delevery item quality good readnicereadbadreadexcellentreadgot decent productreadgood productreadworthreadnice product readwastedreadlove readgood productreadokreaddiscounted items really worst shuttle got damaged cork matches happened ordered similar time must priced around poor build quality must recycled cork days retailer shops also selling price better purchase therereadsuper buy offer price good readlow quality productreadthanku flipkartreadmavis shuttles excellent comes contact dewa water last much time readusing last year regular playing best nylon shuttle readgreat one readgood productreadawesomereadgood quality delivered earlier expected date readgood product late delivery readworst buy corks throttling delivering qa failed productsreadthise product oldreadthough mentioned yonex quality poor readhorrible experience first seller sent pack white child playing shuttle may packed mavis cover contacted flipkart told dat idea seller despite fact dat flipkart assured anyway promised change changed relievedreadpoor qualityreadgood quality readgood product readgoodreadgreatreadpoor qualityreadgoodreadgood product good door courts must buyreadnice product worth money low price readawesome price gud package authentic productreadnice productreadgood product readsuperbreadsuper quality readproduct goodreadgood productreadgud readdelivered right timereadexcellent pricereadshuttle almost going doubles hard games little bit fast compared similar model vendors readproduct good service fast within days got item thanks flipkart readlow quality product one original mavis cork lasted even single match seller blacklisted flipkart readgood delivered time shuttle last even days sticker inside got first day readpoor qualityreadawesome readgetting ordered readnicereadgoodreadgoodreadfinereadproduct good readnicereadbest shuttles beginners good practicing badminton always suggest mavis outdoor indoor wellreadokayreadigood productreadgenuine mavis shuttle thanks flipkart amazing price readnice productreadgood productreadgood product readnice product readv goodreadgoodreadexcellentreadgood badreadnicereadsend product extra packing used pressed transportationreadsatisfactoryreadsoo nice correct price buyreadnice productreadgoodreadgoodreadgood product reasonable pricereadless price frm mrkt nice prdct delay delivery thts nt gdreadpure products receivedreadsuperbreadgoodreadproduct goodreadbest yonex mavis value price super fast delivery dayreadexcellent product thanks flipkart fast delivery readgoodreadbad really good qualityreadfully satisfied orderreadawesome quality best pricereadnice product good quality readdelivery boy nice behaviourreadnice productreadgood product like normal sports store nice condition readgood quality shuttle lasts upto one week per shuttle even rough usereadnicereadnice bt come delayreadgoodreadnicereadgood productreadgood purchasereadgoodreadgood product durability well readnicereadgood serviecereadexcellent readproduct good readamazing hello flipkart wany tell somthing badminton tournament coming please please give free delivery yonex voltric ld please please ok readnice productreadhappy service keep upreadgoodreadgood superbreadlikereadsatisfying product one easily rely flipkartreadoriginal good productreadcool product less price thanks flipkartreadgood productreadsuperb shipping fast delivery good item shown thanx flipcartreadgood onereadnice recommend use made japanvery good quality readgood shuttle costly readgoodreadperfect flipkstrreadnice shuttle readwowreadusually buy market lasts days easily time bought online even last one day also shuttle much slower bought market feel fake product exact copied packagingreadgood product readgoodreadawasomereadreally good product thnks flipkartreadnice product readbest deal readgoodreadnice product starsreadgoodreadgoodreadsmartreadwithin hrs delivered good productreadreasonable price comparativelyreadokreadfast delivery nice shuttle beginnersreadcheap product described expected readwell timereadgoodreadsuperbreadgood quality low pricesreadgot genuine productreadgood productreadgood productreadperfect pack completely packed sealed box nice readyoreadgood productreadaveragereadpoor quality time totally wrong product really unhappy seller readnormal play onlyreadgood buyreadquality good okreadtopreadexcellent product readgenuine quality checked official sunrise website shuttles brand new top notch box little squeezed shuttles intact readgoodreadsuperreadgoodreadgoodreadgreatreadgood product readbest shuttles less amount offerreadgoodreadmedium speed bought flipkart want speed go mavis ireadnice productreadgood shuttlesreadnice original product readshuttle nice delivery also goodreadgood product worst delivery servicereadgood onereadawesomereadokreaddear reason gave product single star due following reasons product authenticity question box ordered lasted less max set started disintegrating cork came comparison box shuttle purchased sports shop gguy lasted games disintegrating colour shuttle comparison box flipkart darker green yellowish tin readcostly quality okayreadgoodreadavaragereadworst product dont buy flifkartreadbest option purchase least pricereadgoodreadmuch good kamchalao readgoodreadgoodreadworst product dont buyreadnice bt deadly slowreadgoodreadexcept packing flipkart everything goodreadfull bawkbass waste money cant use playing hours readmuch time taken delivery otherwise product excellentreadgood quality product thanks ekart courier boy flipkart giving time readgoodreadgood qualityreadglamorous shuttles thanxx flipkartreadawesome quality readgoodreadgoodreadhappy shuttle looks duplicte shuttlereadhappy shuttlesreaddelivered promptly good qualityreadorginal productreadawesome product right time deliveryreadproduct expectedreadold itemreadoriginal yonex shuttles excellent flight readsuper readgot product time best quality readexcellentreadthanksreadgoodreadgood genuine readamazing rupeereadnice productreadexcellentreadgood quality product shuttle doesnt gives howsomuch beat sturdy enough readquality good readgoodreadmust say delivery time perfect every aspect u delivered two product different states u really deserve starsreadnice readsure original shuttles green sticker holds cork skin getting cut never seen far readgoodreadgoodreadoriginal poor qualityreadgoodreadgood quality appreciated thnksreadexcellentreadpoor quality use intermediate n advance players readgood productreadgreat product less price thank flipkart readprice high readfinereadpacking goodreadplease rate mach products goodreadbalancedreadbestreadgood product readgoodreadbest pricereadgood quality good delivery service keep readbest shuttle readauthentic go got thanks flipkartreadgood shuttlesreadgood productreadgood prodict bt price retailshops alsoreadgpod shuttlereadnicereadgood quality original yonex worried comes white hopefully sent nylon yellow thanks purchase rs readnicereadgenuine product delivery fast thnx f cart readquality good expensive readgood experiencereadproduct original delivered fastly promised date paking good condition happy readperfect professional playersreadshuttle quality good readgoodreaddelivered mavis green cap product page said medium speed shuttle would recommend beginners intermediates readgood qualityreadnice productreadworthy excellent piece cockspurthank flipkartreadstable shuttlereadsuperreaddurability goodreadawesome always yonex rocks readnice one getreadnicereadbest quality good air time light weight also lasting well loved readnice productreadnice shuttle speed also fine also go fr getting readgood every packet always defective piece perhaps company policyreadnice quality came timereadone best shuttle readgood onereadgoodreaddont buy products flipkart gave updates regarding product informationreadgood productreadnice shuttle gud packingreadbest product time delivery original product readfinereadnice box nice pricereadnice productreadshuttle nice thumps upreadbest one class lucky get itreadnice flight shuttlereadgoodreadgood productreadlong time period delivery otherwise perfect itemreadbest shuttlereadawesome seems shuttle last everreadgreatreadgoodreadcome good prize super quality readquality good product genuinereadawesomereadgood product fast service flipkartreadgood better qualityreadgood indoor gamereadrecived product mavis shuttels early prduct damagedreadexcellentreadgood buy star tip shuttle lasts long otherwise greatreadgood expectationsreadamazingreadreasonable pricereadgood productreadgood play worthy productreadbad qualityreadgood qualityreadgood onereadgood quality nice weight buy without worry readgood product better mavis readyonex mavisgood products badmintonreadgoodreadpacking mark readnice product flight really nice delivery time also good came day dayreadawesome product delivery services also goodreadgud product got low price rs readnice productreadmet expectations readgood quality shuttlesreadgoodreadnice productreadgreat stuff readnice qualityreadshuttle broken within days usagereadokreadnice productreadbest readgood onereadgood quality productreadwell packed received good condition readsuperreadok productreadnicereadgood n betterreadoriginal product best pricereadgood n genuine productreadvry gud productreadawesome product time delivery adds valuereadreceived mentioned good conditionreadoriginal good product pricereadgreatreadgood shuttlesreadproduct pretty good reasonable price readnicereadgenuine nothing need say readnicereadnycreadnice productreadgood productreadbest qualityreadgood productreadshuttle goodreadnice productreadnice productreadgood readim happy got yonex mavis shuttles today ordered today got today readbad delivered timereadgood qualityreadgoodreadnice productreadgoodreadsuper quality durable shuttle yonex quick delivery flipkart else needreadnice productreadnice productreadnice productreadextremely durable good product nonetheless readhappy product look like genuine outside box low quality cheated delivered three boxes instead four boxes unhappy thidreaddelivered time nice packaging happy readgud shuttle readgood shuttle boxreadnicereadawesome productreadalways goodreadgood qualityreadnice productreadpriced shuttles coz competition brands terms shuttle flight quality readpack little crushed product delivered otherwise product faring better product delivered promised date happy regard readgood quality prompt deliveryreadgreat productreadnice product good quality readnicereadgive quick delivery look like original sure quality use get think cheap readgood product expected readnicereadproduct delivered time original yonex happy quality shuttles got orderedreadsuper nice packreadbest buyreadgoodreadgood one readgood quality readproduct quality good readnice productreadbest quatity yonex fast delivery ordered sunday got monday readbest price quality productreadgot genuine product readgood productreadexcellent productreadnice go itreadnice productreadgood value moneyreadgood productreadthanks seller gave packed box shutte really genioun productreadoriginal good playreadnice product readsuperreadgood onesreadgoodreadnice productreadgood quality got delayed shipping productreadvalue money better buy local sports storereadbad quality readflipkart always best nice geniune product flipkart thanks readtopnotchreadgood product flipkartreadthisproduct veryhelpful servicesreadproduct good delivery good box completely flatten readsuperbreadgudreadnicereadmuch durablereadthanks flipkart good quality productsreadnice buyreaddoubt mavis good seller sent mavis instead return replace sure intentional readexcellentreadgood productreadgood one readmuch good readgood productreadquality good thanks seller timely delivery readworthy productsreadnice shuttle specially price ultimatereaddelivered time product excpected thanks fkartreadexcellentreadsuperbreadgoodreadsuper product got rs readgoodreadnice producti received sunday product best condition shuttlecock nice readgood product best price delivery flipkart also good shuttle best quality usual thanks flipkart readgoodreadnice product perfect intermediate players readbad avg readnice shuttles cracked broked daysreadvalue money good delivery flipkartreadgoodreadgood productreadgood qualityreadlong time work ingreadnicereadnice product super fast delivery readawesome job flipcart loving itreadgot cheap shuttles lasting long green strip coming quickly causing cork base separate quickly readgood product nice readnice onereadgood productreadnice product go readgood clubreadgoodreadamazing deal thanks flipkart bought rs readgood paking fast ilike muchreadballs worst conditionsreadsuperreadoriginal lessprice happyreadone shuttle good others okayreadexcellent againreadgood intermediatereadmavis good last one used readgoodreadseemed original rest r upto mark disappointed readgoodreadgood quality lifereadgoodreadgoodreadgood productreadbaad qualityreadpacking good product quality mediumreadnicereadreceived package appropriate time nice package original product best quality readgoodreadmavis good indoor play better go itreadgood qualityreadbadminton shuttle good quality nice readnice product fully satisfied speed shuttle good readbought inr big sales one best shuttle corks available one would normally last atleast days hours play day readgood product readgood shattlereadgoodreadshuttle light compare shop purchase may duplicate itreadgood indoor gamereadgood product readquality goodreadgood productreadreally goodreadawesome training readbest product outdoor playreadbrought product waste money given used product pl buy productreadpacking betterreadlight weight shuttles great professional playing readgud one readpoor qualityreadgrtreadnice stuttle love itreadnice delivered product high quality shown cortreadshuttles look genuine packing terrible box easily easily gets damaged shuttles inside get spoilt opt better packing readgot original yonex malvis thanks flipkart delivery slow readgoodreadbest quality best price readgood qualityreadquality goodreadnice product reached timereadoriginal product receivedreadnice product good beginners readbest ones practice lasts long readgoodreadexpectedreadtop qualityfeel real playingreadgood productreadcheap pricereadgoodreadnice orignal productreadgoodreadgoodreadnice durability superior indoor court readdurablereadgood shuttles warm climatic conditions readgoodreadgood packing product liked itreadthough got product around rs good shuttle broke day play intermediate level play box lasted days readlast long worth buyingreadbest cheap compared online site quality mark readnice productreadoriginalreadgo u r beginner badmintonreadgood shuttle yonexreadshuttle v gud v nice price v durablereadgood productreadgood onereadgood qualityreadgood genuinereadnice oneadipolyyayin bro readgoodreadsuperreadgood onereadgoodreadgood shuttle long lasting balancing readgood balance shuttle less durable playing give great experiencereadgood smash shotreadawsm delivery good productreadsuperbreadgood quality shuttle enjoy playing readgoodbut price high bought shuttle dealer rs price surging readgood product indoorreadlasts long timereadmavis much demand best shuttles intermediate semi pro players readbest productreadperfect intermediate playersreadgood qualityreadhigh quality product good amateurs like readtwo shuttles defective stars prompt deliveryreadgudreadpackaging properly done readgoodreadproduct goodreadreceived barrel seal happy product readproduct good enoughreadgoodreadworst product online purchase please consider review readbest indoor playing readgood one nd v r hppy product actly v r vry dbtfl online shoping nd allbt frnds r hpy tnk u filpkart readhello friends would like tell play badminton regular basis friends shuttle first choice practised daily hours shuttle last days also time damages crown fur area rather cork good product beginners readgood find issue readsmall delay delivery however product good readgoodreadfully satisfied readgood product received mavis readgood product packing goodreadnice projectreadgood productreadpoor qualityreadbest shuttle get playing outdoors indoors readnice shuttlereadgood itemreadgoodreadya v gudreadsuperb quality aspected readvalue moneyreadbeginner excellent professionals slow otherwise classy product beginners like mereadbestreadbest product thanksreadnice onereadgood productreadgood qualityreadgood reasonable offersreadgoodreadthanks team timely deliveryreadnicereadhi everyone using shuttle worth buy play indoor court buy readbest buyreadnice experiencereadgreat product pricecan get offer againreadprice offer goodreadget good corks usual thank u flipkart lov much readnice product worthble pricereadgood product readthird quality readamazing outstanding offer dont miss itreadbad item weight unsutable outdooereadnicereadreally worth buying go ahead buy game onreadbadreadgud onereadnicereadoriginal product worth buyingreadgood shape good qualityreadawsomereadgot nice piecesreadgoodreadbest productreadexcellentreadtoday totally hearted delivery boy rudely behaviour delivery timereadaverage quality product readitem seal already openedreadgoodreadnice product delivery services poorreadnice shuttle good outdoor games readgoodreadnice shuttlereadbadreadawesome productreadgood readgot product package perfectly seal broken played day best classreadthnxreadnicereadbest product ever seenreadsuper prductreadgood productreadgoodreadlocation direct sport showrooms bought rs online business much trickyreadproduct okay cheaper buy offlinereadpacking quality poor product genuinereadokay simply go readshuttle brand new packing good delhivery delivered time shuutle exelent indoorreadhappy productsreadthanksreadnice shuttle yonex got reasonable price thanks flipkartreadgood durablereadproduct good players readnicereadgood daily player readgood onereadgud quality productreadnice productreadpaid worth paying money readnicereadgood quality readpurchased rs expected discount quality good original product flipkart readgood productreadokreadgenuine product perfect delivery time readsupb really happy buy shuttle good quality product think go ahead readnice excellentreadone shuttle properly readreceived good set ideal flight readoverall quality product price justified readgoodreadyonex mavis strong excellent shuttlesreadgoodreadproduct good got best price fk readyonex mac best quality productsreadreally fabreadgreat playing outside durable break easy good weight ameture player readbest practice shuttlescork back ensures feel shuttles durable best long matches readgood product bad qualityreadnice shuttle quality medium pace shuttle readgoodreadgood productreadnice one readgood product readgood shuttlereadshipping freereadproduct good quality readawesome deal awesome price love itreadgood product right app readgoodreadgood original product readnice product yonex never let best company according mereadgood onereadgenuine product reasonable price good see daysreadnice product liked lot price worth readoriginal quality shuttles playing match shuttles tearing readprice rs high ontime delivery good play conditionsreaditem gud bt priced retail price readbooked mavis qty sometime flipkart cancelled offer due high demand product money got deducted think flipkart thing often liquid cash deposit money earn interest overnight ond night deposit flipkart benefiting money cancelling product request everyone go cod readduplicate shuttlecock original containers absolute cheating fake shuttlecock signs bottom line clearly square square original top line window original rest check youtube vds google itreadthanks flipkartreadflipkart giving offer purchasing items get extra ordering order got cancelled stating reason item per user readitem original one box purchased store thickness one bought online like mavis placed inside mavis box readmrp hai india tum mrp rakh k less de rahe ho band karo ye loot milti hai aajao yahareadnice service flipkart well dealer readproduct doubt good stars price mentioned really misleading says original discount one buy amazon sometimes sports stores readrate got box nothing diffrence customers like expects discounts buying online rate higher price local also wondering product iam seeing different different rates understanding readduplicate product pls buyreadquality poor seems product original better avoid sellers readwould given star rating service found shuttle box seem new onereadspend someore bucks buy good one readfake shuttles suppliedreadproduct quality good first delivered place return fast good service readgood service readquick delivery loved much delivered one dayreadchecked genunity product online shows originalreadcancel orderreadreturned productreadcondition readthought pack never blow hole corks quality usual similar local pack even get low price local shop readdilevary latereadgood quality genuine product sealed pack worries readgo product definitely fake since missing hologram sides pack ever go readsmarterreadgood qualityreadproduct original readcheatingreadlovable productreadquick delivery proper packingreadproduct delivery fast hassle freereadpromt deliveryreadtimely deliveryreadshuttles awsm played also delivery super fastreadupto mark product good delivery time readorder reached two days late delivery person cannot reached phone irresponsible behaviour customer care call holded minutes cut box came pressed luckily damage inside readflipkart best delivery system among e commerce companies please maintain edge one beat readordered fast yonex shuttles flipkart delivered slow yonex shuttlesreadthank flipcreadnice product getting best rate marketreaddelivered less daysreadgot product damaged form packing damn bad receiving product already crushed also found shuttle six used one readorder boxes together order order automatically cancelled please fix issuereadgoodwill yonex company universal delivering good product detected flipkart appreciable flipkart readfastest deliveryreadplease refund amount collecting return item readexcellent quick deliveryreadthanks delivery boy service always awesome readpriced even discount price much higher usual misleading description medium speed shuttles readmuch priced getting rs home town advantage purchasing item flipkart want wait almost days get readhii flipkart customers care delivery boys bring swipe machine plz tell delivery boys keep swipe machine thank youreadnice delivery speedread'"
      ]
     },
     "execution_count": 39,
     "metadata": {},
     "output_type": "execute_result"
    }
   ],
   "source": [
    "''.join(df['text_without_stopwords'])"
   ]
  },
  {
   "cell_type": "code",
   "execution_count": null,
   "id": "8a119347-9832-4de7-9774-2e3d3eeb1c77",
   "metadata": {},
   "outputs": [],
   "source": [
    "ser=pd.Series(l)"
   ]
  },
  {
   "cell_type": "code",
   "execution_count": null,
   "id": "6877dad9-b8f9-4518-87c8-7c13946f46fa",
   "metadata": {},
   "outputs": [
    {
     "data": {
      "text/plain": [
       "positive    6462\n",
       "negative    1551\n",
       "Name: count, dtype: int64"
      ]
     },
     "execution_count": 41,
     "metadata": {},
     "output_type": "execute_result"
    }
   ],
   "source": [
    "ser.value_counts()"
   ]
  },
  {
   "cell_type": "code",
   "execution_count": null,
   "id": "a8979735-083e-489d-9b37-227738572ccc",
   "metadata": {},
   "outputs": [],
   "source": [
    "df['sentiment']=ser"
   ]
  },
  {
   "cell_type": "code",
   "execution_count": null,
   "id": "ce0285f9-362d-45ce-91f6-b47d50f589a3",
   "metadata": {},
   "outputs": [
    {
     "data": {
      "text/plain": [
       "Reviewer Name               0\n",
       "Review Title                0\n",
       "Place of Review             0\n",
       "Up Votes                    0\n",
       "Down Votes                  0\n",
       "Month                       0\n",
       "Review text                 0\n",
       "Ratings                     0\n",
       "re                          0\n",
       "text_without_stopwords      0\n",
       "sentiment                 460\n",
       "dtype: int64"
      ]
     },
     "execution_count": 43,
     "metadata": {},
     "output_type": "execute_result"
    }
   ],
   "source": [
    "df.isnull().sum()"
   ]
  },
  {
   "cell_type": "code",
   "execution_count": null,
   "id": "64b74af2-7363-4a0d-a92c-f17663393b7c",
   "metadata": {},
   "outputs": [],
   "source": [
    "fina=df.dropna()"
   ]
  },
  {
   "cell_type": "code",
   "execution_count": null,
   "id": "4d886a66-1257-4598-a5f7-ea9097aa32d0",
   "metadata": {},
   "outputs": [],
   "source": []
  },
  {
   "cell_type": "code",
   "execution_count": null,
   "id": "02f175f1-4f58-4731-bbc2-3a0f1b97214c",
   "metadata": {},
   "outputs": [
    {
     "data": {
      "text/plain": [
       "re\n",
       "positive    6462\n",
       "negative    1551\n",
       "Name: count, dtype: int64"
      ]
     },
     "execution_count": 45,
     "metadata": {},
     "output_type": "execute_result"
    }
   ],
   "source": [
    "df['re'].value_counts()"
   ]
  },
  {
   "cell_type": "code",
   "execution_count": null,
   "id": "e5c95039-c156-4825-bafa-e6046ed78a60",
   "metadata": {},
   "outputs": [
    {
     "data": {
      "text/plain": [
       "re\n",
       "positive    6462\n",
       "negative    1551\n",
       "Name: count, dtype: int64"
      ]
     },
     "execution_count": 46,
     "metadata": {},
     "output_type": "execute_result"
    }
   ],
   "source": [
    "df['re'].value_counts()"
   ]
  },
  {
   "cell_type": "code",
   "execution_count": null,
   "id": "8d233f6b-9b6c-4783-822a-d75cbe1768f5",
   "metadata": {},
   "outputs": [
    {
     "data": {
      "text/plain": [
       "Reviewer Name               0\n",
       "Review Title                0\n",
       "Place of Review             0\n",
       "Up Votes                    0\n",
       "Down Votes                  0\n",
       "Month                       0\n",
       "Review text                 0\n",
       "Ratings                     0\n",
       "re                          0\n",
       "text_without_stopwords      0\n",
       "sentiment                 460\n",
       "dtype: int64"
      ]
     },
     "execution_count": 47,
     "metadata": {},
     "output_type": "execute_result"
    }
   ],
   "source": [
    "df.isnull().sum()"
   ]
  },
  {
   "cell_type": "code",
   "execution_count": null,
   "id": "4278fd66-ecf0-47ff-b63e-241cfdfa2a72",
   "metadata": {},
   "outputs": [
    {
     "data": {
      "text/html": [
       "<div>\n",
       "<style scoped>\n",
       "    .dataframe tbody tr th:only-of-type {\n",
       "        vertical-align: middle;\n",
       "    }\n",
       "\n",
       "    .dataframe tbody tr th {\n",
       "        vertical-align: top;\n",
       "    }\n",
       "\n",
       "    .dataframe thead th {\n",
       "        text-align: right;\n",
       "    }\n",
       "</style>\n",
       "<table border=\"1\" class=\"dataframe\">\n",
       "  <thead>\n",
       "    <tr style=\"text-align: right;\">\n",
       "      <th></th>\n",
       "      <th>Reviewer Name</th>\n",
       "      <th>Review Title</th>\n",
       "      <th>Place of Review</th>\n",
       "      <th>Up Votes</th>\n",
       "      <th>Down Votes</th>\n",
       "      <th>Month</th>\n",
       "      <th>Review text</th>\n",
       "      <th>Ratings</th>\n",
       "      <th>re</th>\n",
       "      <th>text_without_stopwords</th>\n",
       "      <th>sentiment</th>\n",
       "    </tr>\n",
       "  </thead>\n",
       "  <tbody>\n",
       "    <tr>\n",
       "      <th>0</th>\n",
       "      <td>Kamal Suresh</td>\n",
       "      <td>Nice product</td>\n",
       "      <td>Certified Buyer, Chirakkal</td>\n",
       "      <td>889.0</td>\n",
       "      <td>64.0</td>\n",
       "      <td>Feb 2021</td>\n",
       "      <td>Nice product, good quality, but price is now r...</td>\n",
       "      <td>4</td>\n",
       "      <td>positive</td>\n",
       "      <td>nice product good quality price rising bad sig...</td>\n",
       "      <td>positive</td>\n",
       "    </tr>\n",
       "    <tr>\n",
       "      <th>1</th>\n",
       "      <td>Flipkart Customer</td>\n",
       "      <td>Don't waste your money</td>\n",
       "      <td>Certified Buyer, Hyderabad</td>\n",
       "      <td>109.0</td>\n",
       "      <td>6.0</td>\n",
       "      <td>Feb 2021</td>\n",
       "      <td>They didn't supplied Yonex Mavis 350. Outside ...</td>\n",
       "      <td>1</td>\n",
       "      <td>negative</td>\n",
       "      <td>supplied yonex mavis outside cover yonex ad in...</td>\n",
       "      <td>negative</td>\n",
       "    </tr>\n",
       "    <tr>\n",
       "      <th>2</th>\n",
       "      <td>A. S. Raja Srinivasan</td>\n",
       "      <td>Did not meet expectations</td>\n",
       "      <td>Certified Buyer, Dharmapuri</td>\n",
       "      <td>42.0</td>\n",
       "      <td>3.0</td>\n",
       "      <td>Apr 2021</td>\n",
       "      <td>Worst product. Damaged shuttlecocks packed in ...</td>\n",
       "      <td>1</td>\n",
       "      <td>negative</td>\n",
       "      <td>worst product damaged shuttlecocks packed new ...</td>\n",
       "      <td>negative</td>\n",
       "    </tr>\n",
       "    <tr>\n",
       "      <th>5</th>\n",
       "      <td>Baji Sankar</td>\n",
       "      <td>Mind-blowing purchase</td>\n",
       "      <td>Certified Buyer, Hyderabad</td>\n",
       "      <td>173.0</td>\n",
       "      <td>45.0</td>\n",
       "      <td>Oct 2018</td>\n",
       "      <td>Good quality product. Delivered on time.READ MORE</td>\n",
       "      <td>5</td>\n",
       "      <td>positive</td>\n",
       "      <td>good quality product delivered time read</td>\n",
       "      <td>positive</td>\n",
       "    </tr>\n",
       "    <tr>\n",
       "      <th>6</th>\n",
       "      <td>Flipkart Customer</td>\n",
       "      <td>Must buy!</td>\n",
       "      <td>Certified Buyer, Doom Dooma</td>\n",
       "      <td>403.0</td>\n",
       "      <td>121.0</td>\n",
       "      <td>Jan 2020</td>\n",
       "      <td>BEST PURCHASE It is a good quality and is more...</td>\n",
       "      <td>5</td>\n",
       "      <td>positive</td>\n",
       "      <td>best purchase good quality durable average shu...</td>\n",
       "      <td>positive</td>\n",
       "    </tr>\n",
       "    <tr>\n",
       "      <th>...</th>\n",
       "      <td>...</td>\n",
       "      <td>...</td>\n",
       "      <td>...</td>\n",
       "      <td>...</td>\n",
       "      <td>...</td>\n",
       "      <td>...</td>\n",
       "      <td>...</td>\n",
       "      <td>...</td>\n",
       "      <td>...</td>\n",
       "      <td>...</td>\n",
       "      <td>...</td>\n",
       "    </tr>\n",
       "    <tr>\n",
       "      <th>8495</th>\n",
       "      <td>vishal kumar ashish</td>\n",
       "      <td>Nice</td>\n",
       "      <td>Certified Buyer, Haridwar</td>\n",
       "      <td>0.0</td>\n",
       "      <td>0.0</td>\n",
       "      <td>Oct 2016</td>\n",
       "      <td>Thanks to the delivery boy ... Service is alwa...</td>\n",
       "      <td>5</td>\n",
       "      <td>positive</td>\n",
       "      <td>thanks delivery boy service always awesome read</td>\n",
       "      <td>NaN</td>\n",
       "    </tr>\n",
       "    <tr>\n",
       "      <th>8496</th>\n",
       "      <td>Nitya Nand  Rai</td>\n",
       "      <td>Good choice</td>\n",
       "      <td>Certified Buyer, Raebareli</td>\n",
       "      <td>0.0</td>\n",
       "      <td>0.0</td>\n",
       "      <td>Oct 2016</td>\n",
       "      <td>Over priced even after 50% discount price is m...</td>\n",
       "      <td>1</td>\n",
       "      <td>negative</td>\n",
       "      <td>priced even discount price much higher usual m...</td>\n",
       "      <td>NaN</td>\n",
       "    </tr>\n",
       "    <tr>\n",
       "      <th>8497</th>\n",
       "      <td>Tarun Reddy</td>\n",
       "      <td>Awesome</td>\n",
       "      <td>Certified Buyer</td>\n",
       "      <td>0.0</td>\n",
       "      <td>0.0</td>\n",
       "      <td>Oct 2016</td>\n",
       "      <td>Too much priced. It was getting me for Rs. 640...</td>\n",
       "      <td>1</td>\n",
       "      <td>negative</td>\n",
       "      <td>much priced getting rs home town advantage pur...</td>\n",
       "      <td>NaN</td>\n",
       "    </tr>\n",
       "    <tr>\n",
       "      <th>8499</th>\n",
       "      <td>Jayachandra</td>\n",
       "      <td>High cost</td>\n",
       "      <td>Certified Buyer, Mangalore</td>\n",
       "      <td>0.0</td>\n",
       "      <td>0.0</td>\n",
       "      <td>Dec 2015</td>\n",
       "      <td>Hii flipkart customers care..why your delivery...</td>\n",
       "      <td>5</td>\n",
       "      <td>positive</td>\n",
       "      <td>hii flipkart customers care delivery boys brin...</td>\n",
       "      <td>NaN</td>\n",
       "    </tr>\n",
       "    <tr>\n",
       "      <th>8507</th>\n",
       "      <td>vishnu varma</td>\n",
       "      <td>Really Nice</td>\n",
       "      <td>Certified Buyer, Agartala</td>\n",
       "      <td>0.0</td>\n",
       "      <td>1.0</td>\n",
       "      <td>Sep 2016</td>\n",
       "      <td>Nice delivery speedREAD MORE</td>\n",
       "      <td>5</td>\n",
       "      <td>positive</td>\n",
       "      <td>nice delivery speedread</td>\n",
       "      <td>NaN</td>\n",
       "    </tr>\n",
       "  </tbody>\n",
       "</table>\n",
       "<p>8013 rows × 11 columns</p>\n",
       "</div>"
      ],
      "text/plain": [
       "               Reviewer Name               Review Title  \\\n",
       "0               Kamal Suresh               Nice product   \n",
       "1          Flipkart Customer     Don't waste your money   \n",
       "2     A. S. Raja Srinivasan   Did not meet expectations   \n",
       "5                Baji Sankar      Mind-blowing purchase   \n",
       "6          Flipkart Customer                  Must buy!   \n",
       "...                      ...                        ...   \n",
       "8495     vishal kumar ashish                       Nice   \n",
       "8496         Nitya Nand  Rai                Good choice   \n",
       "8497             Tarun Reddy                    Awesome   \n",
       "8499             Jayachandra                  High cost   \n",
       "8507            vishnu varma                Really Nice   \n",
       "\n",
       "                  Place of Review  Up Votes  Down Votes     Month  \\\n",
       "0      Certified Buyer, Chirakkal     889.0        64.0  Feb 2021   \n",
       "1      Certified Buyer, Hyderabad     109.0         6.0  Feb 2021   \n",
       "2     Certified Buyer, Dharmapuri      42.0         3.0  Apr 2021   \n",
       "5      Certified Buyer, Hyderabad     173.0        45.0  Oct 2018   \n",
       "6     Certified Buyer, Doom Dooma     403.0       121.0  Jan 2020   \n",
       "...                           ...       ...         ...       ...   \n",
       "8495    Certified Buyer, Haridwar       0.0         0.0  Oct 2016   \n",
       "8496   Certified Buyer, Raebareli       0.0         0.0  Oct 2016   \n",
       "8497              Certified Buyer       0.0         0.0  Oct 2016   \n",
       "8499   Certified Buyer, Mangalore       0.0         0.0  Dec 2015   \n",
       "8507    Certified Buyer, Agartala       0.0         1.0  Sep 2016   \n",
       "\n",
       "                                            Review text  Ratings        re  \\\n",
       "0     Nice product, good quality, but price is now r...        4  positive   \n",
       "1     They didn't supplied Yonex Mavis 350. Outside ...        1  negative   \n",
       "2     Worst product. Damaged shuttlecocks packed in ...        1  negative   \n",
       "5     Good quality product. Delivered on time.READ MORE        5  positive   \n",
       "6     BEST PURCHASE It is a good quality and is more...        5  positive   \n",
       "...                                                 ...      ...       ...   \n",
       "8495  Thanks to the delivery boy ... Service is alwa...        5  positive   \n",
       "8496  Over priced even after 50% discount price is m...        1  negative   \n",
       "8497  Too much priced. It was getting me for Rs. 640...        1  negative   \n",
       "8499  Hii flipkart customers care..why your delivery...        5  positive   \n",
       "8507                       Nice delivery speedREAD MORE        5  positive   \n",
       "\n",
       "                                 text_without_stopwords sentiment  \n",
       "0     nice product good quality price rising bad sig...  positive  \n",
       "1     supplied yonex mavis outside cover yonex ad in...  negative  \n",
       "2     worst product damaged shuttlecocks packed new ...  negative  \n",
       "5              good quality product delivered time read  positive  \n",
       "6     best purchase good quality durable average shu...  positive  \n",
       "...                                                 ...       ...  \n",
       "8495    thanks delivery boy service always awesome read       NaN  \n",
       "8496  priced even discount price much higher usual m...       NaN  \n",
       "8497  much priced getting rs home town advantage pur...       NaN  \n",
       "8499  hii flipkart customers care delivery boys brin...       NaN  \n",
       "8507                            nice delivery speedread       NaN  \n",
       "\n",
       "[8013 rows x 11 columns]"
      ]
     },
     "execution_count": 48,
     "metadata": {},
     "output_type": "execute_result"
    }
   ],
   "source": [
    "df"
   ]
  },
  {
   "cell_type": "code",
   "execution_count": null,
   "id": "63d02c53-1c69-429c-a703-62d43eb2c2bc",
   "metadata": {},
   "outputs": [],
   "source": []
  },
  {
   "cell_type": "code",
   "execution_count": null,
   "id": "9f8e080f-4e66-4f29-a538-cce24b2b16bf",
   "metadata": {},
   "outputs": [
    {
     "data": {
      "text/plain": [
       "0"
      ]
     },
     "execution_count": 49,
     "metadata": {},
     "output_type": "execute_result"
    }
   ],
   "source": [
    "len(review)"
   ]
  },
  {
   "cell_type": "code",
   "execution_count": null,
   "id": "533e5b83-b8c3-4fd1-b67a-5b1612964e07",
   "metadata": {},
   "outputs": [
    {
     "ename": "TypeError",
     "evalue": "cannot concatenate object of type '<class 'list'>'; only Series and DataFrame objs are valid",
     "output_type": "error",
     "traceback": [
      "\u001b[1;31m---------------------------------------------------------------------------\u001b[0m",
      "\u001b[1;31mTypeError\u001b[0m                                 Traceback (most recent call last)",
      "Cell \u001b[1;32mIn[50], line 1\u001b[0m\n\u001b[1;32m----> 1\u001b[0m ans\u001b[38;5;241m=\u001b[39mpd\u001b[38;5;241m.\u001b[39mconcat([df,review],axis\u001b[38;5;241m=\u001b[39m\u001b[38;5;241m1\u001b[39m)\n",
      "File \u001b[1;32mc:\\Users\\sspon\\anaconda3\\New folder\\Lib\\site-packages\\pandas\\core\\reshape\\concat.py:380\u001b[0m, in \u001b[0;36mconcat\u001b[1;34m(objs, axis, join, ignore_index, keys, levels, names, verify_integrity, sort, copy)\u001b[0m\n\u001b[0;32m    377\u001b[0m \u001b[38;5;28;01melif\u001b[39;00m copy \u001b[38;5;129;01mand\u001b[39;00m using_copy_on_write():\n\u001b[0;32m    378\u001b[0m     copy \u001b[38;5;241m=\u001b[39m \u001b[38;5;28;01mFalse\u001b[39;00m\n\u001b[1;32m--> 380\u001b[0m op \u001b[38;5;241m=\u001b[39m _Concatenator(\n\u001b[0;32m    381\u001b[0m     objs,\n\u001b[0;32m    382\u001b[0m     axis\u001b[38;5;241m=\u001b[39maxis,\n\u001b[0;32m    383\u001b[0m     ignore_index\u001b[38;5;241m=\u001b[39mignore_index,\n\u001b[0;32m    384\u001b[0m     join\u001b[38;5;241m=\u001b[39mjoin,\n\u001b[0;32m    385\u001b[0m     keys\u001b[38;5;241m=\u001b[39mkeys,\n\u001b[0;32m    386\u001b[0m     levels\u001b[38;5;241m=\u001b[39mlevels,\n\u001b[0;32m    387\u001b[0m     names\u001b[38;5;241m=\u001b[39mnames,\n\u001b[0;32m    388\u001b[0m     verify_integrity\u001b[38;5;241m=\u001b[39mverify_integrity,\n\u001b[0;32m    389\u001b[0m     copy\u001b[38;5;241m=\u001b[39mcopy,\n\u001b[0;32m    390\u001b[0m     sort\u001b[38;5;241m=\u001b[39msort,\n\u001b[0;32m    391\u001b[0m )\n\u001b[0;32m    393\u001b[0m \u001b[38;5;28;01mreturn\u001b[39;00m op\u001b[38;5;241m.\u001b[39mget_result()\n",
      "File \u001b[1;32mc:\\Users\\sspon\\anaconda3\\New folder\\Lib\\site-packages\\pandas\\core\\reshape\\concat.py:446\u001b[0m, in \u001b[0;36m_Concatenator.__init__\u001b[1;34m(self, objs, axis, join, keys, levels, names, ignore_index, verify_integrity, copy, sort)\u001b[0m\n\u001b[0;32m    443\u001b[0m objs, keys \u001b[38;5;241m=\u001b[39m \u001b[38;5;28mself\u001b[39m\u001b[38;5;241m.\u001b[39m_clean_keys_and_objs(objs, keys)\n\u001b[0;32m    445\u001b[0m \u001b[38;5;66;03m# figure out what our result ndim is going to be\u001b[39;00m\n\u001b[1;32m--> 446\u001b[0m ndims \u001b[38;5;241m=\u001b[39m \u001b[38;5;28mself\u001b[39m\u001b[38;5;241m.\u001b[39m_get_ndims(objs)\n\u001b[0;32m    447\u001b[0m sample, objs \u001b[38;5;241m=\u001b[39m \u001b[38;5;28mself\u001b[39m\u001b[38;5;241m.\u001b[39m_get_sample_object(objs, ndims, keys, names, levels)\n\u001b[0;32m    449\u001b[0m \u001b[38;5;66;03m# Standardize axis parameter to int\u001b[39;00m\n",
      "File \u001b[1;32mc:\\Users\\sspon\\anaconda3\\New folder\\Lib\\site-packages\\pandas\\core\\reshape\\concat.py:487\u001b[0m, in \u001b[0;36m_Concatenator._get_ndims\u001b[1;34m(self, objs)\u001b[0m\n\u001b[0;32m    482\u001b[0m     \u001b[38;5;28;01mif\u001b[39;00m \u001b[38;5;129;01mnot\u001b[39;00m \u001b[38;5;28misinstance\u001b[39m(obj, (ABCSeries, ABCDataFrame)):\n\u001b[0;32m    483\u001b[0m         msg \u001b[38;5;241m=\u001b[39m (\n\u001b[0;32m    484\u001b[0m             \u001b[38;5;124mf\u001b[39m\u001b[38;5;124m\"\u001b[39m\u001b[38;5;124mcannot concatenate object of type \u001b[39m\u001b[38;5;124m'\u001b[39m\u001b[38;5;132;01m{\u001b[39;00m\u001b[38;5;28mtype\u001b[39m(obj)\u001b[38;5;132;01m}\u001b[39;00m\u001b[38;5;124m'\u001b[39m\u001b[38;5;124m; \u001b[39m\u001b[38;5;124m\"\u001b[39m\n\u001b[0;32m    485\u001b[0m             \u001b[38;5;124m\"\u001b[39m\u001b[38;5;124monly Series and DataFrame objs are valid\u001b[39m\u001b[38;5;124m\"\u001b[39m\n\u001b[0;32m    486\u001b[0m         )\n\u001b[1;32m--> 487\u001b[0m         \u001b[38;5;28;01mraise\u001b[39;00m \u001b[38;5;167;01mTypeError\u001b[39;00m(msg)\n\u001b[0;32m    489\u001b[0m     ndims\u001b[38;5;241m.\u001b[39madd(obj\u001b[38;5;241m.\u001b[39mndim)\n\u001b[0;32m    490\u001b[0m \u001b[38;5;28;01mreturn\u001b[39;00m ndims\n",
      "\u001b[1;31mTypeError\u001b[0m: cannot concatenate object of type '<class 'list'>'; only Series and DataFrame objs are valid"
     ]
    }
   ],
   "source": [
    "ans=pd.concat([df,review],axis=1)"
   ]
  },
  {
   "cell_type": "code",
   "execution_count": null,
   "id": "831dd0c2-0a2c-4975-9c24-15c5147a8e1a",
   "metadata": {},
   "outputs": [],
   "source": [
    "ans.dropna(inplace=True)"
   ]
  },
  {
   "cell_type": "code",
   "execution_count": null,
   "id": "668b9be1-4ec8-4533-8899-707f5bc4c3fb",
   "metadata": {},
   "outputs": [
    {
     "data": {
      "text/plain": [
       "positive    6106\n",
       "negative    1447\n",
       "Name: reviews, dtype: int64"
      ]
     },
     "execution_count": 78,
     "metadata": {},
     "output_type": "execute_result"
    }
   ],
   "source": [
    "ans.reviews.value_counts()"
   ]
  },
  {
   "cell_type": "code",
   "execution_count": null,
   "id": "db5f3ecf-5400-49b8-8d8d-c52e143a2983",
   "metadata": {},
   "outputs": [
    {
     "data": {
      "text/plain": [
       "5.0    4554\n",
       "4.0    1534\n",
       "1.0     654\n",
       "3.0     538\n",
       "2.0     273\n",
       "Name: Ratings, dtype: int64"
      ]
     },
     "execution_count": 79,
     "metadata": {},
     "output_type": "execute_result"
    }
   ],
   "source": [
    "ans.Ratings.value_counts()"
   ]
  },
  {
   "cell_type": "code",
   "execution_count": null,
   "id": "139882a6-d429-46a5-a639-3395d07df8e8",
   "metadata": {},
   "outputs": [],
   "source": [
    "review=pd.Series(review,name='reviews')"
   ]
  },
  {
   "cell_type": "code",
   "execution_count": null,
   "id": "a7ba917c-6ba0-4249-a2e6-287fef9fd910",
   "metadata": {},
   "outputs": [
    {
     "data": {
      "text/plain": [
       "positive    6462\n",
       "negative     976\n",
       "neutral      575\n",
       "Name: reviews, dtype: int64"
      ]
     },
     "execution_count": 86,
     "metadata": {},
     "output_type": "execute_result"
    }
   ],
   "source": [
    "review.value_counts()"
   ]
  },
  {
   "cell_type": "code",
   "execution_count": null,
   "id": "bb388144-fdbe-4321-bfa7-2d762bc0ddd3",
   "metadata": {},
   "outputs": [
    {
     "data": {
      "text/plain": [
       "8013"
      ]
     },
     "execution_count": 89,
     "metadata": {},
     "output_type": "execute_result"
    }
   ],
   "source": [
    "len(df.Ratings)"
   ]
  },
  {
   "cell_type": "code",
   "execution_count": null,
   "id": "53ab59d5-735e-415e-962a-f3b5fff91758",
   "metadata": {},
   "outputs": [
    {
     "data": {
      "text/plain": [
       "Reviewer Name      0\n",
       "Review Title       0\n",
       "Place of Review    0\n",
       "Up Votes           0\n",
       "Down Votes         0\n",
       "Month              0\n",
       "Review text        0\n",
       "Ratings            0\n",
       "dtype: int64"
      ]
     },
     "execution_count": 90,
     "metadata": {},
     "output_type": "execute_result"
    }
   ],
   "source": [
    "df.isnull().sum()"
   ]
  },
  {
   "cell_type": "code",
   "execution_count": null,
   "id": "aaae7511-edfa-457b-855e-1b3c4e5fe32f",
   "metadata": {
    "scrolled": true
   },
   "outputs": [
    {
     "data": {
      "text/plain": [
       "(8013, 8)"
      ]
     },
     "execution_count": 91,
     "metadata": {},
     "output_type": "execute_result"
    }
   ],
   "source": [
    "df.shape"
   ]
  },
  {
   "cell_type": "code",
   "execution_count": 84,
   "id": "497146a4-9908-4608-bd1c-7b4c3e5f1f6b",
   "metadata": {},
   "outputs": [
    {
     "data": {
      "text/plain": [
       "array([1, 0, 0, ..., 0, 1, 1])"
      ]
     },
     "execution_count": 84,
     "metadata": {},
     "output_type": "execute_result"
    }
   ],
   "source": [
    "val"
   ]
  },
  {
   "cell_type": "code",
   "execution_count": null,
   "id": "e206038a-b390-4e4e-ad57-46aaaa434aec",
   "metadata": {},
   "outputs": [],
   "source": [
    "df.drop(['sentiment'],axis=1,inplace=True)"
   ]
  },
  {
   "cell_type": "code",
   "execution_count": null,
   "id": "a92add66-cf7c-4abd-8818-2e55e0362b1d",
   "metadata": {},
   "outputs": [
    {
     "data": {
      "text/html": [
       "<div>\n",
       "<style scoped>\n",
       "    .dataframe tbody tr th:only-of-type {\n",
       "        vertical-align: middle;\n",
       "    }\n",
       "\n",
       "    .dataframe tbody tr th {\n",
       "        vertical-align: top;\n",
       "    }\n",
       "\n",
       "    .dataframe thead th {\n",
       "        text-align: right;\n",
       "    }\n",
       "</style>\n",
       "<table border=\"1\" class=\"dataframe\">\n",
       "  <thead>\n",
       "    <tr style=\"text-align: right;\">\n",
       "      <th></th>\n",
       "      <th>Reviewer Name</th>\n",
       "      <th>Review Title</th>\n",
       "      <th>Place of Review</th>\n",
       "      <th>Up Votes</th>\n",
       "      <th>Down Votes</th>\n",
       "      <th>Month</th>\n",
       "      <th>Review text</th>\n",
       "      <th>Ratings</th>\n",
       "      <th>re</th>\n",
       "      <th>text_without_stopwords</th>\n",
       "    </tr>\n",
       "  </thead>\n",
       "  <tbody>\n",
       "    <tr>\n",
       "      <th>0</th>\n",
       "      <td>Kamal Suresh</td>\n",
       "      <td>Nice product</td>\n",
       "      <td>Certified Buyer, Chirakkal</td>\n",
       "      <td>889.0</td>\n",
       "      <td>64.0</td>\n",
       "      <td>Feb 2021</td>\n",
       "      <td>Nice product, good quality, but price is now r...</td>\n",
       "      <td>4</td>\n",
       "      <td>positive</td>\n",
       "      <td>nice product good quality price rising bad sig...</td>\n",
       "    </tr>\n",
       "    <tr>\n",
       "      <th>1</th>\n",
       "      <td>Flipkart Customer</td>\n",
       "      <td>Don't waste your money</td>\n",
       "      <td>Certified Buyer, Hyderabad</td>\n",
       "      <td>109.0</td>\n",
       "      <td>6.0</td>\n",
       "      <td>Feb 2021</td>\n",
       "      <td>They didn't supplied Yonex Mavis 350. Outside ...</td>\n",
       "      <td>1</td>\n",
       "      <td>negative</td>\n",
       "      <td>supplied yonex mavis outside cover yonex ad in...</td>\n",
       "    </tr>\n",
       "    <tr>\n",
       "      <th>2</th>\n",
       "      <td>A. S. Raja Srinivasan</td>\n",
       "      <td>Did not meet expectations</td>\n",
       "      <td>Certified Buyer, Dharmapuri</td>\n",
       "      <td>42.0</td>\n",
       "      <td>3.0</td>\n",
       "      <td>Apr 2021</td>\n",
       "      <td>Worst product. Damaged shuttlecocks packed in ...</td>\n",
       "      <td>1</td>\n",
       "      <td>negative</td>\n",
       "      <td>worst product damaged shuttlecocks packed new ...</td>\n",
       "    </tr>\n",
       "    <tr>\n",
       "      <th>5</th>\n",
       "      <td>Baji Sankar</td>\n",
       "      <td>Mind-blowing purchase</td>\n",
       "      <td>Certified Buyer, Hyderabad</td>\n",
       "      <td>173.0</td>\n",
       "      <td>45.0</td>\n",
       "      <td>Oct 2018</td>\n",
       "      <td>Good quality product. Delivered on time.READ MORE</td>\n",
       "      <td>5</td>\n",
       "      <td>positive</td>\n",
       "      <td>good quality product delivered time read</td>\n",
       "    </tr>\n",
       "    <tr>\n",
       "      <th>6</th>\n",
       "      <td>Flipkart Customer</td>\n",
       "      <td>Must buy!</td>\n",
       "      <td>Certified Buyer, Doom Dooma</td>\n",
       "      <td>403.0</td>\n",
       "      <td>121.0</td>\n",
       "      <td>Jan 2020</td>\n",
       "      <td>BEST PURCHASE It is a good quality and is more...</td>\n",
       "      <td>5</td>\n",
       "      <td>positive</td>\n",
       "      <td>best purchase good quality durable average shu...</td>\n",
       "    </tr>\n",
       "    <tr>\n",
       "      <th>...</th>\n",
       "      <td>...</td>\n",
       "      <td>...</td>\n",
       "      <td>...</td>\n",
       "      <td>...</td>\n",
       "      <td>...</td>\n",
       "      <td>...</td>\n",
       "      <td>...</td>\n",
       "      <td>...</td>\n",
       "      <td>...</td>\n",
       "      <td>...</td>\n",
       "    </tr>\n",
       "    <tr>\n",
       "      <th>8495</th>\n",
       "      <td>vishal kumar ashish</td>\n",
       "      <td>Nice</td>\n",
       "      <td>Certified Buyer, Haridwar</td>\n",
       "      <td>0.0</td>\n",
       "      <td>0.0</td>\n",
       "      <td>Oct 2016</td>\n",
       "      <td>Thanks to the delivery boy ... Service is alwa...</td>\n",
       "      <td>5</td>\n",
       "      <td>positive</td>\n",
       "      <td>thanks delivery boy service always awesome read</td>\n",
       "    </tr>\n",
       "    <tr>\n",
       "      <th>8496</th>\n",
       "      <td>Nitya Nand  Rai</td>\n",
       "      <td>Good choice</td>\n",
       "      <td>Certified Buyer, Raebareli</td>\n",
       "      <td>0.0</td>\n",
       "      <td>0.0</td>\n",
       "      <td>Oct 2016</td>\n",
       "      <td>Over priced even after 50% discount price is m...</td>\n",
       "      <td>1</td>\n",
       "      <td>negative</td>\n",
       "      <td>priced even discount price much higher usual m...</td>\n",
       "    </tr>\n",
       "    <tr>\n",
       "      <th>8497</th>\n",
       "      <td>Tarun Reddy</td>\n",
       "      <td>Awesome</td>\n",
       "      <td>Certified Buyer</td>\n",
       "      <td>0.0</td>\n",
       "      <td>0.0</td>\n",
       "      <td>Oct 2016</td>\n",
       "      <td>Too much priced. It was getting me for Rs. 640...</td>\n",
       "      <td>1</td>\n",
       "      <td>negative</td>\n",
       "      <td>much priced getting rs home town advantage pur...</td>\n",
       "    </tr>\n",
       "    <tr>\n",
       "      <th>8499</th>\n",
       "      <td>Jayachandra</td>\n",
       "      <td>High cost</td>\n",
       "      <td>Certified Buyer, Mangalore</td>\n",
       "      <td>0.0</td>\n",
       "      <td>0.0</td>\n",
       "      <td>Dec 2015</td>\n",
       "      <td>Hii flipkart customers care..why your delivery...</td>\n",
       "      <td>5</td>\n",
       "      <td>positive</td>\n",
       "      <td>hii flipkart customers care delivery boys brin...</td>\n",
       "    </tr>\n",
       "    <tr>\n",
       "      <th>8507</th>\n",
       "      <td>vishnu varma</td>\n",
       "      <td>Really Nice</td>\n",
       "      <td>Certified Buyer, Agartala</td>\n",
       "      <td>0.0</td>\n",
       "      <td>1.0</td>\n",
       "      <td>Sep 2016</td>\n",
       "      <td>Nice delivery speedREAD MORE</td>\n",
       "      <td>5</td>\n",
       "      <td>positive</td>\n",
       "      <td>nice delivery speedread</td>\n",
       "    </tr>\n",
       "  </tbody>\n",
       "</table>\n",
       "<p>8013 rows × 10 columns</p>\n",
       "</div>"
      ],
      "text/plain": [
       "               Reviewer Name               Review Title  \\\n",
       "0               Kamal Suresh               Nice product   \n",
       "1          Flipkart Customer     Don't waste your money   \n",
       "2     A. S. Raja Srinivasan   Did not meet expectations   \n",
       "5                Baji Sankar      Mind-blowing purchase   \n",
       "6          Flipkart Customer                  Must buy!   \n",
       "...                      ...                        ...   \n",
       "8495     vishal kumar ashish                       Nice   \n",
       "8496         Nitya Nand  Rai                Good choice   \n",
       "8497             Tarun Reddy                    Awesome   \n",
       "8499             Jayachandra                  High cost   \n",
       "8507            vishnu varma                Really Nice   \n",
       "\n",
       "                  Place of Review  Up Votes  Down Votes     Month  \\\n",
       "0      Certified Buyer, Chirakkal     889.0        64.0  Feb 2021   \n",
       "1      Certified Buyer, Hyderabad     109.0         6.0  Feb 2021   \n",
       "2     Certified Buyer, Dharmapuri      42.0         3.0  Apr 2021   \n",
       "5      Certified Buyer, Hyderabad     173.0        45.0  Oct 2018   \n",
       "6     Certified Buyer, Doom Dooma     403.0       121.0  Jan 2020   \n",
       "...                           ...       ...         ...       ...   \n",
       "8495    Certified Buyer, Haridwar       0.0         0.0  Oct 2016   \n",
       "8496   Certified Buyer, Raebareli       0.0         0.0  Oct 2016   \n",
       "8497              Certified Buyer       0.0         0.0  Oct 2016   \n",
       "8499   Certified Buyer, Mangalore       0.0         0.0  Dec 2015   \n",
       "8507    Certified Buyer, Agartala       0.0         1.0  Sep 2016   \n",
       "\n",
       "                                            Review text  Ratings        re  \\\n",
       "0     Nice product, good quality, but price is now r...        4  positive   \n",
       "1     They didn't supplied Yonex Mavis 350. Outside ...        1  negative   \n",
       "2     Worst product. Damaged shuttlecocks packed in ...        1  negative   \n",
       "5     Good quality product. Delivered on time.READ MORE        5  positive   \n",
       "6     BEST PURCHASE It is a good quality and is more...        5  positive   \n",
       "...                                                 ...      ...       ...   \n",
       "8495  Thanks to the delivery boy ... Service is alwa...        5  positive   \n",
       "8496  Over priced even after 50% discount price is m...        1  negative   \n",
       "8497  Too much priced. It was getting me for Rs. 640...        1  negative   \n",
       "8499  Hii flipkart customers care..why your delivery...        5  positive   \n",
       "8507                       Nice delivery speedREAD MORE        5  positive   \n",
       "\n",
       "                                 text_without_stopwords  \n",
       "0     nice product good quality price rising bad sig...  \n",
       "1     supplied yonex mavis outside cover yonex ad in...  \n",
       "2     worst product damaged shuttlecocks packed new ...  \n",
       "5              good quality product delivered time read  \n",
       "6     best purchase good quality durable average shu...  \n",
       "...                                                 ...  \n",
       "8495    thanks delivery boy service always awesome read  \n",
       "8496  priced even discount price much higher usual m...  \n",
       "8497  much priced getting rs home town advantage pur...  \n",
       "8499  hii flipkart customers care delivery boys brin...  \n",
       "8507                            nice delivery speedread  \n",
       "\n",
       "[8013 rows x 10 columns]"
      ]
     },
     "execution_count": 55,
     "metadata": {},
     "output_type": "execute_result"
    }
   ],
   "source": [
    "df"
   ]
  },
  {
   "cell_type": "code",
   "execution_count": 85,
   "id": "de1646f9-dc2f-4c17-8986-d481bfda3c93",
   "metadata": {},
   "outputs": [],
   "source": [
    "import re\n",
    "def preprocess_text(text):\n",
    "    text = str(text)\n",
    "    sentence = re.sub(\"[^a-zA-Z]\", \" \", text)\n",
    "    sentence = sentence.lower()\n",
    "    tokens = sentence.split()\n",
    "    tokens = [t for t in tokens if not t in stopwords.words(\"english\")]\n",
    "    tokens = [lemmatizer.lemmatize(word,pos='v') for word in tokens]\n",
    "    return pd.Series([\" \".join(tokens), len(tokens)])\n",
    " "
   ]
  },
  {
   "cell_type": "code",
   "execution_count": 86,
   "id": "262c7107-483b-4568-a4f4-08b0d2e35c25",
   "metadata": {},
   "outputs": [],
   "source": [
    "from nltk.stem import WordNetLemmatizer"
   ]
  },
  {
   "cell_type": "code",
   "execution_count": 87,
   "id": "eff5c3c9-f2c5-401c-b3ad-58234ed78383",
   "metadata": {},
   "outputs": [],
   "source": [
    "lemmatizer=WordNetLemmatizer()"
   ]
  },
  {
   "cell_type": "code",
   "execution_count": 88,
   "id": "b719d2ee-ef9e-4806-902c-8d137ee7c81b",
   "metadata": {},
   "outputs": [],
   "source": [
    "demo=df['Review text'].apply(preprocess_text)"
   ]
  },
  {
   "cell_type": "code",
   "execution_count": 89,
   "id": "df56f5d4-c4af-4a8e-ab50-ba410c3629c6",
   "metadata": {},
   "outputs": [
    {
     "data": {
      "text/html": [
       "<div>\n",
       "<style scoped>\n",
       "    .dataframe tbody tr th:only-of-type {\n",
       "        vertical-align: middle;\n",
       "    }\n",
       "\n",
       "    .dataframe tbody tr th {\n",
       "        vertical-align: top;\n",
       "    }\n",
       "\n",
       "    .dataframe thead th {\n",
       "        text-align: right;\n",
       "    }\n",
       "</style>\n",
       "<table border=\"1\" class=\"dataframe\">\n",
       "  <thead>\n",
       "    <tr style=\"text-align: right;\">\n",
       "      <th></th>\n",
       "      <th>0</th>\n",
       "      <th>1</th>\n",
       "    </tr>\n",
       "  </thead>\n",
       "  <tbody>\n",
       "    <tr>\n",
       "      <th>0</th>\n",
       "      <td>nice product good quality price rise bad sign ...</td>\n",
       "      <td>20</td>\n",
       "    </tr>\n",
       "    <tr>\n",
       "      <th>1</th>\n",
       "      <td>supply yonex mavis outside cover yonex ad insi...</td>\n",
       "      <td>12</td>\n",
       "    </tr>\n",
       "    <tr>\n",
       "      <th>2</th>\n",
       "      <td>worst product damage shuttlecock pack new box ...</td>\n",
       "      <td>17</td>\n",
       "    </tr>\n",
       "    <tr>\n",
       "      <th>5</th>\n",
       "      <td>good quality product deliver time read</td>\n",
       "      <td>6</td>\n",
       "    </tr>\n",
       "    <tr>\n",
       "      <th>6</th>\n",
       "      <td>best purchase good quality durable average shu...</td>\n",
       "      <td>9</td>\n",
       "    </tr>\n",
       "    <tr>\n",
       "      <th>...</th>\n",
       "      <td>...</td>\n",
       "      <td>...</td>\n",
       "    </tr>\n",
       "    <tr>\n",
       "      <th>8495</th>\n",
       "      <td>thank delivery boy service always awesome read</td>\n",
       "      <td>7</td>\n",
       "    </tr>\n",
       "    <tr>\n",
       "      <th>8496</th>\n",
       "      <td>price even discount price much higher usual mi...</td>\n",
       "      <td>13</td>\n",
       "    </tr>\n",
       "    <tr>\n",
       "      <th>8497</th>\n",
       "      <td>much price get rs home town advantage purchase...</td>\n",
       "      <td>16</td>\n",
       "    </tr>\n",
       "    <tr>\n",
       "      <th>8499</th>\n",
       "      <td>hii flipkart customers care delivery boys brin...</td>\n",
       "      <td>18</td>\n",
       "    </tr>\n",
       "    <tr>\n",
       "      <th>8507</th>\n",
       "      <td>nice delivery speedread</td>\n",
       "      <td>3</td>\n",
       "    </tr>\n",
       "  </tbody>\n",
       "</table>\n",
       "<p>8013 rows × 2 columns</p>\n",
       "</div>"
      ],
      "text/plain": [
       "                                                      0   1\n",
       "0     nice product good quality price rise bad sign ...  20\n",
       "1     supply yonex mavis outside cover yonex ad insi...  12\n",
       "2     worst product damage shuttlecock pack new box ...  17\n",
       "5                good quality product deliver time read   6\n",
       "6     best purchase good quality durable average shu...   9\n",
       "...                                                 ...  ..\n",
       "8495     thank delivery boy service always awesome read   7\n",
       "8496  price even discount price much higher usual mi...  13\n",
       "8497  much price get rs home town advantage purchase...  16\n",
       "8499  hii flipkart customers care delivery boys brin...  18\n",
       "8507                            nice delivery speedread   3\n",
       "\n",
       "[8013 rows x 2 columns]"
      ]
     },
     "execution_count": 89,
     "metadata": {},
     "output_type": "execute_result"
    }
   ],
   "source": [
    "demo"
   ]
  },
  {
   "cell_type": "code",
   "execution_count": 90,
   "id": "08fe5cee-e540-44f6-a642-32382c7f7826",
   "metadata": {},
   "outputs": [],
   "source": [
    "df['review']=demo[0]"
   ]
  },
  {
   "cell_type": "code",
   "execution_count": 91,
   "id": "bbe7d207-3b6b-44e6-9273-4514b864d6ee",
   "metadata": {},
   "outputs": [
    {
     "data": {
      "text/html": [
       "<div>\n",
       "<style scoped>\n",
       "    .dataframe tbody tr th:only-of-type {\n",
       "        vertical-align: middle;\n",
       "    }\n",
       "\n",
       "    .dataframe tbody tr th {\n",
       "        vertical-align: top;\n",
       "    }\n",
       "\n",
       "    .dataframe thead th {\n",
       "        text-align: right;\n",
       "    }\n",
       "</style>\n",
       "<table border=\"1\" class=\"dataframe\">\n",
       "  <thead>\n",
       "    <tr style=\"text-align: right;\">\n",
       "      <th></th>\n",
       "      <th>Reviewer Name</th>\n",
       "      <th>Review Title</th>\n",
       "      <th>Place of Review</th>\n",
       "      <th>Up Votes</th>\n",
       "      <th>Down Votes</th>\n",
       "      <th>Month</th>\n",
       "      <th>Review text</th>\n",
       "      <th>Ratings</th>\n",
       "      <th>re</th>\n",
       "      <th>review</th>\n",
       "    </tr>\n",
       "  </thead>\n",
       "  <tbody>\n",
       "    <tr>\n",
       "      <th>0</th>\n",
       "      <td>Kamal Suresh</td>\n",
       "      <td>Nice product</td>\n",
       "      <td>Certified Buyer, Chirakkal</td>\n",
       "      <td>889.0</td>\n",
       "      <td>64.0</td>\n",
       "      <td>Feb 2021</td>\n",
       "      <td>Nice product, good quality, but price is now r...</td>\n",
       "      <td>4</td>\n",
       "      <td>positive</td>\n",
       "      <td>nice product good quality price rise bad sign ...</td>\n",
       "    </tr>\n",
       "    <tr>\n",
       "      <th>1</th>\n",
       "      <td>Flipkart Customer</td>\n",
       "      <td>Don't waste your money</td>\n",
       "      <td>Certified Buyer, Hyderabad</td>\n",
       "      <td>109.0</td>\n",
       "      <td>6.0</td>\n",
       "      <td>Feb 2021</td>\n",
       "      <td>They didn't supplied Yonex Mavis 350. Outside ...</td>\n",
       "      <td>1</td>\n",
       "      <td>negative</td>\n",
       "      <td>supply yonex mavis outside cover yonex ad insi...</td>\n",
       "    </tr>\n",
       "    <tr>\n",
       "      <th>2</th>\n",
       "      <td>A. S. Raja Srinivasan</td>\n",
       "      <td>Did not meet expectations</td>\n",
       "      <td>Certified Buyer, Dharmapuri</td>\n",
       "      <td>42.0</td>\n",
       "      <td>3.0</td>\n",
       "      <td>Apr 2021</td>\n",
       "      <td>Worst product. Damaged shuttlecocks packed in ...</td>\n",
       "      <td>1</td>\n",
       "      <td>negative</td>\n",
       "      <td>worst product damage shuttlecock pack new box ...</td>\n",
       "    </tr>\n",
       "    <tr>\n",
       "      <th>5</th>\n",
       "      <td>Baji Sankar</td>\n",
       "      <td>Mind-blowing purchase</td>\n",
       "      <td>Certified Buyer, Hyderabad</td>\n",
       "      <td>173.0</td>\n",
       "      <td>45.0</td>\n",
       "      <td>Oct 2018</td>\n",
       "      <td>Good quality product. Delivered on time.READ MORE</td>\n",
       "      <td>5</td>\n",
       "      <td>positive</td>\n",
       "      <td>good quality product deliver time read</td>\n",
       "    </tr>\n",
       "    <tr>\n",
       "      <th>6</th>\n",
       "      <td>Flipkart Customer</td>\n",
       "      <td>Must buy!</td>\n",
       "      <td>Certified Buyer, Doom Dooma</td>\n",
       "      <td>403.0</td>\n",
       "      <td>121.0</td>\n",
       "      <td>Jan 2020</td>\n",
       "      <td>BEST PURCHASE It is a good quality and is more...</td>\n",
       "      <td>5</td>\n",
       "      <td>positive</td>\n",
       "      <td>best purchase good quality durable average shu...</td>\n",
       "    </tr>\n",
       "    <tr>\n",
       "      <th>...</th>\n",
       "      <td>...</td>\n",
       "      <td>...</td>\n",
       "      <td>...</td>\n",
       "      <td>...</td>\n",
       "      <td>...</td>\n",
       "      <td>...</td>\n",
       "      <td>...</td>\n",
       "      <td>...</td>\n",
       "      <td>...</td>\n",
       "      <td>...</td>\n",
       "    </tr>\n",
       "    <tr>\n",
       "      <th>8495</th>\n",
       "      <td>vishal kumar ashish</td>\n",
       "      <td>Nice</td>\n",
       "      <td>Certified Buyer, Haridwar</td>\n",
       "      <td>0.0</td>\n",
       "      <td>0.0</td>\n",
       "      <td>Oct 2016</td>\n",
       "      <td>Thanks to the delivery boy ... Service is alwa...</td>\n",
       "      <td>5</td>\n",
       "      <td>positive</td>\n",
       "      <td>thank delivery boy service always awesome read</td>\n",
       "    </tr>\n",
       "    <tr>\n",
       "      <th>8496</th>\n",
       "      <td>Nitya Nand  Rai</td>\n",
       "      <td>Good choice</td>\n",
       "      <td>Certified Buyer, Raebareli</td>\n",
       "      <td>0.0</td>\n",
       "      <td>0.0</td>\n",
       "      <td>Oct 2016</td>\n",
       "      <td>Over priced even after 50% discount price is m...</td>\n",
       "      <td>1</td>\n",
       "      <td>negative</td>\n",
       "      <td>price even discount price much higher usual mi...</td>\n",
       "    </tr>\n",
       "    <tr>\n",
       "      <th>8497</th>\n",
       "      <td>Tarun Reddy</td>\n",
       "      <td>Awesome</td>\n",
       "      <td>Certified Buyer</td>\n",
       "      <td>0.0</td>\n",
       "      <td>0.0</td>\n",
       "      <td>Oct 2016</td>\n",
       "      <td>Too much priced. It was getting me for Rs. 640...</td>\n",
       "      <td>1</td>\n",
       "      <td>negative</td>\n",
       "      <td>much price get rs home town advantage purchase...</td>\n",
       "    </tr>\n",
       "    <tr>\n",
       "      <th>8499</th>\n",
       "      <td>Jayachandra</td>\n",
       "      <td>High cost</td>\n",
       "      <td>Certified Buyer, Mangalore</td>\n",
       "      <td>0.0</td>\n",
       "      <td>0.0</td>\n",
       "      <td>Dec 2015</td>\n",
       "      <td>Hii flipkart customers care..why your delivery...</td>\n",
       "      <td>5</td>\n",
       "      <td>positive</td>\n",
       "      <td>hii flipkart customers care delivery boys brin...</td>\n",
       "    </tr>\n",
       "    <tr>\n",
       "      <th>8507</th>\n",
       "      <td>vishnu varma</td>\n",
       "      <td>Really Nice</td>\n",
       "      <td>Certified Buyer, Agartala</td>\n",
       "      <td>0.0</td>\n",
       "      <td>1.0</td>\n",
       "      <td>Sep 2016</td>\n",
       "      <td>Nice delivery speedREAD MORE</td>\n",
       "      <td>5</td>\n",
       "      <td>positive</td>\n",
       "      <td>nice delivery speedread</td>\n",
       "    </tr>\n",
       "  </tbody>\n",
       "</table>\n",
       "<p>8013 rows × 10 columns</p>\n",
       "</div>"
      ],
      "text/plain": [
       "               Reviewer Name               Review Title  \\\n",
       "0               Kamal Suresh               Nice product   \n",
       "1          Flipkart Customer     Don't waste your money   \n",
       "2     A. S. Raja Srinivasan   Did not meet expectations   \n",
       "5                Baji Sankar      Mind-blowing purchase   \n",
       "6          Flipkart Customer                  Must buy!   \n",
       "...                      ...                        ...   \n",
       "8495     vishal kumar ashish                       Nice   \n",
       "8496         Nitya Nand  Rai                Good choice   \n",
       "8497             Tarun Reddy                    Awesome   \n",
       "8499             Jayachandra                  High cost   \n",
       "8507            vishnu varma                Really Nice   \n",
       "\n",
       "                  Place of Review  Up Votes  Down Votes     Month  \\\n",
       "0      Certified Buyer, Chirakkal     889.0        64.0  Feb 2021   \n",
       "1      Certified Buyer, Hyderabad     109.0         6.0  Feb 2021   \n",
       "2     Certified Buyer, Dharmapuri      42.0         3.0  Apr 2021   \n",
       "5      Certified Buyer, Hyderabad     173.0        45.0  Oct 2018   \n",
       "6     Certified Buyer, Doom Dooma     403.0       121.0  Jan 2020   \n",
       "...                           ...       ...         ...       ...   \n",
       "8495    Certified Buyer, Haridwar       0.0         0.0  Oct 2016   \n",
       "8496   Certified Buyer, Raebareli       0.0         0.0  Oct 2016   \n",
       "8497              Certified Buyer       0.0         0.0  Oct 2016   \n",
       "8499   Certified Buyer, Mangalore       0.0         0.0  Dec 2015   \n",
       "8507    Certified Buyer, Agartala       0.0         1.0  Sep 2016   \n",
       "\n",
       "                                            Review text  Ratings        re  \\\n",
       "0     Nice product, good quality, but price is now r...        4  positive   \n",
       "1     They didn't supplied Yonex Mavis 350. Outside ...        1  negative   \n",
       "2     Worst product. Damaged shuttlecocks packed in ...        1  negative   \n",
       "5     Good quality product. Delivered on time.READ MORE        5  positive   \n",
       "6     BEST PURCHASE It is a good quality and is more...        5  positive   \n",
       "...                                                 ...      ...       ...   \n",
       "8495  Thanks to the delivery boy ... Service is alwa...        5  positive   \n",
       "8496  Over priced even after 50% discount price is m...        1  negative   \n",
       "8497  Too much priced. It was getting me for Rs. 640...        1  negative   \n",
       "8499  Hii flipkart customers care..why your delivery...        5  positive   \n",
       "8507                       Nice delivery speedREAD MORE        5  positive   \n",
       "\n",
       "                                                 review  \n",
       "0     nice product good quality price rise bad sign ...  \n",
       "1     supply yonex mavis outside cover yonex ad insi...  \n",
       "2     worst product damage shuttlecock pack new box ...  \n",
       "5                good quality product deliver time read  \n",
       "6     best purchase good quality durable average shu...  \n",
       "...                                                 ...  \n",
       "8495     thank delivery boy service always awesome read  \n",
       "8496  price even discount price much higher usual mi...  \n",
       "8497  much price get rs home town advantage purchase...  \n",
       "8499  hii flipkart customers care delivery boys brin...  \n",
       "8507                            nice delivery speedread  \n",
       "\n",
       "[8013 rows x 10 columns]"
      ]
     },
     "execution_count": 91,
     "metadata": {},
     "output_type": "execute_result"
    }
   ],
   "source": [
    "df"
   ]
  },
  {
   "cell_type": "code",
   "execution_count": null,
   "id": "5ff7c586-3d1e-4eac-830e-4b42c37b07ff",
   "metadata": {},
   "outputs": [
    {
     "data": {
      "text/plain": [
       "0       nice product good quality price rise bad sign ...\n",
       "1       supply yonex mavis outside cover yonex ad insi...\n",
       "2       worst product damage shuttlecock pack new box ...\n",
       "5                  good quality product deliver time read\n",
       "6       best purchase good quality durable average shu...\n",
       "                              ...                        \n",
       "8495       thank delivery boy service always awesome read\n",
       "8496    price even discount price much higher usual mi...\n",
       "8497    much price get rs home town advantage purchase...\n",
       "8499    hii flipkart customers care delivery boys brin...\n",
       "8507                              nice delivery speedread\n",
       "Name: review, Length: 8013, dtype: object"
      ]
     },
     "execution_count": 47,
     "metadata": {},
     "output_type": "execute_result"
    }
   ],
   "source": [
    "df['review']"
   ]
  },
  {
   "cell_type": "code",
   "execution_count": null,
   "id": "6299a024-081e-44ab-8124-316c61ac181b",
   "metadata": {},
   "outputs": [],
   "source": [
    "f=df['review'][1].split()"
   ]
  },
  {
   "cell_type": "code",
   "execution_count": null,
   "id": "06f07189-aacf-42ba-bd68-7c011c2e5757",
   "metadata": {},
   "outputs": [
    {
     "data": {
      "text/plain": [
       "['supply',\n",
       " 'yonex',\n",
       " 'mavis',\n",
       " 'outside',\n",
       " 'cover',\n",
       " 'yonex',\n",
       " 'ad',\n",
       " 'inside',\n",
       " 'cheapest',\n",
       " 'sad',\n",
       " 'hear',\n",
       " 'read']"
      ]
     },
     "execution_count": 49,
     "metadata": {},
     "output_type": "execute_result"
    }
   ],
   "source": [
    "f"
   ]
  },
  {
   "cell_type": "code",
   "execution_count": null,
   "id": "9b30b8e1-107b-4ecb-a305-28d5da8070e2",
   "metadata": {},
   "outputs": [],
   "source": [
    "l=l[:-1]"
   ]
  },
  {
   "cell_type": "code",
   "execution_count": null,
   "id": "c0bff543-aa4e-47e5-9062-b955c1e925ad",
   "metadata": {
    "scrolled": true
   },
   "outputs": [
    {
     "data": {
      "text/plain": [
       "['positive',\n",
       " 'negative',\n",
       " 'negative',\n",
       " 'positive',\n",
       " 'positive',\n",
       " 'positive',\n",
       " 'positive',\n",
       " 'positive',\n",
       " 'positive',\n",
       " 'positive',\n",
       " 'positive',\n",
       " 'negative',\n",
       " 'positive',\n",
       " 'positive',\n",
       " 'negative',\n",
       " 'negative',\n",
       " 'positive',\n",
       " 'positive',\n",
       " 'positive',\n",
       " 'positive',\n",
       " 'positive',\n",
       " 'negative',\n",
       " 'positive',\n",
       " 'positive',\n",
       " 'negative',\n",
       " 'positive',\n",
       " 'positive',\n",
       " 'positive',\n",
       " 'positive',\n",
       " 'positive',\n",
       " 'negative',\n",
       " 'negative',\n",
       " 'negative',\n",
       " 'negative',\n",
       " 'positive',\n",
       " 'negative',\n",
       " 'positive',\n",
       " 'negative',\n",
       " 'positive',\n",
       " 'negative',\n",
       " 'negative',\n",
       " 'positive',\n",
       " 'positive',\n",
       " 'positive',\n",
       " 'negative',\n",
       " 'negative',\n",
       " 'negative',\n",
       " 'negative',\n",
       " 'negative',\n",
       " 'negative',\n",
       " 'negative',\n",
       " 'negative',\n",
       " 'negative',\n",
       " 'negative',\n",
       " 'negative',\n",
       " 'negative',\n",
       " 'negative',\n",
       " 'positive',\n",
       " 'negative',\n",
       " 'negative',\n",
       " 'negative',\n",
       " 'negative',\n",
       " 'negative',\n",
       " 'negative',\n",
       " 'negative',\n",
       " 'negative',\n",
       " 'negative',\n",
       " 'positive',\n",
       " 'positive',\n",
       " 'negative',\n",
       " 'positive',\n",
       " 'negative',\n",
       " 'negative',\n",
       " 'positive',\n",
       " 'positive',\n",
       " 'negative',\n",
       " 'negative',\n",
       " 'positive',\n",
       " 'positive',\n",
       " 'positive',\n",
       " 'positive',\n",
       " 'negative',\n",
       " 'positive',\n",
       " 'positive',\n",
       " 'positive',\n",
       " 'positive',\n",
       " 'positive',\n",
       " 'positive',\n",
       " 'positive',\n",
       " 'positive',\n",
       " 'positive',\n",
       " 'positive',\n",
       " 'positive',\n",
       " 'positive',\n",
       " 'positive',\n",
       " 'positive',\n",
       " 'positive',\n",
       " 'positive',\n",
       " 'negative',\n",
       " 'negative',\n",
       " 'negative',\n",
       " 'positive',\n",
       " 'negative',\n",
       " 'positive',\n",
       " 'positive',\n",
       " 'positive',\n",
       " 'positive',\n",
       " 'negative',\n",
       " 'negative',\n",
       " 'positive',\n",
       " 'positive',\n",
       " 'negative',\n",
       " 'positive',\n",
       " 'positive',\n",
       " 'positive',\n",
       " 'positive',\n",
       " 'positive',\n",
       " 'positive',\n",
       " 'positive',\n",
       " 'negative',\n",
       " 'negative',\n",
       " 'negative',\n",
       " 'negative',\n",
       " 'positive',\n",
       " 'positive',\n",
       " 'positive',\n",
       " 'negative',\n",
       " 'positive',\n",
       " 'positive',\n",
       " 'negative',\n",
       " 'negative',\n",
       " 'negative',\n",
       " 'negative',\n",
       " 'negative',\n",
       " 'positive',\n",
       " 'negative',\n",
       " 'negative',\n",
       " 'negative',\n",
       " 'negative',\n",
       " 'negative',\n",
       " 'negative',\n",
       " 'negative',\n",
       " 'negative',\n",
       " 'negative',\n",
       " 'negative',\n",
       " 'negative',\n",
       " 'negative',\n",
       " 'negative',\n",
       " 'negative',\n",
       " 'negative',\n",
       " 'negative',\n",
       " 'negative',\n",
       " 'negative',\n",
       " 'positive',\n",
       " 'positive',\n",
       " 'positive',\n",
       " 'negative',\n",
       " 'positive',\n",
       " 'negative',\n",
       " 'positive',\n",
       " 'positive',\n",
       " 'negative',\n",
       " 'positive',\n",
       " 'positive',\n",
       " 'positive',\n",
       " 'negative',\n",
       " 'positive',\n",
       " 'positive',\n",
       " 'positive',\n",
       " 'positive',\n",
       " 'positive',\n",
       " 'positive',\n",
       " 'positive',\n",
       " 'positive',\n",
       " 'negative',\n",
       " 'positive',\n",
       " 'positive',\n",
       " 'negative',\n",
       " 'negative',\n",
       " 'negative',\n",
       " 'negative',\n",
       " 'negative',\n",
       " 'negative',\n",
       " 'negative',\n",
       " 'negative',\n",
       " 'positive',\n",
       " 'negative',\n",
       " 'positive',\n",
       " 'negative',\n",
       " 'positive',\n",
       " 'positive',\n",
       " 'negative',\n",
       " 'positive',\n",
       " 'positive',\n",
       " 'positive',\n",
       " 'positive',\n",
       " 'positive',\n",
       " 'positive',\n",
       " 'positive',\n",
       " 'positive',\n",
       " 'positive',\n",
       " 'negative',\n",
       " 'negative',\n",
       " 'negative',\n",
       " 'negative',\n",
       " 'negative',\n",
       " 'negative',\n",
       " 'negative',\n",
       " 'negative',\n",
       " 'positive',\n",
       " 'positive',\n",
       " 'positive',\n",
       " 'negative',\n",
       " 'negative',\n",
       " 'positive',\n",
       " 'positive',\n",
       " 'negative',\n",
       " 'negative',\n",
       " 'positive',\n",
       " 'negative',\n",
       " 'negative',\n",
       " 'positive',\n",
       " 'negative',\n",
       " 'positive',\n",
       " 'negative',\n",
       " 'negative',\n",
       " 'negative',\n",
       " 'positive',\n",
       " 'negative',\n",
       " 'positive',\n",
       " 'positive',\n",
       " 'positive',\n",
       " 'positive',\n",
       " 'positive',\n",
       " 'positive',\n",
       " 'positive',\n",
       " 'positive',\n",
       " 'negative',\n",
       " 'negative',\n",
       " 'negative',\n",
       " 'positive',\n",
       " 'positive',\n",
       " 'negative',\n",
       " 'negative',\n",
       " 'positive',\n",
       " 'positive',\n",
       " 'positive',\n",
       " 'positive',\n",
       " 'negative',\n",
       " 'positive',\n",
       " 'negative',\n",
       " 'positive',\n",
       " 'negative',\n",
       " 'negative',\n",
       " 'negative',\n",
       " 'positive',\n",
       " 'positive',\n",
       " 'positive',\n",
       " 'positive',\n",
       " 'positive',\n",
       " 'positive',\n",
       " 'positive',\n",
       " 'negative',\n",
       " 'positive',\n",
       " 'positive',\n",
       " 'negative',\n",
       " 'negative',\n",
       " 'positive',\n",
       " 'negative',\n",
       " 'positive',\n",
       " 'positive',\n",
       " 'positive',\n",
       " 'positive',\n",
       " 'positive',\n",
       " 'positive',\n",
       " 'positive',\n",
       " 'positive',\n",
       " 'positive',\n",
       " 'positive',\n",
       " 'positive',\n",
       " 'positive',\n",
       " 'positive',\n",
       " 'negative',\n",
       " 'positive',\n",
       " 'positive',\n",
       " 'negative',\n",
       " 'positive',\n",
       " 'positive',\n",
       " 'negative',\n",
       " 'positive',\n",
       " 'negative',\n",
       " 'positive',\n",
       " 'positive',\n",
       " 'positive',\n",
       " 'positive',\n",
       " 'positive',\n",
       " 'positive',\n",
       " 'positive',\n",
       " 'positive',\n",
       " 'negative',\n",
       " 'positive',\n",
       " 'positive',\n",
       " 'negative',\n",
       " 'positive',\n",
       " 'positive',\n",
       " 'positive',\n",
       " 'positive',\n",
       " 'negative',\n",
       " 'positive',\n",
       " 'positive',\n",
       " 'positive',\n",
       " 'positive',\n",
       " 'positive',\n",
       " 'positive',\n",
       " 'positive',\n",
       " 'positive',\n",
       " 'positive',\n",
       " 'positive',\n",
       " 'positive',\n",
       " 'positive',\n",
       " 'positive',\n",
       " 'positive',\n",
       " 'positive',\n",
       " 'positive',\n",
       " 'positive',\n",
       " 'positive',\n",
       " 'positive',\n",
       " 'positive',\n",
       " 'positive',\n",
       " 'positive',\n",
       " 'positive',\n",
       " 'positive',\n",
       " 'positive',\n",
       " 'positive',\n",
       " 'positive',\n",
       " 'positive',\n",
       " 'positive',\n",
       " 'negative',\n",
       " 'positive',\n",
       " 'positive',\n",
       " 'positive',\n",
       " 'positive',\n",
       " 'positive',\n",
       " 'positive',\n",
       " 'positive',\n",
       " 'positive',\n",
       " 'negative',\n",
       " 'positive',\n",
       " 'positive',\n",
       " 'positive',\n",
       " 'positive',\n",
       " 'positive',\n",
       " 'positive',\n",
       " 'positive',\n",
       " 'positive',\n",
       " 'negative',\n",
       " 'negative',\n",
       " 'positive',\n",
       " 'positive',\n",
       " 'positive',\n",
       " 'negative',\n",
       " 'negative',\n",
       " 'positive',\n",
       " 'positive',\n",
       " 'positive',\n",
       " 'negative',\n",
       " 'positive',\n",
       " 'positive',\n",
       " 'negative',\n",
       " 'negative',\n",
       " 'positive',\n",
       " 'positive',\n",
       " 'negative',\n",
       " 'positive',\n",
       " 'positive',\n",
       " 'positive',\n",
       " 'positive',\n",
       " 'positive',\n",
       " 'negative',\n",
       " 'positive',\n",
       " 'negative',\n",
       " 'positive',\n",
       " 'positive',\n",
       " 'negative',\n",
       " 'positive',\n",
       " 'negative',\n",
       " 'positive',\n",
       " 'positive',\n",
       " 'positive',\n",
       " 'negative',\n",
       " 'positive',\n",
       " 'negative',\n",
       " 'positive',\n",
       " 'positive',\n",
       " 'positive',\n",
       " 'positive',\n",
       " 'positive',\n",
       " 'positive',\n",
       " 'negative',\n",
       " 'positive',\n",
       " 'positive',\n",
       " 'negative',\n",
       " 'positive',\n",
       " 'positive',\n",
       " 'positive',\n",
       " 'positive',\n",
       " 'positive',\n",
       " 'negative',\n",
       " 'positive',\n",
       " 'positive',\n",
       " 'positive',\n",
       " 'positive',\n",
       " 'negative',\n",
       " 'positive',\n",
       " 'positive',\n",
       " 'positive',\n",
       " 'negative',\n",
       " 'positive',\n",
       " 'negative',\n",
       " 'positive',\n",
       " 'negative',\n",
       " 'positive',\n",
       " 'positive',\n",
       " 'positive',\n",
       " 'positive',\n",
       " 'positive',\n",
       " 'positive',\n",
       " 'positive',\n",
       " 'negative',\n",
       " 'positive',\n",
       " 'positive',\n",
       " 'negative',\n",
       " 'positive',\n",
       " 'positive',\n",
       " 'negative',\n",
       " 'negative',\n",
       " 'positive',\n",
       " 'positive',\n",
       " 'positive',\n",
       " 'positive',\n",
       " 'positive',\n",
       " 'negative',\n",
       " 'positive',\n",
       " 'negative',\n",
       " 'positive',\n",
       " 'positive',\n",
       " 'positive',\n",
       " 'positive',\n",
       " 'positive',\n",
       " 'positive',\n",
       " 'positive',\n",
       " 'negative',\n",
       " 'positive',\n",
       " 'positive',\n",
       " 'negative',\n",
       " 'positive',\n",
       " 'positive',\n",
       " 'positive',\n",
       " 'positive',\n",
       " 'positive',\n",
       " 'positive',\n",
       " 'positive',\n",
       " 'negative',\n",
       " 'positive',\n",
       " 'negative',\n",
       " 'positive',\n",
       " 'positive',\n",
       " 'negative',\n",
       " 'negative',\n",
       " 'positive',\n",
       " 'positive',\n",
       " 'positive',\n",
       " 'positive',\n",
       " 'positive',\n",
       " 'positive',\n",
       " 'positive',\n",
       " 'positive',\n",
       " 'positive',\n",
       " 'positive',\n",
       " 'positive',\n",
       " 'negative',\n",
       " 'positive',\n",
       " 'negative',\n",
       " 'negative',\n",
       " 'positive',\n",
       " 'positive',\n",
       " 'positive',\n",
       " 'negative',\n",
       " 'positive',\n",
       " 'positive',\n",
       " 'positive',\n",
       " 'positive',\n",
       " 'positive',\n",
       " 'positive',\n",
       " 'positive',\n",
       " 'positive',\n",
       " 'negative',\n",
       " 'positive',\n",
       " 'positive',\n",
       " 'positive',\n",
       " 'positive',\n",
       " 'positive',\n",
       " 'positive',\n",
       " 'positive',\n",
       " 'negative',\n",
       " 'positive',\n",
       " 'positive',\n",
       " 'positive',\n",
       " 'negative',\n",
       " 'positive',\n",
       " 'positive',\n",
       " 'positive',\n",
       " 'positive',\n",
       " 'positive',\n",
       " 'positive',\n",
       " 'negative',\n",
       " 'positive',\n",
       " 'positive',\n",
       " 'positive',\n",
       " 'positive',\n",
       " 'positive',\n",
       " 'positive',\n",
       " 'positive',\n",
       " 'negative',\n",
       " 'positive',\n",
       " 'positive',\n",
       " 'positive',\n",
       " 'positive',\n",
       " 'positive',\n",
       " 'positive',\n",
       " 'positive',\n",
       " 'negative',\n",
       " 'negative',\n",
       " 'negative',\n",
       " 'positive',\n",
       " 'negative',\n",
       " 'negative',\n",
       " 'negative',\n",
       " 'positive',\n",
       " 'positive',\n",
       " 'positive',\n",
       " 'negative',\n",
       " 'negative',\n",
       " 'positive',\n",
       " 'negative',\n",
       " 'negative',\n",
       " 'positive',\n",
       " 'positive',\n",
       " 'positive',\n",
       " 'positive',\n",
       " 'positive',\n",
       " 'positive',\n",
       " 'negative',\n",
       " 'negative',\n",
       " 'positive',\n",
       " 'positive',\n",
       " 'positive',\n",
       " 'negative',\n",
       " 'positive',\n",
       " 'positive',\n",
       " 'positive',\n",
       " 'positive',\n",
       " 'positive',\n",
       " 'negative',\n",
       " 'positive',\n",
       " 'positive',\n",
       " 'positive',\n",
       " 'positive',\n",
       " 'positive',\n",
       " 'positive',\n",
       " 'positive',\n",
       " 'positive',\n",
       " 'positive',\n",
       " 'positive',\n",
       " 'negative',\n",
       " 'negative',\n",
       " 'positive',\n",
       " 'negative',\n",
       " 'positive',\n",
       " 'positive',\n",
       " 'positive',\n",
       " 'positive',\n",
       " 'positive',\n",
       " 'negative',\n",
       " 'positive',\n",
       " 'positive',\n",
       " 'positive',\n",
       " 'positive',\n",
       " 'positive',\n",
       " 'positive',\n",
       " 'positive',\n",
       " 'positive',\n",
       " 'positive',\n",
       " 'positive',\n",
       " 'negative',\n",
       " 'positive',\n",
       " 'positive',\n",
       " 'positive',\n",
       " 'positive',\n",
       " 'positive',\n",
       " 'negative',\n",
       " 'positive',\n",
       " 'negative',\n",
       " 'positive',\n",
       " 'negative',\n",
       " 'positive',\n",
       " 'negative',\n",
       " 'positive',\n",
       " 'positive',\n",
       " 'positive',\n",
       " 'positive',\n",
       " 'positive',\n",
       " 'positive',\n",
       " 'positive',\n",
       " 'negative',\n",
       " 'positive',\n",
       " 'positive',\n",
       " 'positive',\n",
       " 'positive',\n",
       " 'positive',\n",
       " 'positive',\n",
       " 'positive',\n",
       " 'positive',\n",
       " 'positive',\n",
       " 'positive',\n",
       " 'negative',\n",
       " 'positive',\n",
       " 'positive',\n",
       " 'negative',\n",
       " 'positive',\n",
       " 'positive',\n",
       " 'positive',\n",
       " 'positive',\n",
       " 'negative',\n",
       " 'positive',\n",
       " 'positive',\n",
       " 'positive',\n",
       " 'positive',\n",
       " 'positive',\n",
       " 'positive',\n",
       " 'positive',\n",
       " 'positive',\n",
       " 'positive',\n",
       " 'negative',\n",
       " 'positive',\n",
       " 'positive',\n",
       " 'positive',\n",
       " 'negative',\n",
       " 'positive',\n",
       " 'positive',\n",
       " 'negative',\n",
       " 'positive',\n",
       " 'positive',\n",
       " 'positive',\n",
       " 'positive',\n",
       " 'negative',\n",
       " 'positive',\n",
       " 'negative',\n",
       " 'positive',\n",
       " 'negative',\n",
       " 'positive',\n",
       " 'positive',\n",
       " 'positive',\n",
       " 'positive',\n",
       " 'positive',\n",
       " 'positive',\n",
       " 'positive',\n",
       " 'positive',\n",
       " 'positive',\n",
       " 'negative',\n",
       " 'negative',\n",
       " 'positive',\n",
       " 'positive',\n",
       " 'positive',\n",
       " 'positive',\n",
       " 'positive',\n",
       " 'positive',\n",
       " 'positive',\n",
       " 'positive',\n",
       " 'positive',\n",
       " 'positive',\n",
       " 'positive',\n",
       " 'positive',\n",
       " 'positive',\n",
       " 'positive',\n",
       " 'positive',\n",
       " 'positive',\n",
       " 'negative',\n",
       " 'positive',\n",
       " 'positive',\n",
       " 'positive',\n",
       " 'positive',\n",
       " 'positive',\n",
       " 'positive',\n",
       " 'positive',\n",
       " 'positive',\n",
       " 'positive',\n",
       " 'positive',\n",
       " 'positive',\n",
       " 'positive',\n",
       " 'positive',\n",
       " 'negative',\n",
       " 'positive',\n",
       " 'positive',\n",
       " 'positive',\n",
       " 'positive',\n",
       " 'positive',\n",
       " 'positive',\n",
       " 'positive',\n",
       " 'negative',\n",
       " 'negative',\n",
       " 'positive',\n",
       " 'positive',\n",
       " 'positive',\n",
       " 'positive',\n",
       " 'positive',\n",
       " 'negative',\n",
       " 'positive',\n",
       " 'positive',\n",
       " 'negative',\n",
       " 'negative',\n",
       " 'negative',\n",
       " 'positive',\n",
       " 'negative',\n",
       " 'positive',\n",
       " 'positive',\n",
       " 'positive',\n",
       " 'positive',\n",
       " 'positive',\n",
       " 'negative',\n",
       " 'negative',\n",
       " 'positive',\n",
       " 'positive',\n",
       " 'positive',\n",
       " 'positive',\n",
       " 'positive',\n",
       " 'positive',\n",
       " 'positive',\n",
       " 'positive',\n",
       " 'negative',\n",
       " 'positive',\n",
       " 'positive',\n",
       " 'positive',\n",
       " 'positive',\n",
       " 'negative',\n",
       " 'positive',\n",
       " 'positive',\n",
       " 'negative',\n",
       " 'positive',\n",
       " 'positive',\n",
       " 'positive',\n",
       " 'positive',\n",
       " 'positive',\n",
       " 'positive',\n",
       " 'positive',\n",
       " 'negative',\n",
       " 'negative',\n",
       " 'positive',\n",
       " 'positive',\n",
       " 'positive',\n",
       " 'positive',\n",
       " 'positive',\n",
       " 'positive',\n",
       " 'positive',\n",
       " 'positive',\n",
       " 'positive',\n",
       " 'positive',\n",
       " 'negative',\n",
       " 'positive',\n",
       " 'positive',\n",
       " 'positive',\n",
       " 'positive',\n",
       " 'negative',\n",
       " 'positive',\n",
       " 'positive',\n",
       " 'positive',\n",
       " 'negative',\n",
       " 'positive',\n",
       " 'negative',\n",
       " 'positive',\n",
       " 'positive',\n",
       " 'positive',\n",
       " 'positive',\n",
       " 'positive',\n",
       " 'positive',\n",
       " 'positive',\n",
       " 'negative',\n",
       " 'negative',\n",
       " 'positive',\n",
       " 'negative',\n",
       " 'positive',\n",
       " 'negative',\n",
       " 'positive',\n",
       " 'positive',\n",
       " 'positive',\n",
       " 'negative',\n",
       " 'negative',\n",
       " 'negative',\n",
       " 'negative',\n",
       " 'negative',\n",
       " 'positive',\n",
       " 'positive',\n",
       " 'negative',\n",
       " 'positive',\n",
       " 'negative',\n",
       " 'positive',\n",
       " 'positive',\n",
       " 'negative',\n",
       " 'positive',\n",
       " 'positive',\n",
       " 'negative',\n",
       " 'negative',\n",
       " 'positive',\n",
       " 'negative',\n",
       " 'positive',\n",
       " 'positive',\n",
       " 'negative',\n",
       " 'positive',\n",
       " 'negative',\n",
       " 'positive',\n",
       " 'positive',\n",
       " 'negative',\n",
       " 'positive',\n",
       " 'negative',\n",
       " 'positive',\n",
       " 'negative',\n",
       " 'negative',\n",
       " 'positive',\n",
       " 'positive',\n",
       " 'positive',\n",
       " 'positive',\n",
       " 'positive',\n",
       " 'positive',\n",
       " 'negative',\n",
       " 'positive',\n",
       " 'positive',\n",
       " 'positive',\n",
       " 'positive',\n",
       " 'positive',\n",
       " 'positive',\n",
       " 'negative',\n",
       " 'positive',\n",
       " 'positive',\n",
       " 'positive',\n",
       " 'negative',\n",
       " 'positive',\n",
       " 'positive',\n",
       " 'positive',\n",
       " 'negative',\n",
       " 'positive',\n",
       " 'positive',\n",
       " 'positive',\n",
       " 'positive',\n",
       " 'positive',\n",
       " 'negative',\n",
       " 'positive',\n",
       " 'positive',\n",
       " 'positive',\n",
       " 'positive',\n",
       " 'positive',\n",
       " 'positive',\n",
       " 'positive',\n",
       " 'positive',\n",
       " 'positive',\n",
       " 'negative',\n",
       " 'negative',\n",
       " 'negative',\n",
       " 'positive',\n",
       " 'negative',\n",
       " 'positive',\n",
       " 'positive',\n",
       " 'positive',\n",
       " 'negative',\n",
       " 'positive',\n",
       " 'positive',\n",
       " 'positive',\n",
       " 'positive',\n",
       " 'negative',\n",
       " 'positive',\n",
       " 'positive',\n",
       " 'positive',\n",
       " 'negative',\n",
       " 'negative',\n",
       " 'negative',\n",
       " 'negative',\n",
       " 'positive',\n",
       " 'positive',\n",
       " 'positive',\n",
       " 'positive',\n",
       " 'positive',\n",
       " 'negative',\n",
       " 'positive',\n",
       " 'positive',\n",
       " 'positive',\n",
       " 'positive',\n",
       " 'positive',\n",
       " 'positive',\n",
       " 'positive',\n",
       " 'positive',\n",
       " 'positive',\n",
       " 'positive',\n",
       " 'positive',\n",
       " 'positive',\n",
       " 'positive',\n",
       " 'positive',\n",
       " 'positive',\n",
       " 'positive',\n",
       " 'positive',\n",
       " 'negative',\n",
       " 'positive',\n",
       " 'positive',\n",
       " 'negative',\n",
       " 'positive',\n",
       " 'positive',\n",
       " 'positive',\n",
       " 'positive',\n",
       " 'negative',\n",
       " 'positive',\n",
       " 'positive',\n",
       " 'positive',\n",
       " 'positive',\n",
       " 'positive',\n",
       " 'positive',\n",
       " 'positive',\n",
       " 'negative',\n",
       " 'positive',\n",
       " 'positive',\n",
       " 'positive',\n",
       " 'negative',\n",
       " 'negative',\n",
       " 'positive',\n",
       " 'positive',\n",
       " 'negative',\n",
       " 'negative',\n",
       " 'positive',\n",
       " 'negative',\n",
       " 'negative',\n",
       " 'positive',\n",
       " 'positive',\n",
       " 'positive',\n",
       " 'positive',\n",
       " 'positive',\n",
       " 'positive',\n",
       " 'negative',\n",
       " 'positive',\n",
       " 'positive',\n",
       " 'positive',\n",
       " 'positive',\n",
       " 'positive',\n",
       " 'positive',\n",
       " 'positive',\n",
       " 'positive',\n",
       " 'negative',\n",
       " 'positive',\n",
       " 'positive',\n",
       " 'positive',\n",
       " 'positive',\n",
       " 'positive',\n",
       " 'positive',\n",
       " 'positive',\n",
       " 'positive',\n",
       " 'positive',\n",
       " 'positive',\n",
       " 'positive',\n",
       " 'positive',\n",
       " 'negative',\n",
       " 'positive',\n",
       " 'positive',\n",
       " 'positive',\n",
       " 'positive',\n",
       " 'positive',\n",
       " 'negative',\n",
       " 'negative',\n",
       " 'positive',\n",
       " 'positive',\n",
       " 'positive',\n",
       " 'positive',\n",
       " 'positive',\n",
       " 'negative',\n",
       " 'negative',\n",
       " 'positive',\n",
       " 'positive',\n",
       " 'positive',\n",
       " 'positive',\n",
       " 'negative',\n",
       " 'positive',\n",
       " 'positive',\n",
       " 'positive',\n",
       " 'positive',\n",
       " 'negative',\n",
       " 'negative',\n",
       " 'positive',\n",
       " 'positive',\n",
       " 'positive',\n",
       " 'positive',\n",
       " 'positive',\n",
       " 'positive',\n",
       " 'negative',\n",
       " 'positive',\n",
       " 'positive',\n",
       " ...]"
      ]
     },
     "execution_count": 51,
     "metadata": {},
     "output_type": "execute_result"
    }
   ],
   "source": [
    "l"
   ]
  },
  {
   "cell_type": "code",
   "execution_count": null,
   "id": "b536ac64-1abe-4823-bd29-fdeaa67fb7d8",
   "metadata": {},
   "outputs": [],
   "source": []
  },
  {
   "cell_type": "code",
   "execution_count": null,
   "id": "cc05a0ce-5fb0-439c-84cb-623448e61c79",
   "metadata": {
    "scrolled": true
   },
   "outputs": [
    {
     "data": {
      "text/plain": [
       "0"
      ]
     },
     "execution_count": 52,
     "metadata": {},
     "output_type": "execute_result"
    }
   ],
   "source": [
    "df['review'].isnull().sum()"
   ]
  },
  {
   "cell_type": "code",
   "execution_count": null,
   "id": "bb987a6e-5c51-4391-b5a5-defa9f8bfeab",
   "metadata": {},
   "outputs": [
    {
     "data": {
      "text/plain": [
       "Index(['Reviewer Name', 'Review Title', 'Place of Review', 'Up Votes',\n",
       "       'Down Votes', 'Month', 'Review text', 'Ratings', 're', 'review'],\n",
       "      dtype='object')"
      ]
     },
     "execution_count": 53,
     "metadata": {},
     "output_type": "execute_result"
    }
   ],
   "source": [
    "df.columns"
   ]
  },
  {
   "cell_type": "code",
   "execution_count": null,
   "id": "e2e42b4c-74f0-408c-8d35-1692a0172ce8",
   "metadata": {},
   "outputs": [
    {
     "data": {
      "text/plain": [
       "0       nice product good quality price rise bad sign ...\n",
       "1       supply yonex mavis outside cover yonex ad insi...\n",
       "2       worst product damage shuttlecock pack new box ...\n",
       "5                  good quality product deliver time read\n",
       "6       best purchase good quality durable average shu...\n",
       "                              ...                        \n",
       "8495       thank delivery boy service always awesome read\n",
       "8496    price even discount price much higher usual mi...\n",
       "8497    much price get rs home town advantage purchase...\n",
       "8499    hii flipkart customers care delivery boys brin...\n",
       "8507                              nice delivery speedread\n",
       "Name: review, Length: 8013, dtype: object"
      ]
     },
     "execution_count": 54,
     "metadata": {},
     "output_type": "execute_result"
    }
   ],
   "source": [
    "df['review']"
   ]
  },
  {
   "cell_type": "code",
   "execution_count": null,
   "id": "27c26cb7-98d2-456d-89cf-49d398287a2e",
   "metadata": {},
   "outputs": [],
   "source": [
    "from sklearn.pipeline import Pipeline\n"
   ]
  },
  {
   "cell_type": "code",
   "execution_count": 92,
   "id": "771d73c3-799f-4c7a-b457-077d16da8695",
   "metadata": {},
   "outputs": [],
   "source": [
    "from sklearn.feature_extraction.text import TfidfVectorizer\n",
    "from sklearn.model_selection import GridSearchCV\n"
   ]
  },
  {
   "cell_type": "code",
   "execution_count": 93,
   "id": "9fc56174-597f-464e-a5f5-88dff74b50bb",
   "metadata": {},
   "outputs": [],
   "source": [
    "from sklearn.linear_model import LogisticRegression\n",
    "from sklearn.ensemble import RandomForestClassifier\n",
    "from sklearn.svm import SVC\n",
    "from sklearn.metrics import classification_report\n",
    "import joblib"
   ]
  },
  {
   "cell_type": "code",
   "execution_count": 94,
   "id": "b6e90d09-2929-4cd8-b963-f5ac8499986a",
   "metadata": {},
   "outputs": [],
   "source": [
    "from sklearn.feature_extraction.text import CountVectorizer\n",
    "count_vectorizer = CountVectorizer()"
   ]
  },
  {
   "cell_type": "code",
   "execution_count": 95,
   "id": "8d40b1b2-d617-4e5b-91b2-5c978f117797",
   "metadata": {},
   "outputs": [],
   "source": [
    "from sklearn.model_selection import train_test_split"
   ]
  },
  {
   "cell_type": "code",
   "execution_count": 96,
   "id": "f5b1c2fc-4f16-4840-a292-cfd49fad5347",
   "metadata": {},
   "outputs": [],
   "source": [
    "import tensorflow"
   ]
  },
  {
   "cell_type": "code",
   "execution_count": 97,
   "id": "9dacb350-2e7c-4323-be38-833f64f966e6",
   "metadata": {},
   "outputs": [],
   "source": [
    "X_train,x_test,y_train,y_test=train_test_split(df['review'],val,test_size=0.3,random_state=0,stratify=val)"
   ]
  },
  {
   "cell_type": "code",
   "execution_count": null,
   "id": "9cd461dc-2e4f-4646-93a7-6bd172e24516",
   "metadata": {},
   "outputs": [
    {
     "data": {
      "text/plain": [
       "5609"
      ]
     },
     "execution_count": 62,
     "metadata": {},
     "output_type": "execute_result"
    }
   ],
   "source": [
    "len(X_train)"
   ]
  },
  {
   "cell_type": "code",
   "execution_count": null,
   "id": "b3df2c43-53e7-47c1-875a-6d6e0cb9c139",
   "metadata": {
    "scrolled": true
   },
   "outputs": [],
   "source": []
  },
  {
   "cell_type": "code",
   "execution_count": 99,
   "id": "ae620d97-f49c-45c0-ab48-16c7ead3264e",
   "metadata": {},
   "outputs": [
    {
     "name": "stdout",
     "output_type": "stream",
     "text": [
      "              precision    recall  f1-score   support\n",
      "\n",
      "           0       0.87      0.40      0.55       465\n",
      "           1       0.87      0.99      0.93      1939\n",
      "\n",
      "    accuracy                           0.87      2404\n",
      "   macro avg       0.87      0.69      0.74      2404\n",
      "weighted avg       0.87      0.87      0.85      2404\n",
      "\n"
     ]
    }
   ],
   "source": [
    "from sklearn.pipeline import Pipeline\n",
    "from sklearn.feature_extraction.text import TfidfVectorizer\n",
    "from sklearn.linear_model import LogisticRegression\n",
    "from sklearn.datasets import fetch_20newsgroups\n",
    "from sklearn.model_selection import train_test_split\n",
    "from sklearn.metrics import classification_report\n",
    "\n",
    "\n",
    "pipeline = Pipeline([\n",
    "    ('tfidf', TfidfVectorizer()),  \n",
    "    ('clf', LogisticRegression()),  \n",
    "])\n",
    "\n",
    "# Fit pipeline on training data\n",
    "pipeline.fit(X_train, y_train)\n",
    "\n",
    "# Predict on test data\n",
    "y_pred = pipeline.predict(x_test)\n",
    "\n",
    "# Evaluate the model\n",
    "print(classification_report(y_test, y_pred))\n"
   ]
  },
  {
   "cell_type": "code",
   "execution_count": null,
   "id": "ccc6811b-1c9f-43ef-bb7f-e0fe69071d3e",
   "metadata": {},
   "outputs": [
    {
     "data": {
      "text/plain": [
       "250     positive\n",
       "7735    positive\n",
       "2805    positive\n",
       "4914    negative\n",
       "1539    positive\n",
       "          ...   \n",
       "5686    positive\n",
       "5850    positive\n",
       "1320    positive\n",
       "8063    positive\n",
       "7730    positive\n",
       "Name: re, Length: 6410, dtype: object"
      ]
     },
     "execution_count": 76,
     "metadata": {},
     "output_type": "execute_result"
    }
   ],
   "source": [
    "X_train"
   ]
  },
  {
   "cell_type": "code",
   "execution_count": null,
   "id": "8c33ae32-070e-4990-bec8-0746409f4031",
   "metadata": {},
   "outputs": [
    {
     "data": {
      "text/plain": [
       "'positive'"
      ]
     },
     "execution_count": 72,
     "metadata": {},
     "output_type": "execute_result"
    }
   ],
   "source": [
    "df['re'][5]"
   ]
  },
  {
   "cell_type": "code",
   "execution_count": null,
   "id": "7f1f7a79-ab4a-47c8-ae3f-dad8f212f9d2",
   "metadata": {},
   "outputs": [],
   "source": [
    "prediction=df['review'][5]"
   ]
  },
  {
   "cell_type": "code",
   "execution_count": null,
   "id": "87740044-5260-40c5-ae20-429db31004f7",
   "metadata": {},
   "outputs": [],
   "source": [
    "prediction=[prediction]"
   ]
  },
  {
   "cell_type": "code",
   "execution_count": null,
   "id": "925c0c56-d535-4078-81c7-cb785794b579",
   "metadata": {},
   "outputs": [
    {
     "data": {
      "text/plain": [
       "array([1])"
      ]
     },
     "execution_count": 82,
     "metadata": {},
     "output_type": "execute_result"
    }
   ],
   "source": [
    "pipeline.predict(prediction)"
   ]
  },
  {
   "cell_type": "code",
   "execution_count": null,
   "id": "081f0ccb-bd28-4548-8c4b-788506d399b6",
   "metadata": {
    "scrolled": true
   },
   "outputs": [
    {
     "data": {
      "text/plain": [
       "1880    negative\n",
       "2188    positive\n",
       "7075    positive\n",
       "4967    positive\n",
       "3822    positive\n",
       "          ...   \n",
       "6072    positive\n",
       "4149    positive\n",
       "4332    positive\n",
       "5421    negative\n",
       "3420    positive\n",
       "Name: re, Length: 1603, dtype: object"
      ]
     },
     "execution_count": 75,
     "metadata": {},
     "output_type": "execute_result"
    }
   ],
   "source": [
    "X_test"
   ]
  },
  {
   "cell_type": "code",
   "execution_count": null,
   "id": "fd543ccf-568a-46f6-94c9-9daa9b8267fb",
   "metadata": {},
   "outputs": [
    {
     "data": {
      "text/plain": [
       "0       positive\n",
       "1       negative\n",
       "2       negative\n",
       "5       positive\n",
       "6       positive\n",
       "          ...   \n",
       "8495    positive\n",
       "8496    negative\n",
       "8497    negative\n",
       "8499    positive\n",
       "8507    positive\n",
       "Name: re, Length: 8013, dtype: object"
      ]
     },
     "execution_count": 83,
     "metadata": {},
     "output_type": "execute_result"
    }
   ],
   "source": [
    "df['re']"
   ]
  },
  {
   "cell_type": "code",
   "execution_count": null,
   "id": "581c34a8-256e-4f9d-90ed-f5f0329c3eb4",
   "metadata": {},
   "outputs": [
    {
     "data": {
      "text/plain": [
       "array([1, 0, 0, ..., 0, 1, 1])"
      ]
     },
     "execution_count": 84,
     "metadata": {},
     "output_type": "execute_result"
    }
   ],
   "source": [
    "val"
   ]
  },
  {
   "cell_type": "code",
   "execution_count": null,
   "id": "e1411f32-f434-4b80-a1b3-86db16bd2ab0",
   "metadata": {},
   "outputs": [],
   "source": [
    "prediction=df['review'][10]"
   ]
  },
  {
   "cell_type": "code",
   "execution_count": null,
   "id": "0aad2ba1-faad-44f6-9b00-4bc4215e3590",
   "metadata": {},
   "outputs": [],
   "source": [
    "prediction=['supply yonex mavis outside cover yonex ad inside cheapest sad hear read']"
   ]
  },
  {
   "cell_type": "code",
   "execution_count": null,
   "id": "84ad6ba2-d43d-4a70-a5e7-7bb21c32433b",
   "metadata": {},
   "outputs": [
    {
     "data": {
      "text/plain": [
       "array([1])"
      ]
     },
     "execution_count": 102,
     "metadata": {},
     "output_type": "execute_result"
    }
   ],
   "source": [
    "pipeline.predict(prediction)"
   ]
  },
  {
   "cell_type": "code",
   "execution_count": null,
   "id": "b1e0ff12-180c-4b77-8892-dcfa207c3381",
   "metadata": {},
   "outputs": [
    {
     "data": {
      "text/plain": [
       "'supply yonex mavis outside cover yonex ad inside cheapest sad hear read'"
      ]
     },
     "execution_count": 100,
     "metadata": {},
     "output_type": "execute_result"
    }
   ],
   "source": [
    "df['review'][1]"
   ]
  },
  {
   "cell_type": "code",
   "execution_count": null,
   "id": "00e35cea-3c2a-4b02-9877-cd70da0b01f0",
   "metadata": {},
   "outputs": [
    {
     "data": {
      "text/plain": [
       "'negative'"
      ]
     },
     "execution_count": 103,
     "metadata": {},
     "output_type": "execute_result"
    }
   ],
   "source": [
    "df['re'][1]"
   ]
  },
  {
   "cell_type": "code",
   "execution_count": null,
   "id": "56437673-fbe3-4ef3-a739-445eaea20468",
   "metadata": {},
   "outputs": [],
   "source": [
    "review=['bad product']"
   ]
  },
  {
   "cell_type": "code",
   "execution_count": null,
   "id": "3fd8cb3b-5fa7-4324-9e9b-fec204a96797",
   "metadata": {},
   "outputs": [
    {
     "data": {
      "text/plain": [
       "array([0])"
      ]
     },
     "execution_count": 107,
     "metadata": {},
     "output_type": "execute_result"
    }
   ],
   "source": [
    "pipeline.predict(review)"
   ]
  },
  {
   "cell_type": "code",
   "execution_count": null,
   "id": "8138e3ae-2fd6-4015-bcd8-0fbf70d00260",
   "metadata": {},
   "outputs": [],
   "source": [
    "import joblib"
   ]
  },
  {
   "cell_type": "code",
   "execution_count": null,
   "id": "4acf4738-0487-4b42-9505-7f0de47ea019",
   "metadata": {},
   "outputs": [
    {
     "data": {
      "text/plain": [
       "['my_model_knn.pkl.pkl']"
      ]
     },
     "execution_count": 109,
     "metadata": {},
     "output_type": "execute_result"
    }
   ],
   "source": [
    "joblib.dump(pipeline, 'my_model_knn.pkl.pkl')"
   ]
  },
  {
   "cell_type": "code",
   "execution_count": null,
   "id": "74936757-8b3a-4fee-9dbc-3604f0dac461",
   "metadata": {},
   "outputs": [],
   "source": [
    "from sklearn.svm import SVC\n",
    "\n",
    "# Define the SVM pipeline\n",
    "svm_pipeline = Pipeline([\n",
    "    ('tfidf', TfidfVectorizer()),\n",
    "    ('svm', SVC(kernel='linear'))  # Linear kernel is often used for text classification\n",
    "])\n",
    "\n",
    "# Train the SVM pipeline\n",
    "svm_pipeline.fit(X_train, y_train)\n",
    "\n",
    "# Evaluate the model\n",
    "accuracy = svm_pipeline.score(X_test, y_test)\n"
   ]
  },
  {
   "cell_type": "code",
   "execution_count": null,
   "id": "918afb10-1ed8-42c9-8530-edb27bf9aba5",
   "metadata": {},
   "outputs": [
    {
     "data": {
      "text/plain": [
       "0.8820960698689956"
      ]
     },
     "execution_count": 113,
     "metadata": {},
     "output_type": "execute_result"
    }
   ],
   "source": [
    "accuracy"
   ]
  },
  {
   "cell_type": "code",
   "execution_count": null,
   "id": "73b2fa2e-851b-4cea-8b98-ed1e46a2df4c",
   "metadata": {},
   "outputs": [
    {
     "data": {
      "text/plain": [
       "['svm.pkl']"
      ]
     },
     "execution_count": 114,
     "metadata": {},
     "output_type": "execute_result"
    }
   ],
   "source": [
    "joblib.dump(svm_pipeline,'svm.pkl')"
   ]
  },
  {
   "cell_type": "code",
   "execution_count": null,
   "id": "baeafa37-4878-4508-b91a-fdfebfcfeb84",
   "metadata": {},
   "outputs": [],
   "source": [
    "from sklearn.ensemble import RandomForestClassifier\n"
   ]
  },
  {
   "cell_type": "code",
   "execution_count": null,
   "id": "ee6d3459-d58b-4b08-bd16-e087ba305079",
   "metadata": {},
   "outputs": [],
   "source": [
    "pipeline = Pipeline([\n",
    "    ('tfidf', TfidfVectorizer()),\n",
    "    ('clf', RandomForestClassifier())\n",
    "])\n",
    "\n",
    "# Define parameters for grid bsearch\n",
    "parameters = {\n",
    "    'clf__n_estimators': [50, 100, 200],  # Number of trees in the forest\n",
    "    'clf__max_depth': [None, 10, 20]  # Maximum depth of the trees\n",
    "}"
   ]
  },
  {
   "cell_type": "code",
   "execution_count": 100,
   "id": "1b010914-2d6d-4bbe-bcaf-a22e2ecf59ec",
   "metadata": {},
   "outputs": [
    {
     "name": "stderr",
     "output_type": "stream",
     "text": [
      "2024/03/27 22:24:43 WARNING mlflow.sklearn: Unrecognized dataset type <class 'pandas.core.series.Series'>. Dataset logging skipped.\n"
     ]
    },
    {
     "name": "stdout",
     "output_type": "stream",
     "text": [
      "Fitting 5 folds for each of 36 candidates, totalling 180 fits\n"
     ]
    },
    {
     "name": "stderr",
     "output_type": "stream",
     "text": [
      "c:\\Users\\sspon\\anaconda3\\New folder\\Lib\\site-packages\\sklearn\\model_selection\\_validation.py:378: FitFailedWarning: \n",
      "90 fits failed out of a total of 180.\n",
      "The score on these train-test partitions for these parameters will be set to nan.\n",
      "If these failures are not expected, you can try to debug them by setting error_score='raise'.\n",
      "\n",
      "Below are more details about the failures:\n",
      "--------------------------------------------------------------------------------\n",
      "90 fits failed with the following error:\n",
      "Traceback (most recent call last):\n",
      "  File \"c:\\Users\\sspon\\anaconda3\\New folder\\Lib\\site-packages\\sklearn\\model_selection\\_validation.py\", line 686, in _fit_and_score\n",
      "    estimator.fit(X_train, y_train, **fit_params)\n",
      "  File \"c:\\Users\\sspon\\anaconda3\\New folder\\Lib\\site-packages\\sklearn\\pipeline.py\", line 405, in fit\n",
      "    self._final_estimator.fit(Xt, y, **fit_params_last_step)\n",
      "  File \"c:\\Users\\sspon\\anaconda3\\New folder\\Lib\\site-packages\\sklearn\\linear_model\\_logistic.py\", line 1162, in fit\n",
      "    solver = _check_solver(self.solver, self.penalty, self.dual)\n",
      "             ^^^^^^^^^^^^^^^^^^^^^^^^^^^^^^^^^^^^^^^^^^^^^^^^^^^\n",
      "  File \"c:\\Users\\sspon\\anaconda3\\New folder\\Lib\\site-packages\\sklearn\\linear_model\\_logistic.py\", line 54, in _check_solver\n",
      "    raise ValueError(\n",
      "ValueError: Solver lbfgs supports only 'l2' or 'none' penalties, got l1 penalty.\n",
      "\n",
      "  warnings.warn(some_fits_failed_message, FitFailedWarning)\n",
      "c:\\Users\\sspon\\anaconda3\\New folder\\Lib\\site-packages\\sklearn\\model_selection\\_search.py:952: UserWarning: One or more of the test scores are non-finite: [       nan        nan        nan        nan        nan        nan\n",
      " 0.82474697 0.81048338 0.82474697 0.81048338 0.82474697 0.81048338\n",
      "        nan        nan        nan        nan        nan        nan\n",
      " 0.87823261 0.87698388 0.87823261 0.87698388 0.87823261 0.87698388\n",
      "        nan        nan        nan        nan        nan        nan\n",
      " 0.87894753 0.88393718 0.87894753 0.88393718 0.87894753 0.88393718]\n",
      "  warnings.warn(\n",
      "c:\\Users\\sspon\\anaconda3\\New folder\\Lib\\site-packages\\sklearn\\linear_model\\_logistic.py:458: ConvergenceWarning: lbfgs failed to converge (status=1):\n",
      "STOP: TOTAL NO. of ITERATIONS REACHED LIMIT.\n",
      "\n",
      "Increase the number of iterations (max_iter) or scale the data as shown in:\n",
      "    https://scikit-learn.org/stable/modules/preprocessing.html\n",
      "Please also refer to the documentation for alternative solver options:\n",
      "    https://scikit-learn.org/stable/modules/linear_model.html#logistic-regression\n",
      "  n_iter_i = _check_optimize_result(\n",
      "2024/03/27 22:25:26 WARNING mlflow.utils.autologging_utils: MLflow autologging encountered a warning: \"c:\\Users\\sspon\\anaconda3\\New folder\\Lib\\site-packages\\_distutils_hack\\__init__.py:33: UserWarning: Setuptools is replacing distutils.\"\n"
     ]
    },
    {
     "name": "stdout",
     "output_type": "stream",
     "text": [
      "CPU times: total: 13.6 s\n",
      "Wall time: 1min\n"
     ]
    }
   ],
   "source": [
    "from sklearn.pipeline import Pipeline\n",
    "from sklearn.feature_extraction.text import TfidfVectorizer\n",
    "from sklearn.model_selection import GridSearchCV\n",
    "from sklearn.linear_model import LogisticRegression\n",
    "from sklearn.datasets import fetch_20newsgroups\n",
    "\n",
    "# Load data\n",
    "data = fetch_20newsgroups(subset='all', shuffle=True, random_state=42)\n",
    "\n",
    "# Define pipeline\n",
    "pipeline = Pipeline([\n",
    "    ('tfidf', TfidfVectorizer()),\n",
    "    ('clf', LogisticRegression())\n",
    "])\n",
    "\n",
    "# Define parameters for grid search\n",
    "parameters = {\n",
    "    'tfidf__max_df': (0.25, 0.5, 0.75),\n",
    "    'tfidf__ngram_range': [(1, 1), (1, 2)],\n",
    "    'clf__C': (0.1, 1, 10),\n",
    "    'clf__penalty': ('l1', 'l2')\n",
    "}\n",
    "\n",
    "# Perform grid search\n",
    "log_grid_search = GridSearchCV(pipeline, parameters, cv=5, n_jobs=-1, verbose=1)\n",
    "mlflow.sklearn.autolog(max_tuning_runs=None)\n",
    "\n",
    "with mlflow.start_run() as run:\n",
    "    %time log_grid_search.fit(X_train, y_train)\n"
   ]
  },
  {
   "cell_type": "code",
   "execution_count": null,
   "id": "52be1165-1aa7-470b-b90f-4bffdc66c394",
   "metadata": {},
   "outputs": [
    {
     "data": {
      "text/plain": [
       "array([1, 1, 1, ..., 0, 1, 1])"
      ]
     },
     "execution_count": 51,
     "metadata": {},
     "output_type": "execute_result"
    }
   ],
   "source": [
    "y_train"
   ]
  },
  {
   "cell_type": "code",
   "execution_count": null,
   "id": "1337f9c9-9ec3-43fd-83b6-bc0bce0fa36d",
   "metadata": {},
   "outputs": [
    {
     "name": "stdout",
     "output_type": "stream",
     "text": [
      "Fitting 3 folds for each of 9 candidates, totalling 27 fits\n"
     ]
    },
    {
     "data": {
      "text/html": [
       "<style>#sk-container-id-1 {color: black;background-color: white;}#sk-container-id-1 pre{padding: 0;}#sk-container-id-1 div.sk-toggleable {background-color: white;}#sk-container-id-1 label.sk-toggleable__label {cursor: pointer;display: block;width: 100%;margin-bottom: 0;padding: 0.3em;box-sizing: border-box;text-align: center;}#sk-container-id-1 label.sk-toggleable__label-arrow:before {content: \"▸\";float: left;margin-right: 0.25em;color: #696969;}#sk-container-id-1 label.sk-toggleable__label-arrow:hover:before {color: black;}#sk-container-id-1 div.sk-estimator:hover label.sk-toggleable__label-arrow:before {color: black;}#sk-container-id-1 div.sk-toggleable__content {max-height: 0;max-width: 0;overflow: hidden;text-align: left;background-color: #f0f8ff;}#sk-container-id-1 div.sk-toggleable__content pre {margin: 0.2em;color: black;border-radius: 0.25em;background-color: #f0f8ff;}#sk-container-id-1 input.sk-toggleable__control:checked~div.sk-toggleable__content {max-height: 200px;max-width: 100%;overflow: auto;}#sk-container-id-1 input.sk-toggleable__control:checked~label.sk-toggleable__label-arrow:before {content: \"▾\";}#sk-container-id-1 div.sk-estimator input.sk-toggleable__control:checked~label.sk-toggleable__label {background-color: #d4ebff;}#sk-container-id-1 div.sk-label input.sk-toggleable__control:checked~label.sk-toggleable__label {background-color: #d4ebff;}#sk-container-id-1 input.sk-hidden--visually {border: 0;clip: rect(1px 1px 1px 1px);clip: rect(1px, 1px, 1px, 1px);height: 1px;margin: -1px;overflow: hidden;padding: 0;position: absolute;width: 1px;}#sk-container-id-1 div.sk-estimator {font-family: monospace;background-color: #f0f8ff;border: 1px dotted black;border-radius: 0.25em;box-sizing: border-box;margin-bottom: 0.5em;}#sk-container-id-1 div.sk-estimator:hover {background-color: #d4ebff;}#sk-container-id-1 div.sk-parallel-item::after {content: \"\";width: 100%;border-bottom: 1px solid gray;flex-grow: 1;}#sk-container-id-1 div.sk-label:hover label.sk-toggleable__label {background-color: #d4ebff;}#sk-container-id-1 div.sk-serial::before {content: \"\";position: absolute;border-left: 1px solid gray;box-sizing: border-box;top: 0;bottom: 0;left: 50%;z-index: 0;}#sk-container-id-1 div.sk-serial {display: flex;flex-direction: column;align-items: center;background-color: white;padding-right: 0.2em;padding-left: 0.2em;position: relative;}#sk-container-id-1 div.sk-item {position: relative;z-index: 1;}#sk-container-id-1 div.sk-parallel {display: flex;align-items: stretch;justify-content: center;background-color: white;position: relative;}#sk-container-id-1 div.sk-item::before, #sk-container-id-1 div.sk-parallel-item::before {content: \"\";position: absolute;border-left: 1px solid gray;box-sizing: border-box;top: 0;bottom: 0;left: 50%;z-index: -1;}#sk-container-id-1 div.sk-parallel-item {display: flex;flex-direction: column;z-index: 1;position: relative;background-color: white;}#sk-container-id-1 div.sk-parallel-item:first-child::after {align-self: flex-end;width: 50%;}#sk-container-id-1 div.sk-parallel-item:last-child::after {align-self: flex-start;width: 50%;}#sk-container-id-1 div.sk-parallel-item:only-child::after {width: 0;}#sk-container-id-1 div.sk-dashed-wrapped {border: 1px dashed gray;margin: 0 0.4em 0.5em 0.4em;box-sizing: border-box;padding-bottom: 0.4em;background-color: white;}#sk-container-id-1 div.sk-label label {font-family: monospace;font-weight: bold;display: inline-block;line-height: 1.2em;}#sk-container-id-1 div.sk-label-container {text-align: center;}#sk-container-id-1 div.sk-container {/* jupyter's `normalize.less` sets `[hidden] { display: none; }` but bootstrap.min.css set `[hidden] { display: none !important; }` so we also need the `!important` here to be able to override the default hidden behavior on the sphinx rendered scikit-learn.org. See: https://github.com/scikit-learn/scikit-learn/issues/21755 */display: inline-block !important;position: relative;}#sk-container-id-1 div.sk-text-repr-fallback {display: none;}</style><div id=\"sk-container-id-1\" class=\"sk-top-container\"><div class=\"sk-text-repr-fallback\"><pre>GridSearchCV(cv=3,\n",
       "             estimator=Pipeline(steps=[(&#x27;tfidf&#x27;, TfidfVectorizer()),\n",
       "                                       (&#x27;clf&#x27;, RandomForestClassifier())]),\n",
       "             n_jobs=-1,\n",
       "             param_grid={&#x27;clf__max_depth&#x27;: [None, 10, 20],\n",
       "                         &#x27;clf__n_estimators&#x27;: [50, 100, 200]},\n",
       "             verbose=1)</pre><b>In a Jupyter environment, please rerun this cell to show the HTML representation or trust the notebook. <br />On GitHub, the HTML representation is unable to render, please try loading this page with nbviewer.org.</b></div><div class=\"sk-container\" hidden><div class=\"sk-item sk-dashed-wrapped\"><div class=\"sk-label-container\"><div class=\"sk-label sk-toggleable\"><input class=\"sk-toggleable__control sk-hidden--visually\" id=\"sk-estimator-id-1\" type=\"checkbox\" ><label for=\"sk-estimator-id-1\" class=\"sk-toggleable__label sk-toggleable__label-arrow\">GridSearchCV</label><div class=\"sk-toggleable__content\"><pre>GridSearchCV(cv=3,\n",
       "             estimator=Pipeline(steps=[(&#x27;tfidf&#x27;, TfidfVectorizer()),\n",
       "                                       (&#x27;clf&#x27;, RandomForestClassifier())]),\n",
       "             n_jobs=-1,\n",
       "             param_grid={&#x27;clf__max_depth&#x27;: [None, 10, 20],\n",
       "                         &#x27;clf__n_estimators&#x27;: [50, 100, 200]},\n",
       "             verbose=1)</pre></div></div></div><div class=\"sk-parallel\"><div class=\"sk-parallel-item\"><div class=\"sk-item\"><div class=\"sk-label-container\"><div class=\"sk-label sk-toggleable\"><input class=\"sk-toggleable__control sk-hidden--visually\" id=\"sk-estimator-id-2\" type=\"checkbox\" ><label for=\"sk-estimator-id-2\" class=\"sk-toggleable__label sk-toggleable__label-arrow\">estimator: Pipeline</label><div class=\"sk-toggleable__content\"><pre>Pipeline(steps=[(&#x27;tfidf&#x27;, TfidfVectorizer()),\n",
       "                (&#x27;clf&#x27;, RandomForestClassifier())])</pre></div></div></div><div class=\"sk-serial\"><div class=\"sk-item\"><div class=\"sk-serial\"><div class=\"sk-item\"><div class=\"sk-estimator sk-toggleable\"><input class=\"sk-toggleable__control sk-hidden--visually\" id=\"sk-estimator-id-3\" type=\"checkbox\" ><label for=\"sk-estimator-id-3\" class=\"sk-toggleable__label sk-toggleable__label-arrow\">TfidfVectorizer</label><div class=\"sk-toggleable__content\"><pre>TfidfVectorizer()</pre></div></div></div><div class=\"sk-item\"><div class=\"sk-estimator sk-toggleable\"><input class=\"sk-toggleable__control sk-hidden--visually\" id=\"sk-estimator-id-4\" type=\"checkbox\" ><label for=\"sk-estimator-id-4\" class=\"sk-toggleable__label sk-toggleable__label-arrow\">RandomForestClassifier</label><div class=\"sk-toggleable__content\"><pre>RandomForestClassifier()</pre></div></div></div></div></div></div></div></div></div></div></div></div>"
      ],
      "text/plain": [
       "GridSearchCV(cv=3,\n",
       "             estimator=Pipeline(steps=[('tfidf', TfidfVectorizer()),\n",
       "                                       ('clf', RandomForestClassifier())]),\n",
       "             n_jobs=-1,\n",
       "             param_grid={'clf__max_depth': [None, 10, 20],\n",
       "                         'clf__n_estimators': [50, 100, 200]},\n",
       "             verbose=1)"
      ]
     },
     "execution_count": 117,
     "metadata": {},
     "output_type": "execute_result"
    }
   ],
   "source": [
    "grid_search_random = GridSearchCV(pipeline, parameters, cv=3, n_jobs=-1, verbose=1)\n",
    "grid_search_random.fit(X_train, y_train)\n",
    "\n",
    "# Print best parameters found\n"
   ]
  },
  {
   "cell_type": "code",
   "execution_count": null,
   "id": "825bc788-ac9f-4800-9682-eaa96c4549f4",
   "metadata": {},
   "outputs": [
    {
     "name": "stdout",
     "output_type": "stream",
     "text": [
      "Best parameters found:\n",
      "{'classifier__n_estimators': 50}\n",
      "\n",
      "Classification Report:\n",
      "              precision    recall  f1-score   support\n",
      "\n",
      "           0       0.71      0.93      0.80       240\n",
      "           1       0.99      0.93      0.96      1363\n",
      "\n",
      "    accuracy                           0.93      1603\n",
      "   macro avg       0.85      0.93      0.88      1603\n",
      "weighted avg       0.95      0.93      0.94      1603\n",
      "\n"
     ]
    }
   ],
   "source": [
    "print(\"Best parameters found:\")\n",
    "print(grid_search.best_params_)\n",
    "print()\n",
    "\n",
    "# Predict on test data using the best model\n",
    "y_pred = grid_search.predict(X_test)\n",
    "\n",
    "# Evaluate the model\n",
    "print(\"Classification Report:\")\n",
    "print(classification_report(y_pred,y_test))"
   ]
  },
  {
   "cell_type": "code",
   "execution_count": null,
   "id": "7d849520-0fc2-4a5c-bd03-9abd924bac38",
   "metadata": {},
   "outputs": [
    {
     "data": {
      "text/plain": [
       "0       positive\n",
       "1       negative\n",
       "2       negative\n",
       "5       positive\n",
       "6       positive\n",
       "          ...   \n",
       "8495    positive\n",
       "8496    negative\n",
       "8497    negative\n",
       "8499    positive\n",
       "8507    positive\n",
       "Name: re, Length: 8013, dtype: object"
      ]
     },
     "execution_count": 121,
     "metadata": {},
     "output_type": "execute_result"
    }
   ],
   "source": [
    "df['re']"
   ]
  },
  {
   "cell_type": "code",
   "execution_count": null,
   "id": "c5264d40-dcfb-4fbf-97cd-f4536f411c24",
   "metadata": {},
   "outputs": [],
   "source": [
    "ans=[df['review'][8507]]"
   ]
  },
  {
   "cell_type": "code",
   "execution_count": null,
   "id": "f748a1f7-e1e7-4dfc-9ba9-4fd0a6391877",
   "metadata": {},
   "outputs": [
    {
     "data": {
      "text/plain": [
       "['nice delivery speedread']"
      ]
     },
     "execution_count": 126,
     "metadata": {},
     "output_type": "execute_result"
    }
   ],
   "source": [
    "ans"
   ]
  },
  {
   "cell_type": "code",
   "execution_count": null,
   "id": "df4aad9c-95e4-4c44-817d-df724a93aa41",
   "metadata": {},
   "outputs": [
    {
     "data": {
      "text/plain": [
       "array([1])"
      ]
     },
     "execution_count": 127,
     "metadata": {},
     "output_type": "execute_result"
    }
   ],
   "source": [
    "grid_search.predict(ans)"
   ]
  },
  {
   "cell_type": "code",
   "execution_count": null,
   "id": "790d99e6-37e9-440b-9162-d1c6bf41b35f",
   "metadata": {},
   "outputs": [
    {
     "data": {
      "text/plain": [
       "['random.pkl']"
      ]
     },
     "execution_count": 128,
     "metadata": {},
     "output_type": "execute_result"
    }
   ],
   "source": [
    "joblib.dump(grid_search,'random.pkl')"
   ]
  },
  {
   "cell_type": "code",
   "execution_count": 119,
   "id": "0afc6040",
   "metadata": {},
   "outputs": [
    {
     "name": "stderr",
     "output_type": "stream",
     "text": [
      "2024/03/27 23:44:49 WARNING mlflow.sklearn: Unrecognized dataset type <class 'pandas.core.series.Series'>. Dataset logging skipped.\n"
     ]
    },
    {
     "name": "stdout",
     "output_type": "stream",
     "text": [
      "CPU times: total: 9.58 s\n",
      "Wall time: 51.8 s\n"
     ]
    }
   ],
   "source": [
    "pipeline = Pipeline([\n",
    "    ('tfidf', TfidfVectorizer()),\n",
    "    ('nb', MultinomialNB())\n",
    "])\n",
    "\n",
    "# Define hyperparameters to search\n",
    "parameters = {\n",
    "    'tfidf__max_df': (0.25, 0.5, 0.75),\n",
    "    'tfidf__ngram_range': [(1, 1), (1, 2), (1, 3)],\n",
    "    'nb__alpha': (0.1, 0.5, 1)\n",
    "}\n",
    "\n",
    "# Initialize GridSearchCV\n",
    "grid_search = GridSearchCV(pipeline, parameters, cv=5, n_jobs=-1)\n",
    "\n",
    "# Fit the grid search to the training data\n",
    "mlflow.sklearn.autolog(max_tuning_runs=None)\n",
    "\n",
    "with mlflow.start_run() as run:\n",
    "    %time grid_search.fit(X_train, y_train)"
   ]
  },
  {
   "cell_type": "code",
   "execution_count": null,
   "id": "8c29596f",
   "metadata": {},
   "outputs": [],
   "source": []
  },
  {
   "cell_type": "code",
   "execution_count": 101,
   "id": "727ea20e-5979-459e-83d8-d562b587d6ef",
   "metadata": {},
   "outputs": [
    {
     "name": "stderr",
     "output_type": "stream",
     "text": [
      "2024/03/27 22:26:59 WARNING mlflow.sklearn: Unrecognized dataset type <class 'pandas.core.series.Series'>. Dataset logging skipped.\n"
     ]
    },
    {
     "name": "stdout",
     "output_type": "stream",
     "text": [
      "Fitting 3 folds for each of 6 candidates, totalling 18 fits\n",
      "CPU times: total: 2.39 s\n",
      "Wall time: 22.3 s\n"
     ]
    }
   ],
   "source": [
    "from sklearn.naive_bayes import MultinomialNB\n",
    "pipeline = Pipeline([\n",
    "    ('tfidf', TfidfVectorizer()),\n",
    "    ('clf', MultinomialNB())\n",
    "])\n",
    "parameters = {\n",
    "    'tfidf__ngram_range': [(1, 1), (1, 2)],  \n",
    "    'clf__alpha': [0.1, 1, 10]  \n",
    "}\n",
    "\n",
    "grid_search = GridSearchCV(pipeline, parameters, cv=3, n_jobs=-1, verbose=1)\n",
    "\n"
   ]
  },
  {
   "cell_type": "code",
   "execution_count": 120,
   "id": "7c7fe027",
   "metadata": {},
   "outputs": [
    {
     "name": "stderr",
     "output_type": "stream",
     "text": [
      "2024/03/27 23:59:59 WARNING mlflow.sklearn: Unrecognized dataset type <class 'pandas.core.series.Series'>. Dataset logging skipped.\n"
     ]
    },
    {
     "name": "stdout",
     "output_type": "stream",
     "text": [
      "CPU times: total: 14.7 s\n",
      "Wall time: 3min 24s\n"
     ]
    }
   ],
   "source": [
    "from sklearn.svm import SVC\n",
    "pipeline = Pipeline([\n",
    "    ('tfidf', TfidfVectorizer()),\n",
    "    ('svm', SVC())\n",
    "])\n",
    "\n",
    "# Define the parameters grid to search\n",
    "param_grid = {\n",
    "    'svm__C': [0.1, 1, 10, 100],  # Regularization parameter\n",
    "    'svm__gamma': [0.1, 0.01, 0.001, 0.0001],  # Kernel coefficient\n",
    "    'svm__kernel': ['rbf', 'linear']  # Kernel type\n",
    "}\n",
    "\n",
    "# Initialize GridSearchCV\n",
    "grid_search = GridSearchCV(pipeline, param_grid, cv=5, n_jobs=-1)\n",
    "\n",
    "# Fit the grid search to the data\n",
    "with mlflow.start_run() as run:\n",
    "    %time grid_search.fit(X_train, y_train)\n"
   ]
  },
  {
   "cell_type": "code",
   "execution_count": null,
   "id": "f5732c4e",
   "metadata": {},
   "outputs": [],
   "source": [
    "from sklearn.feature_extraction.text import TfidfVectorizer\n",
    "from sklearn.tree import DecisionTreeClassifier\n",
    "from sklearn.pipeline import Pipeline\n",
    "from sklearn.model_selection import GridSearchCV\n",
    "# 1 for positive sentiment, 0 for negative sentiment\n",
    "\n",
    "# Create a pipeline with TfidfVectorizer and DecisionTreeClassifier\n",
    "pipeline = Pipeline([\n",
    "    ('tfidf', TfidfVectorizer()),\n",
    "    ('dt', DecisionTreeClassifier())\n",
    "])\n",
    "\n",
    "# Define hyperparameters to search\n",
    "parameters = {\n",
    "    'tfidf__max_df': (0.25, 0.5, 0.75),\n",
    "    'tfidf__ngram_range': [(1, 1), (1, 2), (1, 3)],\n",
    "    'dt__max_depth': [None, 5, 10, 20],\n",
    "    'dt__min_samples_split': [2, 5, 10],\n",
    "    'dt__min_samples_leaf': [1, 2, 4]\n",
    "}\n",
    "\n",
    "# Initialize GridSearchCV\n",
    "grid_search = GridSearchCV(pipeline, parameters, cv=5, n_jobs=-1)\n",
    "with mlflow.start_run() as run:\n",
    "    %time grid_search.fit(X_train, y_train)\n",
    "# Fit the grid search to the training data\n",
    "\n"
   ]
  },
  {
   "cell_type": "code",
   "execution_count": 102,
   "id": "5dfe5175-ba57-4517-a1d6-31c4787c357a",
   "metadata": {},
   "outputs": [
    {
     "name": "stderr",
     "output_type": "stream",
     "text": [
      "<>:11: SyntaxWarning: 'tuple' object is not callable; perhaps you missed a comma?\n",
      "<>:11: SyntaxWarning: 'tuple' object is not callable; perhaps you missed a comma?\n",
      "C:\\Users\\sspon\\AppData\\Local\\Temp\\ipykernel_14204\\1820151878.py:11: SyntaxWarning: 'tuple' object is not callable; perhaps you missed a comma?\n",
      "  ('tfidf',TfidfVectorizer())\n"
     ]
    },
    {
     "ename": "TypeError",
     "evalue": "'tuple' object is not callable",
     "output_type": "error",
     "traceback": [
      "\u001b[1;31m---------------------------------------------------------------------------\u001b[0m",
      "\u001b[1;31mTypeError\u001b[0m                                 Traceback (most recent call last)",
      "Cell \u001b[1;32mIn[102], line 11\u001b[0m\n\u001b[0;32m      1\u001b[0m pipelines \u001b[38;5;241m=\u001b[39m {\n\u001b[0;32m      2\u001b[0m     \u001b[38;5;124m'\u001b[39m\u001b[38;5;124mnavie\u001b[39m\u001b[38;5;124m'\u001b[39m : Pipeline([\n\u001b[0;32m      3\u001b[0m         (\u001b[38;5;124m'\u001b[39m\u001b[38;5;124mtfidf\u001b[39m\u001b[38;5;124m'\u001b[39m, TfidfVectorizer()),\n\u001b[0;32m      4\u001b[0m         (\u001b[38;5;124m'\u001b[39m\u001b[38;5;124mclf\u001b[39m\u001b[38;5;124m'\u001b[39m, MultinomialNB())\n\u001b[0;32m      5\u001b[0m     ]), \n\u001b[0;32m      6\u001b[0m     \u001b[38;5;124m'\u001b[39m\u001b[38;5;124mlog\u001b[39m\u001b[38;5;124m'\u001b[39m : Pipeline([\n\u001b[0;32m      7\u001b[0m         (\u001b[38;5;124m'\u001b[39m\u001b[38;5;124mtfidf\u001b[39m\u001b[38;5;124m'\u001b[39m,TfidfVectorizer() ),\n\u001b[0;32m      8\u001b[0m         (\u001b[38;5;124m'\u001b[39m\u001b[38;5;124mclf\u001b[39m\u001b[38;5;124m'\u001b[39m, LogisticRegression())\n\u001b[0;32m      9\u001b[0m     ]),\n\u001b[0;32m     10\u001b[0m     \u001b[38;5;124m'\u001b[39m\u001b[38;5;124mrandom\u001b[39m\u001b[38;5;124m'\u001b[39m: Pipeline([\n\u001b[1;32m---> 11\u001b[0m         (\u001b[38;5;124m'\u001b[39m\u001b[38;5;124mtfidf\u001b[39m\u001b[38;5;124m'\u001b[39m,TfidfVectorizer())\n\u001b[0;32m     12\u001b[0m         (\u001b[38;5;124m'\u001b[39m\u001b[38;5;124mclf\u001b[39m\u001b[38;5;124m'\u001b[39m, RandomForestClassifier())\n\u001b[0;32m     13\u001b[0m     ]),\n\u001b[0;32m     14\u001b[0m     \u001b[38;5;124m'\u001b[39m\u001b[38;5;124mdecision\u001b[39m\u001b[38;5;124m'\u001b[39m: Pipeline([\n\u001b[0;32m     15\u001b[0m         (\u001b[38;5;124m'\u001b[39m\u001b[38;5;124mtfidf\u001b[39m\u001b[38;5;124m'\u001b[39m, TfidfVectorizer()),\n\u001b[0;32m     16\u001b[0m         (\u001b[38;5;124m'\u001b[39m\u001b[38;5;124mclassifier\u001b[39m\u001b[38;5;124m'\u001b[39m, DecisionTreeClassifier())\n\u001b[0;32m     17\u001b[0m     ])\n\u001b[0;32m     18\u001b[0m }\n",
      "\u001b[1;31mTypeError\u001b[0m: 'tuple' object is not callable"
     ]
    }
   ],
   "source": [
    "pipelines = {\n",
    "    'naie' : Pipeline([\n",
    "        ('tfidf', TfidfVectorizer()),\n",
    "        ('clf', MultinomialNB())\n",
    "    ]), \n",
    "    'log' : Pipeline([\n",
    "        ('tfidf',TfidfVectorizer() ),\n",
    "        ('clf', LogisticRegression())\n",
    "    ]),\n",
    "    'random': Pipeline([\n",
    "        ('tfidf',TfidfVectorizer())\n",
    "        ('clf', RandomForestClassifier())\n",
    "    ]),\n",
    "    'decision': Pipeline([\n",
    "        ('tfidf', TfidfVectorizer()),\n",
    "        ('classifier', DecisionTreeClassifier())\n",
    "    ])\n",
    "}\n",
    "\n",
    "# Define parameter grid for each algorithm\n"
   ]
  },
  {
   "cell_type": "code",
   "execution_count": 106,
   "id": "eca0646a-615c-45e5-aaef-600a50bd2095",
   "metadata": {},
   "outputs": [],
   "source": [
    "mlflow.sklearn.autolog(disable=True)\n",
    "from sklearn.tree import DecisionTreeClassifier"
   ]
  },
  {
   "cell_type": "code",
   "execution_count": 107,
   "id": "b88e41fb-1ebe-4540-984d-6b61bb7c3cba",
   "metadata": {},
   "outputs": [],
   "source": [
    "pipelines = {    'naive' : Pipeline([\n",
    "        ('tfidf', TfidfVectorizer()),\n",
    "        ('classifier', MultinomialNB())\n",
    "    ]), \n",
    "    'svc' : Pipeline([\n",
    "        ('tfidf', TfidfVectorizer()),\n",
    "        ('classifier', SVC())\n",
    "    ]),\n",
    "    'logistic': Pipeline([\n",
    "        ('tfidf', TfidfVectorizer()),\n",
    "        ('classifier', LogisticRegression())\n",
    "    ]),\n",
    "    'random': Pipeline([\n",
    "        ('tfidf', TfidfVectorizer()),\n",
    "        ('classifier', RandomForestClassifier())\n",
    "    ]),\n",
    "    'decision_tree': Pipeline([\n",
    "        ('tfidf', TfidfVectorizer()),\n",
    "        ('classifier', DecisionTreeClassifier())\n",
    "    ])\n",
    "}"
   ]
  },
  {
   "cell_type": "code",
   "execution_count": null,
   "id": "dbd3c0e5-966f-4223-a02e-28569fed6ca9",
   "metadata": {},
   "outputs": [],
   "source": [
    "\\"
   ]
  },
  {
   "cell_type": "code",
   "execution_count": null,
   "id": "1ca5e771-5126-4c21-b7e3-4eda46ced71a",
   "metadata": {},
   "outputs": [
    {
     "name": "stderr",
     "output_type": "stream",
     "text": [
      "2024/03/27 11:56:13 INFO mlflow.utils.autologging_utils: Created MLflow autologging run with ID '4eb7bd4e82514f799e8bdc53d03f9861', which will track hyperparameters, performance metrics, model artifacts, and lineage information for the current sklearn workflow\n",
      "2024/03/27 11:56:13 WARNING mlflow.sklearn: Unrecognized dataset type <class 'pandas.core.series.Series'>. Dataset logging skipped.\n"
     ]
    },
    {
     "name": "stdout",
     "output_type": "stream",
     "text": [
      "Fitting 3 folds for each of 42 candidates, totalling 126 fits\n"
     ]
    },
    {
     "name": "stderr",
     "output_type": "stream",
     "text": [
      "2024/03/27 11:58:21 WARNING mlflow.sklearn: Unrecognized dataset type <class 'pandas.core.series.Series'>. Dataset logging skipped.\n"
     ]
    },
    {
     "name": "stdout",
     "output_type": "stream",
     "text": [
      "Best parameters found:\n",
      "Classifier 1: {'clf': MultinomialNB(), 'clf__alpha': 0.1, 'tfidf__ngram_range': (1, 1)}\n",
      "Classifier 2: {'clf': MultinomialNB(), 'clf__alpha': 0.1, 'tfidf__ngram_range': (1, 2)}\n",
      "Classifier 3: {'clf': MultinomialNB(), 'clf__alpha': 1.0, 'tfidf__ngram_range': (1, 1)}\n",
      "Classifier 4: {'clf': MultinomialNB(), 'clf__alpha': 1.0, 'tfidf__ngram_range': (1, 2)}\n",
      "Classifier 5: {'clf': MultinomialNB(), 'clf__alpha': 10.0, 'tfidf__ngram_range': (1, 1)}\n",
      "Classifier 6: {'clf': MultinomialNB(), 'clf__alpha': 10.0, 'tfidf__ngram_range': (1, 2)}\n",
      "Classifier 7: {'clf': LogisticRegression(C=10.0, solver='liblinear'), 'clf__C': 0.1, 'clf__solver': 'liblinear', 'tfidf__ngram_range': (1, 1)}\n",
      "Classifier 8: {'clf': LogisticRegression(C=10.0, solver='liblinear'), 'clf__C': 0.1, 'clf__solver': 'liblinear', 'tfidf__ngram_range': (1, 2)}\n",
      "Classifier 9: {'clf': LogisticRegression(C=10.0, solver='liblinear'), 'clf__C': 0.1, 'clf__solver': 'lbfgs', 'tfidf__ngram_range': (1, 1)}\n",
      "Classifier 10: {'clf': LogisticRegression(C=10.0, solver='liblinear'), 'clf__C': 0.1, 'clf__solver': 'lbfgs', 'tfidf__ngram_range': (1, 2)}\n",
      "Classifier 11: {'clf': LogisticRegression(C=10.0, solver='liblinear'), 'clf__C': 1.0, 'clf__solver': 'liblinear', 'tfidf__ngram_range': (1, 1)}\n",
      "Classifier 12: {'clf': LogisticRegression(C=10.0, solver='liblinear'), 'clf__C': 1.0, 'clf__solver': 'liblinear', 'tfidf__ngram_range': (1, 2)}\n",
      "Classifier 13: {'clf': LogisticRegression(C=10.0, solver='liblinear'), 'clf__C': 1.0, 'clf__solver': 'lbfgs', 'tfidf__ngram_range': (1, 1)}\n",
      "Classifier 14: {'clf': LogisticRegression(C=10.0, solver='liblinear'), 'clf__C': 1.0, 'clf__solver': 'lbfgs', 'tfidf__ngram_range': (1, 2)}\n",
      "Classifier 15: {'clf': LogisticRegression(C=10.0, solver='liblinear'), 'clf__C': 10.0, 'clf__solver': 'liblinear', 'tfidf__ngram_range': (1, 1)}\n",
      "Classifier 16: {'clf': LogisticRegression(C=10.0, solver='liblinear'), 'clf__C': 10.0, 'clf__solver': 'liblinear', 'tfidf__ngram_range': (1, 2)}\n",
      "Classifier 17: {'clf': LogisticRegression(C=10.0, solver='liblinear'), 'clf__C': 10.0, 'clf__solver': 'lbfgs', 'tfidf__ngram_range': (1, 1)}\n",
      "Classifier 18: {'clf': LogisticRegression(C=10.0, solver='liblinear'), 'clf__C': 10.0, 'clf__solver': 'lbfgs', 'tfidf__ngram_range': (1, 2)}\n",
      "Classifier 19: {'clf': RandomForestClassifier(), 'clf__max_depth': None, 'clf__n_estimators': 50, 'tfidf__ngram_range': (1, 1)}\n",
      "Classifier 20: {'clf': RandomForestClassifier(), 'clf__max_depth': None, 'clf__n_estimators': 50, 'tfidf__ngram_range': (1, 2)}\n",
      "Classifier 21: {'clf': RandomForestClassifier(), 'clf__max_depth': None, 'clf__n_estimators': 100, 'tfidf__ngram_range': (1, 1)}\n",
      "Classifier 22: {'clf': RandomForestClassifier(), 'clf__max_depth': None, 'clf__n_estimators': 100, 'tfidf__ngram_range': (1, 2)}\n",
      "Classifier 23: {'clf': RandomForestClassifier(), 'clf__max_depth': None, 'clf__n_estimators': 200, 'tfidf__ngram_range': (1, 1)}\n",
      "Classifier 24: {'clf': RandomForestClassifier(), 'clf__max_depth': None, 'clf__n_estimators': 200, 'tfidf__ngram_range': (1, 2)}\n",
      "Classifier 25: {'clf': RandomForestClassifier(), 'clf__max_depth': 10, 'clf__n_estimators': 50, 'tfidf__ngram_range': (1, 1)}\n",
      "Classifier 26: {'clf': RandomForestClassifier(), 'clf__max_depth': 10, 'clf__n_estimators': 50, 'tfidf__ngram_range': (1, 2)}\n",
      "Classifier 27: {'clf': RandomForestClassifier(), 'clf__max_depth': 10, 'clf__n_estimators': 100, 'tfidf__ngram_range': (1, 1)}\n",
      "Classifier 28: {'clf': RandomForestClassifier(), 'clf__max_depth': 10, 'clf__n_estimators': 100, 'tfidf__ngram_range': (1, 2)}\n",
      "Classifier 29: {'clf': RandomForestClassifier(), 'clf__max_depth': 10, 'clf__n_estimators': 200, 'tfidf__ngram_range': (1, 1)}\n",
      "Classifier 30: {'clf': RandomForestClassifier(), 'clf__max_depth': 10, 'clf__n_estimators': 200, 'tfidf__ngram_range': (1, 2)}\n",
      "Classifier 31: {'clf': RandomForestClassifier(), 'clf__max_depth': 20, 'clf__n_estimators': 50, 'tfidf__ngram_range': (1, 1)}\n",
      "Classifier 32: {'clf': RandomForestClassifier(), 'clf__max_depth': 20, 'clf__n_estimators': 50, 'tfidf__ngram_range': (1, 2)}\n",
      "Classifier 33: {'clf': RandomForestClassifier(), 'clf__max_depth': 20, 'clf__n_estimators': 100, 'tfidf__ngram_range': (1, 1)}\n",
      "Classifier 34: {'clf': RandomForestClassifier(), 'clf__max_depth': 20, 'clf__n_estimators': 100, 'tfidf__ngram_range': (1, 2)}\n",
      "Classifier 35: {'clf': RandomForestClassifier(), 'clf__max_depth': 20, 'clf__n_estimators': 200, 'tfidf__ngram_range': (1, 1)}\n",
      "Classifier 36: {'clf': RandomForestClassifier(), 'clf__max_depth': 20, 'clf__n_estimators': 200, 'tfidf__ngram_range': (1, 2)}\n",
      "Classifier 37: {'clf': DecisionTreeClassifier(), 'clf__max_depth': None, 'tfidf__ngram_range': (1, 1)}\n",
      "Classifier 38: {'clf': DecisionTreeClassifier(), 'clf__max_depth': None, 'tfidf__ngram_range': (1, 2)}\n",
      "Classifier 39: {'clf': DecisionTreeClassifier(), 'clf__max_depth': 10, 'tfidf__ngram_range': (1, 1)}\n",
      "Classifier 40: {'clf': DecisionTreeClassifier(), 'clf__max_depth': 10, 'tfidf__ngram_range': (1, 2)}\n",
      "Classifier 41: {'clf': DecisionTreeClassifier(), 'clf__max_depth': 20, 'tfidf__ngram_range': (1, 1)}\n",
      "Classifier 42: {'clf': DecisionTreeClassifier(), 'clf__max_depth': 20, 'tfidf__ngram_range': (1, 2)}\n",
      "\n",
      "Classification Report:\n",
      "              precision    recall  f1-score   support\n",
      "\n",
      "           0       0.82      0.57      0.67       456\n",
      "           1       0.91      0.97      0.94      1948\n",
      "\n",
      "    accuracy                           0.89      2404\n",
      "   macro avg       0.86      0.77      0.80      2404\n",
      "weighted avg       0.89      0.89      0.89      2404\n",
      "\n"
     ]
    }
   ],
   "source": [
    "from sklearn.pipeline import Pipeline\n",
    "from sklearn.feature_extraction.text import TfidfVectorizer\n",
    "from sklearn.naive_bayes import MultinomialNB\n",
    "from sklearn.linear_model import LogisticRegression\n",
    "from sklearn.ensemble import RandomForestClassifier\n",
    "from sklearn.tree import DecisionTreeClassifier\n",
    "from sklearn.model_selection import GridSearchCV\n",
    "from sklearn.datasets import fetch_20newsgroups\n",
    "from sklearn.model_selection import train_test_split\n",
    "from sklearn.metrics import classification_report\n",
    "\n",
    "# Load example dataset\n",
    "\n",
    "# Split data into training and testing sets\n",
    "X_train, X_test, y_train, y_test = train_test_split(df['review'], val, test_size=0.3, random_state=42)\n",
    "\n",
    "# Define pipeline with TfidfVectorizer and classifiers\n",
    "pipeline = Pipeline([\n",
    "    ('tfidf', TfidfVectorizer()),\n",
    "    ('clf', MultinomialNB())  # Default classifier (to be replaced during grid search)\n",
    "])\n",
    "\n",
    "# Define parameter grid for grid search for each classifier\n",
    "parameters = [\n",
    "    {\n",
    "        'clf': [MultinomialNB()],\n",
    "        'tfidf__ngram_range': [(1, 1), (1, 2)],\n",
    "        'clf__alpha': [0.1, 1.0, 10.0]\n",
    "    },\n",
    "    {\n",
    "        'clf': [LogisticRegression()],\n",
    "        'tfidf__ngram_range': [(1, 1), (1, 2)],\n",
    "        'clf__C': [0.1, 1.0, 10.0],\n",
    "        'clf__solver': ['liblinear', 'lbfgs']\n",
    "    },\n",
    "    {\n",
    "        'clf': [RandomForestClassifier()],\n",
    "        'tfidf__ngram_range': [(1, 1), (1, 2)],\n",
    "        'clf__n_estimators': [50, 100, 200],\n",
    "        'clf__max_depth': [None, 10, 20]\n",
    "    },\n",
    "    {\n",
    "        'clf': [DecisionTreeClassifier()],\n",
    "        'tfidf__ngram_range': [(1, 1), (1, 2)],\n",
    "        'clf__max_depth': [None, 10, 20]\n",
    "    }\n",
    "]\n",
    "\n",
    "# Perform grid search to find the best parameters for each classifier\n",
    "grid_search = GridSearchCV(pipeline, parameters, cv=3, n_jobs=-1, verbose=1)\n",
    "grid_search.fit(X_train, y_train)\n",
    "\n",
    "# Print best parameters found for each classifier\n",
    "print(\"Best parameters found:\")\n",
    "for i, params in enumerate(grid_search.cv_results_['params']):\n",
    "    print(f\"Classifier {i+1}: {params}\")\n",
    "print()\n",
    "\n",
    "# Predict on test data using the best model\n",
    "y_pred = grid_search.predict(X_test)\n",
    "\n",
    "# Evaluate the model\n",
    "print(\"Classification Report:\")\n",
    "print(classification_report(y_test, y_predb))\n"
   ]
  },
  {
   "cell_type": "code",
   "execution_count": 108,
   "id": "c537a075-fb6b-476e-a3bb-2581516835c9",
   "metadata": {},
   "outputs": [],
   "source": [
    "pipelines = {    \n",
    "    'naive' : Pipeline([\n",
    "        ('tfidf', TfidfVectorizer()),\n",
    "        ('clf', MultinomialNB())\n",
    "    ]), \n",
    "    'logistic': Pipeline([\n",
    "        ('tfidf', TfidfVectorizer()),\n",
    "        ('clf', LogisticRegression())\n",
    "    ]),\n",
    "    'random': Pipeline([\n",
    "        ('tfidf', TfidfVectorizer()),\n",
    "        ('clf', RandomForestClassifier())\n",
    "    ]),\n",
    "    'decision_tree': Pipeline([\n",
    "        ('tfidf', TfidfVectorizer()),\n",
    "        ('clf', DecisionTreeClassifier())\n",
    "    ])\n",
    "}\n",
    "\n",
    "param_grids={\n",
    "    'naive':[\n",
    "    {\n",
    "        'clf': [MultinomialNB()],\n",
    "        'tfidf__ngram_range': [(1, 1), (1, 2)],\n",
    "        'clf__alpha': [0.1, 1.0, 10.0]\n",
    "    }],\n",
    "    'logistic':[\n",
    "    {\n",
    "        'clf': [LogisticRegression()],\n",
    "        'tfidf__ngram_range': [(1, 1), (1, 2)],\n",
    "        'clf__C': [0.1, 1.0, 10.0],\n",
    "        'clf__solver': ['liblinear', 'lbfgs']\n",
    "    }],\n",
    "    'random':[\n",
    "    {\n",
    "        'clf': [RandomForestClassifier()],\n",
    "        'tfidf__ngram_range': [(1, 1), (1, 2)],\n",
    "        'clf__n_estimators': [50, 100, 200],\n",
    "        'clf__max_depth': [None, 10, 20]\n",
    "    }],\n",
    "    'decision_tree':[\n",
    "    {\n",
    "        'clf': [DecisionTreeClassifier()],\n",
    "        'tfidf__ngram_range': [(1, 1), (1, 2)],\n",
    "        'clf__max_depth': [None, 10, 20]\n",
    "    }]\n",
    "}\n",
    "\n",
    "# Define parameter grid for each algorithm\n"
   ]
  },
  {
   "cell_type": "code",
   "execution_count": 115,
   "id": "c5d7be27-2afe-4e84-8f39-ea211a6ae040",
   "metadata": {},
   "outputs": [],
   "source": [
    "import time\n",
    "import os\n",
    "dev=\"sivasankar\""
   ]
  },
  {
   "cell_type": "code",
   "execution_count": 117,
   "id": "d831582d-339d-48c1-af71-e968f9c1f9ee",
   "metadata": {},
   "outputs": [
    {
     "name": "stdout",
     "output_type": "stream",
     "text": [
      "********** naive **********\n",
      "Fitting 5 folds for each of 6 candidates, totalling 30 fits\n",
      "Train Score:  0.87805419467276\n",
      "Test Score:  0.8743760399334443\n",
      "Fit Time:  6.94781756401062\n",
      "Predict Time:  0.04374265670776367\n",
      "Model Size:  721838\n",
      "\n",
      "********** logistic **********\n",
      "Fitting 5 folds for each of 12 candidates, totalling 60 fits\n"
     ]
    },
    {
     "name": "stderr",
     "output_type": "stream",
     "text": [
      "c:\\Users\\sspon\\anaconda3\\New folder\\Lib\\site-packages\\sklearn\\linear_model\\_logistic.py:458: ConvergenceWarning: lbfgs failed to converge (status=1):\n",
      "STOP: TOTAL NO. of ITERATIONS REACHED LIMIT.\n",
      "\n",
      "Increase the number of iterations (max_iter) or scale the data as shown in:\n",
      "    https://scikit-learn.org/stable/modules/preprocessing.html\n",
      "Please also refer to the documentation for alternative solver options:\n",
      "    https://scikit-learn.org/stable/modules/linear_model.html#logistic-regression\n",
      "  n_iter_i = _check_optimize_result(\n",
      "c:\\Users\\sspon\\anaconda3\\New folder\\Lib\\site-packages\\sklearn\\linear_model\\_logistic.py:458: ConvergenceWarning: lbfgs failed to converge (status=1):\n",
      "STOP: TOTAL NO. of ITERATIONS REACHED LIMIT.\n",
      "\n",
      "Increase the number of iterations (max_iter) or scale the data as shown in:\n",
      "    https://scikit-learn.org/stable/modules/preprocessing.html\n",
      "Please also refer to the documentation for alternative solver options:\n",
      "    https://scikit-learn.org/stable/modules/linear_model.html#logistic-regression\n",
      "  n_iter_i = _check_optimize_result(\n",
      "c:\\Users\\sspon\\anaconda3\\New folder\\Lib\\site-packages\\sklearn\\linear_model\\_logistic.py:458: ConvergenceWarning: lbfgs failed to converge (status=1):\n",
      "STOP: TOTAL NO. of ITERATIONS REACHED LIMIT.\n",
      "\n",
      "Increase the number of iterations (max_iter) or scale the data as shown in:\n",
      "    https://scikit-learn.org/stable/modules/preprocessing.html\n",
      "Please also refer to the documentation for alternative solver options:\n",
      "    https://scikit-learn.org/stable/modules/linear_model.html#logistic-regression\n",
      "  n_iter_i = _check_optimize_result(\n",
      "c:\\Users\\sspon\\anaconda3\\New folder\\Lib\\site-packages\\sklearn\\linear_model\\_logistic.py:458: ConvergenceWarning: lbfgs failed to converge (status=1):\n",
      "STOP: TOTAL NO. of ITERATIONS REACHED LIMIT.\n",
      "\n",
      "Increase the number of iterations (max_iter) or scale the data as shown in:\n",
      "    https://scikit-learn.org/stable/modules/preprocessing.html\n",
      "Please also refer to the documentation for alternative solver options:\n",
      "    https://scikit-learn.org/stable/modules/linear_model.html#logistic-regression\n",
      "  n_iter_i = _check_optimize_result(\n",
      "c:\\Users\\sspon\\anaconda3\\New folder\\Lib\\site-packages\\sklearn\\linear_model\\_logistic.py:458: ConvergenceWarning: lbfgs failed to converge (status=1):\n",
      "STOP: TOTAL NO. of ITERATIONS REACHED LIMIT.\n",
      "\n",
      "Increase the number of iterations (max_iter) or scale the data as shown in:\n",
      "    https://scikit-learn.org/stable/modules/preprocessing.html\n",
      "Please also refer to the documentation for alternative solver options:\n",
      "    https://scikit-learn.org/stable/modules/linear_model.html#logistic-regression\n",
      "  n_iter_i = _check_optimize_result(\n",
      "c:\\Users\\sspon\\anaconda3\\New folder\\Lib\\site-packages\\sklearn\\linear_model\\_logistic.py:458: ConvergenceWarning: lbfgs failed to converge (status=1):\n",
      "STOP: TOTAL NO. of ITERATIONS REACHED LIMIT.\n",
      "\n",
      "Increase the number of iterations (max_iter) or scale the data as shown in:\n",
      "    https://scikit-learn.org/stable/modules/preprocessing.html\n",
      "Please also refer to the documentation for alternative solver options:\n",
      "    https://scikit-learn.org/stable/modules/linear_model.html#logistic-regression\n",
      "  n_iter_i = _check_optimize_result(\n",
      "c:\\Users\\sspon\\anaconda3\\New folder\\Lib\\site-packages\\sklearn\\linear_model\\_logistic.py:458: ConvergenceWarning: lbfgs failed to converge (status=1):\n",
      "STOP: TOTAL NO. of ITERATIONS REACHED LIMIT.\n",
      "\n",
      "Increase the number of iterations (max_iter) or scale the data as shown in:\n",
      "    https://scikit-learn.org/stable/modules/preprocessing.html\n",
      "Please also refer to the documentation for alternative solver options:\n",
      "    https://scikit-learn.org/stable/modules/linear_model.html#logistic-regression\n",
      "  n_iter_i = _check_optimize_result(\n",
      "c:\\Users\\sspon\\anaconda3\\New folder\\Lib\\site-packages\\sklearn\\linear_model\\_logistic.py:458: ConvergenceWarning: lbfgs failed to converge (status=1):\n",
      "STOP: TOTAL NO. of ITERATIONS REACHED LIMIT.\n",
      "\n",
      "Increase the number of iterations (max_iter) or scale the data as shown in:\n",
      "    https://scikit-learn.org/stable/modules/preprocessing.html\n",
      "Please also refer to the documentation for alternative solver options:\n",
      "    https://scikit-learn.org/stable/modules/linear_model.html#logistic-regression\n",
      "  n_iter_i = _check_optimize_result(\n",
      "c:\\Users\\sspon\\anaconda3\\New folder\\Lib\\site-packages\\sklearn\\linear_model\\_logistic.py:458: ConvergenceWarning: lbfgs failed to converge (status=1):\n",
      "STOP: TOTAL NO. of ITERATIONS REACHED LIMIT.\n",
      "\n",
      "Increase the number of iterations (max_iter) or scale the data as shown in:\n",
      "    https://scikit-learn.org/stable/modules/preprocessing.html\n",
      "Please also refer to the documentation for alternative solver options:\n",
      "    https://scikit-learn.org/stable/modules/linear_model.html#logistic-regression\n",
      "  n_iter_i = _check_optimize_result(\n",
      "c:\\Users\\sspon\\anaconda3\\New folder\\Lib\\site-packages\\sklearn\\linear_model\\_logistic.py:458: ConvergenceWarning: lbfgs failed to converge (status=1):\n",
      "STOP: TOTAL NO. of ITERATIONS REACHED LIMIT.\n",
      "\n",
      "Increase the number of iterations (max_iter) or scale the data as shown in:\n",
      "    https://scikit-learn.org/stable/modules/preprocessing.html\n",
      "Please also refer to the documentation for alternative solver options:\n",
      "    https://scikit-learn.org/stable/modules/linear_model.html#logistic-regression\n",
      "  n_iter_i = _check_optimize_result(\n"
     ]
    },
    {
     "name": "stdout",
     "output_type": "stream",
     "text": [
      "Train Score:  0.8839371836643182\n",
      "Test Score:  0.8801996672212978\n",
      "Fit Time:  16.939411878585815\n",
      "Predict Time:  0.083740234375\n",
      "Model Size:  458237\n",
      "\n",
      "********** random **********\n",
      "Fitting 5 folds for each of 18 candidates, totalling 90 fits\n",
      "Train Score:  0.8805497383447742\n",
      "Test Score:  0.8739600665557404\n",
      "Fit Time:  694.6509420871735\n",
      "Predict Time:  0.18199610710144043\n",
      "Model Size:  12445058\n",
      "\n",
      "********** decision_tree **********\n",
      "Fitting 5 folds for each of 6 candidates, totalling 30 fits\n",
      "Train Score:  0.8655729780355903\n",
      "Test Score:  0.8631447587354409\n",
      "Fit Time:  21.095033168792725\n",
      "Predict Time:  0.04700112342834473\n",
      "Model Size:  386672\n",
      "\n"
     ]
    }
   ],
   "source": [
    "for algo in pipelines.keys():\n",
    "    print(\"*\"*10, algo, \"*\"*10)\n",
    "    grid_search = GridSearchCV(estimator=pipelines[algo], \n",
    "                               param_grid=param_grids[algo], \n",
    "                               cv=5, \n",
    "                               scoring='accuracy', \n",
    "                               return_train_score=True,\n",
    "                               verbose=1\n",
    "                              )\n",
    "\n",
    "    # Fit\n",
    "    start_fit_time = time.time()\n",
    "    grid_search.fit(X_train, y_train)\n",
    "    end_fit_time = time.time()\n",
    "\n",
    "    # Predict\n",
    "    start_predict_time = time.time()\n",
    "    y_pred = grid_search.predict(x_test)\n",
    "    end_predict_time = time.time()\n",
    "\n",
    "    # Saving the best model\n",
    "    joblib.dump(grid_search.best_estimator_, f'best_models/{algo}.pkl')\n",
    "    model_size = os.path.getsize(f'best_models/{algo}.pkl')\n",
    "\n",
    "    # Pring Log\n",
    "    print('Train Score: ', grid_search.best_score_)\n",
    "    print('Test Score: ', grid_search.score(x_test, y_test))\n",
    "    print(\"Fit Time: \", end_fit_time - start_fit_time)\n",
    "    print(\"Predict Time: \", end_predict_time - start_predict_time)\n",
    "    print(\"Model Size: \", model_size)\n",
    "    \n",
    "    print()\n",
    "    # Start the experiment run\n",
    "    with mlflow.start_run() as run:\n",
    "        # Log tags with mlflow.set_tag()\n",
    "        mlflow.set_tag(\"developer\", dev)\n",
    "\n",
    "    #     # Log Parameters with mlflow.log_param()\n",
    "        mlflow.log_param(\"algorithm\", algo)\n",
    "        mlflow.log_param(\"hyperparameter_grid\", param_grids[algo])\n",
    "        mlflow.log_param(\"best_hyperparameter\", grid_search.best_params_)\n",
    "\n",
    "        # Log Metrics with mlflow.log_metric()\n",
    "        mlflow.log_metric(\"train_score\", grid_search.best_score_)\n",
    "        mlflow.log_metric(\"test_score\", grid_search.score(x_test, y_test))\n",
    "        mlflow.log_metric(\"fit_time\", end_fit_time - start_fit_time)\n",
    "        mlflow.log_metric(\"predict_time\", end_predict_time - start_predict_time)\n",
    "        mlflow.log_metric(\"model_size\", model_size)\n",
    "\n",
    "        # Log Model using mlflow.sklearn.log_model()\n",
    "        mlflow.sklearn.log_model(grid_search.best_estimator_, f\"{algo}_model\")"
   ]
  },
  {
   "cell_type": "code",
   "execution_count": null,
   "id": "9de85cfc-ca24-42cf-a0b8-31f1d6a36a17",
   "metadata": {},
   "outputs": [
    {
     "data": {
      "text/html": [
       "<style>#sk-container-id-4 {color: black;background-color: white;}#sk-container-id-4 pre{padding: 0;}#sk-container-id-4 div.sk-toggleable {background-color: white;}#sk-container-id-4 label.sk-toggleable__label {cursor: pointer;display: block;width: 100%;margin-bottom: 0;padding: 0.3em;box-sizing: border-box;text-align: center;}#sk-container-id-4 label.sk-toggleable__label-arrow:before {content: \"▸\";float: left;margin-right: 0.25em;color: #696969;}#sk-container-id-4 label.sk-toggleable__label-arrow:hover:before {color: black;}#sk-container-id-4 div.sk-estimator:hover label.sk-toggleable__label-arrow:before {color: black;}#sk-container-id-4 div.sk-toggleable__content {max-height: 0;max-width: 0;overflow: hidden;text-align: left;background-color: #f0f8ff;}#sk-container-id-4 div.sk-toggleable__content pre {margin: 0.2em;color: black;border-radius: 0.25em;background-color: #f0f8ff;}#sk-container-id-4 input.sk-toggleable__control:checked~div.sk-toggleable__content {max-height: 200px;max-width: 100%;overflow: auto;}#sk-container-id-4 input.sk-toggleable__control:checked~label.sk-toggleable__label-arrow:before {content: \"▾\";}#sk-container-id-4 div.sk-estimator input.sk-toggleable__control:checked~label.sk-toggleable__label {background-color: #d4ebff;}#sk-container-id-4 div.sk-label input.sk-toggleable__control:checked~label.sk-toggleable__label {background-color: #d4ebff;}#sk-container-id-4 input.sk-hidden--visually {border: 0;clip: rect(1px 1px 1px 1px);clip: rect(1px, 1px, 1px, 1px);height: 1px;margin: -1px;overflow: hidden;padding: 0;position: absolute;width: 1px;}#sk-container-id-4 div.sk-estimator {font-family: monospace;background-color: #f0f8ff;border: 1px dotted black;border-radius: 0.25em;box-sizing: border-box;margin-bottom: 0.5em;}#sk-container-id-4 div.sk-estimator:hover {background-color: #d4ebff;}#sk-container-id-4 div.sk-parallel-item::after {content: \"\";width: 100%;border-bottom: 1px solid gray;flex-grow: 1;}#sk-container-id-4 div.sk-label:hover label.sk-toggleable__label {background-color: #d4ebff;}#sk-container-id-4 div.sk-serial::before {content: \"\";position: absolute;border-left: 1px solid gray;box-sizing: border-box;top: 0;bottom: 0;left: 50%;z-index: 0;}#sk-container-id-4 div.sk-serial {display: flex;flex-direction: column;align-items: center;background-color: white;padding-right: 0.2em;padding-left: 0.2em;position: relative;}#sk-container-id-4 div.sk-item {position: relative;z-index: 1;}#sk-container-id-4 div.sk-parallel {display: flex;align-items: stretch;justify-content: center;background-color: white;position: relative;}#sk-container-id-4 div.sk-item::before, #sk-container-id-4 div.sk-parallel-item::before {content: \"\";position: absolute;border-left: 1px solid gray;box-sizing: border-box;top: 0;bottom: 0;left: 50%;z-index: -1;}#sk-container-id-4 div.sk-parallel-item {display: flex;flex-direction: column;z-index: 1;position: relative;background-color: white;}#sk-container-id-4 div.sk-parallel-item:first-child::after {align-self: flex-end;width: 50%;}#sk-container-id-4 div.sk-parallel-item:last-child::after {align-self: flex-start;width: 50%;}#sk-container-id-4 div.sk-parallel-item:only-child::after {width: 0;}#sk-container-id-4 div.sk-dashed-wrapped {border: 1px dashed gray;margin: 0 0.4em 0.5em 0.4em;box-sizing: border-box;padding-bottom: 0.4em;background-color: white;}#sk-container-id-4 div.sk-label label {font-family: monospace;font-weight: bold;display: inline-block;line-height: 1.2em;}#sk-container-id-4 div.sk-label-container {text-align: center;}#sk-container-id-4 div.sk-container {/* jupyter's `normalize.less` sets `[hidden] { display: none; }` but bootstrap.min.css set `[hidden] { display: none !important; }` so we also need the `!important` here to be able to override the default hidden behavior on the sphinx rendered scikit-learn.org. See: https://github.com/scikit-learn/scikit-learn/issues/21755 */display: inline-block !important;position: relative;}#sk-container-id-4 div.sk-text-repr-fallback {display: none;}</style><div id=\"sk-container-id-4\" class=\"sk-top-container\"><div class=\"sk-text-repr-fallback\"><pre>Pipeline(steps=[(&#x27;tfidf&#x27;, TfidfVectorizer(ngram_range=(1, 2))),\n",
       "                (&#x27;clf&#x27;, LogisticRegression(C=10.0, solver=&#x27;liblinear&#x27;))])</pre><b>In a Jupyter environment, please rerun this cell to show the HTML representation or trust the notebook. <br />On GitHub, the HTML representation is unable to render, please try loading this page with nbviewer.org.</b></div><div class=\"sk-container\" hidden><div class=\"sk-item sk-dashed-wrapped\"><div class=\"sk-label-container\"><div class=\"sk-label sk-toggleable\"><input class=\"sk-toggleable__control sk-hidden--visually\" id=\"sk-estimator-id-13\" type=\"checkbox\" ><label for=\"sk-estimator-id-13\" class=\"sk-toggleable__label sk-toggleable__label-arrow\">Pipeline</label><div class=\"sk-toggleable__content\"><pre>Pipeline(steps=[(&#x27;tfidf&#x27;, TfidfVectorizer(ngram_range=(1, 2))),\n",
       "                (&#x27;clf&#x27;, LogisticRegression(C=10.0, solver=&#x27;liblinear&#x27;))])</pre></div></div></div><div class=\"sk-serial\"><div class=\"sk-item\"><div class=\"sk-estimator sk-toggleable\"><input class=\"sk-toggleable__control sk-hidden--visually\" id=\"sk-estimator-id-14\" type=\"checkbox\" ><label for=\"sk-estimator-id-14\" class=\"sk-toggleable__label sk-toggleable__label-arrow\">TfidfVectorizer</label><div class=\"sk-toggleable__content\"><pre>TfidfVectorizer(ngram_range=(1, 2))</pre></div></div></div><div class=\"sk-item\"><div class=\"sk-estimator sk-toggleable\"><input class=\"sk-toggleable__control sk-hidden--visually\" id=\"sk-estimator-id-15\" type=\"checkbox\" ><label for=\"sk-estimator-id-15\" class=\"sk-toggleable__label sk-toggleable__label-arrow\">LogisticRegression</label><div class=\"sk-toggleable__content\"><pre>LogisticRegression(C=10.0, solver=&#x27;liblinear&#x27;)</pre></div></div></div></div></div></div></div>"
      ],
      "text/plain": [
       "Pipeline(steps=[('tfidf', TfidfVectorizer(ngram_range=(1, 2))),\n",
       "                ('clf', LogisticRegression(C=10.0, solver='liblinear'))])"
      ]
     },
     "execution_count": 58,
     "metadata": {},
     "output_type": "execute_result"
    }
   ],
   "source": [
    "grid_search.best_estimator_"
   ]
  },
  {
   "cell_type": "code",
   "execution_count": null,
   "id": "f46dff04-3c87-4465-93cd-ca4d710c5b19",
   "metadata": {},
   "outputs": [
    {
     "data": {
      "text/plain": [
       "0.8785875943840252"
      ]
     },
     "execution_count": 60,
     "metadata": {},
     "output_type": "execute_result"
    }
   ],
   "source": [
    "grid_search.best_score_"
   ]
  },
  {
   "cell_type": "code",
   "execution_count": null,
   "id": "8fc40bd9-efb0-4fc6-b671-b520417175d5",
   "metadata": {},
   "outputs": [
    {
     "data": {
      "text/plain": [
       "{'clf': LogisticRegression(C=10.0, solver='liblinear'),\n",
       " 'clf__C': 10.0,\n",
       " 'clf__solver': 'liblinear',\n",
       " 'tfidf__ngram_range': (1, 2)}"
      ]
     },
     "execution_count": 59,
     "metadata": {},
     "output_type": "execute_result"
    }
   ],
   "source": [
    "grid_search.best_params_"
   ]
  },
  {
   "cell_type": "code",
   "execution_count": null,
   "id": "9bdc7895-24d8-446b-9e94-05b459767f44",
   "metadata": {},
   "outputs": [
    {
     "data": {
      "text/plain": [
       "['nav.sav']"
      ]
     },
     "execution_count": 133,
     "metadata": {},
     "output_type": "execute_result"
    }
   ],
   "source": [
    "joblib.dump(grid_search,'nav.sav')"
   ]
  },
  {
   "cell_type": "code",
   "execution_count": null,
   "id": "48ff60dc-2f65-43ff-8e0b-ef944915ed00",
   "metadata": {},
   "outputs": [],
   "source": [
    "new=joblib.load('nav.sav')"
   ]
  },
  {
   "cell_type": "code",
   "execution_count": null,
   "id": "4bce5505-da4d-4614-be9a-0d07d3999a55",
   "metadata": {},
   "outputs": [],
   "source": [
    "ans=[\"product is good\"]"
   ]
  },
  {
   "cell_type": "code",
   "execution_count": null,
   "id": "5896e389-72af-4c21-9ff2-ae5d68fdba4d",
   "metadata": {},
   "outputs": [
    {
     "data": {
      "text/plain": [
       "array([1])"
      ]
     },
     "execution_count": 137,
     "metadata": {},
     "output_type": "execute_result"
    }
   ],
   "source": [
    "new.predict(ans)"
   ]
  },
  {
   "cell_type": "code",
   "execution_count": null,
   "id": "973b7c2a-5463-402f-8fe0-79830716cdee",
   "metadata": {},
   "outputs": [
    {
     "name": "stdout",
     "output_type": "stream",
     "text": [
      "Requirement already satisfied: numpy in c:\\users\\sspon\\anaconda3\\new folder\\lib\\site-packages (1.26.4)\n"
     ]
    }
   ],
   "source": [
    "!pip install numpy"
   ]
  },
  {
   "cell_type": "code",
   "execution_count": null,
   "id": "8b3a65c6-444d-4f8e-900c-f4f09de034ef",
   "metadata": {},
   "outputs": [
    {
     "name": "stdout",
     "output_type": "stream",
     "text": [
      "{'copy_X': 'True',\n",
      " 'fit_intercept': 'True',\n",
      " 'n_jobs': 'None',\n",
      " 'positive': 'False'}\n",
      "{'training_mean_absolute_error': 0.0,\n",
      " 'training_mean_squared_error': 0.0,\n",
      " 'training_r2_score': 1.0,\n",
      " 'training_root_mean_squared_error': 0.0,\n",
      " 'training_score': 1.0}\n",
      "{'estimator_class': 'sklearn.linear_model._base.LinearRegression',\n",
      " 'estimator_name': 'LinearRegression'}\n",
      "['model/MLmodel',\n",
      " 'model/conda.yaml',\n",
      " 'model/metadata',\n",
      " 'model/model.pkl',\n",
      " 'model/python_env.yaml',\n",
      " 'model/requirements.txt']\n"
     ]
    }
   ],
   "source": [
    "from pprint import pprint\n",
    "import numpy as np\n",
    "from sklearn.linear_model import LinearRegression\n",
    "import mlflow\n",
    "from mlflow import MlflowClient\n",
    "\n",
    "\n",
    "def fetch_logged_data(run_id):\n",
    "    client = MlflowClient()\n",
    "    data = client.get_run(run_id).data\n",
    "    tags = {k: v for k, v in data.tags.items() if not k.startswith(\"mlflow.\")}\n",
    "    artifacts = [f.path for f in client.list_artifacts(run_id, \"model\")]\n",
    "    return data.params, data.metrics, tags, artifacts\n",
    "\n",
    "\n",
    "# enable autologging\n",
    "mlflow.sklearn.autolog()\n",
    "\n",
    "# prepare training data\n",
    "X = np.array([[1, 1], [1, 2], [2, 2], [2, 3]])\n",
    "y = np.dot(X, np.array([1, 2])) + 3\n",
    "\n",
    "# train a model\n",
    "model = LinearRegression()\n",
    "with mlflow.start_run() as run:\n",
    "    model.fit(X, y)\n",
    "\n",
    "# fetch logged data\n",
    "params, metrics, tags, artifacts = fetch_logged_data(run.info.run_id)\n",
    "\n",
    "pprint(params)\n",
    "# {'copy_X': 'True',\n",
    "#  'fit_intercept': 'True',\n",
    "#  'n_jobs': 'None',\n",
    "#  'normalize': 'False'}\n",
    "\n",
    "pprint(metrics)\n",
    "# {'training_score': 1.0,\n",
    "#  'training_mean_absolute_error': 2.220446049250313e-16,\n",
    "#  'training_mean_squared_error': 1.9721522630525295e-31,\n",
    "#  'training_r2_score': 1.0,\n",
    "#  'training_root_mean_squared_error': 4.440892098500626e-16}\n",
    "\n",
    "pprint(tags)\n",
    "# {'estimator_class': 'sklearn.linear_model._base.LinearRegression',\n",
    "#  'estimator_name': 'LinearRegression'}\n",
    "\n",
    "pprint(artifacts)\n",
    "# ['model/MLmodel', 'model/conda.yaml', 'model/model.pkl']\n"
   ]
  },
  {
   "cell_type": "code",
   "execution_count": null,
   "id": "638cf218-8104-4465-b1df-95fca1e6ff8f",
   "metadata": {},
   "outputs": [],
   "source": []
  },
  {
   "cell_type": "code",
   "execution_count": null,
   "id": "8b603064-df78-4e77-96e2-0444bf5c60e9",
   "metadata": {},
   "outputs": [
    {
     "ename": "SyntaxError",
     "evalue": "invalid syntax (3574192917.py, line 1)",
     "output_type": "error",
     "traceback": [
      "\u001b[1;36m  Cell \u001b[1;32mIn[80], line 1\u001b[1;36m\u001b[0m\n\u001b[1;33m    mlflow ui\u001b[0m\n\u001b[1;37m           ^\u001b[0m\n\u001b[1;31mSyntaxError\u001b[0m\u001b[1;31m:\u001b[0m invalid syntax\n"
     ]
    }
   ],
   "source": []
  }
 ],
 "metadata": {
  "kernelspec": {
   "display_name": "Python 3 (ipykernel)",
   "language": "python",
   "name": "python3"
  },
  "language_info": {
   "codemirror_mode": {
    "name": "ipython",
    "version": 3
   },
   "file_extension": ".py",
   "mimetype": "text/x-python",
   "name": "python",
   "nbconvert_exporter": "python",
   "pygments_lexer": "ipython3",
   "version": "3.11.7"
  }
 },
 "nbformat": 4,
 "nbformat_minor": 5
}
