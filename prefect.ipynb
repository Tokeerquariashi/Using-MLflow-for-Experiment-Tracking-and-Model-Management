{
 "cells": [
  {
   "cell_type": "code",
   "execution_count": 2,
   "metadata": {},
   "outputs": [],
   "source": [
    "import pandas as pd\n",
    "from sklearn.model_selection import train_test_split\n",
    "from sklearn.naive_bayes import MultinomialNB\n",
    "from sklearn.linear_model import LogisticRegression\n",
    "from sklearn.ensemble import RandomForestClassifier\n",
    "from sklearn.tree import DecisionTreeClassifier"
   ]
  },
  {
   "cell_type": "code",
   "execution_count": 3,
   "metadata": {},
   "outputs": [],
   "source": [
    "def load_data(file_path):\n",
    "    \"\"\"\n",
    "    Load data from a CSV file.\n",
    "    \"\"\"\n",
    "    return pd.read_csv(file_path)"
   ]
  },
  {
   "cell_type": "code",
   "execution_count": null,
   "metadata": {},
   "outputs": [],
   "source": [
    "def split_inputs_output(data, inputs, output):\n",
    "    \"\"\"\n",
    "    Split features and target variables.\n",
    "    \"\"\"\n",
    "    X = data[inputs]\n",
    "    y = data[output]\n",
    "    return X, y"
   ]
  },
  {
   "cell_type": "code",
   "execution_count": 2,
   "metadata": {},
   "outputs": [
    {
     "name": "stdout",
     "output_type": "stream",
     "text": [
      "Collecting prefect\n",
      "  Using cached prefect-2.16.6-py3-none-any.whl.metadata (10 kB)\n",
      "Collecting aiosqlite>=0.17.0 (from prefect)\n",
      "  Using cached aiosqlite-0.20.0-py3-none-any.whl.metadata (4.3 kB)\n",
      "Requirement already satisfied: alembic<2.0.0,>=1.7.5 in c:\\users\\sspon\\anaconda3\\new folder\\lib\\site-packages (from prefect) (1.13.1)\n",
      "Collecting apprise<2.0.0,>=1.1.0 (from prefect)\n",
      "  Using cached apprise-1.7.4-py3-none-any.whl.metadata (44 kB)\n",
      "Collecting asyncpg>=0.23 (from prefect)\n",
      "  Downloading asyncpg-0.29.0-cp311-cp311-win_amd64.whl.metadata (4.5 kB)\n",
      "Requirement already satisfied: click<8.2,>=8.0 in c:\\users\\sspon\\anaconda3\\new folder\\lib\\site-packages (from prefect) (8.1.7)\n",
      "Requirement already satisfied: cryptography>=36.0.1 in c:\\users\\sspon\\anaconda3\\new folder\\lib\\site-packages (from prefect) (42.0.2)\n",
      "Collecting dateparser<2.0.0,>=1.1.1 (from prefect)\n",
      "  Using cached dateparser-1.2.0-py2.py3-none-any.whl.metadata (28 kB)\n",
      "Collecting docker<7.0,>=4.0 (from prefect)\n",
      "  Using cached docker-6.1.3-py3-none-any.whl.metadata (3.5 kB)\n",
      "Collecting graphviz>=0.20.1 (from prefect)\n",
      "  Using cached graphviz-0.20.3-py3-none-any.whl.metadata (12 kB)\n",
      "Collecting griffe>=0.20.0 (from prefect)\n",
      "  Using cached griffe-0.42.1-py3-none-any.whl.metadata (6.2 kB)\n",
      "Requirement already satisfied: jinja2<4.0.0,>=3.0.0 in c:\\users\\sspon\\anaconda3\\new folder\\lib\\site-packages (from prefect) (3.1.3)\n",
      "Collecting kubernetes<30.0.0,>=24.2.0 (from prefect)\n",
      "  Using cached kubernetes-29.0.0-py2.py3-none-any.whl.metadata (1.5 kB)\n",
      "Requirement already satisfied: pytz<2025,>=2021.1 in c:\\users\\sspon\\anaconda3\\new folder\\lib\\site-packages (from prefect) (2023.3.post1)\n",
      "Collecting readchar<5.0.0,>=4.0.0 (from prefect)\n",
      "  Using cached readchar-4.0.6-py3-none-any.whl.metadata (6.2 kB)\n",
      "Requirement already satisfied: sqlalchemy!=1.4.33,<3.0.0,>=1.4.22 in c:\\users\\sspon\\anaconda3\\new folder\\lib\\site-packages (from sqlalchemy[asyncio]!=1.4.33,<3.0.0,>=1.4.22->prefect) (2.0.25)\n",
      "Collecting typer>=0.4.2 (from prefect)\n",
      "  Using cached typer-0.11.0-py3-none-any.whl.metadata (13 kB)\n",
      "Collecting anyio<4.0.0,>=3.7.1 (from prefect)\n",
      "  Downloading anyio-3.7.1-py3-none-any.whl.metadata (4.7 kB)\n",
      "Collecting asgi-lifespan<3.0,>=1.0 (from prefect)\n",
      "  Using cached asgi_lifespan-2.1.0-py3-none-any.whl.metadata (10 kB)\n",
      "Collecting cachetools<6.0,>=5.3 (from prefect)\n",
      "  Using cached cachetools-5.3.3-py3-none-any.whl.metadata (5.3 kB)\n",
      "Requirement already satisfied: cloudpickle<4.0,>=2.0 in c:\\users\\sspon\\anaconda3\\new folder\\lib\\site-packages (from prefect) (2.2.1)\n",
      "Collecting coolname<3.0.0,>=1.0.4 (from prefect)\n",
      "  Using cached coolname-2.2.0-py2.py3-none-any.whl.metadata (6.2 kB)\n",
      "Collecting croniter<3.0.0,>=1.0.12 (from prefect)\n",
      "  Using cached croniter-2.0.3-py2.py3-none-any.whl.metadata (25 kB)\n",
      "Requirement already satisfied: fsspec>=2022.5.0 in c:\\users\\sspon\\anaconda3\\new folder\\lib\\site-packages (from prefect) (2023.10.0)\n",
      "Collecting httpcore<2.0.0,>=0.15.0 (from prefect)\n",
      "  Downloading httpcore-1.0.5-py3-none-any.whl.metadata (20 kB)\n",
      "Collecting httpx!=0.23.2,>=0.23 (from httpx[http2]!=0.23.2,>=0.23->prefect)\n",
      "  Downloading httpx-0.27.0-py3-none-any.whl.metadata (7.2 kB)\n",
      "Collecting importlib-resources<6.2.0,>=6.1.3 (from prefect)\n",
      "  Using cached importlib_resources-6.1.3-py3-none-any.whl.metadata (3.9 kB)\n",
      "Requirement already satisfied: jsonpatch<2.0,>=1.32 in c:\\users\\sspon\\anaconda3\\new folder\\lib\\site-packages (from prefect) (1.32)\n",
      "Requirement already satisfied: jsonschema<5.0.0,>=3.2.0 in c:\\users\\sspon\\anaconda3\\new folder\\lib\\site-packages (from prefect) (4.19.2)\n",
      "Collecting orjson<4.0,>=3.7 (from prefect)\n",
      "  Downloading orjson-3.10.0-cp311-none-win_amd64.whl.metadata (50 kB)\n",
      "     ---------------------------------------- 0.0/50.7 kB ? eta -:--:--\n",
      "     ---------------------------------------- 0.0/50.7 kB ? eta -:--:--\n",
      "     -------- ------------------------------- 10.2/50.7 kB ? eta -:--:--\n",
      "     ----------------------- -------------- 30.7/50.7 kB 325.1 kB/s eta 0:00:01\n",
      "     ------------------------------ ------- 41.0/50.7 kB 279.3 kB/s eta 0:00:01\n",
      "     -------------------------------------- 50.7/50.7 kB 323.9 kB/s eta 0:00:00\n",
      "Requirement already satisfied: packaging<24.3,>=21.3 in c:\\users\\sspon\\anaconda3\\new folder\\lib\\site-packages (from prefect) (23.1)\n",
      "Requirement already satisfied: pathspec>=0.8.0 in c:\\users\\sspon\\anaconda3\\new folder\\lib\\site-packages (from prefect) (0.10.3)\n",
      "Requirement already satisfied: pydantic!=2.0.0,!=2.0.1,!=2.1.0,<3.0.0,>=1.10.0 in c:\\users\\sspon\\anaconda3\\new folder\\lib\\site-packages (from pydantic[email]!=2.0.0,!=2.0.1,!=2.1.0,<3.0.0,>=1.10.0->prefect) (1.10.12)\n",
      "Requirement already satisfied: python-dateutil<3.0.0,>=2.8.2 in c:\\users\\sspon\\anaconda3\\new folder\\lib\\site-packages (from prefect) (2.8.2)\n",
      "Requirement already satisfied: python-slugify<9.0,>=5.0 in c:\\users\\sspon\\anaconda3\\new folder\\lib\\site-packages (from prefect) (5.0.2)\n",
      "Requirement already satisfied: pyyaml<7.0.0,>=5.4.1 in c:\\users\\sspon\\anaconda3\\new folder\\lib\\site-packages (from prefect) (6.0.1)\n",
      "Requirement already satisfied: rfc3339-validator<0.2.0,>=0.1.4 in c:\\users\\sspon\\anaconda3\\new folder\\lib\\site-packages (from prefect) (0.1.4)\n",
      "Requirement already satisfied: rich<14.0,>=11.0 in c:\\users\\sspon\\anaconda3\\new folder\\lib\\site-packages (from prefect) (13.3.5)\n",
      "Requirement already satisfied: ruamel.yaml>=0.17.0 in c:\\users\\sspon\\anaconda3\\new folder\\lib\\site-packages (from prefect) (0.17.21)\n",
      "Requirement already satisfied: sniffio<2.0.0,>=1.3.0 in c:\\users\\sspon\\anaconda3\\new folder\\lib\\site-packages (from prefect) (1.3.0)\n",
      "Requirement already satisfied: toml>=0.10.0 in c:\\users\\sspon\\anaconda3\\new folder\\lib\\site-packages (from prefect) (0.10.2)\n",
      "Requirement already satisfied: typing-extensions<5.0.0,>=4.5.0 in c:\\users\\sspon\\anaconda3\\new folder\\lib\\site-packages (from prefect) (4.9.0)\n",
      "Collecting ujson<6.0.0,>=5.8.0 (from prefect)\n",
      "  Downloading ujson-5.9.0-cp311-cp311-win_amd64.whl.metadata (8.9 kB)\n",
      "Collecting uvicorn>=0.14.0 (from prefect)\n",
      "  Downloading uvicorn-0.29.0-py3-none-any.whl.metadata (6.3 kB)\n",
      "Collecting websockets<13.0,>=10.4 (from prefect)\n",
      "  Downloading websockets-12.0-cp311-cp311-win_amd64.whl.metadata (6.8 kB)\n",
      "Requirement already satisfied: itsdangerous in c:\\users\\sspon\\anaconda3\\new folder\\lib\\site-packages (from prefect) (2.0.1)\n",
      "Collecting python-multipart>=0.0.7 (from prefect)\n",
      "  Using cached python_multipart-0.0.9-py3-none-any.whl.metadata (2.5 kB)\n",
      "Collecting pendulum<3.0 (from prefect)\n",
      "  Using cached pendulum-2.1.2.tar.gz (81 kB)\n",
      "  Installing build dependencies: started\n",
      "  Installing build dependencies: finished with status 'done'\n",
      "  Getting requirements to build wheel: started\n",
      "  Getting requirements to build wheel: finished with status 'done'\n",
      "  Preparing metadata (pyproject.toml): started\n",
      "  Preparing metadata (pyproject.toml): finished with status 'done'\n",
      "Requirement already satisfied: Mako in c:\\users\\sspon\\anaconda3\\new folder\\lib\\site-packages (from alembic<2.0.0,>=1.7.5->prefect) (1.3.2)\n",
      "Requirement already satisfied: idna>=2.8 in c:\\users\\sspon\\anaconda3\\new folder\\lib\\site-packages (from anyio<4.0.0,>=3.7.1->prefect) (3.4)\n",
      "Requirement already satisfied: certifi in c:\\users\\sspon\\anaconda3\\new folder\\lib\\site-packages (from apprise<2.0.0,>=1.1.0->prefect) (2024.2.2)\n",
      "Requirement already satisfied: requests in c:\\users\\sspon\\anaconda3\\new folder\\lib\\site-packages (from apprise<2.0.0,>=1.1.0->prefect) (2.31.0)\n",
      "Requirement already satisfied: requests-oauthlib in c:\\users\\sspon\\anaconda3\\new folder\\lib\\site-packages (from apprise<2.0.0,>=1.1.0->prefect) (2.0.0)\n",
      "Requirement already satisfied: markdown in c:\\users\\sspon\\anaconda3\\new folder\\lib\\site-packages (from apprise<2.0.0,>=1.1.0->prefect) (3.4.1)\n",
      "Collecting async-timeout>=4.0.3 (from asyncpg>=0.23->prefect)\n",
      "  Using cached async_timeout-4.0.3-py3-none-any.whl.metadata (4.2 kB)\n",
      "Requirement already satisfied: colorama in c:\\users\\sspon\\anaconda3\\new folder\\lib\\site-packages (from click<8.2,>=8.0->prefect) (0.4.6)\n",
      "Requirement already satisfied: cffi>=1.12 in c:\\users\\sspon\\anaconda3\\new folder\\lib\\site-packages (from cryptography>=36.0.1->prefect) (1.16.0)\n",
      "Requirement already satisfied: regex!=2019.02.19,!=2021.8.27 in c:\\users\\sspon\\anaconda3\\new folder\\lib\\site-packages (from dateparser<2.0.0,>=1.1.1->prefect) (2023.10.3)\n",
      "Requirement already satisfied: tzlocal in c:\\users\\sspon\\anaconda3\\new folder\\lib\\site-packages (from dateparser<2.0.0,>=1.1.1->prefect) (2.1)\n",
      "Requirement already satisfied: urllib3>=1.26.0 in c:\\users\\sspon\\anaconda3\\new folder\\lib\\site-packages (from docker<7.0,>=4.0->prefect) (2.0.7)\n",
      "Requirement already satisfied: websocket-client>=0.32.0 in c:\\users\\sspon\\anaconda3\\new folder\\lib\\site-packages (from docker<7.0,>=4.0->prefect) (0.58.0)\n",
      "Requirement already satisfied: pywin32>=304 in c:\\users\\sspon\\anaconda3\\new folder\\lib\\site-packages (from docker<7.0,>=4.0->prefect) (305.1)\n",
      "Collecting h11<0.15,>=0.13 (from httpcore<2.0.0,>=0.15.0->prefect)\n",
      "  Downloading h11-0.14.0-py3-none-any.whl.metadata (8.2 kB)\n",
      "Collecting h2<5,>=3 (from httpx[http2]!=0.23.2,>=0.23->prefect)\n",
      "  Using cached h2-4.1.0-py3-none-any.whl.metadata (3.6 kB)\n",
      "Requirement already satisfied: MarkupSafe>=2.0 in c:\\users\\sspon\\anaconda3\\new folder\\lib\\site-packages (from jinja2<4.0.0,>=3.0.0->prefect) (2.1.3)\n",
      "Requirement already satisfied: jsonpointer>=1.9 in c:\\users\\sspon\\anaconda3\\new folder\\lib\\site-packages (from jsonpatch<2.0,>=1.32->prefect) (2.1)\n",
      "Requirement already satisfied: attrs>=22.2.0 in c:\\users\\sspon\\anaconda3\\new folder\\lib\\site-packages (from jsonschema<5.0.0,>=3.2.0->prefect) (23.1.0)\n",
      "Requirement already satisfied: jsonschema-specifications>=2023.03.6 in c:\\users\\sspon\\anaconda3\\new folder\\lib\\site-packages (from jsonschema<5.0.0,>=3.2.0->prefect) (2023.7.1)\n",
      "Requirement already satisfied: referencing>=0.28.4 in c:\\users\\sspon\\anaconda3\\new folder\\lib\\site-packages (from jsonschema<5.0.0,>=3.2.0->prefect) (0.30.2)\n",
      "Requirement already satisfied: rpds-py>=0.7.1 in c:\\users\\sspon\\anaconda3\\new folder\\lib\\site-packages (from jsonschema<5.0.0,>=3.2.0->prefect) (0.10.6)\n",
      "Requirement already satisfied: six>=1.9.0 in c:\\users\\sspon\\anaconda3\\new folder\\lib\\site-packages (from kubernetes<30.0.0,>=24.2.0->prefect) (1.16.0)\n",
      "Collecting google-auth>=1.0.1 (from kubernetes<30.0.0,>=24.2.0->prefect)\n",
      "  Downloading google_auth-2.29.0-py2.py3-none-any.whl.metadata (4.7 kB)\n",
      "Requirement already satisfied: oauthlib>=3.2.2 in c:\\users\\sspon\\anaconda3\\new folder\\lib\\site-packages (from kubernetes<30.0.0,>=24.2.0->prefect) (3.2.2)\n",
      "Collecting pytzdata>=2020.1 (from pendulum<3.0->prefect)\n",
      "  Using cached pytzdata-2020.1-py2.py3-none-any.whl.metadata (2.3 kB)\n",
      "Collecting email-validator>=1.0.3 (from pydantic[email]!=2.0.0,!=2.0.1,!=2.1.0,<3.0.0,>=1.10.0->prefect)\n",
      "  Downloading email_validator-2.1.1-py3-none-any.whl.metadata (26 kB)\n",
      "Requirement already satisfied: text-unidecode>=1.3 in c:\\users\\sspon\\anaconda3\\new folder\\lib\\site-packages (from python-slugify<9.0,>=5.0->prefect) (1.3)\n",
      "Requirement already satisfied: setuptools>=41.0 in c:\\users\\sspon\\anaconda3\\new folder\\lib\\site-packages (from readchar<5.0.0,>=4.0.0->prefect) (68.2.2)\n",
      "Requirement already satisfied: markdown-it-py<3.0.0,>=2.2.0 in c:\\users\\sspon\\anaconda3\\new folder\\lib\\site-packages (from rich<14.0,>=11.0->prefect) (2.2.0)\n",
      "Requirement already satisfied: pygments<3.0.0,>=2.13.0 in c:\\users\\sspon\\anaconda3\\new folder\\lib\\site-packages (from rich<14.0,>=11.0->prefect) (2.15.1)\n",
      "Requirement already satisfied: greenlet!=0.4.17 in c:\\users\\sspon\\anaconda3\\new folder\\lib\\site-packages (from sqlalchemy!=1.4.33,<3.0.0,>=1.4.22->sqlalchemy[asyncio]!=1.4.33,<3.0.0,>=1.4.22->prefect) (3.0.1)\n",
      "Requirement already satisfied: pycparser in c:\\users\\sspon\\anaconda3\\new folder\\lib\\site-packages (from cffi>=1.12->cryptography>=36.0.1->prefect) (2.21)\n",
      "Collecting dnspython>=2.0.0 (from email-validator>=1.0.3->pydantic[email]!=2.0.0,!=2.0.1,!=2.1.0,<3.0.0,>=1.10.0->prefect)\n",
      "  Downloading dnspython-2.6.1-py3-none-any.whl.metadata (5.8 kB)\n",
      "Requirement already satisfied: pyasn1-modules>=0.2.1 in c:\\users\\sspon\\anaconda3\\new folder\\lib\\site-packages (from google-auth>=1.0.1->kubernetes<30.0.0,>=24.2.0->prefect) (0.2.8)\n",
      "Collecting rsa<5,>=3.1.4 (from google-auth>=1.0.1->kubernetes<30.0.0,>=24.2.0->prefect)\n",
      "  Using cached rsa-4.9-py3-none-any.whl.metadata (4.2 kB)\n",
      "Collecting hyperframe<7,>=6.0 (from h2<5,>=3->httpx[http2]!=0.23.2,>=0.23->prefect)\n",
      "  Using cached hyperframe-6.0.1-py3-none-any.whl.metadata (2.7 kB)\n",
      "Collecting hpack<5,>=4.0 (from h2<5,>=3->httpx[http2]!=0.23.2,>=0.23->prefect)\n",
      "  Using cached hpack-4.0.0-py3-none-any.whl.metadata (2.5 kB)\n",
      "Requirement already satisfied: mdurl~=0.1 in c:\\users\\sspon\\anaconda3\\new folder\\lib\\site-packages (from markdown-it-py<3.0.0,>=2.2.0->rich<14.0,>=11.0->prefect) (0.1.0)\n",
      "Requirement already satisfied: charset-normalizer<4,>=2 in c:\\users\\sspon\\anaconda3\\new folder\\lib\\site-packages (from requests->apprise<2.0.0,>=1.1.0->prefect) (2.0.4)\n",
      "Requirement already satisfied: pyasn1<0.5.0,>=0.4.6 in c:\\users\\sspon\\anaconda3\\new folder\\lib\\site-packages (from pyasn1-modules>=0.2.1->google-auth>=1.0.1->kubernetes<30.0.0,>=24.2.0->prefect) (0.4.8)\n",
      "Using cached prefect-2.16.6-py3-none-any.whl (3.0 MB)\n",
      "Using cached aiosqlite-0.20.0-py3-none-any.whl (15 kB)\n",
      "Downloading anyio-3.7.1-py3-none-any.whl (80 kB)\n",
      "   ---------------------------------------- 0.0/80.9 kB ? eta -:--:--\n",
      "   ---------------------------------------- 0.0/80.9 kB ? eta -:--:--\n",
      "   ----- ---------------------------------- 10.2/80.9 kB ? eta -:--:--\n",
      "   ----- ---------------------------------- 10.2/80.9 kB ? eta -:--:--\n",
      "   ----- ---------------------------------- 10.2/80.9 kB ? eta -:--:--\n",
      "   --------------- ------------------------ 30.7/80.9 kB 217.9 kB/s eta 0:00:01\n",
      "   --------------- ------------------------ 30.7/80.9 kB 217.9 kB/s eta 0:00:01\n",
      "   -------------------- ------------------- 41.0/80.9 kB 163.4 kB/s eta 0:00:01\n",
      "   -------------------- ------------------- 41.0/80.9 kB 163.4 kB/s eta 0:00:01\n",
      "   ------------------------------ --------- 61.4/80.9 kB 192.5 kB/s eta 0:00:01\n",
      "   ----------------------------------- ---- 71.7/80.9 kB 178.6 kB/s eta 0:00:01\n",
      "   ---------------------------------------- 80.9/80.9 kB 196.3 kB/s eta 0:00:00\n",
      "Using cached apprise-1.7.4-py3-none-any.whl (1.2 MB)\n",
      "Using cached asgi_lifespan-2.1.0-py3-none-any.whl (10 kB)\n",
      "Downloading asyncpg-0.29.0-cp311-cp311-win_amd64.whl (543 kB)\n",
      "   ---------------------------------------- 0.0/543.3 kB ? eta -:--:--\n",
      "   ---------------------------------------- 0.0/543.3 kB ? eta -:--:--\n",
      "    --------------------------------------- 10.2/543.3 kB ? eta -:--:--\n",
      "   -- ------------------------------------ 30.7/543.3 kB 325.1 kB/s eta 0:00:02\n",
      "   -- ------------------------------------ 30.7/543.3 kB 325.1 kB/s eta 0:00:02\n",
      "   -- ------------------------------------ 41.0/543.3 kB 217.9 kB/s eta 0:00:03\n",
      "   ---- ---------------------------------- 61.4/543.3 kB 252.2 kB/s eta 0:00:02\n",
      "   ---- ---------------------------------- 61.4/543.3 kB 252.2 kB/s eta 0:00:02\n",
      "   ----- --------------------------------- 81.9/543.3 kB 286.7 kB/s eta 0:00:02\n",
      "   ------ -------------------------------- 92.2/543.3 kB 249.8 kB/s eta 0:00:02\n",
      "   ------ -------------------------------- 92.2/543.3 kB 249.8 kB/s eta 0:00:02\n",
      "   ------- ------------------------------ 112.6/543.3 kB 261.9 kB/s eta 0:00:02\n",
      "   -------- ----------------------------- 122.9/543.3 kB 248.7 kB/s eta 0:00:02\n",
      "   ---------- --------------------------- 143.4/543.3 kB 266.2 kB/s eta 0:00:02\n",
      "   ----------- -------------------------- 163.8/543.3 kB 289.3 kB/s eta 0:00:02\n",
      "   ------------ ------------------------- 174.1/543.3 kB 275.8 kB/s eta 0:00:02\n",
      "   ------------ ------------------------- 174.1/543.3 kB 275.8 kB/s eta 0:00:02\n",
      "   ------------ ------------------------- 174.1/543.3 kB 275.8 kB/s eta 0:00:02\n",
      "   ------------ ------------------------- 174.1/543.3 kB 275.8 kB/s eta 0:00:02\n",
      "   ------------ ------------------------- 174.1/543.3 kB 275.8 kB/s eta 0:00:02\n",
      "   --------------- ---------------------- 225.3/543.3 kB 259.7 kB/s eta 0:00:02\n",
      "   --------------- ---------------------- 225.3/543.3 kB 259.7 kB/s eta 0:00:02\n",
      "   --------------- ---------------------- 225.3/543.3 kB 259.7 kB/s eta 0:00:02\n",
      "   --------------- ---------------------- 225.3/543.3 kB 259.7 kB/s eta 0:00:02\n",
      "   ----------------- -------------------- 256.0/543.3 kB 238.4 kB/s eta 0:00:02\n",
      "   ----------------- -------------------- 256.0/543.3 kB 238.4 kB/s eta 0:00:02\n",
      "   ----------------- -------------------- 256.0/543.3 kB 238.4 kB/s eta 0:00:02\n",
      "   ------------------- ------------------ 276.5/543.3 kB 233.3 kB/s eta 0:00:02\n",
      "   ------------------- ------------------ 276.5/543.3 kB 233.3 kB/s eta 0:00:02\n",
      "   -------------------- ----------------- 286.7/543.3 kB 218.4 kB/s eta 0:00:02\n",
      "   -------------------- ----------------- 286.7/543.3 kB 218.4 kB/s eta 0:00:02\n",
      "   --------------------- ---------------- 307.2/543.3 kB 221.0 kB/s eta 0:00:02\n",
      "   --------------------- ---------------- 307.2/543.3 kB 221.0 kB/s eta 0:00:02\n",
      "   ---------------------- --------------- 327.7/543.3 kB 218.5 kB/s eta 0:00:01\n",
      "   ---------------------- --------------- 327.7/543.3 kB 218.5 kB/s eta 0:00:01\n",
      "   ----------------------- -------------- 337.9/543.3 kB 211.8 kB/s eta 0:00:01\n",
      "   ----------------------- -------------- 337.9/543.3 kB 211.8 kB/s eta 0:00:01\n",
      "   ------------------------- ------------ 358.4/543.3 kB 216.4 kB/s eta 0:00:01\n",
      "   ------------------------- ------------ 368.6/543.3 kB 212.3 kB/s eta 0:00:01\n",
      "   ------------------------- ------------ 368.6/543.3 kB 212.3 kB/s eta 0:00:01\n",
      "   --------------------------- ---------- 389.1/543.3 kB 214.5 kB/s eta 0:00:01\n",
      "   ---------------------------- --------- 409.6/543.3 kB 218.5 kB/s eta 0:00:01\n",
      "   ---------------------------- --------- 409.6/543.3 kB 218.5 kB/s eta 0:00:01\n",
      "   ----------------------------- -------- 419.8/543.3 kB 216.6 kB/s eta 0:00:01\n",
      "   ------------------------------ ------- 440.3/543.3 kB 220.2 kB/s eta 0:00:01\n",
      "   ------------------------------- ------ 450.6/543.3 kB 218.4 kB/s eta 0:00:01\n",
      "   ------------------------------- ------ 450.6/543.3 kB 218.4 kB/s eta 0:00:01\n",
      "   ------------------------------- ------ 450.6/543.3 kB 218.4 kB/s eta 0:00:01\n",
      "   -------------------------------- ----- 471.0/543.3 kB 215.2 kB/s eta 0:00:01\n",
      "   ---------------------------------- --- 491.5/543.3 kB 223.2 kB/s eta 0:00:01\n",
      "   ---------------------------------- --- 491.5/543.3 kB 223.2 kB/s eta 0:00:01\n",
      "   ----------------------------------- -- 501.8/543.3 kB 216.9 kB/s eta 0:00:01\n",
      "   ------------------------------------ - 522.2/543.3 kB 219.9 kB/s eta 0:00:01\n",
      "   ------------------------------------ - 522.2/543.3 kB 219.9 kB/s eta 0:00:01\n",
      "   -------------------------------------  542.7/543.3 kB 215.7 kB/s eta 0:00:01\n",
      "   -------------------------------------- 543.3/543.3 kB 214.6 kB/s eta 0:00:00\n",
      "Using cached cachetools-5.3.3-py3-none-any.whl (9.3 kB)\n",
      "Using cached coolname-2.2.0-py2.py3-none-any.whl (37 kB)\n",
      "Using cached croniter-2.0.3-py2.py3-none-any.whl (20 kB)\n",
      "Using cached dateparser-1.2.0-py2.py3-none-any.whl (294 kB)\n",
      "Using cached docker-6.1.3-py3-none-any.whl (148 kB)\n",
      "Using cached graphviz-0.20.3-py3-none-any.whl (47 kB)\n",
      "Using cached griffe-0.42.1-py3-none-any.whl (118 kB)\n",
      "Downloading httpcore-1.0.5-py3-none-any.whl (77 kB)\n",
      "   ---------------------------------------- 0.0/77.9 kB ? eta -:--:--\n",
      "   ---------------------------------------- 0.0/77.9 kB ? eta -:--:--\n",
      "   ---------------------------------------- 0.0/77.9 kB ? eta -:--:--\n",
      "   ----- ---------------------------------- 10.2/77.9 kB ? eta -:--:--\n",
      "   ----- ---------------------------------- 10.2/77.9 kB ? eta -:--:--\n",
      "   ----- ---------------------------------- 10.2/77.9 kB ? eta -:--:--\n",
      "   ----- ---------------------------------- 10.2/77.9 kB ? eta -:--:--\n",
      "   --------------- ------------------------ 30.7/77.9 kB 108.9 kB/s eta 0:00:01\n",
      "   --------------------- ------------------ 41.0/77.9 kB 122.9 kB/s eta 0:00:01\n",
      "   --------------------- ------------------ 41.0/77.9 kB 122.9 kB/s eta 0:00:01\n",
      "   --------------------- ------------------ 41.0/77.9 kB 122.9 kB/s eta 0:00:01\n",
      "   --------------------- ------------------ 41.0/77.9 kB 122.9 kB/s eta 0:00:01\n",
      "   ------------------------------- -------- 61.4/77.9 kB 126.1 kB/s eta 0:00:01\n",
      "   ------------------------------- -------- 61.4/77.9 kB 126.1 kB/s eta 0:00:01\n",
      "   ---------------------------------------- 77.9/77.9 kB 131.2 kB/s eta 0:00:00\n",
      "Downloading httpx-0.27.0-py3-none-any.whl (75 kB)\n",
      "   ---------------------------------------- 0.0/75.6 kB ? eta -:--:--\n",
      "   ---------------------------------------- 0.0/75.6 kB ? eta -:--:--\n",
      "   ----- ---------------------------------- 10.2/75.6 kB ? eta -:--:--\n",
      "   ----- ---------------------------------- 10.2/75.6 kB ? eta -:--:--\n",
      "   ----- ---------------------------------- 10.2/75.6 kB ? eta -:--:--\n",
      "   ----- ---------------------------------- 10.2/75.6 kB ? eta -:--:--\n",
      "   ----- ---------------------------------- 10.2/75.6 kB ? eta -:--:--\n",
      "   ----- ---------------------------------- 10.2/75.6 kB ? eta -:--:--\n",
      "   ---------------- ----------------------- 30.7/75.6 kB 87.5 kB/s eta 0:00:01\n",
      "   ---------------- ----------------------- 30.7/75.6 kB 87.5 kB/s eta 0:00:01\n",
      "   ---------------- ----------------------- 30.7/75.6 kB 87.5 kB/s eta 0:00:01\n",
      "   --------------------- ------------------ 41.0/75.6 kB 75.7 kB/s eta 0:00:01\n",
      "   --------------------- ------------------ 41.0/75.6 kB 75.7 kB/s eta 0:00:01\n",
      "   --------------------- ------------------ 41.0/75.6 kB 75.7 kB/s eta 0:00:01\n",
      "   --------------------- ------------------ 41.0/75.6 kB 75.7 kB/s eta 0:00:01\n",
      "   -------------------------------- ------- 61.4/75.6 kB 91.1 kB/s eta 0:00:01\n",
      "   ---------------------------------------- 75.6/75.6 kB 102.1 kB/s eta 0:00:00\n",
      "Using cached importlib_resources-6.1.3-py3-none-any.whl (34 kB)\n",
      "Using cached kubernetes-29.0.0-py2.py3-none-any.whl (1.6 MB)\n",
      "Downloading orjson-3.10.0-cp311-none-win_amd64.whl (139 kB)\n",
      "   ---------------------------------------- 0.0/139.2 kB ? eta -:--:--\n",
      "   ---------------------------------------- 0.0/139.2 kB ? eta -:--:--\n",
      "   -- ------------------------------------- 10.2/139.2 kB ? eta -:--:--\n",
      "   -- ------------------------------------- 10.2/139.2 kB ? eta -:--:--\n",
      "   -- ------------------------------------- 10.2/139.2 kB ? eta -:--:--\n",
      "   -- ------------------------------------- 10.2/139.2 kB ? eta -:--:--\n",
      "   -- ------------------------------------- 10.2/139.2 kB ? eta -:--:--\n",
      "   -------- ------------------------------- 30.7/139.2 kB 93.9 kB/s eta 0:00:02\n",
      "   -------- ------------------------------- 30.7/139.2 kB 93.9 kB/s eta 0:00:02\n",
      "   ----------- ---------------------------- 41.0/139.2 kB 98.5 kB/s eta 0:00:01\n",
      "   ----------- ---------------------------- 41.0/139.2 kB 98.5 kB/s eta 0:00:01\n",
      "   ----------------- --------------------- 61.4/139.2 kB 117.2 kB/s eta 0:00:01\n",
      "   ----------------- --------------------- 61.4/139.2 kB 117.2 kB/s eta 0:00:01\n",
      "   ----------------- --------------------- 61.4/139.2 kB 117.2 kB/s eta 0:00:01\n",
      "   ----------------- --------------------- 61.4/139.2 kB 117.2 kB/s eta 0:00:01\n",
      "   ----------------- --------------------- 61.4/139.2 kB 117.2 kB/s eta 0:00:01\n",
      "   ----------------- --------------------- 61.4/139.2 kB 117.2 kB/s eta 0:00:01\n",
      "   -------------------- ------------------- 71.7/139.2 kB 85.6 kB/s eta 0:00:01\n",
      "   -------------------- ------------------- 71.7/139.2 kB 85.6 kB/s eta 0:00:01\n",
      "   -------------------- ------------------- 71.7/139.2 kB 85.6 kB/s eta 0:00:01\n",
      "   -------------------- ------------------- 71.7/139.2 kB 85.6 kB/s eta 0:00:01\n",
      "   -------------------------- ------------- 92.2/139.2 kB 78.2 kB/s eta 0:00:01\n",
      "   -------------------------- ------------- 92.2/139.2 kB 78.2 kB/s eta 0:00:01\n",
      "   -------------------------- ------------- 92.2/139.2 kB 78.2 kB/s eta 0:00:01\n",
      "   -------------------------- ------------- 92.2/139.2 kB 78.2 kB/s eta 0:00:01\n",
      "   -------------------------- ------------- 92.2/139.2 kB 78.2 kB/s eta 0:00:01\n",
      "   -------------------------- ------------- 92.2/139.2 kB 78.2 kB/s eta 0:00:01\n",
      "   -------------------------- ------------- 92.2/139.2 kB 78.2 kB/s eta 0:00:01\n",
      "   -------------------------- ------------- 92.2/139.2 kB 78.2 kB/s eta 0:00:01\n",
      "   -------------------------- ------------- 92.2/139.2 kB 78.2 kB/s eta 0:00:01\n",
      "   ------------------------------- ------- 112.6/139.2 kB 66.2 kB/s eta 0:00:01\n",
      "   ------------------------------- ------- 112.6/139.2 kB 66.2 kB/s eta 0:00:01\n",
      "   ------------------------------- ------- 112.6/139.2 kB 66.2 kB/s eta 0:00:01\n",
      "   ------------------------------- ------- 112.6/139.2 kB 66.2 kB/s eta 0:00:01\n",
      "   ------------------------------- ------- 112.6/139.2 kB 66.2 kB/s eta 0:00:01\n",
      "   ------------------------------- ------- 112.6/139.2 kB 66.2 kB/s eta 0:00:01\n",
      "   ---------------------------------- ---- 122.9/139.2 kB 58.2 kB/s eta 0:00:01\n",
      "   ---------------------------------- ---- 122.9/139.2 kB 58.2 kB/s eta 0:00:01\n",
      "   ---------------------------------- ---- 122.9/139.2 kB 58.2 kB/s eta 0:00:01\n",
      "   ---------------------------------- ---- 122.9/139.2 kB 58.2 kB/s eta 0:00:01\n",
      "   ---------------------------------- ---- 122.9/139.2 kB 58.2 kB/s eta 0:00:01\n",
      "   ---------------------------------- ---- 122.9/139.2 kB 58.2 kB/s eta 0:00:01\n",
      "   --------------------------------------- 139.2/139.2 kB 55.0 kB/s eta 0:00:00\n",
      "Using cached python_multipart-0.0.9-py3-none-any.whl (22 kB)\n",
      "Using cached readchar-4.0.6-py3-none-any.whl (8.5 kB)\n",
      "Using cached typer-0.11.0-py3-none-any.whl (43 kB)\n",
      "Downloading ujson-5.9.0-cp311-cp311-win_amd64.whl (41 kB)\n",
      "   ---------------------------------------- 0.0/41.9 kB ? eta -:--:--\n",
      "   ---------------------------------------- 0.0/41.9 kB ? eta -:--:--\n",
      "   ---------------------------------------- 0.0/41.9 kB ? eta -:--:--\n",
      "   ---------------------------------------- 0.0/41.9 kB ? eta -:--:--\n",
      "   ---------------------------------------- 0.0/41.9 kB ? eta -:--:--\n",
      "   ---------------------------------------- 0.0/41.9 kB ? eta -:--:--\n",
      "   ---------------------------------------- 0.0/41.9 kB ? eta -:--:--\n",
      "   ---------------------------------------- 0.0/41.9 kB ? eta -:--:--\n",
      "   ---------------------------------------- 0.0/41.9 kB ? eta -:--:--\n",
      "   ---------------------------------------- 0.0/41.9 kB ? eta -:--:--\n",
      "   ---------------------------------------- 0.0/41.9 kB ? eta -:--:--\n",
      "   ---------------------------------------- 0.0/41.9 kB ? eta -:--:--\n",
      "   ---------------------------------------- 0.0/41.9 kB ? eta -:--:--\n",
      "   ---------------------------------------- 0.0/41.9 kB ? eta -:--:--\n",
      "   ---------------------------------------- 0.0/41.9 kB ? eta -:--:--\n",
      "   --------- ------------------------------ 10.2/41.9 kB ? eta -:--:--\n",
      "   --------- ------------------------------ 10.2/41.9 kB ? eta -:--:--\n",
      "   --------- ------------------------------ 10.2/41.9 kB ? eta -:--:--\n",
      "   --------- ------------------------------ 10.2/41.9 kB ? eta -:--:--\n",
      "   ----------------------------- ---------- 30.7/41.9 kB 87.5 kB/s eta 0:00:01\n",
      "   ----------------------------- ---------- 30.7/41.9 kB 87.5 kB/s eta 0:00:01\n",
      "   ----------------------------- ---------- 30.7/41.9 kB 87.5 kB/s eta 0:00:01\n",
      "   ----------------------------- ---------- 30.7/41.9 kB 87.5 kB/s eta 0:00:01\n",
      "   ----------------------------- ---------- 30.7/41.9 kB 87.5 kB/s eta 0:00:01\n",
      "   ---------------------------------------- 41.9/41.9 kB 63.4 kB/s eta 0:00:00\n",
      "Downloading uvicorn-0.29.0-py3-none-any.whl (60 kB)\n",
      "   ---------------------------------------- 0.0/60.8 kB ? eta -:--:--\n",
      "   ---------------------------------------- 0.0/60.8 kB ? eta -:--:--\n",
      "   ---------------------------------------- 0.0/60.8 kB ? eta -:--:--\n",
      "   ------ --------------------------------- 10.2/60.8 kB ? eta -:--:--\n",
      "   ------ --------------------------------- 10.2/60.8 kB ? eta -:--:--\n",
      "   ------ --------------------------------- 10.2/60.8 kB ? eta -:--:--\n",
      "   ------ --------------------------------- 10.2/60.8 kB ? eta -:--:--\n",
      "   ------ --------------------------------- 10.2/60.8 kB ? eta -:--:--\n",
      "   ------ --------------------------------- 10.2/60.8 kB ? eta -:--:--\n",
      "   ------ --------------------------------- 10.2/60.8 kB ? eta -:--:--\n",
      "   ------ --------------------------------- 10.2/60.8 kB ? eta -:--:--\n",
      "   -------------------- ------------------- 30.7/60.8 kB 50.4 kB/s eta 0:00:01\n",
      "   -------------------- ------------------- 30.7/60.8 kB 50.4 kB/s eta 0:00:01\n",
      "   -------------------- ------------------- 30.7/60.8 kB 50.4 kB/s eta 0:00:01\n",
      "   -------------------- ------------------- 30.7/60.8 kB 50.4 kB/s eta 0:00:01\n",
      "   -------------------- ------------------- 30.7/60.8 kB 50.4 kB/s eta 0:00:01\n",
      "   -------------------- ------------------- 30.7/60.8 kB 50.4 kB/s eta 0:00:01\n",
      "   -------------------- ------------------- 30.7/60.8 kB 50.4 kB/s eta 0:00:01\n",
      "   -------------------------- ------------- 41.0/60.8 kB 41.0 kB/s eta 0:00:01\n",
      "   -------------------------- ------------- 41.0/60.8 kB 41.0 kB/s eta 0:00:01\n",
      "   -------------------------- ------------- 41.0/60.8 kB 41.0 kB/s eta 0:00:01\n",
      "   -------------------------- ------------- 41.0/60.8 kB 41.0 kB/s eta 0:00:01\n",
      "   -------------------------- ------------- 41.0/60.8 kB 41.0 kB/s eta 0:00:01\n",
      "   -------------------------- ------------- 41.0/60.8 kB 41.0 kB/s eta 0:00:01\n",
      "   -------------------------- ------------- 41.0/60.8 kB 41.0 kB/s eta 0:00:01\n",
      "   -------------------------- ------------- 41.0/60.8 kB 41.0 kB/s eta 0:00:01\n",
      "   ---------------------------------------- 60.8/60.8 kB 45.0 kB/s eta 0:00:00\n",
      "Downloading websockets-12.0-cp311-cp311-win_amd64.whl (124 kB)\n",
      "   ---------------------------------------- 0.0/125.0 kB ? eta -:--:--\n",
      "   ---------------------------------------- 0.0/125.0 kB ? eta -:--:--\n",
      "   ---------------------------------------- 0.0/125.0 kB ? eta -:--:--\n",
      "   ---------------------------------------- 0.0/125.0 kB ? eta -:--:--\n",
      "   ---------------------------------------- 0.0/125.0 kB ? eta -:--:--\n",
      "   ---------------------------------------- 0.0/125.0 kB ? eta -:--:--\n",
      "   ---------------------------------------- 0.0/125.0 kB ? eta -:--:--\n",
      "   ---------------------------------------- 0.0/125.0 kB ? eta -:--:--\n",
      "   ---------------------------------------- 0.0/125.0 kB ? eta -:--:--\n",
      "   --- ------------------------------------ 10.2/125.0 kB ? eta -:--:--\n",
      "   --- ------------------------------------ 10.2/125.0 kB ? eta -:--:--\n",
      "   --- ------------------------------------ 10.2/125.0 kB ? eta -:--:--\n",
      "   --- ------------------------------------ 10.2/125.0 kB ? eta -:--:--\n",
      "   --- ------------------------------------ 10.2/125.0 kB ? eta -:--:--\n",
      "   --------- ------------------------------ 30.7/125.0 kB 65.6 kB/s eta 0:00:02\n",
      "   --------- ------------------------------ 30.7/125.0 kB 65.6 kB/s eta 0:00:02\n",
      "   --------- ------------------------------ 30.7/125.0 kB 65.6 kB/s eta 0:00:02\n",
      "   --------- ------------------------------ 30.7/125.0 kB 65.6 kB/s eta 0:00:02\n",
      "   --------- ------------------------------ 30.7/125.0 kB 65.6 kB/s eta 0:00:02\n",
      "   --------- ------------------------------ 30.7/125.0 kB 65.6 kB/s eta 0:00:02\n",
      "   ------------- -------------------------- 41.0/125.0 kB 51.8 kB/s eta 0:00:02\n",
      "   ------------- -------------------------- 41.0/125.0 kB 51.8 kB/s eta 0:00:02\n",
      "   ------------- -------------------------- 41.0/125.0 kB 51.8 kB/s eta 0:00:02\n",
      "   ------------- -------------------------- 41.0/125.0 kB 51.8 kB/s eta 0:00:02\n",
      "   ------------- -------------------------- 41.0/125.0 kB 51.8 kB/s eta 0:00:02\n",
      "   ------------- -------------------------- 41.0/125.0 kB 51.8 kB/s eta 0:00:02\n",
      "   ------------- -------------------------- 41.0/125.0 kB 51.8 kB/s eta 0:00:02\n",
      "   ------------- -------------------------- 41.0/125.0 kB 51.8 kB/s eta 0:00:02\n",
      "   ------------------- -------------------- 61.4/125.0 kB 52.0 kB/s eta 0:00:02\n",
      "   ------------------- -------------------- 61.4/125.0 kB 52.0 kB/s eta 0:00:02\n",
      "   ------------------- -------------------- 61.4/125.0 kB 52.0 kB/s eta 0:00:02\n",
      "   ------------------- -------------------- 61.4/125.0 kB 52.0 kB/s eta 0:00:02\n",
      "   ------------------- -------------------- 61.4/125.0 kB 52.0 kB/s eta 0:00:02\n",
      "   ------------------- -------------------- 61.4/125.0 kB 52.0 kB/s eta 0:00:02\n",
      "   ------------------- -------------------- 61.4/125.0 kB 52.0 kB/s eta 0:00:02\n",
      "   ------------------- -------------------- 61.4/125.0 kB 52.0 kB/s eta 0:00:02\n",
      "   ------------------- -------------------- 61.4/125.0 kB 52.0 kB/s eta 0:00:02\n",
      "   ------------------- -------------------- 61.4/125.0 kB 52.0 kB/s eta 0:00:02\n",
      "   ------------------- -------------------- 61.4/125.0 kB 52.0 kB/s eta 0:00:02\n",
      "   ------------------- -------------------- 61.4/125.0 kB 52.0 kB/s eta 0:00:02\n",
      "   ------------------- -------------------- 61.4/125.0 kB 52.0 kB/s eta 0:00:02\n",
      "   ---------------------- ----------------- 71.7/125.0 kB 39.3 kB/s eta 0:00:02\n",
      "   ---------------------- ----------------- 71.7/125.0 kB 39.3 kB/s eta 0:00:02\n",
      "   ---------------------- ----------------- 71.7/125.0 kB 39.3 kB/s eta 0:00:02\n",
      "   ---------------------- ----------------- 71.7/125.0 kB 39.3 kB/s eta 0:00:02\n",
      "   ---------------------- ----------------- 71.7/125.0 kB 39.3 kB/s eta 0:00:02\n",
      "   ---------------------- ----------------- 71.7/125.0 kB 39.3 kB/s eta 0:00:02\n",
      "   ---------------------- ----------------- 71.7/125.0 kB 39.3 kB/s eta 0:00:02\n",
      "   ---------------------- ----------------- 71.7/125.0 kB 39.3 kB/s eta 0:00:02\n",
      "   ---------------------- ----------------- 71.7/125.0 kB 39.3 kB/s eta 0:00:02\n",
      "   ----------------------------- ---------- 92.2/125.0 kB 41.0 kB/s eta 0:00:01\n",
      "   ----------------------------- ---------- 92.2/125.0 kB 41.0 kB/s eta 0:00:01\n",
      "   ----------------------------- ---------- 92.2/125.0 kB 41.0 kB/s eta 0:00:01\n",
      "   ----------------------------- ---------- 92.2/125.0 kB 41.0 kB/s eta 0:00:01\n",
      "   ----------------------------- ---------- 92.2/125.0 kB 41.0 kB/s eta 0:00:01\n",
      "   ----------------------------- ---------- 92.2/125.0 kB 41.0 kB/s eta 0:00:01\n",
      "   ----------------------------- ---------- 92.2/125.0 kB 41.0 kB/s eta 0:00:01\n",
      "   ----------------------------- ---------- 92.2/125.0 kB 41.0 kB/s eta 0:00:01\n",
      "   ----------------------------------- --- 112.6/125.0 kB 42.8 kB/s eta 0:00:01\n",
      "   ----------------------------------- --- 112.6/125.0 kB 42.8 kB/s eta 0:00:01\n",
      "   ----------------------------------- --- 112.6/125.0 kB 42.8 kB/s eta 0:00:01\n",
      "   --------------------------------------- 125.0/125.0 kB 45.1 kB/s eta 0:00:00\n",
      "Using cached async_timeout-4.0.3-py3-none-any.whl (5.7 kB)\n",
      "Downloading email_validator-2.1.1-py3-none-any.whl (30 kB)\n",
      "Downloading google_auth-2.29.0-py2.py3-none-any.whl (189 kB)\n",
      "   ---------------------------------------- 0.0/189.2 kB ? eta -:--:--\n",
      "   ---------------------------------------- 0.0/189.2 kB ? eta -:--:--\n",
      "   ---------------------------------------- 0.0/189.2 kB ? eta -:--:--\n",
      "   ---------------------------------------- 0.0/189.2 kB ? eta -:--:--\n",
      "   ---------------------------------------- 0.0/189.2 kB ? eta -:--:--\n",
      "   ---------------------------------------- 0.0/189.2 kB ? eta -:--:--\n",
      "   -- ------------------------------------- 10.2/189.2 kB ? eta -:--:--\n",
      "   -- ------------------------------------- 10.2/189.2 kB ? eta -:--:--\n",
      "   -- ------------------------------------- 10.2/189.2 kB ? eta -:--:--\n",
      "   -- ------------------------------------- 10.2/189.2 kB ? eta -:--:--\n",
      "   -- ------------------------------------- 10.2/189.2 kB ? eta -:--:--\n",
      "   ------ --------------------------------- 30.7/189.2 kB 54.6 kB/s eta 0:00:03\n",
      "   ------ --------------------------------- 30.7/189.2 kB 54.6 kB/s eta 0:00:03\n",
      "   ------ --------------------------------- 30.7/189.2 kB 54.6 kB/s eta 0:00:03\n",
      "   ------ --------------------------------- 30.7/189.2 kB 54.6 kB/s eta 0:00:03\n",
      "   ------ --------------------------------- 30.7/189.2 kB 54.6 kB/s eta 0:00:03\n",
      "   ------ --------------------------------- 30.7/189.2 kB 54.6 kB/s eta 0:00:03\n",
      "   -------- ------------------------------- 41.0/189.2 kB 41.0 kB/s eta 0:00:04\n",
      "   -------- ------------------------------- 41.0/189.2 kB 41.0 kB/s eta 0:00:04\n",
      "   -------- ------------------------------- 41.0/189.2 kB 41.0 kB/s eta 0:00:04\n",
      "   -------- ------------------------------- 41.0/189.2 kB 41.0 kB/s eta 0:00:04\n",
      "   -------- ------------------------------- 41.0/189.2 kB 41.0 kB/s eta 0:00:04\n",
      "   -------- ------------------------------- 41.0/189.2 kB 41.0 kB/s eta 0:00:04\n",
      "   ------------ --------------------------- 61.4/189.2 kB 48.9 kB/s eta 0:00:03\n",
      "   ------------ --------------------------- 61.4/189.2 kB 48.9 kB/s eta 0:00:03\n",
      "   ------------ --------------------------- 61.4/189.2 kB 48.9 kB/s eta 0:00:03\n",
      "   ------------ --------------------------- 61.4/189.2 kB 48.9 kB/s eta 0:00:03\n",
      "   ------------ --------------------------- 61.4/189.2 kB 48.9 kB/s eta 0:00:03\n",
      "   ----------------- ---------------------- 81.9/189.2 kB 56.7 kB/s eta 0:00:02\n",
      "   ----------------- ---------------------- 81.9/189.2 kB 56.7 kB/s eta 0:00:02\n",
      "   ----------------- ---------------------- 81.9/189.2 kB 56.7 kB/s eta 0:00:02\n",
      "   ------------------- -------------------- 92.2/189.2 kB 58.3 kB/s eta 0:00:02\n",
      "   ------------------- -------------------- 92.2/189.2 kB 58.3 kB/s eta 0:00:02\n",
      "   ------------------- -------------------- 92.2/189.2 kB 58.3 kB/s eta 0:00:02\n",
      "   ------------------- -------------------- 92.2/189.2 kB 58.3 kB/s eta 0:00:02\n",
      "   ------------------- -------------------- 92.2/189.2 kB 58.3 kB/s eta 0:00:02\n",
      "   ----------------------- --------------- 112.6/189.2 kB 63.6 kB/s eta 0:00:02\n",
      "   ----------------------- --------------- 112.6/189.2 kB 63.6 kB/s eta 0:00:02\n",
      "   ----------------------- --------------- 112.6/189.2 kB 63.6 kB/s eta 0:00:02\n",
      "   ----------------------- --------------- 112.6/189.2 kB 63.6 kB/s eta 0:00:02\n",
      "   ----------------------- --------------- 112.6/189.2 kB 63.6 kB/s eta 0:00:02\n",
      "   ----------------------- --------------- 112.6/189.2 kB 63.6 kB/s eta 0:00:02\n",
      "   ------------------------- ------------- 122.9/189.2 kB 59.1 kB/s eta 0:00:02\n",
      "   ------------------------- ------------- 122.9/189.2 kB 59.1 kB/s eta 0:00:02\n",
      "   ------------------------- ------------- 122.9/189.2 kB 59.1 kB/s eta 0:00:02\n",
      "   ------------------------- ------------- 122.9/189.2 kB 59.1 kB/s eta 0:00:02\n",
      "   ------------------------- ------------- 122.9/189.2 kB 59.1 kB/s eta 0:00:02\n",
      "   ------------------------- ------------- 122.9/189.2 kB 59.1 kB/s eta 0:00:02\n",
      "   ------------------------- ------------- 122.9/189.2 kB 59.1 kB/s eta 0:00:02\n",
      "   ----------------------------- --------- 143.4/189.2 kB 59.2 kB/s eta 0:00:01\n",
      "   ----------------------------- --------- 143.4/189.2 kB 59.2 kB/s eta 0:00:01\n",
      "   ----------------------------- --------- 143.4/189.2 kB 59.2 kB/s eta 0:00:01\n",
      "   ----------------------------- --------- 143.4/189.2 kB 59.2 kB/s eta 0:00:01\n",
      "   ----------------------------- --------- 143.4/189.2 kB 59.2 kB/s eta 0:00:01\n",
      "   ----------------------------- --------- 143.4/189.2 kB 59.2 kB/s eta 0:00:01\n",
      "   --------------------------------- ----- 163.8/189.2 kB 60.3 kB/s eta 0:00:01\n",
      "   --------------------------------- ----- 163.8/189.2 kB 60.3 kB/s eta 0:00:01\n",
      "   --------------------------------- ----- 163.8/189.2 kB 60.3 kB/s eta 0:00:01\n",
      "   --------------------------------- ----- 163.8/189.2 kB 60.3 kB/s eta 0:00:01\n",
      "   --------------------------------- ----- 163.8/189.2 kB 60.3 kB/s eta 0:00:01\n",
      "   ----------------------------------- --- 174.1/189.2 kB 59.3 kB/s eta 0:00:01\n",
      "   ----------------------------------- --- 174.1/189.2 kB 59.3 kB/s eta 0:00:01\n",
      "   ----------------------------------- --- 174.1/189.2 kB 59.3 kB/s eta 0:00:01\n",
      "   --------------------------------------- 189.2/189.2 kB 61.2 kB/s eta 0:00:00\n",
      "Downloading h11-0.14.0-py3-none-any.whl (58 kB)\n",
      "   ---------------------------------------- 0.0/58.3 kB ? eta -:--:--\n",
      "   ---------------------------------------- 0.0/58.3 kB ? eta -:--:--\n",
      "   ---------------------------------------- 0.0/58.3 kB ? eta -:--:--\n",
      "   ---------------------------------------- 0.0/58.3 kB ? eta -:--:--\n",
      "   ------- -------------------------------- 10.2/58.3 kB ? eta -:--:--\n",
      "   ------- -------------------------------- 10.2/58.3 kB ? eta -:--:--\n",
      "   ------- -------------------------------- 10.2/58.3 kB ? eta -:--:--\n",
      "   ------- -------------------------------- 10.2/58.3 kB ? eta -:--:--\n",
      "   --------------------- ------------------ 30.7/58.3 kB 109.5 kB/s eta 0:00:01\n",
      "   --------------------- ------------------ 30.7/58.3 kB 109.5 kB/s eta 0:00:01\n",
      "   --------------------- ------------------ 30.7/58.3 kB 109.5 kB/s eta 0:00:01\n",
      "   ---------------------------- ----------- 41.0/58.3 kB 93.7 kB/s eta 0:00:01\n",
      "   ----------------------------------- ---- 51.2/58.3 kB 105.0 kB/s eta 0:00:01\n",
      "   ----------------------------------- ---- 51.2/58.3 kB 105.0 kB/s eta 0:00:01\n",
      "   ----------------------------------- ---- 51.2/58.3 kB 105.0 kB/s eta 0:00:01\n",
      "   ---------------------------------------- 58.3/58.3 kB 90.4 kB/s eta 0:00:00\n",
      "Using cached h2-4.1.0-py3-none-any.whl (57 kB)\n",
      "Using cached pytzdata-2020.1-py2.py3-none-any.whl (489 kB)\n",
      "Downloading dnspython-2.6.1-py3-none-any.whl (307 kB)\n",
      "   ---------------------------------------- 0.0/307.7 kB ? eta -:--:--\n",
      "   ---------------------------------------- 0.0/307.7 kB ? eta -:--:--\n",
      "   ---------------------------------------- 0.0/307.7 kB ? eta -:--:--\n",
      "   ---------------------------------------- 0.0/307.7 kB ? eta -:--:--\n",
      "   ---------------------------------------- 0.0/307.7 kB ? eta -:--:--\n",
      "   - -------------------------------------- 10.2/307.7 kB ? eta -:--:--\n",
      "   --- ----------------------------------- 30.7/307.7 kB 262.6 kB/s eta 0:00:02\n",
      "   --- ----------------------------------- 30.7/307.7 kB 262.6 kB/s eta 0:00:02\n",
      "   --- ----------------------------------- 30.7/307.7 kB 262.6 kB/s eta 0:00:02\n",
      "   --- ----------------------------------- 30.7/307.7 kB 262.6 kB/s eta 0:00:02\n",
      "   ----- --------------------------------- 41.0/307.7 kB 140.9 kB/s eta 0:00:02\n",
      "   ----- --------------------------------- 41.0/307.7 kB 140.9 kB/s eta 0:00:02\n",
      "   ----- --------------------------------- 41.0/307.7 kB 140.9 kB/s eta 0:00:02\n",
      "   ----- --------------------------------- 41.0/307.7 kB 140.9 kB/s eta 0:00:02\n",
      "   ----- --------------------------------- 41.0/307.7 kB 140.9 kB/s eta 0:00:02\n",
      "   ------- ------------------------------- 61.4/307.7 kB 105.8 kB/s eta 0:00:03\n",
      "   ------- ------------------------------- 61.4/307.7 kB 105.8 kB/s eta 0:00:03\n",
      "   ------- ------------------------------- 61.4/307.7 kB 105.8 kB/s eta 0:00:03\n",
      "   ------- ------------------------------- 61.4/307.7 kB 105.8 kB/s eta 0:00:03\n",
      "   ------- ------------------------------- 61.4/307.7 kB 105.8 kB/s eta 0:00:03\n",
      "   ------- ------------------------------- 61.4/307.7 kB 105.8 kB/s eta 0:00:03\n",
      "   ------- ------------------------------- 61.4/307.7 kB 105.8 kB/s eta 0:00:03\n",
      "   ------- ------------------------------- 61.4/307.7 kB 105.8 kB/s eta 0:00:03\n",
      "   ------- ------------------------------- 61.4/307.7 kB 105.8 kB/s eta 0:00:03\n",
      "   ------- ------------------------------- 61.4/307.7 kB 105.8 kB/s eta 0:00:03\n",
      "   ------- ------------------------------- 61.4/307.7 kB 105.8 kB/s eta 0:00:03\n",
      "   --------- ------------------------------ 71.7/307.7 kB 63.5 kB/s eta 0:00:04\n",
      "   --------- ------------------------------ 71.7/307.7 kB 63.5 kB/s eta 0:00:04\n",
      "   --------- ------------------------------ 71.7/307.7 kB 63.5 kB/s eta 0:00:04\n",
      "   --------- ------------------------------ 71.7/307.7 kB 63.5 kB/s eta 0:00:04\n",
      "   --------- ------------------------------ 71.7/307.7 kB 63.5 kB/s eta 0:00:04\n",
      "   --------- ------------------------------ 71.7/307.7 kB 63.5 kB/s eta 0:00:04\n",
      "   --------- ------------------------------ 71.7/307.7 kB 63.5 kB/s eta 0:00:04\n",
      "   --------- ------------------------------ 71.7/307.7 kB 63.5 kB/s eta 0:00:04\n",
      "   --------- ------------------------------ 71.7/307.7 kB 63.5 kB/s eta 0:00:04\n",
      "   --------- ------------------------------ 71.7/307.7 kB 63.5 kB/s eta 0:00:04\n",
      "   --------- ------------------------------ 71.7/307.7 kB 63.5 kB/s eta 0:00:04\n",
      "   --------- ------------------------------ 71.7/307.7 kB 63.5 kB/s eta 0:00:04\n",
      "   --------- ------------------------------ 71.7/307.7 kB 63.5 kB/s eta 0:00:04\n",
      "   ----------- ---------------------------- 92.2/307.7 kB 51.9 kB/s eta 0:00:05\n",
      "   ----------- ---------------------------- 92.2/307.7 kB 51.9 kB/s eta 0:00:05\n",
      "   ----------- ---------------------------- 92.2/307.7 kB 51.9 kB/s eta 0:00:05\n",
      "   ----------- ---------------------------- 92.2/307.7 kB 51.9 kB/s eta 0:00:05\n",
      "   ----------- ---------------------------- 92.2/307.7 kB 51.9 kB/s eta 0:00:05\n",
      "   ----------- ---------------------------- 92.2/307.7 kB 51.9 kB/s eta 0:00:05\n",
      "   ----------- ---------------------------- 92.2/307.7 kB 51.9 kB/s eta 0:00:05\n",
      "   ----------- ---------------------------- 92.2/307.7 kB 51.9 kB/s eta 0:00:05\n",
      "   ----------- ---------------------------- 92.2/307.7 kB 51.9 kB/s eta 0:00:05\n",
      "   ----------- ---------------------------- 92.2/307.7 kB 51.9 kB/s eta 0:00:05\n",
      "   ----------- ---------------------------- 92.2/307.7 kB 51.9 kB/s eta 0:00:05\n",
      "   ----------- ---------------------------- 92.2/307.7 kB 51.9 kB/s eta 0:00:05\n",
      "   ----------- ---------------------------- 92.2/307.7 kB 51.9 kB/s eta 0:00:05\n",
      "   ----------- ---------------------------- 92.2/307.7 kB 51.9 kB/s eta 0:00:05\n",
      "   ----------- ---------------------------- 92.2/307.7 kB 51.9 kB/s eta 0:00:05\n",
      "   -------------- ------------------------ 112.6/307.7 kB 44.3 kB/s eta 0:00:05\n",
      "   -------------- ------------------------ 112.6/307.7 kB 44.3 kB/s eta 0:00:05\n",
      "   -------------- ------------------------ 112.6/307.7 kB 44.3 kB/s eta 0:00:05\n",
      "   -------------- ------------------------ 112.6/307.7 kB 44.3 kB/s eta 0:00:05\n",
      "   --------------- ----------------------- 122.9/307.7 kB 45.1 kB/s eta 0:00:05\n",
      "   --------------- ----------------------- 122.9/307.7 kB 45.1 kB/s eta 0:00:05\n",
      "   --------------- ----------------------- 122.9/307.7 kB 45.1 kB/s eta 0:00:05\n",
      "   --------------- ----------------------- 122.9/307.7 kB 45.1 kB/s eta 0:00:05\n",
      "   --------------- ----------------------- 122.9/307.7 kB 45.1 kB/s eta 0:00:05\n",
      "   --------------- ----------------------- 122.9/307.7 kB 45.1 kB/s eta 0:00:05\n",
      "   --------------- ----------------------- 122.9/307.7 kB 45.1 kB/s eta 0:00:05\n",
      "   ------------------ -------------------- 143.4/307.7 kB 47.1 kB/s eta 0:00:04\n",
      "   ------------------ -------------------- 143.4/307.7 kB 47.1 kB/s eta 0:00:04\n",
      "   ------------------ -------------------- 143.4/307.7 kB 47.1 kB/s eta 0:00:04\n",
      "   ------------------ -------------------- 143.4/307.7 kB 47.1 kB/s eta 0:00:04\n",
      "   ------------------ -------------------- 143.4/307.7 kB 47.1 kB/s eta 0:00:04\n",
      "   ------------------ -------------------- 143.4/307.7 kB 47.1 kB/s eta 0:00:04\n",
      "   ------------------- ------------------- 153.6/307.7 kB 46.6 kB/s eta 0:00:04\n",
      "   ------------------- ------------------- 153.6/307.7 kB 46.6 kB/s eta 0:00:04\n",
      "   ------------------- ------------------- 153.6/307.7 kB 46.6 kB/s eta 0:00:04\n",
      "   ---------------------- ---------------- 174.1/307.7 kB 50.7 kB/s eta 0:00:03\n",
      "   ---------------------- ---------------- 174.1/307.7 kB 50.7 kB/s eta 0:00:03\n",
      "   ---------------------- ---------------- 174.1/307.7 kB 50.7 kB/s eta 0:00:03\n",
      "   ---------------------- ---------------- 174.1/307.7 kB 50.7 kB/s eta 0:00:03\n",
      "   ------------------------ -------------- 194.6/307.7 kB 53.9 kB/s eta 0:00:03\n",
      "   ------------------------ -------------- 194.6/307.7 kB 53.9 kB/s eta 0:00:03\n",
      "   ------------------------ -------------- 194.6/307.7 kB 53.9 kB/s eta 0:00:03\n",
      "   ------------------------- ------------- 204.8/307.7 kB 54.9 kB/s eta 0:00:02\n",
      "   ------------------------- ------------- 204.8/307.7 kB 54.9 kB/s eta 0:00:02\n",
      "   ------------------------- ------------- 204.8/307.7 kB 54.9 kB/s eta 0:00:02\n",
      "   ---------------------------- ---------- 225.3/307.7 kB 58.6 kB/s eta 0:00:02\n",
      "   ---------------------------- ---------- 225.3/307.7 kB 58.6 kB/s eta 0:00:02\n",
      "   ----------------------------- --------- 235.5/307.7 kB 59.8 kB/s eta 0:00:02\n",
      "   ----------------------------- --------- 235.5/307.7 kB 59.8 kB/s eta 0:00:02\n",
      "   ----------------------------- --------- 235.5/307.7 kB 59.8 kB/s eta 0:00:02\n",
      "   ----------------------------- --------- 235.5/307.7 kB 59.8 kB/s eta 0:00:02\n",
      "   ----------------------------- --------- 235.5/307.7 kB 59.8 kB/s eta 0:00:02\n",
      "   ----------------------------- --------- 235.5/307.7 kB 59.8 kB/s eta 0:00:02\n",
      "   -------------------------------- ------ 256.0/307.7 kB 60.0 kB/s eta 0:00:01\n",
      "   -------------------------------- ------ 256.0/307.7 kB 60.0 kB/s eta 0:00:01\n",
      "   -------------------------------- ------ 256.0/307.7 kB 60.0 kB/s eta 0:00:01\n",
      "   -------------------------------- ------ 256.0/307.7 kB 60.0 kB/s eta 0:00:01\n",
      "   -------------------------------- ------ 256.0/307.7 kB 60.0 kB/s eta 0:00:01\n",
      "   -------------------------------- ------ 256.0/307.7 kB 60.0 kB/s eta 0:00:01\n",
      "   ----------------------------------- --- 276.5/307.7 kB 61.1 kB/s eta 0:00:01\n",
      "   ----------------------------------- --- 276.5/307.7 kB 61.1 kB/s eta 0:00:01\n",
      "   ----------------------------------- --- 276.5/307.7 kB 61.1 kB/s eta 0:00:01\n",
      "   ----------------------------------- --- 276.5/307.7 kB 61.1 kB/s eta 0:00:01\n",
      "   ----------------------------------- --- 276.5/307.7 kB 61.1 kB/s eta 0:00:01\n",
      "   ----------------------------------- --- 276.5/307.7 kB 61.1 kB/s eta 0:00:01\n",
      "   ----------------------------------- --- 276.5/307.7 kB 61.1 kB/s eta 0:00:01\n",
      "   ----------------------------------- --- 276.5/307.7 kB 61.1 kB/s eta 0:00:01\n",
      "   ----------------------------------- --- 276.5/307.7 kB 61.1 kB/s eta 0:00:01\n",
      "   ----------------------------------- --- 276.5/307.7 kB 61.1 kB/s eta 0:00:01\n",
      "   ------------------------------------ -- 286.7/307.7 kB 57.5 kB/s eta 0:00:01\n",
      "   ------------------------------------ -- 286.7/307.7 kB 57.5 kB/s eta 0:00:01\n",
      "   ------------------------------------ -- 286.7/307.7 kB 57.5 kB/s eta 0:00:01\n",
      "   ------------------------------------ -- 286.7/307.7 kB 57.5 kB/s eta 0:00:01\n",
      "   --------------------------------------- 307.7/307.7 kB 59.3 kB/s eta 0:00:00\n",
      "Using cached hpack-4.0.0-py3-none-any.whl (32 kB)\n",
      "Using cached hyperframe-6.0.1-py3-none-any.whl (12 kB)\n",
      "Using cached rsa-4.9-py3-none-any.whl (34 kB)\n",
      "Building wheels for collected packages: pendulum\n",
      "  Building wheel for pendulum (pyproject.toml): started\n",
      "  Building wheel for pendulum (pyproject.toml): finished with status 'done'\n",
      "  Created wheel for pendulum: filename=pendulum-2.1.2-cp311-cp311-win_amd64.whl size=109768 sha256=d5035abcfdb8e01132642e5b8e91764f3991cc8e4d235b9a525d14877d889f35\n",
      "  Stored in directory: c:\\users\\sspon\\appdata\\local\\pip\\cache\\wheels\\a4\\b7\\10\\a86f4f49b1bdf8a0cf3da42d48f499e4cb7529ebab7aad3550\n",
      "Successfully built pendulum\n",
      "Installing collected packages: coolname, websockets, ujson, rsa, readchar, pytzdata, python-multipart, orjson, importlib-resources, hyperframe, hpack, h11, griffe, graphviz, dnspython, cachetools, async-timeout, asgi-lifespan, anyio, aiosqlite, uvicorn, typer, pendulum, httpcore, h2, google-auth, email-validator, docker, dateparser, croniter, asyncpg, kubernetes, httpx, apprise, prefect\n",
      "  Attempting uninstall: ujson\n",
      "    Found existing installation: ujson 5.4.0\n",
      "    Uninstalling ujson-5.4.0:\n",
      "      Successfully uninstalled ujson-5.4.0\n",
      "  Attempting uninstall: cachetools\n",
      "    Found existing installation: cachetools 4.2.2\n",
      "    Uninstalling cachetools-4.2.2:\n",
      "      Successfully uninstalled cachetools-4.2.2\n",
      "  Attempting uninstall: anyio\n",
      "    Found existing installation: anyio 4.2.0\n",
      "    Uninstalling anyio-4.2.0:\n",
      "      Successfully uninstalled anyio-4.2.0\n",
      "  Attempting uninstall: docker\n",
      "    Found existing installation: docker 7.0.0\n",
      "    Uninstalling docker-7.0.0:\n",
      "      Successfully uninstalled docker-7.0.0\n",
      "Successfully installed aiosqlite-0.20.0 anyio-3.7.1 apprise-1.7.4 asgi-lifespan-2.1.0 async-timeout-4.0.3 asyncpg-0.29.0 cachetools-5.3.3 coolname-2.2.0 croniter-2.0.3 dateparser-1.2.0 dnspython-2.6.1 docker-6.1.3 email-validator-2.1.1 google-auth-2.29.0 graphviz-0.20.3 griffe-0.42.1 h11-0.14.0 h2-4.1.0 hpack-4.0.0 httpcore-1.0.5 httpx-0.27.0 hyperframe-6.0.1 importlib-resources-6.1.3 kubernetes-29.0.0 orjson-3.10.0 pendulum-2.1.2 prefect-2.16.6 python-multipart-0.0.9 pytzdata-2020.1 readchar-4.0.6 rsa-4.9 typer-0.11.0 ujson-5.9.0 uvicorn-0.29.0 websockets-12.0\n",
      "Note: you may need to restart the kernel to use updated packages.\n"
     ]
    }
   ],
   "source": [
    "pip install prefect"
   ]
  },
  {
   "cell_type": "code",
   "execution_count": 29,
   "metadata": {},
   "outputs": [],
   "source": [
    "df=pd.read_csv('data.csv')\n",
    "df.dropna(inplace=True)"
   ]
  },
  {
   "cell_type": "code",
   "execution_count": 32,
   "metadata": {},
   "outputs": [
    {
     "name": "stderr",
     "output_type": "stream",
     "text": [
      "c:\\Users\\sspon\\anaconda3\\New folder\\Lib\\site-packages\\prefect\\tasks.py:348: UserWarning: A task named 'load_dat' and defined at 'C:\\Users\\sspon\\AppData\\Local\\Temp\\ipykernel_6720\\4101147067.py:14' conflicts with another task. Consider specifying a unique `name` parameter in the task definition:\n",
      "\n",
      " `@task(name='my_unique_name', ...)`\n",
      "  warnings.warn(\n",
      "c:\\Users\\sspon\\anaconda3\\New folder\\Lib\\site-packages\\prefect\\tasks.py:348: UserWarning: A task named 'split_inputs_outpu' and defined at 'C:\\Users\\sspon\\AppData\\Local\\Temp\\ipykernel_6720\\4101147067.py:22' conflicts with another task. Consider specifying a unique `name` parameter in the task definition:\n",
      "\n",
      " `@task(name='my_unique_name', ...)`\n",
      "  warnings.warn(\n",
      "c:\\Users\\sspon\\anaconda3\\New folder\\Lib\\site-packages\\prefect\\tasks.py:348: UserWarning: A task named 'split_train_te' and defined at 'C:\\Users\\sspon\\AppData\\Local\\Temp\\ipykernel_6720\\4101147067.py:32' conflicts with another task. Consider specifying a unique `name` parameter in the task definition:\n",
      "\n",
      " `@task(name='my_unique_name', ...)`\n",
      "  warnings.warn(\n",
      "c:\\Users\\sspon\\anaconda3\\New folder\\Lib\\site-packages\\prefect\\tasks.py:348: UserWarning: A task named 'preprocess_da' and defined at 'C:\\Users\\sspon\\AppData\\Local\\Temp\\ipykernel_6720\\4101147067.py:40' conflicts with another task. Consider specifying a unique `name` parameter in the task definition:\n",
      "\n",
      " `@task(name='my_unique_name', ...)`\n",
      "  warnings.warn(\n",
      "c:\\Users\\sspon\\anaconda3\\New folder\\Lib\\site-packages\\prefect\\tasks.py:348: UserWarning: A task named 'train_mod' and defined at 'C:\\Users\\sspon\\AppData\\Local\\Temp\\ipykernel_6720\\4101147067.py:51' conflicts with another task. Consider specifying a unique `name` parameter in the task definition:\n",
      "\n",
      " `@task(name='my_unique_name', ...)`\n",
      "  warnings.warn(\n",
      "c:\\Users\\sspon\\anaconda3\\New folder\\Lib\\site-packages\\prefect\\tasks.py:348: UserWarning: A task named 'evaluate_mod' and defined at 'C:\\Users\\sspon\\AppData\\Local\\Temp\\ipykernel_6720\\4101147067.py:61' conflicts with another task. Consider specifying a unique `name` parameter in the task definition:\n",
      "\n",
      " `@task(name='my_unique_name', ...)`\n",
      "  warnings.warn(\n",
      "c:\\Users\\sspon\\anaconda3\\New folder\\Lib\\site-packages\\prefect\\tasks.py:348: UserWarning: A task named 'calculate' and defined at 'C:\\Users\\sspon\\AppData\\Local\\Temp\\ipykernel_6720\\4101147067.py:74' conflicts with another task. Consider specifying a unique `name` parameter in the task definition:\n",
      "\n",
      " `@task(name='my_unique_name', ...)`\n",
      "  warnings.warn(\n",
      "c:\\Users\\sspon\\anaconda3\\New folder\\Lib\\site-packages\\prefect\\tasks.py:348: UserWarning: A task named 'preprocess_' and defined at 'C:\\Users\\sspon\\AppData\\Local\\Temp\\ipykernel_6720\\4101147067.py:84' conflicts with another task. Consider specifying a unique `name` parameter in the task definition:\n",
      "\n",
      " `@task(name='my_unique_name', ...)`\n",
      "  warnings.warn(\n",
      "c:\\Users\\sspon\\anaconda3\\New folder\\Lib\\site-packages\\prefect\\flows.py:357: UserWarning: A flow named 'random nb' and defined at 'C:\\Users\\sspon\\AppData\\Local\\Temp\\ipykernel_6720\\4101147067.py:97' conflicts with another flow. Consider specifying a unique `name` parameter in the flow definition:\n",
      "\n",
      " `@flow(name='my_unique_name', ...)`\n",
      "  warnings.warn(\n"
     ]
    },
    {
     "data": {
      "text/html": [
       "<pre style=\"white-space:pre;overflow-x:auto;line-height:normal;font-family:Menlo,'DejaVu Sans Mono',consolas,'Courier New',monospace\">11:57:30.664 | <span style=\"color: #008080; text-decoration-color: #008080\">INFO</span>    | prefect.engine - Created flow run<span style=\"color: #800080; text-decoration-color: #800080\"> 'primitive-jaguarundi'</span> for flow<span style=\"color: #800080; text-decoration-color: #800080; font-weight: bold\"> 'random nb'</span>\n",
       "</pre>\n"
      ],
      "text/plain": [
       "11:57:30.664 | \u001b[36mINFO\u001b[0m    | prefect.engine - Created flow run\u001b[35m 'primitive-jaguarundi'\u001b[0m for flow\u001b[1;35m 'random nb'\u001b[0m\n"
      ]
     },
     "metadata": {},
     "output_type": "display_data"
    },
    {
     "data": {
      "text/html": [
       "<pre style=\"white-space:pre;overflow-x:auto;line-height:normal;font-family:Menlo,'DejaVu Sans Mono',consolas,'Courier New',monospace\">11:57:30.914 | <span style=\"color: #008080; text-decoration-color: #008080\">INFO</span>    | Flow run<span style=\"color: #800080; text-decoration-color: #800080\"> 'primitive-jaguarundi'</span> - Created task run 'load_data1-0' for task 'load_data1'\n",
       "</pre>\n"
      ],
      "text/plain": [
       "11:57:30.914 | \u001b[36mINFO\u001b[0m    | Flow run\u001b[35m 'primitive-jaguarundi'\u001b[0m - Created task run 'load_data1-0' for task 'load_data1'\n"
      ]
     },
     "metadata": {},
     "output_type": "display_data"
    },
    {
     "data": {
      "text/html": [
       "<pre style=\"white-space:pre;overflow-x:auto;line-height:normal;font-family:Menlo,'DejaVu Sans Mono',consolas,'Courier New',monospace\">11:57:30.914 | <span style=\"color: #008080; text-decoration-color: #008080\">INFO</span>    | Flow run<span style=\"color: #800080; text-decoration-color: #800080\"> 'primitive-jaguarundi'</span> - Executing 'load_data1-0' immediately...\n",
       "</pre>\n"
      ],
      "text/plain": [
       "11:57:30.914 | \u001b[36mINFO\u001b[0m    | Flow run\u001b[35m 'primitive-jaguarundi'\u001b[0m - Executing 'load_data1-0' immediately...\n"
      ]
     },
     "metadata": {},
     "output_type": "display_data"
    },
    {
     "data": {
      "text/html": [
       "<pre style=\"white-space:pre;overflow-x:auto;line-height:normal;font-family:Menlo,'DejaVu Sans Mono',consolas,'Courier New',monospace\">11:57:31.231 | <span style=\"color: #008080; text-decoration-color: #008080\">INFO</span>    | Task run 'load_data1-0' - Finished in state <span style=\"color: #008000; text-decoration-color: #008000\">Completed</span>()\n",
       "</pre>\n"
      ],
      "text/plain": [
       "11:57:31.231 | \u001b[36mINFO\u001b[0m    | Task run 'load_data1-0' - Finished in state \u001b[32mCompleted\u001b[0m()\n"
      ]
     },
     "metadata": {},
     "output_type": "display_data"
    },
    {
     "data": {
      "text/html": [
       "<pre style=\"white-space:pre;overflow-x:auto;line-height:normal;font-family:Menlo,'DejaVu Sans Mono',consolas,'Courier New',monospace\">11:57:31.365 | <span style=\"color: #008080; text-decoration-color: #008080\">INFO</span>    | Flow run<span style=\"color: #800080; text-decoration-color: #800080\"> 'primitive-jaguarundi'</span> - Created task run 'calculate-0' for task 'calculate'\n",
       "</pre>\n"
      ],
      "text/plain": [
       "11:57:31.365 | \u001b[36mINFO\u001b[0m    | Flow run\u001b[35m 'primitive-jaguarundi'\u001b[0m - Created task run 'calculate-0' for task 'calculate'\n"
      ]
     },
     "metadata": {},
     "output_type": "display_data"
    },
    {
     "data": {
      "text/html": [
       "<pre style=\"white-space:pre;overflow-x:auto;line-height:normal;font-family:Menlo,'DejaVu Sans Mono',consolas,'Courier New',monospace\">11:57:31.380 | <span style=\"color: #008080; text-decoration-color: #008080\">INFO</span>    | Flow run<span style=\"color: #800080; text-decoration-color: #800080\"> 'primitive-jaguarundi'</span> - Executing 'calculate-0' immediately...\n",
       "</pre>\n"
      ],
      "text/plain": [
       "11:57:31.380 | \u001b[36mINFO\u001b[0m    | Flow run\u001b[35m 'primitive-jaguarundi'\u001b[0m - Executing 'calculate-0' immediately...\n"
      ]
     },
     "metadata": {},
     "output_type": "display_data"
    },
    {
     "data": {
      "text/html": [
       "<pre style=\"white-space:pre;overflow-x:auto;line-height:normal;font-family:Menlo,'DejaVu Sans Mono',consolas,'Courier New',monospace\">11:57:32.311 | <span style=\"color: #008080; text-decoration-color: #008080\">INFO</span>    | Task run 'calculate-0' - Finished in state <span style=\"color: #008000; text-decoration-color: #008000\">Completed</span>()\n",
       "</pre>\n"
      ],
      "text/plain": [
       "11:57:32.311 | \u001b[36mINFO\u001b[0m    | Task run 'calculate-0' - Finished in state \u001b[32mCompleted\u001b[0m()\n"
      ]
     },
     "metadata": {},
     "output_type": "display_data"
    },
    {
     "data": {
      "text/html": [
       "<pre style=\"white-space:pre;overflow-x:auto;line-height:normal;font-family:Menlo,'DejaVu Sans Mono',consolas,'Courier New',monospace\">11:57:32.405 | <span style=\"color: #008080; text-decoration-color: #008080\">INFO</span>    | Flow run<span style=\"color: #800080; text-decoration-color: #800080\"> 'primitive-jaguarundi'</span> - Created task run 'split_train_te-0' for task 'split_train_te'\n",
       "</pre>\n"
      ],
      "text/plain": [
       "11:57:32.405 | \u001b[36mINFO\u001b[0m    | Flow run\u001b[35m 'primitive-jaguarundi'\u001b[0m - Created task run 'split_train_te-0' for task 'split_train_te'\n"
      ]
     },
     "metadata": {},
     "output_type": "display_data"
    },
    {
     "data": {
      "text/html": [
       "<pre style=\"white-space:pre;overflow-x:auto;line-height:normal;font-family:Menlo,'DejaVu Sans Mono',consolas,'Courier New',monospace\">11:57:32.408 | <span style=\"color: #008080; text-decoration-color: #008080\">INFO</span>    | Flow run<span style=\"color: #800080; text-decoration-color: #800080\"> 'primitive-jaguarundi'</span> - Executing 'split_train_te-0' immediately...\n",
       "</pre>\n"
      ],
      "text/plain": [
       "11:57:32.408 | \u001b[36mINFO\u001b[0m    | Flow run\u001b[35m 'primitive-jaguarundi'\u001b[0m - Executing 'split_train_te-0' immediately...\n"
      ]
     },
     "metadata": {},
     "output_type": "display_data"
    },
    {
     "data": {
      "text/html": [
       "<pre style=\"white-space:pre;overflow-x:auto;line-height:normal;font-family:Menlo,'DejaVu Sans Mono',consolas,'Courier New',monospace\">11:57:32.760 | <span style=\"color: #008080; text-decoration-color: #008080\">INFO</span>    | Task run 'split_train_te-0' - Finished in state <span style=\"color: #008000; text-decoration-color: #008000\">Completed</span>()\n",
       "</pre>\n"
      ],
      "text/plain": [
       "11:57:32.760 | \u001b[36mINFO\u001b[0m    | Task run 'split_train_te-0' - Finished in state \u001b[32mCompleted\u001b[0m()\n"
      ]
     },
     "metadata": {},
     "output_type": "display_data"
    },
    {
     "data": {
      "text/html": [
       "<pre style=\"white-space:pre;overflow-x:auto;line-height:normal;font-family:Menlo,'DejaVu Sans Mono',consolas,'Courier New',monospace\">11:57:32.979 | <span style=\"color: #008080; text-decoration-color: #008080\">INFO</span>    | Flow run<span style=\"color: #800080; text-decoration-color: #800080\"> 'primitive-jaguarundi'</span> - Created task run 'preprocess_da-0' for task 'preprocess_da'\n",
       "</pre>\n"
      ],
      "text/plain": [
       "11:57:32.979 | \u001b[36mINFO\u001b[0m    | Flow run\u001b[35m 'primitive-jaguarundi'\u001b[0m - Created task run 'preprocess_da-0' for task 'preprocess_da'\n"
      ]
     },
     "metadata": {},
     "output_type": "display_data"
    },
    {
     "data": {
      "text/html": [
       "<pre style=\"white-space:pre;overflow-x:auto;line-height:normal;font-family:Menlo,'DejaVu Sans Mono',consolas,'Courier New',monospace\">11:57:32.988 | <span style=\"color: #008080; text-decoration-color: #008080\">INFO</span>    | Flow run<span style=\"color: #800080; text-decoration-color: #800080\"> 'primitive-jaguarundi'</span> - Executing 'preprocess_da-0' immediately...\n",
       "</pre>\n"
      ],
      "text/plain": [
       "11:57:32.988 | \u001b[36mINFO\u001b[0m    | Flow run\u001b[35m 'primitive-jaguarundi'\u001b[0m - Executing 'preprocess_da-0' immediately...\n"
      ]
     },
     "metadata": {},
     "output_type": "display_data"
    },
    {
     "data": {
      "text/html": [
       "<pre style=\"white-space:pre;overflow-x:auto;line-height:normal;font-family:Menlo,'DejaVu Sans Mono',consolas,'Courier New',monospace\">11:57:33.674 | <span style=\"color: #008080; text-decoration-color: #008080\">INFO</span>    | Task run 'preprocess_da-0' - Finished in state <span style=\"color: #008000; text-decoration-color: #008000\">Completed</span>()\n",
       "</pre>\n"
      ],
      "text/plain": [
       "11:57:33.674 | \u001b[36mINFO\u001b[0m    | Task run 'preprocess_da-0' - Finished in state \u001b[32mCompleted\u001b[0m()\n"
      ]
     },
     "metadata": {},
     "output_type": "display_data"
    },
    {
     "data": {
      "text/html": [
       "<pre style=\"white-space:pre;overflow-x:auto;line-height:normal;font-family:Menlo,'DejaVu Sans Mono',consolas,'Courier New',monospace\">11:57:33.803 | <span style=\"color: #008080; text-decoration-color: #008080\">INFO</span>    | Flow run<span style=\"color: #800080; text-decoration-color: #800080\"> 'primitive-jaguarundi'</span> - Created task run 'train_mod-0' for task 'train_mod'\n",
       "</pre>\n"
      ],
      "text/plain": [
       "11:57:33.803 | \u001b[36mINFO\u001b[0m    | Flow run\u001b[35m 'primitive-jaguarundi'\u001b[0m - Created task run 'train_mod-0' for task 'train_mod'\n"
      ]
     },
     "metadata": {},
     "output_type": "display_data"
    },
    {
     "data": {
      "text/html": [
       "<pre style=\"white-space:pre;overflow-x:auto;line-height:normal;font-family:Menlo,'DejaVu Sans Mono',consolas,'Courier New',monospace\">11:57:33.807 | <span style=\"color: #008080; text-decoration-color: #008080\">INFO</span>    | Flow run<span style=\"color: #800080; text-decoration-color: #800080\"> 'primitive-jaguarundi'</span> - Executing 'train_mod-0' immediately...\n",
       "</pre>\n"
      ],
      "text/plain": [
       "11:57:33.807 | \u001b[36mINFO\u001b[0m    | Flow run\u001b[35m 'primitive-jaguarundi'\u001b[0m - Executing 'train_mod-0' immediately...\n"
      ]
     },
     "metadata": {},
     "output_type": "display_data"
    },
    {
     "data": {
      "text/html": [
       "<pre style=\"white-space:pre;overflow-x:auto;line-height:normal;font-family:Menlo,'DejaVu Sans Mono',consolas,'Courier New',monospace\">11:57:34.041 | <span style=\"color: #008080; text-decoration-color: #008080\">INFO</span>    | Task run 'train_mod-0' - Finished in state <span style=\"color: #008000; text-decoration-color: #008000\">Completed</span>()\n",
       "</pre>\n"
      ],
      "text/plain": [
       "11:57:34.041 | \u001b[36mINFO\u001b[0m    | Task run 'train_mod-0' - Finished in state \u001b[32mCompleted\u001b[0m()\n"
      ]
     },
     "metadata": {},
     "output_type": "display_data"
    },
    {
     "data": {
      "text/html": [
       "<pre style=\"white-space:pre;overflow-x:auto;line-height:normal;font-family:Menlo,'DejaVu Sans Mono',consolas,'Courier New',monospace\">11:57:34.135 | <span style=\"color: #008080; text-decoration-color: #008080\">INFO</span>    | Flow run<span style=\"color: #800080; text-decoration-color: #800080\"> 'primitive-jaguarundi'</span> - Created task run 'evaluate_mod-0' for task 'evaluate_mod'\n",
       "</pre>\n"
      ],
      "text/plain": [
       "11:57:34.135 | \u001b[36mINFO\u001b[0m    | Flow run\u001b[35m 'primitive-jaguarundi'\u001b[0m - Created task run 'evaluate_mod-0' for task 'evaluate_mod'\n"
      ]
     },
     "metadata": {},
     "output_type": "display_data"
    },
    {
     "data": {
      "text/html": [
       "<pre style=\"white-space:pre;overflow-x:auto;line-height:normal;font-family:Menlo,'DejaVu Sans Mono',consolas,'Courier New',monospace\">11:57:34.138 | <span style=\"color: #008080; text-decoration-color: #008080\">INFO</span>    | Flow run<span style=\"color: #800080; text-decoration-color: #800080\"> 'primitive-jaguarundi'</span> - Executing 'evaluate_mod-0' immediately...\n",
       "</pre>\n"
      ],
      "text/plain": [
       "11:57:34.138 | \u001b[36mINFO\u001b[0m    | Flow run\u001b[35m 'primitive-jaguarundi'\u001b[0m - Executing 'evaluate_mod-0' immediately...\n"
      ]
     },
     "metadata": {},
     "output_type": "display_data"
    },
    {
     "data": {
      "text/html": [
       "<pre style=\"white-space:pre;overflow-x:auto;line-height:normal;font-family:Menlo,'DejaVu Sans Mono',consolas,'Courier New',monospace\">11:57:34.356 | <span style=\"color: #008080; text-decoration-color: #008080\">INFO</span>    | Task run 'evaluate_mod-0' - Finished in state <span style=\"color: #008000; text-decoration-color: #008000\">Completed</span>()\n",
       "</pre>\n"
      ],
      "text/plain": [
       "11:57:34.356 | \u001b[36mINFO\u001b[0m    | Task run 'evaluate_mod-0' - Finished in state \u001b[32mCompleted\u001b[0m()\n"
      ]
     },
     "metadata": {},
     "output_type": "display_data"
    },
    {
     "name": "stdout",
     "output_type": "stream",
     "text": [
      "Train Score: 0.8894990847062739\n",
      "Test Score: 0.8622754491017964\n"
     ]
    },
    {
     "data": {
      "text/html": [
       "<pre style=\"white-space:pre;overflow-x:auto;line-height:normal;font-family:Menlo,'DejaVu Sans Mono',consolas,'Courier New',monospace\">11:57:34.493 | <span style=\"color: #008080; text-decoration-color: #008080\">INFO</span>    | Flow run<span style=\"color: #800080; text-decoration-color: #800080\"> 'primitive-jaguarundi'</span> - Finished in state <span style=\"color: #008000; text-decoration-color: #008000\">Completed</span>('All states completed.')\n",
       "</pre>\n"
      ],
      "text/plain": [
       "11:57:34.493 | \u001b[36mINFO\u001b[0m    | Flow run\u001b[35m 'primitive-jaguarundi'\u001b[0m - Finished in state \u001b[32mCompleted\u001b[0m('All states completed.')\n"
      ]
     },
     "metadata": {},
     "output_type": "display_data"
    }
   ],
   "source": [
    "import pandas as pd\n",
    "from sklearn.model_selection import train_test_split\n",
    "from sklearn.feature_extraction.text import TfidfVectorizer\n",
    "from sklearn.preprocessing import LabelEncoder\n",
    "from sklearn import metrics\n",
    "from nltk.corpus import stopwords\n",
    "from prefect import flow, task\n",
    "from sklearn.naive_bayes import MultinomialNB\n",
    "import re\n",
    "from nltk.stem import WordNetLemmatizer\n",
    "lemmatizer=WordNetLemmatizer()\n",
    "la=LabelEncoder()\n",
    "\n",
    "@task\n",
    "def load_dat(file_path):\n",
    "    \"\"\"\n",
    "    Load data from a CSV file.\n",
    "    \"\"\"\n",
    "    return pd.read_csv(file_path)\n",
    "\n",
    "\n",
    "@task\n",
    "def split_inputs_outpu(data, inputs, output):\n",
    "    \"\"\"\n",
    "    Split features and target variables.\n",
    "    \"\"\"\n",
    "    X = data[inputs]\n",
    "    y = data[output]\n",
    "    return X, y\n",
    "\t\n",
    "\n",
    "@task\n",
    "def split_train_te(X, y, test_size=0.25, random_state=0):\n",
    "    \"\"\"\n",
    "    Split data into train and test sets.\n",
    "    \"\"\"\n",
    "    return train_test_split(X, y, test_size=test_size, random_state=random_state)\n",
    "\t\n",
    "\t\n",
    "@task\n",
    "def preprocess_da(X_train, X_test, y_train, y_test):\n",
    "    \"\"\"\n",
    "    Rescale the data.\n",
    "    \"\"\"\n",
    "    tfid=TfidfVectorizer()\n",
    "    X_train_id = tfid.fit_transform(X_train)\n",
    "    X_test_id = tfid.transform(X_test)\n",
    "    return X_train_id, X_test_id, y_train, y_test\n",
    "\t\n",
    "\n",
    "@task\n",
    "def train_mod(X_train_scaled, y_train):\n",
    "    \"\"\"\n",
    "    Training the machine learning model.\n",
    "    \"\"\"\n",
    "    clf = MultinomialNB()\n",
    "    clf.fit(X_train_scaled, y_train)\n",
    "    return clf\n",
    "\t\n",
    "\n",
    "@task\n",
    "def evaluate_mod(model, X_train_scaled, y_train, X_test_scaled, y_test):\n",
    "    \"\"\"\n",
    "    Evaluating the model.\n",
    "    \"\"\"\n",
    "    y_train_pred = model.predict(X_train_scaled)\n",
    "    y_test_pred = model.predict(X_test_scaled)\n",
    "\n",
    "    train_score = metrics.accuracy_score(y_train, y_train_pred)\n",
    "    test_score = metrics.accuracy_score(y_test, y_test_pred)\n",
    "    \n",
    "    return train_score, test_score\n",
    "\n",
    "@task\n",
    "def calculate(ratings):\n",
    "    l=[]\n",
    "    for i in range(len(df['Ratings'])):\n",
    "        if int(df['Ratings'].iloc[i]) >= 4:\n",
    "            l.append('positive')\n",
    "        else:\n",
    "            l.append('negative')\n",
    "    return l\n",
    "\n",
    "@task\n",
    "def preprocess_(text):\n",
    "    text = str(text)\n",
    "    sentence = re.sub(\"[^a-zA-Z]\", \" \", text)\n",
    "    sentence = sentence.lower()\n",
    "    tokens = sentence.split()\n",
    "    tokens = [t for t in tokens if not t in stopwords.words(\"english\")]\n",
    "    tokens = [lemmatizer.lemmatize(word,pos='v') for word in tokens]\n",
    "    demo=pd.Series([\" \".join(tokens), len(tokens)])\n",
    "    return demo[0]\n",
    "\n",
    "\n",
    "# Workflow\n",
    "@flow(name=\"random nb\")\n",
    "def workflow():\n",
    "    DATA_PATH = \"data.csv\"\n",
    "    INPUTS = 'Review text'\n",
    "    OUTPUT = 'Ratings'\n",
    "    parameters = {\n",
    "    'tfidf__max_df': (0.25, 0.5, 0.75),\n",
    "    'tfidf__ngram_range': [(1, 1), (1, 2), (1, 3)],\n",
    "    'nb__alpha': (0.1, 0.5, 1)\n",
    "}\n",
    "    # Load data\n",
    "    sentiment = load_data1(DATA_PATH)\n",
    "\n",
    "    # Identify Inputs and Output\n",
    "    X=df['Review text']\n",
    "    val=calculate(df['Ratings'])\n",
    "    y=la.fit_transform(val)\n",
    "    # Split data into train and test sets\n",
    "    X_train, X_test, y_train, y_test = split_train_te(X, y)\n",
    "\n",
    "    # Preprocess the data\n",
    "    X_train_scaled, X_test_scaled, y_train, y_test = preprocess_da(X_train, X_test, y_train, y_test)\n",
    "\n",
    "    # Build a model\n",
    "    model = train_mod(X_train_scaled, y_train)\n",
    "    \n",
    "    # Evaluation\n",
    "    train_score, test_score = evaluate_mod(model, X_train_scaled, y_train, X_test_scaled, y_test)\n",
    "    \n",
    "    print(\"Train Score:\", train_score)\n",
    "    print(\"Test Score:\", test_score)\n",
    "\n",
    "\n",
    "\n",
    "if __name__ == \"__main__\":\n",
    "    workflow()"
   ]
  },
  {
   "cell_type": "code",
   "execution_count": 7,
   "metadata": {},
   "outputs": [],
   "source": [
    "from prefect import flow, task\n",
    "\n",
    "@task\n",
    "def print_hello(name):\n",
    "    print(f\"Hello {name}!\")\n",
    "\n",
    "@flow(name=\"Hello Flow\")\n",
    "def hello_world(name=\"world\"):\n",
    "    print_hello(name)"
   ]
  },
  {
   "cell_type": "code",
   "execution_count": 15,
   "metadata": {},
   "outputs": [
    {
     "name": "stderr",
     "output_type": "stream",
     "text": [
      "c:\\Users\\sspon\\anaconda3\\New folder\\Lib\\site-packages\\prefect\\flows.py:357: UserWarning: A flow named 'get-repo-info' and defined at 'C:\\Users\\sspon\\AppData\\Local\\Temp\\ipykernel_6720\\961705441.py:5' conflicts with another flow. Consider specifying a unique `name` parameter in the flow definition:\n",
      "\n",
      " `@flow(name='my_unique_name', ...)`\n",
      "  warnings.warn(\n"
     ]
    },
    {
     "data": {
      "text/html": [
       "<pre style=\"white-space:pre;overflow-x:auto;line-height:normal;font-family:Menlo,'DejaVu Sans Mono',consolas,'Courier New',monospace\">11:11:04.286 | <span style=\"color: #008080; text-decoration-color: #008080\">INFO</span>    | prefect.engine - Created flow run<span style=\"color: #800080; text-decoration-color: #800080\"> 'natural-tanuki'</span> for flow<span style=\"color: #800080; text-decoration-color: #800080; font-weight: bold\"> 'get-repo-info'</span>\n",
       "</pre>\n"
      ],
      "text/plain": [
       "11:11:04.286 | \u001b[36mINFO\u001b[0m    | prefect.engine - Created flow run\u001b[35m 'natural-tanuki'\u001b[0m for flow\u001b[1;35m 'get-repo-info'\u001b[0m\n"
      ]
     },
     "metadata": {},
     "output_type": "display_data"
    },
    {
     "name": "stdout",
     "output_type": "stream",
     "text": [
      "PrefectHQ/prefect repository statistics 🤓:\n",
      "Stars 🌠 : 14359\n",
      "Forks 🍴 : 1431\n"
     ]
    },
    {
     "data": {
      "text/html": [
       "<pre style=\"white-space:pre;overflow-x:auto;line-height:normal;font-family:Menlo,'DejaVu Sans Mono',consolas,'Courier New',monospace\">11:11:05.734 | <span style=\"color: #008080; text-decoration-color: #008080\">INFO</span>    | Flow run<span style=\"color: #800080; text-decoration-color: #800080\"> 'natural-tanuki'</span> - Finished in state <span style=\"color: #008000; text-decoration-color: #008000\">Completed</span>()\n",
       "</pre>\n"
      ],
      "text/plain": [
       "11:11:05.734 | \u001b[36mINFO\u001b[0m    | Flow run\u001b[35m 'natural-tanuki'\u001b[0m - Finished in state \u001b[32mCompleted\u001b[0m()\n"
      ]
     },
     "metadata": {},
     "output_type": "display_data"
    }
   ],
   "source": [
    "import httpx\n",
    "from prefect import flow\n",
    "\n",
    "\n",
    "@flow\n",
    "def get_repo_info():\n",
    "    url = \"https://api.github.com/repos/PrefectHQ/prefect\"\n",
    "    response = httpx.get(url)\n",
    "    response.raise_for_status()\n",
    "    repo = response.json()\n",
    "    print(\"PrefectHQ/prefect repository statistics 🤓:\")\n",
    "    print(f\"Stars 🌠 : {repo['stargazers_count']}\")\n",
    "    print(f\"Forks 🍴 : {repo['forks_count']}\")\n",
    "\n",
    "if __name__ == \"__main__\":\n",
    "    get_repo_info()"
   ]
  },
  {
   "cell_type": "code",
   "execution_count": 16,
   "metadata": {},
   "outputs": [
    {
     "data": {
      "text/html": [
       "<pre style=\"white-space:pre;overflow-x:auto;line-height:normal;font-family:Menlo,'DejaVu Sans Mono',consolas,'Courier New',monospace\">11:13:06.546 | <span style=\"color: #008080; text-decoration-color: #008080\">INFO</span>    | prefect.engine - Created flow run<span style=\"color: #800080; text-decoration-color: #800080\"> 'paper-warthog'</span> for flow<span style=\"color: #800080; text-decoration-color: #800080; font-weight: bold\"> 'variable1'</span>\n",
       "</pre>\n"
      ],
      "text/plain": [
       "11:13:06.546 | \u001b[36mINFO\u001b[0m    | prefect.engine - Created flow run\u001b[35m 'paper-warthog'\u001b[0m for flow\u001b[1;35m 'variable1'\u001b[0m\n"
      ]
     },
     "metadata": {},
     "output_type": "display_data"
    },
    {
     "data": {
      "text/html": [
       "<pre style=\"white-space:pre;overflow-x:auto;line-height:normal;font-family:Menlo,'DejaVu Sans Mono',consolas,'Courier New',monospace\">11:13:06.789 | <span style=\"color: #008080; text-decoration-color: #008080\">INFO</span>    | Flow run<span style=\"color: #800080; text-decoration-color: #800080\"> 'paper-warthog'</span> - Created task run 'load_data3-0' for task 'load_data3'\n",
       "</pre>\n"
      ],
      "text/plain": [
       "11:13:06.789 | \u001b[36mINFO\u001b[0m    | Flow run\u001b[35m 'paper-warthog'\u001b[0m - Created task run 'load_data3-0' for task 'load_data3'\n"
      ]
     },
     "metadata": {},
     "output_type": "display_data"
    },
    {
     "data": {
      "text/html": [
       "<pre style=\"white-space:pre;overflow-x:auto;line-height:normal;font-family:Menlo,'DejaVu Sans Mono',consolas,'Courier New',monospace\">11:13:06.789 | <span style=\"color: #008080; text-decoration-color: #008080\">INFO</span>    | Flow run<span style=\"color: #800080; text-decoration-color: #800080\"> 'paper-warthog'</span> - Executing 'load_data3-0' immediately...\n",
       "</pre>\n"
      ],
      "text/plain": [
       "11:13:06.789 | \u001b[36mINFO\u001b[0m    | Flow run\u001b[35m 'paper-warthog'\u001b[0m - Executing 'load_data3-0' immediately...\n"
      ]
     },
     "metadata": {},
     "output_type": "display_data"
    },
    {
     "data": {
      "text/html": [
       "<pre style=\"white-space:pre;overflow-x:auto;line-height:normal;font-family:Menlo,'DejaVu Sans Mono',consolas,'Courier New',monospace\">11:13:07.186 | <span style=\"color: #008080; text-decoration-color: #008080\">INFO</span>    | Task run 'load_data3-0' - Finished in state <span style=\"color: #008000; text-decoration-color: #008000\">Completed</span>()\n",
       "</pre>\n"
      ],
      "text/plain": [
       "11:13:07.186 | \u001b[36mINFO\u001b[0m    | Task run 'load_data3-0' - Finished in state \u001b[32mCompleted\u001b[0m()\n"
      ]
     },
     "metadata": {},
     "output_type": "display_data"
    },
    {
     "data": {
      "text/html": [
       "<pre style=\"white-space:pre;overflow-x:auto;line-height:normal;font-family:Menlo,'DejaVu Sans Mono',consolas,'Courier New',monospace\">11:13:07.314 | <span style=\"color: #008080; text-decoration-color: #008080\">INFO</span>    | Flow run<span style=\"color: #800080; text-decoration-color: #800080\"> 'paper-warthog'</span> - Created task run 'split_inputs_output3-0' for task 'split_inputs_output3'\n",
       "</pre>\n"
      ],
      "text/plain": [
       "11:13:07.314 | \u001b[36mINFO\u001b[0m    | Flow run\u001b[35m 'paper-warthog'\u001b[0m - Created task run 'split_inputs_output3-0' for task 'split_inputs_output3'\n"
      ]
     },
     "metadata": {},
     "output_type": "display_data"
    },
    {
     "data": {
      "text/html": [
       "<pre style=\"white-space:pre;overflow-x:auto;line-height:normal;font-family:Menlo,'DejaVu Sans Mono',consolas,'Courier New',monospace\">11:13:07.319 | <span style=\"color: #008080; text-decoration-color: #008080\">INFO</span>    | Flow run<span style=\"color: #800080; text-decoration-color: #800080\"> 'paper-warthog'</span> - Executing 'split_inputs_output3-0' immediately...\n",
       "</pre>\n"
      ],
      "text/plain": [
       "11:13:07.319 | \u001b[36mINFO\u001b[0m    | Flow run\u001b[35m 'paper-warthog'\u001b[0m - Executing 'split_inputs_output3-0' immediately...\n"
      ]
     },
     "metadata": {},
     "output_type": "display_data"
    },
    {
     "data": {
      "text/html": [
       "<pre style=\"white-space:pre;overflow-x:auto;line-height:normal;font-family:Menlo,'DejaVu Sans Mono',consolas,'Courier New',monospace\">11:13:07.613 | <span style=\"color: #008080; text-decoration-color: #008080\">INFO</span>    | Task run 'split_inputs_output3-0' - Finished in state <span style=\"color: #008000; text-decoration-color: #008000\">Completed</span>()\n",
       "</pre>\n"
      ],
      "text/plain": [
       "11:13:07.613 | \u001b[36mINFO\u001b[0m    | Task run 'split_inputs_output3-0' - Finished in state \u001b[32mCompleted\u001b[0m()\n"
      ]
     },
     "metadata": {},
     "output_type": "display_data"
    },
    {
     "data": {
      "text/html": [
       "<pre style=\"white-space:pre;overflow-x:auto;line-height:normal;font-family:Menlo,'DejaVu Sans Mono',consolas,'Courier New',monospace\">11:13:07.713 | <span style=\"color: #008080; text-decoration-color: #008080\">INFO</span>    | Flow run<span style=\"color: #800080; text-decoration-color: #800080\"> 'paper-warthog'</span> - Created task run 'split_train_test3-0' for task 'split_train_test3'\n",
       "</pre>\n"
      ],
      "text/plain": [
       "11:13:07.713 | \u001b[36mINFO\u001b[0m    | Flow run\u001b[35m 'paper-warthog'\u001b[0m - Created task run 'split_train_test3-0' for task 'split_train_test3'\n"
      ]
     },
     "metadata": {},
     "output_type": "display_data"
    },
    {
     "data": {
      "text/html": [
       "<pre style=\"white-space:pre;overflow-x:auto;line-height:normal;font-family:Menlo,'DejaVu Sans Mono',consolas,'Courier New',monospace\">11:13:07.717 | <span style=\"color: #008080; text-decoration-color: #008080\">INFO</span>    | Flow run<span style=\"color: #800080; text-decoration-color: #800080\"> 'paper-warthog'</span> - Executing 'split_train_test3-0' immediately...\n",
       "</pre>\n"
      ],
      "text/plain": [
       "11:13:07.717 | \u001b[36mINFO\u001b[0m    | Flow run\u001b[35m 'paper-warthog'\u001b[0m - Executing 'split_train_test3-0' immediately...\n"
      ]
     },
     "metadata": {},
     "output_type": "display_data"
    },
    {
     "data": {
      "text/html": [
       "<pre style=\"white-space:pre;overflow-x:auto;line-height:normal;font-family:Menlo,'DejaVu Sans Mono',consolas,'Courier New',monospace\">11:13:07.955 | <span style=\"color: #008080; text-decoration-color: #008080\">INFO</span>    | Task run 'split_train_test3-0' - Finished in state <span style=\"color: #008000; text-decoration-color: #008000\">Completed</span>()\n",
       "</pre>\n"
      ],
      "text/plain": [
       "11:13:07.955 | \u001b[36mINFO\u001b[0m    | Task run 'split_train_test3-0' - Finished in state \u001b[32mCompleted\u001b[0m()\n"
      ]
     },
     "metadata": {},
     "output_type": "display_data"
    },
    {
     "data": {
      "text/html": [
       "<pre style=\"white-space:pre;overflow-x:auto;line-height:normal;font-family:Menlo,'DejaVu Sans Mono',consolas,'Courier New',monospace\">11:13:08.040 | <span style=\"color: #008080; text-decoration-color: #008080\">INFO</span>    | Flow run<span style=\"color: #800080; text-decoration-color: #800080\"> 'paper-warthog'</span> - Created task run 'preprocess_data3-0' for task 'preprocess_data3'\n",
       "</pre>\n"
      ],
      "text/plain": [
       "11:13:08.040 | \u001b[36mINFO\u001b[0m    | Flow run\u001b[35m 'paper-warthog'\u001b[0m - Created task run 'preprocess_data3-0' for task 'preprocess_data3'\n"
      ]
     },
     "metadata": {},
     "output_type": "display_data"
    },
    {
     "data": {
      "text/html": [
       "<pre style=\"white-space:pre;overflow-x:auto;line-height:normal;font-family:Menlo,'DejaVu Sans Mono',consolas,'Courier New',monospace\">11:13:08.044 | <span style=\"color: #008080; text-decoration-color: #008080\">INFO</span>    | Flow run<span style=\"color: #800080; text-decoration-color: #800080\"> 'paper-warthog'</span> - Executing 'preprocess_data3-0' immediately...\n",
       "</pre>\n"
      ],
      "text/plain": [
       "11:13:08.044 | \u001b[36mINFO\u001b[0m    | Flow run\u001b[35m 'paper-warthog'\u001b[0m - Executing 'preprocess_data3-0' immediately...\n"
      ]
     },
     "metadata": {},
     "output_type": "display_data"
    },
    {
     "data": {
      "text/html": [
       "<pre style=\"white-space:pre;overflow-x:auto;line-height:normal;font-family:Menlo,'DejaVu Sans Mono',consolas,'Courier New',monospace\">11:13:08.294 | <span style=\"color: #008080; text-decoration-color: #008080\">INFO</span>    | Task run 'preprocess_data3-0' - Finished in state <span style=\"color: #008000; text-decoration-color: #008000\">Completed</span>()\n",
       "</pre>\n"
      ],
      "text/plain": [
       "11:13:08.294 | \u001b[36mINFO\u001b[0m    | Task run 'preprocess_data3-0' - Finished in state \u001b[32mCompleted\u001b[0m()\n"
      ]
     },
     "metadata": {},
     "output_type": "display_data"
    },
    {
     "data": {
      "text/html": [
       "<pre style=\"white-space:pre;overflow-x:auto;line-height:normal;font-family:Menlo,'DejaVu Sans Mono',consolas,'Courier New',monospace\">11:13:08.399 | <span style=\"color: #008080; text-decoration-color: #008080\">INFO</span>    | Flow run<span style=\"color: #800080; text-decoration-color: #800080\"> 'paper-warthog'</span> - Created task run 'train_model3-0' for task 'train_model3'\n",
       "</pre>\n"
      ],
      "text/plain": [
       "11:13:08.399 | \u001b[36mINFO\u001b[0m    | Flow run\u001b[35m 'paper-warthog'\u001b[0m - Created task run 'train_model3-0' for task 'train_model3'\n"
      ]
     },
     "metadata": {},
     "output_type": "display_data"
    },
    {
     "data": {
      "text/html": [
       "<pre style=\"white-space:pre;overflow-x:auto;line-height:normal;font-family:Menlo,'DejaVu Sans Mono',consolas,'Courier New',monospace\">11:13:08.402 | <span style=\"color: #008080; text-decoration-color: #008080\">INFO</span>    | Flow run<span style=\"color: #800080; text-decoration-color: #800080\"> 'paper-warthog'</span> - Executing 'train_model3-0' immediately...\n",
       "</pre>\n"
      ],
      "text/plain": [
       "11:13:08.402 | \u001b[36mINFO\u001b[0m    | Flow run\u001b[35m 'paper-warthog'\u001b[0m - Executing 'train_model3-0' immediately...\n"
      ]
     },
     "metadata": {},
     "output_type": "display_data"
    },
    {
     "data": {
      "text/html": [
       "<pre style=\"white-space:pre;overflow-x:auto;line-height:normal;font-family:Menlo,'DejaVu Sans Mono',consolas,'Courier New',monospace\">11:13:08.673 | <span style=\"color: #008080; text-decoration-color: #008080\">INFO</span>    | Task run 'train_model3-0' - Finished in state <span style=\"color: #008000; text-decoration-color: #008000\">Completed</span>()\n",
       "</pre>\n"
      ],
      "text/plain": [
       "11:13:08.673 | \u001b[36mINFO\u001b[0m    | Task run 'train_model3-0' - Finished in state \u001b[32mCompleted\u001b[0m()\n"
      ]
     },
     "metadata": {},
     "output_type": "display_data"
    },
    {
     "data": {
      "text/html": [
       "<pre style=\"white-space:pre;overflow-x:auto;line-height:normal;font-family:Menlo,'DejaVu Sans Mono',consolas,'Courier New',monospace\">11:13:08.789 | <span style=\"color: #008080; text-decoration-color: #008080\">INFO</span>    | Flow run<span style=\"color: #800080; text-decoration-color: #800080\"> 'paper-warthog'</span> - Created task run 'evaluate_model3-0' for task 'evaluate_model3'\n",
       "</pre>\n"
      ],
      "text/plain": [
       "11:13:08.789 | \u001b[36mINFO\u001b[0m    | Flow run\u001b[35m 'paper-warthog'\u001b[0m - Created task run 'evaluate_model3-0' for task 'evaluate_model3'\n"
      ]
     },
     "metadata": {},
     "output_type": "display_data"
    },
    {
     "data": {
      "text/html": [
       "<pre style=\"white-space:pre;overflow-x:auto;line-height:normal;font-family:Menlo,'DejaVu Sans Mono',consolas,'Courier New',monospace\">11:13:08.797 | <span style=\"color: #008080; text-decoration-color: #008080\">INFO</span>    | Flow run<span style=\"color: #800080; text-decoration-color: #800080\"> 'paper-warthog'</span> - Executing 'evaluate_model3-0' immediately...\n",
       "</pre>\n"
      ],
      "text/plain": [
       "11:13:08.797 | \u001b[36mINFO\u001b[0m    | Flow run\u001b[35m 'paper-warthog'\u001b[0m - Executing 'evaluate_model3-0' immediately...\n"
      ]
     },
     "metadata": {},
     "output_type": "display_data"
    },
    {
     "data": {
      "text/html": [
       "<pre style=\"white-space:pre;overflow-x:auto;line-height:normal;font-family:Menlo,'DejaVu Sans Mono',consolas,'Courier New',monospace\">11:13:09.230 | <span style=\"color: #008080; text-decoration-color: #008080\">INFO</span>    | Task run 'evaluate_model3-0' - Finished in state <span style=\"color: #008000; text-decoration-color: #008000\">Completed</span>()\n",
       "</pre>\n"
      ],
      "text/plain": [
       "11:13:09.230 | \u001b[36mINFO\u001b[0m    | Task run 'evaluate_model3-0' - Finished in state \u001b[32mCompleted\u001b[0m()\n"
      ]
     },
     "metadata": {},
     "output_type": "display_data"
    },
    {
     "name": "stdout",
     "output_type": "stream",
     "text": [
      "Train Score: 0.9732142857142857\n",
      "Test Score: 0.9736842105263158\n"
     ]
    },
    {
     "data": {
      "text/html": [
       "<pre style=\"white-space:pre;overflow-x:auto;line-height:normal;font-family:Menlo,'DejaVu Sans Mono',consolas,'Courier New',monospace\">11:13:09.337 | <span style=\"color: #008080; text-decoration-color: #008080\">INFO</span>    | Flow run<span style=\"color: #800080; text-decoration-color: #800080\"> 'paper-warthog'</span> - Finished in state <span style=\"color: #008000; text-decoration-color: #008000\">Completed</span>('All states completed.')\n",
       "</pre>\n"
      ],
      "text/plain": [
       "11:13:09.337 | \u001b[36mINFO\u001b[0m    | Flow run\u001b[35m 'paper-warthog'\u001b[0m - Finished in state \u001b[32mCompleted\u001b[0m('All states completed.')\n"
      ]
     },
     "metadata": {},
     "output_type": "display_data"
    }
   ],
   "source": [
    "import pandas as pd\n",
    "from sklearn.model_selection import train_test_split\n",
    "\n",
    "from sklearn.preprocessing import MinMaxScaler\n",
    "from sklearn.neighbors import KNeighborsClassifier\n",
    "\n",
    "from sklearn import metrics\n",
    "\n",
    "from prefect import task, flow\n",
    "\n",
    "@task\n",
    "def load_data3(file_path):\n",
    "    \"\"\"\n",
    "    Load data from a CSV file.\n",
    "    \"\"\"\n",
    "    return pd.read_csv(file_path)\n",
    "\n",
    "\n",
    "@task\n",
    "def split_inputs_output3(data, inputs, output):\n",
    "    \"\"\"\n",
    "    Split features and target variables.\n",
    "    \"\"\"\n",
    "    X = data[inputs]\n",
    "    y = data[output]\n",
    "    return X, y\n",
    "\t\n",
    "\n",
    "@task\n",
    "def split_train_test3(X, y, test_size=0.25, random_state=0):\n",
    "    \"\"\"\n",
    "    Split data into train and test sets.\n",
    "    \"\"\"\n",
    "    return train_test_split(X, y, test_size=test_size, random_state=random_state)\n",
    "\t\n",
    "\t\n",
    "@task\n",
    "def preprocess_data3(X_train, X_test, y_train, y_test):\n",
    "    \"\"\"\n",
    "    Rescale the data.\n",
    "    \"\"\"\n",
    "    scaler = MinMaxScaler()\n",
    "    X_train_scaled = scaler.fit_transform(X_train)\n",
    "    X_test_scaled = scaler.transform(X_test)\n",
    "    return X_train_scaled, X_test_scaled, y_train, y_test\n",
    "\t\n",
    "\n",
    "@task\n",
    "def train_model3(X_train_scaled, y_train, hyperparameters):\n",
    "    \"\"\"\n",
    "    Training the machine learning model.\n",
    "    \"\"\"\n",
    "    clf = KNeighborsClassifier(**hyperparameters)\n",
    "    clf.fit(X_train_scaled, y_train)\n",
    "    return clf\n",
    "\t\n",
    "\n",
    "@task\n",
    "def evaluate_model3(model, X_train_scaled, y_train, X_test_scaled, y_test):\n",
    "    \"\"\"\n",
    "    Evaluating the model.\n",
    "    \"\"\"\n",
    "    y_train_pred = model.predict(X_train_scaled)\n",
    "    y_test_pred = model.predict(X_test_scaled)\n",
    "\n",
    "    train_score = metrics.accuracy_score(y_train, y_train_pred)\n",
    "    test_score = metrics.accuracy_score(y_test, y_test_pred)\n",
    "    \n",
    "    return train_score, test_score\n",
    "\n",
    "\n",
    "# Workflow\n",
    "@flow(name=\"variable1\")\n",
    "def workflow():\n",
    "    DATA_PATH = \"iris.csv\"\n",
    "    INPUTS = ['SepalLengthCm', 'SepalWidthCm', 'PetalLengthCm', 'PetalWidthCm']\n",
    "    OUTPUT = 'Species'\n",
    "    HYPERPARAMETERS = {'n_neighbors': 3, 'p': 2}\n",
    "    \n",
    "    # Load data\n",
    "    iris = load_data3(DATA_PATH)\n",
    "\n",
    "    # Identify Inputs and Output\n",
    "    X, y = split_inputs_output3(iris, INPUTS, OUTPUT)\n",
    "\n",
    "    # Split data into train and test sets\n",
    "    X_train, X_test, y_train, y_test = split_train_test3(X, y)\n",
    "\n",
    "    # Preprocess the data\n",
    "    X_train_scaled, X_test_scaled, y_train, y_test = preprocess_data3(X_train, X_test, y_train, y_test)\n",
    "\n",
    "    # Build a model\n",
    "    model = train_model3(X_train_scaled, y_train, HYPERPARAMETERS)\n",
    "    \n",
    "    # Evaluation\n",
    "    train_score, test_score = evaluate_model3(model, X_train_scaled, y_train, X_test_scaled, y_test)\n",
    "    \n",
    "    print(\"Train Score:\", train_score)\n",
    "    print(\"Test Score:\", test_score)\n",
    "\n",
    "\n",
    "\n",
    "if __name__ == \"__main__\":\n",
    "    workflow()"
   ]
  }
 ],
 "metadata": {
  "kernelspec": {
   "display_name": "base",
   "language": "python",
   "name": "python3"
  },
  "language_info": {
   "codemirror_mode": {
    "name": "ipython",
    "version": 3
   },
   "file_extension": ".py",
   "mimetype": "text/x-python",
   "name": "python",
   "nbconvert_exporter": "python",
   "pygments_lexer": "ipython3",
   "version": "3.11.7"
  }
 },
 "nbformat": 4,
 "nbformat_minor": 2
}
